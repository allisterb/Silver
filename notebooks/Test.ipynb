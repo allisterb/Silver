{
 "cells": [
  {
   "cell_type": "code",
   "execution_count": 1,
   "id": "1a995c17",
   "metadata": {
    "vscode": {
     "languageId": "csharp"
    }
   },
   "outputs": [
    {
     "data": {
      "text/html": [
       "\r\n",
       "<div>\r\n",
       "    <div id='dotnet-interactive-this-cell-32372.Microsoft.DotNet.Interactive.Http.HttpPort' style='display: none'>\r\n",
       "        The below script needs to be able to find the current output cell; this is an easy method to get it.\r\n",
       "    </div>\r\n",
       "    <script type='text/javascript'>\r\n",
       "async function probeAddresses(probingAddresses) {\r\n",
       "    function timeout(ms, promise) {\r\n",
       "        return new Promise(function (resolve, reject) {\r\n",
       "            setTimeout(function () {\r\n",
       "                reject(new Error('timeout'))\r\n",
       "            }, ms)\r\n",
       "            promise.then(resolve, reject)\r\n",
       "        })\r\n",
       "    }\r\n",
       "\r\n",
       "    if (Array.isArray(probingAddresses)) {\r\n",
       "        for (let i = 0; i < probingAddresses.length; i++) {\r\n",
       "\r\n",
       "            let rootUrl = probingAddresses[i];\r\n",
       "\r\n",
       "            if (!rootUrl.endsWith('/')) {\r\n",
       "                rootUrl = `${rootUrl}/`;\r\n",
       "            }\r\n",
       "\r\n",
       "            try {\r\n",
       "                let response = await timeout(1000, fetch(`${rootUrl}discovery`, {\r\n",
       "                    method: 'POST',\r\n",
       "                    cache: 'no-cache',\r\n",
       "                    mode: 'cors',\r\n",
       "                    timeout: 1000,\r\n",
       "                    headers: {\r\n",
       "                        'Content-Type': 'text/plain'\r\n",
       "                    },\r\n",
       "                    body: probingAddresses[i]\r\n",
       "                }));\r\n",
       "\r\n",
       "                if (response.status == 200) {\r\n",
       "                    return rootUrl;\r\n",
       "                }\r\n",
       "            }\r\n",
       "            catch (e) { }\r\n",
       "        }\r\n",
       "    }\r\n",
       "}\r\n",
       "\r\n",
       "function loadDotnetInteractiveApi() {\r\n",
       "    probeAddresses([\"http://192.168.56.1:1000/\", \"http://192.168.169.1:1000/\", \"http://192.168.128.1:1000/\", \"http://192.168.1.190:1000/\", \"http://127.0.0.1:1000/\"])\r\n",
       "        .then((root) => {\r\n",
       "        // use probing to find host url and api resources\r\n",
       "        // load interactive helpers and language services\r\n",
       "        let dotnetInteractiveRequire = require.config({\r\n",
       "        context: '32372.Microsoft.DotNet.Interactive.Http.HttpPort',\r\n",
       "                paths:\r\n",
       "            {\r\n",
       "                'dotnet-interactive': `${root}resources`\r\n",
       "                }\r\n",
       "        }) || require;\r\n",
       "\r\n",
       "            window.dotnetInteractiveRequire = dotnetInteractiveRequire;\r\n",
       "\r\n",
       "            window.configureRequireFromExtension = function(extensionName, extensionCacheBuster) {\r\n",
       "                let paths = {};\r\n",
       "                paths[extensionName] = `${root}extensions/${extensionName}/resources/`;\r\n",
       "                \r\n",
       "                let internalRequire = require.config({\r\n",
       "                    context: extensionCacheBuster,\r\n",
       "                    paths: paths,\r\n",
       "                    urlArgs: `cacheBuster=${extensionCacheBuster}`\r\n",
       "                    }) || require;\r\n",
       "\r\n",
       "                return internalRequire\r\n",
       "            };\r\n",
       "        \r\n",
       "            dotnetInteractiveRequire([\r\n",
       "                    'dotnet-interactive/dotnet-interactive'\r\n",
       "                ],\r\n",
       "                function (dotnet) {\r\n",
       "                    dotnet.init(window);\r\n",
       "                },\r\n",
       "                function (error) {\r\n",
       "                    console.log(error);\r\n",
       "                }\r\n",
       "            );\r\n",
       "        })\r\n",
       "        .catch(error => {console.log(error);});\r\n",
       "    }\r\n",
       "\r\n",
       "// ensure `require` is available globally\r\n",
       "if ((typeof(require) !==  typeof(Function)) || (typeof(require.config) !== typeof(Function))) {\r\n",
       "    let require_script = document.createElement('script');\r\n",
       "    require_script.setAttribute('src', 'https://cdnjs.cloudflare.com/ajax/libs/require.js/2.3.6/require.min.js');\r\n",
       "    require_script.setAttribute('type', 'text/javascript');\r\n",
       "    \r\n",
       "    \r\n",
       "    require_script.onload = function() {\r\n",
       "        loadDotnetInteractiveApi();\r\n",
       "    };\r\n",
       "\r\n",
       "    document.getElementsByTagName('head')[0].appendChild(require_script);\r\n",
       "}\r\n",
       "else {\r\n",
       "    loadDotnetInteractiveApi();\r\n",
       "}\r\n",
       "\r\n",
       "    </script>\r\n",
       "</div>"
      ]
     },
     "metadata": {},
     "output_type": "display_data"
    },
    {
     "data": {
      "text/html": [
       "<div><div></div><div></div><div><strong>Installed Packages</strong><ul><li><span>Octokit, 3.0.0</span></li></ul></div></div>"
      ]
     },
     "metadata": {},
     "output_type": "display_data"
    },
    {
     "data": {
      "text/markdown": [
       "Added formatter for AGL graphs using VisJS to .NET Interactive kernel csharp."
      ]
     },
     "metadata": {},
     "output_type": "display_data"
    },
    {
     "data": {
      "text/markdown": [
       "Added formatter for Mermaid language to .NET Interactive kernel csharp."
      ]
     },
     "metadata": {},
     "output_type": "display_data"
    },
    {
     "data": {
      "text/markdown": [
       "Added formatter for DOT language to .NET Interactive kernel csharp."
      ]
     },
     "metadata": {},
     "output_type": "display_data"
    },
    {
     "data": {
      "text/markdown": [
       "Added formatter for VisJS networks to .NET Interactive kernel csharp."
      ]
     },
     "metadata": {},
     "output_type": "display_data"
    },
    {
     "data": {
      "text/html": [
       "<link rel=\"stylesheet\" href=\"https://cdnjs.cloudflare.com/ajax/libs/jstree/3.2.1/themes/default/style.min.css\" />"
      ]
     },
     "metadata": {},
     "output_type": "display_data"
    },
    {
     "data": {
      "text/markdown": [
       "Added formatter for jsTree diagrams to .NET Interactive kernel csharp."
      ]
     },
     "metadata": {},
     "output_type": "display_data"
    },
    {
     "data": {
      "text/html": [
       "<script>\r\n",
       "    //if (!!document.getElementById('shikilib')) {\r\n",
       "        let require_script_9efc5df22aa64007b3d6df50ba397da0 = document.createElement('script');\r\n",
       "        require_script_9efc5df22aa64007b3d6df50ba397da0.setAttribute('src', 'https://unpkg.com/@antfu/shiki@0.5.2/dist/index.unpkg.iife.js');\r\n",
       "        require_script_9efc5df22aa64007b3d6df50ba397da0.setAttribute('type', 'text/javascript');\r\n",
       "        document.getElementsByTagName('head')[0].appendChild(require_script_9efc5df22aa64007b3d6df50ba397da0);\r\n",
       "        let tag_9efc5df22aa64007b3d6df50ba397da0 = document.createElement('span');\r\n",
       "        tag_9efc5df22aa64007b3d6df50ba397da0.setAttribute('id', 'shikilib');\r\n",
       "        document.getElementsByTagName('body')[0].appendChild(tag_9efc5df22aa64007b3d6df50ba397da0);\r\n",
       "    //}\r\n",
       "    </script>\r\n",
       "    "
      ]
     },
     "metadata": {},
     "output_type": "display_data"
    },
    {
     "data": {
      "text/html": [
       "<script>\r\n",
       "    //if (!!document.getElementById('shikirendererlib')) {\r\n",
       "        let require_script_98e0a6387e8243179216fb94a26731d3 = document.createElement('script');\r\n",
       "        require_script_98e0a6387e8243179216fb94a26731d3.setAttribute('src', 'https://unpkg.com/@antfu/shiki-renderer-svg@0.5.2/dist/index.iife.min.js');\r\n",
       "        require_script_98e0a6387e8243179216fb94a26731d3.setAttribute('type', 'text/javascript');\r\n",
       "        document.getElementsByTagName('head')[0].appendChild(require_script_98e0a6387e8243179216fb94a26731d3);\r\n",
       "        let tag_98e0a6387e8243179216fb94a26731d3 = document.createElement('span');\r\n",
       "        tag_98e0a6387e8243179216fb94a26731d3.setAttribute('id', 'shikirendererlib');\r\n",
       "        document.getElementsByTagName('body')[0].appendChild(tag_98e0a6387e8243179216fb94a26731d3);\r\n",
       "    //}\r\n",
       "    </script>\r\n",
       "    "
      ]
     },
     "metadata": {},
     "output_type": "display_data"
    },
    {
     "data": {
      "text/html": [
       "<script>\r\n",
       "    //if (!!document.getElementById('shikilanguageslib')) {\r\n",
       "        let require_script_ef8cca71cd714a99adc92ec27347cb2c = document.createElement('script');\r\n",
       "        require_script_ef8cca71cd714a99adc92ec27347cb2c.setAttribute('src', 'https://dokans3fs-test-1.us-east-1.linodeobjects.com/shikiLanguages.js');\r\n",
       "        require_script_ef8cca71cd714a99adc92ec27347cb2c.setAttribute('type', 'text/javascript');\r\n",
       "        document.getElementsByTagName('head')[0].appendChild(require_script_ef8cca71cd714a99adc92ec27347cb2c);\r\n",
       "        let tag_ef8cca71cd714a99adc92ec27347cb2c = document.createElement('span');\r\n",
       "        tag_ef8cca71cd714a99adc92ec27347cb2c.setAttribute('id', 'shikilanguageslib');\r\n",
       "        document.getElementsByTagName('body')[0].appendChild(tag_ef8cca71cd714a99adc92ec27347cb2c);\r\n",
       "    //}\r\n",
       "    </script>\r\n",
       "    "
      ]
     },
     "metadata": {},
     "output_type": "display_data"
    },
    {
     "data": {
      "text/html": [
       "<script>\r\n",
       "    //if (!!document.getElementById('prismjslib')) {\r\n",
       "        let require_script_b3ce3a72c17546a889c71198af34920b = document.createElement('script');\r\n",
       "        require_script_b3ce3a72c17546a889c71198af34920b.setAttribute('src', 'https://unpkg.com/prismjs@1.29.0/prism.js');\r\n",
       "        require_script_b3ce3a72c17546a889c71198af34920b.setAttribute('type', 'text/javascript');\r\n",
       "        document.getElementsByTagName('head')[0].appendChild(require_script_b3ce3a72c17546a889c71198af34920b);\r\n",
       "        let tag_b3ce3a72c17546a889c71198af34920b = document.createElement('span');\r\n",
       "        tag_b3ce3a72c17546a889c71198af34920b.setAttribute('id', 'prismjslib');\r\n",
       "        document.getElementsByTagName('body')[0].appendChild(tag_b3ce3a72c17546a889c71198af34920b);\r\n",
       "    //}\r\n",
       "    </script>\r\n",
       "    "
      ]
     },
     "metadata": {},
     "output_type": "display_data"
    },
    {
     "data": {
      "text/html": [
       "<script>\r\n",
       "    //if (!!document.getElementById('prismjsautoloaderlib')) {\r\n",
       "        let require_script_058a444fdfae42b0a08c348e59d467a2 = document.createElement('script');\r\n",
       "        require_script_058a444fdfae42b0a08c348e59d467a2.setAttribute('src', 'https://unpkg.com/prismjs@1.29.0/plugins/autoloader/prism-autoloader.min.js');\r\n",
       "        require_script_058a444fdfae42b0a08c348e59d467a2.setAttribute('type', 'text/javascript');\r\n",
       "        document.getElementsByTagName('head')[0].appendChild(require_script_058a444fdfae42b0a08c348e59d467a2);\r\n",
       "        let tag_058a444fdfae42b0a08c348e59d467a2 = document.createElement('span');\r\n",
       "        tag_058a444fdfae42b0a08c348e59d467a2.setAttribute('id', 'prismjsautoloaderlib');\r\n",
       "        document.getElementsByTagName('body')[0].appendChild(tag_058a444fdfae42b0a08c348e59d467a2);\r\n",
       "    //}\r\n",
       "    </script>\r\n",
       "    "
      ]
     },
     "metadata": {},
     "output_type": "display_data"
    },
    {
     "data": {
      "text/html": [
       "<link href=\"https://unpkg.com/prismjs@1.29.0/themes/prism.min.css\" rel=\"stylesheet\" />"
      ]
     },
     "metadata": {},
     "output_type": "display_data"
    },
    {
     "data": {
      "text/markdown": [
       "Added formatter for highlighted code using Shiki and PrismJS to .NET Interactive kernel csharp."
      ]
     },
     "metadata": {},
     "output_type": "display_data"
    }
   ],
   "source": [
    "#load \"DotNetInteractive.csx\"\n",
    "#r \"nuget: Octokit\""
   ]
  },
  {
   "cell_type": "code",
   "execution_count": 2,
   "id": "7725ee91",
   "metadata": {
    "vscode": {
     "languageId": "csharp"
    }
   },
   "outputs": [],
   "source": [
    "using Silver;\n",
    "using Silver.Notebooks;"
   ]
  },
  {
   "cell_type": "code",
   "execution_count": 3,
   "id": "c693148d",
   "metadata": {
    "vscode": {
     "languageId": "csharp"
    }
   },
   "outputs": [
    {
     "name": "stdout",
     "output_type": "stream",
     "text": [
      "[INFO] Get smart contract assembly from Stratis pull request https://github.com/stratisproject/CirrusSmartContracts/pull/31...\n",
      "[WARN] File Stratis.PR547793172.dll exists, overwriting...\n",
      "[INFO] Assembly for Stratis pull request https://api.github.com/repos/stratisproject/CirrusSmartContracts/issues/31 is at Stratis.PR547793172.dll.\n",
      "[INFO] Get smart contract assembly from Stratis pull request https://github.com/stratisproject/CirrusSmartContracts/pull/31 completed in 1247ms.\n",
      "[INFO] Target assembly is Stratis.PR547793172.dll.\n"
     ]
    }
   ],
   "source": [
    "var an = IL.GetAnalyzer(@\"https://github.com/stratisproject/CirrusSmartContracts/pull/31\");"
   ]
  },
  {
   "cell_type": "code",
   "execution_count": 4,
   "id": "4be357d6",
   "metadata": {
    "vscode": {
     "languageId": "csharp"
    }
   },
   "outputs": [
    {
     "name": "stdout",
     "output_type": "stream",
     "text": [
      "[INFO] Analyzing class hierachy...\n",
      "[INFO] Analyzing class hierachy completed in 4ms.\n"
     ]
    },
    {
     "data": {
      "text/html": [
       "<div style=\"background-color:white\">\r\n",
       "<script type=\"text/javascript\">\r\n",
       "loadMermaid_e42754e387e748d0b4dfc61a8af74db5 = () => {\r\n",
       " \r\n",
       "    (require.config({ 'paths': { 'context': '9.1.1', 'mermaidUri' : 'https://cdn.jsdelivr.net/npm/mermaid@9.1.1/dist/mermaid.min', 'urlArgs': 'cacheBuster=67407b5bf3a04d4c8810648ce7689a05' }}) || require)(['mermaidUri'], (mermaid) => {\r\n",
       "\r\n",
       "        let renderTarget = document.getElementById('e42754e387e748d0b4dfc61a8af74db5');\r\n",
       "        mermaid.mermaidAPI.render( \r\n",
       "            'mermaid_e42754e387e748d0b4dfc61a8af74db5', \r\n",
       "            `classDiagram\r\n",
       "class STOContract\r\n",
       "<<contract>> STOContract\r\n",
       "STOContract : +.ctor(smartContractState,owner,tokenType,totalSupply,name,symbol,kycAddress,mapperAddress,salePeriods)\r\n",
       "STOContract : +get_EndBlock()\r\n",
       "STOContract : +get_IsNonFungibleToken()\r\n",
       "STOContract : +get_KYCAddress()\r\n",
       "STOContract : +get_MapperAddress()\r\n",
       "STOContract : +get_Owner()\r\n",
       "STOContract : +get_SaleOpen()\r\n",
       "STOContract : +get_SalePeriods()\r\n",
       "STOContract : +get_TokenAddress()\r\n",
       "STOContract : +get_TokenBalance()\r\n",
       "STOContract : +Invest()\r\n",
       "STOContract : +Receive()\r\n",
       "STOContract : +WithdrawFunds()\r\n",
       "STOContract : +WithdrawTokens()\r\n",
       "STOContract : -ConvertSalePeriodInputs(periods)\r\n",
       "STOContract : -CreateTokenContract(tokenType,totalSupply,name,symbol)\r\n",
       "STOContract : -EnsureKycVerified()\r\n",
       "STOContract : -GetCurrentPeriod()\r\n",
       "STOContract : -GetSaleInfo()\r\n",
       "STOContract : -set_EndBlock(value)\r\n",
       "STOContract : -set_IsNonFungibleToken(value)\r\n",
       "STOContract : -set_KYCAddress(value)\r\n",
       "STOContract : -set_MapperAddress(value)\r\n",
       "STOContract : -set_Owner(value)\r\n",
       "STOContract : -set_SalePeriods(value)\r\n",
       "STOContract : -set_TokenAddress(value)\r\n",
       "STOContract : -set_TokenBalance(value)\r\n",
       "STOContract : -SetPeriods(periods)\r\n",
       "STOContract : -ValidatePeriods(periods)\r\n",
       "class StandardToken\r\n",
       "StandardToken : +.ctor(smartContractState,totalSupply,name,symbol)\r\n",
       "StandardToken : +Allowance(owner,spender)\r\n",
       "StandardToken : +Approve(spender,currentAmount,amount)\r\n",
       "StandardToken : +get_Name()\r\n",
       "StandardToken : +get_Symbol()\r\n",
       "StandardToken : +get_TotalSupply()\r\n",
       "StandardToken : +GetBalance(address)\r\n",
       "StandardToken : +TransferFrom(from,to,amount)\r\n",
       "StandardToken : +TransferTo(to,amount)\r\n",
       "StandardToken : -set_Name(value)\r\n",
       "StandardToken : -set_Symbol(value)\r\n",
       "StandardToken : -set_TotalSupply(value)\r\n",
       "StandardToken : -SetApproval(owner,spender,value)\r\n",
       "StandardToken : -SetBalance(address,value)\r\n",
       "class DividendToken\r\n",
       "DividendToken : +.ctor(state,totalSupply,name,symbol)\r\n",
       "DividendToken : +Allowance(owner,spender)\r\n",
       "DividendToken : +Approve(spender,currentAmount,amount)\r\n",
       "DividendToken : +get_Dividends()\r\n",
       "DividendToken : +get_Name()\r\n",
       "DividendToken : +get_Symbol()\r\n",
       "DividendToken : +get_TotalSupply()\r\n",
       "DividendToken : +GetBalance(address)\r\n",
       "DividendToken : +GetDividends()\r\n",
       "DividendToken : +GetDividends(address)\r\n",
       "DividendToken : +GetTotalDividends()\r\n",
       "DividendToken : +GetTotalDividends(address)\r\n",
       "DividendToken : +Receive()\r\n",
       "DividendToken : +TransferFrom(from,to,amount)\r\n",
       "DividendToken : +TransferTo(to,amount)\r\n",
       "DividendToken : +Withdraw()\r\n",
       "DividendToken : -GetAccount(address)\r\n",
       "DividendToken : -GetWithdrawableDividends(address,account)\r\n",
       "DividendToken : -set_Dividends(value)\r\n",
       "DividendToken : -set_Name(value)\r\n",
       "DividendToken : -set_Symbol(value)\r\n",
       "DividendToken : -set_TotalSupply(value)\r\n",
       "DividendToken : -SetAccount(address,account)\r\n",
       "DividendToken : -SetApproval(owner,spender,value)\r\n",
       "DividendToken : -SetBalance(address,value)\r\n",
       "DividendToken : -TransferTokensFrom(from,to,amount)\r\n",
       "DividendToken : -TransferTokensTo(to,amount)\r\n",
       "DividendToken : -UpdateAccount(address)\r\n",
       "class NonFungibleToken\r\n",
       "NonFungibleToken : +.ctor(state,name,symbol)\r\n",
       "NonFungibleToken : +Approve(approved,tokenId)\r\n",
       "NonFungibleToken : +BalanceOf(owner)\r\n",
       "NonFungibleToken : +Burn(tokenId)\r\n",
       "NonFungibleToken : +EnsureAddressIsNotEmpty(address)\r\n",
       "NonFungibleToken : +get_Name()\r\n",
       "NonFungibleToken : +get_Owner()\r\n",
       "NonFungibleToken : +get_Symbol()\r\n",
       "NonFungibleToken : +get_TotalSupply()\r\n",
       "NonFungibleToken : +GetApproved(tokenId)\r\n",
       "NonFungibleToken : +IsApprovedForAll(owner,operatorAddress)\r\n",
       "NonFungibleToken : +MintAll(address,amount)\r\n",
       "NonFungibleToken : +OwnerOf(tokenId)\r\n",
       "NonFungibleToken : +SafeTransferFrom(from,to,tokenId,data)\r\n",
       "NonFungibleToken : +SafeTransferFrom(from,to,tokenId)\r\n",
       "NonFungibleToken : +SetApprovalForAll(operatorAddress,approved)\r\n",
       "NonFungibleToken : +SupportsInterface(interfaceID)\r\n",
       "NonFungibleToken : +TokenByIndex(index)\r\n",
       "NonFungibleToken : +TokenOfOwnerByIndex(owner,index)\r\n",
       "NonFungibleToken : +TransferFrom(from,to,tokenId)\r\n",
       "NonFungibleToken : +TransferOwnership(owner)\r\n",
       "NonFungibleToken : -AddNFToken(to,tokenId)\r\n",
       "NonFungibleToken : -CanOperate(tokenId)\r\n",
       "NonFungibleToken : -CanTransfer(tokenId)\r\n",
       "NonFungibleToken : -ClearApproval(tokenId)\r\n",
       "NonFungibleToken : -ClearIndexByToken(token)\r\n",
       "NonFungibleToken : -ClearIndexOfOwnerByToken(owner,tokenId)\r\n",
       "NonFungibleToken : -ClearTokenByIndex(index)\r\n",
       "NonFungibleToken : -ClearTokenOfOwnerByIndex(owner,index)\r\n",
       "NonFungibleToken : -EnsureOwnerOnly()\r\n",
       "NonFungibleToken : -get_NextTokenId()\r\n",
       "NonFungibleToken : -GetIdToApproval(id)\r\n",
       "NonFungibleToken : -GetIdToApprovalKey(id)\r\n",
       "NonFungibleToken : -GetIdToOwner(id)\r\n",
       "NonFungibleToken : -GetIdToOwnerKey(id)\r\n",
       "NonFungibleToken : -GetIndexByToken(token)\r\n",
       "NonFungibleToken : -GetIndexByTokenKey(token)\r\n",
       "NonFungibleToken : -GetIndexOfOwnerByToken(owner,tokenId)\r\n",
       "NonFungibleToken : -GetOwnerToNFTokenCount(address)\r\n",
       "NonFungibleToken : -GetOwnerToOperator(owner,operatorAddress)\r\n",
       "NonFungibleToken : -GetSupportedInterfaces(interfaceId)\r\n",
       "NonFungibleToken : -GetTokenByIndex(index)\r\n",
       "NonFungibleToken : -GetTokenByIndexKey(index)\r\n",
       "NonFungibleToken : -GetTokenOfOwnerByIndex(address,index)\r\n",
       "NonFungibleToken : -GetTokenOfOwnerByIndexKey(address,index)\r\n",
       "NonFungibleToken : -IndexOfOwnerByTokenKey(owner,tokenId)\r\n",
       "NonFungibleToken : -LogApproval(owner,approved,tokenId)\r\n",
       "NonFungibleToken : -LogApprovalForAll(owner,operatorAddress,approved)\r\n",
       "NonFungibleToken : -LogTransfer(from,to,tokenId)\r\n",
       "NonFungibleToken : -RemoveNFToken(from,tokenId)\r\n",
       "NonFungibleToken : -SafeTransferFromInternal(from,to,tokenId,data)\r\n",
       "NonFungibleToken : -set_Name(value)\r\n",
       "NonFungibleToken : -set_NextTokenId(value)\r\n",
       "NonFungibleToken : -set_Owner(value)\r\n",
       "NonFungibleToken : -set_Symbol(value)\r\n",
       "NonFungibleToken : -set_TotalSupply(value)\r\n",
       "NonFungibleToken : -SetIdToApproval(id,value)\r\n",
       "NonFungibleToken : -SetIdToOwner(id,value)\r\n",
       "NonFungibleToken : -SetIndexByToken(token,index)\r\n",
       "NonFungibleToken : -SetIndexOfOwnerByToken(owner,tokenId,index)\r\n",
       "NonFungibleToken : -SetOwnerToNFTokenCount(address,value)\r\n",
       "NonFungibleToken : -SetOwnerToOperator(owner,operatorAddress,value)\r\n",
       "NonFungibleToken : -SetSupportedInterfaces(interfaceId,value)\r\n",
       "NonFungibleToken : -SetTokenByIndex(index,token)\r\n",
       "NonFungibleToken : -SetTokenOfOwnerByIndex(owner,index,tokenId)\r\n",
       "NonFungibleToken : -TransferInternal(to,tokenId)\r\n",
       "NonFungibleToken : -ValidNFToken(tokenId)\r\n",
       "class STOContract_SalePeriodInput\r\n",
       "class STOContract_SalePeriod\r\n",
       "class STOContract_SaleInfo\r\n",
       "class STOContract_STOSetupLog\r\n",
       "class STOContract_InvestLog\r\n",
       "class STOContract_Claim\r\n",
       "class StandardToken_TransferLog\r\n",
       "class StandardToken_ApprovalLog\r\n",
       "class DividendToken_Account\r\n",
       "class DividendToken_TransferLog\r\n",
       "class DividendToken_ApprovalLog\r\n",
       "class NonFungibleToken_TransferLog\r\n",
       "class NonFungibleToken_ApprovalLog\r\n",
       "class NonFungibleToken_ApprovalForAllLog\r\n",
       "class NonFungibleToken_OwnershipTransferedLog\r\n",
       "`, \r\n",
       "            g => {\r\n",
       "                renderTarget.innerHTML = g \r\n",
       "            });\r\n",
       "    },\r\n",
       "    (error) => {\r\n",
       "        console.log(error);\r\n",
       "    });\r\n",
       "}\r\n",
       "// ensure `require` is available globally\r\n",
       "if ((typeof(require) !==  typeof(Function)) || (typeof(require.config) !== typeof(Function))) {\r\n",
       "    let require_script = document.createElement('script');\r\n",
       "    require_script.setAttribute('src', 'https://cdnjs.cloudflare.com/ajax/libs/require.js/2.3.6/require.min.js');\r\n",
       "    require_script.setAttribute('type', 'text/javascript');\r\n",
       "    \r\n",
       "    \r\n",
       "    require_script.onload = function() {\r\n",
       "        loadMermaid_e42754e387e748d0b4dfc61a8af74db5();\r\n",
       "    };\r\n",
       "\r\n",
       "    document.getElementsByTagName('head')[0].appendChild(require_script);\r\n",
       "}\r\n",
       "else {\r\n",
       "    loadMermaid_e42754e387e748d0b4dfc61a8af74db5();\r\n",
       "}\r\n",
       "\r\n",
       "</script>\r\n",
       "<div id=\"e42754e387e748d0b4dfc61a8af74db5\"></div>\r\n",
       "</div>\r\n"
      ]
     },
     "execution_count": 4,
     "metadata": {},
     "output_type": "execute_result"
    }
   ],
   "source": [
    "an.GetSummary()"
   ]
  },
  {
   "cell_type": "code",
   "execution_count": 5,
   "id": "81f1488a",
   "metadata": {},
   "outputs": [
    {
     "name": "stdout",
     "output_type": "stream",
     "text": [
      "[INFO] Target assembly is ..\\examples\\DAOContract\\bin\\Debug\\netcoreapp2.1\\DAOContract.dll.\r\n"
     ]
    }
   ],
   "source": [
    "an = IL.GetAnalyzer(@\"..\\examples\\DAOContract\\bin\\Debug\\netcoreapp2.1\\DAOContract.dll\");\n"
   ]
  },
  {
   "cell_type": "code",
   "execution_count": 6,
   "id": "c8f70aa9",
   "metadata": {
    "scrolled": false,
    "vscode": {
     "languageId": "csharp"
    }
   },
   "outputs": [
    {
     "name": "stdout",
     "output_type": "stream",
     "text": [
      "[INFO] Creating call graph for methods in assembly DAOContract.dll...\n",
      "[WARN] The method () was not analyzed.\n",
      "[WARN] The method <Stratis.SmartContracts.Address>() was not analyzed.\n",
      "[WARN] The method <DAOContract.Proposal>() was not analyzed.\n",
      "[WARN] The method <Stratis.SmartContracts.Address>() was not analyzed.\n",
      "[WARN] The method <DAOContract.Proposal>() was not analyzed.\n",
      "[INFO] Creating call graph for methods in assembly DAOContract.dll completed in 41ms.\n"
     ]
    },
    {
     "data": {
      "text/html": [
       "<div>\r\n",
       "<script type=\"text/javascript\">\r\n",
       "loadVisjs_14e361ddc9fe423294c29ed2e51b1239 = () => {\r\n",
       "(require.config({ 'paths': { 'context': '0.0.0', 'visjs' : 'https://visjs.github.io/vis-network/standalone/umd/vis-network.min', 'urlArgs': 'cacheBuster=a5b937bde55a4b708eb6266dd03c7a78' }}) || require)(['visjs'], (visjs) => {\r\n",
       "\r\n",
       "        let container = document.getElementById('14e361ddc9fe423294c29ed2e51b1239');\r\n",
       "        let data = {\r\n",
       "                        nodes: new visjs.DataSet([{\"id\":\"DAOContract.Vote\",\"size\":150,\"label\":\"DAOContract.Vote\",\"color\":{\"background\":\"#ffff00\"},\"shape\":\"box\",\"font\":{\"face\":\"monospace\",\"align\":\"left\"}},{\"id\":\"DAOContract.IsWhitelisted\",\"size\":150,\"label\":\"DAOContract.IsWhitelisted\",\"color\":{\"background\":\"#ffffff00\"},\"shape\":\"box\",\"font\":{\"face\":\"monospace\",\"align\":\"left\"}},{\"id\":\"DAOContract.GetYesVotes\",\"size\":150,\"label\":\"DAOContract.GetYesVotes\",\"color\":{\"background\":\"#ffffff00\"},\"shape\":\"box\",\"font\":{\"face\":\"monospace\",\"align\":\"left\"}},{\"id\":\"DAOContract.SetVote\",\"size\":150,\"label\":\"DAOContract.SetVote\",\"color\":{\"background\":\"#ffffff00\"},\"shape\":\"box\",\"font\":{\"face\":\"monospace\",\"align\":\"left\"}},{\"id\":\"DAOContract.Owner.get\",\"size\":150,\"label\":\"DAOContract.Owner.get\",\"color\":{\"background\":\"#ffffff00\"},\"shape\":\"box\",\"font\":{\"face\":\"monospace\",\"align\":\"left\"}},{\"id\":\"DAOContract.VoteProposal\",\"size\":150,\"label\":\"DAOContract.VoteProposal\",\"color\":{\"background\":\"#ffffff\"},\"shape\":\"box\",\"font\":{\"face\":\"monospace\",\"align\":\"left\"}},{\"id\":\"DAOContract.GetProposal\",\"size\":150,\"label\":\"DAOContract.GetProposal\",\"color\":{\"background\":\"#ffffff00\"},\"shape\":\"box\",\"font\":{\"face\":\"monospace\",\"align\":\"left\"}},{\"id\":\"DAOContract.SetNoVotes\",\"size\":150,\"label\":\"DAOContract.SetNoVotes\",\"color\":{\"background\":\"#ffffff00\"},\"shape\":\"box\",\"font\":{\"face\":\"monospace\",\"align\":\"left\"}},{\"id\":\"DAOContract..ctor\",\"size\":150,\"label\":\"DAOContract..ctor\",\"color\":{\"background\":\"#ffff00\"},\"shape\":\"box\",\"font\":{\"face\":\"monospace\",\"align\":\"left\"}},{\"id\":\"DAOContract.UpdateMinVotingDuration\",\"size\":150,\"label\":\"DAOContract.UpdateMinVotingDuration\",\"color\":{\"background\":\"#ffff00\"},\"shape\":\"box\",\"font\":{\"face\":\"monospace\",\"align\":\"left\"}},{\"id\":\"DAOContract.UpdateMaxVotingDuration\",\"size\":150,\"label\":\"DAOContract.UpdateMaxVotingDuration\",\"color\":{\"background\":\"#ffff00\"},\"shape\":\"box\",\"font\":{\"face\":\"monospace\",\"align\":\"left\"}},{\"id\":\"DAOContract.MinVotingDuration.set\",\"size\":150,\"label\":\"DAOContract.MinVotingDuration.set\",\"color\":{\"background\":\"#ffffff00\"},\"shape\":\"box\",\"font\":{\"face\":\"monospace\",\"align\":\"left\"}},{\"id\":\"DAOContract.LastProposalId.get\",\"size\":150,\"label\":\"DAOContract.LastProposalId.get\",\"color\":{\"background\":\"#ffffff00\"},\"shape\":\"box\",\"font\":{\"face\":\"monospace\",\"align\":\"left\"}},{\"id\":\"DAOContract.SetProposal\",\"size\":150,\"label\":\"DAOContract.SetProposal\",\"color\":{\"background\":\"#ffffff00\"},\"shape\":\"box\",\"font\":{\"face\":\"monospace\",\"align\":\"left\"}},{\"id\":\"DAOContract.BlacklistAddress\",\"size\":150,\"label\":\"DAOContract.BlacklistAddress\",\"color\":{\"background\":\"#ffff00\"},\"shape\":\"box\",\"font\":{\"face\":\"monospace\",\"align\":\"left\"}},{\"id\":\"DAOContract.EnsureNotPayable\",\"size\":150,\"label\":\"DAOContract.EnsureNotPayable\",\"color\":{\"background\":\"#ffffff00\"},\"shape\":\"box\",\"font\":{\"face\":\"monospace\",\"align\":\"left\"}},{\"id\":\"DAOContract.SetIsWhitelisted\",\"size\":150,\"label\":\"DAOContract.SetIsWhitelisted\",\"color\":{\"background\":\"#ffffff00\"},\"shape\":\"box\",\"font\":{\"face\":\"monospace\",\"align\":\"left\"}},{\"id\":\"DAOContract.MaxVotingDuration.set\",\"size\":150,\"label\":\"DAOContract.MaxVotingDuration.set\",\"color\":{\"background\":\"#ffffff00\"},\"shape\":\"box\",\"font\":{\"face\":\"monospace\",\"align\":\"left\"}},{\"id\":\"DAOContract.SetYesVotes\",\"size\":150,\"label\":\"DAOContract.SetYesVotes\",\"color\":{\"background\":\"#ffffff00\"},\"shape\":\"box\",\"font\":{\"face\":\"monospace\",\"align\":\"left\"}},{\"id\":\"DAOContract.WhitelistAddresses\",\"size\":150,\"label\":\"DAOContract.WhitelistAddresses\",\"color\":{\"background\":\"#ffff00\"},\"shape\":\"box\",\"font\":{\"face\":\"monospace\",\"align\":\"left\"}},{\"id\":\"DAOContract.MinQuorum.get\",\"size\":150,\"label\":\"DAOContract.MinQuorum.get\",\"color\":{\"background\":\"#ffffff00\"},\"shape\":\"box\",\"font\":{\"face\":\"monospace\",\"align\":\"left\"}},{\"id\":\"DAOContract.EnsureOwnerOnly\",\"size\":150,\"label\":\"DAOContract.EnsureOwnerOnly\",\"color\":{\"background\":\"#ffffff00\"},\"shape\":\"box\",\"font\":{\"face\":\"monospace\",\"align\":\"left\"}},{\"id\":\"DAOContract.ExecuteProposal\",\"size\":150,\"label\":\"DAOContract.ExecuteProposal\",\"color\":{\"background\":\"#ffffff00\"},\"shape\":\"box\",\"font\":{\"face\":\"monospace\",\"align\":\"left\"}},{\"id\":\"DAOContract.CreateProposal\",\"size\":150,\"label\":\"DAOContract.CreateProposal\",\"color\":{\"background\":\"#ffff00\"},\"shape\":\"box\",\"font\":{\"face\":\"monospace\",\"align\":\"left\"}},{\"id\":\"DAOContract.Deposit\",\"size\":150,\"label\":\"DAOContract.Deposit\",\"color\":{\"background\":\"#ffffff00\"},\"shape\":\"box\",\"font\":{\"face\":\"monospace\",\"align\":\"left\"}},{\"id\":\"DAOContract.WhitelistAddress\",\"size\":150,\"label\":\"DAOContract.WhitelistAddress\",\"color\":{\"background\":\"#ffff00\"},\"shape\":\"box\",\"font\":{\"face\":\"monospace\",\"align\":\"left\"}},{\"id\":\"DAOContract.ToVote\",\"size\":150,\"label\":\"DAOContract.ToVote\",\"color\":{\"background\":\"#ffffff00\"},\"shape\":\"box\",\"font\":{\"face\":\"monospace\",\"align\":\"left\"}},{\"id\":\"DAOContract.GetNoVotes\",\"size\":150,\"label\":\"DAOContract.GetNoVotes\",\"color\":{\"background\":\"#ffffff00\"},\"shape\":\"box\",\"font\":{\"face\":\"monospace\",\"align\":\"left\"}},{\"id\":\"DAOContract.Unvote\",\"size\":150,\"label\":\"DAOContract.Unvote\",\"color\":{\"background\":\"#ffffff\"},\"shape\":\"box\",\"font\":{\"face\":\"monospace\",\"align\":\"left\"}},{\"id\":\"DAOContract.SetVotingDeadline\",\"size\":150,\"label\":\"DAOContract.SetVotingDeadline\",\"color\":{\"background\":\"#ffffff00\"},\"shape\":\"box\",\"font\":{\"face\":\"monospace\",\"align\":\"left\"}},{\"id\":\"DAOContract.MinVotingDuration.get\",\"size\":150,\"label\":\"DAOContract.MinVotingDuration.get\",\"color\":{\"background\":\"#ffffff00\"},\"shape\":\"box\",\"font\":{\"face\":\"monospace\",\"align\":\"left\"}},{\"id\":\"DAOContract.LastProposalId.set\",\"size\":150,\"label\":\"DAOContract.LastProposalId.set\",\"color\":{\"background\":\"#ffffff00\"},\"shape\":\"box\",\"font\":{\"face\":\"monospace\",\"align\":\"left\"}},{\"id\":\"DAOContract.WhitelistedCount.set\",\"size\":150,\"label\":\"DAOContract.WhitelistedCount.set\",\"color\":{\"background\":\"#ffffff00\"},\"shape\":\"box\",\"font\":{\"face\":\"monospace\",\"align\":\"left\"}},{\"id\":\"DAOContract.Owner.set\",\"size\":150,\"label\":\"DAOContract.Owner.set\",\"color\":{\"background\":\"#ffffff00\"},\"shape\":\"box\",\"font\":{\"face\":\"monospace\",\"align\":\"left\"}},{\"id\":\"DAOContract.WhitelistedCount.get\",\"size\":150,\"label\":\"DAOContract.WhitelistedCount.get\",\"color\":{\"background\":\"#ffffff00\"},\"shape\":\"box\",\"font\":{\"face\":\"monospace\",\"align\":\"left\"}},{\"id\":\"DAOContract.GetVote\",\"size\":150,\"label\":\"DAOContract.GetVote\",\"color\":{\"background\":\"#ffffff00\"},\"shape\":\"box\",\"font\":{\"face\":\"monospace\",\"align\":\"left\"}},{\"id\":\"DAOContract.MaxVotingDuration.get\",\"size\":150,\"label\":\"DAOContract.MaxVotingDuration.get\",\"color\":{\"background\":\"#ffffff00\"},\"shape\":\"box\",\"font\":{\"face\":\"monospace\",\"align\":\"left\"}},{\"id\":\"DAOContract.Receive\",\"size\":150,\"label\":\"DAOContract.Receive\",\"color\":{\"background\":\"#ffff00\"},\"shape\":\"box\",\"font\":{\"face\":\"monospace\",\"align\":\"left\"}},{\"id\":\"DAOContract.TransferOwnership\",\"size\":150,\"label\":\"DAOContract.TransferOwnership\",\"color\":{\"background\":\"#ffffff00\"},\"shape\":\"box\",\"font\":{\"face\":\"monospace\",\"align\":\"left\"}},{\"id\":\"DAOContract.GetVotingDeadline\",\"size\":150,\"label\":\"DAOContract.GetVotingDeadline\",\"color\":{\"background\":\"#ffffff00\"},\"shape\":\"box\",\"font\":{\"face\":\"monospace\",\"align\":\"left\"}},{\"id\":\"DAOContract.BlacklistAddresses\",\"size\":150,\"label\":\"DAOContract.BlacklistAddresses\",\"color\":{\"background\":\"#ffff00\"},\"shape\":\"box\",\"font\":{\"face\":\"monospace\",\"align\":\"left\"}}]), \r\n",
       "                        edges: new visjs.DataSet([{\"from\":\"DAOContract.Vote\",\"to\":\"DAOContract.GetVotingDeadline\"},{\"from\":\"DAOContract.Vote\",\"to\":\"DAOContract.ToVote\"},{\"from\":\"DAOContract.Vote\",\"to\":\"DAOContract.VoteProposal\"},{\"from\":\"DAOContract.Vote\",\"to\":\"DAOContract.IsWhitelisted\"},{\"from\":\"DAOContract.Vote\",\"to\":\"DAOContract.EnsureNotPayable\"},{\"from\":\"DAOContract.VoteProposal\",\"to\":\"DAOContract.SetVote\"},{\"from\":\"DAOContract.VoteProposal\",\"to\":\"DAOContract.GetNoVotes\"},{\"from\":\"DAOContract.VoteProposal\",\"to\":\"DAOContract.GetYesVotes\"},{\"from\":\"DAOContract.VoteProposal\",\"to\":\"DAOContract.SetNoVotes\"},{\"from\":\"DAOContract.VoteProposal\",\"to\":\"DAOContract.SetYesVotes\"},{\"from\":\"DAOContract.VoteProposal\",\"to\":\"DAOContract.Unvote\"},{\"from\":\"DAOContract.VoteProposal\",\"to\":\"DAOContract.GetVote\"},{\"from\":\"DAOContract..ctor\",\"to\":\"DAOContract.MaxVotingDuration.set\"},{\"from\":\"DAOContract..ctor\",\"to\":\"DAOContract.Owner.set\"},{\"from\":\"DAOContract..ctor\",\"to\":\"DAOContract.MinVotingDuration.set\"},{\"from\":\"DAOContract..ctor\",\"to\":\"DAOContract.LastProposalId.set\"},{\"from\":\"DAOContract.UpdateMinVotingDuration\",\"to\":\"DAOContract.MaxVotingDuration.get\"},{\"from\":\"DAOContract.UpdateMinVotingDuration\",\"to\":\"DAOContract.EnsureOwnerOnly\"},{\"from\":\"DAOContract.UpdateMinVotingDuration\",\"to\":\"DAOContract.MinVotingDuration.set\"},{\"from\":\"DAOContract.UpdateMaxVotingDuration\",\"to\":\"DAOContract.MaxVotingDuration.set\"},{\"from\":\"DAOContract.UpdateMaxVotingDuration\",\"to\":\"DAOContract.MinVotingDuration.get\"},{\"from\":\"DAOContract.UpdateMaxVotingDuration\",\"to\":\"DAOContract.EnsureOwnerOnly\"},{\"from\":\"DAOContract.BlacklistAddress\",\"to\":\"DAOContract.WhitelistedCount.get\"},{\"from\":\"DAOContract.BlacklistAddress\",\"to\":\"DAOContract.EnsureOwnerOnly\"},{\"from\":\"DAOContract.BlacklistAddress\",\"to\":\"DAOContract.SetIsWhitelisted\"},{\"from\":\"DAOContract.BlacklistAddress\",\"to\":\"DAOContract.WhitelistedCount.set\"},{\"from\":\"DAOContract.BlacklistAddress\",\"to\":\"DAOContract.IsWhitelisted\"},{\"from\":\"DAOContract.WhitelistAddresses\",\"to\":\"DAOContract.WhitelistedCount.get\"},{\"from\":\"DAOContract.WhitelistAddresses\",\"to\":\"DAOContract.EnsureOwnerOnly\"},{\"from\":\"DAOContract.WhitelistAddresses\",\"to\":\"DAOContract.SetIsWhitelisted\"},{\"from\":\"DAOContract.WhitelistAddresses\",\"to\":\"DAOContract.WhitelistedCount.set\"},{\"from\":\"DAOContract.WhitelistAddresses\",\"to\":\"DAOContract.IsWhitelisted\"},{\"from\":\"DAOContract.MinQuorum.get\",\"to\":\"DAOContract.WhitelistedCount.get\"},{\"from\":\"DAOContract.EnsureOwnerOnly\",\"to\":\"DAOContract.Owner.get\"},{\"from\":\"DAOContract.ExecuteProposal\",\"to\":\"DAOContract.GetVotingDeadline\"},{\"from\":\"DAOContract.ExecuteProposal\",\"to\":\"DAOContract.MinQuorum.get\"},{\"from\":\"DAOContract.ExecuteProposal\",\"to\":\"DAOContract.GetNoVotes\"},{\"from\":\"DAOContract.ExecuteProposal\",\"to\":\"DAOContract.GetYesVotes\"},{\"from\":\"DAOContract.ExecuteProposal\",\"to\":\"DAOContract.GetProposal\"},{\"from\":\"DAOContract.ExecuteProposal\",\"to\":\"DAOContract.SetProposal\"},{\"from\":\"DAOContract.ExecuteProposal\",\"to\":\"DAOContract.EnsureNotPayable\"},{\"from\":\"DAOContract.CreateProposal\",\"to\":\"DAOContract.MaxVotingDuration.get\"},{\"from\":\"DAOContract.CreateProposal\",\"to\":\"DAOContract.MaxVotingDuration.get\"},{\"from\":\"DAOContract.CreateProposal\",\"to\":\"DAOContract.LastProposalId.get\"},{\"from\":\"DAOContract.CreateProposal\",\"to\":\"DAOContract.MinVotingDuration.get\"},{\"from\":\"DAOContract.CreateProposal\",\"to\":\"DAOContract.MinVotingDuration.get\"},{\"from\":\"DAOContract.CreateProposal\",\"to\":\"DAOContract.SetVotingDeadline\"},{\"from\":\"DAOContract.CreateProposal\",\"to\":\"DAOContract.LastProposalId.set\"},{\"from\":\"DAOContract.CreateProposal\",\"to\":\"DAOContract.SetProposal\"},{\"from\":\"DAOContract.CreateProposal\",\"to\":\"DAOContract.EnsureNotPayable\"},{\"from\":\"DAOContract.Deposit\",\"to\":\"DAOContract.EnsureOwnerOnly\"},{\"from\":\"DAOContract.WhitelistAddress\",\"to\":\"DAOContract.WhitelistedCount.get\"},{\"from\":\"DAOContract.WhitelistAddress\",\"to\":\"DAOContract.EnsureOwnerOnly\"},{\"from\":\"DAOContract.WhitelistAddress\",\"to\":\"DAOContract.SetIsWhitelisted\"},{\"from\":\"DAOContract.WhitelistAddress\",\"to\":\"DAOContract.WhitelistedCount.set\"},{\"from\":\"DAOContract.WhitelistAddress\",\"to\":\"DAOContract.IsWhitelisted\"},{\"from\":\"DAOContract.Unvote\",\"to\":\"DAOContract.GetNoVotes\"},{\"from\":\"DAOContract.Unvote\",\"to\":\"DAOContract.GetYesVotes\"},{\"from\":\"DAOContract.Unvote\",\"to\":\"DAOContract.SetNoVotes\"},{\"from\":\"DAOContract.Unvote\",\"to\":\"DAOContract.SetYesVotes\"},{\"from\":\"DAOContract.Receive\",\"to\":\"DAOContract.Deposit\"},{\"from\":\"DAOContract.TransferOwnership\",\"to\":\"DAOContract.Owner.set\"},{\"from\":\"DAOContract.TransferOwnership\",\"to\":\"DAOContract.EnsureOwnerOnly\"},{\"from\":\"DAOContract.BlacklistAddresses\",\"to\":\"DAOContract.WhitelistedCount.get\"},{\"from\":\"DAOContract.BlacklistAddresses\",\"to\":\"DAOContract.EnsureOwnerOnly\"},{\"from\":\"DAOContract.BlacklistAddresses\",\"to\":\"DAOContract.SetIsWhitelisted\"},{\"from\":\"DAOContract.BlacklistAddresses\",\"to\":\"DAOContract.WhitelistedCount.set\"},{\"from\":\"DAOContract.BlacklistAddresses\",\"to\":\"DAOContract.IsWhitelisted\"}])\r\n",
       "                    };\r\n",
       "        let options = {\"autoResize\":false,\"manipulation\":false,\"width\":\"100%\",\"height\":\"600px\",\"layout\":{\"improvedLayout\":true,\"hierarchical\":{\"enabled\":true,\"sortMethod\":\"directed\",\"direction\":\"UD\",\"nodeSpacing\":300,\"levelSeparation\":300}},\"physics\":{\"hierarchicalRepulsion\":{\"nodeDistance\":300,\"avoidOverlap\":1.0}},\"edges\":{\"arrows\":{\"to\":{\"enabled\":true}},\"smooth\":{\"enabled\":true}},\"interaction\":{\"navigationButtons\":true}};\r\n",
       "        let network = new visjs.Network(container, data, options); \r\n",
       "        },\r\n",
       "        (error) => {\r\n",
       "            console.log(error);\r\n",
       "        });\r\n",
       "        }\r\n",
       "// ensure `require` is available globally\r\n",
       "if ((typeof(require) !==  typeof(Function)) || (typeof(require.config) !== typeof(Function))) {\r\n",
       "    let require_script = document.createElement('script');\r\n",
       "    require_script.setAttribute('src', 'https://cdnjs.cloudflare.com/ajax/libs/require.js/2.3.6/require.min.js');\r\n",
       "    require_script.setAttribute('type', 'text/javascript');\r\n",
       "    \r\n",
       "    \r\n",
       "    require_script.onload = function() {\r\n",
       "        loadVisjs_14e361ddc9fe423294c29ed2e51b1239();\r\n",
       "    };\r\n",
       "\r\n",
       "    document.getElementsByTagName('head')[0].appendChild(require_script);\r\n",
       "}\r\n",
       "else {\r\n",
       "    loadVisjs_14e361ddc9fe423294c29ed2e51b1239();\r\n",
       "}\r\n",
       "\r\n",
       "</script>\r\n",
       "<div id=\"14e361ddc9fe423294c29ed2e51b1239\" style=\"height:600px; width:100%\"></div>\r\n",
       "</div>\r\n"
      ]
     },
     "execution_count": 6,
     "metadata": {},
     "output_type": "execute_result"
    }
   ],
   "source": [
    "an.GetCallGraph()"
   ]
  },
  {
   "cell_type": "code",
   "execution_count": null,
   "id": "f0f24ebe",
   "metadata": {
    "scrolled": true,
    "vscode": {
     "languageId": "csharp"
    }
   },
   "outputs": [],
   "source": [
    "an = IL.GetAnalyzer(@\"..\\examples\\DAOContract\\bin\\Debug\\netcoreapp2.1\\DAOContract.dll\");\n",
    "an.GetSummary()"
   ]
  },
  {
   "cell_type": "code",
   "execution_count": 8,
   "id": "e4d3b978",
   "metadata": {
    "vscode": {
     "languageId": "csharp"
    }
   },
   "outputs": [
    {
     "name": "stdout",
     "output_type": "stream",
     "text": [
      "[INFO] Creating control-flow graph for methods in assembly DAOContract.dll...\n",
      "[INFO] Methods are already collected, reusing...\n",
      "[INFO] Created CFG nodes for method DAOContract.TransferOwnership(Stratis.SmartContracts.Address).\n",
      "[INFO] Created CFG nodes for method DAOContract.SetVote(System.UInt32, Stratis.SmartContracts.Address, DAOContract.Votes).\n",
      "[INFO] Created CFG nodes for method DAOContract.MaxVotingDuration.get().\n",
      "[INFO] Created CFG nodes for method DAOContract.ExecuteProposal(System.UInt32).\n",
      "[INFO] Created CFG nodes for method DAOContract.MaxVotingDuration.set(System.UInt32).\n",
      "[INFO] Created CFG nodes for method DAOContract.LastProposalId.get().\n",
      "[INFO] Created CFG nodes for method DAOContract.GetVotingDeadline(System.UInt32).\n",
      "[INFO] Created CFG nodes for method DAOContract.MinQuorum.get().\n",
      "[INFO] Created CFG nodes for method DAOContract.Deposit().\n",
      "[INFO] Created CFG nodes for method DAOContract.Receive().\n",
      "[INFO] Created CFG nodes for method DAOContract.MinVotingDuration.get().\n",
      "[INFO] Created CFG nodes for method DAOContract..ctor(Stratis.SmartContracts.ISmartContractState, System.UInt32).\n",
      "[INFO] Created CFG nodes for method DAOContract.GetNoVotes(System.UInt32).\n",
      "[INFO] Created CFG nodes for method DAOContract.WhitelistedCount.get().\n",
      "[INFO] Created CFG nodes for method DAOContract.BlacklistAddress(Stratis.SmartContracts.Address).\n",
      "[INFO] Created CFG nodes for method DAOContract.WhitelistAddress(Stratis.SmartContracts.Address).\n",
      "[INFO] Created CFG nodes for method DAOContract.Owner.set(Stratis.SmartContracts.Address).\n",
      "[INFO] Created CFG nodes for method DAOContract.BlacklistAddresses(System.Byte[]).\n",
      "[INFO] Created CFG nodes for method DAOContract.GetYesVotes(System.UInt32).\n",
      "[INFO] Created CFG nodes for method DAOContract.EnsureOwnerOnly().\n",
      "[INFO] Created CFG nodes for method DAOContract.ToVote(System.Boolean).\n",
      "[INFO] Created CFG nodes for method DAOContract.GetProposal(System.UInt32).\n",
      "[INFO] Created CFG nodes for method DAOContract.WhitelistAddresses(System.Byte[]).\n",
      "[INFO] Created CFG nodes for method DAOContract.VoteProposal(System.UInt32, DAOContract.Votes).\n",
      "[INFO] Created CFG nodes for method DAOContract.SetIsWhitelisted(Stratis.SmartContracts.Address, System.Boolean).\n",
      "[INFO] Created CFG nodes for method DAOContract.Owner.get().\n",
      "[INFO] Created CFG nodes for method DAOContract.SetNoVotes(System.UInt32, System.UInt32).\n",
      "[INFO] Created CFG nodes for method DAOContract.MinVotingDuration.set(System.UInt32).\n",
      "[INFO] Created CFG nodes for method DAOContract.UpdateMaxVotingDuration(System.UInt32).\n",
      "[INFO] Created CFG nodes for method DAOContract.SetYesVotes(System.UInt32, System.UInt32).\n",
      "[INFO] Created CFG nodes for method DAOContract.SetVotingDeadline(System.UInt32, System.UInt64).\n",
      "[INFO] Created CFG nodes for method DAOContract.LastProposalId.set(System.UInt32).\n",
      "[INFO] Created CFG nodes for method DAOContract.SetProposal(System.UInt32, DAOContract.Proposal).\n",
      "[INFO] Created CFG nodes for method DAOContract.WhitelistedCount.set(System.UInt32).\n",
      "[INFO] Created CFG nodes for method DAOContract.IsWhitelisted(Stratis.SmartContracts.Address).\n",
      "[INFO] Created CFG nodes for method DAOContract.Vote(System.UInt32, System.Boolean).\n",
      "[INFO] Created CFG nodes for method DAOContract.EnsureNotPayable().\n",
      "[INFO] Created CFG nodes for method DAOContract.CreateProposal(Stratis.SmartContracts.Address, System.UInt64, System.UInt32, System.String).\n",
      "[INFO] Created CFG nodes for method DAOContract.UpdateMinVotingDuration(System.UInt32).\n",
      "[INFO] Created CFG nodes for method DAOContract.Unvote(System.UInt32, DAOContract.Votes).\n",
      "[INFO] Created CFG nodes for method DAOContract.GetVote(System.UInt32, Stratis.SmartContracts.Address).\n",
      "[INFO] Creating control-flow graph for methods in assembly DAOContract.dll completed in 31ms.\n"
     ]
    },
    {
     "data": {
      "text/html": [
       "<div>\r\n",
       "<script type=\"text/javascript\">\r\n",
       "loadVisjs_90fd89b8dd004d948468d75ab061d438 = () => {\r\n",
       "(require.config({ 'paths': { 'context': '0.0.0', 'visjs' : 'https://visjs.github.io/vis-network/standalone/umd/vis-network.min', 'urlArgs': 'cacheBuster=a5b937bde55a4b708eb6266dd03c7a78' }}) || require)(['visjs'], (visjs) => {\r\n",
       "\r\n",
       "        let container = document.getElementById('90fd89b8dd004d948468d75ab061d438');\r\n",
       "        let data = {\r\n",
       "                        nodes: new visjs.DataSet([{\"id\":\"DAOContract.TransferOwnership(Stratis.SmartContracts.Address)::2\",\"size\":150,\"label\":\"Node ID: DAOContract.TransferOwnership(Stratis.SmartContracts.Address)::2\\r\\nIL_0000: Nop\\r\\nIL_0001: Ldarg_0\\r\\nIL_0002: Call [method] System.Void DAOContract.EnsureOwnerOnly()\\r\\nIL_0007: Nop\\r\\nIL_0008: Ldarg_0\\r\\nIL_0009: Ldarg_1 newOwner\\r\\nIL_000a: Call [method] System.Void DAOContract.Owner.set(Stratis.SmartContracts.Address)\\r\\nIL_000f: Nop\\r\\nIL_0010: Ret\\r\\n\",\"color\":{\"background\":\"#ffffff\"},\"shape\":\"box\",\"font\":{\"face\":\"monospace\",\"align\":\"left\"}},{\"id\":\"DAOContract.MinQuorum.get()::0\",\"size\":150,\"label\":\"DAOContract.MinQuorum.get()\\r\\nLocation: DAOContract.cs(28:30)-(28:54)\",\"color\":{\"background\":\"#ffff00\"},\"shape\":\"box\",\"font\":{\"face\":\"monospace\",\"align\":\"left\"}},{\"id\":\"DAOContract.ExecuteProposal(System.UInt32)::0\",\"size\":150,\"label\":\"DAOContract.ExecuteProposal(System.UInt32)\\r\\nLocation: DAOContract.cs(159:5)-(159:6)\",\"color\":{\"background\":\"#ffff00\"},\"shape\":\"box\",\"font\":{\"face\":\"monospace\",\"align\":\"left\"}},{\"id\":\"DAOContract.Unvote(System.UInt32, DAOContract.Votes)::6\",\"size\":150,\"label\":\"Node ID: DAOContract.Unvote(System.UInt32, DAOContract.Votes)::6\\r\\nIL_0017: Br_S IL_0041\\r\\n\",\"color\":{\"background\":\"#ffffff\"},\"shape\":\"box\",\"font\":{\"face\":\"monospace\",\"align\":\"left\"}},{\"id\":\"DAOContract.BlacklistAddresses(System.Byte[])::8\",\"size\":150,\"label\":\"Node ID: DAOContract.BlacklistAddresses(System.Byte[])::8\\r\\nIL_005a: Ret\\r\\n\",\"color\":{\"background\":\"#ffffff\"},\"shape\":\"box\",\"font\":{\"face\":\"monospace\",\"align\":\"left\"}},{\"id\":\"DAOContract.SetProposal(System.UInt32, DAOContract.Proposal)::0\",\"size\":150,\"label\":\"DAOContract.SetProposal(System.UInt32, DAOContract.Proposal)\\r\\nLocation: DAOContract.cs(73:64)-(73:111)\",\"color\":{\"background\":\"#ffffff\"},\"shape\":\"box\",\"font\":{\"face\":\"monospace\",\"align\":\"left\"}},{\"id\":\"DAOContract.MinVotingDuration.set(System.UInt32)::0\",\"size\":150,\"label\":\"DAOContract.MinVotingDuration.set(System.UInt32)\\r\\nLocation: DAOContract.cs(39:24)-(39:73)\",\"color\":{\"background\":\"#ffffff\"},\"shape\":\"box\",\"font\":{\"face\":\"monospace\",\"align\":\"left\"}},{\"id\":\"DAOContract.SetVote(System.UInt32, Stratis.SmartContracts.Address, DAOContract.Votes)::0\",\"size\":150,\"label\":\"DAOContract.SetVote(System.UInt32, Stratis.SmartContracts.Address, DAOContract.Votes)\\r\\nLocation: DAOContract.cs(69:75)-(69:134)\",\"color\":{\"background\":\"#ffffff\"},\"shape\":\"box\",\"font\":{\"face\":\"monospace\",\"align\":\"left\"}},{\"id\":\"DAOContract.CreateProposal(Stratis.SmartContracts.Address, System.UInt64, System.UInt32, System.String)::3\",\"size\":150,\"label\":\"Node ID: DAOContract.CreateProposal(Stratis.SmartContracts.Address, System.UInt64, System.UInt32, System.String)::3\\r\\nIL_001d: Ldc_I4_0 0\\r\\n\",\"color\":{\"background\":\"#ffffff\"},\"shape\":\"box\",\"font\":{\"face\":\"monospace\",\"align\":\"left\"}},{\"id\":\"DAOContract.TransferOwnership(Stratis.SmartContracts.Address)::0\",\"size\":150,\"label\":\"DAOContract.TransferOwnership(Stratis.SmartContracts.Address)\\r\\nLocation: DAOContract.cs(244:5)-(244:6)\",\"color\":{\"background\":\"#ffff00\"},\"shape\":\"box\",\"font\":{\"face\":\"monospace\",\"align\":\"left\"}},{\"id\":\"DAOContract.SetVote(System.UInt32, Stratis.SmartContracts.Address, DAOContract.Votes)::2\",\"size\":150,\"label\":\"Node ID: DAOContract.SetVote(System.UInt32, Stratis.SmartContracts.Address, DAOContract.Votes)::2\\r\\nIL_0000: Ldarg_0\\r\\nIL_0001: Call [get] System.Linq.Enumerable+<TakeRangeFromEndIterator>d__245`1[System.Char].State\\r\\nIL_0006: Ldstr \\\"Vote:{0}:{1}\\\"\\r\\nIL_000b: Ldarg_1 proposalId\\r\\nIL_000c: Box System.UInt32\\r\\nIL_0011: Ldarg_2 address\\r\\nIL_0012: Box Stratis.SmartContracts.Address\\r\\nIL_0017: Call [method] System.String System.String.Format(System.String, System.Object, System.Object)\\r\\nIL_001c: Ldarg_3 vote\\r\\nIL_001d: Callvirt [method] System.Void Stratis.SmartContracts.IPersistentState.SetUInt32(System.String, System.UInt32)\\r\\nIL_0022: Nop\\r\\nIL_0023: Ret\\r\\n\",\"color\":{\"background\":\"#ffffff\"},\"shape\":\"box\",\"font\":{\"face\":\"monospace\",\"align\":\"left\"}},{\"id\":\"DAOContract.SetIsWhitelisted(Stratis.SmartContracts.Address, System.Boolean)::0\",\"size\":150,\"label\":\"DAOContract.SetIsWhitelisted(Stratis.SmartContracts.Address, System.Boolean)\\r\\nLocation: DAOContract.cs(56:69)-(56:117)\",\"color\":{\"background\":\"#ffffff\"},\"shape\":\"box\",\"font\":{\"face\":\"monospace\",\"align\":\"left\"}},{\"id\":\"DAOContract.Unvote(System.UInt32, DAOContract.Votes)::3\",\"size\":150,\"label\":\"Node ID: DAOContract.Unvote(System.UInt32, DAOContract.Votes)::3\\r\\nIL_003f: Br_S IL_0041\\r\\n\",\"color\":{\"background\":\"#ffffff\"},\"shape\":\"box\",\"font\":{\"face\":\"monospace\",\"align\":\"left\"}},{\"id\":\"DAOContract.SetYesVotes(System.UInt32, System.UInt32)::0\",\"size\":150,\"label\":\"DAOContract.SetYesVotes(System.UInt32, System.UInt32)\\r\\nLocation: DAOContract.cs(63:62)-(63:110)\",\"color\":{\"background\":\"#ffffff\"},\"shape\":\"box\",\"font\":{\"face\":\"monospace\",\"align\":\"left\"}},{\"id\":\"DAOContract.EnsureNotPayable()::2\",\"size\":150,\"label\":\"Node ID: DAOContract.EnsureNotPayable()::2\\r\\nIL_0000: Ldarg_0\\r\\nIL_0001: Ldarg_0\\r\\nIL_0002: Call [get] System.Linq.Enumerable+<TakeRangeFromEndIterator>d__245`1[System.Char].Message\\r\\nIL_0007: Callvirt [get] System.Linq.Enumerable+<TakeRangeFromEndIterator>d__245`1[System.Char].Value\\r\\nIL_000c: Ldc_I4_0 0\\r\\nIL_000d: Conv_I8\\r\\nIL_000e: Ceq\\r\\nIL_0010: Ldstr \\\"The method is not payable.\\\"\\r\\nIL_0015: Call [method] System.Void Stratis.SmartContracts.SmartContract.Assert(System.Boolean, System.String)\\r\\nIL_001a: Nop\\r\\nIL_001b: Ret\\r\\n\",\"color\":{\"background\":\"#ffffff\"},\"shape\":\"box\",\"font\":{\"face\":\"monospace\",\"align\":\"left\"}},{\"id\":\"DAOContract.ExecuteProposal(System.UInt32)::2\",\"size\":150,\"label\":\"Node ID: DAOContract.ExecuteProposal(System.UInt32)::2\\r\\nIL_0000: Nop\\r\\nIL_0001: Ldarg_0\\r\\nIL_0002: Call [method] System.Void DAOContract.EnsureNotPayable()\\r\\nIL_0007: Nop\\r\\nIL_0008: Ldarg_0\\r\\nIL_0009: Ldarg_1 proposalId\\r\\nIL_000a: Call [method] DAOContract.Proposal DAOContract.GetProposal(System.UInt32)\\r\\nIL_000f: Stloc_0 local_0\\r\\nIL_0010: Ldarg_0\\r\\nIL_0011: Ldarg_1 proposalId\\r\\nIL_0012: Call [method] System.UInt32 DAOContract.GetYesVotes(System.UInt32)\\r\\nIL_0017: Stloc_1 local_1\\r\\nIL_0018: Ldarg_0\\r\\nIL_0019: Ldarg_1 proposalId\\r\\nIL_001a: Call [method] System.UInt32 DAOContract.GetNoVotes(System.UInt32)\\r\\nIL_001f: Stloc_2 local_2\\r\\nIL_0020: Ldarg_0\\r\\nIL_0021: Ldloc_1 local_1\\r\\nIL_0022: Ldloc_2 local_2\\r\\nIL_0023: Cgt_Un\\r\\nIL_0025: Ldstr \\\"The proposal voting is not passed.\\\"\\r\\nIL_002a: Call [method] System.Void Stratis.SmartContracts.SmartContract.Assert(System.Boolean, System.String)\\r\\nIL_002f: Nop\\r\\nIL_0030: Ldarg_0\\r\\nIL_0031: Ldloc_1 local_1\\r\\nIL_0032: Ldarg_0\\r\\nIL_0033: Call [method] System.UInt32 DAOContract.MinQuorum.get()\\r\\nIL_0038: Clt_Un\\r\\nIL_003a: Ldc_I4_0 0\\r\\nIL_003b: Ceq\\r\\nIL_003d: Ldstr \\\"Min quorum for proposal is not reached.\\\"\\r\\nIL_0042: Call [method] System.Void Stratis.SmartContracts.SmartContract.Assert(System.Boolean, System.String)\\r\\nIL_0047: Nop\\r\\nIL_0048: Ldarg_0\\r\\nIL_0049: Ldloc_0 local_0\\r\\nIL_004a: Ldfld [field] DAOContract.Proposal.Executed\\r\\nIL_004f: Ldc_I4_0 0\\r\\nIL_0050: Ceq\\r\\nIL_0052: Ldstr \\\"The proposal is already executed.\\\"\\r\\nIL_0057: Call [method] System.Void Stratis.SmartContracts.SmartContract.Assert(System.Boolean, System.String)\\r\\nIL_005c: Nop\\r\\nIL_005d: Ldarg_0\\r\\nIL_005e: Ldarg_0\\r\\nIL_005f: Ldarg_1 proposalId\\r\\nIL_0060: Call [method] System.UInt64 DAOContract.GetVotingDeadline(System.UInt32)\\r\\nIL_0065: Ldarg_0\\r\\nIL_0066: Call [get] System.Linq.Enumerable+<TakeRangeFromEndIterator>d__245`1[System.Char].Block\\r\\nIL_006b: Callvirt [get] System.Linq.Enumerable+<TakeRangeFromEndIterator>d__245`1[System.Char].Number\\r\\nIL_0070: Clt_Un\\r\\nIL_0072: Ldstr \\\"Voting is still open for the proposal.\\\"\\r\\nIL_0077: Call [method] System.Void Stratis.SmartContracts.SmartContract.Assert(System.Boolean, System.String)\\r\\nIL_007c: Nop\\r\\nIL_007d: Ldarg_0\\r\\nIL_007e: Ldloc_0 local_0\\r\\nIL_007f: Ldfld [field] DAOContract.Proposal.RequestedAmount\\r\\nIL_0084: Ldarg_0\\r\\nIL_0085: Call [get] System.Linq.Enumerable+<TakeRangeFromEndIterator>d__245`1[System.Char].Balance\\r\\nIL_008a: Cgt_Un\\r\\nIL_008c: Ldc_I4_0 0\\r\\nIL_008d: Ceq\\r\\nIL_008f: Ldstr \\\"Insufficient balance.\\\"\\r\\nIL_0094: Call [method] System.Void Stratis.SmartContracts.SmartContract.Assert(System.Boolean, System.String)\\r\\nIL_0099: Nop\\r\\nIL_009a: Ldloca_S local_0\\r\\nIL_009c: Ldc_I4_1 1\\r\\nIL_009d: Stfld [field] DAOContract.Proposal.Executed\\r\\nIL_00a2: Ldarg_0\\r\\nIL_00a3: Ldarg_1 proposalId\\r\\nIL_00a4: Ldloc_0 local_0\\r\\nIL_00a5: Call [method] System.Void DAOContract.SetProposal(System.UInt32, DAOContract.Proposal)\\r\\nIL_00aa: Nop\\r\\nIL_00ab: Ldarg_0\\r\\nIL_00ac: Ldloc_0 local_0\\r\\nIL_00ad: Ldfld [field] DAOContract.Proposal.Recipient\\r\\nIL_00b2: Ldloc_0 local_0\\r\\nIL_00b3: Ldfld [field] DAOContract.Proposal.RequestedAmount\\r\\nIL_00b8: Call [method] Stratis.SmartContracts.ITransferResult Stratis.SmartContracts.SmartContract.Transfer(Stratis.SmartContracts.Address, System.UInt64)\\r\\nIL_00bd: Stloc_3 local_3\\r\\nIL_00be: Ldarg_0\\r\\nIL_00bf: Ldloc_3 local_3\\r\\nIL_00c0: Callvirt [get] System.Linq.Enumerable+<TakeRangeFromEndIterator>d__245`1[System.Char].Success\\r\\nIL_00c5: Ldstr \\\"Transfer failed.\\\"\\r\\nIL_00ca: Call [method] System.Void Stratis.SmartContracts.SmartContract.Assert(System.Boolean, System.String)\\r\\nIL_00cf: Nop\\r\\nIL_00d0: Ret\\r\\n\",\"color\":{\"background\":\"#ffffff\"},\"shape\":\"box\",\"font\":{\"face\":\"monospace\",\"align\":\"left\"}},{\"id\":\"DAOContract.CreateProposal(Stratis.SmartContracts.Address, System.UInt64, System.UInt32, System.String)::4\",\"size\":150,\"label\":\"Node ID: DAOContract.CreateProposal(Stratis.SmartContracts.Address, System.UInt64, System.UInt32, System.String)::4\\r\\nIL_0012: Ldarg_3 votingDuration\\r\\nIL_0013: Ldarg_0\\r\\nIL_0014: Call [method] System.UInt32 DAOContract.MaxVotingDuration.get()\\r\\nIL_0019: Clt_Un\\r\\nIL_001b: Br_S IL_001e\\r\\n\",\"color\":{\"background\":\"#ffffff\"},\"shape\":\"box\",\"font\":{\"face\":\"monospace\",\"align\":\"left\"}},{\"id\":\"DAOContract.VoteProposal(System.UInt32, DAOContract.Votes)::6\",\"size\":150,\"label\":\"Node ID: DAOContract.VoteProposal(System.UInt32, DAOContract.Votes)::6\\r\\nIL_0059: Nop\\r\\nIL_005a: Ldarg_0\\r\\nIL_005b: Ldarg_1 proposalId\\r\\nIL_005c: Ldarg_0\\r\\nIL_005d: Ldarg_1 proposalId\\r\\nIL_005e: Call [method] System.UInt32 DAOContract.GetNoVotes(System.UInt32)\\r\\nIL_0063: Ldc_I4_1 1\\r\\nIL_0064: Add\\r\\nIL_0065: Call [method] System.Void DAOContract.SetNoVotes(System.UInt32, System.UInt32)\\r\\nIL_006a: Nop\\r\\nIL_006b: Nop\\r\\n\",\"color\":{\"background\":\"#ffffff\"},\"shape\":\"box\",\"font\":{\"face\":\"monospace\",\"align\":\"left\"}},{\"id\":\"DAOContract.WhitelistAddresses(System.Byte[])::3\",\"size\":150,\"label\":\"Node ID: DAOContract.WhitelistAddresses(System.Byte[])::3\\r\\nIL_0051: Ldloc_1 local_1\\r\\nIL_0052: Ldloc_0 local_0\\r\\nIL_0053: Ldlen\\r\\nIL_0054: Conv_I4\\r\\nIL_0055: Blt_S IL_001a\\r\\n\",\"color\":{\"background\":\"#ffffff\"},\"shape\":\"box\",\"font\":{\"face\":\"monospace\",\"align\":\"left\"}},{\"id\":\"DAOContract.ToVote(System.Boolean)::4\",\"size\":150,\"label\":\"Node ID: DAOContract.ToVote(System.Boolean)::4\\r\\nIL_0003: Ldc_I4_1 1\\r\\nIL_0004: Br_S IL_0007\\r\\n\",\"color\":{\"background\":\"#ffffff\"},\"shape\":\"box\",\"font\":{\"face\":\"monospace\",\"align\":\"left\"}},{\"id\":\"DAOContract.GetYesVotes(System.UInt32)::0\",\"size\":150,\"label\":\"DAOContract.GetYesVotes(System.UInt32)\\r\\nLocation: DAOContract.cs(62:49)-(62:90)\",\"color\":{\"background\":\"#ffff00\"},\"shape\":\"box\",\"font\":{\"face\":\"monospace\",\"align\":\"left\"}},{\"id\":\"DAOContract.BlacklistAddress(Stratis.SmartContracts.Address)::2\",\"size\":150,\"label\":\"Node ID: DAOContract.BlacklistAddress(Stratis.SmartContracts.Address)::2\\r\\nIL_0000: Nop\\r\\nIL_0001: Ldarg_0\\r\\nIL_0002: Call [method] System.Void DAOContract.EnsureOwnerOnly()\\r\\nIL_0007: Nop\\r\\nIL_0008: Ldarg_0\\r\\nIL_0009: Ldarg_1 address\\r\\nIL_000a: Call [method] System.Boolean DAOContract.IsWhitelisted(Stratis.SmartContracts.Address)\\r\\nIL_000f: Ldc_I4_0 0\\r\\nIL_0010: Ceq\\r\\nIL_0012: Stloc_0 local_0\\r\\nIL_0013: Ldloc_0 local_0\\r\\nIL_0014: Brfalse_S IL_0018\\r\\n\",\"color\":{\"background\":\"#ffffff\"},\"shape\":\"box\",\"font\":{\"face\":\"monospace\",\"align\":\"left\"}},{\"id\":\"DAOContract.Unvote(System.UInt32, DAOContract.Votes)::7\",\"size\":150,\"label\":\"Node ID: DAOContract.Unvote(System.UInt32, DAOContract.Votes)::7\\r\\nIL_0041: Ret\\r\\n\",\"color\":{\"background\":\"#ffffff\"},\"shape\":\"box\",\"font\":{\"face\":\"monospace\",\"align\":\"left\"}},{\"id\":\"DAOContract.MinVotingDuration.get()::2\",\"size\":150,\"label\":\"Node ID: DAOContract.MinVotingDuration.get()::2\\r\\nIL_0000: Ldarg_0\\r\\nIL_0001: Call [get] System.Linq.Enumerable+<TakeRangeFromEndIterator>d__245`1[System.Char].State\\r\\nIL_0006: Ldstr \\\"MinVotingDuration\\\"\\r\\nIL_000b: Callvirt [method] System.UInt32 Stratis.SmartContracts.IPersistentState.GetUInt32(System.String)\\r\\nIL_0010: Ret\\r\\n\",\"color\":{\"background\":\"#ffffff\"},\"shape\":\"box\",\"font\":{\"face\":\"monospace\",\"align\":\"left\"}},{\"id\":\"DAOContract.BlacklistAddress(Stratis.SmartContracts.Address)::4\",\"size\":150,\"label\":\"Node ID: DAOContract.BlacklistAddress(Stratis.SmartContracts.Address)::4\\r\\nIL_0016: Br_S IL_0032\\r\\n\",\"color\":{\"background\":\"#ffffff\"},\"shape\":\"box\",\"font\":{\"face\":\"monospace\",\"align\":\"left\"}},{\"id\":\"DAOContract.WhitelistAddresses(System.Byte[])::5\",\"size\":150,\"label\":\"Node ID: DAOContract.WhitelistAddresses(System.Byte[])::5\\r\\nIL_0030: Ldarg_0\\r\\nIL_0031: Ldloc_2 local_2\\r\\nIL_0032: Ldc_I4_1 1\\r\\nIL_0033: Call [method] System.Void DAOContract.SetIsWhitelisted(Stratis.SmartContracts.Address, System.Boolean)\\r\\nIL_0038: Nop\\r\\nIL_0039: Ldarg_0\\r\\nIL_003a: Call [method] System.UInt32 DAOContract.WhitelistedCount.get()\\r\\nIL_003f: Stloc_S local_4\\r\\nIL_0041: Ldarg_0\\r\\nIL_0042: Ldloc_S local_4\\r\\nIL_0044: Ldc_I4_1 1\\r\\nIL_0045: Add\\r\\nIL_0046: Call [method] System.Void DAOContract.WhitelistedCount.set(System.UInt32)\\r\\nIL_004b: Nop\\r\\nIL_004c: Nop\\r\\n\",\"color\":{\"background\":\"#ffffff\"},\"shape\":\"box\",\"font\":{\"face\":\"monospace\",\"align\":\"left\"}},{\"id\":\"DAOContract.VoteProposal(System.UInt32, DAOContract.Votes)::5\",\"size\":150,\"label\":\"Node ID: DAOContract.VoteProposal(System.UInt32, DAOContract.Votes)::5\\r\\nIL_006c: Ret\\r\\n\",\"color\":{\"background\":\"#ffffff\"},\"shape\":\"box\",\"font\":{\"face\":\"monospace\",\"align\":\"left\"}},{\"id\":\"DAOContract.EnsureNotPayable()::0\",\"size\":150,\"label\":\"DAOContract.EnsureNotPayable()\\r\\nLocation: DAOContract.cs(267:40)-(267:96)\",\"color\":{\"background\":\"#ffffff\"},\"shape\":\"box\",\"font\":{\"face\":\"monospace\",\"align\":\"left\"}},{\"id\":\"DAOContract.GetProposal(System.UInt32)::2\",\"size\":150,\"label\":\"Node ID: DAOContract.GetProposal(System.UInt32)::2\\r\\nIL_0000: Ldarg_0\\r\\nIL_0001: Call [get] System.Linq.Enumerable+<TakeRangeFromEndIterator>d__245`1[System.Char].State\\r\\nIL_0006: Ldstr \\\"Proposals:{0}\\\"\\r\\nIL_000b: Ldarg_1 index\\r\\nIL_000c: Box System.UInt32\\r\\nIL_0011: Call [method] System.String System.String.Format(System.String, System.Object)\\r\\nIL_0016: Callvirt [method] DAOContract.Proposal Stratis.SmartContracts.IPersistentState.GetStruct<DAOContract.Proposal>(System.String)\\r\\nIL_001b: Ret\\r\\n\",\"color\":{\"background\":\"#ffffff\"},\"shape\":\"box\",\"font\":{\"face\":\"monospace\",\"align\":\"left\"}},{\"id\":\"DAOContract.CreateProposal(Stratis.SmartContracts.Address, System.UInt64, System.UInt32, System.String)::0\",\"size\":150,\"label\":\"DAOContract.CreateProposal(Stratis.SmartContracts.Address, System.UInt64, System.UInt32, System.String)\\r\\nLocation: DAOContract.cs(79:5)-(79:6)\",\"color\":{\"background\":\"#ffff00\"},\"shape\":\"box\",\"font\":{\"face\":\"monospace\",\"align\":\"left\"}},{\"id\":\"DAOContract.SetNoVotes(System.UInt32, System.UInt32)::2\",\"size\":150,\"label\":\"Node ID: DAOContract.SetNoVotes(System.UInt32, System.UInt32)::2\\r\\nIL_0000: Ldarg_0\\r\\nIL_0001: Call [get] System.Linq.Enumerable+<TakeRangeFromEndIterator>d__245`1[System.Char].State\\r\\nIL_0006: Ldstr \\\"NoVotes:{0}\\\"\\r\\nIL_000b: Ldarg_1 proposalId\\r\\nIL_000c: Box System.UInt32\\r\\nIL_0011: Call [method] System.String System.String.Format(System.String, System.Object)\\r\\nIL_0016: Ldarg_2 value\\r\\nIL_0017: Callvirt [method] System.Void Stratis.SmartContracts.IPersistentState.SetUInt32(System.String, System.UInt32)\\r\\nIL_001c: Nop\\r\\nIL_001d: Ret\\r\\n\",\"color\":{\"background\":\"#ffffff\"},\"shape\":\"box\",\"font\":{\"face\":\"monospace\",\"align\":\"left\"}},{\"id\":\"DAOContract.Unvote(System.UInt32, DAOContract.Votes)::5\",\"size\":150,\"label\":\"Node ID: DAOContract.Unvote(System.UInt32, DAOContract.Votes)::5\\r\\nIL_0019: Ldarg_0\\r\\nIL_001a: Ldarg_1 proposalId\\r\\nIL_001b: Ldarg_0\\r\\nIL_001c: Ldarg_1 proposalId\\r\\nIL_001d: Call [method] System.UInt32 DAOContract.GetYesVotes(System.UInt32)\\r\\nIL_0022: Ldc_I4_1 1\\r\\nIL_0023: Sub\\r\\nIL_0024: Call [method] System.Void DAOContract.SetYesVotes(System.UInt32, System.UInt32)\\r\\nIL_0029: Nop\\r\\nIL_002a: Br_S IL_0041\\r\\n\",\"color\":{\"background\":\"#ffffff\"},\"shape\":\"box\",\"font\":{\"face\":\"monospace\",\"align\":\"left\"}},{\"id\":\"DAOContract.IsWhitelisted(Stratis.SmartContracts.Address)::0\",\"size\":150,\"label\":\"DAOContract.IsWhitelisted(Stratis.SmartContracts.Address)\\r\\nLocation: DAOContract.cs(55:51)-(55:90)\",\"color\":{\"background\":\"#ffff00\"},\"shape\":\"box\",\"font\":{\"face\":\"monospace\",\"align\":\"left\"}},{\"id\":\"DAOContract.WhitelistedCount.get()::0\",\"size\":150,\"label\":\"DAOContract.WhitelistedCount.get()\\r\\nLocation: DAOContract.cs(32:16)-(32:57)\",\"color\":{\"background\":\"#ffff00\"},\"shape\":\"box\",\"font\":{\"face\":\"monospace\",\"align\":\"left\"}},{\"id\":\"DAOContract.CreateProposal(Stratis.SmartContracts.Address, System.UInt64, System.UInt32, System.String)::7\",\"size\":150,\"label\":\"Node ID: DAOContract.CreateProposal(Stratis.SmartContracts.Address, System.UInt64, System.UInt32, System.String)::7\\r\\nIL_0048: Ldc_I4_0 0\\r\\nIL_0049: Br_S IL_0052\\r\\n\",\"color\":{\"background\":\"#ffffff\"},\"shape\":\"box\",\"font\":{\"face\":\"monospace\",\"align\":\"left\"}},{\"id\":\"DAOContract.SetNoVotes(System.UInt32, System.UInt32)::0\",\"size\":150,\"label\":\"DAOContract.SetNoVotes(System.UInt32, System.UInt32)\\r\\nLocation: DAOContract.cs(66:61)-(66:108)\",\"color\":{\"background\":\"#ffffff\"},\"shape\":\"box\",\"font\":{\"face\":\"monospace\",\"align\":\"left\"}},{\"id\":\"DAOContract.Owner.set(Stratis.SmartContracts.Address)::0\",\"size\":150,\"label\":\"DAOContract.Owner.set(Stratis.SmartContracts.Address)\\r\\nLocation: DAOContract.cs(25:24)-(25:62)\",\"color\":{\"background\":\"#ffffff\"},\"shape\":\"box\",\"font\":{\"face\":\"monospace\",\"align\":\"left\"}},{\"id\":\"DAOContract.WhitelistAddresses(System.Byte[])::8\",\"size\":150,\"label\":\"Node ID: DAOContract.WhitelistAddresses(System.Byte[])::8\\r\\nIL_0057: Ret\\r\\n\",\"color\":{\"background\":\"#ffffff\"},\"shape\":\"box\",\"font\":{\"face\":\"monospace\",\"align\":\"left\"}},{\"id\":\"DAOContract.Owner.set(Stratis.SmartContracts.Address)::2\",\"size\":150,\"label\":\"Node ID: DAOContract.Owner.set(Stratis.SmartContracts.Address)::2\\r\\nIL_0000: Ldarg_0\\r\\nIL_0001: Call [get] System.Linq.Enumerable+<TakeRangeFromEndIterator>d__245`1[System.Char].State\\r\\nIL_0006: Ldstr \\\"Owner\\\"\\r\\nIL_000b: Ldarg_1 value\\r\\nIL_000c: Callvirt [method] System.Void Stratis.SmartContracts.IPersistentState.SetAddress(System.String, Stratis.SmartContracts.Address)\\r\\nIL_0011: Nop\\r\\nIL_0012: Ret\\r\\n\",\"color\":{\"background\":\"#ffffff\"},\"shape\":\"box\",\"font\":{\"face\":\"monospace\",\"align\":\"left\"}},{\"id\":\"DAOContract.SetYesVotes(System.UInt32, System.UInt32)::2\",\"size\":150,\"label\":\"Node ID: DAOContract.SetYesVotes(System.UInt32, System.UInt32)::2\\r\\nIL_0000: Ldarg_0\\r\\nIL_0001: Call [get] System.Linq.Enumerable+<TakeRangeFromEndIterator>d__245`1[System.Char].State\\r\\nIL_0006: Ldstr \\\"YesVotes:{0}\\\"\\r\\nIL_000b: Ldarg_1 proposalId\\r\\nIL_000c: Box System.UInt32\\r\\nIL_0011: Call [method] System.String System.String.Format(System.String, System.Object)\\r\\nIL_0016: Ldarg_2 value\\r\\nIL_0017: Callvirt [method] System.Void Stratis.SmartContracts.IPersistentState.SetUInt32(System.String, System.UInt32)\\r\\nIL_001c: Nop\\r\\nIL_001d: Ret\\r\\n\",\"color\":{\"background\":\"#ffffff\"},\"shape\":\"box\",\"font\":{\"face\":\"monospace\",\"align\":\"left\"}},{\"id\":\"DAOContract.SetProposal(System.UInt32, DAOContract.Proposal)::2\",\"size\":150,\"label\":\"Node ID: DAOContract.SetProposal(System.UInt32, DAOContract.Proposal)::2\\r\\nIL_0000: Ldarg_0\\r\\nIL_0001: Call [get] System.Linq.Enumerable+<TakeRangeFromEndIterator>d__245`1[System.Char].State\\r\\nIL_0006: Ldstr \\\"Proposals:{0}\\\"\\r\\nIL_000b: Ldarg_1 index\\r\\nIL_000c: Box System.UInt32\\r\\nIL_0011: Call [method] System.String System.String.Format(System.String, System.Object)\\r\\nIL_0016: Ldarg_2 proposal\\r\\nIL_0017: Callvirt [method] System.Void Stratis.SmartContracts.IPersistentState.SetStruct<DAOContract.Proposal>(System.String, DAOContract.Proposal)\\r\\nIL_001c: Nop\\r\\nIL_001d: Ret\\r\\n\",\"color\":{\"background\":\"#ffffff\"},\"shape\":\"box\",\"font\":{\"face\":\"monospace\",\"align\":\"left\"}},{\"id\":\"DAOContract.WhitelistedCount.set(System.UInt32)::2\",\"size\":150,\"label\":\"Node ID: DAOContract.WhitelistedCount.set(System.UInt32)::2\\r\\nIL_0000: Ldarg_0\\r\\nIL_0001: Call [get] System.Linq.Enumerable+<TakeRangeFromEndIterator>d__245`1[System.Char].State\\r\\nIL_0006: Ldstr \\\"WhitelistedCount\\\"\\r\\nIL_000b: Ldarg_1 value\\r\\nIL_000c: Callvirt [method] System.Void Stratis.SmartContracts.IPersistentState.SetUInt32(System.String, System.UInt32)\\r\\nIL_0011: Nop\\r\\nIL_0012: Ret\\r\\n\",\"color\":{\"background\":\"#ffffff\"},\"shape\":\"box\",\"font\":{\"face\":\"monospace\",\"align\":\"left\"}},{\"id\":\"DAOContract.SetVotingDeadline(System.UInt32, System.UInt64)::2\",\"size\":150,\"label\":\"Node ID: DAOContract.SetVotingDeadline(System.UInt32, System.UInt64)::2\\r\\nIL_0000: Ldarg_0\\r\\nIL_0001: Call [get] System.Linq.Enumerable+<TakeRangeFromEndIterator>d__245`1[System.Char].State\\r\\nIL_0006: Ldstr \\\"Deadline:{0}\\\"\\r\\nIL_000b: Ldarg_1 proposalId\\r\\nIL_000c: Box System.UInt32\\r\\nIL_0011: Call [method] System.String System.String.Format(System.String, System.Object)\\r\\nIL_0016: Ldarg_2 block\\r\\nIL_0017: Callvirt [method] System.Void Stratis.SmartContracts.IPersistentState.SetUInt64(System.String, System.UInt64)\\r\\nIL_001c: Nop\\r\\nIL_001d: Ret\\r\\n\",\"color\":{\"background\":\"#ffffff\"},\"shape\":\"box\",\"font\":{\"face\":\"monospace\",\"align\":\"left\"}},{\"id\":\"DAOContract.WhitelistedCount.set(System.UInt32)::0\",\"size\":150,\"label\":\"DAOContract.WhitelistedCount.set(System.UInt32)\\r\\nLocation: DAOContract.cs(33:24)-(33:72)\",\"color\":{\"background\":\"#ffffff\"},\"shape\":\"box\",\"font\":{\"face\":\"monospace\",\"align\":\"left\"}},{\"id\":\"DAOContract.BlacklistAddresses(System.Byte[])::6\",\"size\":150,\"label\":\"Node ID: DAOContract.BlacklistAddresses(System.Byte[])::6\\r\\nIL_0031: Br_S IL_0050\\r\\n\",\"color\":{\"background\":\"#ffffff\"},\"shape\":\"box\",\"font\":{\"face\":\"monospace\",\"align\":\"left\"}},{\"id\":\"DAOContract.BlacklistAddress(Stratis.SmartContracts.Address)::5\",\"size\":150,\"label\":\"Node ID: DAOContract.BlacklistAddress(Stratis.SmartContracts.Address)::5\\r\\nIL_0032: Ret\\r\\n\",\"color\":{\"background\":\"#ffffff\"},\"shape\":\"box\",\"font\":{\"face\":\"monospace\",\"align\":\"left\"}},{\"id\":\"DAOContract.EnsureOwnerOnly()::0\",\"size\":150,\"label\":\"DAOContract.EnsureOwnerOnly()\\r\\nLocation: DAOContract.cs(266:39)-(266:104)\",\"color\":{\"background\":\"#ffffff\"},\"shape\":\"box\",\"font\":{\"face\":\"monospace\",\"align\":\"left\"}},{\"id\":\"DAOContract.Receive()::0\",\"size\":150,\"label\":\"DAOContract.Receive()\\r\\nLocation: DAOContract.cs(241:39)-(241:48)\",\"color\":{\"background\":\"#ffff00\"},\"shape\":\"box\",\"font\":{\"face\":\"monospace\",\"align\":\"left\"}},{\"id\":\"DAOContract..ctor(Stratis.SmartContracts.ISmartContractState, System.UInt32)::2\",\"size\":150,\"label\":\"Node ID: DAOContract..ctor(Stratis.SmartContracts.ISmartContractState, System.UInt32)::2\\r\\nIL_0000: Ldarg_0\\r\\nIL_0001: Ldarg_1 state\\r\\nIL_0002: Call [method] System.Void Stratis.SmartContracts.SmartContract..ctor(Stratis.SmartContracts.ISmartContractState)\\r\\nIL_0007: Nop\\r\\nIL_0008: Nop\\r\\nIL_0009: Ldarg_0\\r\\nIL_000a: Ldc_I4 37800\\r\\nIL_000f: Ldarg_2 minVotingDuration\\r\\nIL_0010: Cgt_Un\\r\\nIL_0012: Ldstr \\\"MinVotingDuration should be lower than maxVotingDuration({0})\\\"\\r\\nIL_0017: Ldc_I4 37800\\r\\nIL_001c: Box System.UInt32\\r\\nIL_0021: Call [method] System.String System.String.Format(System.String, System.Object)\\r\\nIL_0026: Call [method] System.Void Stratis.SmartContracts.SmartContract.Assert(System.Boolean, System.String)\\r\\nIL_002b: Nop\\r\\nIL_002c: Ldarg_0\\r\\nIL_002d: Ldarg_0\\r\\nIL_002e: Call [get] System.Linq.Enumerable+<TakeRangeFromEndIterator>d__245`1[System.Char].Message\\r\\nIL_0033: Callvirt [get] System.Linq.Enumerable+<TakeRangeFromEndIterator>d__245`1[System.Char].Sender\\r\\nIL_0038: Call [method] System.Void DAOContract.Owner.set(Stratis.SmartContracts.Address)\\r\\nIL_003d: Nop\\r\\nIL_003e: Ldarg_0\\r\\nIL_003f: Ldc_I4_1 1\\r\\nIL_0040: Call [method] System.Void DAOContract.LastProposalId.set(System.UInt32)\\r\\nIL_0045: Nop\\r\\nIL_0046: Ldarg_0\\r\\nIL_0047: Ldarg_2 minVotingDuration\\r\\nIL_0048: Call [method] System.Void DAOContract.MinVotingDuration.set(System.UInt32)\\r\\nIL_004d: Nop\\r\\nIL_004e: Ldarg_0\\r\\nIL_004f: Ldc_I4 37800\\r\\nIL_0054: Call [method] System.Void DAOContract.MaxVotingDuration.set(System.UInt32)\\r\\nIL_0059: Nop\\r\\nIL_005a: Ret\\r\\n\",\"color\":{\"background\":\"#ffffff\"},\"shape\":\"box\",\"font\":{\"face\":\"monospace\",\"align\":\"left\"}},{\"id\":\"DAOContract.BlacklistAddress(Stratis.SmartContracts.Address)::3\",\"size\":150,\"label\":\"Node ID: DAOContract.BlacklistAddress(Stratis.SmartContracts.Address)::3\\r\\nIL_0018: Ldarg_0\\r\\nIL_0019: Ldarg_1 address\\r\\nIL_001a: Ldc_I4_0 0\\r\\nIL_001b: Call [method] System.Void DAOContract.SetIsWhitelisted(Stratis.SmartContracts.Address, System.Boolean)\\r\\nIL_0020: Nop\\r\\nIL_0021: Ldarg_0\\r\\nIL_0022: Call [method] System.UInt32 DAOContract.WhitelistedCount.get()\\r\\nIL_0027: Stloc_1 local_1\\r\\nIL_0028: Ldarg_0\\r\\nIL_0029: Ldloc_1 local_1\\r\\nIL_002a: Ldc_I4_1 1\\r\\nIL_002b: Sub\\r\\nIL_002c: Call [method] System.Void DAOContract.WhitelistedCount.set(System.UInt32)\\r\\nIL_0031: Nop\\r\\n\",\"color\":{\"background\":\"#ffffff\"},\"shape\":\"box\",\"font\":{\"face\":\"monospace\",\"align\":\"left\"}},{\"id\":\"DAOContract.Owner.get()::0\",\"size\":150,\"label\":\"DAOContract.Owner.get()\\r\\nLocation: DAOContract.cs(24:16)-(24:47)\",\"color\":{\"background\":\"#ffff00\"},\"shape\":\"box\",\"font\":{\"face\":\"monospace\",\"align\":\"left\"}},{\"id\":\"DAOContract.WhitelistAddresses(System.Byte[])::2\",\"size\":150,\"label\":\"Node ID: DAOContract.WhitelistAddresses(System.Byte[])::2\\r\\nIL_0000: Nop\\r\\nIL_0001: Ldarg_0\\r\\nIL_0002: Call [method] System.Void DAOContract.EnsureOwnerOnly()\\r\\nIL_0007: Nop\\r\\nIL_0008: Nop\\r\\nIL_0009: Ldarg_0\\r\\nIL_000a: Call [get] System.Linq.Enumerable+<TakeRangeFromEndIterator>d__245`1[System.Char].Serializer\\r\\nIL_000f: Ldarg_1 addresses\\r\\nIL_0010: Callvirt [method] Stratis.SmartContracts.Address[] Stratis.SmartContracts.ISerializer.ToArray<Stratis.SmartContracts.Address>(System.Byte[])\\r\\nIL_0015: Stloc_0 local_0\\r\\nIL_0016: Ldc_I4_0 0\\r\\nIL_0017: Stloc_1 local_1\\r\\nIL_0018: Br_S IL_0051\\r\\n\",\"color\":{\"background\":\"#ffffff\"},\"shape\":\"box\",\"font\":{\"face\":\"monospace\",\"align\":\"left\"}},{\"id\":\"DAOContract.WhitelistAddress(Stratis.SmartContracts.Address)::5\",\"size\":150,\"label\":\"Node ID: DAOContract.WhitelistAddress(Stratis.SmartContracts.Address)::5\\r\\nIL_002f: Ret\\r\\n\",\"color\":{\"background\":\"#ffffff\"},\"shape\":\"box\",\"font\":{\"face\":\"monospace\",\"align\":\"left\"}},{\"id\":\"DAOContract.GetVote(System.UInt32, Stratis.SmartContracts.Address)::0\",\"size\":150,\"label\":\"DAOContract.GetVote(System.UInt32, Stratis.SmartContracts.Address)\\r\\nLocation: DAOContract.cs(68:62)-(68:109)\",\"color\":{\"background\":\"#ffff00\"},\"shape\":\"box\",\"font\":{\"face\":\"monospace\",\"align\":\"left\"}},{\"id\":\"DAOContract.CreateProposal(Stratis.SmartContracts.Address, System.UInt64, System.UInt32, System.String)::2\",\"size\":150,\"label\":\"Node ID: DAOContract.CreateProposal(Stratis.SmartContracts.Address, System.UInt64, System.UInt32, System.String)::2\\r\\nIL_0000: Nop\\r\\nIL_0001: Ldarg_0\\r\\nIL_0002: Call [method] System.Void DAOContract.EnsureNotPayable()\\r\\nIL_0007: Nop\\r\\nIL_0008: Ldarg_0\\r\\nIL_0009: Ldarg_3 votingDuration\\r\\nIL_000a: Ldarg_0\\r\\nIL_000b: Call [method] System.UInt32 DAOContract.MinVotingDuration.get()\\r\\nIL_0010: Ble_Un_S IL_001d\\r\\n\",\"color\":{\"background\":\"#ffffff\"},\"shape\":\"box\",\"font\":{\"face\":\"monospace\",\"align\":\"left\"}},{\"id\":\"DAOContract.SetVotingDeadline(System.UInt32, System.UInt64)::0\",\"size\":150,\"label\":\"DAOContract.SetVotingDeadline(System.UInt32, System.UInt64)\\r\\nLocation: DAOContract.cs(60:69)-(60:117)\",\"color\":{\"background\":\"#ffffff\"},\"shape\":\"box\",\"font\":{\"face\":\"monospace\",\"align\":\"left\"}},{\"id\":\"DAOContract.VoteProposal(System.UInt32, DAOContract.Votes)::0\",\"size\":150,\"label\":\"DAOContract.VoteProposal(System.UInt32, DAOContract.Votes)\\r\\nLocation: DAOContract.cs(123:5)-(123:6)\",\"color\":{\"background\":\"#ffffff\"},\"shape\":\"box\",\"font\":{\"face\":\"monospace\",\"align\":\"left\"}},{\"id\":\"DAOContract.Unvote(System.UInt32, DAOContract.Votes)::4\",\"size\":150,\"label\":\"Node ID: DAOContract.Unvote(System.UInt32, DAOContract.Votes)::4\\r\\nIL_002c: Ldarg_0\\r\\nIL_002d: Ldarg_1 proposalId\\r\\nIL_002e: Ldarg_0\\r\\nIL_002f: Ldarg_1 proposalId\\r\\nIL_0030: Call [method] System.UInt32 DAOContract.GetNoVotes(System.UInt32)\\r\\nIL_0035: Ldc_I4_1 1\\r\\nIL_0036: Sub\\r\\nIL_0037: Call [method] System.Void DAOContract.SetNoVotes(System.UInt32, System.UInt32)\\r\\nIL_003c: Nop\\r\\nIL_003d: Br_S IL_0041\\r\\n\",\"color\":{\"background\":\"#ffffff\"},\"shape\":\"box\",\"font\":{\"face\":\"monospace\",\"align\":\"left\"}},{\"id\":\"DAOContract.VoteProposal(System.UInt32, DAOContract.Votes)::7\",\"size\":150,\"label\":\"Node ID: DAOContract.VoteProposal(System.UInt32, DAOContract.Votes)::7\\r\\nIL_0044: Nop\\r\\nIL_0045: Ldarg_0\\r\\nIL_0046: Ldarg_1 proposalId\\r\\nIL_0047: Ldarg_0\\r\\nIL_0048: Ldarg_1 proposalId\\r\\nIL_0049: Call [method] System.UInt32 DAOContract.GetYesVotes(System.UInt32)\\r\\nIL_004e: Ldc_I4_1 1\\r\\nIL_004f: Add\\r\\nIL_0050: Call [method] System.Void DAOContract.SetYesVotes(System.UInt32, System.UInt32)\\r\\nIL_0055: Nop\\r\\nIL_0056: Nop\\r\\nIL_0057: Br_S IL_006c\\r\\n\",\"color\":{\"background\":\"#ffffff\"},\"shape\":\"box\",\"font\":{\"face\":\"monospace\",\"align\":\"left\"}},{\"id\":\"DAOContract.MinVotingDuration.set(System.UInt32)::2\",\"size\":150,\"label\":\"Node ID: DAOContract.MinVotingDuration.set(System.UInt32)::2\\r\\nIL_0000: Ldarg_0\\r\\nIL_0001: Call [get] System.Linq.Enumerable+<TakeRangeFromEndIterator>d__245`1[System.Char].State\\r\\nIL_0006: Ldstr \\\"MinVotingDuration\\\"\\r\\nIL_000b: Ldarg_1 value\\r\\nIL_000c: Callvirt [method] System.Void Stratis.SmartContracts.IPersistentState.SetUInt32(System.String, System.UInt32)\\r\\nIL_0011: Nop\\r\\nIL_0012: Ret\\r\\n\",\"color\":{\"background\":\"#ffffff\"},\"shape\":\"box\",\"font\":{\"face\":\"monospace\",\"align\":\"left\"}},{\"id\":\"DAOContract.ToVote(System.Boolean)::3\",\"size\":150,\"label\":\"Node ID: DAOContract.ToVote(System.Boolean)::3\\r\\nIL_0006: Ldc_I4_2 2\\r\\n\",\"color\":{\"background\":\"#ffffff\"},\"shape\":\"box\",\"font\":{\"face\":\"monospace\",\"align\":\"left\"}},{\"id\":\"DAOContract.Unvote(System.UInt32, DAOContract.Votes)::0\",\"size\":150,\"label\":\"DAOContract.Unvote(System.UInt32, DAOContract.Votes)\\r\\nLocation: DAOContract.cs(147:5)-(147:6)\",\"color\":{\"background\":\"#ffffff\"},\"shape\":\"box\",\"font\":{\"face\":\"monospace\",\"align\":\"left\"}},{\"id\":\"DAOContract.UpdateMinVotingDuration(System.UInt32)::2\",\"size\":150,\"label\":\"Node ID: DAOContract.UpdateMinVotingDuration(System.UInt32)::2\\r\\nIL_0000: Nop\\r\\nIL_0001: Ldarg_0\\r\\nIL_0002: Call [method] System.Void DAOContract.EnsureOwnerOnly()\\r\\nIL_0007: Nop\\r\\nIL_0008: Ldarg_0\\r\\nIL_0009: Ldarg_1 minVotingDuration\\r\\nIL_000a: Ldarg_0\\r\\nIL_000b: Call [method] System.UInt32 DAOContract.MaxVotingDuration.get()\\r\\nIL_0010: Clt_Un\\r\\nIL_0012: Ldstr \\\"MinVotingDuration should be lower than MaxVotingDuration.\\\"\\r\\nIL_0017: Call [method] System.Void Stratis.SmartContracts.SmartContract.Assert(System.Boolean, System.String)\\r\\nIL_001c: Nop\\r\\nIL_001d: Ldarg_0\\r\\nIL_001e: Ldarg_1 minVotingDuration\\r\\nIL_001f: Call [method] System.Void DAOContract.MinVotingDuration.set(System.UInt32)\\r\\nIL_0024: Nop\\r\\nIL_0025: Ret\\r\\n\",\"color\":{\"background\":\"#ffffff\"},\"shape\":\"box\",\"font\":{\"face\":\"monospace\",\"align\":\"left\"}},{\"id\":\"DAOContract.MaxVotingDuration.get()::2\",\"size\":150,\"label\":\"Node ID: DAOContract.MaxVotingDuration.get()::2\\r\\nIL_0000: Ldarg_0\\r\\nIL_0001: Call [get] System.Linq.Enumerable+<TakeRangeFromEndIterator>d__245`1[System.Char].State\\r\\nIL_0006: Ldstr \\\"MaxVotingDuration\\\"\\r\\nIL_000b: Callvirt [method] System.UInt32 Stratis.SmartContracts.IPersistentState.GetUInt32(System.String)\\r\\nIL_0010: Ret\\r\\n\",\"color\":{\"background\":\"#ffffff\"},\"shape\":\"box\",\"font\":{\"face\":\"monospace\",\"align\":\"left\"}},{\"id\":\"DAOContract.CreateProposal(Stratis.SmartContracts.Address, System.UInt64, System.UInt32, System.String)::5\",\"size\":150,\"label\":\"Node ID: DAOContract.CreateProposal(Stratis.SmartContracts.Address, System.UInt64, System.UInt32, System.String)::5\\r\\nIL_001e: Ldstr \\\"Voting duration should be between {0} and {1}.\\\"\\r\\nIL_0023: Ldarg_0\\r\\nIL_0024: Call [method] System.UInt32 DAOContract.MinVotingDuration.get()\\r\\nIL_0029: Box System.UInt32\\r\\nIL_002e: Ldarg_0\\r\\nIL_002f: Call [method] System.UInt32 DAOContract.MaxVotingDuration.get()\\r\\nIL_0034: Box System.UInt32\\r\\nIL_0039: Call [method] System.String System.String.Format(System.String, System.Object, System.Object)\\r\\nIL_003e: Call [method] System.Void Stratis.SmartContracts.SmartContract.Assert(System.Boolean, System.String)\\r\\nIL_0043: Nop\\r\\nIL_0044: Ldarg_S description\\r\\nIL_0046: Brtrue_S IL_004b\\r\\n\",\"color\":{\"background\":\"#ffffff\"},\"shape\":\"box\",\"font\":{\"face\":\"monospace\",\"align\":\"left\"}},{\"id\":\"DAOContract.MaxVotingDuration.set(System.UInt32)::2\",\"size\":150,\"label\":\"Node ID: DAOContract.MaxVotingDuration.set(System.UInt32)::2\\r\\nIL_0000: Ldarg_0\\r\\nIL_0001: Call [get] System.Linq.Enumerable+<TakeRangeFromEndIterator>d__245`1[System.Char].State\\r\\nIL_0006: Ldstr \\\"MaxVotingDuration\\\"\\r\\nIL_000b: Ldarg_1 value\\r\\nIL_000c: Callvirt [method] System.Void Stratis.SmartContracts.IPersistentState.SetUInt32(System.String, System.UInt32)\\r\\nIL_0011: Nop\\r\\nIL_0012: Ret\\r\\n\",\"color\":{\"background\":\"#ffffff\"},\"shape\":\"box\",\"font\":{\"face\":\"monospace\",\"align\":\"left\"}},{\"id\":\"DAOContract.GetVotingDeadline(System.UInt32)::2\",\"size\":150,\"label\":\"Node ID: DAOContract.GetVotingDeadline(System.UInt32)::2\\r\\nIL_0000: Ldarg_0\\r\\nIL_0001: Call [get] System.Linq.Enumerable+<TakeRangeFromEndIterator>d__245`1[System.Char].State\\r\\nIL_0006: Ldstr \\\"Deadline:{0}\\\"\\r\\nIL_000b: Ldarg_1 proposalId\\r\\nIL_000c: Box System.UInt32\\r\\nIL_0011: Call [method] System.String System.String.Format(System.String, System.Object)\\r\\nIL_0016: Callvirt [method] System.UInt64 Stratis.SmartContracts.IPersistentState.GetUInt64(System.String)\\r\\nIL_001b: Ret\\r\\n\",\"color\":{\"background\":\"#ffffff\"},\"shape\":\"box\",\"font\":{\"face\":\"monospace\",\"align\":\"left\"}},{\"id\":\"DAOContract.VoteProposal(System.UInt32, DAOContract.Votes)::3\",\"size\":150,\"label\":\"Node ID: DAOContract.VoteProposal(System.UInt32, DAOContract.Votes)::3\\r\\nIL_001f: Ldarg_0\\r\\nIL_0020: Ldarg_1 proposalId\\r\\nIL_0021: Ldloc_0 local_0\\r\\nIL_0022: Call [method] System.Void DAOContract.Unvote(System.UInt32, DAOContract.Votes)\\r\\nIL_0027: Nop\\r\\nIL_0028: Ldarg_0\\r\\nIL_0029: Ldarg_1 proposalId\\r\\nIL_002a: Ldarg_0\\r\\nIL_002b: Call [get] System.Linq.Enumerable+<TakeRangeFromEndIterator>d__245`1[System.Char].Message\\r\\nIL_0030: Callvirt [get] System.Linq.Enumerable+<TakeRangeFromEndIterator>d__245`1[System.Char].Sender\\r\\nIL_0035: Ldarg_2 vote\\r\\nIL_0036: Call [method] System.Void DAOContract.SetVote(System.UInt32, Stratis.SmartContracts.Address, DAOContract.Votes)\\r\\nIL_003b: Nop\\r\\nIL_003c: Ldarg_2 vote\\r\\nIL_003d: Ldc_I4_2 2\\r\\nIL_003e: Ceq\\r\\nIL_0040: Stloc_2 local_2\\r\\nIL_0041: Ldloc_2 local_2\\r\\nIL_0042: Brfalse_S IL_0059\\r\\n\",\"color\":{\"background\":\"#ffffff\"},\"shape\":\"box\",\"font\":{\"face\":\"monospace\",\"align\":\"left\"}},{\"id\":\"DAOContract.WhitelistAddress(Stratis.SmartContracts.Address)::4\",\"size\":150,\"label\":\"Node ID: DAOContract.WhitelistAddress(Stratis.SmartContracts.Address)::4\\r\\nIL_0013: Br_S IL_002f\\r\\n\",\"color\":{\"background\":\"#ffffff\"},\"shape\":\"box\",\"font\":{\"face\":\"monospace\",\"align\":\"left\"}},{\"id\":\"DAOContract.GetProposal(System.UInt32)::0\",\"size\":150,\"label\":\"DAOContract.GetProposal(System.UInt32)\\r\\nLocation: DAOContract.cs(71:48)-(71:95)\",\"color\":{\"background\":\"#ffff00\"},\"shape\":\"box\",\"font\":{\"face\":\"monospace\",\"align\":\"left\"}},{\"id\":\"DAOContract.Deposit()::2\",\"size\":150,\"label\":\"Node ID: DAOContract.Deposit()::2\\r\\nIL_0000: Nop\\r\\nIL_0001: Ldarg_0\\r\\nIL_0002: Call [method] System.Void DAOContract.EnsureOwnerOnly()\\r\\nIL_0007: Nop\\r\\nIL_0008: Ret\\r\\n\",\"color\":{\"background\":\"#ffffff\"},\"shape\":\"box\",\"font\":{\"face\":\"monospace\",\"align\":\"left\"}},{\"id\":\"DAOContract.BlacklistAddresses(System.Byte[])::0\",\"size\":150,\"label\":\"DAOContract.BlacklistAddresses(System.Byte[])\\r\\nLocation: DAOContract.cs(197:5)-(197:6)\",\"color\":{\"background\":\"#ffff00\"},\"shape\":\"box\",\"font\":{\"face\":\"monospace\",\"align\":\"left\"}},{\"id\":\"DAOContract.MinVotingDuration.get()::0\",\"size\":150,\"label\":\"DAOContract.MinVotingDuration.get()\\r\\nLocation: DAOContract.cs(38:16)-(38:58)\",\"color\":{\"background\":\"#ffff00\"},\"shape\":\"box\",\"font\":{\"face\":\"monospace\",\"align\":\"left\"}},{\"id\":\"DAOContract.Unvote(System.UInt32, DAOContract.Votes)::2\",\"size\":150,\"label\":\"Node ID: DAOContract.Unvote(System.UInt32, DAOContract.Votes)::2\\r\\nIL_0000: Nop\\r\\nIL_0001: Ldarg_2 currentVote\\r\\nIL_0002: Stloc_1 local_1\\r\\nIL_0003: Ldloc_1 local_1\\r\\nIL_0004: Stloc_0 local_0\\r\\nIL_0005: Ldloc_0 local_0\\r\\nIL_0006: Switch IL_003f IL_002c IL_0019\\r\\n\",\"color\":{\"background\":\"#ffffff\"},\"shape\":\"box\",\"font\":{\"face\":\"monospace\",\"align\":\"left\"}},{\"id\":\"DAOContract.ToVote(System.Boolean)::2\",\"size\":150,\"label\":\"Node ID: DAOContract.ToVote(System.Boolean)::2\\r\\nIL_0000: Ldarg_1 vote\\r\\nIL_0001: Brtrue_S IL_0006\\r\\n\",\"color\":{\"background\":\"#ffffff\"},\"shape\":\"box\",\"font\":{\"face\":\"monospace\",\"align\":\"left\"}},{\"id\":\"DAOContract.LastProposalId.get()::2\",\"size\":150,\"label\":\"Node ID: DAOContract.LastProposalId.get()::2\\r\\nIL_0000: Ldarg_0\\r\\nIL_0001: Call [get] System.Linq.Enumerable+<TakeRangeFromEndIterator>d__245`1[System.Char].State\\r\\nIL_0006: Ldstr \\\"LastProposalId\\\"\\r\\nIL_000b: Callvirt [method] System.UInt32 Stratis.SmartContracts.IPersistentState.GetUInt32(System.String)\\r\\nIL_0010: Ret\\r\\n\",\"color\":{\"background\":\"#ffffff\"},\"shape\":\"box\",\"font\":{\"face\":\"monospace\",\"align\":\"left\"}},{\"id\":\"DAOContract.WhitelistAddress(Stratis.SmartContracts.Address)::3\",\"size\":150,\"label\":\"Node ID: DAOContract.WhitelistAddress(Stratis.SmartContracts.Address)::3\\r\\nIL_0015: Ldarg_0\\r\\nIL_0016: Ldarg_1 address\\r\\nIL_0017: Ldc_I4_1 1\\r\\nIL_0018: Call [method] System.Void DAOContract.SetIsWhitelisted(Stratis.SmartContracts.Address, System.Boolean)\\r\\nIL_001d: Nop\\r\\nIL_001e: Ldarg_0\\r\\nIL_001f: Call [method] System.UInt32 DAOContract.WhitelistedCount.get()\\r\\nIL_0024: Stloc_1 local_1\\r\\nIL_0025: Ldarg_0\\r\\nIL_0026: Ldloc_1 local_1\\r\\nIL_0027: Ldc_I4_1 1\\r\\nIL_0028: Add\\r\\nIL_0029: Call [method] System.Void DAOContract.WhitelistedCount.set(System.UInt32)\\r\\nIL_002e: Nop\\r\\n\",\"color\":{\"background\":\"#ffffff\"},\"shape\":\"box\",\"font\":{\"face\":\"monospace\",\"align\":\"left\"}},{\"id\":\"DAOContract.MaxVotingDuration.get()::0\",\"size\":150,\"label\":\"DAOContract.MaxVotingDuration.get()\\r\\nLocation: DAOContract.cs(44:16)-(44:58)\",\"color\":{\"background\":\"#ffff00\"},\"shape\":\"box\",\"font\":{\"face\":\"monospace\",\"align\":\"left\"}},{\"id\":\"DAOContract.SetIsWhitelisted(Stratis.SmartContracts.Address, System.Boolean)::2\",\"size\":150,\"label\":\"Node ID: DAOContract.SetIsWhitelisted(Stratis.SmartContracts.Address, System.Boolean)::2\\r\\nIL_0000: Ldarg_0\\r\\nIL_0001: Call [get] System.Linq.Enumerable+<TakeRangeFromEndIterator>d__245`1[System.Char].State\\r\\nIL_0006: Ldstr \\\"Whitelisted:{0}\\\"\\r\\nIL_000b: Ldarg_1 address\\r\\nIL_000c: Box Stratis.SmartContracts.Address\\r\\nIL_0011: Call [method] System.String System.String.Format(System.String, System.Object)\\r\\nIL_0016: Ldarg_2 allowed\\r\\nIL_0017: Callvirt [method] System.Void Stratis.SmartContracts.IPersistentState.SetBool(System.String, System.Boolean)\\r\\nIL_001c: Nop\\r\\nIL_001d: Ret\\r\\n\",\"color\":{\"background\":\"#ffffff\"},\"shape\":\"box\",\"font\":{\"face\":\"monospace\",\"align\":\"left\"}},{\"id\":\"DAOContract.LastProposalId.set(System.UInt32)::2\",\"size\":150,\"label\":\"Node ID: DAOContract.LastProposalId.set(System.UInt32)::2\\r\\nIL_0000: Ldarg_0\\r\\nIL_0001: Call [get] System.Linq.Enumerable+<TakeRangeFromEndIterator>d__245`1[System.Char].State\\r\\nIL_0006: Ldstr \\\"LastProposalId\\\"\\r\\nIL_000b: Ldarg_1 value\\r\\nIL_000c: Callvirt [method] System.Void Stratis.SmartContracts.IPersistentState.SetUInt32(System.String, System.UInt32)\\r\\nIL_0011: Nop\\r\\nIL_0012: Ret\\r\\n\",\"color\":{\"background\":\"#ffffff\"},\"shape\":\"box\",\"font\":{\"face\":\"monospace\",\"align\":\"left\"}},{\"id\":\"DAOContract.BlacklistAddresses(System.Byte[])::5\",\"size\":150,\"label\":\"Node ID: DAOContract.BlacklistAddresses(System.Byte[])::5\\r\\nIL_0033: Ldarg_0\\r\\nIL_0034: Ldloc_2 local_2\\r\\nIL_0035: Ldc_I4_0 0\\r\\nIL_0036: Call [method] System.Void DAOContract.SetIsWhitelisted(Stratis.SmartContracts.Address, System.Boolean)\\r\\nIL_003b: Nop\\r\\nIL_003c: Ldarg_0\\r\\nIL_003d: Call [method] System.UInt32 DAOContract.WhitelistedCount.get()\\r\\nIL_0042: Stloc_S local_4\\r\\nIL_0044: Ldarg_0\\r\\nIL_0045: Ldloc_S local_4\\r\\nIL_0047: Ldc_I4_1 1\\r\\nIL_0048: Sub\\r\\nIL_0049: Call [method] System.Void DAOContract.WhitelistedCount.set(System.UInt32)\\r\\nIL_004e: Nop\\r\\nIL_004f: Nop\\r\\n\",\"color\":{\"background\":\"#ffffff\"},\"shape\":\"box\",\"font\":{\"face\":\"monospace\",\"align\":\"left\"}},{\"id\":\"DAOContract.WhitelistAddresses(System.Byte[])::0\",\"size\":150,\"label\":\"DAOContract.WhitelistAddresses(System.Byte[])\\r\\nLocation: DAOContract.cs(222:5)-(222:6)\",\"color\":{\"background\":\"#ffff00\"},\"shape\":\"box\",\"font\":{\"face\":\"monospace\",\"align\":\"left\"}},{\"id\":\"DAOContract..ctor(Stratis.SmartContracts.ISmartContractState, System.UInt32)::0\",\"size\":150,\"label\":\"DAOContract..ctor(Stratis.SmartContracts.ISmartContractState, System.UInt32)\\r\\nLocation: DAOContract.cs(9:11)-(9:22)\",\"color\":{\"background\":\"#ffff00\"},\"shape\":\"box\",\"font\":{\"face\":\"monospace\",\"align\":\"left\"}},{\"id\":\"DAOContract.WhitelistAddresses(System.Byte[])::6\",\"size\":150,\"label\":\"Node ID: DAOContract.WhitelistAddresses(System.Byte[])::6\\r\\nIL_002e: Br_S IL_004d\\r\\n\",\"color\":{\"background\":\"#ffffff\"},\"shape\":\"box\",\"font\":{\"face\":\"monospace\",\"align\":\"left\"}},{\"id\":\"DAOContract.CreateProposal(Stratis.SmartContracts.Address, System.UInt64, System.UInt32, System.String)::9\",\"size\":150,\"label\":\"Node ID: DAOContract.CreateProposal(Stratis.SmartContracts.Address, System.UInt64, System.UInt32, System.String)::9\\r\\nIL_00d1: Ldloc_3 local_3\\r\\nIL_00d2: Ret\\r\\n\",\"color\":{\"background\":\"#ffffff\"},\"shape\":\"box\",\"font\":{\"face\":\"monospace\",\"align\":\"left\"}},{\"id\":\"DAOContract.Deposit()::0\",\"size\":150,\"label\":\"DAOContract.Deposit()\\r\\nLocation: DAOContract.cs(235:5)-(235:6)\",\"color\":{\"background\":\"#ffff00\"},\"shape\":\"box\",\"font\":{\"face\":\"monospace\",\"align\":\"left\"}},{\"id\":\"DAOContract.Owner.get()::2\",\"size\":150,\"label\":\"Node ID: DAOContract.Owner.get()::2\\r\\nIL_0000: Ldarg_0\\r\\nIL_0001: Call [get] System.Linq.Enumerable+<TakeRangeFromEndIterator>d__245`1[System.Char].State\\r\\nIL_0006: Ldstr \\\"Owner\\\"\\r\\nIL_000b: Callvirt [method] Stratis.SmartContracts.Address Stratis.SmartContracts.IPersistentState.GetAddress(System.String)\\r\\nIL_0010: Ret\\r\\n\",\"color\":{\"background\":\"#ffffff\"},\"shape\":\"box\",\"font\":{\"face\":\"monospace\",\"align\":\"left\"}},{\"id\":\"DAOContract.ToVote(System.Boolean)::5\",\"size\":150,\"label\":\"Node ID: DAOContract.ToVote(System.Boolean)::5\\r\\nIL_0007: Ret\\r\\n\",\"color\":{\"background\":\"#ffffff\"},\"shape\":\"box\",\"font\":{\"face\":\"monospace\",\"align\":\"left\"}},{\"id\":\"DAOContract.CreateProposal(Stratis.SmartContracts.Address, System.UInt64, System.UInt32, System.String)::6\",\"size\":150,\"label\":\"Node ID: DAOContract.CreateProposal(Stratis.SmartContracts.Address, System.UInt64, System.UInt32, System.String)::6\\r\\nIL_004b: Ldarg_S description\\r\\nIL_004d: Callvirt [get] System.Linq.Enumerable+<TakeRangeFromEndIterator>d__245`1[System.Char].Length\\r\\n\",\"color\":{\"background\":\"#ffffff\"},\"shape\":\"box\",\"font\":{\"face\":\"monospace\",\"align\":\"left\"}},{\"id\":\"DAOContract.WhitelistedCount.get()::2\",\"size\":150,\"label\":\"Node ID: DAOContract.WhitelistedCount.get()::2\\r\\nIL_0000: Ldarg_0\\r\\nIL_0001: Call [get] System.Linq.Enumerable+<TakeRangeFromEndIterator>d__245`1[System.Char].State\\r\\nIL_0006: Ldstr \\\"WhitelistedCount\\\"\\r\\nIL_000b: Callvirt [method] System.UInt32 Stratis.SmartContracts.IPersistentState.GetUInt32(System.String)\\r\\nIL_0010: Ret\\r\\n\",\"color\":{\"background\":\"#ffffff\"},\"shape\":\"box\",\"font\":{\"face\":\"monospace\",\"align\":\"left\"}},{\"id\":\"DAOContract.GetYesVotes(System.UInt32)::2\",\"size\":150,\"label\":\"Node ID: DAOContract.GetYesVotes(System.UInt32)::2\\r\\nIL_0000: Ldarg_0\\r\\nIL_0001: Call [get] System.Linq.Enumerable+<TakeRangeFromEndIterator>d__245`1[System.Char].State\\r\\nIL_0006: Ldstr \\\"YesVotes:{0}\\\"\\r\\nIL_000b: Ldarg_1 proposalId\\r\\nIL_000c: Box System.UInt32\\r\\nIL_0011: Call [method] System.String System.String.Format(System.String, System.Object)\\r\\nIL_0016: Callvirt [method] System.UInt32 Stratis.SmartContracts.IPersistentState.GetUInt32(System.String)\\r\\nIL_001b: Ret\\r\\n\",\"color\":{\"background\":\"#ffffff\"},\"shape\":\"box\",\"font\":{\"face\":\"monospace\",\"align\":\"left\"}},{\"id\":\"DAOContract.BlacklistAddresses(System.Byte[])::7\",\"size\":150,\"label\":\"Node ID: DAOContract.BlacklistAddresses(System.Byte[])::7\\r\\nIL_0050: Ldloc_1 local_1\\r\\nIL_0051: Ldc_I4_1 1\\r\\nIL_0052: Add\\r\\nIL_0053: Stloc_1 local_1\\r\\n\",\"color\":{\"background\":\"#ffffff\"},\"shape\":\"box\",\"font\":{\"face\":\"monospace\",\"align\":\"left\"}},{\"id\":\"DAOContract.MaxVotingDuration.set(System.UInt32)::0\",\"size\":150,\"label\":\"DAOContract.MaxVotingDuration.set(System.UInt32)\\r\\nLocation: DAOContract.cs(45:24)-(45:73)\",\"color\":{\"background\":\"#ffffff\"},\"shape\":\"box\",\"font\":{\"face\":\"monospace\",\"align\":\"left\"}},{\"id\":\"DAOContract.BlacklistAddresses(System.Byte[])::3\",\"size\":150,\"label\":\"Node ID: DAOContract.BlacklistAddresses(System.Byte[])::3\\r\\nIL_0054: Ldloc_1 local_1\\r\\nIL_0055: Ldloc_0 local_0\\r\\nIL_0056: Ldlen\\r\\nIL_0057: Conv_I4\\r\\nIL_0058: Blt_S IL_001a\\r\\n\",\"color\":{\"background\":\"#ffffff\"},\"shape\":\"box\",\"font\":{\"face\":\"monospace\",\"align\":\"left\"}},{\"id\":\"DAOContract.GetNoVotes(System.UInt32)::0\",\"size\":150,\"label\":\"DAOContract.GetNoVotes(System.UInt32)\\r\\nLocation: DAOContract.cs(65:48)-(65:88)\",\"color\":{\"background\":\"#ffff00\"},\"shape\":\"box\",\"font\":{\"face\":\"monospace\",\"align\":\"left\"}},{\"id\":\"DAOContract.UpdateMaxVotingDuration(System.UInt32)::2\",\"size\":150,\"label\":\"Node ID: DAOContract.UpdateMaxVotingDuration(System.UInt32)::2\\r\\nIL_0000: Nop\\r\\nIL_0001: Ldarg_0\\r\\nIL_0002: Call [method] System.Void DAOContract.EnsureOwnerOnly()\\r\\nIL_0007: Nop\\r\\nIL_0008: Ldarg_0\\r\\nIL_0009: Ldarg_1 maxVotingDuration\\r\\nIL_000a: Ldarg_0\\r\\nIL_000b: Call [method] System.UInt32 DAOContract.MinVotingDuration.get()\\r\\nIL_0010: Cgt_Un\\r\\nIL_0012: Ldstr \\\"MaxVotingDuration should be higher than MinVotingDuration.\\\"\\r\\nIL_0017: Call [method] System.Void Stratis.SmartContracts.SmartContract.Assert(System.Boolean, System.String)\\r\\nIL_001c: Nop\\r\\nIL_001d: Ldarg_0\\r\\nIL_001e: Ldarg_1 maxVotingDuration\\r\\nIL_001f: Call [method] System.Void DAOContract.MaxVotingDuration.set(System.UInt32)\\r\\nIL_0024: Nop\\r\\nIL_0025: Ret\\r\\n\",\"color\":{\"background\":\"#ffffff\"},\"shape\":\"box\",\"font\":{\"face\":\"monospace\",\"align\":\"left\"}},{\"id\":\"DAOContract.WhitelistAddress(Stratis.SmartContracts.Address)::2\",\"size\":150,\"label\":\"Node ID: DAOContract.WhitelistAddress(Stratis.SmartContracts.Address)::2\\r\\nIL_0000: Nop\\r\\nIL_0001: Ldarg_0\\r\\nIL_0002: Call [method] System.Void DAOContract.EnsureOwnerOnly()\\r\\nIL_0007: Nop\\r\\nIL_0008: Ldarg_0\\r\\nIL_0009: Ldarg_1 address\\r\\nIL_000a: Call [method] System.Boolean DAOContract.IsWhitelisted(Stratis.SmartContracts.Address)\\r\\nIL_000f: Stloc_0 local_0\\r\\nIL_0010: Ldloc_0 local_0\\r\\nIL_0011: Brfalse_S IL_0015\\r\\n\",\"color\":{\"background\":\"#ffffff\"},\"shape\":\"box\",\"font\":{\"face\":\"monospace\",\"align\":\"left\"}},{\"id\":\"DAOContract.GetVotingDeadline(System.UInt32)::0\",\"size\":150,\"label\":\"DAOContract.GetVotingDeadline(System.UInt32)\\r\\nLocation: DAOContract.cs(59:56)-(59:97)\",\"color\":{\"background\":\"#ffff00\"},\"shape\":\"box\",\"font\":{\"face\":\"monospace\",\"align\":\"left\"}},{\"id\":\"DAOContract.VoteProposal(System.UInt32, DAOContract.Votes)::2\",\"size\":150,\"label\":\"Node ID: DAOContract.VoteProposal(System.UInt32, DAOContract.Votes)::2\\r\\nIL_0000: Nop\\r\\nIL_0001: Ldarg_0\\r\\nIL_0002: Ldarg_1 proposalId\\r\\nIL_0003: Ldarg_0\\r\\nIL_0004: Call [get] System.Linq.Enumerable+<TakeRangeFromEndIterator>d__245`1[System.Char].Message\\r\\nIL_0009: Callvirt [get] System.Linq.Enumerable+<TakeRangeFromEndIterator>d__245`1[System.Char].Sender\\r\\nIL_000e: Call [method] System.UInt32 DAOContract.GetVote(System.UInt32, Stratis.SmartContracts.Address)\\r\\nIL_0013: Stloc_0 local_0\\r\\nIL_0014: Ldloc_0 local_0\\r\\nIL_0015: Ldarg_2 vote\\r\\nIL_0016: Ceq\\r\\nIL_0018: Stloc_1 local_1\\r\\nIL_0019: Ldloc_1 local_1\\r\\nIL_001a: Brfalse_S IL_001f\\r\\n\",\"color\":{\"background\":\"#ffffff\"},\"shape\":\"box\",\"font\":{\"face\":\"monospace\",\"align\":\"left\"}},{\"id\":\"DAOContract.WhitelistAddresses(System.Byte[])::7\",\"size\":150,\"label\":\"Node ID: DAOContract.WhitelistAddresses(System.Byte[])::7\\r\\nIL_004d: Ldloc_1 local_1\\r\\nIL_004e: Ldc_I4_1 1\\r\\nIL_004f: Add\\r\\nIL_0050: Stloc_1 local_1\\r\\n\",\"color\":{\"background\":\"#ffffff\"},\"shape\":\"box\",\"font\":{\"face\":\"monospace\",\"align\":\"left\"}},{\"id\":\"DAOContract.WhitelistAddresses(System.Byte[])::4\",\"size\":150,\"label\":\"Node ID: DAOContract.WhitelistAddresses(System.Byte[])::4\\r\\nIL_001a: Ldloc_0 local_0\\r\\nIL_001b: Ldloc_1 local_1\\r\\nIL_001c: Ldelem Stratis.SmartContracts.Address\\r\\nIL_0021: Stloc_2 local_2\\r\\nIL_0022: Nop\\r\\nIL_0023: Ldarg_0\\r\\nIL_0024: Ldloc_2 local_2\\r\\nIL_0025: Call [method] System.Boolean DAOContract.IsWhitelisted(Stratis.SmartContracts.Address)\\r\\nIL_002a: Stloc_3 local_3\\r\\nIL_002b: Ldloc_3 local_3\\r\\nIL_002c: Brfalse_S IL_0030\\r\\n\",\"color\":{\"background\":\"#ffffff\"},\"shape\":\"box\",\"font\":{\"face\":\"monospace\",\"align\":\"left\"}},{\"id\":\"DAOContract.EnsureOwnerOnly()::2\",\"size\":150,\"label\":\"Node ID: DAOContract.EnsureOwnerOnly()::2\\r\\nIL_0000: Ldarg_0\\r\\nIL_0001: Ldarg_0\\r\\nIL_0002: Call [method] Stratis.SmartContracts.Address DAOContract.Owner.get()\\r\\nIL_0007: Ldarg_0\\r\\nIL_0008: Call [get] System.Linq.Enumerable+<TakeRangeFromEndIterator>d__245`1[System.Char].Message\\r\\nIL_000d: Callvirt [get] System.Linq.Enumerable+<TakeRangeFromEndIterator>d__245`1[System.Char].Sender\\r\\nIL_0012: Call [method] System.Boolean Stratis.SmartContracts.Address.op_Equality(Stratis.SmartContracts.Address, Stratis.SmartContracts.Address)\\r\\nIL_0017: Ldstr \\\"The method is owner only.\\\"\\r\\nIL_001c: Call [method] System.Void Stratis.SmartContracts.SmartContract.Assert(System.Boolean, System.String)\\r\\nIL_0021: Nop\\r\\nIL_0022: Ret\\r\\n\",\"color\":{\"background\":\"#ffffff\"},\"shape\":\"box\",\"font\":{\"face\":\"monospace\",\"align\":\"left\"}},{\"id\":\"DAOContract.VoteProposal(System.UInt32, DAOContract.Votes)::4\",\"size\":150,\"label\":\"Node ID: DAOContract.VoteProposal(System.UInt32, DAOContract.Votes)::4\\r\\nIL_001c: Nop\\r\\nIL_001d: Br_S IL_006c\\r\\n\",\"color\":{\"background\":\"#ffffff\"},\"shape\":\"box\",\"font\":{\"face\":\"monospace\",\"align\":\"left\"}},{\"id\":\"DAOContract.BlacklistAddress(Stratis.SmartContracts.Address)::0\",\"size\":150,\"label\":\"DAOContract.BlacklistAddress(Stratis.SmartContracts.Address)\\r\\nLocation: DAOContract.cs(186:5)-(186:6)\",\"color\":{\"background\":\"#ffff00\"},\"shape\":\"box\",\"font\":{\"face\":\"monospace\",\"align\":\"left\"}},{\"id\":\"DAOContract.MinQuorum.get()::2\",\"size\":150,\"label\":\"Node ID: DAOContract.MinQuorum.get()::2\\r\\nIL_0000: Ldarg_0\\r\\nIL_0001: Call [method] System.UInt32 DAOContract.WhitelistedCount.get()\\r\\nIL_0006: Ldc_I4_2 2\\r\\nIL_0007: Div_Un\\r\\nIL_0008: Ldc_I4_1 1\\r\\nIL_0009: Add\\r\\nIL_000a: Ret\\r\\n\",\"color\":{\"background\":\"#ffffff\"},\"shape\":\"box\",\"font\":{\"face\":\"monospace\",\"align\":\"left\"}},{\"id\":\"DAOContract.ToVote(System.Boolean)::0\",\"size\":150,\"label\":\"DAOContract.ToVote(System.Boolean)\\r\\nLocation: DAOContract.cs(156:40)-(156:67)\",\"color\":{\"background\":\"#ffffff\"},\"shape\":\"box\",\"font\":{\"face\":\"monospace\",\"align\":\"left\"}},{\"id\":\"DAOContract.Receive()::2\",\"size\":150,\"label\":\"Node ID: DAOContract.Receive()::2\\r\\nIL_0000: Ldarg_0\\r\\nIL_0001: Call [method] System.Void DAOContract.Deposit()\\r\\nIL_0006: Nop\\r\\nIL_0007: Ret\\r\\n\",\"color\":{\"background\":\"#ffffff\"},\"shape\":\"box\",\"font\":{\"face\":\"monospace\",\"align\":\"left\"}},{\"id\":\"DAOContract.UpdateMinVotingDuration(System.UInt32)::0\",\"size\":150,\"label\":\"DAOContract.UpdateMinVotingDuration(System.UInt32)\\r\\nLocation: DAOContract.cs(250:5)-(250:6)\",\"color\":{\"background\":\"#ffff00\"},\"shape\":\"box\",\"font\":{\"face\":\"monospace\",\"align\":\"left\"}},{\"id\":\"DAOContract.LastProposalId.get()::0\",\"size\":150,\"label\":\"DAOContract.LastProposalId.get()\\r\\nLocation: DAOContract.cs(50:16)-(50:55)\",\"color\":{\"background\":\"#ffff00\"},\"shape\":\"box\",\"font\":{\"face\":\"monospace\",\"align\":\"left\"}},{\"id\":\"DAOContract.BlacklistAddresses(System.Byte[])::4\",\"size\":150,\"label\":\"Node ID: DAOContract.BlacklistAddresses(System.Byte[])::4\\r\\nIL_001a: Ldloc_0 local_0\\r\\nIL_001b: Ldloc_1 local_1\\r\\nIL_001c: Ldelem Stratis.SmartContracts.Address\\r\\nIL_0021: Stloc_2 local_2\\r\\nIL_0022: Nop\\r\\nIL_0023: Ldarg_0\\r\\nIL_0024: Ldloc_2 local_2\\r\\nIL_0025: Call [method] System.Boolean DAOContract.IsWhitelisted(Stratis.SmartContracts.Address)\\r\\nIL_002a: Ldc_I4_0 0\\r\\nIL_002b: Ceq\\r\\nIL_002d: Stloc_3 local_3\\r\\nIL_002e: Ldloc_3 local_3\\r\\nIL_002f: Brfalse_S IL_0033\\r\\n\",\"color\":{\"background\":\"#ffffff\"},\"shape\":\"box\",\"font\":{\"face\":\"monospace\",\"align\":\"left\"}},{\"id\":\"DAOContract.GetVote(System.UInt32, Stratis.SmartContracts.Address)::2\",\"size\":150,\"label\":\"Node ID: DAOContract.GetVote(System.UInt32, Stratis.SmartContracts.Address)::2\\r\\nIL_0000: Ldarg_0\\r\\nIL_0001: Call [get] System.Linq.Enumerable+<TakeRangeFromEndIterator>d__245`1[System.Char].State\\r\\nIL_0006: Ldstr \\\"Vote:{0}:{1}\\\"\\r\\nIL_000b: Ldarg_1 proposalId\\r\\nIL_000c: Box System.UInt32\\r\\nIL_0011: Ldarg_2 address\\r\\nIL_0012: Box Stratis.SmartContracts.Address\\r\\nIL_0017: Call [method] System.String System.String.Format(System.String, System.Object, System.Object)\\r\\nIL_001c: Callvirt [method] System.UInt32 Stratis.SmartContracts.IPersistentState.GetUInt32(System.String)\\r\\nIL_0021: Ret\\r\\n\",\"color\":{\"background\":\"#ffffff\"},\"shape\":\"box\",\"font\":{\"face\":\"monospace\",\"align\":\"left\"}},{\"id\":\"DAOContract.WhitelistAddress(Stratis.SmartContracts.Address)::0\",\"size\":150,\"label\":\"DAOContract.WhitelistAddress(Stratis.SmartContracts.Address)\\r\\nLocation: DAOContract.cs(210:5)-(210:6)\",\"color\":{\"background\":\"#ffff00\"},\"shape\":\"box\",\"font\":{\"face\":\"monospace\",\"align\":\"left\"}},{\"id\":\"DAOContract.BlacklistAddresses(System.Byte[])::2\",\"size\":150,\"label\":\"Node ID: DAOContract.BlacklistAddresses(System.Byte[])::2\\r\\nIL_0000: Nop\\r\\nIL_0001: Ldarg_0\\r\\nIL_0002: Call [method] System.Void DAOContract.EnsureOwnerOnly()\\r\\nIL_0007: Nop\\r\\nIL_0008: Nop\\r\\nIL_0009: Ldarg_0\\r\\nIL_000a: Call [get] System.Linq.Enumerable+<TakeRangeFromEndIterator>d__245`1[System.Char].Serializer\\r\\nIL_000f: Ldarg_1 addresses\\r\\nIL_0010: Callvirt [method] Stratis.SmartContracts.Address[] Stratis.SmartContracts.ISerializer.ToArray<Stratis.SmartContracts.Address>(System.Byte[])\\r\\nIL_0015: Stloc_0 local_0\\r\\nIL_0016: Ldc_I4_0 0\\r\\nIL_0017: Stloc_1 local_1\\r\\nIL_0018: Br_S IL_0054\\r\\n\",\"color\":{\"background\":\"#ffffff\"},\"shape\":\"box\",\"font\":{\"face\":\"monospace\",\"align\":\"left\"}},{\"id\":\"DAOContract.Vote(System.UInt32, System.Boolean)::0\",\"size\":150,\"label\":\"DAOContract.Vote(System.UInt32, System.Boolean)\\r\\nLocation: DAOContract.cs(113:5)-(113:6)\",\"color\":{\"background\":\"#ffff00\"},\"shape\":\"box\",\"font\":{\"face\":\"monospace\",\"align\":\"left\"}},{\"id\":\"DAOContract.LastProposalId.set(System.UInt32)::0\",\"size\":150,\"label\":\"DAOContract.LastProposalId.set(System.UInt32)\\r\\nLocation: DAOContract.cs(51:24)-(51:70)\",\"color\":{\"background\":\"#ffffff\"},\"shape\":\"box\",\"font\":{\"face\":\"monospace\",\"align\":\"left\"}},{\"id\":\"DAOContract.UpdateMaxVotingDuration(System.UInt32)::0\",\"size\":150,\"label\":\"DAOContract.UpdateMaxVotingDuration(System.UInt32)\\r\\nLocation: DAOContract.cs(259:5)-(259:6)\",\"color\":{\"background\":\"#ffff00\"},\"shape\":\"box\",\"font\":{\"face\":\"monospace\",\"align\":\"left\"}},{\"id\":\"DAOContract.GetNoVotes(System.UInt32)::2\",\"size\":150,\"label\":\"Node ID: DAOContract.GetNoVotes(System.UInt32)::2\\r\\nIL_0000: Ldarg_0\\r\\nIL_0001: Call [get] System.Linq.Enumerable+<TakeRangeFromEndIterator>d__245`1[System.Char].State\\r\\nIL_0006: Ldstr \\\"NoVotes:{0}\\\"\\r\\nIL_000b: Ldarg_1 proposalId\\r\\nIL_000c: Box System.UInt32\\r\\nIL_0011: Call [method] System.String System.String.Format(System.String, System.Object)\\r\\nIL_0016: Callvirt [method] System.UInt32 Stratis.SmartContracts.IPersistentState.GetUInt32(System.String)\\r\\nIL_001b: Ret\\r\\n\",\"color\":{\"background\":\"#ffffff\"},\"shape\":\"box\",\"font\":{\"face\":\"monospace\",\"align\":\"left\"}},{\"id\":\"DAOContract.IsWhitelisted(Stratis.SmartContracts.Address)::2\",\"size\":150,\"label\":\"Node ID: DAOContract.IsWhitelisted(Stratis.SmartContracts.Address)::2\\r\\nIL_0000: Ldarg_0\\r\\nIL_0001: Call [get] System.Linq.Enumerable+<TakeRangeFromEndIterator>d__245`1[System.Char].State\\r\\nIL_0006: Ldstr \\\"Whitelisted:{0}\\\"\\r\\nIL_000b: Ldarg_1 address\\r\\nIL_000c: Box Stratis.SmartContracts.Address\\r\\nIL_0011: Call [method] System.String System.String.Format(System.String, System.Object)\\r\\nIL_0016: Callvirt [method] System.Boolean Stratis.SmartContracts.IPersistentState.GetBool(System.String)\\r\\nIL_001b: Ret\\r\\n\",\"color\":{\"background\":\"#ffffff\"},\"shape\":\"box\",\"font\":{\"face\":\"monospace\",\"align\":\"left\"}},{\"id\":\"DAOContract.Vote(System.UInt32, System.Boolean)::2\",\"size\":150,\"label\":\"Node ID: DAOContract.Vote(System.UInt32, System.Boolean)::2\\r\\nIL_0000: Nop\\r\\nIL_0001: Ldarg_0\\r\\nIL_0002: Call [method] System.Void DAOContract.EnsureNotPayable()\\r\\nIL_0007: Nop\\r\\nIL_0008: Ldarg_0\\r\\nIL_0009: Ldarg_0\\r\\nIL_000a: Ldarg_0\\r\\nIL_000b: Call [get] System.Linq.Enumerable+<TakeRangeFromEndIterator>d__245`1[System.Char].Message\\r\\nIL_0010: Callvirt [get] System.Linq.Enumerable+<TakeRangeFromEndIterator>d__245`1[System.Char].Sender\\r\\nIL_0015: Call [method] System.Boolean DAOContract.IsWhitelisted(Stratis.SmartContracts.Address)\\r\\nIL_001a: Ldstr \\\"The caller is not whitelisted.\\\"\\r\\nIL_001f: Call [method] System.Void Stratis.SmartContracts.SmartContract.Assert(System.Boolean, System.String)\\r\\nIL_0024: Nop\\r\\nIL_0025: Ldarg_0\\r\\nIL_0026: Ldarg_0\\r\\nIL_0027: Ldarg_1 proposalId\\r\\nIL_0028: Call [method] System.UInt64 DAOContract.GetVotingDeadline(System.UInt32)\\r\\nIL_002d: Ldarg_0\\r\\nIL_002e: Call [get] System.Linq.Enumerable+<TakeRangeFromEndIterator>d__245`1[System.Char].Block\\r\\nIL_0033: Callvirt [get] System.Linq.Enumerable+<TakeRangeFromEndIterator>d__245`1[System.Char].Number\\r\\nIL_0038: Cgt_Un\\r\\nIL_003a: Ldstr \\\"Voting is closed.\\\"\\r\\nIL_003f: Call [method] System.Void Stratis.SmartContracts.SmartContract.Assert(System.Boolean, System.String)\\r\\nIL_0044: Nop\\r\\nIL_0045: Ldarg_0\\r\\nIL_0046: Ldarg_1 proposalId\\r\\nIL_0047: Ldarg_0\\r\\nIL_0048: Ldarg_2 vote\\r\\nIL_0049: Call [method] DAOContract.Votes DAOContract.ToVote(System.Boolean)\\r\\nIL_004e: Call [method] System.Void DAOContract.VoteProposal(System.UInt32, DAOContract.Votes)\\r\\nIL_0053: Nop\\r\\nIL_0054: Ret\\r\\n\",\"color\":{\"background\":\"#ffffff\"},\"shape\":\"box\",\"font\":{\"face\":\"monospace\",\"align\":\"left\"}},{\"id\":\"DAOContract.CreateProposal(Stratis.SmartContracts.Address, System.UInt64, System.UInt32, System.String)::8\",\"size\":150,\"label\":\"Node ID: DAOContract.CreateProposal(Stratis.SmartContracts.Address, System.UInt64, System.UInt32, System.String)::8\\r\\nIL_0052: Stloc_0 local_0\\r\\nIL_0053: Ldarg_0\\r\\nIL_0054: Ldloc_0 local_0\\r\\nIL_0055: Ldc_I4 200\\r\\nIL_005a: Cgt\\r\\nIL_005c: Ldc_I4_0 0\\r\\nIL_005d: Ceq\\r\\nIL_005f: Ldstr \\\"The description length can be up to 200 characters.\\\"\\r\\nIL_0064: Call [method] System.Void Stratis.SmartContracts.SmartContract.Assert(System.Boolean, System.String)\\r\\nIL_0069: Nop\\r\\nIL_006a: Ldloca_S local_1\\r\\nIL_006c: Initobj DAOContract.Proposal\\r\\nIL_0072: Ldloca_S local_1\\r\\nIL_0074: Ldarg_2 amount\\r\\nIL_0075: Stfld [field] DAOContract.Proposal.RequestedAmount\\r\\nIL_007a: Ldloca_S local_1\\r\\nIL_007c: Ldarg_S description\\r\\nIL_007e: Stfld [field] DAOContract.Proposal.Description\\r\\nIL_0083: Ldloca_S local_1\\r\\nIL_0085: Ldarg_1 recipent\\r\\nIL_0086: Stfld [field] DAOContract.Proposal.Recipient\\r\\nIL_008b: Ldloca_S local_1\\r\\nIL_008d: Ldarg_0\\r\\nIL_008e: Call [get] System.Linq.Enumerable+<TakeRangeFromEndIterator>d__245`1[System.Char].Message\\r\\nIL_0093: Callvirt [get] System.Linq.Enumerable+<TakeRangeFromEndIterator>d__245`1[System.Char].Sender\\r\\nIL_0098: Stfld [field] DAOContract.Proposal.Owner\\r\\nIL_009d: Ldarg_0\\r\\nIL_009e: Call [method] System.UInt32 DAOContract.LastProposalId.get()\\r\\nIL_00a3: Stloc_2 local_2\\r\\nIL_00a4: Ldarg_0\\r\\nIL_00a5: Ldloc_2 local_2\\r\\nIL_00a6: Ldloc_1 local_1\\r\\nIL_00a7: Call [method] System.Void DAOContract.SetProposal(System.UInt32, DAOContract.Proposal)\\r\\nIL_00ac: Nop\\r\\nIL_00ad: Ldarg_0\\r\\nIL_00ae: Ldloc_2 local_2\\r\\nIL_00af: Ldarg_3 votingDuration\\r\\nIL_00b0: Conv_U8\\r\\nIL_00b1: Ldarg_0\\r\\nIL_00b2: Call [get] System.Linq.Enumerable+<TakeRangeFromEndIterator>d__245`1[System.Char].Block\\r\\nIL_00b7: Callvirt [get] System.Linq.Enumerable+<TakeRangeFromEndIterator>d__245`1[System.Char].Number\\r\\nIL_00bc: Add_Ovf_Un\\r\\nIL_00bd: Call [method] System.Void DAOContract.SetVotingDeadline(System.UInt32, System.UInt64)\\r\\nIL_00c2: Nop\\r\\nIL_00c3: Ldarg_0\\r\\nIL_00c4: Ldloc_2 local_2\\r\\nIL_00c5: Ldc_I4_1 1\\r\\nIL_00c6: Add\\r\\nIL_00c7: Call [method] System.Void DAOContract.LastProposalId.set(System.UInt32)\\r\\nIL_00cc: Nop\\r\\nIL_00cd: Ldloc_2 local_2\\r\\nIL_00ce: Stloc_3 local_3\\r\\nIL_00cf: Br_S IL_00d1\\r\\n\",\"color\":{\"background\":\"#ffffff\"},\"shape\":\"box\",\"font\":{\"face\":\"monospace\",\"align\":\"left\"}}]), \r\n",
       "                        edges: new visjs.DataSet([{\"from\":\"DAOContract.MinQuorum.get()::0\",\"to\":\"DAOContract.MinQuorum.get()::2\"},{\"from\":\"DAOContract.ExecuteProposal(System.UInt32)::0\",\"to\":\"DAOContract.ExecuteProposal(System.UInt32)::2\"},{\"from\":\"DAOContract.Unvote(System.UInt32, DAOContract.Votes)::6\",\"to\":\"DAOContract.Unvote(System.UInt32, DAOContract.Votes)::7\"},{\"from\":\"DAOContract.SetProposal(System.UInt32, DAOContract.Proposal)::0\",\"to\":\"DAOContract.SetProposal(System.UInt32, DAOContract.Proposal)::2\"},{\"from\":\"DAOContract.MinVotingDuration.set(System.UInt32)::0\",\"to\":\"DAOContract.MinVotingDuration.set(System.UInt32)::2\"},{\"from\":\"DAOContract.SetVote(System.UInt32, Stratis.SmartContracts.Address, DAOContract.Votes)::0\",\"to\":\"DAOContract.SetVote(System.UInt32, Stratis.SmartContracts.Address, DAOContract.Votes)::2\"},{\"from\":\"DAOContract.CreateProposal(Stratis.SmartContracts.Address, System.UInt64, System.UInt32, System.String)::3\",\"to\":\"DAOContract.CreateProposal(Stratis.SmartContracts.Address, System.UInt64, System.UInt32, System.String)::5\"},{\"from\":\"DAOContract.TransferOwnership(Stratis.SmartContracts.Address)::0\",\"to\":\"DAOContract.TransferOwnership(Stratis.SmartContracts.Address)::2\"},{\"from\":\"DAOContract.SetIsWhitelisted(Stratis.SmartContracts.Address, System.Boolean)::0\",\"to\":\"DAOContract.SetIsWhitelisted(Stratis.SmartContracts.Address, System.Boolean)::2\"},{\"from\":\"DAOContract.Unvote(System.UInt32, DAOContract.Votes)::3\",\"to\":\"DAOContract.Unvote(System.UInt32, DAOContract.Votes)::7\"},{\"from\":\"DAOContract.SetYesVotes(System.UInt32, System.UInt32)::0\",\"to\":\"DAOContract.SetYesVotes(System.UInt32, System.UInt32)::2\"},{\"from\":\"DAOContract.CreateProposal(Stratis.SmartContracts.Address, System.UInt64, System.UInt32, System.String)::4\",\"to\":\"DAOContract.CreateProposal(Stratis.SmartContracts.Address, System.UInt64, System.UInt32, System.String)::5\"},{\"from\":\"DAOContract.VoteProposal(System.UInt32, DAOContract.Votes)::6\",\"to\":\"DAOContract.VoteProposal(System.UInt32, DAOContract.Votes)::5\"},{\"from\":\"DAOContract.WhitelistAddresses(System.Byte[])::3\",\"to\":\"DAOContract.WhitelistAddresses(System.Byte[])::4\"},{\"from\":\"DAOContract.WhitelistAddresses(System.Byte[])::3\",\"to\":\"DAOContract.WhitelistAddresses(System.Byte[])::8\"},{\"from\":\"DAOContract.ToVote(System.Boolean)::4\",\"to\":\"DAOContract.ToVote(System.Boolean)::5\"},{\"from\":\"DAOContract.GetYesVotes(System.UInt32)::0\",\"to\":\"DAOContract.GetYesVotes(System.UInt32)::2\"},{\"from\":\"DAOContract.BlacklistAddress(Stratis.SmartContracts.Address)::2\",\"to\":\"DAOContract.BlacklistAddress(Stratis.SmartContracts.Address)::3\"},{\"from\":\"DAOContract.BlacklistAddress(Stratis.SmartContracts.Address)::2\",\"to\":\"DAOContract.BlacklistAddress(Stratis.SmartContracts.Address)::4\"},{\"from\":\"DAOContract.BlacklistAddress(Stratis.SmartContracts.Address)::4\",\"to\":\"DAOContract.BlacklistAddress(Stratis.SmartContracts.Address)::5\"},{\"from\":\"DAOContract.WhitelistAddresses(System.Byte[])::5\",\"to\":\"DAOContract.WhitelistAddresses(System.Byte[])::7\"},{\"from\":\"DAOContract.EnsureNotPayable()::0\",\"to\":\"DAOContract.EnsureNotPayable()::2\"},{\"from\":\"DAOContract.CreateProposal(Stratis.SmartContracts.Address, System.UInt64, System.UInt32, System.String)::0\",\"to\":\"DAOContract.CreateProposal(Stratis.SmartContracts.Address, System.UInt64, System.UInt32, System.String)::2\"},{\"from\":\"DAOContract.Unvote(System.UInt32, DAOContract.Votes)::5\",\"to\":\"DAOContract.Unvote(System.UInt32, DAOContract.Votes)::7\"},{\"from\":\"DAOContract.IsWhitelisted(Stratis.SmartContracts.Address)::0\",\"to\":\"DAOContract.IsWhitelisted(Stratis.SmartContracts.Address)::2\"},{\"from\":\"DAOContract.WhitelistedCount.get()::0\",\"to\":\"DAOContract.WhitelistedCount.get()::2\"},{\"from\":\"DAOContract.CreateProposal(Stratis.SmartContracts.Address, System.UInt64, System.UInt32, System.String)::7\",\"to\":\"DAOContract.CreateProposal(Stratis.SmartContracts.Address, System.UInt64, System.UInt32, System.String)::8\"},{\"from\":\"DAOContract.SetNoVotes(System.UInt32, System.UInt32)::0\",\"to\":\"DAOContract.SetNoVotes(System.UInt32, System.UInt32)::2\"},{\"from\":\"DAOContract.Owner.set(Stratis.SmartContracts.Address)::0\",\"to\":\"DAOContract.Owner.set(Stratis.SmartContracts.Address)::2\"},{\"from\":\"DAOContract.WhitelistedCount.set(System.UInt32)::0\",\"to\":\"DAOContract.WhitelistedCount.set(System.UInt32)::2\"},{\"from\":\"DAOContract.BlacklistAddresses(System.Byte[])::6\",\"to\":\"DAOContract.BlacklistAddresses(System.Byte[])::7\"},{\"from\":\"DAOContract.EnsureOwnerOnly()::0\",\"to\":\"DAOContract.EnsureOwnerOnly()::2\"},{\"from\":\"DAOContract.Receive()::0\",\"to\":\"DAOContract.Receive()::2\"},{\"from\":\"DAOContract.BlacklistAddress(Stratis.SmartContracts.Address)::3\",\"to\":\"DAOContract.BlacklistAddress(Stratis.SmartContracts.Address)::5\"},{\"from\":\"DAOContract.Owner.get()::0\",\"to\":\"DAOContract.Owner.get()::2\"},{\"from\":\"DAOContract.WhitelistAddresses(System.Byte[])::2\",\"to\":\"DAOContract.WhitelistAddresses(System.Byte[])::3\"},{\"from\":\"DAOContract.GetVote(System.UInt32, Stratis.SmartContracts.Address)::0\",\"to\":\"DAOContract.GetVote(System.UInt32, Stratis.SmartContracts.Address)::2\"},{\"from\":\"DAOContract.CreateProposal(Stratis.SmartContracts.Address, System.UInt64, System.UInt32, System.String)::2\",\"to\":\"DAOContract.CreateProposal(Stratis.SmartContracts.Address, System.UInt64, System.UInt32, System.String)::3\"},{\"from\":\"DAOContract.CreateProposal(Stratis.SmartContracts.Address, System.UInt64, System.UInt32, System.String)::2\",\"to\":\"DAOContract.CreateProposal(Stratis.SmartContracts.Address, System.UInt64, System.UInt32, System.String)::4\"},{\"from\":\"DAOContract.SetVotingDeadline(System.UInt32, System.UInt64)::0\",\"to\":\"DAOContract.SetVotingDeadline(System.UInt32, System.UInt64)::2\"},{\"from\":\"DAOContract.VoteProposal(System.UInt32, DAOContract.Votes)::0\",\"to\":\"DAOContract.VoteProposal(System.UInt32, DAOContract.Votes)::2\"},{\"from\":\"DAOContract.Unvote(System.UInt32, DAOContract.Votes)::4\",\"to\":\"DAOContract.Unvote(System.UInt32, DAOContract.Votes)::7\"},{\"from\":\"DAOContract.VoteProposal(System.UInt32, DAOContract.Votes)::7\",\"to\":\"DAOContract.VoteProposal(System.UInt32, DAOContract.Votes)::5\"},{\"from\":\"DAOContract.ToVote(System.Boolean)::3\",\"to\":\"DAOContract.ToVote(System.Boolean)::5\"},{\"from\":\"DAOContract.Unvote(System.UInt32, DAOContract.Votes)::0\",\"to\":\"DAOContract.Unvote(System.UInt32, DAOContract.Votes)::2\"},{\"from\":\"DAOContract.CreateProposal(Stratis.SmartContracts.Address, System.UInt64, System.UInt32, System.String)::5\",\"to\":\"DAOContract.CreateProposal(Stratis.SmartContracts.Address, System.UInt64, System.UInt32, System.String)::6\"},{\"from\":\"DAOContract.CreateProposal(Stratis.SmartContracts.Address, System.UInt64, System.UInt32, System.String)::5\",\"to\":\"DAOContract.CreateProposal(Stratis.SmartContracts.Address, System.UInt64, System.UInt32, System.String)::7\"},{\"from\":\"DAOContract.VoteProposal(System.UInt32, DAOContract.Votes)::3\",\"to\":\"DAOContract.VoteProposal(System.UInt32, DAOContract.Votes)::6\"},{\"from\":\"DAOContract.VoteProposal(System.UInt32, DAOContract.Votes)::3\",\"to\":\"DAOContract.VoteProposal(System.UInt32, DAOContract.Votes)::7\"},{\"from\":\"DAOContract.WhitelistAddress(Stratis.SmartContracts.Address)::4\",\"to\":\"DAOContract.WhitelistAddress(Stratis.SmartContracts.Address)::5\"},{\"from\":\"DAOContract.GetProposal(System.UInt32)::0\",\"to\":\"DAOContract.GetProposal(System.UInt32)::2\"},{\"from\":\"DAOContract.BlacklistAddresses(System.Byte[])::0\",\"to\":\"DAOContract.BlacklistAddresses(System.Byte[])::2\"},{\"from\":\"DAOContract.MinVotingDuration.get()::0\",\"to\":\"DAOContract.MinVotingDuration.get()::2\"},{\"from\":\"DAOContract.Unvote(System.UInt32, DAOContract.Votes)::2\",\"to\":\"DAOContract.Unvote(System.UInt32, DAOContract.Votes)::3\"},{\"from\":\"DAOContract.Unvote(System.UInt32, DAOContract.Votes)::2\",\"to\":\"DAOContract.Unvote(System.UInt32, DAOContract.Votes)::4\"},{\"from\":\"DAOContract.Unvote(System.UInt32, DAOContract.Votes)::2\",\"to\":\"DAOContract.Unvote(System.UInt32, DAOContract.Votes)::5\"},{\"from\":\"DAOContract.Unvote(System.UInt32, DAOContract.Votes)::2\",\"to\":\"DAOContract.Unvote(System.UInt32, DAOContract.Votes)::6\"},{\"from\":\"DAOContract.ToVote(System.Boolean)::2\",\"to\":\"DAOContract.ToVote(System.Boolean)::3\"},{\"from\":\"DAOContract.ToVote(System.Boolean)::2\",\"to\":\"DAOContract.ToVote(System.Boolean)::4\"},{\"from\":\"DAOContract.WhitelistAddress(Stratis.SmartContracts.Address)::3\",\"to\":\"DAOContract.WhitelistAddress(Stratis.SmartContracts.Address)::5\"},{\"from\":\"DAOContract.MaxVotingDuration.get()::0\",\"to\":\"DAOContract.MaxVotingDuration.get()::2\"},{\"from\":\"DAOContract.BlacklistAddresses(System.Byte[])::5\",\"to\":\"DAOContract.BlacklistAddresses(System.Byte[])::7\"},{\"from\":\"DAOContract.WhitelistAddresses(System.Byte[])::0\",\"to\":\"DAOContract.WhitelistAddresses(System.Byte[])::2\"},{\"from\":\"DAOContract..ctor(Stratis.SmartContracts.ISmartContractState, System.UInt32)::0\",\"to\":\"DAOContract..ctor(Stratis.SmartContracts.ISmartContractState, System.UInt32)::2\"},{\"from\":\"DAOContract.WhitelistAddresses(System.Byte[])::6\",\"to\":\"DAOContract.WhitelistAddresses(System.Byte[])::7\"},{\"from\":\"DAOContract.Deposit()::0\",\"to\":\"DAOContract.Deposit()::2\"},{\"from\":\"DAOContract.CreateProposal(Stratis.SmartContracts.Address, System.UInt64, System.UInt32, System.String)::6\",\"to\":\"DAOContract.CreateProposal(Stratis.SmartContracts.Address, System.UInt64, System.UInt32, System.String)::8\"},{\"from\":\"DAOContract.BlacklistAddresses(System.Byte[])::7\",\"to\":\"DAOContract.BlacklistAddresses(System.Byte[])::3\"},{\"from\":\"DAOContract.MaxVotingDuration.set(System.UInt32)::0\",\"to\":\"DAOContract.MaxVotingDuration.set(System.UInt32)::2\"},{\"from\":\"DAOContract.BlacklistAddresses(System.Byte[])::3\",\"to\":\"DAOContract.BlacklistAddresses(System.Byte[])::4\"},{\"from\":\"DAOContract.BlacklistAddresses(System.Byte[])::3\",\"to\":\"DAOContract.BlacklistAddresses(System.Byte[])::8\"},{\"from\":\"DAOContract.GetNoVotes(System.UInt32)::0\",\"to\":\"DAOContract.GetNoVotes(System.UInt32)::2\"},{\"from\":\"DAOContract.WhitelistAddress(Stratis.SmartContracts.Address)::2\",\"to\":\"DAOContract.WhitelistAddress(Stratis.SmartContracts.Address)::3\"},{\"from\":\"DAOContract.WhitelistAddress(Stratis.SmartContracts.Address)::2\",\"to\":\"DAOContract.WhitelistAddress(Stratis.SmartContracts.Address)::4\"},{\"from\":\"DAOContract.GetVotingDeadline(System.UInt32)::0\",\"to\":\"DAOContract.GetVotingDeadline(System.UInt32)::2\"},{\"from\":\"DAOContract.VoteProposal(System.UInt32, DAOContract.Votes)::2\",\"to\":\"DAOContract.VoteProposal(System.UInt32, DAOContract.Votes)::3\"},{\"from\":\"DAOContract.VoteProposal(System.UInt32, DAOContract.Votes)::2\",\"to\":\"DAOContract.VoteProposal(System.UInt32, DAOContract.Votes)::4\"},{\"from\":\"DAOContract.WhitelistAddresses(System.Byte[])::7\",\"to\":\"DAOContract.WhitelistAddresses(System.Byte[])::3\"},{\"from\":\"DAOContract.WhitelistAddresses(System.Byte[])::4\",\"to\":\"DAOContract.WhitelistAddresses(System.Byte[])::5\"},{\"from\":\"DAOContract.WhitelistAddresses(System.Byte[])::4\",\"to\":\"DAOContract.WhitelistAddresses(System.Byte[])::6\"},{\"from\":\"DAOContract.VoteProposal(System.UInt32, DAOContract.Votes)::4\",\"to\":\"DAOContract.VoteProposal(System.UInt32, DAOContract.Votes)::5\"},{\"from\":\"DAOContract.BlacklistAddress(Stratis.SmartContracts.Address)::0\",\"to\":\"DAOContract.BlacklistAddress(Stratis.SmartContracts.Address)::2\"},{\"from\":\"DAOContract.ToVote(System.Boolean)::0\",\"to\":\"DAOContract.ToVote(System.Boolean)::2\"},{\"from\":\"DAOContract.UpdateMinVotingDuration(System.UInt32)::0\",\"to\":\"DAOContract.UpdateMinVotingDuration(System.UInt32)::2\"},{\"from\":\"DAOContract.LastProposalId.get()::0\",\"to\":\"DAOContract.LastProposalId.get()::2\"},{\"from\":\"DAOContract.BlacklistAddresses(System.Byte[])::4\",\"to\":\"DAOContract.BlacklistAddresses(System.Byte[])::5\"},{\"from\":\"DAOContract.BlacklistAddresses(System.Byte[])::4\",\"to\":\"DAOContract.BlacklistAddresses(System.Byte[])::6\"},{\"from\":\"DAOContract.WhitelistAddress(Stratis.SmartContracts.Address)::0\",\"to\":\"DAOContract.WhitelistAddress(Stratis.SmartContracts.Address)::2\"},{\"from\":\"DAOContract.BlacklistAddresses(System.Byte[])::2\",\"to\":\"DAOContract.BlacklistAddresses(System.Byte[])::3\"},{\"from\":\"DAOContract.Vote(System.UInt32, System.Boolean)::0\",\"to\":\"DAOContract.Vote(System.UInt32, System.Boolean)::2\"},{\"from\":\"DAOContract.LastProposalId.set(System.UInt32)::0\",\"to\":\"DAOContract.LastProposalId.set(System.UInt32)::2\"},{\"from\":\"DAOContract.UpdateMaxVotingDuration(System.UInt32)::0\",\"to\":\"DAOContract.UpdateMaxVotingDuration(System.UInt32)::2\"},{\"from\":\"DAOContract.CreateProposal(Stratis.SmartContracts.Address, System.UInt64, System.UInt32, System.String)::8\",\"to\":\"DAOContract.CreateProposal(Stratis.SmartContracts.Address, System.UInt64, System.UInt32, System.String)::9\"}])\r\n",
       "                    };\r\n",
       "        let options = {\"autoResize\":false,\"manipulation\":false,\"width\":\"100%\",\"height\":\"600px\",\"layout\":{\"improvedLayout\":true,\"hierarchical\":{\"enabled\":true,\"sortMethod\":\"directed\",\"direction\":\"UD\",\"nodeSpacing\":300,\"levelSeparation\":300}},\"physics\":{\"hierarchicalRepulsion\":{\"nodeDistance\":300,\"avoidOverlap\":1.0}},\"edges\":{\"arrows\":{\"to\":{\"enabled\":true}},\"smooth\":{\"enabled\":true}},\"interaction\":{\"navigationButtons\":true}};\r\n",
       "        let network = new visjs.Network(container, data, options); \r\n",
       "        },\r\n",
       "        (error) => {\r\n",
       "            console.log(error);\r\n",
       "        });\r\n",
       "        }\r\n",
       "// ensure `require` is available globally\r\n",
       "if ((typeof(require) !==  typeof(Function)) || (typeof(require.config) !== typeof(Function))) {\r\n",
       "    let require_script = document.createElement('script');\r\n",
       "    require_script.setAttribute('src', 'https://cdnjs.cloudflare.com/ajax/libs/require.js/2.3.6/require.min.js');\r\n",
       "    require_script.setAttribute('type', 'text/javascript');\r\n",
       "    \r\n",
       "    \r\n",
       "    require_script.onload = function() {\r\n",
       "        loadVisjs_90fd89b8dd004d948468d75ab061d438();\r\n",
       "    };\r\n",
       "\r\n",
       "    document.getElementsByTagName('head')[0].appendChild(require_script);\r\n",
       "}\r\n",
       "else {\r\n",
       "    loadVisjs_90fd89b8dd004d948468d75ab061d438();\r\n",
       "}\r\n",
       "\r\n",
       "</script>\r\n",
       "<div id=\"90fd89b8dd004d948468d75ab061d438\" style=\"height:600px; width:100%\"></div>\r\n",
       "</div>\r\n"
      ]
     },
     "execution_count": 8,
     "metadata": {},
     "output_type": "execute_result"
    }
   ],
   "source": [
    "an.GetControlFlowGraph()"
   ]
  },
  {
   "cell_type": "code",
   "execution_count": 7,
   "id": "435bd6f2",
   "metadata": {},
   "outputs": [
    {
     "name": "stderr",
     "output_type": "stream",
     "text": [
      "\r\n",
      "(1,20): error CS0234: The type or namespace name 'Graph' does not exist in the namespace 'Silver' (are you missing an assembly reference?)\r\n",
      "\r\n"
     ]
    },
    {
     "ename": "Cell not executed",
     "evalue": "compilation error",
     "output_type": "error",
     "traceback": []
    }
   ],
   "source": [
    "var g = new Silver.Graph();"
   ]
  }
 ],
 "metadata": {
  "kernelspec": {
   "display_name": ".NET (C#)",
   "language": "C#",
   "name": ".net-csharp"
  },
  "language_info": {
   "file_extension": ".cs",
   "mimetype": "text/x-csharp",
   "name": "C#",
   "pygments_lexer": "csharp",
   "version": "10.0"
  },
  "widgets": {
   "application/vnd.jupyter.widget-state+json": {
    "state": {},
    "version_major": 2,
    "version_minor": 0
   }
  }
 },
 "nbformat": 4,
 "nbformat_minor": 5
}
