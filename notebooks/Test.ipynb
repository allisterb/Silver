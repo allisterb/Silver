{
 "cells": [
  {
   "cell_type": "code",
   "execution_count": 1,
   "id": "1a995c17",
   "metadata": {},
   "outputs": [
    {
     "data": {
      "text/html": [
       "\r\n",
       "<div>\r\n",
       "    <div id='dotnet-interactive-this-cell-27856.Microsoft.DotNet.Interactive.Http.HttpPort' style='display: none'>\r\n",
       "        The below script needs to be able to find the current output cell; this is an easy method to get it.\r\n",
       "    </div>\r\n",
       "    <script type='text/javascript'>\r\n",
       "async function probeAddresses(probingAddresses) {\r\n",
       "    function timeout(ms, promise) {\r\n",
       "        return new Promise(function (resolve, reject) {\r\n",
       "            setTimeout(function () {\r\n",
       "                reject(new Error('timeout'))\r\n",
       "            }, ms)\r\n",
       "            promise.then(resolve, reject)\r\n",
       "        })\r\n",
       "    }\r\n",
       "\r\n",
       "    if (Array.isArray(probingAddresses)) {\r\n",
       "        for (let i = 0; i < probingAddresses.length; i++) {\r\n",
       "\r\n",
       "            let rootUrl = probingAddresses[i];\r\n",
       "\r\n",
       "            if (!rootUrl.endsWith('/')) {\r\n",
       "                rootUrl = `${rootUrl}/`;\r\n",
       "            }\r\n",
       "\r\n",
       "            try {\r\n",
       "                let response = await timeout(1000, fetch(`${rootUrl}discovery`, {\r\n",
       "                    method: 'POST',\r\n",
       "                    cache: 'no-cache',\r\n",
       "                    mode: 'cors',\r\n",
       "                    timeout: 1000,\r\n",
       "                    headers: {\r\n",
       "                        'Content-Type': 'text/plain'\r\n",
       "                    },\r\n",
       "                    body: probingAddresses[i]\r\n",
       "                }));\r\n",
       "\r\n",
       "                if (response.status == 200) {\r\n",
       "                    return rootUrl;\r\n",
       "                }\r\n",
       "            }\r\n",
       "            catch (e) { }\r\n",
       "        }\r\n",
       "    }\r\n",
       "}\r\n",
       "\r\n",
       "function loadDotnetInteractiveApi() {\r\n",
       "    probeAddresses([\"http://192.168.1.189:1000/\", \"http://172.21.144.1:1000/\", \"http://127.0.0.1:1000/\"])\r\n",
       "        .then((root) => {\r\n",
       "        // use probing to find host url and api resources\r\n",
       "        // load interactive helpers and language services\r\n",
       "        let dotnetInteractiveRequire = require.config({\r\n",
       "        context: '27856.Microsoft.DotNet.Interactive.Http.HttpPort',\r\n",
       "                paths:\r\n",
       "            {\r\n",
       "                'dotnet-interactive': `${root}resources`\r\n",
       "                }\r\n",
       "        }) || require;\r\n",
       "\r\n",
       "            window.dotnetInteractiveRequire = dotnetInteractiveRequire;\r\n",
       "\r\n",
       "            window.configureRequireFromExtension = function(extensionName, extensionCacheBuster) {\r\n",
       "                let paths = {};\r\n",
       "                paths[extensionName] = `${root}extensions/${extensionName}/resources/`;\r\n",
       "                \r\n",
       "                let internalRequire = require.config({\r\n",
       "                    context: extensionCacheBuster,\r\n",
       "                    paths: paths,\r\n",
       "                    urlArgs: `cacheBuster=${extensionCacheBuster}`\r\n",
       "                    }) || require;\r\n",
       "\r\n",
       "                return internalRequire\r\n",
       "            };\r\n",
       "        \r\n",
       "            dotnetInteractiveRequire([\r\n",
       "                    'dotnet-interactive/dotnet-interactive'\r\n",
       "                ],\r\n",
       "                function (dotnet) {\r\n",
       "                    dotnet.init(window);\r\n",
       "                },\r\n",
       "                function (error) {\r\n",
       "                    console.log(error);\r\n",
       "                }\r\n",
       "            );\r\n",
       "        })\r\n",
       "        .catch(error => {console.log(error);});\r\n",
       "    }\r\n",
       "\r\n",
       "// ensure `require` is available globally\r\n",
       "if ((typeof(require) !==  typeof(Function)) || (typeof(require.config) !== typeof(Function))) {\r\n",
       "    let require_script = document.createElement('script');\r\n",
       "    require_script.setAttribute('src', 'https://cdnjs.cloudflare.com/ajax/libs/require.js/2.3.6/require.min.js');\r\n",
       "    require_script.setAttribute('type', 'text/javascript');\r\n",
       "    \r\n",
       "    \r\n",
       "    require_script.onload = function() {\r\n",
       "        loadDotnetInteractiveApi();\r\n",
       "    };\r\n",
       "\r\n",
       "    document.getElementsByTagName('head')[0].appendChild(require_script);\r\n",
       "}\r\n",
       "else {\r\n",
       "    loadDotnetInteractiveApi();\r\n",
       "}\r\n",
       "\r\n",
       "    </script>\r\n",
       "</div>"
      ]
     },
     "metadata": {},
     "output_type": "display_data"
    },
    {
     "data": {
      "text/markdown": [
       "Added formatter for AGL graphs to .NET Interactive kernel csharp."
      ]
     },
     "metadata": {},
     "output_type": "display_data"
    },
    {
     "data": {
      "text/markdown": [
       "Added formatter for DOT language to .NET Interactive kernel csharp."
      ]
     },
     "metadata": {},
     "output_type": "display_data"
    },
    {
     "data": {
      "text/markdown": [
       "Added formatter for Mermaid language to .NET Interactive kernel csharp."
      ]
     },
     "metadata": {},
     "output_type": "display_data"
    },
    {
     "data": {
      "text/markdown": [
       "Added formatter for VisJS networks to .NET Interactive kernel csharp."
      ]
     },
     "metadata": {},
     "output_type": "display_data"
    }
   ],
   "source": [
    "#load \"DotNetInteractive.csx\""
   ]
  },
  {
   "cell_type": "code",
   "execution_count": 2,
   "id": "7725ee91",
   "metadata": {},
   "outputs": [],
   "source": [
    "using Silver;\n",
    "using Silver.Notebooks;\n",
    "using Silver.Drawing.VisJS;"
   ]
  },
  {
   "cell_type": "code",
   "execution_count": 3,
   "id": "bed6df7e",
   "metadata": {},
   "outputs": [
    {
     "data": {
      "text/html": [
       "<div>\r\n",
       "<script type=\"text/javascript\">\r\n",
       "loadVisjs_8cbd937f7dbc45d6978a12b6f3857ba7 = () => {\r\n",
       "(require.config({ 'paths': { 'context': '0.0.0', 'visjs' : 'https://visjs.github.io/vis-network/standalone/umd/vis-network.min', 'urlArgs': 'cacheBuster=e9a7e101a01f46c38d03dfe2060ab62f' }}) || require)(['visjs'], (visjs) => {\r\n",
       "\r\n",
       "        let container = document.getElementById('8cbd937f7dbc45d6978a12b6f3857ba7');\r\n",
       "        let data = {\r\n",
       "                        nodes: new visjs.DataSet([{\"id\":\"1\",\"label\":\"Node 1\",\"shape\":\"box\"},{\"id\":\"2\",\"label\":\"Node 2\",\"shape\":\"box\"},{\"id\":\"3\",\"label\":\"Node 3\",\"shape\":\"box\"},{\"id\":\"4\",\"label\":\"Node 4\",\"shape\":\"box\"},{\"id\":\"5\",\"label\":\"Node 5\",\"shape\":\"box\"}]), \r\n",
       "                        edges: new visjs.DataSet([{\"from\":\"1\",\"to\":\"3\"},{\"from\":\"1\",\"to\":\"2\"},{\"from\":\"2\",\"to\":\"4\"},{\"from\":\"2\",\"to\":\"5\"},{\"from\":\"3\",\"to\":\"3\"}])\r\n",
       "                    };\r\n",
       "        let options = {\"manipulation\":false,\"width\":\"100%\",\"height\":\"600px\"};\r\n",
       "        let network = new visjs.Network(container, data, options); \r\n",
       "        },\r\n",
       "        (error) => {\r\n",
       "            console.log(error);\r\n",
       "        });\r\n",
       "        }\r\n",
       "// ensure `require` is available globally\r\n",
       "if ((typeof(require) !==  typeof(Function)) || (typeof(require.config) !== typeof(Function))) {\r\n",
       "    let require_script = document.createElement('script');\r\n",
       "    require_script.setAttribute('src', 'https://cdnjs.cloudflare.com/ajax/libs/require.js/2.3.6/require.min.js');\r\n",
       "    require_script.setAttribute('type', 'text/javascript');\r\n",
       "    \r\n",
       "    \r\n",
       "    require_script.onload = function() {\r\n",
       "        loadVisjs_8cbd937f7dbc45d6978a12b6f3857ba7();\r\n",
       "    };\r\n",
       "\r\n",
       "    document.getElementsByTagName('head')[0].appendChild(require_script);\r\n",
       "}\r\n",
       "else {\r\n",
       "    loadVisjs_8cbd937f7dbc45d6978a12b6f3857ba7();\r\n",
       "}\r\n",
       "\r\n",
       "</script>\r\n",
       "<div id=\"8cbd937f7dbc45d6978a12b6f3857ba7\" style=\"height:600px; width:100%\"></div>\r\n",
       "</div>\r\n"
      ]
     },
     "execution_count": 3,
     "metadata": {},
     "output_type": "execute_result"
    }
   ],
   "source": [
    "var n = Network.LoadFrom(\"n.json\");\n",
    "n"
   ]
  },
  {
   "cell_type": "code",
   "execution_count": 4,
   "id": "f0f24ebe",
   "metadata": {},
   "outputs": [
    {
     "name": "stdout",
     "output_type": "stream",
     "text": [
      "[INFO] Target assembly is ..\\examples\\HelloBlockchainContract\\bin\\Debug\\netcoreapp2.2\\HelloBlockChainContract.dll.\n",
      "[INFO] Creating call graph for methods in assembly HelloBlockChainContract.dll...\n",
      "[WARN] The method () was not analyzed.\n",
      "[INFO] Creating call graph for methods in assembly HelloBlockChainContract.dll completed in 75ms.\n"
     ]
    },
    {
     "data": {
      "text/html": [
       "<div>\r\n",
       "<script type=\"text/javascript\">\r\n",
       "loadVisjs_70bbfe7d91614082866426f1b7a97827 = () => {\r\n",
       "(require.config({ 'paths': { 'context': '0.0.0', 'visjs' : 'https://visjs.github.io/vis-network/standalone/umd/vis-network.min', 'urlArgs': 'cacheBuster=e9a7e101a01f46c38d03dfe2060ab62f' }}) || require)(['visjs'], (visjs) => {\r\n",
       "\r\n",
       "        let container = document.getElementById('70bbfe7d91614082866426f1b7a97827');\r\n",
       "        let data = {\r\n",
       "                        nodes: new visjs.DataSet([{\"id\":\"HelloBlockchain.Requestor.set\",\"label\":\"HelloBlockchain.Requestor.set\",\"font\":{\"face\":\"Times-Roman\"}},{\"id\":\"HelloBlockchain.SendResponse\",\"label\":\"HelloBlockchain.SendResponse\",\"font\":{\"face\":\"Times-Roman\"}},{\"id\":\"HelloBlockchain.SendRequest\",\"label\":\"HelloBlockchain.SendRequest\",\"font\":{\"face\":\"Times-Roman\"}},{\"id\":\"HelloBlockchain.ResponseMessage.get\",\"label\":\"HelloBlockchain.ResponseMessage.get\",\"font\":{\"face\":\"Times-Roman\"}},{\"id\":\"HelloBlockchain..ctor\",\"label\":\"HelloBlockchain..ctor\",\"font\":{\"face\":\"Times-Roman\"}},{\"id\":\"HelloState.H3\",\"label\":\"HelloState.H3\",\"font\":{\"face\":\"Times-Roman\"}},{\"id\":\"HelloBlockchain.ResponseMessage.set\",\"label\":\"HelloBlockchain.ResponseMessage.set\",\"font\":{\"face\":\"Times-Roman\"}},{\"id\":\"HelloBlockchain.RequestMessage.set\",\"label\":\"HelloBlockchain.RequestMessage.set\",\"font\":{\"face\":\"Times-Roman\"}},{\"id\":\"HelloBlockchain.Requestor.get\",\"label\":\"HelloBlockchain.Requestor.get\",\"font\":{\"face\":\"Times-Roman\"}},{\"id\":\"HelloBlockchain.Responder.get\",\"label\":\"HelloBlockchain.Responder.get\",\"font\":{\"face\":\"Times-Roman\"}},{\"id\":\"HelloBlockchain.RequestMessage.get\",\"label\":\"HelloBlockchain.RequestMessage.get\",\"font\":{\"face\":\"Times-Roman\"}},{\"id\":\"HelloState..ctor\",\"label\":\"HelloState..ctor\",\"font\":{\"face\":\"Times-Roman\"}},{\"id\":\"HelloBlockchain.Responder.set\",\"label\":\"HelloBlockchain.Responder.set\",\"font\":{\"face\":\"Times-Roman\"}}]), \r\n",
       "                        edges: new visjs.DataSet([{\"from\":\"HelloBlockchain.SendResponse\",\"to\":\"HelloBlockchain.ResponseMessage.set\"},{\"from\":\"HelloBlockchain.SendResponse\",\"to\":\"HelloBlockchain.Responder.set\"},{\"from\":\"HelloBlockchain.SendRequest\",\"to\":\"HelloBlockchain.Requestor.get\"},{\"from\":\"HelloBlockchain.SendRequest\",\"to\":\"HelloBlockchain.RequestMessage.set\"}])\r\n",
       "                    };\r\n",
       "        let options = {\"manipulation\":false,\"width\":\"100%\",\"height\":\"600px\",\"layout\":{\"hierarchical\":{\"enabled\":true,\"levelSeparation\":300}},\"physics\":{\"hierarchicalRepulsion\":{\"nodeDistance\":300}}};\r\n",
       "        let network = new visjs.Network(container, data, options); \r\n",
       "        },\r\n",
       "        (error) => {\r\n",
       "            console.log(error);\r\n",
       "        });\r\n",
       "        }\r\n",
       "// ensure `require` is available globally\r\n",
       "if ((typeof(require) !==  typeof(Function)) || (typeof(require.config) !== typeof(Function))) {\r\n",
       "    let require_script = document.createElement('script');\r\n",
       "    require_script.setAttribute('src', 'https://cdnjs.cloudflare.com/ajax/libs/require.js/2.3.6/require.min.js');\r\n",
       "    require_script.setAttribute('type', 'text/javascript');\r\n",
       "    \r\n",
       "    \r\n",
       "    require_script.onload = function() {\r\n",
       "        loadVisjs_70bbfe7d91614082866426f1b7a97827();\r\n",
       "    };\r\n",
       "\r\n",
       "    document.getElementsByTagName('head')[0].appendChild(require_script);\r\n",
       "}\r\n",
       "else {\r\n",
       "    loadVisjs_70bbfe7d91614082866426f1b7a97827();\r\n",
       "}\r\n",
       "\r\n",
       "</script>\r\n",
       "<div id=\"70bbfe7d91614082866426f1b7a97827\" style=\"height:600px; width:100%\"></div>\r\n",
       "</div>\r\n"
      ]
     },
     "execution_count": 4,
     "metadata": {},
     "output_type": "execute_result"
    }
   ],
   "source": [
    "var an = IL.GetAnalyzer(@\"..\\examples\\HelloBlockchainContract\\bin\\Debug\\netcoreapp2.2\\HelloBlockChainContract.dll\");\n",
    "var g = an.GetCallGraph();\n",
    "VisJS.Draw(g)"
   ]
  },
  {
   "cell_type": "code",
   "execution_count": 5,
   "id": "015a0bc2",
   "metadata": {},
   "outputs": [
    {
     "data": {
      "text/html": [
       "<div>\r\n",
       "<script type=\"text/javascript\">\r\n",
       "loadVisjs_1a34fd9ec775438481691585fd764b4a = () => {\r\n",
       "(require.config({ 'paths': { 'context': '0.0.0', 'visjs' : 'https://visjs.github.io/vis-network/standalone/umd/vis-network.min', 'urlArgs': 'cacheBuster=f342722c00004026b96a2d20bd6136b6' }}) || require)(['visjs'], (visjs) => {\r\n",
       "\r\n",
       "        let container = document.getElementById('1a34fd9ec775438481691585fd764b4a');\r\n",
       "        let data = {\r\n",
       "                        nodes: new visjs.DataSet([{\"id\":\"HelloBlockchain.SendResponse\",\"label\":\"HelloBlockchain.SendResponse\",\"shape\":\"circle\",\"font\":{\"face\":\"Times-Roman\"}},{\"id\":\"HelloState.H3\",\"label\":\"HelloState.H3\",\"shape\":\"circle\",\"font\":{\"face\":\"Times-Roman\"}},{\"id\":\"HelloBlockchain.Responder.get\",\"label\":\"HelloBlockchain.Responder.get\",\"shape\":\"circle\",\"font\":{\"face\":\"Times-Roman\"}},{\"id\":\"HelloBlockchain.ResponseMessage.set\",\"label\":\"HelloBlockchain.ResponseMessage.set\",\"shape\":\"circle\",\"font\":{\"face\":\"Times-Roman\"}},{\"id\":\"HelloBlockchain.SendRequest\",\"label\":\"HelloBlockchain.SendRequest\",\"shape\":\"circle\",\"font\":{\"face\":\"Times-Roman\"}},{\"id\":\"HelloBlockchain.Requestor.get\",\"label\":\"HelloBlockchain.Requestor.get\",\"shape\":\"circle\",\"font\":{\"face\":\"Times-Roman\"}},{\"id\":\"HelloBlockchain.ResponseMessage.get\",\"label\":\"HelloBlockchain.ResponseMessage.get\",\"shape\":\"circle\",\"font\":{\"face\":\"Times-Roman\"}},{\"id\":\"HelloState..ctor\",\"label\":\"HelloState..ctor\",\"shape\":\"circle\",\"font\":{\"face\":\"Times-Roman\"}},{\"id\":\"HelloBlockchain.RequestMessage.get\",\"label\":\"HelloBlockchain.RequestMessage.get\",\"shape\":\"circle\",\"font\":{\"face\":\"Times-Roman\"}},{\"id\":\"HelloBlockchain..ctor\",\"label\":\"HelloBlockchain..ctor\",\"shape\":\"circle\",\"font\":{\"face\":\"Times-Roman\"}},{\"id\":\"HelloBlockchain.Responder.set\",\"label\":\"HelloBlockchain.Responder.set\",\"shape\":\"circle\",\"font\":{\"face\":\"Times-Roman\"}},{\"id\":\"HelloBlockchain.RequestMessage.set\",\"label\":\"HelloBlockchain.RequestMessage.set\",\"shape\":\"circle\",\"font\":{\"face\":\"Times-Roman\"}},{\"id\":\"HelloBlockchain.Requestor.set\",\"label\":\"HelloBlockchain.Requestor.set\",\"shape\":\"circle\",\"font\":{\"face\":\"Times-Roman\"}}]), \r\n",
       "                        edges: new visjs.DataSet([{\"from\":\"HelloBlockchain.SendResponse\",\"to\":\"HelloBlockchain.ResponseMessage.set\"},{\"from\":\"HelloBlockchain.SendResponse\",\"to\":\"HelloBlockchain.Responder.set\"},{\"from\":\"HelloBlockchain.SendRequest\",\"to\":\"HelloBlockchain.Requestor.get\"},{\"from\":\"HelloBlockchain.SendRequest\",\"to\":\"HelloBlockchain.RequestMessage.set\"}])\r\n",
       "                    };\r\n",
       "        let options = {\"manipulation\":false,\"width\":\"100%\",\"height\":\"600px\"};\r\n",
       "        let network = new visjs.Network(container, data, options); \r\n",
       "        },\r\n",
       "        (error) => {\r\n",
       "            console.log(error);\r\n",
       "        });\r\n",
       "        }\r\n",
       "// ensure `require` is available globally\r\n",
       "if ((typeof(require) !==  typeof(Function)) || (typeof(require.config) !== typeof(Function))) {\r\n",
       "    let require_script = document.createElement('script');\r\n",
       "    require_script.setAttribute('src', 'https://cdnjs.cloudflare.com/ajax/libs/require.js/2.3.6/require.min.js');\r\n",
       "    require_script.setAttribute('type', 'text/javascript');\r\n",
       "    \r\n",
       "    \r\n",
       "    require_script.onload = function() {\r\n",
       "        loadVisjs_1a34fd9ec775438481691585fd764b4a();\r\n",
       "    };\r\n",
       "\r\n",
       "    document.getElementsByTagName('head')[0].appendChild(require_script);\r\n",
       "}\r\n",
       "else {\r\n",
       "    loadVisjs_1a34fd9ec775438481691585fd764b4a();\r\n",
       "}\r\n",
       "\r\n",
       "</script>\r\n",
       "<div id=\"1a34fd9ec775438481691585fd764b4a\" style=\"height:600px; width:100%\"></div>\r\n",
       "</div>\r\n"
      ]
     },
     "execution_count": 5,
     "metadata": {},
     "output_type": "execute_result"
    }
   ],
   "source": []
  },
  {
   "cell_type": "code",
   "execution_count": 4,
   "id": "db47baf7",
   "metadata": {},
   "outputs": [
    {
     "data": {
      "text/html": [
       "<div>\r\n",
       "<script type=\"text/javascript\">\r\n",
       "loadVisjs_7cd57490ce4a487b87532c1d3972dcbe = () => {\r\n",
       "(require.config({ 'paths': { 'context': '0.0.0', 'visjs' : 'https://visjs.github.io/vis-network/standalone/umd/vis-network.min', 'urlArgs': 'cacheBuster=00736299009e404d94cf44a143c1770e' }}) || require)(['visjs'], (visjs) => {\r\n",
       "\r\n",
       "            let container = document.getElementById('7cd57490ce4a487b87532c1d3972dcbe');\r\n",
       "            let dot = `dinetwork {node[shape=circle]; 1 -> 1 -> 2; 2 -> 3; 2 -- 4; 2 -> 1 [style=dotted, width=3] }`;\r\n",
       "            let data = visjs.parseDOTNetwork(dot);\r\n",
       "            let network = new visjs.Network(container, data); \r\n",
       "            },\r\n",
       "            (error) => {\r\n",
       "                console.log(error);\r\n",
       "            });\r\n",
       "            }\r\n",
       "// ensure `require` is available globally\r\n",
       "if ((typeof(require) !==  typeof(Function)) || (typeof(require.config) !== typeof(Function))) {\r\n",
       "    let require_script = document.createElement('script');\r\n",
       "    require_script.setAttribute('src', 'https://cdnjs.cloudflare.com/ajax/libs/require.js/2.3.6/require.min.js');\r\n",
       "    require_script.setAttribute('type', 'text/javascript');\r\n",
       "    \r\n",
       "    \r\n",
       "    require_script.onload = function() {\r\n",
       "        loadVisjs_7cd57490ce4a487b87532c1d3972dcbe();\r\n",
       "    };\r\n",
       "\r\n",
       "    document.getElementsByTagName('head')[0].appendChild(require_script);\r\n",
       "}\r\n",
       "else {\r\n",
       "    loadVisjs_7cd57490ce4a487b87532c1d3972dcbe();\r\n",
       "}\r\n",
       "\r\n",
       "</script>\r\n",
       "<div id=\"7cd57490ce4a487b87532c1d3972dcbe\" style=\"height:600px; width:100%\"></div>\r\n",
       "</div>\r\n"
      ]
     },
     "execution_count": 4,
     "metadata": {},
     "output_type": "execute_result"
    }
   ],
   "source": [
    "var d = new DotLanguage(\"dinetwork {node[shape=circle]; 1 -> 1 -> 2; 2 -> 3; 2 -- 4; 2 -> 1 [style=dotted, width=3] }\");\n",
    "d"
   ]
  },
  {
   "cell_type": "code",
   "execution_count": 7,
   "id": "de3a7c91",
   "metadata": {},
   "outputs": [
    {
     "name": "stderr",
     "output_type": "stream",
     "text": [
      "\r\n",
      "(1,9): error CS8652: The feature 'raw string literals' is currently in Preview and *unsupported*. To use Preview features, use the 'preview' language version.\r\n",
      "\r\n"
     ]
    },
    {
     "ename": "Cell not executed",
     "evalue": "compilation error",
     "output_type": "error",
     "traceback": []
    }
   ],
   "source": [
    "var n = \"\"\"\n",
    "{\n",
    "\"nodes\": [\n",
    "        { \"id\": 1, \"label\": \"Node 1\" },\n",
    "        { \"id\": 2, \"label\": \"Node 2\" },\n",
    "        { \"id\": 3, \"label\": \"Node 3\" },\n",
    "        { \"id\": 4, \"label\": \"Node 4\" },\n",
    "        { \"id\": 5, \"label\": \"Node 5\" },\n",
    "      ]\n",
    "}\n",
    "\"\"\";"
   ]
  },
  {
   "cell_type": "code",
   "execution_count": null,
   "id": "6b175f40",
   "metadata": {},
   "outputs": [],
   "source": []
  },
  {
   "cell_type": "code",
   "execution_count": null,
   "id": "bd9ea5de",
   "metadata": {},
   "outputs": [],
   "source": []
  },
  {
   "cell_type": "code",
   "execution_count": null,
   "id": "389f62c9",
   "metadata": {},
   "outputs": [],
   "source": []
  },
  {
   "cell_type": "code",
   "execution_count": null,
   "id": "7e01603c",
   "metadata": {},
   "outputs": [],
   "source": [
    "var n = new VisJS.Network()"
   ]
  },
  {
   "cell_type": "code",
   "execution_count": null,
   "id": "1b15e17b",
   "metadata": {},
   "outputs": [],
   "source": []
  },
  {
   "cell_type": "code",
   "execution_count": 4,
   "id": "8cde7abe",
   "metadata": {
    "hide_input": false
   },
   "outputs": [
    {
     "data": {
      "text/plain": [
       "<?xml version=\"1.0\" encoding=\"utf-16\"?>\r\n",
       "<!--SvgWriter version 1.0.0.0-->\r\n",
       "<svg xmlns:xlink=\"http://www.w3.org/1999/xlink\" width=\"3575\" height=\"110\" id=\"svg2\" version=\"1.1\" xmlns=\"http://www.w3.org/2000/svg\">\r\n",
       "  <g transform=\"translate(157.5,610)\">\r\n",
       "    <text x=\"0\" y=\"0\" font-family=\"Arial\" font-size=\"16\" fill=\"#000000\">\r\n",
       "      <tspan x=\"0\" dy=\"0\" />\r\n",
       "    </text>\r\n",
       "    <!--Edges-->\r\n",
       "    <path fill=\"none\" stroke=\"#000000\" stroke-opacity=\"1\" stroke-width=\"1\" d=\"M 1723.14285714286 -570 L 1853.07999736693 -542.09938706845\" />\r\n",
       "    <polygon stroke=\"#000000\" stroke-opacity=\"1\" stroke-width=\"1\" fill=\"#000000\" fill-opacity=\"1\" points=\"1852.61457445793 -539.93184609226 1862.85714285714 -540 1853.54542027593 -544.26692804464\" />\r\n",
       "    <path fill=\"none\" stroke=\"#000000\" stroke-opacity=\"1\" stroke-width=\"1\" d=\"M 1630 -570 L 1630 -550\" />\r\n",
       "    <polygon stroke=\"#000000\" stroke-opacity=\"1\" stroke-width=\"1\" fill=\"#000000\" fill-opacity=\"1\" points=\"1627.78305336833 -550 1630 -540 1632.21694663167 -550\" />\r\n",
       "    <path fill=\"none\" stroke=\"#000000\" stroke-opacity=\"1\" stroke-width=\"1\" d=\"M 1304 -570 L 1304 -550\" />\r\n",
       "    <polygon stroke=\"#000000\" stroke-opacity=\"1\" stroke-width=\"1\" fill=\"#000000\" fill-opacity=\"1\" points=\"1301.78305336833 -550 1304 -540 1306.21694663167 -550\" />\r\n",
       "    <path fill=\"none\" stroke=\"#000000\" stroke-opacity=\"1\" stroke-width=\"1\" d=\"M 1210.85714285714 -570 L 1080.92000263307 -542.09938706845\" />\r\n",
       "    <polygon stroke=\"#000000\" stroke-opacity=\"1\" stroke-width=\"1\" fill=\"#000000\" fill-opacity=\"1\" points=\"1080.45457972407 -544.26692804464 1071.14285714286 -540 1081.38542554207 -539.93184609226\" />\r\n",
       "    <!--nodes-->\r\n",
       "    <rect fill=\"none\" stroke=\"#000000\" stroke-opacity=\"1\" stroke-width=\"1\" x=\"3102.5\" y=\"-540\" width=\"315\" height=\"40\" rx=\"3\" ry=\"3\" />\r\n",
       "    <text x=\"3260\" y=\"-520\" font-family=\"Arial\" font-size=\"16\" fill=\"#000000\">\r\n",
       "      <tspan x=\"3260\" dy=\"0\">HelloBlockchain.Requestor.set</tspan>\r\n",
       "    </text>\r\n",
       "    <rect fill=\"none\" stroke=\"#000000\" stroke-opacity=\"1\" stroke-width=\"1\" x=\"2776.5\" y=\"-540\" width=\"315\" height=\"40\" rx=\"3\" ry=\"3\" />\r\n",
       "    <text x=\"2934\" y=\"-520\" font-family=\"Arial\" font-size=\"16\" fill=\"#000000\">\r\n",
       "      <tspan x=\"2934\" dy=\"0\">HelloBlockchain.RequestMessage.get</tspan>\r\n",
       "    </text>\r\n",
       "    <rect fill=\"none\" stroke=\"#000000\" stroke-opacity=\"1\" stroke-width=\"1\" x=\"2450.5\" y=\"-540\" width=\"315\" height=\"40\" rx=\"3\" ry=\"3\" />\r\n",
       "    <text x=\"2608\" y=\"-520\" font-family=\"Arial\" font-size=\"16\" fill=\"#000000\">\r\n",
       "      <tspan x=\"2608\" dy=\"0\">HelloBlockchain.Responder.get</tspan>\r\n",
       "    </text>\r\n",
       "    <rect fill=\"none\" stroke=\"#000000\" stroke-opacity=\"1\" stroke-width=\"1\" x=\"2124.5\" y=\"-540\" width=\"315\" height=\"40\" rx=\"3\" ry=\"3\" />\r\n",
       "    <text x=\"2282\" y=\"-520\" font-family=\"Arial\" font-size=\"16\" fill=\"#000000\">\r\n",
       "      <tspan x=\"2282\" dy=\"0\">HelloBlockchain..ctor</tspan>\r\n",
       "    </text>\r\n",
       "    <rect fill=\"none\" stroke=\"#000000\" stroke-opacity=\"1\" stroke-width=\"1\" x=\"1472.5\" y=\"-610\" width=\"315\" height=\"40\" rx=\"3\" ry=\"3\" />\r\n",
       "    <text x=\"1630\" y=\"-590\" font-family=\"Arial\" font-size=\"16\" fill=\"#000000\">\r\n",
       "      <tspan x=\"1630\" dy=\"0\">HelloBlockchain.SendRequest</tspan>\r\n",
       "    </text>\r\n",
       "    <rect fill=\"none\" stroke=\"#000000\" stroke-opacity=\"1\" stroke-width=\"1\" x=\"1146.5\" y=\"-610\" width=\"315\" height=\"40\" rx=\"3\" ry=\"3\" />\r\n",
       "    <text x=\"1304\" y=\"-590\" font-family=\"Arial\" font-size=\"16\" fill=\"#000000\">\r\n",
       "      <tspan x=\"1304\" dy=\"0\">HelloBlockchain.SendResponse</tspan>\r\n",
       "    </text>\r\n",
       "    <rect fill=\"none\" stroke=\"#000000\" stroke-opacity=\"1\" stroke-width=\"1\" x=\"494.5\" y=\"-540\" width=\"315\" height=\"40\" rx=\"3\" ry=\"3\" />\r\n",
       "    <text x=\"652\" y=\"-520\" font-family=\"Arial\" font-size=\"16\" fill=\"#000000\">\r\n",
       "      <tspan x=\"652\" dy=\"0\">HelloBlockchain.ResponseMessage.get</tspan>\r\n",
       "    </text>\r\n",
       "    <rect fill=\"none\" stroke=\"#000000\" stroke-opacity=\"1\" stroke-width=\"1\" x=\"820.5\" y=\"-540\" width=\"315\" height=\"40\" rx=\"3\" ry=\"3\" />\r\n",
       "    <text x=\"978\" y=\"-520\" font-family=\"Arial\" font-size=\"16\" fill=\"#000000\">\r\n",
       "      <tspan x=\"978\" dy=\"0\">HelloBlockchain.Responder.set</tspan>\r\n",
       "    </text>\r\n",
       "    <rect fill=\"none\" stroke=\"#000000\" stroke-opacity=\"1\" stroke-width=\"1\" x=\"168.5\" y=\"-540\" width=\"315\" height=\"40\" rx=\"3\" ry=\"3\" />\r\n",
       "    <text x=\"326\" y=\"-520\" font-family=\"Arial\" font-size=\"16\" fill=\"#000000\">\r\n",
       "      <tspan x=\"326\" dy=\"0\">HelloState..ctor</tspan>\r\n",
       "    </text>\r\n",
       "    <rect fill=\"none\" stroke=\"#000000\" stroke-opacity=\"1\" stroke-width=\"1\" x=\"-157.5\" y=\"-540\" width=\"315\" height=\"40\" rx=\"3\" ry=\"3\" />\r\n",
       "    <text x=\"0\" y=\"-520\" font-family=\"Arial\" font-size=\"16\" fill=\"#000000\">\r\n",
       "      <tspan x=\"0\" dy=\"0\">HelloState.H3</tspan>\r\n",
       "    </text>\r\n",
       "    <rect fill=\"none\" stroke=\"#000000\" stroke-opacity=\"1\" stroke-width=\"1\" x=\"1472.5\" y=\"-540\" width=\"315\" height=\"40\" rx=\"3\" ry=\"3\" />\r\n",
       "    <text x=\"1630\" y=\"-520\" font-family=\"Arial\" font-size=\"16\" fill=\"#000000\">\r\n",
       "      <tspan x=\"1630\" dy=\"0\">HelloBlockchain.RequestMessage.set</tspan>\r\n",
       "    </text>\r\n",
       "    <rect fill=\"none\" stroke=\"#000000\" stroke-opacity=\"1\" stroke-width=\"1\" x=\"1798.5\" y=\"-540\" width=\"315\" height=\"40\" rx=\"3\" ry=\"3\" />\r\n",
       "    <text x=\"1956\" y=\"-520\" font-family=\"Arial\" font-size=\"16\" fill=\"#000000\">\r\n",
       "      <tspan x=\"1956\" dy=\"0\">HelloBlockchain.Requestor.get</tspan>\r\n",
       "    </text>\r\n",
       "    <rect fill=\"none\" stroke=\"#000000\" stroke-opacity=\"1\" stroke-width=\"1\" x=\"1146.5\" y=\"-540\" width=\"315\" height=\"40\" rx=\"3\" ry=\"3\" />\r\n",
       "    <text x=\"1304\" y=\"-520\" font-family=\"Arial\" font-size=\"16\" fill=\"#000000\">\r\n",
       "      <tspan x=\"1304\" dy=\"0\">HelloBlockchain.ResponseMessage.set</tspan>\r\n",
       "    </text>\r\n",
       "    <!--end of nodes-->\r\n",
       "  </g>\r\n",
       "</svg>"
      ]
     },
     "execution_count": 4,
     "metadata": {},
     "output_type": "execute_result"
    }
   ],
   "source": [
    "GraphFormatter.DrawSvg(g)"
   ]
  },
  {
   "cell_type": "code",
   "execution_count": null,
   "id": "08f626bb",
   "metadata": {},
   "outputs": [],
   "source": []
  },
  {
   "cell_type": "code",
   "execution_count": null,
   "id": "173e0631",
   "metadata": {},
   "outputs": [],
   "source": []
  },
  {
   "cell_type": "code",
   "execution_count": null,
   "id": "b5034c4c",
   "metadata": {},
   "outputs": [],
   "source": []
  },
  {
   "cell_type": "code",
   "execution_count": null,
   "id": "8b907383",
   "metadata": {},
   "outputs": [],
   "source": []
  },
  {
   "cell_type": "code",
   "execution_count": 8,
   "id": "3fc60bf1",
   "metadata": {},
   "outputs": [],
   "source": [
    "var svg = GraphFormatter.DrawSvg(g);"
   ]
  },
  {
   "cell_type": "code",
   "execution_count": 5,
   "id": "4f808330",
   "metadata": {},
   "outputs": [
    {
     "data": {
      "text/html": [
       "<img id=\"116e8a8827ad4f2fb1c4e146e7c40312\" src=\"data:image/svg+xml;base64,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\" height=\"1000\" width=\"1000\"></img>"
      ]
     },
     "execution_count": 5,
     "metadata": {},
     "output_type": "execute_result"
    }
   ],
   "source": [
    "g"
   ]
  },
  {
   "cell_type": "code",
   "execution_count": null,
   "id": "3d0efd28",
   "metadata": {},
   "outputs": [],
   "source": []
  },
  {
   "cell_type": "code",
   "execution_count": 11,
   "id": "2848d15d",
   "metadata": {},
   "outputs": [],
   "source": [
    "using System.Xml;"
   ]
  },
  {
   "cell_type": "code",
   "execution_count": 29,
   "id": "f0505d4a",
   "metadata": {},
   "outputs": [
    {
     "data": {
      "text/plain": [
       "<svg xmlns:xlink=\"http://www.w3.org/1999/xlink\" width=\"1837\" height=\"180\" id=\"svg2\" version=\"1.1\" xmlns=\"http://www.w3.org/2000/svg\"><g transform=\"translate(148.5,680)\"><!--Edges--><path fill=\"none\" stroke=\"#000000\" stroke-opacity=\"1\" stroke-width=\"1\" d=\"M 1232 -570 L 1232 -550\" /><polygon stroke=\"#000000\" stroke-opacity=\"1\" stroke-width=\"1\" fill=\"#000000\" fill-opacity=\"1\" points=\"1229.78305336833 -550 1232 -540 1234.21694663167 -550\" /><path fill=\"none\" stroke=\"#000000\" stroke-opacity=\"1\" stroke-width=\"1\" d=\"M 1320 -640 L 1442.24867144209 -612.21621103589\" /><polygon stroke=\"#000000\" stroke-opacity=\"1\" stroke-width=\"1\" fill=\"#000000\" fill-opacity=\"1\" points=\"1441.75734928298 -610.05439353581 1452 -610 1442.73999360119 -614.37802853597\" /><path fill=\"none\" stroke=\"#000000\" stroke-opacity=\"1\" stroke-width=\"1\" d=\"M 1232 -640 L 1232 -620\" /><polygon stroke=\"#000000\" stroke-opacity=\"1\" stroke-width=\"1\" fill=\"#000000\" fill-opacity=\"1\" points=\"1229.78305336833 -620 1232 -610 1234.21694663167 -620\" /><path fill=\"none\" stroke=\"#000000\" stroke-opacity=\"1\" stroke-width=\"1\" d=\"M 142.80602185235 -640 C187.94419263064 -635.07526969457 243.03667262896 -630.41204889164 308.08346184731 -626.01033759121 C374.78141481662 -621.4968921648 431.00079073679 -616.5573155878 476.74158960781 -611.19160786023\" /><polygon stroke=\"#000000\" stroke-opacity=\"1\" stroke-width=\"1\" fill=\"#000000\" fill-opacity=\"1\" points=\"476.47741650461 -608.99045703868 486.67033931296 -610 477.00576271101 -613.39275868178\" /><path fill=\"none\" stroke=\"#000000\" stroke-opacity=\"1\" stroke-width=\"1\" d=\"M 0 -640 L 0 -620\" /><polygon stroke=\"#000000\" stroke-opacity=\"1\" stroke-width=\"1\" fill=\"#000000\" fill-opacity=\"1\" points=\"-2.21694663167 -620 0 -610 2.21694663167 -620\" /><path fill=\"none\" stroke=\"#000000\" stroke-opacity=\"1\" stroke-width=\"1\" d=\"M 1540 -640 L 1540 -620\" /><polygon stroke=\"#000000\" stroke-opacity=\"1\" stroke-width=\"1\" fill=\"#000000\" fill-opacity=\"1\" points=\"1537.78305336833 -620 1540 -610 1542.21694663167 -620\" /><path fill=\"none\" stroke=\"#000000\" stroke-opacity=\"1\" stroke-width=\"1\" d=\"M 836 -640 L 713.75132855792 -612.21621103589\" /><polygon stroke=\"#000000\" stroke-opacity=\"1\" stroke-width=\"1\" fill=\"#000000\" fill-opacity=\"1\" points=\"713.26000639881 -614.37802853597 704 -610 714.24265071702 -610.05439353581\" /><path fill=\"none\" stroke=\"#000000\" stroke-opacity=\"1\" stroke-width=\"1\" d=\"M 924 -640 L 924 -620\" /><polygon stroke=\"#000000\" stroke-opacity=\"1\" stroke-width=\"1\" fill=\"#000000\" fill-opacity=\"1\" points=\"921.78305336833 -620 924 -610 926.21694663167 -620\" /><path fill=\"none\" stroke=\"#000000\" stroke-opacity=\"1\" stroke-width=\"1\" d=\"M 1012 -640 L 1134.24867144209 -612.21621103589\" /><polygon stroke=\"#000000\" stroke-opacity=\"1\" stroke-width=\"1\" fill=\"#000000\" fill-opacity=\"1\" points=\"1133.75734928298 -610.05439353581 1144 -610 1134.73999360119 -614.37802853597\" /><path fill=\"none\" stroke=\"#000000\" stroke-opacity=\"1\" stroke-width=\"1\" d=\"M 396 -640 L 518.24867144209 -612.21621103589\" /><polygon stroke=\"#000000\" stroke-opacity=\"1\" stroke-width=\"1\" fill=\"#000000\" fill-opacity=\"1\" points=\"517.75734928298 -610.05439353581 528 -610 518.73999360119 -614.37802853597\" /><path fill=\"none\" stroke=\"#000000\" stroke-opacity=\"1\" stroke-width=\"1\" d=\"M 220 -640 L 97.75132855791 -612.21621103589\" /><polygon stroke=\"#000000\" stroke-opacity=\"1\" stroke-width=\"1\" fill=\"#000000\" fill-opacity=\"1\" points=\"97.26000639881 -614.37802853597 88 -610 98.24265071702 -610.05439353581\" /><path fill=\"none\" stroke=\"#000000\" stroke-opacity=\"1\" stroke-width=\"1\" d=\"M 423.45257466602 -640 C488.912761708 -633.00959023165 604.426516969 -628.63211161907 769.99384044902 -626.86756416226 C943.02446090469 -625.02347600007 1061.38876700504 -619.87056055085 1125.08675875006 -611.40881781461\" /><polygon stroke=\"#000000\" stroke-opacity=\"1\" stroke-width=\"1\" fill=\"#000000\" fill-opacity=\"1\" points=\"1124.77443135918 -609.21398206481 1134.9870230074 -610 1125.39908614093 -613.6036535644\" /><path fill=\"none\" stroke=\"#000000\" stroke-opacity=\"1\" stroke-width=\"1\" d=\"M 308 -640 L 308 -620\" /><polygon stroke=\"#000000\" stroke-opacity=\"1\" stroke-width=\"1\" fill=\"#000000\" fill-opacity=\"1\" points=\"305.78305336833 -620 308 -610 310.21694663167 -620\" /><path fill=\"none\" stroke=\"#000000\" stroke-opacity=\"1\" stroke-width=\"1\" d=\"M 616 -640 L 616 -620\" /><polygon stroke=\"#000000\" stroke-opacity=\"1\" stroke-width=\"1\" fill=\"#000000\" fill-opacity=\"1\" points=\"613.78305336833 -620 616 -610 618.21694663167 -620\" /><!--nodes--><rect fill=\"none\" stroke=\"#000000\" stroke-opacity=\"1\" stroke-width=\"1\" x=\"159.5\" y=\"-610\" width=\"297\" height=\"40\" rx=\"3\" ry=\"3\" /><rect fill=\"none\" stroke=\"#000000\" stroke-opacity=\"1\" stroke-width=\"1\" x=\"1083.5\" y=\"-610\" width=\"297\" height=\"40\" rx=\"3\" ry=\"3\" /><rect fill=\"none\" stroke=\"#000000\" stroke-opacity=\"1\" stroke-width=\"1\" x=\"775.5\" y=\"-610\" width=\"297\" height=\"40\" rx=\"3\" ry=\"3\" /><rect fill=\"none\" stroke=\"#000000\" stroke-opacity=\"1\" stroke-width=\"1\" x=\"-148.5\" y=\"-610\" width=\"297\" height=\"40\" rx=\"3\" ry=\"3\" /><rect fill=\"none\" stroke=\"#000000\" stroke-opacity=\"1\" stroke-width=\"1\" x=\"1083.5\" y=\"-680\" width=\"297\" height=\"40\" rx=\"3\" ry=\"3\" /><rect fill=\"none\" stroke=\"#000000\" stroke-opacity=\"1\" stroke-width=\"1\" x=\"-148.5\" y=\"-680\" width=\"297\" height=\"40\" rx=\"3\" ry=\"3\" /><rect fill=\"none\" stroke=\"#000000\" stroke-opacity=\"1\" stroke-width=\"1\" x=\"1391.5\" y=\"-680\" width=\"297\" height=\"40\" rx=\"3\" ry=\"3\" /><rect fill=\"none\" stroke=\"#000000\" stroke-opacity=\"1\" stroke-width=\"1\" x=\"775.5\" y=\"-540\" width=\"297\" height=\"40\" rx=\"3\" ry=\"3\" /><rect fill=\"none\" stroke=\"#000000\" stroke-opacity=\"1\" stroke-width=\"1\" x=\"467.5\" y=\"-610\" width=\"297\" height=\"40\" rx=\"3\" ry=\"3\" /><rect fill=\"none\" stroke=\"#000000\" stroke-opacity=\"1\" stroke-width=\"1\" x=\"775.5\" y=\"-680\" width=\"297\" height=\"40\" rx=\"3\" ry=\"3\" /><rect fill=\"none\" stroke=\"#000000\" stroke-opacity=\"1\" stroke-width=\"1\" x=\"159.5\" y=\"-680\" width=\"297\" height=\"40\" rx=\"3\" ry=\"3\" /><rect fill=\"none\" stroke=\"#000000\" stroke-opacity=\"1\" stroke-width=\"1\" x=\"1391.5\" y=\"-610\" width=\"297\" height=\"40\" rx=\"3\" ry=\"3\" /><rect fill=\"none\" stroke=\"#000000\" stroke-opacity=\"1\" stroke-width=\"1\" x=\"467.5\" y=\"-680\" width=\"297\" height=\"40\" rx=\"3\" ry=\"3\" /><rect fill=\"none\" stroke=\"#000000\" stroke-opacity=\"1\" stroke-width=\"1\" x=\"1083.5\" y=\"-540\" width=\"297\" height=\"40\" rx=\"3\" ry=\"3\" /><!--end of nodes--></g></svg>"
      ]
     },
     "execution_count": 29,
     "metadata": {},
     "output_type": "execute_result"
    }
   ],
   "source": [
    "var xmldoc = new XmlDocument();\n",
    "xmldoc.LoadXml(svg);\n",
    "xmldoc.DocumentElement.OuterXml"
   ]
  },
  {
   "cell_type": "code",
   "execution_count": null,
   "id": "bee3dbeb",
   "metadata": {},
   "outputs": [],
   "source": []
  },
  {
   "cell_type": "code",
   "execution_count": null,
   "id": "e5ca9b60",
   "metadata": {},
   "outputs": [],
   "source": []
  },
  {
   "cell_type": "code",
   "execution_count": null,
   "id": "6670c585",
   "metadata": {},
   "outputs": [],
   "source": []
  },
  {
   "cell_type": "code",
   "execution_count": null,
   "id": "fd4cffd0",
   "metadata": {},
   "outputs": [],
   "source": []
  },
  {
   "cell_type": "code",
   "execution_count": null,
   "id": "38ba5b6e",
   "metadata": {},
   "outputs": [],
   "source": []
  },
  {
   "cell_type": "code",
   "execution_count": null,
   "id": "38f9bc3e",
   "metadata": {},
   "outputs": [],
   "source": []
  },
  {
   "cell_type": "code",
   "execution_count": null,
   "id": "bdf64611",
   "metadata": {},
   "outputs": [],
   "source": []
  },
  {
   "cell_type": "code",
   "execution_count": null,
   "id": "7eb6edbe",
   "metadata": {},
   "outputs": [],
   "source": []
  },
  {
   "cell_type": "code",
   "execution_count": null,
   "id": "049d1bba",
   "metadata": {},
   "outputs": [],
   "source": []
  },
  {
   "cell_type": "code",
   "execution_count": null,
   "id": "75fbdcf6",
   "metadata": {},
   "outputs": [],
   "source": []
  },
  {
   "cell_type": "code",
   "execution_count": null,
   "id": "dd97ce82",
   "metadata": {},
   "outputs": [],
   "source": []
  },
  {
   "cell_type": "code",
   "execution_count": null,
   "id": "fcc904a6",
   "metadata": {},
   "outputs": [],
   "source": []
  },
  {
   "cell_type": "code",
   "execution_count": null,
   "id": "d3889f76",
   "metadata": {},
   "outputs": [],
   "source": []
  },
  {
   "cell_type": "code",
   "execution_count": null,
   "id": "4de44fb8",
   "metadata": {},
   "outputs": [],
   "source": []
  },
  {
   "cell_type": "code",
   "execution_count": null,
   "id": "734bbb7d",
   "metadata": {},
   "outputs": [],
   "source": []
  },
  {
   "cell_type": "code",
   "execution_count": null,
   "id": "412ef3e4",
   "metadata": {},
   "outputs": [],
   "source": []
  },
  {
   "cell_type": "code",
   "execution_count": null,
   "id": "eba7590e",
   "metadata": {},
   "outputs": [],
   "source": []
  },
  {
   "cell_type": "code",
   "execution_count": null,
   "id": "650b6816",
   "metadata": {},
   "outputs": [],
   "source": []
  },
  {
   "cell_type": "code",
   "execution_count": null,
   "id": "0b9c1b8d",
   "metadata": {},
   "outputs": [],
   "source": []
  },
  {
   "cell_type": "code",
   "execution_count": null,
   "id": "1f39c786",
   "metadata": {},
   "outputs": [],
   "source": []
  },
  {
   "cell_type": "code",
   "execution_count": null,
   "id": "6544dcd9",
   "metadata": {},
   "outputs": [],
   "source": []
  },
  {
   "cell_type": "code",
   "execution_count": 5,
   "id": "44df02f4",
   "metadata": {},
   "outputs": [
    {
     "data": {
      "text/html": [
       "<div style=\"background-color:white\">\r\n",
       "<script type=\"text/javascript\">\r\n",
       "\r\n",
       "loadMermaid_3d06a4631d504f379625337b249f940f = () => {\r\n",
       " \r\n",
       "        (require.config({ 'paths': { 'context': '9.1.1', 'mermaidUri' : 'https://cdn.jsdelivr.net/npm/mermaid@9.1.1/dist/mermaid.min', 'urlArgs': 'cacheBuster=9e0863f894544dec8f1d5eec21651cfb' }}) || require)(['mermaidUri'], (mermaid) => {\r\n",
       "\r\n",
       "            let renderTarget = document.getElementById('3d06a4631d504f379625337b249f940f');\r\n",
       "            mermaid.mermaidAPI.render( \r\n",
       "                'mermaid_3d06a4631d504f379625337b249f940f', \r\n",
       "                `stateDiagram-v2\n",
       "    [*] --> Active\n",
       "\n",
       "    state Active {\n",
       "        [*] --> NumLockOff\n",
       "        NumLockOff --> NumLockOn : EvNumLockPressed\n",
       "        NumLockOn --> NumLockOff : EvNumLockPressed\n",
       "        --\n",
       "        [*] --> CapsLockOff\n",
       "        CapsLockOff --> CapsLockOn : EvCapsLockPressed\n",
       "        CapsLockOn --> CapsLockOff : EvCapsLockPressed\n",
       "        --\n",
       "        [*] --> ScrollLockOff\n",
       "        ScrollLockOff --> ScrollLockOn : EvScrollLockPressed\n",
       "        ScrollLockOn --> ScrollLockOff : EvScrollLockPressed\n",
       "    }`, \r\n",
       "                g => {\r\n",
       "                    renderTarget.innerHTML = g \r\n",
       "                });\r\n",
       "        },\r\n",
       "        (error) => {\r\n",
       "            console.log(error);\r\n",
       "        });\r\n",
       "}\r\n",
       "// ensure `require` is available globally\r\n",
       "if ((typeof(require) !==  typeof(Function)) || (typeof(require.config) !== typeof(Function))) {\r\n",
       "    let require_script = document.createElement('script');\r\n",
       "    require_script.setAttribute('src', 'https://cdnjs.cloudflare.com/ajax/libs/require.js/2.3.6/require.min.js');\r\n",
       "    require_script.setAttribute('type', 'text/javascript');\r\n",
       "    \r\n",
       "    \r\n",
       "    require_script.onload = function() {\r\n",
       "        loadMermaid_3d06a4631d504f379625337b249f940f();\r\n",
       "    };\r\n",
       "\r\n",
       "    document.getElementsByTagName('head')[0].appendChild(require_script);\r\n",
       "}\r\n",
       "else {\r\n",
       "    loadMermaid_3d06a4631d504f379625337b249f940f();\r\n",
       "}\r\n",
       "\r\n",
       "</script>\r\n",
       "<div id=\"3d06a4631d504f379625337b249f940f\"></div>\r\n",
       "</div>\r\n"
      ]
     },
     "metadata": {},
     "output_type": "display_data"
    }
   ],
   "source": [
    "#!mermaid\n",
    "stateDiagram-v2\n",
    "    [*] --> Active\n",
    "\n",
    "    state Active {\n",
    "        [*] --> NumLockOff\n",
    "        NumLockOff --> NumLockOn : EvNumLockPressed\n",
    "        NumLockOn --> NumLockOff : EvNumLockPressed\n",
    "        --\n",
    "        [*] --> CapsLockOff\n",
    "        CapsLockOff --> CapsLockOn : EvCapsLockPressed\n",
    "        CapsLockOn --> CapsLockOff : EvCapsLockPressed\n",
    "        --\n",
    "        [*] --> ScrollLockOff\n",
    "        ScrollLockOff --> ScrollLockOn : EvScrollLockPressed\n",
    "        ScrollLockOn --> ScrollLockOff : EvScrollLockPressed\n",
    "    }"
   ]
  },
  {
   "cell_type": "code",
   "execution_count": 6,
   "id": "bd268f48",
   "metadata": {},
   "outputs": [
    {
     "name": "stderr",
     "output_type": "stream",
     "text": [
      "\r\n",
      "(1,11): error CS1061: 'Graph' does not contain a definition for 'GetSummary' and no accessible extension method 'GetSummary' accepting a first argument of type 'Graph' could be found (are you missing a using directive or an assembly reference?)\r\n",
      "\r\n"
     ]
    },
    {
     "ename": "Cell not executed",
     "evalue": "compilation error",
     "output_type": "error",
     "traceback": []
    }
   ],
   "source": [
    "var s = g.GetSummary();\n",
    "s"
   ]
  }
 ],
 "metadata": {
  "kernelspec": {
   "display_name": ".NET (C#)",
   "language": "C#",
   "name": ".net-csharp"
  },
  "language_info": {
   "file_extension": ".cs",
   "mimetype": "text/x-csharp",
   "name": "C#",
   "pygments_lexer": "csharp",
   "version": "10.0"
  }
 },
 "nbformat": 4,
 "nbformat_minor": 5
}
