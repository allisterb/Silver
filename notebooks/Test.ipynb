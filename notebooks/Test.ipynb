{
 "cells": [
  {
   "cell_type": "code",
   "execution_count": 1,
   "id": "1a995c17",
   "metadata": {},
   "outputs": [
    {
     "data": {
      "text/html": [
       "\r\n",
       "<div>\r\n",
       "    <div id='dotnet-interactive-this-cell-27876.Microsoft.DotNet.Interactive.Http.HttpPort' style='display: none'>\r\n",
       "        The below script needs to be able to find the current output cell; this is an easy method to get it.\r\n",
       "    </div>\r\n",
       "    <script type='text/javascript'>\r\n",
       "async function probeAddresses(probingAddresses) {\r\n",
       "    function timeout(ms, promise) {\r\n",
       "        return new Promise(function (resolve, reject) {\r\n",
       "            setTimeout(function () {\r\n",
       "                reject(new Error('timeout'))\r\n",
       "            }, ms)\r\n",
       "            promise.then(resolve, reject)\r\n",
       "        })\r\n",
       "    }\r\n",
       "\r\n",
       "    if (Array.isArray(probingAddresses)) {\r\n",
       "        for (let i = 0; i < probingAddresses.length; i++) {\r\n",
       "\r\n",
       "            let rootUrl = probingAddresses[i];\r\n",
       "\r\n",
       "            if (!rootUrl.endsWith('/')) {\r\n",
       "                rootUrl = `${rootUrl}/`;\r\n",
       "            }\r\n",
       "\r\n",
       "            try {\r\n",
       "                let response = await timeout(1000, fetch(`${rootUrl}discovery`, {\r\n",
       "                    method: 'POST',\r\n",
       "                    cache: 'no-cache',\r\n",
       "                    mode: 'cors',\r\n",
       "                    timeout: 1000,\r\n",
       "                    headers: {\r\n",
       "                        'Content-Type': 'text/plain'\r\n",
       "                    },\r\n",
       "                    body: probingAddresses[i]\r\n",
       "                }));\r\n",
       "\r\n",
       "                if (response.status == 200) {\r\n",
       "                    return rootUrl;\r\n",
       "                }\r\n",
       "            }\r\n",
       "            catch (e) { }\r\n",
       "        }\r\n",
       "    }\r\n",
       "}\r\n",
       "\r\n",
       "function loadDotnetInteractiveApi() {\r\n",
       "    probeAddresses([\"http://192.168.169.1:1000/\", \"http://192.168.128.1:1000/\", \"http://192.168.1.189:1000/\", \"http://172.20.160.1:1000/\", \"http://127.0.0.1:1000/\"])\r\n",
       "        .then((root) => {\r\n",
       "        // use probing to find host url and api resources\r\n",
       "        // load interactive helpers and language services\r\n",
       "        let dotnetInteractiveRequire = require.config({\r\n",
       "        context: '27876.Microsoft.DotNet.Interactive.Http.HttpPort',\r\n",
       "                paths:\r\n",
       "            {\r\n",
       "                'dotnet-interactive': `${root}resources`\r\n",
       "                }\r\n",
       "        }) || require;\r\n",
       "\r\n",
       "            window.dotnetInteractiveRequire = dotnetInteractiveRequire;\r\n",
       "\r\n",
       "            window.configureRequireFromExtension = function(extensionName, extensionCacheBuster) {\r\n",
       "                let paths = {};\r\n",
       "                paths[extensionName] = `${root}extensions/${extensionName}/resources/`;\r\n",
       "                \r\n",
       "                let internalRequire = require.config({\r\n",
       "                    context: extensionCacheBuster,\r\n",
       "                    paths: paths,\r\n",
       "                    urlArgs: `cacheBuster=${extensionCacheBuster}`\r\n",
       "                    }) || require;\r\n",
       "\r\n",
       "                return internalRequire\r\n",
       "            };\r\n",
       "        \r\n",
       "            dotnetInteractiveRequire([\r\n",
       "                    'dotnet-interactive/dotnet-interactive'\r\n",
       "                ],\r\n",
       "                function (dotnet) {\r\n",
       "                    dotnet.init(window);\r\n",
       "                },\r\n",
       "                function (error) {\r\n",
       "                    console.log(error);\r\n",
       "                }\r\n",
       "            );\r\n",
       "        })\r\n",
       "        .catch(error => {console.log(error);});\r\n",
       "    }\r\n",
       "\r\n",
       "// ensure `require` is available globally\r\n",
       "if ((typeof(require) !==  typeof(Function)) || (typeof(require.config) !== typeof(Function))) {\r\n",
       "    let require_script = document.createElement('script');\r\n",
       "    require_script.setAttribute('src', 'https://cdnjs.cloudflare.com/ajax/libs/require.js/2.3.6/require.min.js');\r\n",
       "    require_script.setAttribute('type', 'text/javascript');\r\n",
       "    \r\n",
       "    \r\n",
       "    require_script.onload = function() {\r\n",
       "        loadDotnetInteractiveApi();\r\n",
       "    };\r\n",
       "\r\n",
       "    document.getElementsByTagName('head')[0].appendChild(require_script);\r\n",
       "}\r\n",
       "else {\r\n",
       "    loadDotnetInteractiveApi();\r\n",
       "}\r\n",
       "\r\n",
       "    </script>\r\n",
       "</div>"
      ]
     },
     "metadata": {},
     "output_type": "display_data"
    },
    {
     "data": {
      "text/html": [
       "<div><div></div><div></div><div><strong>Installed Packages</strong><ul><li><span>Octokit, 0.51.0</span></li></ul></div></div>"
      ]
     },
     "metadata": {},
     "output_type": "display_data"
    },
    {
     "data": {
      "text/markdown": [
       "Added formatter for AGL graphs using VisJS to .NET Interactive kernel csharp."
      ]
     },
     "metadata": {},
     "output_type": "display_data"
    },
    {
     "data": {
      "text/markdown": [
       "Added formatter for Mermaid language to .NET Interactive kernel csharp."
      ]
     },
     "metadata": {},
     "output_type": "display_data"
    },
    {
     "data": {
      "text/markdown": [
       "Added formatter for DOT language to .NET Interactive kernel csharp."
      ]
     },
     "metadata": {},
     "output_type": "display_data"
    },
    {
     "data": {
      "text/markdown": [
       "Added formatter for VisJS networks to .NET Interactive kernel csharp."
      ]
     },
     "metadata": {},
     "output_type": "display_data"
    }
   ],
   "source": [
    "#load \"DotNetInteractive.csx\"\n",
    "#r \"nuget: Octokit\""
   ]
  },
  {
   "cell_type": "code",
   "execution_count": 2,
   "id": "7725ee91",
   "metadata": {},
   "outputs": [],
   "source": [
    "using Silver;\n",
    "using Silver.Notebooks;"
   ]
  },
  {
   "cell_type": "code",
   "execution_count": 3,
   "id": "c693148d",
   "metadata": {},
   "outputs": [
    {
     "name": "stdout",
     "output_type": "stream",
     "text": [
      "[INFO] Get smart contract assembly from Stratis pull request https://github.com/stratisproject/CirrusSmartContracts/pull/31...\n",
      "[WARN] File Stratis.PR547793172.dll exists, overwriting...\n",
      "[INFO] Assembly for Stratis pull request https://api.github.com/repos/stratisproject/CirrusSmartContracts/issues/31 is at Stratis.PR547793172.dll.\n",
      "[INFO] Get smart contract assembly from Stratis pull request https://github.com/stratisproject/CirrusSmartContracts/pull/31 completed in 1170ms.\n",
      "[INFO] Target assembly is Stratis.PR547793172.dll.\n"
     ]
    }
   ],
   "source": [
    "var an = IL.GetAnalyzer(@\"https://github.com/stratisproject/CirrusSmartContracts/pull/31\");"
   ]
  },
  {
   "cell_type": "code",
   "execution_count": 4,
   "id": "4be357d6",
   "metadata": {},
   "outputs": [
    {
     "name": "stdout",
     "output_type": "stream",
     "text": [
      "[INFO] Analyzing class hierachy...\n",
      "[INFO] Analyzing class hierachy completed in 4ms.\n"
     ]
    },
    {
     "data": {
      "text/html": [
       "<div style=\"background-color:white\">\r\n",
       "<script type=\"text/javascript\">\r\n",
       "loadMermaid_11f14027f73441629aa3ff9237feea5a = () => {\r\n",
       " \r\n",
       "    (require.config({ 'paths': { 'context': '9.1.1', 'mermaidUri' : 'https://cdn.jsdelivr.net/npm/mermaid@9.1.1/dist/mermaid.min', 'urlArgs': 'cacheBuster=c97939c3598b463b884a5e57d12b89be' }}) || require)(['mermaidUri'], (mermaid) => {\r\n",
       "\r\n",
       "        let renderTarget = document.getElementById('11f14027f73441629aa3ff9237feea5a');\r\n",
       "        mermaid.mermaidAPI.render( \r\n",
       "            'mermaid_11f14027f73441629aa3ff9237feea5a', \r\n",
       "            `classDiagram\r\n",
       "class STOContract\r\n",
       "<<contract>> STOContract\r\n",
       "STOContract : +.ctor(smartContractState,owner,tokenType,totalSupply,name,symbol,kycAddress,mapperAddress,salePeriods)\r\n",
       "STOContract : +get_EndBlock()\r\n",
       "STOContract : +get_IsNonFungibleToken()\r\n",
       "STOContract : +get_KYCAddress()\r\n",
       "STOContract : +get_MapperAddress()\r\n",
       "STOContract : +get_Owner()\r\n",
       "STOContract : +get_SaleOpen()\r\n",
       "STOContract : +get_SalePeriods()\r\n",
       "STOContract : +get_TokenAddress()\r\n",
       "STOContract : +get_TokenBalance()\r\n",
       "STOContract : +Invest()\r\n",
       "STOContract : +Receive()\r\n",
       "STOContract : +WithdrawFunds()\r\n",
       "STOContract : +WithdrawTokens()\r\n",
       "STOContract : -ConvertSalePeriodInputs(periods)\r\n",
       "STOContract : -CreateTokenContract(tokenType,totalSupply,name,symbol)\r\n",
       "STOContract : -EnsureKycVerified()\r\n",
       "STOContract : -GetCurrentPeriod()\r\n",
       "STOContract : -GetSaleInfo()\r\n",
       "STOContract : -set_EndBlock(value)\r\n",
       "STOContract : -set_IsNonFungibleToken(value)\r\n",
       "STOContract : -set_KYCAddress(value)\r\n",
       "STOContract : -set_MapperAddress(value)\r\n",
       "STOContract : -set_Owner(value)\r\n",
       "STOContract : -set_SalePeriods(value)\r\n",
       "STOContract : -set_TokenAddress(value)\r\n",
       "STOContract : -set_TokenBalance(value)\r\n",
       "STOContract : -SetPeriods(periods)\r\n",
       "STOContract : -ValidatePeriods(periods)\r\n",
       "class StandardToken\r\n",
       "StandardToken : +.ctor(smartContractState,totalSupply,name,symbol)\r\n",
       "StandardToken : +Allowance(owner,spender)\r\n",
       "StandardToken : +Approve(spender,currentAmount,amount)\r\n",
       "StandardToken : +get_Name()\r\n",
       "StandardToken : +get_Symbol()\r\n",
       "StandardToken : +get_TotalSupply()\r\n",
       "StandardToken : +GetBalance(address)\r\n",
       "StandardToken : +TransferFrom(from,to,amount)\r\n",
       "StandardToken : +TransferTo(to,amount)\r\n",
       "StandardToken : -set_Name(value)\r\n",
       "StandardToken : -set_Symbol(value)\r\n",
       "StandardToken : -set_TotalSupply(value)\r\n",
       "StandardToken : -SetApproval(owner,spender,value)\r\n",
       "StandardToken : -SetBalance(address,value)\r\n",
       "class DividendToken\r\n",
       "DividendToken : +.ctor(state,totalSupply,name,symbol)\r\n",
       "DividendToken : +Allowance(owner,spender)\r\n",
       "DividendToken : +Approve(spender,currentAmount,amount)\r\n",
       "DividendToken : +get_Dividends()\r\n",
       "DividendToken : +get_Name()\r\n",
       "DividendToken : +get_Symbol()\r\n",
       "DividendToken : +get_TotalSupply()\r\n",
       "DividendToken : +GetBalance(address)\r\n",
       "DividendToken : +GetDividends()\r\n",
       "DividendToken : +GetDividends(address)\r\n",
       "DividendToken : +GetTotalDividends()\r\n",
       "DividendToken : +GetTotalDividends(address)\r\n",
       "DividendToken : +Receive()\r\n",
       "DividendToken : +TransferFrom(from,to,amount)\r\n",
       "DividendToken : +TransferTo(to,amount)\r\n",
       "DividendToken : +Withdraw()\r\n",
       "DividendToken : -GetAccount(address)\r\n",
       "DividendToken : -GetWithdrawableDividends(address,account)\r\n",
       "DividendToken : -set_Dividends(value)\r\n",
       "DividendToken : -set_Name(value)\r\n",
       "DividendToken : -set_Symbol(value)\r\n",
       "DividendToken : -set_TotalSupply(value)\r\n",
       "DividendToken : -SetAccount(address,account)\r\n",
       "DividendToken : -SetApproval(owner,spender,value)\r\n",
       "DividendToken : -SetBalance(address,value)\r\n",
       "DividendToken : -TransferTokensFrom(from,to,amount)\r\n",
       "DividendToken : -TransferTokensTo(to,amount)\r\n",
       "DividendToken : -UpdateAccount(address)\r\n",
       "class NonFungibleToken\r\n",
       "NonFungibleToken : +.ctor(state,name,symbol)\r\n",
       "NonFungibleToken : +Approve(approved,tokenId)\r\n",
       "NonFungibleToken : +BalanceOf(owner)\r\n",
       "NonFungibleToken : +Burn(tokenId)\r\n",
       "NonFungibleToken : +EnsureAddressIsNotEmpty(address)\r\n",
       "NonFungibleToken : +get_Name()\r\n",
       "NonFungibleToken : +get_Owner()\r\n",
       "NonFungibleToken : +get_Symbol()\r\n",
       "NonFungibleToken : +get_TotalSupply()\r\n",
       "NonFungibleToken : +GetApproved(tokenId)\r\n",
       "NonFungibleToken : +IsApprovedForAll(owner,operatorAddress)\r\n",
       "NonFungibleToken : +MintAll(address,amount)\r\n",
       "NonFungibleToken : +OwnerOf(tokenId)\r\n",
       "NonFungibleToken : +SafeTransferFrom(from,to,tokenId,data)\r\n",
       "NonFungibleToken : +SafeTransferFrom(from,to,tokenId)\r\n",
       "NonFungibleToken : +SetApprovalForAll(operatorAddress,approved)\r\n",
       "NonFungibleToken : +SupportsInterface(interfaceID)\r\n",
       "NonFungibleToken : +TokenByIndex(index)\r\n",
       "NonFungibleToken : +TokenOfOwnerByIndex(owner,index)\r\n",
       "NonFungibleToken : +TransferFrom(from,to,tokenId)\r\n",
       "NonFungibleToken : +TransferOwnership(owner)\r\n",
       "NonFungibleToken : -AddNFToken(to,tokenId)\r\n",
       "NonFungibleToken : -CanOperate(tokenId)\r\n",
       "NonFungibleToken : -CanTransfer(tokenId)\r\n",
       "NonFungibleToken : -ClearApproval(tokenId)\r\n",
       "NonFungibleToken : -ClearIndexByToken(token)\r\n",
       "NonFungibleToken : -ClearIndexOfOwnerByToken(owner,tokenId)\r\n",
       "NonFungibleToken : -ClearTokenByIndex(index)\r\n",
       "NonFungibleToken : -ClearTokenOfOwnerByIndex(owner,index)\r\n",
       "NonFungibleToken : -EnsureOwnerOnly()\r\n",
       "NonFungibleToken : -get_NextTokenId()\r\n",
       "NonFungibleToken : -GetIdToApproval(id)\r\n",
       "NonFungibleToken : -GetIdToApprovalKey(id)\r\n",
       "NonFungibleToken : -GetIdToOwner(id)\r\n",
       "NonFungibleToken : -GetIdToOwnerKey(id)\r\n",
       "NonFungibleToken : -GetIndexByToken(token)\r\n",
       "NonFungibleToken : -GetIndexByTokenKey(token)\r\n",
       "NonFungibleToken : -GetIndexOfOwnerByToken(owner,tokenId)\r\n",
       "NonFungibleToken : -GetOwnerToNFTokenCount(address)\r\n",
       "NonFungibleToken : -GetOwnerToOperator(owner,operatorAddress)\r\n",
       "NonFungibleToken : -GetSupportedInterfaces(interfaceId)\r\n",
       "NonFungibleToken : -GetTokenByIndex(index)\r\n",
       "NonFungibleToken : -GetTokenByIndexKey(index)\r\n",
       "NonFungibleToken : -GetTokenOfOwnerByIndex(address,index)\r\n",
       "NonFungibleToken : -GetTokenOfOwnerByIndexKey(address,index)\r\n",
       "NonFungibleToken : -IndexOfOwnerByTokenKey(owner,tokenId)\r\n",
       "NonFungibleToken : -LogApproval(owner,approved,tokenId)\r\n",
       "NonFungibleToken : -LogApprovalForAll(owner,operatorAddress,approved)\r\n",
       "NonFungibleToken : -LogTransfer(from,to,tokenId)\r\n",
       "NonFungibleToken : -RemoveNFToken(from,tokenId)\r\n",
       "NonFungibleToken : -SafeTransferFromInternal(from,to,tokenId,data)\r\n",
       "NonFungibleToken : -set_Name(value)\r\n",
       "NonFungibleToken : -set_NextTokenId(value)\r\n",
       "NonFungibleToken : -set_Owner(value)\r\n",
       "NonFungibleToken : -set_Symbol(value)\r\n",
       "NonFungibleToken : -set_TotalSupply(value)\r\n",
       "NonFungibleToken : -SetIdToApproval(id,value)\r\n",
       "NonFungibleToken : -SetIdToOwner(id,value)\r\n",
       "NonFungibleToken : -SetIndexByToken(token,index)\r\n",
       "NonFungibleToken : -SetIndexOfOwnerByToken(owner,tokenId,index)\r\n",
       "NonFungibleToken : -SetOwnerToNFTokenCount(address,value)\r\n",
       "NonFungibleToken : -SetOwnerToOperator(owner,operatorAddress,value)\r\n",
       "NonFungibleToken : -SetSupportedInterfaces(interfaceId,value)\r\n",
       "NonFungibleToken : -SetTokenByIndex(index,token)\r\n",
       "NonFungibleToken : -SetTokenOfOwnerByIndex(owner,index,tokenId)\r\n",
       "NonFungibleToken : -TransferInternal(to,tokenId)\r\n",
       "NonFungibleToken : -ValidNFToken(tokenId)\r\n",
       "`, \r\n",
       "            g => {\r\n",
       "                renderTarget.innerHTML = g \r\n",
       "            });\r\n",
       "    },\r\n",
       "    (error) => {\r\n",
       "        console.log(error);\r\n",
       "    });\r\n",
       "}\r\n",
       "// ensure `require` is available globally\r\n",
       "if ((typeof(require) !==  typeof(Function)) || (typeof(require.config) !== typeof(Function))) {\r\n",
       "    let require_script = document.createElement('script');\r\n",
       "    require_script.setAttribute('src', 'https://cdnjs.cloudflare.com/ajax/libs/require.js/2.3.6/require.min.js');\r\n",
       "    require_script.setAttribute('type', 'text/javascript');\r\n",
       "    \r\n",
       "    \r\n",
       "    require_script.onload = function() {\r\n",
       "        loadMermaid_11f14027f73441629aa3ff9237feea5a();\r\n",
       "    };\r\n",
       "\r\n",
       "    document.getElementsByTagName('head')[0].appendChild(require_script);\r\n",
       "}\r\n",
       "else {\r\n",
       "    loadMermaid_11f14027f73441629aa3ff9237feea5a();\r\n",
       "}\r\n",
       "\r\n",
       "</script>\r\n",
       "<div id=\"11f14027f73441629aa3ff9237feea5a\"></div>\r\n",
       "</div>\r\n"
      ]
     },
     "execution_count": 4,
     "metadata": {},
     "output_type": "execute_result"
    }
   ],
   "source": [
    "IL.Draw(an.GetSummary())"
   ]
  },
  {
   "cell_type": "code",
   "execution_count": 5,
   "id": "38184724",
   "metadata": {},
   "outputs": [
    {
     "name": "stdout",
     "output_type": "stream",
     "text": [
      "[INFO] Creating call graph for methods in assembly Stratis.PR547793172.dll...\n",
      "[INFO] Methods are already collected, reusing...\n",
      "[WARN] The method () was not analyzed.\n",
      "[WARN] The method <STOContract.SalePeriodInput>() was not analyzed.\n",
      "[WARN] The method <STOContract.STOSetupLog>() was not analyzed.\n",
      "[WARN] The method <StandardToken>() was not analyzed.\n",
      "[WARN] The method <DividendToken>() was not analyzed.\n",
      "[WARN] The method <NonFungibleToken>() was not analyzed.\n",
      "[WARN] The method <STOContract.InvestLog>() was not analyzed.\n",
      "[WARN] The method <STOContract.SalePeriod>() was not analyzed.\n",
      "[WARN] The method <StandardToken.ApprovalLog>() was not analyzed.\n",
      "[WARN] The method <StandardToken.TransferLog>() was not analyzed.\n",
      "[WARN] The method <StandardToken.TransferLog>() was not analyzed.\n",
      "[WARN] The method <DividendToken.Account>() was not analyzed.\n",
      "[WARN] The method <DividendToken.ApprovalLog>() was not analyzed.\n",
      "[WARN] The method <DividendToken.Account>() was not analyzed.\n",
      "[WARN] The method <DividendToken.TransferLog>() was not analyzed.\n",
      "[WARN] The method <DividendToken.TransferLog>() was not analyzed.\n",
      "[WARN] The method <NonFungibleToken.TransferLog>() was not analyzed.\n",
      "[WARN] The method <NonFungibleToken.TransferLog>() was not analyzed.\n",
      "[WARN] The method <NonFungibleToken.ApprovalForAllLog>() was not analyzed.\n",
      "[WARN] The method <NonFungibleToken.TransferLog>() was not analyzed.\n",
      "[WARN] The method <NonFungibleToken.OwnershipTransferedLog>() was not analyzed.\n",
      "[WARN] The method <NonFungibleToken.ApprovalLog>() was not analyzed.\n",
      "[INFO] Creating call graph for methods in assembly Stratis.PR547793172.dll completed in 28ms.\n"
     ]
    },
    {
     "data": {
      "text/html": [
       "<div>\r\n",
       "<script type=\"text/javascript\">\r\n",
       "loadVisjs_4504b2b36bdf4b23b95155decc1bcaa1 = () => {\r\n",
       "(require.config({ 'paths': { 'context': '0.0.0', 'visjs' : 'https://visjs.github.io/vis-network/standalone/umd/vis-network.min', 'urlArgs': 'cacheBuster=1a34a828bafb46578604dae018ea2258' }}) || require)(['visjs'], (visjs) => {\r\n",
       "\r\n",
       "        let container = document.getElementById('4504b2b36bdf4b23b95155decc1bcaa1');\r\n",
       "        let data = {\r\n",
       "                        nodes: new visjs.DataSet([{\"id\":\"NonFungibleToken.GetIdToOwner\",\"size\":150,\"label\":\"NonFungibleToken.GetIdToOwner\",\"color\":{\"background\":\"#ffffff\"},\"shape\":\"box\",\"font\":{\"face\":\"monospace\",\"align\":\"left\"}},{\"id\":\"NonFungibleToken.Burn\",\"size\":150,\"label\":\"NonFungibleToken.Burn\",\"color\":{\"background\":\"#ffff00\"},\"shape\":\"box\",\"font\":{\"face\":\"monospace\",\"align\":\"left\"}},{\"id\":\"DividendToken.TransferFrom\",\"size\":150,\"label\":\"DividendToken.TransferFrom\",\"color\":{\"background\":\"#ffff00\"},\"shape\":\"box\",\"font\":{\"face\":\"monospace\",\"align\":\"left\"}},{\"id\":\"NonFungibleToken.NextTokenId.set\",\"size\":150,\"label\":\"NonFungibleToken.NextTokenId.set\",\"color\":{\"background\":\"#ffffff\"},\"shape\":\"box\",\"font\":{\"face\":\"monospace\",\"align\":\"left\"}},{\"id\":\"NonFungibleToken.GetOwnerToOperator\",\"size\":150,\"label\":\"NonFungibleToken.GetOwnerToOperator\",\"color\":{\"background\":\"#ffffff\"},\"shape\":\"box\",\"font\":{\"face\":\"monospace\",\"align\":\"left\"}},{\"id\":\"StandardToken..ctor\",\"size\":150,\"label\":\"StandardToken..ctor\",\"color\":{\"background\":\"#ffff00\"},\"shape\":\"box\",\"font\":{\"face\":\"monospace\",\"align\":\"left\"}},{\"id\":\"NonFungibleToken.TotalSupply.get\",\"size\":150,\"label\":\"NonFungibleToken.TotalSupply.get\",\"color\":{\"background\":\"#ffff00\"},\"shape\":\"box\",\"font\":{\"face\":\"monospace\",\"align\":\"left\"}},{\"id\":\"DividendToken.TotalSupply.set\",\"size\":150,\"label\":\"DividendToken.TotalSupply.set\",\"color\":{\"background\":\"#ffffff\"},\"shape\":\"box\",\"font\":{\"face\":\"monospace\",\"align\":\"left\"}},{\"id\":\"NonFungibleToken.GetIndexByTokenKey\",\"size\":150,\"label\":\"NonFungibleToken.GetIndexByTokenKey\",\"color\":{\"background\":\"#ffffff\"},\"shape\":\"box\",\"font\":{\"face\":\"monospace\",\"align\":\"left\"}},{\"id\":\"DividendToken.GetTotalDividends\",\"size\":150,\"label\":\"DividendToken.GetTotalDividends\",\"color\":{\"background\":\"#ffff00\"},\"shape\":\"box\",\"font\":{\"face\":\"monospace\",\"align\":\"left\"}},{\"id\":\"STOContract.EndBlock.get\",\"size\":150,\"label\":\"STOContract.EndBlock.get\",\"color\":{\"background\":\"#ff0000\"},\"shape\":\"box\",\"font\":{\"face\":\"monospace\",\"align\":\"left\"}},{\"id\":\"NonFungibleToken.SetTokenOfOwnerByIndex\",\"size\":150,\"label\":\"NonFungibleToken.SetTokenOfOwnerByIndex\",\"color\":{\"background\":\"#ffffff\"},\"shape\":\"box\",\"font\":{\"face\":\"monospace\",\"align\":\"left\"}},{\"id\":\"NonFungibleToken.ClearApproval\",\"size\":150,\"label\":\"NonFungibleToken.ClearApproval\",\"color\":{\"background\":\"#ffffff\"},\"shape\":\"box\",\"font\":{\"face\":\"monospace\",\"align\":\"left\"}},{\"id\":\"NonFungibleToken.GetTokenByIndexKey\",\"size\":150,\"label\":\"NonFungibleToken.GetTokenByIndexKey\",\"color\":{\"background\":\"#ffffff\"},\"shape\":\"box\",\"font\":{\"face\":\"monospace\",\"align\":\"left\"}},{\"id\":\"NonFungibleToken.ClearTokenOfOwnerByIndex\",\"size\":150,\"label\":\"NonFungibleToken.ClearTokenOfOwnerByIndex\",\"color\":{\"background\":\"#ffffff\"},\"shape\":\"box\",\"font\":{\"face\":\"monospace\",\"align\":\"left\"}},{\"id\":\"STOContract.TokenAddress.get\",\"size\":150,\"label\":\"STOContract.TokenAddress.get\",\"color\":{\"background\":\"#ff0000\"},\"shape\":\"box\",\"font\":{\"face\":\"monospace\",\"align\":\"left\"}},{\"id\":\"DividendToken.Allowance\",\"size\":150,\"label\":\"DividendToken.Allowance\",\"color\":{\"background\":\"#ffff00\"},\"shape\":\"box\",\"font\":{\"face\":\"monospace\",\"align\":\"left\"}},{\"id\":\"StandardToken.TransferTo\",\"size\":150,\"label\":\"StandardToken.TransferTo\",\"color\":{\"background\":\"#ffff00\"},\"shape\":\"box\",\"font\":{\"face\":\"monospace\",\"align\":\"left\"}},{\"id\":\"DividendToken.SetApproval\",\"size\":150,\"label\":\"DividendToken.SetApproval\",\"color\":{\"background\":\"#ffffff\"},\"shape\":\"box\",\"font\":{\"face\":\"monospace\",\"align\":\"left\"}},{\"id\":\"NonFungibleToken.IndexOfOwnerByTokenKey\",\"size\":150,\"label\":\"NonFungibleToken.IndexOfOwnerByTokenKey\",\"color\":{\"background\":\"#ffffff\"},\"shape\":\"box\",\"font\":{\"face\":\"monospace\",\"align\":\"left\"}},{\"id\":\"DividendToken.Name.get\",\"size\":150,\"label\":\"DividendToken.Name.get\",\"color\":{\"background\":\"#ffff00\"},\"shape\":\"box\",\"font\":{\"face\":\"monospace\",\"align\":\"left\"}},{\"id\":\"STOContract.IsNonFungibleToken.set\",\"size\":150,\"label\":\"STOContract.IsNonFungibleToken.set\",\"color\":{\"background\":\"#ffffff\"},\"shape\":\"box\",\"font\":{\"face\":\"monospace\",\"align\":\"left\"}},{\"id\":\"StandardToken.SetBalance\",\"size\":150,\"label\":\"StandardToken.SetBalance\",\"color\":{\"background\":\"#ffffff\"},\"shape\":\"box\",\"font\":{\"face\":\"monospace\",\"align\":\"left\"}},{\"id\":\"NonFungibleToken.BalanceOf\",\"size\":150,\"label\":\"NonFungibleToken.BalanceOf\",\"color\":{\"background\":\"#ffff00\"},\"shape\":\"box\",\"font\":{\"face\":\"monospace\",\"align\":\"left\"}},{\"id\":\"NonFungibleToken..ctor\",\"size\":150,\"label\":\"NonFungibleToken..ctor\",\"color\":{\"background\":\"#ffff00\"},\"shape\":\"box\",\"font\":{\"face\":\"monospace\",\"align\":\"left\"}},{\"id\":\"STOContract.IsNonFungibleToken.get\",\"size\":150,\"label\":\"STOContract.IsNonFungibleToken.get\",\"color\":{\"background\":\"#ff0000\"},\"shape\":\"box\",\"font\":{\"face\":\"monospace\",\"align\":\"left\"}},{\"id\":\"NonFungibleToken.LogApprovalForAll\",\"size\":150,\"label\":\"NonFungibleToken.LogApprovalForAll\",\"color\":{\"background\":\"#ffffff\"},\"shape\":\"box\",\"font\":{\"face\":\"monospace\",\"align\":\"left\"}},{\"id\":\"NonFungibleToken.Symbol.set\",\"size\":150,\"label\":\"NonFungibleToken.Symbol.set\",\"color\":{\"background\":\"#ffffff\"},\"shape\":\"box\",\"font\":{\"face\":\"monospace\",\"align\":\"left\"}},{\"id\":\"StandardToken.Approve\",\"size\":150,\"label\":\"StandardToken.Approve\",\"color\":{\"background\":\"#ffff00\"},\"shape\":\"box\",\"font\":{\"face\":\"monospace\",\"align\":\"left\"}},{\"id\":\"NonFungibleToken.SupportsInterface\",\"size\":150,\"label\":\"NonFungibleToken.SupportsInterface\",\"color\":{\"background\":\"#ffff00\"},\"shape\":\"box\",\"font\":{\"face\":\"monospace\",\"align\":\"left\"}},{\"id\":\"NonFungibleToken.GetTokenOfOwnerByIndexKey\",\"size\":150,\"label\":\"NonFungibleToken.GetTokenOfOwnerByIndexKey\",\"color\":{\"background\":\"#ffffff\"},\"shape\":\"box\",\"font\":{\"face\":\"monospace\",\"align\":\"left\"}},{\"id\":\"NonFungibleToken.TransferOwnership\",\"size\":150,\"label\":\"NonFungibleToken.TransferOwnership\",\"color\":{\"background\":\"#ffff00\"},\"shape\":\"box\",\"font\":{\"face\":\"monospace\",\"align\":\"left\"}},{\"id\":\"NonFungibleToken.SetTokenByIndex\",\"size\":150,\"label\":\"NonFungibleToken.SetTokenByIndex\",\"color\":{\"background\":\"#ffffff\"},\"shape\":\"box\",\"font\":{\"face\":\"monospace\",\"align\":\"left\"}},{\"id\":\"STOContract.TokenBalance.get\",\"size\":150,\"label\":\"STOContract.TokenBalance.get\",\"color\":{\"background\":\"#ff0000\"},\"shape\":\"box\",\"font\":{\"face\":\"monospace\",\"align\":\"left\"}},{\"id\":\"DividendToken.GetDividends\",\"size\":150,\"label\":\"DividendToken.GetDividends\",\"color\":{\"background\":\"#ffff00\"},\"shape\":\"box\",\"font\":{\"face\":\"monospace\",\"align\":\"left\"}},{\"id\":\"StandardToken.TotalSupply.set\",\"size\":150,\"label\":\"StandardToken.TotalSupply.set\",\"color\":{\"background\":\"#ffffff\"},\"shape\":\"box\",\"font\":{\"face\":\"monospace\",\"align\":\"left\"}},{\"id\":\"NonFungibleToken.SetOwnerToNFTokenCount\",\"size\":150,\"label\":\"NonFungibleToken.SetOwnerToNFTokenCount\",\"color\":{\"background\":\"#ffffff\"},\"shape\":\"box\",\"font\":{\"face\":\"monospace\",\"align\":\"left\"}},{\"id\":\"NonFungibleToken.TransferInternal\",\"size\":150,\"label\":\"NonFungibleToken.TransferInternal\",\"color\":{\"background\":\"#ffffff\"},\"shape\":\"box\",\"font\":{\"face\":\"monospace\",\"align\":\"left\"}},{\"id\":\"StandardToken.Symbol.get\",\"size\":150,\"label\":\"StandardToken.Symbol.get\",\"color\":{\"background\":\"#ffff00\"},\"shape\":\"box\",\"font\":{\"face\":\"monospace\",\"align\":\"left\"}},{\"id\":\"NonFungibleToken.SetOwnerToOperator\",\"size\":150,\"label\":\"NonFungibleToken.SetOwnerToOperator\",\"color\":{\"background\":\"#ffffff\"},\"shape\":\"box\",\"font\":{\"face\":\"monospace\",\"align\":\"left\"}},{\"id\":\"STOContract.TokenBalance.set\",\"size\":150,\"label\":\"STOContract.TokenBalance.set\",\"color\":{\"background\":\"#ffffff\"},\"shape\":\"box\",\"font\":{\"face\":\"monospace\",\"align\":\"left\"}},{\"id\":\"NonFungibleToken.GetApproved\",\"size\":150,\"label\":\"NonFungibleToken.GetApproved\",\"color\":{\"background\":\"#ffff00\"},\"shape\":\"box\",\"font\":{\"face\":\"monospace\",\"align\":\"left\"}},{\"id\":\"STOContract.Receive\",\"size\":150,\"label\":\"STOContract.Receive\",\"color\":{\"background\":\"#ff0000\"},\"shape\":\"box\",\"font\":{\"face\":\"monospace\",\"align\":\"left\"}},{\"id\":\"DividendToken.Dividends.get\",\"size\":150,\"label\":\"DividendToken.Dividends.get\",\"color\":{\"background\":\"#ffff00\"},\"shape\":\"box\",\"font\":{\"face\":\"monospace\",\"align\":\"left\"}},{\"id\":\"STOContract.KYCAddress.set\",\"size\":150,\"label\":\"STOContract.KYCAddress.set\",\"color\":{\"background\":\"#ffffff\"},\"shape\":\"box\",\"font\":{\"face\":\"monospace\",\"align\":\"left\"}},{\"id\":\"STOContract.GetSaleInfo\",\"size\":150,\"label\":\"STOContract.GetSaleInfo\",\"color\":{\"background\":\"#ffffff\"},\"shape\":\"box\",\"font\":{\"face\":\"monospace\",\"align\":\"left\"}},{\"id\":\"DividendToken.Approve\",\"size\":150,\"label\":\"DividendToken.Approve\",\"color\":{\"background\":\"#ffff00\"},\"shape\":\"box\",\"font\":{\"face\":\"monospace\",\"align\":\"left\"}},{\"id\":\"NonFungibleToken.NextTokenId.get\",\"size\":150,\"label\":\"NonFungibleToken.NextTokenId.get\",\"color\":{\"background\":\"#ffffff\"},\"shape\":\"box\",\"font\":{\"face\":\"monospace\",\"align\":\"left\"}},{\"id\":\"NonFungibleToken.ValidNFToken\",\"size\":150,\"label\":\"NonFungibleToken.ValidNFToken\",\"color\":{\"background\":\"#ffffff\"},\"shape\":\"box\",\"font\":{\"face\":\"monospace\",\"align\":\"left\"}},{\"id\":\"NonFungibleToken.IsApprovedForAll\",\"size\":150,\"label\":\"NonFungibleToken.IsApprovedForAll\",\"color\":{\"background\":\"#ffff00\"},\"shape\":\"box\",\"font\":{\"face\":\"monospace\",\"align\":\"left\"}},{\"id\":\"NonFungibleToken.TransferFrom\",\"size\":150,\"label\":\"NonFungibleToken.TransferFrom\",\"color\":{\"background\":\"#ffff00\"},\"shape\":\"box\",\"font\":{\"face\":\"monospace\",\"align\":\"left\"}},{\"id\":\"STOContract..ctor\",\"size\":150,\"label\":\"STOContract..ctor\",\"color\":{\"background\":\"#ff0000\"},\"shape\":\"box\",\"font\":{\"face\":\"monospace\",\"align\":\"left\"}},{\"id\":\"DividendToken.Receive\",\"size\":150,\"label\":\"DividendToken.Receive\",\"color\":{\"background\":\"#ffff00\"},\"shape\":\"box\",\"font\":{\"face\":\"monospace\",\"align\":\"left\"}},{\"id\":\"STOContract.MapperAddress.set\",\"size\":150,\"label\":\"STOContract.MapperAddress.set\",\"color\":{\"background\":\"#ffffff\"},\"shape\":\"box\",\"font\":{\"face\":\"monospace\",\"align\":\"left\"}},{\"id\":\"STOContract.SaleOpen.get\",\"size\":150,\"label\":\"STOContract.SaleOpen.get\",\"color\":{\"background\":\"#ff0000\"},\"shape\":\"box\",\"font\":{\"face\":\"monospace\",\"align\":\"left\"}},{\"id\":\"DividendToken.GetWithdrawableDividends\",\"size\":150,\"label\":\"DividendToken.GetWithdrawableDividends\",\"color\":{\"background\":\"#ffffff\"},\"shape\":\"box\",\"font\":{\"face\":\"monospace\",\"align\":\"left\"}},{\"id\":\"NonFungibleToken.TokenByIndex\",\"size\":150,\"label\":\"NonFungibleToken.TokenByIndex\",\"color\":{\"background\":\"#ffff00\"},\"shape\":\"box\",\"font\":{\"face\":\"monospace\",\"align\":\"left\"}},{\"id\":\"NonFungibleToken.SetIdToOwner\",\"size\":150,\"label\":\"NonFungibleToken.SetIdToOwner\",\"color\":{\"background\":\"#ffffff\"},\"shape\":\"box\",\"font\":{\"face\":\"monospace\",\"align\":\"left\"}},{\"id\":\"STOContract.SalePeriods.set\",\"size\":150,\"label\":\"STOContract.SalePeriods.set\",\"color\":{\"background\":\"#ffffff\"},\"shape\":\"box\",\"font\":{\"face\":\"monospace\",\"align\":\"left\"}},{\"id\":\"NonFungibleToken.GetIndexByToken\",\"size\":150,\"label\":\"NonFungibleToken.GetIndexByToken\",\"color\":{\"background\":\"#ffffff\"},\"shape\":\"box\",\"font\":{\"face\":\"monospace\",\"align\":\"left\"}},{\"id\":\"STOContract.TokenAddress.set\",\"size\":150,\"label\":\"STOContract.TokenAddress.set\",\"color\":{\"background\":\"#ffffff\"},\"shape\":\"box\",\"font\":{\"face\":\"monospace\",\"align\":\"left\"}},{\"id\":\"NonFungibleToken.ClearIndexByToken\",\"size\":150,\"label\":\"NonFungibleToken.ClearIndexByToken\",\"color\":{\"background\":\"#ffffff\"},\"shape\":\"box\",\"font\":{\"face\":\"monospace\",\"align\":\"left\"}},{\"id\":\"StandardToken.TransferFrom\",\"size\":150,\"label\":\"StandardToken.TransferFrom\",\"color\":{\"background\":\"#ffff00\"},\"shape\":\"box\",\"font\":{\"face\":\"monospace\",\"align\":\"left\"}},{\"id\":\"DividendToken.Withdraw\",\"size\":150,\"label\":\"DividendToken.Withdraw\",\"color\":{\"background\":\"#ffff00\"},\"shape\":\"box\",\"font\":{\"face\":\"monospace\",\"align\":\"left\"}},{\"id\":\"NonFungibleToken.SetSupportedInterfaces\",\"size\":150,\"label\":\"NonFungibleToken.SetSupportedInterfaces\",\"color\":{\"background\":\"#ffffff\"},\"shape\":\"box\",\"font\":{\"face\":\"monospace\",\"align\":\"left\"}},{\"id\":\"NonFungibleToken.OwnerOf\",\"size\":150,\"label\":\"NonFungibleToken.OwnerOf\",\"color\":{\"background\":\"#ffff00\"},\"shape\":\"box\",\"font\":{\"face\":\"monospace\",\"align\":\"left\"}},{\"id\":\"NonFungibleToken.Owner.get\",\"size\":150,\"label\":\"NonFungibleToken.Owner.get\",\"color\":{\"background\":\"#ffff00\"},\"shape\":\"box\",\"font\":{\"face\":\"monospace\",\"align\":\"left\"}},{\"id\":\"StandardToken.GetBalance\",\"size\":150,\"label\":\"StandardToken.GetBalance\",\"color\":{\"background\":\"#ffff00\"},\"shape\":\"box\",\"font\":{\"face\":\"monospace\",\"align\":\"left\"}},{\"id\":\"NonFungibleToken.SetIndexOfOwnerByToken\",\"size\":150,\"label\":\"NonFungibleToken.SetIndexOfOwnerByToken\",\"color\":{\"background\":\"#ffffff\"},\"shape\":\"box\",\"font\":{\"face\":\"monospace\",\"align\":\"left\"}},{\"id\":\"NonFungibleToken.SafeTransferFrom\",\"size\":150,\"label\":\"NonFungibleToken.SafeTransferFrom\",\"color\":{\"background\":\"#ffff00\"},\"shape\":\"box\",\"font\":{\"face\":\"monospace\",\"align\":\"left\"}},{\"id\":\"NonFungibleToken.Owner.set\",\"size\":150,\"label\":\"NonFungibleToken.Owner.set\",\"color\":{\"background\":\"#ffffff\"},\"shape\":\"box\",\"font\":{\"face\":\"monospace\",\"align\":\"left\"}},{\"id\":\"NonFungibleToken.MintAll\",\"size\":150,\"label\":\"NonFungibleToken.MintAll\",\"color\":{\"background\":\"#ffff00\"},\"shape\":\"box\",\"font\":{\"face\":\"monospace\",\"align\":\"left\"}},{\"id\":\"NonFungibleToken.Symbol.get\",\"size\":150,\"label\":\"NonFungibleToken.Symbol.get\",\"color\":{\"background\":\"#ffff00\"},\"shape\":\"box\",\"font\":{\"face\":\"monospace\",\"align\":\"left\"}},{\"id\":\"STOContract.Owner.get\",\"size\":150,\"label\":\"STOContract.Owner.get\",\"color\":{\"background\":\"#ff0000\"},\"shape\":\"box\",\"font\":{\"face\":\"monospace\",\"align\":\"left\"}},{\"id\":\"STOContract.CreateTokenContract\",\"size\":150,\"label\":\"STOContract.CreateTokenContract\",\"color\":{\"background\":\"#ffffff\"},\"shape\":\"box\",\"font\":{\"face\":\"monospace\",\"align\":\"left\"}},{\"id\":\"NonFungibleToken.CanOperate\",\"size\":150,\"label\":\"NonFungibleToken.CanOperate\",\"color\":{\"background\":\"#ffffff\"},\"shape\":\"box\",\"font\":{\"face\":\"monospace\",\"align\":\"left\"}},{\"id\":\"STOContract.WithdrawTokens\",\"size\":150,\"label\":\"STOContract.WithdrawTokens\",\"color\":{\"background\":\"#ff0000\"},\"shape\":\"box\",\"font\":{\"face\":\"monospace\",\"align\":\"left\"}},{\"id\":\"NonFungibleToken.TokenOfOwnerByIndex\",\"size\":150,\"label\":\"NonFungibleToken.TokenOfOwnerByIndex\",\"color\":{\"background\":\"#ffff00\"},\"shape\":\"box\",\"font\":{\"face\":\"monospace\",\"align\":\"left\"}},{\"id\":\"DividendToken.UpdateAccount\",\"size\":150,\"label\":\"DividendToken.UpdateAccount\",\"color\":{\"background\":\"#ffffff\"},\"shape\":\"box\",\"font\":{\"face\":\"monospace\",\"align\":\"left\"}},{\"id\":\"DividendToken..ctor\",\"size\":150,\"label\":\"DividendToken..ctor\",\"color\":{\"background\":\"#ffff00\"},\"shape\":\"box\",\"font\":{\"face\":\"monospace\",\"align\":\"left\"}},{\"id\":\"DividendToken.Name.set\",\"size\":150,\"label\":\"DividendToken.Name.set\",\"color\":{\"background\":\"#ffffff\"},\"shape\":\"box\",\"font\":{\"face\":\"monospace\",\"align\":\"left\"}},{\"id\":\"DividendToken.GetAccount\",\"size\":150,\"label\":\"DividendToken.GetAccount\",\"color\":{\"background\":\"#ffffff\"},\"shape\":\"box\",\"font\":{\"face\":\"monospace\",\"align\":\"left\"}},{\"id\":\"DividendToken.SetBalance\",\"size\":150,\"label\":\"DividendToken.SetBalance\",\"color\":{\"background\":\"#ffffff\"},\"shape\":\"box\",\"font\":{\"face\":\"monospace\",\"align\":\"left\"}},{\"id\":\"NonFungibleToken.LogTransfer\",\"size\":150,\"label\":\"NonFungibleToken.LogTransfer\",\"color\":{\"background\":\"#ffffff\"},\"shape\":\"box\",\"font\":{\"face\":\"monospace\",\"align\":\"left\"}},{\"id\":\"STOContract.ValidatePeriods\",\"size\":150,\"label\":\"STOContract.ValidatePeriods\",\"color\":{\"background\":\"#ffffff\"},\"shape\":\"box\",\"font\":{\"face\":\"monospace\",\"align\":\"left\"}},{\"id\":\"StandardToken.SetApproval\",\"size\":150,\"label\":\"StandardToken.SetApproval\",\"color\":{\"background\":\"#ffffff\"},\"shape\":\"box\",\"font\":{\"face\":\"monospace\",\"align\":\"left\"}},{\"id\":\"NonFungibleToken.GetIdToApprovalKey\",\"size\":150,\"label\":\"NonFungibleToken.GetIdToApprovalKey\",\"color\":{\"background\":\"#ffffff\"},\"shape\":\"box\",\"font\":{\"face\":\"monospace\",\"align\":\"left\"}},{\"id\":\"STOContract.ConvertSalePeriodInputs\",\"size\":150,\"label\":\"STOContract.ConvertSalePeriodInputs\",\"color\":{\"background\":\"#ffffff\"},\"shape\":\"box\",\"font\":{\"face\":\"monospace\",\"align\":\"left\"}},{\"id\":\"NonFungibleToken.GetSupportedInterfaces\",\"size\":150,\"label\":\"NonFungibleToken.GetSupportedInterfaces\",\"color\":{\"background\":\"#ffffff\"},\"shape\":\"box\",\"font\":{\"face\":\"monospace\",\"align\":\"left\"}},{\"id\":\"StandardToken.Allowance\",\"size\":150,\"label\":\"StandardToken.Allowance\",\"color\":{\"background\":\"#ffff00\"},\"shape\":\"box\",\"font\":{\"face\":\"monospace\",\"align\":\"left\"}},{\"id\":\"STOContract.WithdrawFunds\",\"size\":150,\"label\":\"STOContract.WithdrawFunds\",\"color\":{\"background\":\"#ff0000\"},\"shape\":\"box\",\"font\":{\"face\":\"monospace\",\"align\":\"left\"}},{\"id\":\"NonFungibleToken.TotalSupply.set\",\"size\":150,\"label\":\"NonFungibleToken.TotalSupply.set\",\"color\":{\"background\":\"#ffffff\"},\"shape\":\"box\",\"font\":{\"face\":\"monospace\",\"align\":\"left\"}},{\"id\":\"NonFungibleToken.Name.get\",\"size\":150,\"label\":\"NonFungibleToken.Name.get\",\"color\":{\"background\":\"#ffff00\"},\"shape\":\"box\",\"font\":{\"face\":\"monospace\",\"align\":\"left\"}},{\"id\":\"DividendToken.TransferTokensFrom\",\"size\":150,\"label\":\"DividendToken.TransferTokensFrom\",\"color\":{\"background\":\"#ffffff\"},\"shape\":\"box\",\"font\":{\"face\":\"monospace\",\"align\":\"left\"}},{\"id\":\"NonFungibleToken.GetIdToApproval\",\"size\":150,\"label\":\"NonFungibleToken.GetIdToApproval\",\"color\":{\"background\":\"#ffffff\"},\"shape\":\"box\",\"font\":{\"face\":\"monospace\",\"align\":\"left\"}},{\"id\":\"STOContract.Owner.set\",\"size\":150,\"label\":\"STOContract.Owner.set\",\"color\":{\"background\":\"#ffffff\"},\"shape\":\"box\",\"font\":{\"face\":\"monospace\",\"align\":\"left\"}},{\"id\":\"NonFungibleToken.ClearIndexOfOwnerByToken\",\"size\":150,\"label\":\"NonFungibleToken.ClearIndexOfOwnerByToken\",\"color\":{\"background\":\"#ffffff\"},\"shape\":\"box\",\"font\":{\"face\":\"monospace\",\"align\":\"left\"}},{\"id\":\"StandardToken.Symbol.set\",\"size\":150,\"label\":\"StandardToken.Symbol.set\",\"color\":{\"background\":\"#ffffff\"},\"shape\":\"box\",\"font\":{\"face\":\"monospace\",\"align\":\"left\"}},{\"id\":\"NonFungibleToken.GetIndexOfOwnerByToken\",\"size\":150,\"label\":\"NonFungibleToken.GetIndexOfOwnerByToken\",\"color\":{\"background\":\"#ffffff\"},\"shape\":\"box\",\"font\":{\"face\":\"monospace\",\"align\":\"left\"}},{\"id\":\"NonFungibleToken.ClearTokenByIndex\",\"size\":150,\"label\":\"NonFungibleToken.ClearTokenByIndex\",\"color\":{\"background\":\"#ffffff\"},\"shape\":\"box\",\"font\":{\"face\":\"monospace\",\"align\":\"left\"}},{\"id\":\"NonFungibleToken.SetIdToApproval\",\"size\":150,\"label\":\"NonFungibleToken.SetIdToApproval\",\"color\":{\"background\":\"#ffffff\"},\"shape\":\"box\",\"font\":{\"face\":\"monospace\",\"align\":\"left\"}},{\"id\":\"DividendToken.TransferTo\",\"size\":150,\"label\":\"DividendToken.TransferTo\",\"color\":{\"background\":\"#ffff00\"},\"shape\":\"box\",\"font\":{\"face\":\"monospace\",\"align\":\"left\"}},{\"id\":\"NonFungibleToken.AddNFToken\",\"size\":150,\"label\":\"NonFungibleToken.AddNFToken\",\"color\":{\"background\":\"#ffffff\"},\"shape\":\"box\",\"font\":{\"face\":\"monospace\",\"align\":\"left\"}},{\"id\":\"StandardToken.TotalSupply.get\",\"size\":150,\"label\":\"StandardToken.TotalSupply.get\",\"color\":{\"background\":\"#ffff00\"},\"shape\":\"box\",\"font\":{\"face\":\"monospace\",\"align\":\"left\"}},{\"id\":\"NonFungibleToken.RemoveNFToken\",\"size\":150,\"label\":\"NonFungibleToken.RemoveNFToken\",\"color\":{\"background\":\"#ffffff\"},\"shape\":\"box\",\"font\":{\"face\":\"monospace\",\"align\":\"left\"}},{\"id\":\"NonFungibleToken.SetIndexByToken\",\"size\":150,\"label\":\"NonFungibleToken.SetIndexByToken\",\"color\":{\"background\":\"#ffffff\"},\"shape\":\"box\",\"font\":{\"face\":\"monospace\",\"align\":\"left\"}},{\"id\":\"STOContract.Invest\",\"size\":150,\"label\":\"STOContract.Invest\",\"color\":{\"background\":\"#ff0000\"},\"shape\":\"box\",\"font\":{\"face\":\"monospace\",\"align\":\"left\"}},{\"id\":\"NonFungibleToken.SafeTransferFromInternal\",\"size\":150,\"label\":\"NonFungibleToken.SafeTransferFromInternal\",\"color\":{\"background\":\"#ffffff\"},\"shape\":\"box\",\"font\":{\"face\":\"monospace\",\"align\":\"left\"}},{\"id\":\"STOContract.KYCAddress.get\",\"size\":150,\"label\":\"STOContract.KYCAddress.get\",\"color\":{\"background\":\"#ff0000\"},\"shape\":\"box\",\"font\":{\"face\":\"monospace\",\"align\":\"left\"}},{\"id\":\"STOContract.GetCurrentPeriod\",\"size\":150,\"label\":\"STOContract.GetCurrentPeriod\",\"color\":{\"background\":\"#ffffff\"},\"shape\":\"box\",\"font\":{\"face\":\"monospace\",\"align\":\"left\"}},{\"id\":\"StandardToken.Name.get\",\"size\":150,\"label\":\"StandardToken.Name.get\",\"color\":{\"background\":\"#ffff00\"},\"shape\":\"box\",\"font\":{\"face\":\"monospace\",\"align\":\"left\"}},{\"id\":\"DividendToken.Symbol.get\",\"size\":150,\"label\":\"DividendToken.Symbol.get\",\"color\":{\"background\":\"#ffff00\"},\"shape\":\"box\",\"font\":{\"face\":\"monospace\",\"align\":\"left\"}},{\"id\":\"STOContract.MapperAddress.get\",\"size\":150,\"label\":\"STOContract.MapperAddress.get\",\"color\":{\"background\":\"#ff0000\"},\"shape\":\"box\",\"font\":{\"face\":\"monospace\",\"align\":\"left\"}},{\"id\":\"NonFungibleToken.SetApprovalForAll\",\"size\":150,\"label\":\"NonFungibleToken.SetApprovalForAll\",\"color\":{\"background\":\"#ffff00\"},\"shape\":\"box\",\"font\":{\"face\":\"monospace\",\"align\":\"left\"}},{\"id\":\"DividendToken.TotalSupply.get\",\"size\":150,\"label\":\"DividendToken.TotalSupply.get\",\"color\":{\"background\":\"#ffff00\"},\"shape\":\"box\",\"font\":{\"face\":\"monospace\",\"align\":\"left\"}},{\"id\":\"DividendToken.SetAccount\",\"size\":150,\"label\":\"DividendToken.SetAccount\",\"color\":{\"background\":\"#ffffff\"},\"shape\":\"box\",\"font\":{\"face\":\"monospace\",\"align\":\"left\"}},{\"id\":\"STOContract.SetPeriods\",\"size\":150,\"label\":\"STOContract.SetPeriods\",\"color\":{\"background\":\"#ffffff\"},\"shape\":\"box\",\"font\":{\"face\":\"monospace\",\"align\":\"left\"}},{\"id\":\"DividendToken.Symbol.set\",\"size\":150,\"label\":\"DividendToken.Symbol.set\",\"color\":{\"background\":\"#ffffff\"},\"shape\":\"box\",\"font\":{\"face\":\"monospace\",\"align\":\"left\"}},{\"id\":\"StandardToken.Name.set\",\"size\":150,\"label\":\"StandardToken.Name.set\",\"color\":{\"background\":\"#ffffff\"},\"shape\":\"box\",\"font\":{\"face\":\"monospace\",\"align\":\"left\"}},{\"id\":\"NonFungibleToken.Approve\",\"size\":150,\"label\":\"NonFungibleToken.Approve\",\"color\":{\"background\":\"#ffff00\"},\"shape\":\"box\",\"font\":{\"face\":\"monospace\",\"align\":\"left\"}},{\"id\":\"NonFungibleToken.GetOwnerToNFTokenCount\",\"size\":150,\"label\":\"NonFungibleToken.GetOwnerToNFTokenCount\",\"color\":{\"background\":\"#ffffff\"},\"shape\":\"box\",\"font\":{\"face\":\"monospace\",\"align\":\"left\"}},{\"id\":\"STOContract.EnsureKycVerified\",\"size\":150,\"label\":\"STOContract.EnsureKycVerified\",\"color\":{\"background\":\"#ffffff\"},\"shape\":\"box\",\"font\":{\"face\":\"monospace\",\"align\":\"left\"}},{\"id\":\"STOContract.EndBlock.set\",\"size\":150,\"label\":\"STOContract.EndBlock.set\",\"color\":{\"background\":\"#ffffff\"},\"shape\":\"box\",\"font\":{\"face\":\"monospace\",\"align\":\"left\"}},{\"id\":\"STOContract.SalePeriods.get\",\"size\":150,\"label\":\"STOContract.SalePeriods.get\",\"color\":{\"background\":\"#ff0000\"},\"shape\":\"box\",\"font\":{\"face\":\"monospace\",\"align\":\"left\"}},{\"id\":\"NonFungibleToken.GetTokenOfOwnerByIndex\",\"size\":150,\"label\":\"NonFungibleToken.GetTokenOfOwnerByIndex\",\"color\":{\"background\":\"#ffffff\"},\"shape\":\"box\",\"font\":{\"face\":\"monospace\",\"align\":\"left\"}},{\"id\":\"NonFungibleToken.GetTokenByIndex\",\"size\":150,\"label\":\"NonFungibleToken.GetTokenByIndex\",\"color\":{\"background\":\"#ffffff\"},\"shape\":\"box\",\"font\":{\"face\":\"monospace\",\"align\":\"left\"}},{\"id\":\"DividendToken.TransferTokensTo\",\"size\":150,\"label\":\"DividendToken.TransferTokensTo\",\"color\":{\"background\":\"#ffffff\"},\"shape\":\"box\",\"font\":{\"face\":\"monospace\",\"align\":\"left\"}},{\"id\":\"NonFungibleToken.EnsureOwnerOnly\",\"size\":150,\"label\":\"NonFungibleToken.EnsureOwnerOnly\",\"color\":{\"background\":\"#ffffff\"},\"shape\":\"box\",\"font\":{\"face\":\"monospace\",\"align\":\"left\"}},{\"id\":\"NonFungibleToken.LogApproval\",\"size\":150,\"label\":\"NonFungibleToken.LogApproval\",\"color\":{\"background\":\"#ffffff\"},\"shape\":\"box\",\"font\":{\"face\":\"monospace\",\"align\":\"left\"}},{\"id\":\"NonFungibleToken.Name.set\",\"size\":150,\"label\":\"NonFungibleToken.Name.set\",\"color\":{\"background\":\"#ffffff\"},\"shape\":\"box\",\"font\":{\"face\":\"monospace\",\"align\":\"left\"}},{\"id\":\"NonFungibleToken.CanTransfer\",\"size\":150,\"label\":\"NonFungibleToken.CanTransfer\",\"color\":{\"background\":\"#ffffff\"},\"shape\":\"box\",\"font\":{\"face\":\"monospace\",\"align\":\"left\"}},{\"id\":\"DividendToken.GetBalance\",\"size\":150,\"label\":\"DividendToken.GetBalance\",\"color\":{\"background\":\"#ffff00\"},\"shape\":\"box\",\"font\":{\"face\":\"monospace\",\"align\":\"left\"}},{\"id\":\"NonFungibleToken.GetIdToOwnerKey\",\"size\":150,\"label\":\"NonFungibleToken.GetIdToOwnerKey\",\"color\":{\"background\":\"#ffffff\"},\"shape\":\"box\",\"font\":{\"face\":\"monospace\",\"align\":\"left\"}},{\"id\":\"NonFungibleToken.EnsureAddressIsNotEmpty\",\"size\":150,\"label\":\"NonFungibleToken.EnsureAddressIsNotEmpty\",\"color\":{\"background\":\"#ffff00\"},\"shape\":\"box\",\"font\":{\"face\":\"monospace\",\"align\":\"left\"}},{\"id\":\"DividendToken.Dividends.set\",\"size\":150,\"label\":\"DividendToken.Dividends.set\",\"color\":{\"background\":\"#ffffff\"},\"shape\":\"box\",\"font\":{\"face\":\"monospace\",\"align\":\"left\"}}]), \r\n",
       "                        edges: new visjs.DataSet([{\"from\":\"NonFungibleToken.GetIdToOwner\",\"to\":\"NonFungibleToken.GetIdToOwnerKey\"},{\"from\":\"NonFungibleToken.Burn\",\"to\":\"NonFungibleToken.TotalSupply.get\"},{\"from\":\"NonFungibleToken.Burn\",\"to\":\"NonFungibleToken.RemoveNFToken\"},{\"from\":\"NonFungibleToken.Burn\",\"to\":\"NonFungibleToken.SetIndexByToken\"},{\"from\":\"NonFungibleToken.Burn\",\"to\":\"NonFungibleToken.ClearIndexByToken\"},{\"from\":\"NonFungibleToken.Burn\",\"to\":\"NonFungibleToken.ClearTokenByIndex\"},{\"from\":\"NonFungibleToken.Burn\",\"to\":\"NonFungibleToken.EnsureAddressIsNotEmpty\"},{\"from\":\"NonFungibleToken.Burn\",\"to\":\"NonFungibleToken.GetTokenByIndex\"},{\"from\":\"NonFungibleToken.Burn\",\"to\":\"NonFungibleToken.SetTokenByIndex\"},{\"from\":\"NonFungibleToken.Burn\",\"to\":\"NonFungibleToken.GetIndexByToken\"},{\"from\":\"NonFungibleToken.Burn\",\"to\":\"NonFungibleToken.ClearApproval\"},{\"from\":\"NonFungibleToken.Burn\",\"to\":\"NonFungibleToken.GetIdToOwner\"},{\"from\":\"NonFungibleToken.Burn\",\"to\":\"NonFungibleToken.TotalSupply.set\"},{\"from\":\"DividendToken.TransferFrom\",\"to\":\"DividendToken.UpdateAccount\"},{\"from\":\"DividendToken.TransferFrom\",\"to\":\"DividendToken.UpdateAccount\"},{\"from\":\"DividendToken.TransferFrom\",\"to\":\"DividendToken.TransferTokensFrom\"},{\"from\":\"StandardToken..ctor\",\"to\":\"StandardToken.SetBalance\"},{\"from\":\"StandardToken..ctor\",\"to\":\"StandardToken.Name.set\"},{\"from\":\"StandardToken..ctor\",\"to\":\"StandardToken.Symbol.set\"},{\"from\":\"StandardToken..ctor\",\"to\":\"StandardToken.TotalSupply.set\"},{\"from\":\"DividendToken.GetTotalDividends\",\"to\":\"DividendToken.GetWithdrawableDividends\"},{\"from\":\"DividendToken.GetTotalDividends\",\"to\":\"DividendToken.TotalSupply.get\"},{\"from\":\"DividendToken.GetTotalDividends\",\"to\":\"DividendToken.GetAccount\"},{\"from\":\"DividendToken.GetTotalDividends\",\"to\":\"DividendToken.GetTotalDividends\"},{\"from\":\"NonFungibleToken.SetTokenOfOwnerByIndex\",\"to\":\"NonFungibleToken.GetTokenOfOwnerByIndexKey\"},{\"from\":\"NonFungibleToken.ClearApproval\",\"to\":\"NonFungibleToken.GetIdToApproval\"},{\"from\":\"NonFungibleToken.ClearApproval\",\"to\":\"NonFungibleToken.GetIdToApprovalKey\"},{\"from\":\"NonFungibleToken.ClearTokenOfOwnerByIndex\",\"to\":\"NonFungibleToken.GetTokenOfOwnerByIndexKey\"},{\"from\":\"StandardToken.TransferTo\",\"to\":\"StandardToken.SetBalance\"},{\"from\":\"StandardToken.TransferTo\",\"to\":\"StandardToken.SetBalance\"},{\"from\":\"StandardToken.TransferTo\",\"to\":\"StandardToken.GetBalance\"},{\"from\":\"StandardToken.TransferTo\",\"to\":\"StandardToken.GetBalance\"},{\"from\":\"NonFungibleToken.BalanceOf\",\"to\":\"NonFungibleToken.GetOwnerToNFTokenCount\"},{\"from\":\"NonFungibleToken.BalanceOf\",\"to\":\"NonFungibleToken.EnsureAddressIsNotEmpty\"},{\"from\":\"NonFungibleToken..ctor\",\"to\":\"NonFungibleToken.SetSupportedInterfaces\"},{\"from\":\"NonFungibleToken..ctor\",\"to\":\"NonFungibleToken.SetSupportedInterfaces\"},{\"from\":\"NonFungibleToken..ctor\",\"to\":\"NonFungibleToken.SetSupportedInterfaces\"},{\"from\":\"NonFungibleToken..ctor\",\"to\":\"NonFungibleToken.SetSupportedInterfaces\"},{\"from\":\"NonFungibleToken..ctor\",\"to\":\"NonFungibleToken.SetSupportedInterfaces\"},{\"from\":\"NonFungibleToken..ctor\",\"to\":\"NonFungibleToken.NextTokenId.set\"},{\"from\":\"NonFungibleToken..ctor\",\"to\":\"NonFungibleToken.Name.set\"},{\"from\":\"NonFungibleToken..ctor\",\"to\":\"NonFungibleToken.Owner.set\"},{\"from\":\"NonFungibleToken..ctor\",\"to\":\"NonFungibleToken.Symbol.set\"},{\"from\":\"StandardToken.Approve\",\"to\":\"StandardToken.SetApproval\"},{\"from\":\"StandardToken.Approve\",\"to\":\"StandardToken.Allowance\"},{\"from\":\"NonFungibleToken.SupportsInterface\",\"to\":\"NonFungibleToken.GetSupportedInterfaces\"},{\"from\":\"NonFungibleToken.TransferOwnership\",\"to\":\"NonFungibleToken.Owner.set\"},{\"from\":\"NonFungibleToken.TransferOwnership\",\"to\":\"NonFungibleToken.EnsureOwnerOnly\"},{\"from\":\"NonFungibleToken.TransferOwnership\",\"to\":\"NonFungibleToken.Owner.get\"},{\"from\":\"NonFungibleToken.SetTokenByIndex\",\"to\":\"NonFungibleToken.GetTokenByIndexKey\"},{\"from\":\"DividendToken.GetDividends\",\"to\":\"DividendToken.GetWithdrawableDividends\"},{\"from\":\"DividendToken.GetDividends\",\"to\":\"DividendToken.TotalSupply.get\"},{\"from\":\"DividendToken.GetDividends\",\"to\":\"DividendToken.GetAccount\"},{\"from\":\"DividendToken.GetDividends\",\"to\":\"DividendToken.GetDividends\"},{\"from\":\"NonFungibleToken.TransferInternal\",\"to\":\"NonFungibleToken.LogTransfer\"},{\"from\":\"NonFungibleToken.TransferInternal\",\"to\":\"NonFungibleToken.AddNFToken\"},{\"from\":\"NonFungibleToken.TransferInternal\",\"to\":\"NonFungibleToken.RemoveNFToken\"},{\"from\":\"NonFungibleToken.TransferInternal\",\"to\":\"NonFungibleToken.ClearApproval\"},{\"from\":\"NonFungibleToken.TransferInternal\",\"to\":\"NonFungibleToken.GetIdToOwner\"},{\"from\":\"NonFungibleToken.GetApproved\",\"to\":\"NonFungibleToken.ValidNFToken\"},{\"from\":\"NonFungibleToken.GetApproved\",\"to\":\"NonFungibleToken.GetIdToApproval\"},{\"from\":\"STOContract.Receive\",\"to\":\"STOContract.Invest\"},{\"from\":\"STOContract.GetSaleInfo\",\"to\":\"STOContract.GetCurrentPeriod\"},{\"from\":\"STOContract.GetSaleInfo\",\"to\":\"STOContract.TokenBalance.get\"},{\"from\":\"DividendToken.Approve\",\"to\":\"DividendToken.SetApproval\"},{\"from\":\"DividendToken.Approve\",\"to\":\"DividendToken.Allowance\"},{\"from\":\"NonFungibleToken.ValidNFToken\",\"to\":\"NonFungibleToken.EnsureAddressIsNotEmpty\"},{\"from\":\"NonFungibleToken.ValidNFToken\",\"to\":\"NonFungibleToken.GetIdToOwner\"},{\"from\":\"NonFungibleToken.IsApprovedForAll\",\"to\":\"NonFungibleToken.GetOwnerToOperator\"},{\"from\":\"NonFungibleToken.TransferFrom\",\"to\":\"NonFungibleToken.TransferInternal\"},{\"from\":\"NonFungibleToken.TransferFrom\",\"to\":\"NonFungibleToken.CanTransfer\"},{\"from\":\"NonFungibleToken.TransferFrom\",\"to\":\"NonFungibleToken.EnsureAddressIsNotEmpty\"},{\"from\":\"NonFungibleToken.TransferFrom\",\"to\":\"NonFungibleToken.EnsureAddressIsNotEmpty\"},{\"from\":\"NonFungibleToken.TransferFrom\",\"to\":\"NonFungibleToken.GetIdToOwner\"},{\"from\":\"STOContract..ctor\",\"to\":\"STOContract.TokenBalance.set\"},{\"from\":\"STOContract..ctor\",\"to\":\"STOContract.SetPeriods\"},{\"from\":\"STOContract..ctor\",\"to\":\"STOContract.ValidatePeriods\"},{\"from\":\"STOContract..ctor\",\"to\":\"STOContract.CreateTokenContract\"},{\"from\":\"STOContract..ctor\",\"to\":\"STOContract.IsNonFungibleToken.get\"},{\"from\":\"STOContract..ctor\",\"to\":\"STOContract.Owner.set\"},{\"from\":\"STOContract..ctor\",\"to\":\"STOContract.MapperAddress.set\"},{\"from\":\"STOContract..ctor\",\"to\":\"STOContract.KYCAddress.set\"},{\"from\":\"STOContract..ctor\",\"to\":\"STOContract.TokenAddress.set\"},{\"from\":\"STOContract..ctor\",\"to\":\"STOContract.IsNonFungibleToken.set\"},{\"from\":\"DividendToken.Receive\",\"to\":\"DividendToken.Dividends.get\"},{\"from\":\"DividendToken.Receive\",\"to\":\"DividendToken.Dividends.set\"},{\"from\":\"STOContract.SaleOpen.get\",\"to\":\"STOContract.EndBlock.get\"},{\"from\":\"STOContract.SaleOpen.get\",\"to\":\"STOContract.TokenBalance.get\"},{\"from\":\"DividendToken.GetWithdrawableDividends\",\"to\":\"DividendToken.Dividends.get\"},{\"from\":\"DividendToken.GetWithdrawableDividends\",\"to\":\"DividendToken.GetBalance\"},{\"from\":\"NonFungibleToken.TokenByIndex\",\"to\":\"NonFungibleToken.TotalSupply.get\"},{\"from\":\"NonFungibleToken.TokenByIndex\",\"to\":\"NonFungibleToken.GetTokenByIndex\"},{\"from\":\"NonFungibleToken.SetIdToOwner\",\"to\":\"NonFungibleToken.GetIdToOwnerKey\"},{\"from\":\"NonFungibleToken.GetIndexByToken\",\"to\":\"NonFungibleToken.GetIndexByTokenKey\"},{\"from\":\"NonFungibleToken.ClearIndexByToken\",\"to\":\"NonFungibleToken.GetIndexByTokenKey\"},{\"from\":\"StandardToken.TransferFrom\",\"to\":\"StandardToken.SetBalance\"},{\"from\":\"StandardToken.TransferFrom\",\"to\":\"StandardToken.SetBalance\"},{\"from\":\"StandardToken.TransferFrom\",\"to\":\"StandardToken.SetApproval\"},{\"from\":\"StandardToken.TransferFrom\",\"to\":\"StandardToken.Allowance\"},{\"from\":\"StandardToken.TransferFrom\",\"to\":\"StandardToken.GetBalance\"},{\"from\":\"StandardToken.TransferFrom\",\"to\":\"StandardToken.GetBalance\"},{\"from\":\"DividendToken.Withdraw\",\"to\":\"DividendToken.UpdateAccount\"},{\"from\":\"DividendToken.Withdraw\",\"to\":\"DividendToken.TotalSupply.get\"},{\"from\":\"DividendToken.Withdraw\",\"to\":\"DividendToken.TotalSupply.get\"},{\"from\":\"DividendToken.Withdraw\",\"to\":\"DividendToken.SetAccount\"},{\"from\":\"NonFungibleToken.OwnerOf\",\"to\":\"NonFungibleToken.EnsureAddressIsNotEmpty\"},{\"from\":\"NonFungibleToken.OwnerOf\",\"to\":\"NonFungibleToken.GetIdToOwner\"},{\"from\":\"NonFungibleToken.SetIndexOfOwnerByToken\",\"to\":\"NonFungibleToken.IndexOfOwnerByTokenKey\"},{\"from\":\"NonFungibleToken.SafeTransferFrom\",\"to\":\"NonFungibleToken.SafeTransferFromInternal\"},{\"from\":\"NonFungibleToken.SafeTransferFrom\",\"to\":\"NonFungibleToken.SafeTransferFromInternal\"},{\"from\":\"NonFungibleToken.MintAll\",\"to\":\"NonFungibleToken.AddNFToken\"},{\"from\":\"NonFungibleToken.MintAll\",\"to\":\"NonFungibleToken.TotalSupply.get\"},{\"from\":\"NonFungibleToken.MintAll\",\"to\":\"NonFungibleToken.TotalSupply.get\"},{\"from\":\"NonFungibleToken.MintAll\",\"to\":\"NonFungibleToken.NextTokenId.set\"},{\"from\":\"NonFungibleToken.MintAll\",\"to\":\"NonFungibleToken.SetIndexByToken\"},{\"from\":\"NonFungibleToken.MintAll\",\"to\":\"NonFungibleToken.NextTokenId.get\"},{\"from\":\"NonFungibleToken.MintAll\",\"to\":\"NonFungibleToken.EnsureAddressIsNotEmpty\"},{\"from\":\"NonFungibleToken.MintAll\",\"to\":\"NonFungibleToken.EnsureOwnerOnly\"},{\"from\":\"NonFungibleToken.MintAll\",\"to\":\"NonFungibleToken.SetTokenByIndex\"},{\"from\":\"NonFungibleToken.MintAll\",\"to\":\"NonFungibleToken.TotalSupply.set\"},{\"from\":\"NonFungibleToken.CanOperate\",\"to\":\"NonFungibleToken.GetOwnerToOperator\"},{\"from\":\"NonFungibleToken.CanOperate\",\"to\":\"NonFungibleToken.GetIdToOwner\"},{\"from\":\"STOContract.WithdrawTokens\",\"to\":\"STOContract.TokenBalance.set\"},{\"from\":\"STOContract.WithdrawTokens\",\"to\":\"STOContract.TokenAddress.get\"},{\"from\":\"STOContract.WithdrawTokens\",\"to\":\"STOContract.SaleOpen.get\"},{\"from\":\"STOContract.WithdrawTokens\",\"to\":\"STOContract.IsNonFungibleToken.get\"},{\"from\":\"STOContract.WithdrawTokens\",\"to\":\"STOContract.Owner.get\"},{\"from\":\"STOContract.WithdrawTokens\",\"to\":\"STOContract.TokenBalance.get\"},{\"from\":\"NonFungibleToken.TokenOfOwnerByIndex\",\"to\":\"NonFungibleToken.GetOwnerToNFTokenCount\"},{\"from\":\"NonFungibleToken.TokenOfOwnerByIndex\",\"to\":\"NonFungibleToken.GetTokenOfOwnerByIndex\"},{\"from\":\"DividendToken.UpdateAccount\",\"to\":\"DividendToken.Dividends.get\"},{\"from\":\"DividendToken.UpdateAccount\",\"to\":\"DividendToken.GetWithdrawableDividends\"},{\"from\":\"DividendToken.UpdateAccount\",\"to\":\"DividendToken.SetAccount\"},{\"from\":\"DividendToken.UpdateAccount\",\"to\":\"DividendToken.GetAccount\"},{\"from\":\"DividendToken..ctor\",\"to\":\"DividendToken.SetBalance\"},{\"from\":\"DividendToken..ctor\",\"to\":\"DividendToken.TotalSupply.set\"},{\"from\":\"DividendToken..ctor\",\"to\":\"DividendToken.Name.set\"},{\"from\":\"DividendToken..ctor\",\"to\":\"DividendToken.Symbol.set\"},{\"from\":\"STOContract.WithdrawFunds\",\"to\":\"STOContract.SaleOpen.get\"},{\"from\":\"STOContract.WithdrawFunds\",\"to\":\"STOContract.Owner.get\"},{\"from\":\"STOContract.WithdrawFunds\",\"to\":\"STOContract.Owner.get\"},{\"from\":\"DividendToken.TransferTokensFrom\",\"to\":\"DividendToken.SetBalance\"},{\"from\":\"DividendToken.TransferTokensFrom\",\"to\":\"DividendToken.SetBalance\"},{\"from\":\"DividendToken.TransferTokensFrom\",\"to\":\"DividendToken.SetApproval\"},{\"from\":\"DividendToken.TransferTokensFrom\",\"to\":\"DividendToken.GetBalance\"},{\"from\":\"DividendToken.TransferTokensFrom\",\"to\":\"DividendToken.GetBalance\"},{\"from\":\"DividendToken.TransferTokensFrom\",\"to\":\"DividendToken.Allowance\"},{\"from\":\"NonFungibleToken.GetIdToApproval\",\"to\":\"NonFungibleToken.GetIdToApprovalKey\"},{\"from\":\"NonFungibleToken.ClearIndexOfOwnerByToken\",\"to\":\"NonFungibleToken.IndexOfOwnerByTokenKey\"},{\"from\":\"NonFungibleToken.GetIndexOfOwnerByToken\",\"to\":\"NonFungibleToken.IndexOfOwnerByTokenKey\"},{\"from\":\"NonFungibleToken.ClearTokenByIndex\",\"to\":\"NonFungibleToken.GetTokenByIndexKey\"},{\"from\":\"NonFungibleToken.SetIdToApproval\",\"to\":\"NonFungibleToken.GetIdToApprovalKey\"},{\"from\":\"DividendToken.TransferTo\",\"to\":\"DividendToken.UpdateAccount\"},{\"from\":\"DividendToken.TransferTo\",\"to\":\"DividendToken.UpdateAccount\"},{\"from\":\"DividendToken.TransferTo\",\"to\":\"DividendToken.TransferTokensTo\"},{\"from\":\"NonFungibleToken.AddNFToken\",\"to\":\"NonFungibleToken.GetOwnerToNFTokenCount\"},{\"from\":\"NonFungibleToken.AddNFToken\",\"to\":\"NonFungibleToken.SetIndexOfOwnerByToken\"},{\"from\":\"NonFungibleToken.AddNFToken\",\"to\":\"NonFungibleToken.SetTokenOfOwnerByIndex\"},{\"from\":\"NonFungibleToken.AddNFToken\",\"to\":\"NonFungibleToken.SetIdToOwner\"},{\"from\":\"NonFungibleToken.AddNFToken\",\"to\":\"NonFungibleToken.SetOwnerToNFTokenCount\"},{\"from\":\"NonFungibleToken.AddNFToken\",\"to\":\"NonFungibleToken.GetIdToOwner\"},{\"from\":\"NonFungibleToken.RemoveNFToken\",\"to\":\"NonFungibleToken.GetOwnerToNFTokenCount\"},{\"from\":\"NonFungibleToken.RemoveNFToken\",\"to\":\"NonFungibleToken.SetIndexOfOwnerByToken\"},{\"from\":\"NonFungibleToken.RemoveNFToken\",\"to\":\"NonFungibleToken.SetTokenOfOwnerByIndex\"},{\"from\":\"NonFungibleToken.RemoveNFToken\",\"to\":\"NonFungibleToken.ClearTokenOfOwnerByIndex\"},{\"from\":\"NonFungibleToken.RemoveNFToken\",\"to\":\"NonFungibleToken.GetIdToOwnerKey\"},{\"from\":\"NonFungibleToken.RemoveNFToken\",\"to\":\"NonFungibleToken.ClearIndexOfOwnerByToken\"},{\"from\":\"NonFungibleToken.RemoveNFToken\",\"to\":\"NonFungibleToken.SetOwnerToNFTokenCount\"},{\"from\":\"NonFungibleToken.RemoveNFToken\",\"to\":\"NonFungibleToken.GetTokenOfOwnerByIndex\"},{\"from\":\"NonFungibleToken.RemoveNFToken\",\"to\":\"NonFungibleToken.GetIdToOwner\"},{\"from\":\"NonFungibleToken.RemoveNFToken\",\"to\":\"NonFungibleToken.GetIndexOfOwnerByToken\"},{\"from\":\"NonFungibleToken.SetIndexByToken\",\"to\":\"NonFungibleToken.GetIndexByTokenKey\"},{\"from\":\"STOContract.Invest\",\"to\":\"STOContract.TokenBalance.set\"},{\"from\":\"STOContract.Invest\",\"to\":\"STOContract.TokenAddress.get\"},{\"from\":\"STOContract.Invest\",\"to\":\"STOContract.SaleOpen.get\"},{\"from\":\"STOContract.Invest\",\"to\":\"STOContract.IsNonFungibleToken.get\"},{\"from\":\"STOContract.Invest\",\"to\":\"STOContract.EnsureKycVerified\"},{\"from\":\"STOContract.Invest\",\"to\":\"STOContract.GetSaleInfo\"},{\"from\":\"STOContract.Invest\",\"to\":\"STOContract.TokenBalance.get\"},{\"from\":\"NonFungibleToken.SafeTransferFromInternal\",\"to\":\"NonFungibleToken.TransferInternal\"},{\"from\":\"NonFungibleToken.SafeTransferFromInternal\",\"to\":\"NonFungibleToken.ValidNFToken\"},{\"from\":\"NonFungibleToken.SafeTransferFromInternal\",\"to\":\"NonFungibleToken.CanTransfer\"},{\"from\":\"NonFungibleToken.SafeTransferFromInternal\",\"to\":\"NonFungibleToken.EnsureAddressIsNotEmpty\"},{\"from\":\"NonFungibleToken.SafeTransferFromInternal\",\"to\":\"NonFungibleToken.GetIdToOwner\"},{\"from\":\"STOContract.GetCurrentPeriod\",\"to\":\"STOContract.SalePeriods.get\"},{\"from\":\"NonFungibleToken.SetApprovalForAll\",\"to\":\"NonFungibleToken.SetOwnerToOperator\"},{\"from\":\"NonFungibleToken.SetApprovalForAll\",\"to\":\"NonFungibleToken.LogApprovalForAll\"},{\"from\":\"STOContract.SetPeriods\",\"to\":\"STOContract.SalePeriods.set\"},{\"from\":\"STOContract.SetPeriods\",\"to\":\"STOContract.EndBlock.set\"},{\"from\":\"STOContract.SetPeriods\",\"to\":\"STOContract.ConvertSalePeriodInputs\"},{\"from\":\"NonFungibleToken.Approve\",\"to\":\"NonFungibleToken.CanOperate\"},{\"from\":\"NonFungibleToken.Approve\",\"to\":\"NonFungibleToken.ValidNFToken\"},{\"from\":\"NonFungibleToken.Approve\",\"to\":\"NonFungibleToken.LogApproval\"},{\"from\":\"NonFungibleToken.Approve\",\"to\":\"NonFungibleToken.GetIdToOwner\"},{\"from\":\"NonFungibleToken.Approve\",\"to\":\"NonFungibleToken.SetIdToApproval\"},{\"from\":\"STOContract.EnsureKycVerified\",\"to\":\"STOContract.MapperAddress.get\"},{\"from\":\"STOContract.EnsureKycVerified\",\"to\":\"STOContract.KYCAddress.get\"},{\"from\":\"NonFungibleToken.GetTokenOfOwnerByIndex\",\"to\":\"NonFungibleToken.GetTokenOfOwnerByIndexKey\"},{\"from\":\"NonFungibleToken.GetTokenByIndex\",\"to\":\"NonFungibleToken.GetTokenByIndexKey\"},{\"from\":\"DividendToken.TransferTokensTo\",\"to\":\"DividendToken.SetBalance\"},{\"from\":\"DividendToken.TransferTokensTo\",\"to\":\"DividendToken.SetBalance\"},{\"from\":\"DividendToken.TransferTokensTo\",\"to\":\"DividendToken.GetBalance\"},{\"from\":\"DividendToken.TransferTokensTo\",\"to\":\"DividendToken.GetBalance\"},{\"from\":\"NonFungibleToken.EnsureOwnerOnly\",\"to\":\"NonFungibleToken.Owner.get\"},{\"from\":\"NonFungibleToken.CanTransfer\",\"to\":\"NonFungibleToken.GetOwnerToOperator\"},{\"from\":\"NonFungibleToken.CanTransfer\",\"to\":\"NonFungibleToken.GetIdToApproval\"},{\"from\":\"NonFungibleToken.CanTransfer\",\"to\":\"NonFungibleToken.GetIdToOwner\"}])\r\n",
       "                    };\r\n",
       "        let options = {\"autoResize\":false,\"manipulation\":false,\"width\":\"100%\",\"height\":\"600px\",\"layout\":{\"improvedLayout\":true,\"hierarchical\":{\"enabled\":true,\"sortMethod\":\"directed\",\"direction\":\"UD\",\"nodeSpacing\":300,\"levelSeparation\":300}},\"physics\":{\"hierarchicalRepulsion\":{\"nodeDistance\":300,\"avoidOverlap\":1.0}},\"edges\":{\"arrows\":{\"to\":{\"enabled\":true}},\"smooth\":{\"enabled\":true}},\"interaction\":{\"navigationButtons\":true}};\r\n",
       "        let network = new visjs.Network(container, data, options); \r\n",
       "        },\r\n",
       "        (error) => {\r\n",
       "            console.log(error);\r\n",
       "        });\r\n",
       "        }\r\n",
       "// ensure `require` is available globally\r\n",
       "if ((typeof(require) !==  typeof(Function)) || (typeof(require.config) !== typeof(Function))) {\r\n",
       "    let require_script = document.createElement('script');\r\n",
       "    require_script.setAttribute('src', 'https://cdnjs.cloudflare.com/ajax/libs/require.js/2.3.6/require.min.js');\r\n",
       "    require_script.setAttribute('type', 'text/javascript');\r\n",
       "    \r\n",
       "    \r\n",
       "    require_script.onload = function() {\r\n",
       "        loadVisjs_4504b2b36bdf4b23b95155decc1bcaa1();\r\n",
       "    };\r\n",
       "\r\n",
       "    document.getElementsByTagName('head')[0].appendChild(require_script);\r\n",
       "}\r\n",
       "else {\r\n",
       "    loadVisjs_4504b2b36bdf4b23b95155decc1bcaa1();\r\n",
       "}\r\n",
       "\r\n",
       "</script>\r\n",
       "<div id=\"4504b2b36bdf4b23b95155decc1bcaa1\" style=\"height:600px; width:100%\"></div>\r\n",
       "</div>\r\n"
      ]
     },
     "execution_count": 5,
     "metadata": {},
     "output_type": "execute_result"
    }
   ],
   "source": [
    "an.GetCallGraph()"
   ]
  },
  {
   "cell_type": "code",
   "execution_count": null,
   "id": "c8f70aa9",
   "metadata": {},
   "outputs": [],
   "source": [
    "an.GetControlFlowGraph()"
   ]
  },
  {
   "cell_type": "code",
   "execution_count": null,
   "id": "f0f24ebe",
   "metadata": {
    "scrolled": true
   },
   "outputs": [],
   "source": [
    "var an = IL.GetAnalyzer(@\"..\\examples\\DAOContract\\bin\\Debug\\netcoreapp2.1\\DAOContract.dll\");\n",
    "var g = an.GetCallGraph();\n",
    "g"
   ]
  }
 ],
 "metadata": {
  "kernelspec": {
   "display_name": ".NET (C#)",
   "language": "C#",
   "name": ".net-csharp"
  },
  "language_info": {
   "file_extension": ".cs",
   "mimetype": "text/x-csharp",
   "name": "C#",
   "pygments_lexer": "csharp",
   "version": "10.0"
  }
 },
 "nbformat": 4,
 "nbformat_minor": 5
}
