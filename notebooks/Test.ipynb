{
 "cells": [
  {
   "cell_type": "code",
   "execution_count": 1,
   "id": "1a995c17",
   "metadata": {
    "vscode": {
     "languageId": "csharp"
    }
   },
   "outputs": [
    {
     "data": {
      "text/html": [
       "\r\n",
       "<div>\r\n",
       "    <div id='dotnet-interactive-this-cell-28684.Microsoft.DotNet.Interactive.Http.HttpPort' style='display: none'>\r\n",
       "        The below script needs to be able to find the current output cell; this is an easy method to get it.\r\n",
       "    </div>\r\n",
       "    <script type='text/javascript'>\r\n",
       "async function probeAddresses(probingAddresses) {\r\n",
       "    function timeout(ms, promise) {\r\n",
       "        return new Promise(function (resolve, reject) {\r\n",
       "            setTimeout(function () {\r\n",
       "                reject(new Error('timeout'))\r\n",
       "            }, ms)\r\n",
       "            promise.then(resolve, reject)\r\n",
       "        })\r\n",
       "    }\r\n",
       "\r\n",
       "    if (Array.isArray(probingAddresses)) {\r\n",
       "        for (let i = 0; i < probingAddresses.length; i++) {\r\n",
       "\r\n",
       "            let rootUrl = probingAddresses[i];\r\n",
       "\r\n",
       "            if (!rootUrl.endsWith('/')) {\r\n",
       "                rootUrl = `${rootUrl}/`;\r\n",
       "            }\r\n",
       "\r\n",
       "            try {\r\n",
       "                let response = await timeout(1000, fetch(`${rootUrl}discovery`, {\r\n",
       "                    method: 'POST',\r\n",
       "                    cache: 'no-cache',\r\n",
       "                    mode: 'cors',\r\n",
       "                    timeout: 1000,\r\n",
       "                    headers: {\r\n",
       "                        'Content-Type': 'text/plain'\r\n",
       "                    },\r\n",
       "                    body: probingAddresses[i]\r\n",
       "                }));\r\n",
       "\r\n",
       "                if (response.status == 200) {\r\n",
       "                    return rootUrl;\r\n",
       "                }\r\n",
       "            }\r\n",
       "            catch (e) { }\r\n",
       "        }\r\n",
       "    }\r\n",
       "}\r\n",
       "\r\n",
       "function loadDotnetInteractiveApi() {\r\n",
       "    probeAddresses([\"http://192.168.56.1:1000/\", \"http://192.168.169.1:1000/\", \"http://192.168.128.1:1000/\", \"http://192.168.1.190:1000/\", \"http://127.0.0.1:1000/\"])\r\n",
       "        .then((root) => {\r\n",
       "        // use probing to find host url and api resources\r\n",
       "        // load interactive helpers and language services\r\n",
       "        let dotnetInteractiveRequire = require.config({\r\n",
       "        context: '28684.Microsoft.DotNet.Interactive.Http.HttpPort',\r\n",
       "                paths:\r\n",
       "            {\r\n",
       "                'dotnet-interactive': `${root}resources`\r\n",
       "                }\r\n",
       "        }) || require;\r\n",
       "\r\n",
       "            window.dotnetInteractiveRequire = dotnetInteractiveRequire;\r\n",
       "\r\n",
       "            window.configureRequireFromExtension = function(extensionName, extensionCacheBuster) {\r\n",
       "                let paths = {};\r\n",
       "                paths[extensionName] = `${root}extensions/${extensionName}/resources/`;\r\n",
       "                \r\n",
       "                let internalRequire = require.config({\r\n",
       "                    context: extensionCacheBuster,\r\n",
       "                    paths: paths,\r\n",
       "                    urlArgs: `cacheBuster=${extensionCacheBuster}`\r\n",
       "                    }) || require;\r\n",
       "\r\n",
       "                return internalRequire\r\n",
       "            };\r\n",
       "        \r\n",
       "            dotnetInteractiveRequire([\r\n",
       "                    'dotnet-interactive/dotnet-interactive'\r\n",
       "                ],\r\n",
       "                function (dotnet) {\r\n",
       "                    dotnet.init(window);\r\n",
       "                },\r\n",
       "                function (error) {\r\n",
       "                    console.log(error);\r\n",
       "                }\r\n",
       "            );\r\n",
       "        })\r\n",
       "        .catch(error => {console.log(error);});\r\n",
       "    }\r\n",
       "\r\n",
       "// ensure `require` is available globally\r\n",
       "if ((typeof(require) !==  typeof(Function)) || (typeof(require.config) !== typeof(Function))) {\r\n",
       "    let require_script = document.createElement('script');\r\n",
       "    require_script.setAttribute('src', 'https://cdnjs.cloudflare.com/ajax/libs/require.js/2.3.6/require.min.js');\r\n",
       "    require_script.setAttribute('type', 'text/javascript');\r\n",
       "    \r\n",
       "    \r\n",
       "    require_script.onload = function() {\r\n",
       "        loadDotnetInteractiveApi();\r\n",
       "    };\r\n",
       "\r\n",
       "    document.getElementsByTagName('head')[0].appendChild(require_script);\r\n",
       "}\r\n",
       "else {\r\n",
       "    loadDotnetInteractiveApi();\r\n",
       "}\r\n",
       "\r\n",
       "    </script>\r\n",
       "</div>"
      ]
     },
     "metadata": {},
     "output_type": "display_data"
    },
    {
     "data": {
      "text/html": [
       "<div><div></div><div></div><div><strong>Installed Packages</strong><ul><li><span>Octokit, 3.0.0</span></li></ul></div></div>"
      ]
     },
     "metadata": {},
     "output_type": "display_data"
    },
    {
     "data": {
      "text/markdown": [
       "Added formatter for AGL graphs using VisJS to .NET Interactive kernel csharp."
      ]
     },
     "metadata": {},
     "output_type": "display_data"
    },
    {
     "data": {
      "text/markdown": [
       "Added formatter for Mermaid language to .NET Interactive kernel csharp."
      ]
     },
     "metadata": {},
     "output_type": "display_data"
    },
    {
     "data": {
      "text/markdown": [
       "Added formatter for DOT language to .NET Interactive kernel csharp."
      ]
     },
     "metadata": {},
     "output_type": "display_data"
    },
    {
     "data": {
      "text/markdown": [
       "Added formatter for VisJS networks to .NET Interactive kernel csharp."
      ]
     },
     "metadata": {},
     "output_type": "display_data"
    },
    {
     "data": {
      "text/html": [
       "<link rel=\"stylesheet\" href=\"https://cdnjs.cloudflare.com/ajax/libs/jstree/3.2.1/themes/default/style.min.css\" />"
      ]
     },
     "metadata": {},
     "output_type": "display_data"
    },
    {
     "data": {
      "text/markdown": [
       "Added formatter for jsTree diagrams to .NET Interactive kernel csharp."
      ]
     },
     "metadata": {},
     "output_type": "display_data"
    },
    {
     "data": {
      "text/html": [
       "<script>\r\n",
       "    //if (!!document.getElementById('shikilib')) {\r\n",
       "        let require_script_3262816d6636447d99f7840657e8b46d = document.createElement('script');\r\n",
       "        require_script_3262816d6636447d99f7840657e8b46d.setAttribute('src', 'https://unpkg.com/@antfu/shiki@0.5.2/dist/index.unpkg.iife.js');\r\n",
       "        require_script_3262816d6636447d99f7840657e8b46d.setAttribute('type', 'text/javascript');\r\n",
       "        document.getElementsByTagName('head')[0].appendChild(require_script_3262816d6636447d99f7840657e8b46d);\r\n",
       "        let tag_3262816d6636447d99f7840657e8b46d = document.createElement('span');\r\n",
       "        tag_3262816d6636447d99f7840657e8b46d.setAttribute('id', 'shikilib');\r\n",
       "        document.getElementsByTagName('body')[0].appendChild(tag_3262816d6636447d99f7840657e8b46d);\r\n",
       "    //}\r\n",
       "    </script>\r\n",
       "    "
      ]
     },
     "metadata": {},
     "output_type": "display_data"
    },
    {
     "data": {
      "text/html": [
       "<script>\r\n",
       "    //if (!!document.getElementById('shikirendererlib')) {\r\n",
       "        let require_script_bc9dfa1ad1194c3ab3a07747b734e0a1 = document.createElement('script');\r\n",
       "        require_script_bc9dfa1ad1194c3ab3a07747b734e0a1.setAttribute('src', 'https://unpkg.com/@antfu/shiki-renderer-svg@0.5.2/dist/index.iife.min.js');\r\n",
       "        require_script_bc9dfa1ad1194c3ab3a07747b734e0a1.setAttribute('type', 'text/javascript');\r\n",
       "        document.getElementsByTagName('head')[0].appendChild(require_script_bc9dfa1ad1194c3ab3a07747b734e0a1);\r\n",
       "        let tag_bc9dfa1ad1194c3ab3a07747b734e0a1 = document.createElement('span');\r\n",
       "        tag_bc9dfa1ad1194c3ab3a07747b734e0a1.setAttribute('id', 'shikirendererlib');\r\n",
       "        document.getElementsByTagName('body')[0].appendChild(tag_bc9dfa1ad1194c3ab3a07747b734e0a1);\r\n",
       "    //}\r\n",
       "    </script>\r\n",
       "    "
      ]
     },
     "metadata": {},
     "output_type": "display_data"
    },
    {
     "data": {
      "text/html": [
       "<script>\r\n",
       "    //if (!!document.getElementById('shikilanguageslib')) {\r\n",
       "        let require_script_9b7846eb41e24aae8efb601e757749e3 = document.createElement('script');\r\n",
       "        require_script_9b7846eb41e24aae8efb601e757749e3.setAttribute('src', 'https://dokans3fs-test-1.us-east-1.linodeobjects.com/shikiLanguages.js');\r\n",
       "        require_script_9b7846eb41e24aae8efb601e757749e3.setAttribute('type', 'text/javascript');\r\n",
       "        document.getElementsByTagName('head')[0].appendChild(require_script_9b7846eb41e24aae8efb601e757749e3);\r\n",
       "        let tag_9b7846eb41e24aae8efb601e757749e3 = document.createElement('span');\r\n",
       "        tag_9b7846eb41e24aae8efb601e757749e3.setAttribute('id', 'shikilanguageslib');\r\n",
       "        document.getElementsByTagName('body')[0].appendChild(tag_9b7846eb41e24aae8efb601e757749e3);\r\n",
       "    //}\r\n",
       "    </script>\r\n",
       "    "
      ]
     },
     "metadata": {},
     "output_type": "display_data"
    },
    {
     "data": {
      "text/html": [
       "<script>\r\n",
       "    //if (!!document.getElementById('prismjslib')) {\r\n",
       "        let require_script_96581cdd19354ecd8a5eeab53a171d4b = document.createElement('script');\r\n",
       "        require_script_96581cdd19354ecd8a5eeab53a171d4b.setAttribute('src', 'https://unpkg.com/prismjs@1.29.0/prism.js');\r\n",
       "        require_script_96581cdd19354ecd8a5eeab53a171d4b.setAttribute('type', 'text/javascript');\r\n",
       "        document.getElementsByTagName('head')[0].appendChild(require_script_96581cdd19354ecd8a5eeab53a171d4b);\r\n",
       "        let tag_96581cdd19354ecd8a5eeab53a171d4b = document.createElement('span');\r\n",
       "        tag_96581cdd19354ecd8a5eeab53a171d4b.setAttribute('id', 'prismjslib');\r\n",
       "        document.getElementsByTagName('body')[0].appendChild(tag_96581cdd19354ecd8a5eeab53a171d4b);\r\n",
       "    //}\r\n",
       "    </script>\r\n",
       "    "
      ]
     },
     "metadata": {},
     "output_type": "display_data"
    },
    {
     "data": {
      "text/html": [
       "<script>\r\n",
       "    //if (!!document.getElementById('prismjsautoloaderlib')) {\r\n",
       "        let require_script_58c43e90622d4c38b3b0a78cb9f70d08 = document.createElement('script');\r\n",
       "        require_script_58c43e90622d4c38b3b0a78cb9f70d08.setAttribute('src', 'https://unpkg.com/prismjs@1.29.0/plugins/autoloader/prism-autoloader.min.js');\r\n",
       "        require_script_58c43e90622d4c38b3b0a78cb9f70d08.setAttribute('type', 'text/javascript');\r\n",
       "        document.getElementsByTagName('head')[0].appendChild(require_script_58c43e90622d4c38b3b0a78cb9f70d08);\r\n",
       "        let tag_58c43e90622d4c38b3b0a78cb9f70d08 = document.createElement('span');\r\n",
       "        tag_58c43e90622d4c38b3b0a78cb9f70d08.setAttribute('id', 'prismjsautoloaderlib');\r\n",
       "        document.getElementsByTagName('body')[0].appendChild(tag_58c43e90622d4c38b3b0a78cb9f70d08);\r\n",
       "    //}\r\n",
       "    </script>\r\n",
       "    "
      ]
     },
     "metadata": {},
     "output_type": "display_data"
    },
    {
     "data": {
      "text/html": [
       "<link href=\"https://unpkg.com/prismjs@1.29.0/themes/prism.min.css\" rel=\"stylesheet\" />"
      ]
     },
     "metadata": {},
     "output_type": "display_data"
    },
    {
     "data": {
      "text/markdown": [
       "Added formatter for highlighted code using Shiki and PrismJS to .NET Interactive kernel csharp."
      ]
     },
     "metadata": {},
     "output_type": "display_data"
    }
   ],
   "source": [
    "#load \"DotNetInteractive.csx\"\n",
    "#r \"nuget: Octokit\""
   ]
  },
  {
   "cell_type": "code",
   "execution_count": 2,
   "id": "7725ee91",
   "metadata": {
    "vscode": {
     "languageId": "csharp"
    }
   },
   "outputs": [],
   "source": [
    "using Silver;\n",
    "using Silver.Notebooks;"
   ]
  },
  {
   "cell_type": "code",
   "execution_count": 3,
   "id": "c693148d",
   "metadata": {
    "vscode": {
     "languageId": "csharp"
    }
   },
   "outputs": [
    {
     "name": "stdout",
     "output_type": "stream",
     "text": [
      "[INFO] Get smart contract assembly from Stratis pull request https://github.com/stratisproject/CirrusSmartContracts/pull/31...\n",
      "[WARN] File Stratis.PR547793172.dll exists, overwriting...\n",
      "[INFO] Assembly for Stratis pull request https://api.github.com/repos/stratisproject/CirrusSmartContracts/issues/31 is at Stratis.PR547793172.dll.\n",
      "[INFO] Get smart contract assembly from Stratis pull request https://github.com/stratisproject/CirrusSmartContracts/pull/31 completed in 1232ms.\n",
      "[INFO] Target assembly is Stratis.PR547793172.dll.\n"
     ]
    }
   ],
   "source": [
    "var an = IL.GetAnalyzer(@\"https://github.com/stratisproject/CirrusSmartContracts/pull/31\");"
   ]
  },
  {
   "cell_type": "code",
   "execution_count": 4,
   "id": "4be357d6",
   "metadata": {
    "vscode": {
     "languageId": "csharp"
    }
   },
   "outputs": [
    {
     "name": "stdout",
     "output_type": "stream",
     "text": [
      "[INFO] Analyzing class hierachy...\n",
      "[INFO] Analyzing class hierachy completed in 5ms.\n"
     ]
    },
    {
     "data": {
      "text/html": [
       "<div style=\"background-color:white\">\r\n",
       "<script type=\"text/javascript\">\r\n",
       "loadMermaid_25e56cc572724e1a97613b88b29b19fd = () => {\r\n",
       " \r\n",
       "    (require.config({ 'paths': { 'context': '9.1.1', 'mermaidUri' : 'https://cdn.jsdelivr.net/npm/mermaid@9.1.1/dist/mermaid.min', 'urlArgs': 'cacheBuster=30ca2fcb603541adb43d6d30d6e76bb3' }}) || require)(['mermaidUri'], (mermaid) => {\r\n",
       "\r\n",
       "        let renderTarget = document.getElementById('25e56cc572724e1a97613b88b29b19fd');\r\n",
       "        mermaid.mermaidAPI.render( \r\n",
       "            'mermaid_25e56cc572724e1a97613b88b29b19fd', \r\n",
       "            `classDiagram\r\n",
       "class STOContract\r\n",
       "<<contract>> STOContract\r\n",
       "STOContract : +.ctor(smartContractState,owner,tokenType,totalSupply,name,symbol,kycAddress,mapperAddress,salePeriods)\r\n",
       "STOContract : +get_EndBlock()\r\n",
       "STOContract : +get_IsNonFungibleToken()\r\n",
       "STOContract : +get_KYCAddress()\r\n",
       "STOContract : +get_MapperAddress()\r\n",
       "STOContract : +get_Owner()\r\n",
       "STOContract : +get_SaleOpen()\r\n",
       "STOContract : +get_SalePeriods()\r\n",
       "STOContract : +get_TokenAddress()\r\n",
       "STOContract : +get_TokenBalance()\r\n",
       "STOContract : +Invest()\r\n",
       "STOContract : +Receive()\r\n",
       "STOContract : +WithdrawFunds()\r\n",
       "STOContract : +WithdrawTokens()\r\n",
       "STOContract : -ConvertSalePeriodInputs(periods)\r\n",
       "STOContract : -CreateTokenContract(tokenType,totalSupply,name,symbol)\r\n",
       "STOContract : -EnsureKycVerified()\r\n",
       "STOContract : -GetCurrentPeriod()\r\n",
       "STOContract : -GetSaleInfo()\r\n",
       "STOContract : -set_EndBlock(value)\r\n",
       "STOContract : -set_IsNonFungibleToken(value)\r\n",
       "STOContract : -set_KYCAddress(value)\r\n",
       "STOContract : -set_MapperAddress(value)\r\n",
       "STOContract : -set_Owner(value)\r\n",
       "STOContract : -set_SalePeriods(value)\r\n",
       "STOContract : -set_TokenAddress(value)\r\n",
       "STOContract : -set_TokenBalance(value)\r\n",
       "STOContract : -SetPeriods(periods)\r\n",
       "STOContract : -ValidatePeriods(periods)\r\n",
       "class StandardToken\r\n",
       "StandardToken : +.ctor(smartContractState,totalSupply,name,symbol)\r\n",
       "StandardToken : +Allowance(owner,spender)\r\n",
       "StandardToken : +Approve(spender,currentAmount,amount)\r\n",
       "StandardToken : +get_Name()\r\n",
       "StandardToken : +get_Symbol()\r\n",
       "StandardToken : +get_TotalSupply()\r\n",
       "StandardToken : +GetBalance(address)\r\n",
       "StandardToken : +TransferFrom(from,to,amount)\r\n",
       "StandardToken : +TransferTo(to,amount)\r\n",
       "StandardToken : -set_Name(value)\r\n",
       "StandardToken : -set_Symbol(value)\r\n",
       "StandardToken : -set_TotalSupply(value)\r\n",
       "StandardToken : -SetApproval(owner,spender,value)\r\n",
       "StandardToken : -SetBalance(address,value)\r\n",
       "class DividendToken\r\n",
       "DividendToken : +.ctor(state,totalSupply,name,symbol)\r\n",
       "DividendToken : +Allowance(owner,spender)\r\n",
       "DividendToken : +Approve(spender,currentAmount,amount)\r\n",
       "DividendToken : +get_Dividends()\r\n",
       "DividendToken : +get_Name()\r\n",
       "DividendToken : +get_Symbol()\r\n",
       "DividendToken : +get_TotalSupply()\r\n",
       "DividendToken : +GetBalance(address)\r\n",
       "DividendToken : +GetDividends()\r\n",
       "DividendToken : +GetDividends(address)\r\n",
       "DividendToken : +GetTotalDividends()\r\n",
       "DividendToken : +GetTotalDividends(address)\r\n",
       "DividendToken : +Receive()\r\n",
       "DividendToken : +TransferFrom(from,to,amount)\r\n",
       "DividendToken : +TransferTo(to,amount)\r\n",
       "DividendToken : +Withdraw()\r\n",
       "DividendToken : -GetAccount(address)\r\n",
       "DividendToken : -GetWithdrawableDividends(address,account)\r\n",
       "DividendToken : -set_Dividends(value)\r\n",
       "DividendToken : -set_Name(value)\r\n",
       "DividendToken : -set_Symbol(value)\r\n",
       "DividendToken : -set_TotalSupply(value)\r\n",
       "DividendToken : -SetAccount(address,account)\r\n",
       "DividendToken : -SetApproval(owner,spender,value)\r\n",
       "DividendToken : -SetBalance(address,value)\r\n",
       "DividendToken : -TransferTokensFrom(from,to,amount)\r\n",
       "DividendToken : -TransferTokensTo(to,amount)\r\n",
       "DividendToken : -UpdateAccount(address)\r\n",
       "class NonFungibleToken\r\n",
       "NonFungibleToken : +.ctor(state,name,symbol)\r\n",
       "NonFungibleToken : +Approve(approved,tokenId)\r\n",
       "NonFungibleToken : +BalanceOf(owner)\r\n",
       "NonFungibleToken : +Burn(tokenId)\r\n",
       "NonFungibleToken : +EnsureAddressIsNotEmpty(address)\r\n",
       "NonFungibleToken : +get_Name()\r\n",
       "NonFungibleToken : +get_Owner()\r\n",
       "NonFungibleToken : +get_Symbol()\r\n",
       "NonFungibleToken : +get_TotalSupply()\r\n",
       "NonFungibleToken : +GetApproved(tokenId)\r\n",
       "NonFungibleToken : +IsApprovedForAll(owner,operatorAddress)\r\n",
       "NonFungibleToken : +MintAll(address,amount)\r\n",
       "NonFungibleToken : +OwnerOf(tokenId)\r\n",
       "NonFungibleToken : +SafeTransferFrom(from,to,tokenId,data)\r\n",
       "NonFungibleToken : +SafeTransferFrom(from,to,tokenId)\r\n",
       "NonFungibleToken : +SetApprovalForAll(operatorAddress,approved)\r\n",
       "NonFungibleToken : +SupportsInterface(interfaceID)\r\n",
       "NonFungibleToken : +TokenByIndex(index)\r\n",
       "NonFungibleToken : +TokenOfOwnerByIndex(owner,index)\r\n",
       "NonFungibleToken : +TransferFrom(from,to,tokenId)\r\n",
       "NonFungibleToken : +TransferOwnership(owner)\r\n",
       "NonFungibleToken : -AddNFToken(to,tokenId)\r\n",
       "NonFungibleToken : -CanOperate(tokenId)\r\n",
       "NonFungibleToken : -CanTransfer(tokenId)\r\n",
       "NonFungibleToken : -ClearApproval(tokenId)\r\n",
       "NonFungibleToken : -ClearIndexByToken(token)\r\n",
       "NonFungibleToken : -ClearIndexOfOwnerByToken(owner,tokenId)\r\n",
       "NonFungibleToken : -ClearTokenByIndex(index)\r\n",
       "NonFungibleToken : -ClearTokenOfOwnerByIndex(owner,index)\r\n",
       "NonFungibleToken : -EnsureOwnerOnly()\r\n",
       "NonFungibleToken : -get_NextTokenId()\r\n",
       "NonFungibleToken : -GetIdToApproval(id)\r\n",
       "NonFungibleToken : -GetIdToApprovalKey(id)\r\n",
       "NonFungibleToken : -GetIdToOwner(id)\r\n",
       "NonFungibleToken : -GetIdToOwnerKey(id)\r\n",
       "NonFungibleToken : -GetIndexByToken(token)\r\n",
       "NonFungibleToken : -GetIndexByTokenKey(token)\r\n",
       "NonFungibleToken : -GetIndexOfOwnerByToken(owner,tokenId)\r\n",
       "NonFungibleToken : -GetOwnerToNFTokenCount(address)\r\n",
       "NonFungibleToken : -GetOwnerToOperator(owner,operatorAddress)\r\n",
       "NonFungibleToken : -GetSupportedInterfaces(interfaceId)\r\n",
       "NonFungibleToken : -GetTokenByIndex(index)\r\n",
       "NonFungibleToken : -GetTokenByIndexKey(index)\r\n",
       "NonFungibleToken : -GetTokenOfOwnerByIndex(address,index)\r\n",
       "NonFungibleToken : -GetTokenOfOwnerByIndexKey(address,index)\r\n",
       "NonFungibleToken : -IndexOfOwnerByTokenKey(owner,tokenId)\r\n",
       "NonFungibleToken : -LogApproval(owner,approved,tokenId)\r\n",
       "NonFungibleToken : -LogApprovalForAll(owner,operatorAddress,approved)\r\n",
       "NonFungibleToken : -LogTransfer(from,to,tokenId)\r\n",
       "NonFungibleToken : -RemoveNFToken(from,tokenId)\r\n",
       "NonFungibleToken : -SafeTransferFromInternal(from,to,tokenId,data)\r\n",
       "NonFungibleToken : -set_Name(value)\r\n",
       "NonFungibleToken : -set_NextTokenId(value)\r\n",
       "NonFungibleToken : -set_Owner(value)\r\n",
       "NonFungibleToken : -set_Symbol(value)\r\n",
       "NonFungibleToken : -set_TotalSupply(value)\r\n",
       "NonFungibleToken : -SetIdToApproval(id,value)\r\n",
       "NonFungibleToken : -SetIdToOwner(id,value)\r\n",
       "NonFungibleToken : -SetIndexByToken(token,index)\r\n",
       "NonFungibleToken : -SetIndexOfOwnerByToken(owner,tokenId,index)\r\n",
       "NonFungibleToken : -SetOwnerToNFTokenCount(address,value)\r\n",
       "NonFungibleToken : -SetOwnerToOperator(owner,operatorAddress,value)\r\n",
       "NonFungibleToken : -SetSupportedInterfaces(interfaceId,value)\r\n",
       "NonFungibleToken : -SetTokenByIndex(index,token)\r\n",
       "NonFungibleToken : -SetTokenOfOwnerByIndex(owner,index,tokenId)\r\n",
       "NonFungibleToken : -TransferInternal(to,tokenId)\r\n",
       "NonFungibleToken : -ValidNFToken(tokenId)\r\n",
       "`, \r\n",
       "            g => {\r\n",
       "                renderTarget.innerHTML = g \r\n",
       "            });\r\n",
       "    },\r\n",
       "    (error) => {\r\n",
       "        console.log(error);\r\n",
       "    });\r\n",
       "}\r\n",
       "// ensure `require` is available globally\r\n",
       "if ((typeof(require) !==  typeof(Function)) || (typeof(require.config) !== typeof(Function))) {\r\n",
       "    let require_script = document.createElement('script');\r\n",
       "    require_script.setAttribute('src', 'https://cdnjs.cloudflare.com/ajax/libs/require.js/2.3.6/require.min.js');\r\n",
       "    require_script.setAttribute('type', 'text/javascript');\r\n",
       "    \r\n",
       "    \r\n",
       "    require_script.onload = function() {\r\n",
       "        loadMermaid_25e56cc572724e1a97613b88b29b19fd();\r\n",
       "    };\r\n",
       "\r\n",
       "    document.getElementsByTagName('head')[0].appendChild(require_script);\r\n",
       "}\r\n",
       "else {\r\n",
       "    loadMermaid_25e56cc572724e1a97613b88b29b19fd();\r\n",
       "}\r\n",
       "\r\n",
       "</script>\r\n",
       "<div id=\"25e56cc572724e1a97613b88b29b19fd\"></div>\r\n",
       "</div>\r\n"
      ]
     },
     "execution_count": 4,
     "metadata": {},
     "output_type": "execute_result"
    }
   ],
   "source": [
    "an.GetSummary()"
   ]
  },
  {
   "cell_type": "code",
   "execution_count": 5,
   "id": "81f1488a",
   "metadata": {},
   "outputs": [
    {
     "name": "stdout",
     "output_type": "stream",
     "text": [
      "[INFO] Target assembly is ..\\examples\\DAOContract\\bin\\Debug\\netcoreapp2.1\\DAOContract.dll.\r\n"
     ]
    }
   ],
   "source": [
    "an = IL.GetAnalyzer(@\"..\\examples\\DAOContract\\bin\\Debug\\netcoreapp2.1\\DAOContract.dll\");\n"
   ]
  },
  {
   "cell_type": "code",
   "execution_count": 6,
   "id": "c8f70aa9",
   "metadata": {
    "scrolled": false,
    "vscode": {
     "languageId": "csharp"
    }
   },
   "outputs": [
    {
     "name": "stdout",
     "output_type": "stream",
     "text": [
      "[INFO] Creating call graph for methods in assembly DAOContract.dll...\n",
      "[WARN] The method () was not analyzed.\n",
      "[WARN] The method <Stratis.SmartContracts.Address>() was not analyzed.\n",
      "[WARN] The method <DAOContract.Proposal>() was not analyzed.\n",
      "[WARN] The method <Stratis.SmartContracts.Address>() was not analyzed.\n",
      "[WARN] The method <DAOContract.Proposal>() was not analyzed.\n",
      "[INFO] Creating call graph for methods in assembly DAOContract.dll completed in 45ms.\n"
     ]
    },
    {
     "data": {
      "text/html": [
       "<div>\r\n",
       "<script type=\"text/javascript\">\r\n",
       "loadVisjs_342ebefe1ffd4a1e82b44d7587312329 = () => {\r\n",
       "(require.config({ 'paths': { 'context': '0.0.0', 'visjs' : 'https://visjs.github.io/vis-network/standalone/umd/vis-network.min', 'urlArgs': 'cacheBuster=0b95c17a60c8422db0c1264867570fee' }}) || require)(['visjs'], (visjs) => {\r\n",
       "\r\n",
       "        let container = document.getElementById('342ebefe1ffd4a1e82b44d7587312329');\r\n",
       "        let data = {\r\n",
       "                        nodes: new visjs.DataSet([{\"id\":\"DAOContract.LastProposalId.get\",\"label\":\"DAOContract.LastProposalId.get\",\"color\":{\"background\":\"#ffffff00\"},\"font\":{\"face\":\"monospace\",\"align\":\"left\"}},{\"id\":\"DAOContract.MaxVotingDuration.set\",\"label\":\"DAOContract.MaxVotingDuration.set\",\"color\":{\"background\":\"#ffffff00\"},\"font\":{\"face\":\"monospace\",\"align\":\"left\"}},{\"id\":\"DAOContract.UpdateMaxVotingDuration\",\"label\":\"DAOContract.UpdateMaxVotingDuration\",\"color\":{\"background\":\"#ffff00\"},\"font\":{\"face\":\"monospace\",\"align\":\"left\"}},{\"id\":\"DAOContract.Owner.get\",\"label\":\"DAOContract.Owner.get\",\"color\":{\"background\":\"#ffffff00\"},\"font\":{\"face\":\"monospace\",\"align\":\"left\"}},{\"id\":\"DAOContract.WhitelistAddresses\",\"label\":\"DAOContract.WhitelistAddresses\",\"color\":{\"background\":\"#ffff00\"},\"font\":{\"face\":\"monospace\",\"align\":\"left\"}},{\"id\":\"DAOContract.VoteProposal\",\"label\":\"DAOContract.VoteProposal\",\"color\":{\"background\":\"#ffffff\"},\"font\":{\"face\":\"monospace\",\"align\":\"left\"}},{\"id\":\"DAOContract.Receive\",\"label\":\"DAOContract.Receive\",\"color\":{\"background\":\"#ffff00\"},\"font\":{\"face\":\"monospace\",\"align\":\"left\"}},{\"id\":\"DAOContract.MaxVotingDuration.get\",\"label\":\"DAOContract.MaxVotingDuration.get\",\"color\":{\"background\":\"#ffffff00\"},\"font\":{\"face\":\"monospace\",\"align\":\"left\"}},{\"id\":\"DAOContract.GetProposal\",\"label\":\"DAOContract.GetProposal\",\"color\":{\"background\":\"#ffffff00\"},\"font\":{\"face\":\"monospace\",\"align\":\"left\"}},{\"id\":\"DAOContract.EnsureNotPayable\",\"label\":\"DAOContract.EnsureNotPayable\",\"color\":{\"background\":\"#ffffff00\"},\"font\":{\"face\":\"monospace\",\"align\":\"left\"}},{\"id\":\"DAOContract.TransferOwnership\",\"label\":\"DAOContract.TransferOwnership\",\"color\":{\"background\":\"#ffffff00\"},\"font\":{\"face\":\"monospace\",\"align\":\"left\"}},{\"id\":\"DAOContract..ctor\",\"label\":\"DAOContract..ctor\",\"color\":{\"background\":\"#ffff00\"},\"font\":{\"face\":\"monospace\",\"align\":\"left\"}},{\"id\":\"DAOContract.MinVotingDuration.set\",\"label\":\"DAOContract.MinVotingDuration.set\",\"color\":{\"background\":\"#ffffff00\"},\"font\":{\"face\":\"monospace\",\"align\":\"left\"}},{\"id\":\"DAOContract.SetVotingDeadline\",\"label\":\"DAOContract.SetVotingDeadline\",\"color\":{\"background\":\"#ffffff00\"},\"font\":{\"face\":\"monospace\",\"align\":\"left\"}},{\"id\":\"DAOContract.Unvote\",\"label\":\"DAOContract.Unvote\",\"color\":{\"background\":\"#ffffff\"},\"font\":{\"face\":\"monospace\",\"align\":\"left\"}},{\"id\":\"DAOContract.GetVote\",\"label\":\"DAOContract.GetVote\",\"color\":{\"background\":\"#ffffff00\"},\"font\":{\"face\":\"monospace\",\"align\":\"left\"}},{\"id\":\"DAOContract.BlacklistAddresses\",\"label\":\"DAOContract.BlacklistAddresses\",\"color\":{\"background\":\"#ffff00\"},\"font\":{\"face\":\"monospace\",\"align\":\"left\"}},{\"id\":\"DAOContract.IsWhitelisted\",\"label\":\"DAOContract.IsWhitelisted\",\"color\":{\"background\":\"#ffffff00\"},\"font\":{\"face\":\"monospace\",\"align\":\"left\"}},{\"id\":\"DAOContract.SetIsWhitelisted\",\"label\":\"DAOContract.SetIsWhitelisted\",\"color\":{\"background\":\"#ffffff00\"},\"font\":{\"face\":\"monospace\",\"align\":\"left\"}},{\"id\":\"DAOContract.WhitelistAddress\",\"label\":\"DAOContract.WhitelistAddress\",\"color\":{\"background\":\"#ffff00\"},\"font\":{\"face\":\"monospace\",\"align\":\"left\"}},{\"id\":\"DAOContract.Deposit\",\"label\":\"DAOContract.Deposit\",\"color\":{\"background\":\"#ffffff00\"},\"font\":{\"face\":\"monospace\",\"align\":\"left\"}},{\"id\":\"DAOContract.SetNoVotes\",\"label\":\"DAOContract.SetNoVotes\",\"color\":{\"background\":\"#ffffff00\"},\"font\":{\"face\":\"monospace\",\"align\":\"left\"}},{\"id\":\"DAOContract.MinVotingDuration.get\",\"label\":\"DAOContract.MinVotingDuration.get\",\"color\":{\"background\":\"#ffffff00\"},\"font\":{\"face\":\"monospace\",\"align\":\"left\"}},{\"id\":\"DAOContract.SetYesVotes\",\"label\":\"DAOContract.SetYesVotes\",\"color\":{\"background\":\"#ffffff00\"},\"font\":{\"face\":\"monospace\",\"align\":\"left\"}},{\"id\":\"DAOContract.SetProposal\",\"label\":\"DAOContract.SetProposal\",\"color\":{\"background\":\"#ffffff00\"},\"font\":{\"face\":\"monospace\",\"align\":\"left\"}},{\"id\":\"DAOContract.UpdateMinVotingDuration\",\"label\":\"DAOContract.UpdateMinVotingDuration\",\"color\":{\"background\":\"#ffff00\"},\"font\":{\"face\":\"monospace\",\"align\":\"left\"}},{\"id\":\"DAOContract.CreateProposal\",\"label\":\"DAOContract.CreateProposal\",\"color\":{\"background\":\"#ffff00\"},\"font\":{\"face\":\"monospace\",\"align\":\"left\"}},{\"id\":\"DAOContract.ExecuteProposal\",\"label\":\"DAOContract.ExecuteProposal\",\"color\":{\"background\":\"#ffffff00\"},\"font\":{\"face\":\"monospace\",\"align\":\"left\"}},{\"id\":\"DAOContract.GetYesVotes\",\"label\":\"DAOContract.GetYesVotes\",\"color\":{\"background\":\"#ffffff00\"},\"font\":{\"face\":\"monospace\",\"align\":\"left\"}},{\"id\":\"DAOContract.BlacklistAddress\",\"label\":\"DAOContract.BlacklistAddress\",\"color\":{\"background\":\"#ffff00\"},\"font\":{\"face\":\"monospace\",\"align\":\"left\"}},{\"id\":\"DAOContract.WhitelistedCount.get\",\"label\":\"DAOContract.WhitelistedCount.get\",\"color\":{\"background\":\"#ffffff00\"},\"font\":{\"face\":\"monospace\",\"align\":\"left\"}},{\"id\":\"DAOContract.MinQuorum.get\",\"label\":\"DAOContract.MinQuorum.get\",\"color\":{\"background\":\"#ffffff00\"},\"font\":{\"face\":\"monospace\",\"align\":\"left\"}},{\"id\":\"DAOContract.Vote\",\"label\":\"DAOContract.Vote\",\"color\":{\"background\":\"#ffff00\"},\"font\":{\"face\":\"monospace\",\"align\":\"left\"}},{\"id\":\"DAOContract.GetVotingDeadline\",\"label\":\"DAOContract.GetVotingDeadline\",\"color\":{\"background\":\"#ffffff00\"},\"font\":{\"face\":\"monospace\",\"align\":\"left\"}},{\"id\":\"DAOContract.GetNoVotes\",\"label\":\"DAOContract.GetNoVotes\",\"color\":{\"background\":\"#ffffff00\"},\"font\":{\"face\":\"monospace\",\"align\":\"left\"}},{\"id\":\"DAOContract.LastProposalId.set\",\"label\":\"DAOContract.LastProposalId.set\",\"color\":{\"background\":\"#ffffff00\"},\"font\":{\"face\":\"monospace\",\"align\":\"left\"}},{\"id\":\"DAOContract.WhitelistedCount.set\",\"label\":\"DAOContract.WhitelistedCount.set\",\"color\":{\"background\":\"#ffffff00\"},\"font\":{\"face\":\"monospace\",\"align\":\"left\"}},{\"id\":\"DAOContract.Owner.set\",\"label\":\"DAOContract.Owner.set\",\"color\":{\"background\":\"#ffffff00\"},\"font\":{\"face\":\"monospace\",\"align\":\"left\"}},{\"id\":\"DAOContract.EnsureOwnerOnly\",\"label\":\"DAOContract.EnsureOwnerOnly\",\"color\":{\"background\":\"#ffffff00\"},\"font\":{\"face\":\"monospace\",\"align\":\"left\"}},{\"id\":\"DAOContract.ToVote\",\"label\":\"DAOContract.ToVote\",\"color\":{\"background\":\"#ffffff00\"},\"font\":{\"face\":\"monospace\",\"align\":\"left\"}},{\"id\":\"DAOContract.SetVote\",\"label\":\"DAOContract.SetVote\",\"color\":{\"background\":\"#ffffff00\"},\"font\":{\"face\":\"monospace\",\"align\":\"left\"}}]), \r\n",
       "                        edges: new visjs.DataSet([{\"from\":\"DAOContract.UpdateMaxVotingDuration\",\"to\":\"DAOContract.MaxVotingDuration.set\"},{\"from\":\"DAOContract.UpdateMaxVotingDuration\",\"to\":\"DAOContract.MinVotingDuration.get\"},{\"from\":\"DAOContract.UpdateMaxVotingDuration\",\"to\":\"DAOContract.EnsureOwnerOnly\"},{\"from\":\"DAOContract.WhitelistAddresses\",\"to\":\"DAOContract.WhitelistedCount.get\"},{\"from\":\"DAOContract.WhitelistAddresses\",\"to\":\"DAOContract.EnsureOwnerOnly\"},{\"from\":\"DAOContract.WhitelistAddresses\",\"to\":\"DAOContract.SetIsWhitelisted\"},{\"from\":\"DAOContract.WhitelistAddresses\",\"to\":\"DAOContract.WhitelistedCount.set\"},{\"from\":\"DAOContract.WhitelistAddresses\",\"to\":\"DAOContract.IsWhitelisted\"},{\"from\":\"DAOContract.VoteProposal\",\"to\":\"DAOContract.SetVote\"},{\"from\":\"DAOContract.VoteProposal\",\"to\":\"DAOContract.GetNoVotes\"},{\"from\":\"DAOContract.VoteProposal\",\"to\":\"DAOContract.GetYesVotes\"},{\"from\":\"DAOContract.VoteProposal\",\"to\":\"DAOContract.SetNoVotes\"},{\"from\":\"DAOContract.VoteProposal\",\"to\":\"DAOContract.SetYesVotes\"},{\"from\":\"DAOContract.VoteProposal\",\"to\":\"DAOContract.Unvote\"},{\"from\":\"DAOContract.VoteProposal\",\"to\":\"DAOContract.GetVote\"},{\"from\":\"DAOContract.Receive\",\"to\":\"DAOContract.Deposit\"},{\"from\":\"DAOContract.TransferOwnership\",\"to\":\"DAOContract.Owner.set\"},{\"from\":\"DAOContract.TransferOwnership\",\"to\":\"DAOContract.EnsureOwnerOnly\"},{\"from\":\"DAOContract..ctor\",\"to\":\"DAOContract.MaxVotingDuration.set\"},{\"from\":\"DAOContract..ctor\",\"to\":\"DAOContract.Owner.set\"},{\"from\":\"DAOContract..ctor\",\"to\":\"DAOContract.MinVotingDuration.set\"},{\"from\":\"DAOContract..ctor\",\"to\":\"DAOContract.LastProposalId.set\"},{\"from\":\"DAOContract.Unvote\",\"to\":\"DAOContract.GetNoVotes\"},{\"from\":\"DAOContract.Unvote\",\"to\":\"DAOContract.GetYesVotes\"},{\"from\":\"DAOContract.Unvote\",\"to\":\"DAOContract.SetNoVotes\"},{\"from\":\"DAOContract.Unvote\",\"to\":\"DAOContract.SetYesVotes\"},{\"from\":\"DAOContract.BlacklistAddresses\",\"to\":\"DAOContract.WhitelistedCount.get\"},{\"from\":\"DAOContract.BlacklistAddresses\",\"to\":\"DAOContract.EnsureOwnerOnly\"},{\"from\":\"DAOContract.BlacklistAddresses\",\"to\":\"DAOContract.SetIsWhitelisted\"},{\"from\":\"DAOContract.BlacklistAddresses\",\"to\":\"DAOContract.WhitelistedCount.set\"},{\"from\":\"DAOContract.BlacklistAddresses\",\"to\":\"DAOContract.IsWhitelisted\"},{\"from\":\"DAOContract.WhitelistAddress\",\"to\":\"DAOContract.WhitelistedCount.get\"},{\"from\":\"DAOContract.WhitelistAddress\",\"to\":\"DAOContract.EnsureOwnerOnly\"},{\"from\":\"DAOContract.WhitelistAddress\",\"to\":\"DAOContract.SetIsWhitelisted\"},{\"from\":\"DAOContract.WhitelistAddress\",\"to\":\"DAOContract.WhitelistedCount.set\"},{\"from\":\"DAOContract.WhitelistAddress\",\"to\":\"DAOContract.IsWhitelisted\"},{\"from\":\"DAOContract.Deposit\",\"to\":\"DAOContract.EnsureOwnerOnly\"},{\"from\":\"DAOContract.UpdateMinVotingDuration\",\"to\":\"DAOContract.MaxVotingDuration.get\"},{\"from\":\"DAOContract.UpdateMinVotingDuration\",\"to\":\"DAOContract.EnsureOwnerOnly\"},{\"from\":\"DAOContract.UpdateMinVotingDuration\",\"to\":\"DAOContract.MinVotingDuration.set\"},{\"from\":\"DAOContract.CreateProposal\",\"to\":\"DAOContract.MaxVotingDuration.get\"},{\"from\":\"DAOContract.CreateProposal\",\"to\":\"DAOContract.MaxVotingDuration.get\"},{\"from\":\"DAOContract.CreateProposal\",\"to\":\"DAOContract.LastProposalId.get\"},{\"from\":\"DAOContract.CreateProposal\",\"to\":\"DAOContract.MinVotingDuration.get\"},{\"from\":\"DAOContract.CreateProposal\",\"to\":\"DAOContract.MinVotingDuration.get\"},{\"from\":\"DAOContract.CreateProposal\",\"to\":\"DAOContract.SetVotingDeadline\"},{\"from\":\"DAOContract.CreateProposal\",\"to\":\"DAOContract.LastProposalId.set\"},{\"from\":\"DAOContract.CreateProposal\",\"to\":\"DAOContract.SetProposal\"},{\"from\":\"DAOContract.CreateProposal\",\"to\":\"DAOContract.EnsureNotPayable\"},{\"from\":\"DAOContract.ExecuteProposal\",\"to\":\"DAOContract.GetVotingDeadline\"},{\"from\":\"DAOContract.ExecuteProposal\",\"to\":\"DAOContract.MinQuorum.get\"},{\"from\":\"DAOContract.ExecuteProposal\",\"to\":\"DAOContract.GetNoVotes\"},{\"from\":\"DAOContract.ExecuteProposal\",\"to\":\"DAOContract.GetYesVotes\"},{\"from\":\"DAOContract.ExecuteProposal\",\"to\":\"DAOContract.GetProposal\"},{\"from\":\"DAOContract.ExecuteProposal\",\"to\":\"DAOContract.SetProposal\"},{\"from\":\"DAOContract.ExecuteProposal\",\"to\":\"DAOContract.EnsureNotPayable\"},{\"from\":\"DAOContract.BlacklistAddress\",\"to\":\"DAOContract.WhitelistedCount.get\"},{\"from\":\"DAOContract.BlacklistAddress\",\"to\":\"DAOContract.EnsureOwnerOnly\"},{\"from\":\"DAOContract.BlacklistAddress\",\"to\":\"DAOContract.SetIsWhitelisted\"},{\"from\":\"DAOContract.BlacklistAddress\",\"to\":\"DAOContract.WhitelistedCount.set\"},{\"from\":\"DAOContract.BlacklistAddress\",\"to\":\"DAOContract.IsWhitelisted\"},{\"from\":\"DAOContract.MinQuorum.get\",\"to\":\"DAOContract.WhitelistedCount.get\"},{\"from\":\"DAOContract.Vote\",\"to\":\"DAOContract.GetVotingDeadline\"},{\"from\":\"DAOContract.Vote\",\"to\":\"DAOContract.ToVote\"},{\"from\":\"DAOContract.Vote\",\"to\":\"DAOContract.VoteProposal\"},{\"from\":\"DAOContract.Vote\",\"to\":\"DAOContract.IsWhitelisted\"},{\"from\":\"DAOContract.Vote\",\"to\":\"DAOContract.EnsureNotPayable\"},{\"from\":\"DAOContract.EnsureOwnerOnly\",\"to\":\"DAOContract.Owner.get\"}])\r\n",
       "                    };\r\n",
       "        let options = {\"manipulation\":false,\"width\":\"100%\",\"height\":\"600px\"};\r\n",
       "        let network = new visjs.Network(container, data, options); \r\n",
       "        },\r\n",
       "        (error) => {\r\n",
       "            console.log(error);\r\n",
       "        });\r\n",
       "        }\r\n",
       "// ensure `require` is available globally\r\n",
       "if ((typeof(require) !==  typeof(Function)) || (typeof(require.config) !== typeof(Function))) {\r\n",
       "    let require_script = document.createElement('script');\r\n",
       "    require_script.setAttribute('src', 'https://cdnjs.cloudflare.com/ajax/libs/require.js/2.3.6/require.min.js');\r\n",
       "    require_script.setAttribute('type', 'text/javascript');\r\n",
       "    \r\n",
       "    \r\n",
       "    require_script.onload = function() {\r\n",
       "        loadVisjs_342ebefe1ffd4a1e82b44d7587312329();\r\n",
       "    };\r\n",
       "\r\n",
       "    document.getElementsByTagName('head')[0].appendChild(require_script);\r\n",
       "}\r\n",
       "else {\r\n",
       "    loadVisjs_342ebefe1ffd4a1e82b44d7587312329();\r\n",
       "}\r\n",
       "\r\n",
       "</script>\r\n",
       "<div id=\"342ebefe1ffd4a1e82b44d7587312329\" style=\"height:600px; width:100%\"></div>\r\n",
       "</div>\r\n"
      ]
     },
     "execution_count": 6,
     "metadata": {},
     "output_type": "execute_result"
    }
   ],
   "source": [
    "an.GetCallGraph()"
   ]
  },
  {
   "cell_type": "code",
   "execution_count": null,
   "id": "f0f24ebe",
   "metadata": {
    "scrolled": true,
    "vscode": {
     "languageId": "csharp"
    }
   },
   "outputs": [],
   "source": [
    "an = IL.GetAnalyzer(@\"..\\examples\\DAOContract\\bin\\Debug\\netcoreapp2.1\\DAOContract.dll\");\n",
    "an.GetSummary()"
   ]
  },
  {
   "cell_type": "code",
   "execution_count": 7,
   "id": "e4d3b978",
   "metadata": {
    "vscode": {
     "languageId": "csharp"
    }
   },
   "outputs": [
    {
     "name": "stdout",
     "output_type": "stream",
     "text": [
      "[INFO] Creating call graph for methods in assembly DAOContract.dll...\n",
      "[INFO] Methods are already collected, reusing...\n",
      "[WARN] The method () was not analyzed.\n",
      "[WARN] The method <Stratis.SmartContracts.Address>() was not analyzed.\n",
      "[WARN] The method <DAOContract.Proposal>() was not analyzed.\n",
      "[WARN] The method <Stratis.SmartContracts.Address>() was not analyzed.\n",
      "[WARN] The method <DAOContract.Proposal>() was not analyzed.\n",
      "[INFO] Creating call graph for methods in assembly DAOContract.dll completed in 3ms.\n"
     ]
    },
    {
     "data": {
      "text/html": [
       "<div>\r\n",
       "<script type=\"text/javascript\">\r\n",
       "loadVisjs_4f20674db3d540ae8d639e8345396193 = () => {\r\n",
       "(require.config({ 'paths': { 'context': '0.0.0', 'visjs' : 'https://visjs.github.io/vis-network/standalone/umd/vis-network.min', 'urlArgs': 'cacheBuster=0b95c17a60c8422db0c1264867570fee' }}) || require)(['visjs'], (visjs) => {\r\n",
       "\r\n",
       "        let container = document.getElementById('4f20674db3d540ae8d639e8345396193');\r\n",
       "        let data = {\r\n",
       "                        nodes: new visjs.DataSet([{\"id\":\"DAOContract.LastProposalId.get\",\"label\":\"DAOContract.LastProposalId.get\",\"color\":{\"background\":\"#ffffff00\"},\"font\":{\"face\":\"monospace\",\"align\":\"left\"}},{\"id\":\"DAOContract.MaxVotingDuration.set\",\"label\":\"DAOContract.MaxVotingDuration.set\",\"color\":{\"background\":\"#ffffff00\"},\"font\":{\"face\":\"monospace\",\"align\":\"left\"}},{\"id\":\"DAOContract.UpdateMaxVotingDuration\",\"label\":\"DAOContract.UpdateMaxVotingDuration\",\"color\":{\"background\":\"#ffff00\"},\"font\":{\"face\":\"monospace\",\"align\":\"left\"}},{\"id\":\"DAOContract.Owner.get\",\"label\":\"DAOContract.Owner.get\",\"color\":{\"background\":\"#ffffff00\"},\"font\":{\"face\":\"monospace\",\"align\":\"left\"}},{\"id\":\"DAOContract.WhitelistAddresses\",\"label\":\"DAOContract.WhitelistAddresses\",\"color\":{\"background\":\"#ffff00\"},\"font\":{\"face\":\"monospace\",\"align\":\"left\"}},{\"id\":\"DAOContract.VoteProposal\",\"label\":\"DAOContract.VoteProposal\",\"color\":{\"background\":\"#ffffff\"},\"font\":{\"face\":\"monospace\",\"align\":\"left\"}},{\"id\":\"DAOContract.Receive\",\"label\":\"DAOContract.Receive\",\"color\":{\"background\":\"#ffff00\"},\"font\":{\"face\":\"monospace\",\"align\":\"left\"}},{\"id\":\"DAOContract.MaxVotingDuration.get\",\"label\":\"DAOContract.MaxVotingDuration.get\",\"color\":{\"background\":\"#ffffff00\"},\"font\":{\"face\":\"monospace\",\"align\":\"left\"}},{\"id\":\"DAOContract.GetProposal\",\"label\":\"DAOContract.GetProposal\",\"color\":{\"background\":\"#ffffff00\"},\"font\":{\"face\":\"monospace\",\"align\":\"left\"}},{\"id\":\"DAOContract.EnsureNotPayable\",\"label\":\"DAOContract.EnsureNotPayable\",\"color\":{\"background\":\"#ffffff00\"},\"font\":{\"face\":\"monospace\",\"align\":\"left\"}},{\"id\":\"DAOContract.TransferOwnership\",\"label\":\"DAOContract.TransferOwnership\",\"color\":{\"background\":\"#ffffff00\"},\"font\":{\"face\":\"monospace\",\"align\":\"left\"}},{\"id\":\"DAOContract..ctor\",\"label\":\"DAOContract..ctor\",\"color\":{\"background\":\"#ffff00\"},\"font\":{\"face\":\"monospace\",\"align\":\"left\"}},{\"id\":\"DAOContract.MinVotingDuration.set\",\"label\":\"DAOContract.MinVotingDuration.set\",\"color\":{\"background\":\"#ffffff00\"},\"font\":{\"face\":\"monospace\",\"align\":\"left\"}},{\"id\":\"DAOContract.SetVotingDeadline\",\"label\":\"DAOContract.SetVotingDeadline\",\"color\":{\"background\":\"#ffffff00\"},\"font\":{\"face\":\"monospace\",\"align\":\"left\"}},{\"id\":\"DAOContract.Unvote\",\"label\":\"DAOContract.Unvote\",\"color\":{\"background\":\"#ffffff\"},\"font\":{\"face\":\"monospace\",\"align\":\"left\"}},{\"id\":\"DAOContract.GetVote\",\"label\":\"DAOContract.GetVote\",\"color\":{\"background\":\"#ffffff00\"},\"font\":{\"face\":\"monospace\",\"align\":\"left\"}},{\"id\":\"DAOContract.BlacklistAddresses\",\"label\":\"DAOContract.BlacklistAddresses\",\"color\":{\"background\":\"#ffff00\"},\"font\":{\"face\":\"monospace\",\"align\":\"left\"}},{\"id\":\"DAOContract.IsWhitelisted\",\"label\":\"DAOContract.IsWhitelisted\",\"color\":{\"background\":\"#ffffff00\"},\"font\":{\"face\":\"monospace\",\"align\":\"left\"}},{\"id\":\"DAOContract.SetIsWhitelisted\",\"label\":\"DAOContract.SetIsWhitelisted\",\"color\":{\"background\":\"#ffffff00\"},\"font\":{\"face\":\"monospace\",\"align\":\"left\"}},{\"id\":\"DAOContract.WhitelistAddress\",\"label\":\"DAOContract.WhitelistAddress\",\"color\":{\"background\":\"#ffff00\"},\"font\":{\"face\":\"monospace\",\"align\":\"left\"}},{\"id\":\"DAOContract.Deposit\",\"label\":\"DAOContract.Deposit\",\"color\":{\"background\":\"#ffffff00\"},\"font\":{\"face\":\"monospace\",\"align\":\"left\"}},{\"id\":\"DAOContract.SetNoVotes\",\"label\":\"DAOContract.SetNoVotes\",\"color\":{\"background\":\"#ffffff00\"},\"font\":{\"face\":\"monospace\",\"align\":\"left\"}},{\"id\":\"DAOContract.MinVotingDuration.get\",\"label\":\"DAOContract.MinVotingDuration.get\",\"color\":{\"background\":\"#ffffff00\"},\"font\":{\"face\":\"monospace\",\"align\":\"left\"}},{\"id\":\"DAOContract.SetYesVotes\",\"label\":\"DAOContract.SetYesVotes\",\"color\":{\"background\":\"#ffffff00\"},\"font\":{\"face\":\"monospace\",\"align\":\"left\"}},{\"id\":\"DAOContract.SetProposal\",\"label\":\"DAOContract.SetProposal\",\"color\":{\"background\":\"#ffffff00\"},\"font\":{\"face\":\"monospace\",\"align\":\"left\"}},{\"id\":\"DAOContract.UpdateMinVotingDuration\",\"label\":\"DAOContract.UpdateMinVotingDuration\",\"color\":{\"background\":\"#ffff00\"},\"font\":{\"face\":\"monospace\",\"align\":\"left\"}},{\"id\":\"DAOContract.CreateProposal\",\"label\":\"DAOContract.CreateProposal\",\"color\":{\"background\":\"#ffff00\"},\"font\":{\"face\":\"monospace\",\"align\":\"left\"}},{\"id\":\"DAOContract.ExecuteProposal\",\"label\":\"DAOContract.ExecuteProposal\",\"color\":{\"background\":\"#ffffff00\"},\"font\":{\"face\":\"monospace\",\"align\":\"left\"}},{\"id\":\"DAOContract.GetYesVotes\",\"label\":\"DAOContract.GetYesVotes\",\"color\":{\"background\":\"#ffffff00\"},\"font\":{\"face\":\"monospace\",\"align\":\"left\"}},{\"id\":\"DAOContract.BlacklistAddress\",\"label\":\"DAOContract.BlacklistAddress\",\"color\":{\"background\":\"#ffff00\"},\"font\":{\"face\":\"monospace\",\"align\":\"left\"}},{\"id\":\"DAOContract.WhitelistedCount.get\",\"label\":\"DAOContract.WhitelistedCount.get\",\"color\":{\"background\":\"#ffffff00\"},\"font\":{\"face\":\"monospace\",\"align\":\"left\"}},{\"id\":\"DAOContract.MinQuorum.get\",\"label\":\"DAOContract.MinQuorum.get\",\"color\":{\"background\":\"#ffffff00\"},\"font\":{\"face\":\"monospace\",\"align\":\"left\"}},{\"id\":\"DAOContract.Vote\",\"label\":\"DAOContract.Vote\",\"color\":{\"background\":\"#ffff00\"},\"font\":{\"face\":\"monospace\",\"align\":\"left\"}},{\"id\":\"DAOContract.GetVotingDeadline\",\"label\":\"DAOContract.GetVotingDeadline\",\"color\":{\"background\":\"#ffffff00\"},\"font\":{\"face\":\"monospace\",\"align\":\"left\"}},{\"id\":\"DAOContract.GetNoVotes\",\"label\":\"DAOContract.GetNoVotes\",\"color\":{\"background\":\"#ffffff00\"},\"font\":{\"face\":\"monospace\",\"align\":\"left\"}},{\"id\":\"DAOContract.LastProposalId.set\",\"label\":\"DAOContract.LastProposalId.set\",\"color\":{\"background\":\"#ffffff00\"},\"font\":{\"face\":\"monospace\",\"align\":\"left\"}},{\"id\":\"DAOContract.WhitelistedCount.set\",\"label\":\"DAOContract.WhitelistedCount.set\",\"color\":{\"background\":\"#ffffff00\"},\"font\":{\"face\":\"monospace\",\"align\":\"left\"}},{\"id\":\"DAOContract.Owner.set\",\"label\":\"DAOContract.Owner.set\",\"color\":{\"background\":\"#ffffff00\"},\"font\":{\"face\":\"monospace\",\"align\":\"left\"}},{\"id\":\"DAOContract.EnsureOwnerOnly\",\"label\":\"DAOContract.EnsureOwnerOnly\",\"color\":{\"background\":\"#ffffff00\"},\"font\":{\"face\":\"monospace\",\"align\":\"left\"}},{\"id\":\"DAOContract.ToVote\",\"label\":\"DAOContract.ToVote\",\"color\":{\"background\":\"#ffffff00\"},\"font\":{\"face\":\"monospace\",\"align\":\"left\"}},{\"id\":\"DAOContract.SetVote\",\"label\":\"DAOContract.SetVote\",\"color\":{\"background\":\"#ffffff00\"},\"font\":{\"face\":\"monospace\",\"align\":\"left\"}}]), \r\n",
       "                        edges: new visjs.DataSet([{\"from\":\"DAOContract.UpdateMaxVotingDuration\",\"to\":\"DAOContract.MaxVotingDuration.set\"},{\"from\":\"DAOContract.UpdateMaxVotingDuration\",\"to\":\"DAOContract.MinVotingDuration.get\"},{\"from\":\"DAOContract.UpdateMaxVotingDuration\",\"to\":\"DAOContract.EnsureOwnerOnly\"},{\"from\":\"DAOContract.WhitelistAddresses\",\"to\":\"DAOContract.WhitelistedCount.get\"},{\"from\":\"DAOContract.WhitelistAddresses\",\"to\":\"DAOContract.EnsureOwnerOnly\"},{\"from\":\"DAOContract.WhitelistAddresses\",\"to\":\"DAOContract.SetIsWhitelisted\"},{\"from\":\"DAOContract.WhitelistAddresses\",\"to\":\"DAOContract.WhitelistedCount.set\"},{\"from\":\"DAOContract.WhitelistAddresses\",\"to\":\"DAOContract.IsWhitelisted\"},{\"from\":\"DAOContract.VoteProposal\",\"to\":\"DAOContract.SetVote\"},{\"from\":\"DAOContract.VoteProposal\",\"to\":\"DAOContract.GetNoVotes\"},{\"from\":\"DAOContract.VoteProposal\",\"to\":\"DAOContract.GetYesVotes\"},{\"from\":\"DAOContract.VoteProposal\",\"to\":\"DAOContract.SetNoVotes\"},{\"from\":\"DAOContract.VoteProposal\",\"to\":\"DAOContract.SetYesVotes\"},{\"from\":\"DAOContract.VoteProposal\",\"to\":\"DAOContract.Unvote\"},{\"from\":\"DAOContract.VoteProposal\",\"to\":\"DAOContract.GetVote\"},{\"from\":\"DAOContract.Receive\",\"to\":\"DAOContract.Deposit\"},{\"from\":\"DAOContract.TransferOwnership\",\"to\":\"DAOContract.Owner.set\"},{\"from\":\"DAOContract.TransferOwnership\",\"to\":\"DAOContract.EnsureOwnerOnly\"},{\"from\":\"DAOContract..ctor\",\"to\":\"DAOContract.MaxVotingDuration.set\"},{\"from\":\"DAOContract..ctor\",\"to\":\"DAOContract.Owner.set\"},{\"from\":\"DAOContract..ctor\",\"to\":\"DAOContract.MinVotingDuration.set\"},{\"from\":\"DAOContract..ctor\",\"to\":\"DAOContract.LastProposalId.set\"},{\"from\":\"DAOContract.Unvote\",\"to\":\"DAOContract.GetNoVotes\"},{\"from\":\"DAOContract.Unvote\",\"to\":\"DAOContract.GetYesVotes\"},{\"from\":\"DAOContract.Unvote\",\"to\":\"DAOContract.SetNoVotes\"},{\"from\":\"DAOContract.Unvote\",\"to\":\"DAOContract.SetYesVotes\"},{\"from\":\"DAOContract.BlacklistAddresses\",\"to\":\"DAOContract.WhitelistedCount.get\"},{\"from\":\"DAOContract.BlacklistAddresses\",\"to\":\"DAOContract.EnsureOwnerOnly\"},{\"from\":\"DAOContract.BlacklistAddresses\",\"to\":\"DAOContract.SetIsWhitelisted\"},{\"from\":\"DAOContract.BlacklistAddresses\",\"to\":\"DAOContract.WhitelistedCount.set\"},{\"from\":\"DAOContract.BlacklistAddresses\",\"to\":\"DAOContract.IsWhitelisted\"},{\"from\":\"DAOContract.WhitelistAddress\",\"to\":\"DAOContract.WhitelistedCount.get\"},{\"from\":\"DAOContract.WhitelistAddress\",\"to\":\"DAOContract.EnsureOwnerOnly\"},{\"from\":\"DAOContract.WhitelistAddress\",\"to\":\"DAOContract.SetIsWhitelisted\"},{\"from\":\"DAOContract.WhitelistAddress\",\"to\":\"DAOContract.WhitelistedCount.set\"},{\"from\":\"DAOContract.WhitelistAddress\",\"to\":\"DAOContract.IsWhitelisted\"},{\"from\":\"DAOContract.Deposit\",\"to\":\"DAOContract.EnsureOwnerOnly\"},{\"from\":\"DAOContract.UpdateMinVotingDuration\",\"to\":\"DAOContract.MaxVotingDuration.get\"},{\"from\":\"DAOContract.UpdateMinVotingDuration\",\"to\":\"DAOContract.EnsureOwnerOnly\"},{\"from\":\"DAOContract.UpdateMinVotingDuration\",\"to\":\"DAOContract.MinVotingDuration.set\"},{\"from\":\"DAOContract.CreateProposal\",\"to\":\"DAOContract.MaxVotingDuration.get\"},{\"from\":\"DAOContract.CreateProposal\",\"to\":\"DAOContract.MaxVotingDuration.get\"},{\"from\":\"DAOContract.CreateProposal\",\"to\":\"DAOContract.LastProposalId.get\"},{\"from\":\"DAOContract.CreateProposal\",\"to\":\"DAOContract.MinVotingDuration.get\"},{\"from\":\"DAOContract.CreateProposal\",\"to\":\"DAOContract.MinVotingDuration.get\"},{\"from\":\"DAOContract.CreateProposal\",\"to\":\"DAOContract.SetVotingDeadline\"},{\"from\":\"DAOContract.CreateProposal\",\"to\":\"DAOContract.LastProposalId.set\"},{\"from\":\"DAOContract.CreateProposal\",\"to\":\"DAOContract.SetProposal\"},{\"from\":\"DAOContract.CreateProposal\",\"to\":\"DAOContract.EnsureNotPayable\"},{\"from\":\"DAOContract.ExecuteProposal\",\"to\":\"DAOContract.GetVotingDeadline\"},{\"from\":\"DAOContract.ExecuteProposal\",\"to\":\"DAOContract.MinQuorum.get\"},{\"from\":\"DAOContract.ExecuteProposal\",\"to\":\"DAOContract.GetNoVotes\"},{\"from\":\"DAOContract.ExecuteProposal\",\"to\":\"DAOContract.GetYesVotes\"},{\"from\":\"DAOContract.ExecuteProposal\",\"to\":\"DAOContract.GetProposal\"},{\"from\":\"DAOContract.ExecuteProposal\",\"to\":\"DAOContract.SetProposal\"},{\"from\":\"DAOContract.ExecuteProposal\",\"to\":\"DAOContract.EnsureNotPayable\"},{\"from\":\"DAOContract.BlacklistAddress\",\"to\":\"DAOContract.WhitelistedCount.get\"},{\"from\":\"DAOContract.BlacklistAddress\",\"to\":\"DAOContract.EnsureOwnerOnly\"},{\"from\":\"DAOContract.BlacklistAddress\",\"to\":\"DAOContract.SetIsWhitelisted\"},{\"from\":\"DAOContract.BlacklistAddress\",\"to\":\"DAOContract.WhitelistedCount.set\"},{\"from\":\"DAOContract.BlacklistAddress\",\"to\":\"DAOContract.IsWhitelisted\"},{\"from\":\"DAOContract.MinQuorum.get\",\"to\":\"DAOContract.WhitelistedCount.get\"},{\"from\":\"DAOContract.Vote\",\"to\":\"DAOContract.GetVotingDeadline\"},{\"from\":\"DAOContract.Vote\",\"to\":\"DAOContract.ToVote\"},{\"from\":\"DAOContract.Vote\",\"to\":\"DAOContract.VoteProposal\"},{\"from\":\"DAOContract.Vote\",\"to\":\"DAOContract.IsWhitelisted\"},{\"from\":\"DAOContract.Vote\",\"to\":\"DAOContract.EnsureNotPayable\"},{\"from\":\"DAOContract.EnsureOwnerOnly\",\"to\":\"DAOContract.Owner.get\"}])\r\n",
       "                    };\r\n",
       "        let options = {\"manipulation\":false,\"width\":\"100%\",\"height\":\"600px\"};\r\n",
       "        let network = new visjs.Network(container, data, options); \r\n",
       "        },\r\n",
       "        (error) => {\r\n",
       "            console.log(error);\r\n",
       "        });\r\n",
       "        }\r\n",
       "// ensure `require` is available globally\r\n",
       "if ((typeof(require) !==  typeof(Function)) || (typeof(require.config) !== typeof(Function))) {\r\n",
       "    let require_script = document.createElement('script');\r\n",
       "    require_script.setAttribute('src', 'https://cdnjs.cloudflare.com/ajax/libs/require.js/2.3.6/require.min.js');\r\n",
       "    require_script.setAttribute('type', 'text/javascript');\r\n",
       "    \r\n",
       "    \r\n",
       "    require_script.onload = function() {\r\n",
       "        loadVisjs_4f20674db3d540ae8d639e8345396193();\r\n",
       "    };\r\n",
       "\r\n",
       "    document.getElementsByTagName('head')[0].appendChild(require_script);\r\n",
       "}\r\n",
       "else {\r\n",
       "    loadVisjs_4f20674db3d540ae8d639e8345396193();\r\n",
       "}\r\n",
       "\r\n",
       "</script>\r\n",
       "<div id=\"4f20674db3d540ae8d639e8345396193\" style=\"height:600px; width:100%\"></div>\r\n",
       "</div>\r\n"
      ]
     },
     "execution_count": 7,
     "metadata": {},
     "output_type": "execute_result"
    }
   ],
   "source": [
    "an.GetCallGraph()"
   ]
  },
  {
   "cell_type": "code",
   "execution_count": 7,
   "id": "435bd6f2",
   "metadata": {},
   "outputs": [
    {
     "name": "stderr",
     "output_type": "stream",
     "text": [
      "\r\n",
      "(1,20): error CS0234: The type or namespace name 'Graph' does not exist in the namespace 'Silver' (are you missing an assembly reference?)\r\n",
      "\r\n"
     ]
    },
    {
     "ename": "Cell not executed",
     "evalue": "compilation error",
     "output_type": "error",
     "traceback": []
    }
   ],
   "source": [
    "var g = new Silver.Graph();"
   ]
  }
 ],
 "metadata": {
  "kernelspec": {
   "display_name": ".NET (C#)",
   "language": "C#",
   "name": ".net-csharp"
  },
  "language_info": {
   "file_extension": ".cs",
   "mimetype": "text/x-csharp",
   "name": "C#",
   "pygments_lexer": "csharp",
   "version": "10.0"
  },
  "widgets": {
   "application/vnd.jupyter.widget-state+json": {
    "state": {},
    "version_major": 2,
    "version_minor": 0
   }
  }
 },
 "nbformat": 4,
 "nbformat_minor": 5
}
