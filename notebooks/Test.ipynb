{
 "cells": [
  {
   "cell_type": "code",
   "execution_count": 1,
   "id": "1a995c17",
   "metadata": {
    "vscode": {
     "languageId": "csharp"
    }
   },
   "outputs": [
    {
     "data": {
      "text/html": [
       "\r\n",
       "<div>\r\n",
       "    <div id='dotnet-interactive-this-cell-24148.Microsoft.DotNet.Interactive.Http.HttpPort' style='display: none'>\r\n",
       "        The below script needs to be able to find the current output cell; this is an easy method to get it.\r\n",
       "    </div>\r\n",
       "    <script type='text/javascript'>\r\n",
       "async function probeAddresses(probingAddresses) {\r\n",
       "    function timeout(ms, promise) {\r\n",
       "        return new Promise(function (resolve, reject) {\r\n",
       "            setTimeout(function () {\r\n",
       "                reject(new Error('timeout'))\r\n",
       "            }, ms)\r\n",
       "            promise.then(resolve, reject)\r\n",
       "        })\r\n",
       "    }\r\n",
       "\r\n",
       "    if (Array.isArray(probingAddresses)) {\r\n",
       "        for (let i = 0; i < probingAddresses.length; i++) {\r\n",
       "\r\n",
       "            let rootUrl = probingAddresses[i];\r\n",
       "\r\n",
       "            if (!rootUrl.endsWith('/')) {\r\n",
       "                rootUrl = `${rootUrl}/`;\r\n",
       "            }\r\n",
       "\r\n",
       "            try {\r\n",
       "                let response = await timeout(1000, fetch(`${rootUrl}discovery`, {\r\n",
       "                    method: 'POST',\r\n",
       "                    cache: 'no-cache',\r\n",
       "                    mode: 'cors',\r\n",
       "                    timeout: 1000,\r\n",
       "                    headers: {\r\n",
       "                        'Content-Type': 'text/plain'\r\n",
       "                    },\r\n",
       "                    body: probingAddresses[i]\r\n",
       "                }));\r\n",
       "\r\n",
       "                if (response.status == 200) {\r\n",
       "                    return rootUrl;\r\n",
       "                }\r\n",
       "            }\r\n",
       "            catch (e) { }\r\n",
       "        }\r\n",
       "    }\r\n",
       "}\r\n",
       "\r\n",
       "function loadDotnetInteractiveApi() {\r\n",
       "    probeAddresses([\"http://192.168.169.1:1000/\", \"http://192.168.128.1:1000/\", \"http://192.168.1.189:1000/\", \"http://172.20.160.1:1000/\", \"http://127.0.0.1:1000/\"])\r\n",
       "        .then((root) => {\r\n",
       "        // use probing to find host url and api resources\r\n",
       "        // load interactive helpers and language services\r\n",
       "        let dotnetInteractiveRequire = require.config({\r\n",
       "        context: '24148.Microsoft.DotNet.Interactive.Http.HttpPort',\r\n",
       "                paths:\r\n",
       "            {\r\n",
       "                'dotnet-interactive': `${root}resources`\r\n",
       "                }\r\n",
       "        }) || require;\r\n",
       "\r\n",
       "            window.dotnetInteractiveRequire = dotnetInteractiveRequire;\r\n",
       "\r\n",
       "            window.configureRequireFromExtension = function(extensionName, extensionCacheBuster) {\r\n",
       "                let paths = {};\r\n",
       "                paths[extensionName] = `${root}extensions/${extensionName}/resources/`;\r\n",
       "                \r\n",
       "                let internalRequire = require.config({\r\n",
       "                    context: extensionCacheBuster,\r\n",
       "                    paths: paths,\r\n",
       "                    urlArgs: `cacheBuster=${extensionCacheBuster}`\r\n",
       "                    }) || require;\r\n",
       "\r\n",
       "                return internalRequire\r\n",
       "            };\r\n",
       "        \r\n",
       "            dotnetInteractiveRequire([\r\n",
       "                    'dotnet-interactive/dotnet-interactive'\r\n",
       "                ],\r\n",
       "                function (dotnet) {\r\n",
       "                    dotnet.init(window);\r\n",
       "                },\r\n",
       "                function (error) {\r\n",
       "                    console.log(error);\r\n",
       "                }\r\n",
       "            );\r\n",
       "        })\r\n",
       "        .catch(error => {console.log(error);});\r\n",
       "    }\r\n",
       "\r\n",
       "// ensure `require` is available globally\r\n",
       "if ((typeof(require) !==  typeof(Function)) || (typeof(require.config) !== typeof(Function))) {\r\n",
       "    let require_script = document.createElement('script');\r\n",
       "    require_script.setAttribute('src', 'https://cdnjs.cloudflare.com/ajax/libs/require.js/2.3.6/require.min.js');\r\n",
       "    require_script.setAttribute('type', 'text/javascript');\r\n",
       "    \r\n",
       "    \r\n",
       "    require_script.onload = function() {\r\n",
       "        loadDotnetInteractiveApi();\r\n",
       "    };\r\n",
       "\r\n",
       "    document.getElementsByTagName('head')[0].appendChild(require_script);\r\n",
       "}\r\n",
       "else {\r\n",
       "    loadDotnetInteractiveApi();\r\n",
       "}\r\n",
       "\r\n",
       "    </script>\r\n",
       "</div>"
      ]
     },
     "metadata": {},
     "output_type": "display_data"
    },
    {
     "data": {
      "text/html": [
       "<div><div></div><div></div><div><strong>Installed Packages</strong><ul><li><span>Octokit, 0.52.0</span></li></ul></div></div>"
      ]
     },
     "metadata": {},
     "output_type": "display_data"
    },
    {
     "data": {
      "text/markdown": [
       "Added formatter for AGL graphs using VisJS to .NET Interactive kernel csharp."
      ]
     },
     "metadata": {},
     "output_type": "display_data"
    },
    {
     "data": {
      "text/markdown": [
       "Added formatter for Mermaid language to .NET Interactive kernel csharp."
      ]
     },
     "metadata": {},
     "output_type": "display_data"
    },
    {
     "data": {
      "text/markdown": [
       "Added formatter for DOT language to .NET Interactive kernel csharp."
      ]
     },
     "metadata": {},
     "output_type": "display_data"
    },
    {
     "data": {
      "text/markdown": [
       "Added formatter for VisJS networks to .NET Interactive kernel csharp."
      ]
     },
     "metadata": {},
     "output_type": "display_data"
    }
   ],
   "source": [
    "#load \"DotNetInteractive.csx\"\n",
    "#r \"nuget: Octokit\""
   ]
  },
  {
   "cell_type": "code",
   "execution_count": 3,
   "id": "7725ee91",
   "metadata": {
    "vscode": {
     "languageId": "csharp"
    }
   },
   "outputs": [],
   "source": [
    "using Silver;\n",
    "using Silver.Notebooks;"
   ]
  },
  {
   "cell_type": "code",
   "execution_count": 4,
   "id": "c693148d",
   "metadata": {
    "vscode": {
     "languageId": "csharp"
    }
   },
   "outputs": [
    {
     "name": "stdout",
     "output_type": "stream",
     "text": [
      "[INFO] Get smart contract assembly from Stratis pull request https://github.com/stratisproject/CirrusSmartContracts/pull/31...\n",
      "[WARN] File Stratis.PR547793172.dll exists, overwriting...\n",
      "[INFO] Assembly for Stratis pull request https://api.github.com/repos/stratisproject/CirrusSmartContracts/issues/31 is at Stratis.PR547793172.dll.\n",
      "[INFO] Get smart contract assembly from Stratis pull request https://github.com/stratisproject/CirrusSmartContracts/pull/31 completed in 1714ms.\n",
      "[INFO] Target assembly is Stratis.PR547793172.dll.\n"
     ]
    }
   ],
   "source": [
    "var an = IL.GetAnalyzer(@\"https://github.com/stratisproject/CirrusSmartContracts/pull/31\");"
   ]
  },
  {
   "cell_type": "code",
   "execution_count": 5,
   "id": "4be357d6",
   "metadata": {
    "vscode": {
     "languageId": "csharp"
    }
   },
   "outputs": [
    {
     "name": "stdout",
     "output_type": "stream",
     "text": [
      "[INFO] Analyzing class hierachy...\n",
      "[INFO] Analyzing class hierachy completed in 5ms.\n"
     ]
    },
    {
     "data": {
      "text/html": [
       "<div style=\"background-color:white\">\r\n",
       "<script type=\"text/javascript\">\r\n",
       "loadMermaid_3428af718c58403296fd5e761b928fd0 = () => {\r\n",
       " \r\n",
       "    (require.config({ 'paths': { 'context': '9.1.1', 'mermaidUri' : 'https://cdn.jsdelivr.net/npm/mermaid@9.1.1/dist/mermaid.min', 'urlArgs': 'cacheBuster=c4bf9f85e56c4ca98742ba28513f269b' }}) || require)(['mermaidUri'], (mermaid) => {\r\n",
       "\r\n",
       "        let renderTarget = document.getElementById('3428af718c58403296fd5e761b928fd0');\r\n",
       "        mermaid.mermaidAPI.render( \r\n",
       "            'mermaid_3428af718c58403296fd5e761b928fd0', \r\n",
       "            `classDiagram\r\n",
       "class STOContract\r\n",
       "<<contract>> STOContract\r\n",
       "STOContract : +.ctor(smartContractState,owner,tokenType,totalSupply,name,symbol,kycAddress,mapperAddress,salePeriods)\r\n",
       "STOContract : +get_EndBlock()\r\n",
       "STOContract : +get_IsNonFungibleToken()\r\n",
       "STOContract : +get_KYCAddress()\r\n",
       "STOContract : +get_MapperAddress()\r\n",
       "STOContract : +get_Owner()\r\n",
       "STOContract : +get_SaleOpen()\r\n",
       "STOContract : +get_SalePeriods()\r\n",
       "STOContract : +get_TokenAddress()\r\n",
       "STOContract : +get_TokenBalance()\r\n",
       "STOContract : +Invest()\r\n",
       "STOContract : +Receive()\r\n",
       "STOContract : +WithdrawFunds()\r\n",
       "STOContract : +WithdrawTokens()\r\n",
       "STOContract : -ConvertSalePeriodInputs(periods)\r\n",
       "STOContract : -CreateTokenContract(tokenType,totalSupply,name,symbol)\r\n",
       "STOContract : -EnsureKycVerified()\r\n",
       "STOContract : -GetCurrentPeriod()\r\n",
       "STOContract : -GetSaleInfo()\r\n",
       "STOContract : -set_EndBlock(value)\r\n",
       "STOContract : -set_IsNonFungibleToken(value)\r\n",
       "STOContract : -set_KYCAddress(value)\r\n",
       "STOContract : -set_MapperAddress(value)\r\n",
       "STOContract : -set_Owner(value)\r\n",
       "STOContract : -set_SalePeriods(value)\r\n",
       "STOContract : -set_TokenAddress(value)\r\n",
       "STOContract : -set_TokenBalance(value)\r\n",
       "STOContract : -SetPeriods(periods)\r\n",
       "STOContract : -ValidatePeriods(periods)\r\n",
       "class StandardToken\r\n",
       "StandardToken : +.ctor(smartContractState,totalSupply,name,symbol)\r\n",
       "StandardToken : +Allowance(owner,spender)\r\n",
       "StandardToken : +Approve(spender,currentAmount,amount)\r\n",
       "StandardToken : +get_Name()\r\n",
       "StandardToken : +get_Symbol()\r\n",
       "StandardToken : +get_TotalSupply()\r\n",
       "StandardToken : +GetBalance(address)\r\n",
       "StandardToken : +TransferFrom(from,to,amount)\r\n",
       "StandardToken : +TransferTo(to,amount)\r\n",
       "StandardToken : -set_Name(value)\r\n",
       "StandardToken : -set_Symbol(value)\r\n",
       "StandardToken : -set_TotalSupply(value)\r\n",
       "StandardToken : -SetApproval(owner,spender,value)\r\n",
       "StandardToken : -SetBalance(address,value)\r\n",
       "class DividendToken\r\n",
       "DividendToken : +.ctor(state,totalSupply,name,symbol)\r\n",
       "DividendToken : +Allowance(owner,spender)\r\n",
       "DividendToken : +Approve(spender,currentAmount,amount)\r\n",
       "DividendToken : +get_Dividends()\r\n",
       "DividendToken : +get_Name()\r\n",
       "DividendToken : +get_Symbol()\r\n",
       "DividendToken : +get_TotalSupply()\r\n",
       "DividendToken : +GetBalance(address)\r\n",
       "DividendToken : +GetDividends()\r\n",
       "DividendToken : +GetDividends(address)\r\n",
       "DividendToken : +GetTotalDividends()\r\n",
       "DividendToken : +GetTotalDividends(address)\r\n",
       "DividendToken : +Receive()\r\n",
       "DividendToken : +TransferFrom(from,to,amount)\r\n",
       "DividendToken : +TransferTo(to,amount)\r\n",
       "DividendToken : +Withdraw()\r\n",
       "DividendToken : -GetAccount(address)\r\n",
       "DividendToken : -GetWithdrawableDividends(address,account)\r\n",
       "DividendToken : -set_Dividends(value)\r\n",
       "DividendToken : -set_Name(value)\r\n",
       "DividendToken : -set_Symbol(value)\r\n",
       "DividendToken : -set_TotalSupply(value)\r\n",
       "DividendToken : -SetAccount(address,account)\r\n",
       "DividendToken : -SetApproval(owner,spender,value)\r\n",
       "DividendToken : -SetBalance(address,value)\r\n",
       "DividendToken : -TransferTokensFrom(from,to,amount)\r\n",
       "DividendToken : -TransferTokensTo(to,amount)\r\n",
       "DividendToken : -UpdateAccount(address)\r\n",
       "class NonFungibleToken\r\n",
       "NonFungibleToken : +.ctor(state,name,symbol)\r\n",
       "NonFungibleToken : +Approve(approved,tokenId)\r\n",
       "NonFungibleToken : +BalanceOf(owner)\r\n",
       "NonFungibleToken : +Burn(tokenId)\r\n",
       "NonFungibleToken : +EnsureAddressIsNotEmpty(address)\r\n",
       "NonFungibleToken : +get_Name()\r\n",
       "NonFungibleToken : +get_Owner()\r\n",
       "NonFungibleToken : +get_Symbol()\r\n",
       "NonFungibleToken : +get_TotalSupply()\r\n",
       "NonFungibleToken : +GetApproved(tokenId)\r\n",
       "NonFungibleToken : +IsApprovedForAll(owner,operatorAddress)\r\n",
       "NonFungibleToken : +MintAll(address,amount)\r\n",
       "NonFungibleToken : +OwnerOf(tokenId)\r\n",
       "NonFungibleToken : +SafeTransferFrom(from,to,tokenId,data)\r\n",
       "NonFungibleToken : +SafeTransferFrom(from,to,tokenId)\r\n",
       "NonFungibleToken : +SetApprovalForAll(operatorAddress,approved)\r\n",
       "NonFungibleToken : +SupportsInterface(interfaceID)\r\n",
       "NonFungibleToken : +TokenByIndex(index)\r\n",
       "NonFungibleToken : +TokenOfOwnerByIndex(owner,index)\r\n",
       "NonFungibleToken : +TransferFrom(from,to,tokenId)\r\n",
       "NonFungibleToken : +TransferOwnership(owner)\r\n",
       "NonFungibleToken : -AddNFToken(to,tokenId)\r\n",
       "NonFungibleToken : -CanOperate(tokenId)\r\n",
       "NonFungibleToken : -CanTransfer(tokenId)\r\n",
       "NonFungibleToken : -ClearApproval(tokenId)\r\n",
       "NonFungibleToken : -ClearIndexByToken(token)\r\n",
       "NonFungibleToken : -ClearIndexOfOwnerByToken(owner,tokenId)\r\n",
       "NonFungibleToken : -ClearTokenByIndex(index)\r\n",
       "NonFungibleToken : -ClearTokenOfOwnerByIndex(owner,index)\r\n",
       "NonFungibleToken : -EnsureOwnerOnly()\r\n",
       "NonFungibleToken : -get_NextTokenId()\r\n",
       "NonFungibleToken : -GetIdToApproval(id)\r\n",
       "NonFungibleToken : -GetIdToApprovalKey(id)\r\n",
       "NonFungibleToken : -GetIdToOwner(id)\r\n",
       "NonFungibleToken : -GetIdToOwnerKey(id)\r\n",
       "NonFungibleToken : -GetIndexByToken(token)\r\n",
       "NonFungibleToken : -GetIndexByTokenKey(token)\r\n",
       "NonFungibleToken : -GetIndexOfOwnerByToken(owner,tokenId)\r\n",
       "NonFungibleToken : -GetOwnerToNFTokenCount(address)\r\n",
       "NonFungibleToken : -GetOwnerToOperator(owner,operatorAddress)\r\n",
       "NonFungibleToken : -GetSupportedInterfaces(interfaceId)\r\n",
       "NonFungibleToken : -GetTokenByIndex(index)\r\n",
       "NonFungibleToken : -GetTokenByIndexKey(index)\r\n",
       "NonFungibleToken : -GetTokenOfOwnerByIndex(address,index)\r\n",
       "NonFungibleToken : -GetTokenOfOwnerByIndexKey(address,index)\r\n",
       "NonFungibleToken : -IndexOfOwnerByTokenKey(owner,tokenId)\r\n",
       "NonFungibleToken : -LogApproval(owner,approved,tokenId)\r\n",
       "NonFungibleToken : -LogApprovalForAll(owner,operatorAddress,approved)\r\n",
       "NonFungibleToken : -LogTransfer(from,to,tokenId)\r\n",
       "NonFungibleToken : -RemoveNFToken(from,tokenId)\r\n",
       "NonFungibleToken : -SafeTransferFromInternal(from,to,tokenId,data)\r\n",
       "NonFungibleToken : -set_Name(value)\r\n",
       "NonFungibleToken : -set_NextTokenId(value)\r\n",
       "NonFungibleToken : -set_Owner(value)\r\n",
       "NonFungibleToken : -set_Symbol(value)\r\n",
       "NonFungibleToken : -set_TotalSupply(value)\r\n",
       "NonFungibleToken : -SetIdToApproval(id,value)\r\n",
       "NonFungibleToken : -SetIdToOwner(id,value)\r\n",
       "NonFungibleToken : -SetIndexByToken(token,index)\r\n",
       "NonFungibleToken : -SetIndexOfOwnerByToken(owner,tokenId,index)\r\n",
       "NonFungibleToken : -SetOwnerToNFTokenCount(address,value)\r\n",
       "NonFungibleToken : -SetOwnerToOperator(owner,operatorAddress,value)\r\n",
       "NonFungibleToken : -SetSupportedInterfaces(interfaceId,value)\r\n",
       "NonFungibleToken : -SetTokenByIndex(index,token)\r\n",
       "NonFungibleToken : -SetTokenOfOwnerByIndex(owner,index,tokenId)\r\n",
       "NonFungibleToken : -TransferInternal(to,tokenId)\r\n",
       "NonFungibleToken : -ValidNFToken(tokenId)\r\n",
       "class STOContract.SalePeriodInput\r\n",
       "class STOContract.SalePeriod\r\n",
       "class STOContract.SaleInfo\r\n",
       "class STOContract.STOSetupLog\r\n",
       "class STOContract.InvestLog\r\n",
       "class STOContract.Claim\r\n",
       "class StandardToken.TransferLog\r\n",
       "class StandardToken.ApprovalLog\r\n",
       "class DividendToken.Account\r\n",
       "class DividendToken.TransferLog\r\n",
       "class DividendToken.ApprovalLog\r\n",
       "class NonFungibleToken.TransferLog\r\n",
       "class NonFungibleToken.ApprovalLog\r\n",
       "class NonFungibleToken.ApprovalForAllLog\r\n",
       "class NonFungibleToken.OwnershipTransferedLog\r\n",
       "`, \r\n",
       "            g => {\r\n",
       "                renderTarget.innerHTML = g \r\n",
       "            });\r\n",
       "    },\r\n",
       "    (error) => {\r\n",
       "        console.log(error);\r\n",
       "    });\r\n",
       "}\r\n",
       "// ensure `require` is available globally\r\n",
       "if ((typeof(require) !==  typeof(Function)) || (typeof(require.config) !== typeof(Function))) {\r\n",
       "    let require_script = document.createElement('script');\r\n",
       "    require_script.setAttribute('src', 'https://cdnjs.cloudflare.com/ajax/libs/require.js/2.3.6/require.min.js');\r\n",
       "    require_script.setAttribute('type', 'text/javascript');\r\n",
       "    \r\n",
       "    \r\n",
       "    require_script.onload = function() {\r\n",
       "        loadMermaid_3428af718c58403296fd5e761b928fd0();\r\n",
       "    };\r\n",
       "\r\n",
       "    document.getElementsByTagName('head')[0].appendChild(require_script);\r\n",
       "}\r\n",
       "else {\r\n",
       "    loadMermaid_3428af718c58403296fd5e761b928fd0();\r\n",
       "}\r\n",
       "\r\n",
       "</script>\r\n",
       "<div id=\"3428af718c58403296fd5e761b928fd0\"></div>\r\n",
       "</div>\r\n"
      ]
     },
     "execution_count": 5,
     "metadata": {},
     "output_type": "execute_result"
    }
   ],
   "source": [
    "an.GetSummary()"
   ]
  },
  {
   "cell_type": "code",
   "execution_count": null,
   "id": "38184724",
   "metadata": {
    "vscode": {
     "languageId": "csharp"
    }
   },
   "outputs": [],
   "source": [
    "an.GetCallGraph()"
   ]
  },
  {
   "cell_type": "code",
   "execution_count": null,
   "id": "c8f70aa9",
   "metadata": {
    "scrolled": false,
    "vscode": {
     "languageId": "csharp"
    }
   },
   "outputs": [],
   "source": [
    "an.GetControlFlowGraph()"
   ]
  },
  {
   "cell_type": "code",
   "execution_count": null,
   "id": "f0f24ebe",
   "metadata": {
    "scrolled": true,
    "vscode": {
     "languageId": "csharp"
    }
   },
   "outputs": [],
   "source": [
    "an = IL.GetAnalyzer(@\"..\\examples\\DAOContract\\bin\\Debug\\netcoreapp2.1\\DAOContract.dll\");\n",
    "an.GetSummary()"
   ]
  },
  {
   "cell_type": "code",
   "execution_count": null,
   "id": "e4d3b978",
   "metadata": {
    "vscode": {
     "languageId": "csharp"
    }
   },
   "outputs": [],
   "source": [
    "an.GetCallGraph()"
   ]
  }
 ],
 "metadata": {
  "kernelspec": {
   "display_name": ".NET (C#)",
   "language": "C#",
   "name": ".net-csharp"
  },
  "language_info": {
   "file_extension": ".cs",
   "mimetype": "text/x-csharp",
   "name": "C#",
   "pygments_lexer": "csharp",
   "version": "10.0"
  }
 },
 "nbformat": 4,
 "nbformat_minor": 5
}
