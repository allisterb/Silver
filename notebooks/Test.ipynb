{
 "cells": [
  {
   "cell_type": "code",
   "execution_count": 1,
   "id": "1a995c17",
   "metadata": {},
   "outputs": [
    {
     "data": {
      "text/html": [
       "\r\n",
       "<div>\r\n",
       "    <div id='dotnet-interactive-this-cell-2324.Microsoft.DotNet.Interactive.Http.HttpPort' style='display: none'>\r\n",
       "        The below script needs to be able to find the current output cell; this is an easy method to get it.\r\n",
       "    </div>\r\n",
       "    <script type='text/javascript'>\r\n",
       "async function probeAddresses(probingAddresses) {\r\n",
       "    function timeout(ms, promise) {\r\n",
       "        return new Promise(function (resolve, reject) {\r\n",
       "            setTimeout(function () {\r\n",
       "                reject(new Error('timeout'))\r\n",
       "            }, ms)\r\n",
       "            promise.then(resolve, reject)\r\n",
       "        })\r\n",
       "    }\r\n",
       "\r\n",
       "    if (Array.isArray(probingAddresses)) {\r\n",
       "        for (let i = 0; i < probingAddresses.length; i++) {\r\n",
       "\r\n",
       "            let rootUrl = probingAddresses[i];\r\n",
       "\r\n",
       "            if (!rootUrl.endsWith('/')) {\r\n",
       "                rootUrl = `${rootUrl}/`;\r\n",
       "            }\r\n",
       "\r\n",
       "            try {\r\n",
       "                let response = await timeout(1000, fetch(`${rootUrl}discovery`, {\r\n",
       "                    method: 'POST',\r\n",
       "                    cache: 'no-cache',\r\n",
       "                    mode: 'cors',\r\n",
       "                    timeout: 1000,\r\n",
       "                    headers: {\r\n",
       "                        'Content-Type': 'text/plain'\r\n",
       "                    },\r\n",
       "                    body: probingAddresses[i]\r\n",
       "                }));\r\n",
       "\r\n",
       "                if (response.status == 200) {\r\n",
       "                    return rootUrl;\r\n",
       "                }\r\n",
       "            }\r\n",
       "            catch (e) { }\r\n",
       "        }\r\n",
       "    }\r\n",
       "}\r\n",
       "\r\n",
       "function loadDotnetInteractiveApi() {\r\n",
       "    probeAddresses([\"http://192.168.1.189:1000/\", \"http://172.21.144.1:1000/\", \"http://127.0.0.1:1000/\"])\r\n",
       "        .then((root) => {\r\n",
       "        // use probing to find host url and api resources\r\n",
       "        // load interactive helpers and language services\r\n",
       "        let dotnetInteractiveRequire = require.config({\r\n",
       "        context: '2324.Microsoft.DotNet.Interactive.Http.HttpPort',\r\n",
       "                paths:\r\n",
       "            {\r\n",
       "                'dotnet-interactive': `${root}resources`\r\n",
       "                }\r\n",
       "        }) || require;\r\n",
       "\r\n",
       "            window.dotnetInteractiveRequire = dotnetInteractiveRequire;\r\n",
       "\r\n",
       "            window.configureRequireFromExtension = function(extensionName, extensionCacheBuster) {\r\n",
       "                let paths = {};\r\n",
       "                paths[extensionName] = `${root}extensions/${extensionName}/resources/`;\r\n",
       "                \r\n",
       "                let internalRequire = require.config({\r\n",
       "                    context: extensionCacheBuster,\r\n",
       "                    paths: paths,\r\n",
       "                    urlArgs: `cacheBuster=${extensionCacheBuster}`\r\n",
       "                    }) || require;\r\n",
       "\r\n",
       "                return internalRequire\r\n",
       "            };\r\n",
       "        \r\n",
       "            dotnetInteractiveRequire([\r\n",
       "                    'dotnet-interactive/dotnet-interactive'\r\n",
       "                ],\r\n",
       "                function (dotnet) {\r\n",
       "                    dotnet.init(window);\r\n",
       "                },\r\n",
       "                function (error) {\r\n",
       "                    console.log(error);\r\n",
       "                }\r\n",
       "            );\r\n",
       "        })\r\n",
       "        .catch(error => {console.log(error);});\r\n",
       "    }\r\n",
       "\r\n",
       "// ensure `require` is available globally\r\n",
       "if ((typeof(require) !==  typeof(Function)) || (typeof(require.config) !== typeof(Function))) {\r\n",
       "    let require_script = document.createElement('script');\r\n",
       "    require_script.setAttribute('src', 'https://cdnjs.cloudflare.com/ajax/libs/require.js/2.3.6/require.min.js');\r\n",
       "    require_script.setAttribute('type', 'text/javascript');\r\n",
       "    \r\n",
       "    \r\n",
       "    require_script.onload = function() {\r\n",
       "        loadDotnetInteractiveApi();\r\n",
       "    };\r\n",
       "\r\n",
       "    document.getElementsByTagName('head')[0].appendChild(require_script);\r\n",
       "}\r\n",
       "else {\r\n",
       "    loadDotnetInteractiveApi();\r\n",
       "}\r\n",
       "\r\n",
       "    </script>\r\n",
       "</div>"
      ]
     },
     "metadata": {},
     "output_type": "display_data"
    },
    {
     "data": {
      "text/markdown": [
       "Added formatter for AGL graphs using VisJS to .NET Interactive kernel csharp."
      ]
     },
     "metadata": {},
     "output_type": "display_data"
    },
    {
     "data": {
      "text/markdown": [
       "Added formatter for Mermaid language to .NET Interactive kernel csharp."
      ]
     },
     "metadata": {},
     "output_type": "display_data"
    },
    {
     "data": {
      "text/markdown": [
       "Added formatter for DOT language to .NET Interactive kernel csharp."
      ]
     },
     "metadata": {},
     "output_type": "display_data"
    },
    {
     "data": {
      "text/markdown": [
       "Added formatter for VisJS networks to .NET Interactive kernel csharp."
      ]
     },
     "metadata": {},
     "output_type": "display_data"
    }
   ],
   "source": [
    "#load \"DotNetInteractive.csx\""
   ]
  },
  {
   "cell_type": "code",
   "execution_count": 2,
   "id": "7725ee91",
   "metadata": {},
   "outputs": [],
   "source": [
    "using Silver;\n",
    "using Silver.Notebooks;\n",
    "using Silver.Drawing.VisJS;"
   ]
  },
  {
   "cell_type": "code",
   "execution_count": 9,
   "id": "f0f24ebe",
   "metadata": {
    "scrolled": true
   },
   "outputs": [
    {
     "name": "stdout",
     "output_type": "stream",
     "text": [
      "[INFO] Target assembly is ..\\examples\\PingPongContract\\bin\\Debug\\netcoreapp3.1\\PingPongContract.dll.\n",
      "[INFO] Creating call graph for methods in assembly PingPongContract.dll...\n",
      "[WARN] The method () was not analyzed.\n",
      "[WARN] The method <Player>() was not analyzed.\n",
      "[WARN] The method <Starter.GameCreated>() was not analyzed.\n",
      "[INFO] Creating call graph for methods in assembly PingPongContract.dll completed in 42ms.\n"
     ]
    },
    {
     "data": {
      "text/html": [
       "<div>\r\n",
       "<script type=\"text/javascript\">\r\n",
       "loadVisjs_b50f10b4b2dd4ca4b05860442a3f8112 = () => {\r\n",
       "(require.config({ 'paths': { 'context': '0.0.0', 'visjs' : 'https://visjs.github.io/vis-network/standalone/umd/vis-network.min', 'urlArgs': 'cacheBuster=b63787dd99ba459399096b3552d8d605' }}) || require)(['visjs'], (visjs) => {\r\n",
       "\r\n",
       "        let container = document.getElementById('b50f10b4b2dd4ca4b05860442a3f8112');\r\n",
       "        let data = {\r\n",
       "                        nodes: new visjs.DataSet([{\"id\":\"Starter.StartGame\",\"size\":150,\"label\":\"Starter.StartGame\",\"color\":{\"background\":\"#ffff00\"},\"shape\":\"box\",\"font\":{\"face\":\"monospace\",\"align\":\"left\"}},{\"id\":\"Player.PingsReceived.set\",\"size\":150,\"label\":\"Player.PingsReceived.set\",\"color\":{\"background\":\"#ffffff\"},\"shape\":\"box\",\"font\":{\"face\":\"monospace\",\"align\":\"left\"}},{\"id\":\"Player.GameName.get\",\"size\":150,\"label\":\"Player.GameName.get\",\"color\":{\"background\":\"#ffff00\"},\"shape\":\"box\",\"font\":{\"face\":\"monospace\",\"align\":\"left\"}},{\"id\":\"Player.IsFinished\",\"size\":150,\"label\":\"Player.IsFinished\",\"color\":{\"background\":\"#ffff00\"},\"shape\":\"box\",\"font\":{\"face\":\"monospace\",\"align\":\"left\"}},{\"id\":\"Player.PlayerAddress.set\",\"size\":150,\"label\":\"Player.PlayerAddress.set\",\"color\":{\"background\":\"#ffffff\"},\"shape\":\"box\",\"font\":{\"face\":\"monospace\",\"align\":\"left\"}},{\"id\":\"Player.SendPing\",\"size\":150,\"label\":\"Player.SendPing\",\"color\":{\"background\":\"#ffff00\"},\"shape\":\"box\",\"font\":{\"face\":\"monospace\",\"align\":\"left\"}},{\"id\":\"Starter..ctor\",\"size\":150,\"label\":\"Starter..ctor\",\"color\":{\"background\":\"#ffff00\"},\"shape\":\"box\",\"font\":{\"face\":\"monospace\",\"align\":\"left\"}},{\"id\":\"Player..ctor\",\"size\":150,\"label\":\"Player..ctor\",\"color\":{\"background\":\"#ffff00\"},\"shape\":\"box\",\"font\":{\"face\":\"monospace\",\"align\":\"left\"}},{\"id\":\"Player.Opponent.get\",\"size\":150,\"label\":\"Player.Opponent.get\",\"color\":{\"background\":\"#ffff00\"},\"shape\":\"box\",\"font\":{\"face\":\"monospace\",\"align\":\"left\"}},{\"id\":\"Player.Opponent.set\",\"size\":150,\"label\":\"Player.Opponent.set\",\"color\":{\"background\":\"#ffffff\"},\"shape\":\"box\",\"font\":{\"face\":\"monospace\",\"align\":\"left\"}},{\"id\":\"Player.PingsReceived.get\",\"size\":150,\"label\":\"Player.PingsReceived.get\",\"color\":{\"background\":\"#ffff00\"},\"shape\":\"box\",\"font\":{\"face\":\"monospace\",\"align\":\"left\"}},{\"id\":\"Player.PingsSent.set\",\"size\":150,\"label\":\"Player.PingsSent.set\",\"color\":{\"background\":\"#ffffff\"},\"shape\":\"box\",\"font\":{\"face\":\"monospace\",\"align\":\"left\"}},{\"id\":\"Player.FinishGame\",\"size\":150,\"label\":\"Player.FinishGame\",\"color\":{\"background\":\"#ffff00\"},\"shape\":\"box\",\"font\":{\"face\":\"monospace\",\"align\":\"left\"}},{\"id\":\"Player.ReceivePing\",\"size\":150,\"label\":\"Player.ReceivePing\",\"color\":{\"background\":\"#ffff00\"},\"shape\":\"box\",\"font\":{\"face\":\"monospace\",\"align\":\"left\"}},{\"id\":\"Player.GameName.set\",\"size\":150,\"label\":\"Player.GameName.set\",\"color\":{\"background\":\"#ffffff\"},\"shape\":\"box\",\"font\":{\"face\":\"monospace\",\"align\":\"left\"}},{\"id\":\"Player.State.get\",\"size\":150,\"label\":\"Player.State.get\",\"color\":{\"background\":\"#ffff00\"},\"shape\":\"box\",\"font\":{\"face\":\"monospace\",\"align\":\"left\"}},{\"id\":\"Player.State.set\",\"size\":150,\"label\":\"Player.State.set\",\"color\":{\"background\":\"#ffffff\"},\"shape\":\"box\",\"font\":{\"face\":\"monospace\",\"align\":\"left\"}},{\"id\":\"Player.PingsSent.get\",\"size\":150,\"label\":\"Player.PingsSent.get\",\"color\":{\"background\":\"#ffff00\"},\"shape\":\"box\",\"font\":{\"face\":\"monospace\",\"align\":\"left\"}},{\"id\":\"Player.PlayerAddress.get\",\"size\":150,\"label\":\"Player.PlayerAddress.get\",\"color\":{\"background\":\"#ffff00\"},\"shape\":\"box\",\"font\":{\"face\":\"monospace\",\"align\":\"left\"}}]), \r\n",
       "                        edges: new visjs.DataSet([{\"from\":\"Player.IsFinished\",\"to\":\"Player.State.get\"},{\"from\":\"Player.SendPing\",\"to\":\"Player.PingsSent.get\"},{\"from\":\"Player.SendPing\",\"to\":\"Player.Opponent.get\"},{\"from\":\"Player.SendPing\",\"to\":\"Player.Opponent.get\"},{\"from\":\"Player.SendPing\",\"to\":\"Player.PingsSent.set\"},{\"from\":\"Player.SendPing\",\"to\":\"Player.PlayerAddress.get\"},{\"from\":\"Player.SendPing\",\"to\":\"Player.State.set\"},{\"from\":\"Player.SendPing\",\"to\":\"Player.State.set\"},{\"from\":\"Player.SendPing\",\"to\":\"Player.State.get\"},{\"from\":\"Player.SendPing\",\"to\":\"Player.State.get\"},{\"from\":\"Player..ctor\",\"to\":\"Player.Opponent.set\"},{\"from\":\"Player..ctor\",\"to\":\"Player.PlayerAddress.set\"},{\"from\":\"Player..ctor\",\"to\":\"Player.GameName.set\"},{\"from\":\"Player..ctor\",\"to\":\"Player.State.set\"},{\"from\":\"Player.FinishGame\",\"to\":\"Player.PlayerAddress.get\"},{\"from\":\"Player.FinishGame\",\"to\":\"Player.State.set\"},{\"from\":\"Player.ReceivePing\",\"to\":\"Player.PingsReceived.get\"},{\"from\":\"Player.ReceivePing\",\"to\":\"Player.PingsReceived.set\"},{\"from\":\"Player.ReceivePing\",\"to\":\"Player.Opponent.get\"},{\"from\":\"Player.ReceivePing\",\"to\":\"Player.State.set\"},{\"from\":\"Player.ReceivePing\",\"to\":\"Player.State.get\"},{\"from\":\"Player.ReceivePing\",\"to\":\"Player.State.get\"}])\r\n",
       "                    };\r\n",
       "        let options = {\"autoResize\":false,\"manipulation\":false,\"width\":\"100%\",\"height\":\"600px\",\"layout\":{\"improvedLayout\":true,\"hierarchical\":{\"enabled\":true,\"sortMethod\":\"directed\",\"direction\":\"UD\",\"nodeSpacing\":300,\"levelSeparation\":300}},\"physics\":{\"hierarchicalRepulsion\":{\"nodeDistance\":300,\"avoidOverlap\":1.0}},\"edges\":{\"arrows\":{\"to\":{\"enabled\":true}},\"smooth\":{\"enabled\":true}},\"interaction\":{\"navigationButtons\":true}};\r\n",
       "        let network = new visjs.Network(container, data, options); \r\n",
       "        },\r\n",
       "        (error) => {\r\n",
       "            console.log(error);\r\n",
       "        });\r\n",
       "        }\r\n",
       "// ensure `require` is available globally\r\n",
       "if ((typeof(require) !==  typeof(Function)) || (typeof(require.config) !== typeof(Function))) {\r\n",
       "    let require_script = document.createElement('script');\r\n",
       "    require_script.setAttribute('src', 'https://cdnjs.cloudflare.com/ajax/libs/require.js/2.3.6/require.min.js');\r\n",
       "    require_script.setAttribute('type', 'text/javascript');\r\n",
       "    \r\n",
       "    \r\n",
       "    require_script.onload = function() {\r\n",
       "        loadVisjs_b50f10b4b2dd4ca4b05860442a3f8112();\r\n",
       "    };\r\n",
       "\r\n",
       "    document.getElementsByTagName('head')[0].appendChild(require_script);\r\n",
       "}\r\n",
       "else {\r\n",
       "    loadVisjs_b50f10b4b2dd4ca4b05860442a3f8112();\r\n",
       "}\r\n",
       "\r\n",
       "</script>\r\n",
       "<div id=\"b50f10b4b2dd4ca4b05860442a3f8112\" style=\"height:600px; width:100%\"></div>\r\n",
       "</div>\r\n"
      ]
     },
     "execution_count": 9,
     "metadata": {},
     "output_type": "execute_result"
    }
   ],
   "source": [
    "var an = IL.GetAnalyzer(@\"..\\examples\\PingPongContract\\bin\\Debug\\netcoreapp3.1\\PingPongContract.dll\");\n",
    "var g = an.GetCallGraph();\n",
    "g"
   ]
  },
  {
   "cell_type": "code",
   "execution_count": null,
   "id": "bd268f48",
   "metadata": {},
   "outputs": [],
   "source": [
    "var s = g.GetSummary();\n",
    "s"
   ]
  }
 ],
 "metadata": {
  "kernelspec": {
   "display_name": ".NET (C#)",
   "language": "C#",
   "name": ".net-csharp"
  },
  "language_info": {
   "file_extension": ".cs",
   "mimetype": "text/x-csharp",
   "name": "C#",
   "pygments_lexer": "csharp",
   "version": "10.0"
  }
 },
 "nbformat": 4,
 "nbformat_minor": 5
}
