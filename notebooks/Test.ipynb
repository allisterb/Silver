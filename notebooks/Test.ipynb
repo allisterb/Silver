{
 "cells": [
  {
   "cell_type": "code",
   "execution_count": 1,
   "id": "1a995c17",
   "metadata": {},
   "outputs": [
    {
     "data": {
      "text/html": [
       "\r\n",
       "<div>\r\n",
       "    <div id='dotnet-interactive-this-cell-9384.Microsoft.DotNet.Interactive.Http.HttpPort' style='display: none'>\r\n",
       "        The below script needs to be able to find the current output cell; this is an easy method to get it.\r\n",
       "    </div>\r\n",
       "    <script type='text/javascript'>\r\n",
       "async function probeAddresses(probingAddresses) {\r\n",
       "    function timeout(ms, promise) {\r\n",
       "        return new Promise(function (resolve, reject) {\r\n",
       "            setTimeout(function () {\r\n",
       "                reject(new Error('timeout'))\r\n",
       "            }, ms)\r\n",
       "            promise.then(resolve, reject)\r\n",
       "        })\r\n",
       "    }\r\n",
       "\r\n",
       "    if (Array.isArray(probingAddresses)) {\r\n",
       "        for (let i = 0; i < probingAddresses.length; i++) {\r\n",
       "\r\n",
       "            let rootUrl = probingAddresses[i];\r\n",
       "\r\n",
       "            if (!rootUrl.endsWith('/')) {\r\n",
       "                rootUrl = `${rootUrl}/`;\r\n",
       "            }\r\n",
       "\r\n",
       "            try {\r\n",
       "                let response = await timeout(1000, fetch(`${rootUrl}discovery`, {\r\n",
       "                    method: 'POST',\r\n",
       "                    cache: 'no-cache',\r\n",
       "                    mode: 'cors',\r\n",
       "                    timeout: 1000,\r\n",
       "                    headers: {\r\n",
       "                        'Content-Type': 'text/plain'\r\n",
       "                    },\r\n",
       "                    body: probingAddresses[i]\r\n",
       "                }));\r\n",
       "\r\n",
       "                if (response.status == 200) {\r\n",
       "                    return rootUrl;\r\n",
       "                }\r\n",
       "            }\r\n",
       "            catch (e) { }\r\n",
       "        }\r\n",
       "    }\r\n",
       "}\r\n",
       "\r\n",
       "function loadDotnetInteractiveApi() {\r\n",
       "    probeAddresses([\"http://192.168.1.189:1000/\", \"http://172.21.144.1:1000/\", \"http://127.0.0.1:1000/\"])\r\n",
       "        .then((root) => {\r\n",
       "        // use probing to find host url and api resources\r\n",
       "        // load interactive helpers and language services\r\n",
       "        let dotnetInteractiveRequire = require.config({\r\n",
       "        context: '9384.Microsoft.DotNet.Interactive.Http.HttpPort',\r\n",
       "                paths:\r\n",
       "            {\r\n",
       "                'dotnet-interactive': `${root}resources`\r\n",
       "                }\r\n",
       "        }) || require;\r\n",
       "\r\n",
       "            window.dotnetInteractiveRequire = dotnetInteractiveRequire;\r\n",
       "\r\n",
       "            window.configureRequireFromExtension = function(extensionName, extensionCacheBuster) {\r\n",
       "                let paths = {};\r\n",
       "                paths[extensionName] = `${root}extensions/${extensionName}/resources/`;\r\n",
       "                \r\n",
       "                let internalRequire = require.config({\r\n",
       "                    context: extensionCacheBuster,\r\n",
       "                    paths: paths,\r\n",
       "                    urlArgs: `cacheBuster=${extensionCacheBuster}`\r\n",
       "                    }) || require;\r\n",
       "\r\n",
       "                return internalRequire\r\n",
       "            };\r\n",
       "        \r\n",
       "            dotnetInteractiveRequire([\r\n",
       "                    'dotnet-interactive/dotnet-interactive'\r\n",
       "                ],\r\n",
       "                function (dotnet) {\r\n",
       "                    dotnet.init(window);\r\n",
       "                },\r\n",
       "                function (error) {\r\n",
       "                    console.log(error);\r\n",
       "                }\r\n",
       "            );\r\n",
       "        })\r\n",
       "        .catch(error => {console.log(error);});\r\n",
       "    }\r\n",
       "\r\n",
       "// ensure `require` is available globally\r\n",
       "if ((typeof(require) !==  typeof(Function)) || (typeof(require.config) !== typeof(Function))) {\r\n",
       "    let require_script = document.createElement('script');\r\n",
       "    require_script.setAttribute('src', 'https://cdnjs.cloudflare.com/ajax/libs/require.js/2.3.6/require.min.js');\r\n",
       "    require_script.setAttribute('type', 'text/javascript');\r\n",
       "    \r\n",
       "    \r\n",
       "    require_script.onload = function() {\r\n",
       "        loadDotnetInteractiveApi();\r\n",
       "    };\r\n",
       "\r\n",
       "    document.getElementsByTagName('head')[0].appendChild(require_script);\r\n",
       "}\r\n",
       "else {\r\n",
       "    loadDotnetInteractiveApi();\r\n",
       "}\r\n",
       "\r\n",
       "    </script>\r\n",
       "</div>"
      ]
     },
     "metadata": {},
     "output_type": "display_data"
    },
    {
     "data": {
      "text/markdown": [
       "Added formatter for DOT language to .NET Interactive kernel csharp."
      ]
     },
     "metadata": {},
     "output_type": "display_data"
    },
    {
     "data": {
      "text/markdown": [
       "Added formatter for Mermaid language to .NET Interactive kernel csharp."
      ]
     },
     "metadata": {},
     "output_type": "display_data"
    },
    {
     "data": {
      "text/markdown": [
       "Added formatter for AGL graphs using VisJS to .NET Interactive kernel csharp."
      ]
     },
     "metadata": {},
     "output_type": "display_data"
    },
    {
     "data": {
      "text/markdown": [
       "Added formatter for VisJS networks to .NET Interactive kernel csharp."
      ]
     },
     "metadata": {},
     "output_type": "display_data"
    }
   ],
   "source": [
    "#load \"DotNetInteractive.csx\""
   ]
  },
  {
   "cell_type": "code",
   "execution_count": 2,
   "id": "7725ee91",
   "metadata": {},
   "outputs": [],
   "source": [
    "using Silver;\n",
    "using Silver.Notebooks;\n",
    "using Silver.Drawing.VisJS;"
   ]
  },
  {
   "cell_type": "code",
   "execution_count": 3,
   "id": "bed6df7e",
   "metadata": {},
   "outputs": [
    {
     "data": {
      "text/html": [
       "<div>\r\n",
       "<script type=\"text/javascript\">\r\n",
       "loadVisjs_683ed12e306b4da8806de80d3e1d219c = () => {\r\n",
       "(require.config({ 'paths': { 'context': '0.0.0', 'visjs' : 'https://visjs.github.io/vis-network/standalone/umd/vis-network.min', 'urlArgs': 'cacheBuster=39fdec2fa2644248be2f560118e2b7d3' }}) || require)(['visjs'], (visjs) => {\r\n",
       "\r\n",
       "        let container = document.getElementById('683ed12e306b4da8806de80d3e1d219c');\r\n",
       "        let data = {\r\n",
       "                        nodes: new visjs.DataSet([{\"id\":\"1\",\"label\":\"Node 1\",\"shape\":\"box\"},{\"id\":\"2\",\"label\":\"Node 2\",\"shape\":\"box\"},{\"id\":\"3\",\"label\":\"Node 3\",\"shape\":\"box\"},{\"id\":\"4\",\"label\":\"Node 4\",\"shape\":\"box\"},{\"id\":\"5\",\"label\":\"Node 5\",\"shape\":\"box\"}]), \r\n",
       "                        edges: new visjs.DataSet([{\"from\":\"1\",\"to\":\"3\"},{\"from\":\"1\",\"to\":\"2\"},{\"from\":\"2\",\"to\":\"4\"},{\"from\":\"2\",\"to\":\"5\"},{\"from\":\"3\",\"to\":\"3\"}])\r\n",
       "                    };\r\n",
       "        let options = {\"manipulation\":false,\"width\":\"100%\",\"height\":\"600px\"};\r\n",
       "        let network = new visjs.Network(container, data, options); \r\n",
       "        },\r\n",
       "        (error) => {\r\n",
       "            console.log(error);\r\n",
       "        });\r\n",
       "        }\r\n",
       "// ensure `require` is available globally\r\n",
       "if ((typeof(require) !==  typeof(Function)) || (typeof(require.config) !== typeof(Function))) {\r\n",
       "    let require_script = document.createElement('script');\r\n",
       "    require_script.setAttribute('src', 'https://cdnjs.cloudflare.com/ajax/libs/require.js/2.3.6/require.min.js');\r\n",
       "    require_script.setAttribute('type', 'text/javascript');\r\n",
       "    \r\n",
       "    \r\n",
       "    require_script.onload = function() {\r\n",
       "        loadVisjs_683ed12e306b4da8806de80d3e1d219c();\r\n",
       "    };\r\n",
       "\r\n",
       "    document.getElementsByTagName('head')[0].appendChild(require_script);\r\n",
       "}\r\n",
       "else {\r\n",
       "    loadVisjs_683ed12e306b4da8806de80d3e1d219c();\r\n",
       "}\r\n",
       "\r\n",
       "</script>\r\n",
       "<div id=\"683ed12e306b4da8806de80d3e1d219c\" style=\"height:600px; width:100%\"></div>\r\n",
       "</div>\r\n"
      ]
     },
     "execution_count": 3,
     "metadata": {},
     "output_type": "execute_result"
    }
   ],
   "source": [
    "var n = Network.LoadFrom(\"n.json\");\n",
    "n"
   ]
  },
  {
   "cell_type": "code",
   "execution_count": 14,
   "id": "f0f24ebe",
   "metadata": {
    "scrolled": true
   },
   "outputs": [
    {
     "name": "stdout",
     "output_type": "stream",
     "text": [
      "[INFO] Target assembly is ..\\examples\\PingPongContract\\bin\\Debug\\netcoreapp3.1\\PingPongContract.dll.\n",
      "[INFO] Creating control-flow graph for methods in assembly PingPongContract.dll...\n",
      "[INFO] Created CFG nodes for method Player.PingsReceived.get().\n",
      "[INFO] Created CFG nodes for method Player.FinishGame().\n",
      "[INFO] Created CFG nodes for method Player.Opponent.set(Stratis.SmartContracts.Address).\n",
      "[INFO] Created CFG nodes for method Player.PingsReceived.set(System.UInt32).\n",
      "[INFO] Created CFG nodes for method Player.ReceivePing().\n",
      "[INFO] Created CFG nodes for method Player.PlayerAddress.set(Stratis.SmartContracts.Address).\n",
      "[INFO] Created CFG nodes for method Player.PingsSent.get().\n",
      "[INFO] Created CFG nodes for method Player.Opponent.get().\n",
      "[INFO] Created CFG nodes for method Player..ctor(Stratis.SmartContracts.ISmartContractState, Stratis.SmartContracts.Address, Stratis.SmartContracts.Address, System.String).\n",
      "[INFO] Created CFG nodes for method Player.GameName.get().\n",
      "[INFO] Created CFG nodes for method Player.SendPing().\n",
      "[INFO] Created CFG nodes for method Player.PingsSent.set(System.UInt32).\n",
      "[INFO] Created CFG nodes for method Player.PlayerAddress.get().\n",
      "[INFO] Created CFG nodes for method Player.GameName.set(System.String).\n",
      "[INFO] Created CFG nodes for method Player.IsFinished().\n",
      "[INFO] Created CFG nodes for method Player.State.set(System.UInt32).\n",
      "[INFO] Created CFG nodes for method Player.State.get().\n",
      "[INFO] Created CFG nodes for method Starter.StartGame(Stratis.SmartContracts.Address, Stratis.SmartContracts.Address, System.String).\n",
      "[INFO] Created CFG nodes for method Starter..ctor(Stratis.SmartContracts.ISmartContractState).\n",
      "[INFO] Creating control-flow graph for methods in assembly PingPongContract.dll completed in 5ms.\n"
     ]
    },
    {
     "data": {
      "text/html": [
       "<div>\r\n",
       "<script type=\"text/javascript\">\r\n",
       "loadVisjs_4215cef0b59d40d19523700cd5f47766 = () => {\r\n",
       "(require.config({ 'paths': { 'context': '0.0.0', 'visjs' : 'https://visjs.github.io/vis-network/standalone/umd/vis-network.min', 'urlArgs': 'cacheBuster=0aba7cda43a54fbe8629935b2a0d7821' }}) || require)(['visjs'], (visjs) => {\r\n",
       "\r\n",
       "        let container = document.getElementById('4215cef0b59d40d19523700cd5f47766');\r\n",
       "        let data = {\r\n",
       "                        nodes: new visjs.DataSet([{\"id\":\"Player.GameName.get()::0\",\"size\":150,\"label\":\"Player.GameName.get()\\r\\nLocation: PingPong.cs(49:16)-(49:59)\",\"color\":{\"background\":\"#ffff00\"},\"shape\":\"box\",\"font\":{\"face\":\"monospace\",\"align\":\"left\"}},{\"id\":\"Player.State.get()::0\",\"size\":150,\"label\":\"Player.State.get()\\r\\nLocation: PingPong.cs(30:16)-(30:56)\",\"color\":{\"background\":\"#ffff00\"},\"shape\":\"box\",\"font\":{\"face\":\"monospace\",\"align\":\"left\"}},{\"id\":\"Player.SendPing()::3\",\"size\":150,\"label\":\"Node ID: Player.SendPing()::3\\r\\nIL_0038: Ldc_I4_1 1\\r\\n\",\"color\":{\"background\":\"#ffffff\"},\"shape\":\"box\",\"font\":{\"face\":\"monospace\",\"align\":\"left\"}},{\"id\":\"Player.SendPing()::7\",\"size\":150,\"label\":\"Node ID: Player.SendPing()::7\\r\\nIL_007c: Nop\\r\\nIL_007d: Ldarg_0\\r\\nIL_007e: Ldc_I4_3 3\\r\\nIL_007f: Call [method] System.Void Player.State.set(System.UInt32)\\r\\nIL_0084: Nop\\r\\nIL_0085: Br_S IL_00c9\\r\\n\",\"color\":{\"background\":\"#ffffff\"},\"shape\":\"box\",\"font\":{\"face\":\"monospace\",\"align\":\"left\"}},{\"id\":\"Player..ctor(Stratis.SmartContracts.ISmartContractState, Stratis.SmartContracts.Address, Stratis.SmartContracts.Address, System.String)::2\",\"size\":150,\"label\":\"Node ID: Player..ctor(Stratis.SmartContracts.ISmartContractState, Stratis.SmartContracts.Address, Stratis.SmartContracts.Address, System.String)::2\\r\\nIL_0000: Ldarg_0\\r\\nIL_0001: Ldarg_1 state\\r\\nIL_0002: Call [method] System.Void Stratis.SmartContracts.SmartContract..ctor(Stratis.SmartContracts.ISmartContractState)\\r\\nIL_0007: Nop\\r\\nIL_0008: Nop\\r\\nIL_0009: Ldarg_0\\r\\nIL_000a: Ldarg_2 player\\r\\nIL_000b: Call [method] System.Void Player.PlayerAddress.set(Stratis.SmartContracts.Address)\\r\\nIL_0010: Nop\\r\\nIL_0011: Ldarg_0\\r\\nIL_0012: Ldarg_3 opponent\\r\\nIL_0013: Call [method] System.Void Player.Opponent.set(Stratis.SmartContracts.Address)\\r\\nIL_0018: Nop\\r\\nIL_0019: Ldarg_0\\r\\nIL_001a: Ldarg_S gameName\\r\\nIL_001c: Call [method] System.Void Player.GameName.set(System.String)\\r\\nIL_0021: Nop\\r\\nIL_0022: Ldarg_0\\r\\nIL_0023: Ldc_I4_0 0\\r\\nIL_0024: Call [method] System.Void Player.State.set(System.UInt32)\\r\\nIL_0029: Nop\\r\\nIL_002a: Ret\\r\\n\",\"color\":{\"background\":\"#ffffff\"},\"shape\":\"box\",\"font\":{\"face\":\"monospace\",\"align\":\"left\"}},{\"id\":\"Player.SendPing()::8\",\"size\":150,\"label\":\"Node ID: Player.SendPing()::8\\r\\nIL_00c9: Ret\\r\\n\",\"color\":{\"background\":\"#ffffff\"},\"shape\":\"box\",\"font\":{\"face\":\"monospace\",\"align\":\"left\"}},{\"id\":\"Player.ReceivePing()::3\",\"size\":150,\"label\":\"Node ID: Player.ReceivePing()::3\\r\\nIL_0038: Ldc_I4_1 1\\r\\n\",\"color\":{\"background\":\"#ffffff\"},\"shape\":\"box\",\"font\":{\"face\":\"monospace\",\"align\":\"left\"}},{\"id\":\"Player.PlayerAddress.set(Stratis.SmartContracts.Address)::0\",\"size\":150,\"label\":\"Player.PlayerAddress.set(Stratis.SmartContracts.Address)\\r\\nLocation: PingPong.cs(44:25)-(44:81)\",\"color\":{\"background\":\"#ffffff\"},\"shape\":\"box\",\"font\":{\"face\":\"monospace\",\"align\":\"left\"}},{\"id\":\"Player.FinishGame()::2\",\"size\":150,\"label\":\"Node ID: Player.FinishGame()::2\\r\\nIL_0000: Nop\\r\\nIL_0001: Ldarg_0\\r\\nIL_0002: Ldarg_0\\r\\nIL_0003: Call [get] System.Linq.Enumerable+<TakeRangeFromEndIterator>d__245`1[System.Char].Message\\r\\nIL_0008: Callvirt [get] System.Linq.Enumerable+<TakeRangeFromEndIterator>d__245`1[System.Char].Sender\\r\\nIL_000d: Ldarg_0\\r\\nIL_000e: Call [method] Stratis.SmartContracts.Address Player.PlayerAddress.get()\\r\\nIL_0013: Call [method] System.Boolean Stratis.SmartContracts.Address.op_Equality(Stratis.SmartContracts.Address, Stratis.SmartContracts.Address)\\r\\nIL_0018: Ldstr \\\"Assert failed.\\\"\\r\\nIL_001d: Call [method] System.Void Stratis.SmartContracts.SmartContract.Assert(System.Boolean, System.String)\\r\\nIL_0022: Nop\\r\\nIL_0023: Ldarg_0\\r\\nIL_0024: Ldc_I4_3 3\\r\\nIL_0025: Call [method] System.Void Player.State.set(System.UInt32)\\r\\nIL_002a: Nop\\r\\nIL_002b: Ret\\r\\n\",\"color\":{\"background\":\"#ffffff\"},\"shape\":\"box\",\"font\":{\"face\":\"monospace\",\"align\":\"left\"}},{\"id\":\"Player.ReceivePing()::4\",\"size\":150,\"label\":\"Node ID: Player.ReceivePing()::4\\r\\nIL_002d: Ldarg_0\\r\\nIL_002e: Call [method] System.UInt32 Player.State.get()\\r\\nIL_0033: Ldc_I4_0 0\\r\\nIL_0034: Ceq\\r\\nIL_0036: Br_S IL_0039\\r\\n\",\"color\":{\"background\":\"#ffffff\"},\"shape\":\"box\",\"font\":{\"face\":\"monospace\",\"align\":\"left\"}},{\"id\":\"Starter.StartGame(Stratis.SmartContracts.Address, Stratis.SmartContracts.Address, System.String)::2\",\"size\":150,\"label\":\"Node ID: Starter.StartGame(Stratis.SmartContracts.Address, Stratis.SmartContracts.Address, System.String)::2\\r\\nIL_0000: Nop\\r\\nIL_0001: Ldarg_0\\r\\nIL_0002: Ldc_I4_0 0\\r\\nIL_0003: Conv_I8\\r\\nIL_0004: Ldc_I4_3 3\\r\\nIL_0005: Newarr System.Object[]\\r\\nIL_000a: Dup\\r\\nIL_000b: Ldc_I4_0 0\\r\\nIL_000c: Ldarg_1 player1\\r\\nIL_000d: Box Stratis.SmartContracts.Address\\r\\nIL_0012: Stelem_Ref\\r\\nIL_0013: Dup\\r\\nIL_0014: Ldc_I4_1 1\\r\\nIL_0015: Ldarg_2 player2\\r\\nIL_0016: Box Stratis.SmartContracts.Address\\r\\nIL_001b: Stelem_Ref\\r\\nIL_001c: Dup\\r\\nIL_001d: Ldc_I4_2 2\\r\\nIL_001e: Ldarg_3 gameName\\r\\nIL_001f: Stelem_Ref\\r\\nIL_0020: Ldc_I4_0 0\\r\\nIL_0021: Conv_I8\\r\\nIL_0022: Call [method] Stratis.SmartContracts.ICreateResult Stratis.SmartContracts.SmartContract.Create<Player>(System.UInt64, System.Object[], System.UInt64)\\r\\nIL_0027: Stloc_0 local_0\\r\\nIL_0028: Ldarg_0\\r\\nIL_0029: Ldloc_0 local_0\\r\\nIL_002a: Callvirt [get] System.Linq.Enumerable+<TakeRangeFromEndIterator>d__245`1[System.Char].Success\\r\\nIL_002f: Ldstr \\\"Assert failed.\\\"\\r\\nIL_0034: Call [method] System.Void Stratis.SmartContracts.SmartContract.Assert(System.Boolean, System.String)\\r\\nIL_0039: Nop\\r\\nIL_003a: Ldarg_0\\r\\nIL_003b: Ldc_I4_0 0\\r\\nIL_003c: Conv_I8\\r\\nIL_003d: Ldc_I4_3 3\\r\\nIL_003e: Newarr System.Object[]\\r\\nIL_0043: Dup\\r\\nIL_0044: Ldc_I4_0 0\\r\\nIL_0045: Ldarg_2 player2\\r\\nIL_0046: Box Stratis.SmartContracts.Address\\r\\nIL_004b: Stelem_Ref\\r\\nIL_004c: Dup\\r\\nIL_004d: Ldc_I4_1 1\\r\\nIL_004e: Ldarg_1 player1\\r\\nIL_004f: Box Stratis.SmartContracts.Address\\r\\nIL_0054: Stelem_Ref\\r\\nIL_0055: Dup\\r\\nIL_0056: Ldc_I4_2 2\\r\\nIL_0057: Ldarg_3 gameName\\r\\nIL_0058: Stelem_Ref\\r\\nIL_0059: Ldc_I4_0 0\\r\\nIL_005a: Conv_I8\\r\\nIL_005b: Call [method] Stratis.SmartContracts.ICreateResult Stratis.SmartContracts.SmartContract.Create<Player>(System.UInt64, System.Object[], System.UInt64)\\r\\nIL_0060: Stloc_1 local_1\\r\\nIL_0061: Ldarg_0\\r\\nIL_0062: Ldloc_1 local_1\\r\\nIL_0063: Callvirt [get] System.Linq.Enumerable+<TakeRangeFromEndIterator>d__245`1[System.Char].Success\\r\\nIL_0068: Ldstr \\\"Assert failed.\\\"\\r\\nIL_006d: Call [method] System.Void Stratis.SmartContracts.SmartContract.Assert(System.Boolean, System.String)\\r\\nIL_0072: Nop\\r\\nIL_0073: Ldloca_S local_2\\r\\nIL_0075: Initobj Starter.GameCreated\\r\\nIL_007b: Ldloca_S local_2\\r\\nIL_007d: Ldloc_0 local_0\\r\\nIL_007e: Callvirt [get] System.Linq.Enumerable+<TakeRangeFromEndIterator>d__245`1[System.Char].NewContractAddress\\r\\nIL_0083: Stfld [field] Starter.GameCreated.Player1Contract\\r\\nIL_0088: Ldloca_S local_2\\r\\nIL_008a: Ldloc_1 local_1\\r\\nIL_008b: Callvirt [get] System.Linq.Enumerable+<TakeRangeFromEndIterator>d__245`1[System.Char].NewContractAddress\\r\\nIL_0090: Stfld [field] Starter.GameCreated.Player2Contract\\r\\nIL_0095: Ldloca_S local_2\\r\\nIL_0097: Ldarg_3 gameName\\r\\nIL_0098: Stfld [field] Starter.GameCreated.GameName\\r\\nIL_009d: Ldarg_0\\r\\nIL_009e: Ldloc_2 local_2\\r\\nIL_009f: Call [method] System.Void Stratis.SmartContracts.SmartContract.Log<Starter.GameCreated>(Starter.GameCreated)\\r\\nIL_00a4: Nop\\r\\nIL_00a5: Ret\\r\\n\",\"color\":{\"background\":\"#ffffff\"},\"shape\":\"box\",\"font\":{\"face\":\"monospace\",\"align\":\"left\"}},{\"id\":\"Player..ctor(Stratis.SmartContracts.ISmartContractState, Stratis.SmartContracts.Address, Stratis.SmartContracts.Address, System.String)::0\",\"size\":150,\"label\":\"Player..ctor(Stratis.SmartContracts.ISmartContractState, Stratis.SmartContracts.Address, Stratis.SmartContracts.Address, System.String)\\r\\nLocation: PingPong.cs(12:11)-(12:22)\",\"color\":{\"background\":\"#ffff00\"},\"shape\":\"box\",\"font\":{\"face\":\"monospace\",\"align\":\"left\"}},{\"id\":\"Player.SendPing()::4\",\"size\":150,\"label\":\"Node ID: Player.SendPing()::4\\r\\nIL_002d: Ldarg_0\\r\\nIL_002e: Call [method] System.UInt32 Player.State.get()\\r\\nIL_0033: Ldc_I4_0 0\\r\\nIL_0034: Ceq\\r\\nIL_0036: Br_S IL_0039\\r\\n\",\"color\":{\"background\":\"#ffffff\"},\"shape\":\"box\",\"font\":{\"face\":\"monospace\",\"align\":\"left\"}},{\"id\":\"Player.Opponent.get()::2\",\"size\":150,\"label\":\"Node ID: Player.Opponent.get()::2\\r\\nIL_0000: Ldarg_0\\r\\nIL_0001: Call [get] System.Linq.Enumerable+<TakeRangeFromEndIterator>d__245`1[System.Char].PersistentState\\r\\nIL_0006: Ldstr \\\"Opponent\\\"\\r\\nIL_000b: Callvirt [method] Stratis.SmartContracts.Address Stratis.SmartContracts.IPersistentState.GetAddress(System.String)\\r\\nIL_0010: Ret\\r\\n\",\"color\":{\"background\":\"#ffffff\"},\"shape\":\"box\",\"font\":{\"face\":\"monospace\",\"align\":\"left\"}},{\"id\":\"Player.IsFinished()::3\",\"size\":150,\"label\":\"Node ID: Player.IsFinished()::3\\r\\nIL_000d: Ldloc_0 local_0\\r\\nIL_000e: Ret\\r\\n\",\"color\":{\"background\":\"#ffffff\"},\"shape\":\"box\",\"font\":{\"face\":\"monospace\",\"align\":\"left\"}},{\"id\":\"Player.SendPing()::6\",\"size\":150,\"label\":\"Node ID: Player.SendPing()::6\\r\\nIL_0087: Nop\\r\\nIL_0088: Ldarg_0\\r\\nIL_0089: Ldarg_0\\r\\nIL_008a: Call [method] System.UInt32 Player.PingsSent.get()\\r\\nIL_008f: Ldc_I4_1 1\\r\\nIL_0090: Add\\r\\nIL_0091: Call [method] System.Void Player.PingsSent.set(System.UInt32)\\r\\nIL_0096: Nop\\r\\nIL_0097: Nop\\r\\nIL_0098: Ldarg_0\\r\\nIL_0099: Ldarg_0\\r\\nIL_009a: Call [method] Stratis.SmartContracts.Address Player.Opponent.get()\\r\\nIL_009f: Ldc_I4_0 0\\r\\nIL_00a0: Conv_I8\\r\\nIL_00a1: Ldstr \\\"ReceivePing\\\"\\r\\nIL_00a6: Ldnull\\r\\nIL_00a7: Ldc_I4_0 0\\r\\nIL_00a8: Conv_I8\\r\\nIL_00a9: Call [method] Stratis.SmartContracts.ITransferResult Stratis.SmartContracts.SmartContract.Call(Stratis.SmartContracts.Address, System.UInt64, System.String, System.Object[], System.UInt64)\\r\\nIL_00ae: Stloc_1 local_1\\r\\nIL_00af: Ldarg_0\\r\\nIL_00b0: Ldloc_1 local_1\\r\\nIL_00b1: Callvirt [get] System.Linq.Enumerable+<TakeRangeFromEndIterator>d__245`1[System.Char].Success\\r\\nIL_00b6: Ldstr \\\"Assert failed.\\\"\\r\\nIL_00bb: Call [method] System.Void Stratis.SmartContracts.SmartContract.Assert(System.Boolean, System.String)\\r\\nIL_00c0: Nop\\r\\nIL_00c1: Ldarg_0\\r\\nIL_00c2: Ldc_I4_1 1\\r\\nIL_00c3: Call [method] System.Void Player.State.set(System.UInt32)\\r\\nIL_00c8: Nop\\r\\n\",\"color\":{\"background\":\"#ffffff\"},\"shape\":\"box\",\"font\":{\"face\":\"monospace\",\"align\":\"left\"}},{\"id\":\"Player.PingsSent.get()::0\",\"size\":150,\"label\":\"Player.PingsSent.get()\\r\\nLocation: PingPong.cs(55:16)-(55:60)\",\"color\":{\"background\":\"#ffff00\"},\"shape\":\"box\",\"font\":{\"face\":\"monospace\",\"align\":\"left\"}},{\"id\":\"Player.Opponent.get()::0\",\"size\":150,\"label\":\"Player.Opponent.get()\\r\\nLocation: PingPong.cs(36:16)-(36:60)\",\"color\":{\"background\":\"#ffff00\"},\"shape\":\"box\",\"font\":{\"face\":\"monospace\",\"align\":\"left\"}},{\"id\":\"Player.PingsReceived.set(System.UInt32)::0\",\"size\":150,\"label\":\"Player.PingsReceived.set(System.UInt32)\\r\\nLocation: PingPong.cs(67:24)-(67:79)\",\"color\":{\"background\":\"#ffffff\"},\"shape\":\"box\",\"font\":{\"face\":\"monospace\",\"align\":\"left\"}},{\"id\":\"Player.PingsSent.set(System.UInt32)::2\",\"size\":150,\"label\":\"Node ID: Player.PingsSent.set(System.UInt32)::2\\r\\nIL_0000: Ldarg_0\\r\\nIL_0001: Call [get] System.Linq.Enumerable+<TakeRangeFromEndIterator>d__245`1[System.Char].PersistentState\\r\\nIL_0006: Ldstr \\\"PingsSent\\\"\\r\\nIL_000b: Ldarg_1 value\\r\\nIL_000c: Callvirt [method] System.Void Stratis.SmartContracts.IPersistentState.SetUInt32(System.String, System.UInt32)\\r\\nIL_0011: Nop\\r\\nIL_0012: Ret\\r\\n\",\"color\":{\"background\":\"#ffffff\"},\"shape\":\"box\",\"font\":{\"face\":\"monospace\",\"align\":\"left\"}},{\"id\":\"Player.GameName.set(System.String)::0\",\"size\":150,\"label\":\"Player.GameName.set(System.String)\\r\\nLocation: PingPong.cs(50:24)-(50:74)\",\"color\":{\"background\":\"#ffffff\"},\"shape\":\"box\",\"font\":{\"face\":\"monospace\",\"align\":\"left\"}},{\"id\":\"Player.State.set(System.UInt32)::2\",\"size\":150,\"label\":\"Node ID: Player.State.set(System.UInt32)::2\\r\\nIL_0000: Ldarg_0\\r\\nIL_0001: Call [get] System.Linq.Enumerable+<TakeRangeFromEndIterator>d__245`1[System.Char].PersistentState\\r\\nIL_0006: Ldstr \\\"State\\\"\\r\\nIL_000b: Ldarg_1 value\\r\\nIL_000c: Callvirt [method] System.Void Stratis.SmartContracts.IPersistentState.SetUInt32(System.String, System.UInt32)\\r\\nIL_0011: Nop\\r\\nIL_0012: Ret\\r\\n\",\"color\":{\"background\":\"#ffffff\"},\"shape\":\"box\",\"font\":{\"face\":\"monospace\",\"align\":\"left\"}},{\"id\":\"Player.ReceivePing()::0\",\"size\":150,\"label\":\"Player.ReceivePing()\\r\\nLocation: PingPong.cs(72:5)-(72:6)\",\"color\":{\"background\":\"#ffff00\"},\"shape\":\"box\",\"font\":{\"face\":\"monospace\",\"align\":\"left\"}},{\"id\":\"Player.GameName.set(System.String)::2\",\"size\":150,\"label\":\"Node ID: Player.GameName.set(System.String)::2\\r\\nIL_0000: Ldarg_0\\r\\nIL_0001: Call [get] System.Linq.Enumerable+<TakeRangeFromEndIterator>d__245`1[System.Char].PersistentState\\r\\nIL_0006: Ldstr \\\"GameName\\\"\\r\\nIL_000b: Ldarg_1 value\\r\\nIL_000c: Callvirt [method] System.Void Stratis.SmartContracts.IPersistentState.SetString(System.String, System.String)\\r\\nIL_0011: Nop\\r\\nIL_0012: Ret\\r\\n\",\"color\":{\"background\":\"#ffffff\"},\"shape\":\"box\",\"font\":{\"face\":\"monospace\",\"align\":\"left\"}},{\"id\":\"Starter..ctor(Stratis.SmartContracts.ISmartContractState)::2\",\"size\":150,\"label\":\"Node ID: Starter..ctor(Stratis.SmartContracts.ISmartContractState)::2\\r\\nIL_0000: Ldarg_0\\r\\nIL_0001: Ldarg_1 state\\r\\nIL_0002: Call [method] System.Void Stratis.SmartContracts.SmartContract..ctor(Stratis.SmartContracts.ISmartContractState)\\r\\nIL_0007: Nop\\r\\nIL_0008: Nop\\r\\nIL_0009: Ret\\r\\n\",\"color\":{\"background\":\"#ffffff\"},\"shape\":\"box\",\"font\":{\"face\":\"monospace\",\"align\":\"left\"}},{\"id\":\"Player.PingsReceived.get()::2\",\"size\":150,\"label\":\"Node ID: Player.PingsReceived.get()::2\\r\\nIL_0000: Nop\\r\\nIL_0001: Ldarg_0\\r\\nIL_0002: Call [get] System.Linq.Enumerable+<TakeRangeFromEndIterator>d__245`1[System.Char].PersistentState\\r\\nIL_0007: Ldstr \\\"PingsReceived\\\"\\r\\nIL_000c: Callvirt [method] System.UInt32 Stratis.SmartContracts.IPersistentState.GetUInt32(System.String)\\r\\nIL_0011: Stloc_0 local_0\\r\\nIL_0012: Br_S IL_0014\\r\\n\",\"color\":{\"background\":\"#ffffff\"},\"shape\":\"box\",\"font\":{\"face\":\"monospace\",\"align\":\"left\"}},{\"id\":\"Player.PlayerAddress.get()::2\",\"size\":150,\"label\":\"Node ID: Player.PlayerAddress.get()::2\\r\\nIL_0000: Ldarg_0\\r\\nIL_0001: Call [get] System.Linq.Enumerable+<TakeRangeFromEndIterator>d__245`1[System.Char].PersistentState\\r\\nIL_0006: Ldstr \\\"PlayerAddress\\\"\\r\\nIL_000b: Callvirt [method] Stratis.SmartContracts.Address Stratis.SmartContracts.IPersistentState.GetAddress(System.String)\\r\\nIL_0010: Ret\\r\\n\",\"color\":{\"background\":\"#ffffff\"},\"shape\":\"box\",\"font\":{\"face\":\"monospace\",\"align\":\"left\"}},{\"id\":\"Player.SendPing()::2\",\"size\":150,\"label\":\"Node ID: Player.SendPing()::2\\r\\nIL_0000: Nop\\r\\nIL_0001: Ldarg_0\\r\\nIL_0002: Ldarg_0\\r\\nIL_0003: Call [get] System.Linq.Enumerable+<TakeRangeFromEndIterator>d__245`1[System.Char].Message\\r\\nIL_0008: Callvirt [get] System.Linq.Enumerable+<TakeRangeFromEndIterator>d__245`1[System.Char].Sender\\r\\nIL_000d: Ldarg_0\\r\\nIL_000e: Call [method] Stratis.SmartContracts.Address Player.PlayerAddress.get()\\r\\nIL_0013: Call [method] System.Boolean Stratis.SmartContracts.Address.op_Equality(Stratis.SmartContracts.Address, Stratis.SmartContracts.Address)\\r\\nIL_0018: Ldstr \\\"Assert failed.\\\"\\r\\nIL_001d: Call [method] System.Void Stratis.SmartContracts.SmartContract.Assert(System.Boolean, System.String)\\r\\nIL_0022: Nop\\r\\nIL_0023: Ldarg_0\\r\\nIL_0024: Ldarg_0\\r\\nIL_0025: Call [method] System.UInt32 Player.State.get()\\r\\nIL_002a: Ldc_I4_2 2\\r\\nIL_002b: Beq_S IL_0038\\r\\n\",\"color\":{\"background\":\"#ffffff\"},\"shape\":\"box\",\"font\":{\"face\":\"monospace\",\"align\":\"left\"}},{\"id\":\"Player.SendPing()::0\",\"size\":150,\"label\":\"Player.SendPing()\\r\\nLocation: PingPong.cs(86:5)-(86:6)\",\"color\":{\"background\":\"#ffff00\"},\"shape\":\"box\",\"font\":{\"face\":\"monospace\",\"align\":\"left\"}},{\"id\":\"Starter..ctor(Stratis.SmartContracts.ISmartContractState)::0\",\"size\":150,\"label\":\"Starter..ctor(Stratis.SmartContracts.ISmartContractState)\\r\\nLocation: PingPong.cs(128:11)-(128:22)\",\"color\":{\"background\":\"#ffff00\"},\"shape\":\"box\",\"font\":{\"face\":\"monospace\",\"align\":\"left\"}},{\"id\":\"Player.PingsReceived.set(System.UInt32)::2\",\"size\":150,\"label\":\"Node ID: Player.PingsReceived.set(System.UInt32)::2\\r\\nIL_0000: Ldarg_0\\r\\nIL_0001: Call [get] System.Linq.Enumerable+<TakeRangeFromEndIterator>d__245`1[System.Char].PersistentState\\r\\nIL_0006: Ldstr \\\"PingsReceived\\\"\\r\\nIL_000b: Ldarg_1 value\\r\\nIL_000c: Callvirt [method] System.Void Stratis.SmartContracts.IPersistentState.SetUInt32(System.String, System.UInt32)\\r\\nIL_0011: Nop\\r\\nIL_0012: Ret\\r\\n\",\"color\":{\"background\":\"#ffffff\"},\"shape\":\"box\",\"font\":{\"face\":\"monospace\",\"align\":\"left\"}},{\"id\":\"Player.PlayerAddress.set(Stratis.SmartContracts.Address)::2\",\"size\":150,\"label\":\"Node ID: Player.PlayerAddress.set(Stratis.SmartContracts.Address)::2\\r\\nIL_0000: Ldarg_0\\r\\nIL_0001: Call [get] System.Linq.Enumerable+<TakeRangeFromEndIterator>d__245`1[System.Char].PersistentState\\r\\nIL_0006: Ldstr \\\"PlayerAddress\\\"\\r\\nIL_000b: Ldarg_1 value\\r\\nIL_000c: Callvirt [method] System.Void Stratis.SmartContracts.IPersistentState.SetAddress(System.String, Stratis.SmartContracts.Address)\\r\\nIL_0011: Nop\\r\\nIL_0012: Ret\\r\\n\",\"color\":{\"background\":\"#ffffff\"},\"shape\":\"box\",\"font\":{\"face\":\"monospace\",\"align\":\"left\"}},{\"id\":\"Player.PlayerAddress.get()::0\",\"size\":150,\"label\":\"Player.PlayerAddress.get()\\r\\nLocation: PingPong.cs(43:16)-(43:65)\",\"color\":{\"background\":\"#ffff00\"},\"shape\":\"box\",\"font\":{\"face\":\"monospace\",\"align\":\"left\"}},{\"id\":\"Player.SendPing()::5\",\"size\":150,\"label\":\"Node ID: Player.SendPing()::5\\r\\nIL_0039: Ldstr \\\"Assert failed.\\\"\\r\\nIL_003e: Call [method] System.Void Stratis.SmartContracts.SmartContract.Assert(System.Boolean, System.String)\\r\\nIL_0043: Nop\\r\\nIL_0044: Ldarg_0\\r\\nIL_0045: Ldarg_0\\r\\nIL_0046: Call [method] Stratis.SmartContracts.Address Player.Opponent.get()\\r\\nIL_004b: Ldc_I4_0 0\\r\\nIL_004c: Conv_I8\\r\\nIL_004d: Ldstr \\\"IsFinished\\\"\\r\\nIL_0052: Ldnull\\r\\nIL_0053: Ldc_I4_0 0\\r\\nIL_0054: Conv_I8\\r\\nIL_0055: Call [method] Stratis.SmartContracts.ITransferResult Stratis.SmartContracts.SmartContract.Call(Stratis.SmartContracts.Address, System.UInt64, System.String, System.Object[], System.UInt64)\\r\\nIL_005a: Stloc_0 local_0\\r\\nIL_005b: Ldarg_0\\r\\nIL_005c: Ldloc_0 local_0\\r\\nIL_005d: Callvirt [get] System.Linq.Enumerable+<TakeRangeFromEndIterator>d__245`1[System.Char].Success\\r\\nIL_0062: Ldstr \\\"Assert failed.\\\"\\r\\nIL_0067: Call [method] System.Void Stratis.SmartContracts.SmartContract.Assert(System.Boolean, System.String)\\r\\nIL_006c: Nop\\r\\nIL_006d: Ldloc_0 local_0\\r\\nIL_006e: Callvirt [get] System.Linq.Enumerable+<TakeRangeFromEndIterator>d__245`1[System.Char].ReturnValue\\r\\nIL_0073: Unbox_Any System.Boolean\\r\\nIL_0078: Stloc_2 local_2\\r\\nIL_0079: Ldloc_2 local_2\\r\\nIL_007a: Brfalse_S IL_0087\\r\\n\",\"color\":{\"background\":\"#ffffff\"},\"shape\":\"box\",\"font\":{\"face\":\"monospace\",\"align\":\"left\"}},{\"id\":\"Player.PingsSent.set(System.UInt32)::0\",\"size\":150,\"label\":\"Player.PingsSent.set(System.UInt32)\\r\\nLocation: PingPong.cs(56:24)-(56:75)\",\"color\":{\"background\":\"#ffffff\"},\"shape\":\"box\",\"font\":{\"face\":\"monospace\",\"align\":\"left\"}},{\"id\":\"Player.PingsSent.get()::2\",\"size\":150,\"label\":\"Node ID: Player.PingsSent.get()::2\\r\\nIL_0000: Ldarg_0\\r\\nIL_0001: Call [get] System.Linq.Enumerable+<TakeRangeFromEndIterator>d__245`1[System.Char].PersistentState\\r\\nIL_0006: Ldstr \\\"PingsSent\\\"\\r\\nIL_000b: Callvirt [method] System.UInt32 Stratis.SmartContracts.IPersistentState.GetUInt32(System.String)\\r\\nIL_0010: Ret\\r\\n\",\"color\":{\"background\":\"#ffffff\"},\"shape\":\"box\",\"font\":{\"face\":\"monospace\",\"align\":\"left\"}},{\"id\":\"Player.FinishGame()::0\",\"size\":150,\"label\":\"Player.FinishGame()\\r\\nLocation: PingPong.cs(118:5)-(118:6)\",\"color\":{\"background\":\"#ffff00\"},\"shape\":\"box\",\"font\":{\"face\":\"monospace\",\"align\":\"left\"}},{\"id\":\"Player.State.get()::2\",\"size\":150,\"label\":\"Node ID: Player.State.get()::2\\r\\nIL_0000: Ldarg_0\\r\\nIL_0001: Call [get] System.Linq.Enumerable+<TakeRangeFromEndIterator>d__245`1[System.Char].PersistentState\\r\\nIL_0006: Ldstr \\\"State\\\"\\r\\nIL_000b: Callvirt [method] System.UInt32 Stratis.SmartContracts.IPersistentState.GetUInt32(System.String)\\r\\nIL_0010: Ret\\r\\n\",\"color\":{\"background\":\"#ffffff\"},\"shape\":\"box\",\"font\":{\"face\":\"monospace\",\"align\":\"left\"}},{\"id\":\"Player.ReceivePing()::5\",\"size\":150,\"label\":\"Node ID: Player.ReceivePing()::5\\r\\nIL_0039: Ldstr \\\"Assert failed.\\\"\\r\\nIL_003e: Call [method] System.Void Stratis.SmartContracts.SmartContract.Assert(System.Boolean, System.String)\\r\\nIL_0043: Nop\\r\\nIL_0044: Ldarg_0\\r\\nIL_0045: Ldc_I4_2 2\\r\\nIL_0046: Call [method] System.Void Player.State.set(System.UInt32)\\r\\nIL_004b: Nop\\r\\nIL_004c: Nop\\r\\nIL_004d: Ldarg_0\\r\\nIL_004e: Ldarg_0\\r\\nIL_004f: Call [method] System.UInt32 Player.PingsReceived.get()\\r\\nIL_0054: Ldc_I4_1 1\\r\\nIL_0055: Add\\r\\nIL_0056: Call [method] System.Void Player.PingsReceived.set(System.UInt32)\\r\\nIL_005b: Nop\\r\\nIL_005c: Nop\\r\\nIL_005d: Ret\\r\\n\",\"color\":{\"background\":\"#ffffff\"},\"shape\":\"box\",\"font\":{\"face\":\"monospace\",\"align\":\"left\"}},{\"id\":\"Player.PingsReceived.get()::0\",\"size\":150,\"label\":\"Player.PingsReceived.get()\\r\\nLocation: PingPong.cs(62:9)-(62:10)\",\"color\":{\"background\":\"#ffff00\"},\"shape\":\"box\",\"font\":{\"face\":\"monospace\",\"align\":\"left\"}},{\"id\":\"Player.State.set(System.UInt32)::0\",\"size\":150,\"label\":\"Player.State.set(System.UInt32)\\r\\nLocation: PingPong.cs(31:24)-(31:71)\",\"color\":{\"background\":\"#ffffff\"},\"shape\":\"box\",\"font\":{\"face\":\"monospace\",\"align\":\"left\"}},{\"id\":\"Starter.StartGame(Stratis.SmartContracts.Address, Stratis.SmartContracts.Address, System.String)::0\",\"size\":150,\"label\":\"Starter.StartGame(Stratis.SmartContracts.Address, Stratis.SmartContracts.Address, System.String)\\r\\nLocation: PingPong.cs(141:5)-(141:6)\",\"color\":{\"background\":\"#ffff00\"},\"shape\":\"box\",\"font\":{\"face\":\"monospace\",\"align\":\"left\"}},{\"id\":\"Player.PingsReceived.get()::3\",\"size\":150,\"label\":\"Node ID: Player.PingsReceived.get()::3\\r\\nIL_0014: Ldloc_0 local_0\\r\\nIL_0015: Ret\\r\\n\",\"color\":{\"background\":\"#ffffff\"},\"shape\":\"box\",\"font\":{\"face\":\"monospace\",\"align\":\"left\"}},{\"id\":\"Player.GameName.get()::2\",\"size\":150,\"label\":\"Node ID: Player.GameName.get()::2\\r\\nIL_0000: Ldarg_0\\r\\nIL_0001: Call [get] System.Linq.Enumerable+<TakeRangeFromEndIterator>d__245`1[System.Char].PersistentState\\r\\nIL_0006: Ldstr \\\"GameName\\\"\\r\\nIL_000b: Callvirt [method] System.String Stratis.SmartContracts.IPersistentState.GetString(System.String)\\r\\nIL_0010: Ret\\r\\n\",\"color\":{\"background\":\"#ffffff\"},\"shape\":\"box\",\"font\":{\"face\":\"monospace\",\"align\":\"left\"}},{\"id\":\"Player.Opponent.set(Stratis.SmartContracts.Address)::2\",\"size\":150,\"label\":\"Node ID: Player.Opponent.set(Stratis.SmartContracts.Address)::2\\r\\nIL_0000: Ldarg_0\\r\\nIL_0001: Call [get] System.Linq.Enumerable+<TakeRangeFromEndIterator>d__245`1[System.Char].PersistentState\\r\\nIL_0006: Ldstr \\\"Opponent\\\"\\r\\nIL_000b: Ldarg_1 value\\r\\nIL_000c: Callvirt [method] System.Void Stratis.SmartContracts.IPersistentState.SetAddress(System.String, Stratis.SmartContracts.Address)\\r\\nIL_0011: Nop\\r\\nIL_0012: Ret\\r\\n\",\"color\":{\"background\":\"#ffffff\"},\"shape\":\"box\",\"font\":{\"face\":\"monospace\",\"align\":\"left\"}},{\"id\":\"Player.IsFinished()::0\",\"size\":150,\"label\":\"Player.IsFinished()\\r\\nLocation: PingPong.cs(113:5)-(113:6)\",\"color\":{\"background\":\"#ffff00\"},\"shape\":\"box\",\"font\":{\"face\":\"monospace\",\"align\":\"left\"}},{\"id\":\"Player.IsFinished()::2\",\"size\":150,\"label\":\"Node ID: Player.IsFinished()::2\\r\\nIL_0000: Nop\\r\\nIL_0001: Ldarg_0\\r\\nIL_0002: Call [method] System.UInt32 Player.State.get()\\r\\nIL_0007: Ldc_I4_3 3\\r\\nIL_0008: Ceq\\r\\nIL_000a: Stloc_0 local_0\\r\\nIL_000b: Br_S IL_000d\\r\\n\",\"color\":{\"background\":\"#ffffff\"},\"shape\":\"box\",\"font\":{\"face\":\"monospace\",\"align\":\"left\"}},{\"id\":\"Player.ReceivePing()::2\",\"size\":150,\"label\":\"Node ID: Player.ReceivePing()::2\\r\\nIL_0000: Nop\\r\\nIL_0001: Ldarg_0\\r\\nIL_0002: Ldarg_0\\r\\nIL_0003: Call [get] System.Linq.Enumerable+<TakeRangeFromEndIterator>d__245`1[System.Char].Message\\r\\nIL_0008: Callvirt [get] System.Linq.Enumerable+<TakeRangeFromEndIterator>d__245`1[System.Char].Sender\\r\\nIL_000d: Ldarg_0\\r\\nIL_000e: Call [method] Stratis.SmartContracts.Address Player.Opponent.get()\\r\\nIL_0013: Call [method] System.Boolean Stratis.SmartContracts.Address.op_Equality(Stratis.SmartContracts.Address, Stratis.SmartContracts.Address)\\r\\nIL_0018: Ldstr \\\"Assert failed.\\\"\\r\\nIL_001d: Call [method] System.Void Stratis.SmartContracts.SmartContract.Assert(System.Boolean, System.String)\\r\\nIL_0022: Nop\\r\\nIL_0023: Ldarg_0\\r\\nIL_0024: Ldarg_0\\r\\nIL_0025: Call [method] System.UInt32 Player.State.get()\\r\\nIL_002a: Ldc_I4_1 1\\r\\nIL_002b: Beq_S IL_0038\\r\\n\",\"color\":{\"background\":\"#ffffff\"},\"shape\":\"box\",\"font\":{\"face\":\"monospace\",\"align\":\"left\"}},{\"id\":\"Player.Opponent.set(Stratis.SmartContracts.Address)::0\",\"size\":150,\"label\":\"Player.Opponent.set(Stratis.SmartContracts.Address)\\r\\nLocation: PingPong.cs(37:24)-(37:75)\",\"color\":{\"background\":\"#ffffff\"},\"shape\":\"box\",\"font\":{\"face\":\"monospace\",\"align\":\"left\"}}]), \r\n",
       "                        edges: new visjs.DataSet([{\"from\":\"Player.GameName.get()::0\",\"to\":\"Player.GameName.get()::2\"},{\"from\":\"Player.State.get()::0\",\"to\":\"Player.State.get()::2\"},{\"from\":\"Player.SendPing()::3\",\"to\":\"Player.SendPing()::5\"},{\"from\":\"Player.SendPing()::7\",\"to\":\"Player.SendPing()::8\"},{\"from\":\"Player.ReceivePing()::3\",\"to\":\"Player.ReceivePing()::5\"},{\"from\":\"Player.PlayerAddress.set(Stratis.SmartContracts.Address)::0\",\"to\":\"Player.PlayerAddress.set(Stratis.SmartContracts.Address)::2\"},{\"from\":\"Player.ReceivePing()::4\",\"to\":\"Player.ReceivePing()::5\"},{\"from\":\"Player..ctor(Stratis.SmartContracts.ISmartContractState, Stratis.SmartContracts.Address, Stratis.SmartContracts.Address, System.String)::0\",\"to\":\"Player..ctor(Stratis.SmartContracts.ISmartContractState, Stratis.SmartContracts.Address, Stratis.SmartContracts.Address, System.String)::2\"},{\"from\":\"Player.SendPing()::4\",\"to\":\"Player.SendPing()::5\"},{\"from\":\"Player.SendPing()::6\",\"to\":\"Player.SendPing()::8\"},{\"from\":\"Player.PingsSent.get()::0\",\"to\":\"Player.PingsSent.get()::2\"},{\"from\":\"Player.Opponent.get()::0\",\"to\":\"Player.Opponent.get()::2\"},{\"from\":\"Player.PingsReceived.set(System.UInt32)::0\",\"to\":\"Player.PingsReceived.set(System.UInt32)::2\"},{\"from\":\"Player.GameName.set(System.String)::0\",\"to\":\"Player.GameName.set(System.String)::2\"},{\"from\":\"Player.ReceivePing()::0\",\"to\":\"Player.ReceivePing()::2\"},{\"from\":\"Player.PingsReceived.get()::2\",\"to\":\"Player.PingsReceived.get()::3\"},{\"from\":\"Player.SendPing()::2\",\"to\":\"Player.SendPing()::3\"},{\"from\":\"Player.SendPing()::2\",\"to\":\"Player.SendPing()::4\"},{\"from\":\"Player.SendPing()::0\",\"to\":\"Player.SendPing()::2\"},{\"from\":\"Starter..ctor(Stratis.SmartContracts.ISmartContractState)::0\",\"to\":\"Starter..ctor(Stratis.SmartContracts.ISmartContractState)::2\"},{\"from\":\"Player.PlayerAddress.get()::0\",\"to\":\"Player.PlayerAddress.get()::2\"},{\"from\":\"Player.SendPing()::5\",\"to\":\"Player.SendPing()::6\"},{\"from\":\"Player.SendPing()::5\",\"to\":\"Player.SendPing()::7\"},{\"from\":\"Player.PingsSent.set(System.UInt32)::0\",\"to\":\"Player.PingsSent.set(System.UInt32)::2\"},{\"from\":\"Player.FinishGame()::0\",\"to\":\"Player.FinishGame()::2\"},{\"from\":\"Player.PingsReceived.get()::0\",\"to\":\"Player.PingsReceived.get()::2\"},{\"from\":\"Player.State.set(System.UInt32)::0\",\"to\":\"Player.State.set(System.UInt32)::2\"},{\"from\":\"Starter.StartGame(Stratis.SmartContracts.Address, Stratis.SmartContracts.Address, System.String)::0\",\"to\":\"Starter.StartGame(Stratis.SmartContracts.Address, Stratis.SmartContracts.Address, System.String)::2\"},{\"from\":\"Player.IsFinished()::0\",\"to\":\"Player.IsFinished()::2\"},{\"from\":\"Player.IsFinished()::2\",\"to\":\"Player.IsFinished()::3\"},{\"from\":\"Player.ReceivePing()::2\",\"to\":\"Player.ReceivePing()::3\"},{\"from\":\"Player.ReceivePing()::2\",\"to\":\"Player.ReceivePing()::4\"},{\"from\":\"Player.Opponent.set(Stratis.SmartContracts.Address)::0\",\"to\":\"Player.Opponent.set(Stratis.SmartContracts.Address)::2\"}])\r\n",
       "                    };\r\n",
       "        let options = {\"autoResize\":false,\"manipulation\":false,\"width\":\"100%\",\"height\":\"600px\",\"layout\":{\"improvedLayout\":true,\"hierarchical\":{\"enabled\":true,\"sortMethod\":\"directed\",\"direction\":\"UD\",\"nodeSpacing\":300,\"levelSeparation\":300}},\"physics\":{\"hierarchicalRepulsion\":{\"nodeDistance\":300,\"avoidOverlap\":1.0}},\"edges\":{\"arrows\":{\"to\":{\"enabled\":true}},\"smooth\":{\"enabled\":true}},\"interaction\":{\"navigationButtons\":true}};\r\n",
       "        let network = new visjs.Network(container, data, options); \r\n",
       "        },\r\n",
       "        (error) => {\r\n",
       "            console.log(error);\r\n",
       "        });\r\n",
       "        }\r\n",
       "// ensure `require` is available globally\r\n",
       "if ((typeof(require) !==  typeof(Function)) || (typeof(require.config) !== typeof(Function))) {\r\n",
       "    let require_script = document.createElement('script');\r\n",
       "    require_script.setAttribute('src', 'https://cdnjs.cloudflare.com/ajax/libs/require.js/2.3.6/require.min.js');\r\n",
       "    require_script.setAttribute('type', 'text/javascript');\r\n",
       "    \r\n",
       "    \r\n",
       "    require_script.onload = function() {\r\n",
       "        loadVisjs_4215cef0b59d40d19523700cd5f47766();\r\n",
       "    };\r\n",
       "\r\n",
       "    document.getElementsByTagName('head')[0].appendChild(require_script);\r\n",
       "}\r\n",
       "else {\r\n",
       "    loadVisjs_4215cef0b59d40d19523700cd5f47766();\r\n",
       "}\r\n",
       "\r\n",
       "</script>\r\n",
       "<div id=\"4215cef0b59d40d19523700cd5f47766\" style=\"height:600px; width:100%\"></div>\r\n",
       "</div>\r\n"
      ]
     },
     "execution_count": 14,
     "metadata": {},
     "output_type": "execute_result"
    }
   ],
   "source": [
    "var an = IL.GetAnalyzer(@\"..\\examples\\PingPongContract\\bin\\Debug\\netcoreapp3.1\\PingPongContract.dll\");\n",
    "var g = an.GetControlFlowGraph();\n",
    "g"
   ]
  },
  {
   "cell_type": "code",
   "execution_count": null,
   "id": "2979cbbe",
   "metadata": {},
   "outputs": [],
   "source": []
  },
  {
   "cell_type": "code",
   "execution_count": null,
   "id": "5de4aa9a",
   "metadata": {},
   "outputs": [],
   "source": []
  },
  {
   "cell_type": "code",
   "execution_count": null,
   "id": "b97f85c9",
   "metadata": {},
   "outputs": [],
   "source": []
  },
  {
   "cell_type": "code",
   "execution_count": 4,
   "id": "db47baf7",
   "metadata": {},
   "outputs": [
    {
     "data": {
      "text/html": [
       "<div>\r\n",
       "<script type=\"text/javascript\">\r\n",
       "loadVisjs_7cd57490ce4a487b87532c1d3972dcbe = () => {\r\n",
       "(require.config({ 'paths': { 'context': '0.0.0', 'visjs' : 'https://visjs.github.io/vis-network/standalone/umd/vis-network.min', 'urlArgs': 'cacheBuster=00736299009e404d94cf44a143c1770e' }}) || require)(['visjs'], (visjs) => {\r\n",
       "\r\n",
       "            let container = document.getElementById('7cd57490ce4a487b87532c1d3972dcbe');\r\n",
       "            let dot = `dinetwork {node[shape=circle]; 1 -> 1 -> 2; 2 -> 3; 2 -- 4; 2 -> 1 [style=dotted, width=3] }`;\r\n",
       "            let data = visjs.parseDOTNetwork(dot);\r\n",
       "            let network = new visjs.Network(container, data); \r\n",
       "            },\r\n",
       "            (error) => {\r\n",
       "                console.log(error);\r\n",
       "            });\r\n",
       "            }\r\n",
       "// ensure `require` is available globally\r\n",
       "if ((typeof(require) !==  typeof(Function)) || (typeof(require.config) !== typeof(Function))) {\r\n",
       "    let require_script = document.createElement('script');\r\n",
       "    require_script.setAttribute('src', 'https://cdnjs.cloudflare.com/ajax/libs/require.js/2.3.6/require.min.js');\r\n",
       "    require_script.setAttribute('type', 'text/javascript');\r\n",
       "    \r\n",
       "    \r\n",
       "    require_script.onload = function() {\r\n",
       "        loadVisjs_7cd57490ce4a487b87532c1d3972dcbe();\r\n",
       "    };\r\n",
       "\r\n",
       "    document.getElementsByTagName('head')[0].appendChild(require_script);\r\n",
       "}\r\n",
       "else {\r\n",
       "    loadVisjs_7cd57490ce4a487b87532c1d3972dcbe();\r\n",
       "}\r\n",
       "\r\n",
       "</script>\r\n",
       "<div id=\"7cd57490ce4a487b87532c1d3972dcbe\" style=\"height:600px; width:100%\"></div>\r\n",
       "</div>\r\n"
      ]
     },
     "execution_count": 4,
     "metadata": {},
     "output_type": "execute_result"
    }
   ],
   "source": [
    "var d = new DotLanguage(\"dinetwork {node[shape=circle]; 1 -> 1 -> 2; 2 -> 3; 2 -- 4; 2 -> 1 [style=dotted, width=3] }\");\n",
    "d"
   ]
  },
  {
   "cell_type": "code",
   "execution_count": 7,
   "id": "de3a7c91",
   "metadata": {},
   "outputs": [
    {
     "name": "stderr",
     "output_type": "stream",
     "text": [
      "\r\n",
      "(1,9): error CS8652: The feature 'raw string literals' is currently in Preview and *unsupported*. To use Preview features, use the 'preview' language version.\r\n",
      "\r\n"
     ]
    },
    {
     "ename": "Cell not executed",
     "evalue": "compilation error",
     "output_type": "error",
     "traceback": []
    }
   ],
   "source": [
    "var n = \"\"\"\n",
    "{\n",
    "\"nodes\": [\n",
    "        { \"id\": 1, \"label\": \"Node 1\" },\n",
    "        { \"id\": 2, \"label\": \"Node 2\" },\n",
    "        { \"id\": 3, \"label\": \"Node 3\" },\n",
    "        { \"id\": 4, \"label\": \"Node 4\" },\n",
    "        { \"id\": 5, \"label\": \"Node 5\" },\n",
    "      ]\n",
    "}\n",
    "\"\"\";"
   ]
  },
  {
   "cell_type": "code",
   "execution_count": null,
   "id": "6b175f40",
   "metadata": {},
   "outputs": [],
   "source": []
  },
  {
   "cell_type": "code",
   "execution_count": null,
   "id": "bd9ea5de",
   "metadata": {},
   "outputs": [],
   "source": []
  },
  {
   "cell_type": "code",
   "execution_count": null,
   "id": "389f62c9",
   "metadata": {},
   "outputs": [],
   "source": []
  },
  {
   "cell_type": "code",
   "execution_count": null,
   "id": "7e01603c",
   "metadata": {},
   "outputs": [],
   "source": [
    "var n = new VisJS.Network()"
   ]
  },
  {
   "cell_type": "code",
   "execution_count": null,
   "id": "1b15e17b",
   "metadata": {},
   "outputs": [],
   "source": []
  },
  {
   "cell_type": "code",
   "execution_count": 4,
   "id": "8cde7abe",
   "metadata": {
    "hide_input": false
   },
   "outputs": [
    {
     "data": {
      "text/plain": [
       "<?xml version=\"1.0\" encoding=\"utf-16\"?>\r\n",
       "<!--SvgWriter version 1.0.0.0-->\r\n",
       "<svg xmlns:xlink=\"http://www.w3.org/1999/xlink\" width=\"3575\" height=\"110\" id=\"svg2\" version=\"1.1\" xmlns=\"http://www.w3.org/2000/svg\">\r\n",
       "  <g transform=\"translate(157.5,610)\">\r\n",
       "    <text x=\"0\" y=\"0\" font-family=\"Arial\" font-size=\"16\" fill=\"#000000\">\r\n",
       "      <tspan x=\"0\" dy=\"0\" />\r\n",
       "    </text>\r\n",
       "    <!--Edges-->\r\n",
       "    <path fill=\"none\" stroke=\"#000000\" stroke-opacity=\"1\" stroke-width=\"1\" d=\"M 1723.14285714286 -570 L 1853.07999736693 -542.09938706845\" />\r\n",
       "    <polygon stroke=\"#000000\" stroke-opacity=\"1\" stroke-width=\"1\" fill=\"#000000\" fill-opacity=\"1\" points=\"1852.61457445793 -539.93184609226 1862.85714285714 -540 1853.54542027593 -544.26692804464\" />\r\n",
       "    <path fill=\"none\" stroke=\"#000000\" stroke-opacity=\"1\" stroke-width=\"1\" d=\"M 1630 -570 L 1630 -550\" />\r\n",
       "    <polygon stroke=\"#000000\" stroke-opacity=\"1\" stroke-width=\"1\" fill=\"#000000\" fill-opacity=\"1\" points=\"1627.78305336833 -550 1630 -540 1632.21694663167 -550\" />\r\n",
       "    <path fill=\"none\" stroke=\"#000000\" stroke-opacity=\"1\" stroke-width=\"1\" d=\"M 1304 -570 L 1304 -550\" />\r\n",
       "    <polygon stroke=\"#000000\" stroke-opacity=\"1\" stroke-width=\"1\" fill=\"#000000\" fill-opacity=\"1\" points=\"1301.78305336833 -550 1304 -540 1306.21694663167 -550\" />\r\n",
       "    <path fill=\"none\" stroke=\"#000000\" stroke-opacity=\"1\" stroke-width=\"1\" d=\"M 1210.85714285714 -570 L 1080.92000263307 -542.09938706845\" />\r\n",
       "    <polygon stroke=\"#000000\" stroke-opacity=\"1\" stroke-width=\"1\" fill=\"#000000\" fill-opacity=\"1\" points=\"1080.45457972407 -544.26692804464 1071.14285714286 -540 1081.38542554207 -539.93184609226\" />\r\n",
       "    <!--nodes-->\r\n",
       "    <rect fill=\"none\" stroke=\"#000000\" stroke-opacity=\"1\" stroke-width=\"1\" x=\"3102.5\" y=\"-540\" width=\"315\" height=\"40\" rx=\"3\" ry=\"3\" />\r\n",
       "    <text x=\"3260\" y=\"-520\" font-family=\"Arial\" font-size=\"16\" fill=\"#000000\">\r\n",
       "      <tspan x=\"3260\" dy=\"0\">HelloBlockchain.Requestor.set</tspan>\r\n",
       "    </text>\r\n",
       "    <rect fill=\"none\" stroke=\"#000000\" stroke-opacity=\"1\" stroke-width=\"1\" x=\"2776.5\" y=\"-540\" width=\"315\" height=\"40\" rx=\"3\" ry=\"3\" />\r\n",
       "    <text x=\"2934\" y=\"-520\" font-family=\"Arial\" font-size=\"16\" fill=\"#000000\">\r\n",
       "      <tspan x=\"2934\" dy=\"0\">HelloBlockchain.RequestMessage.get</tspan>\r\n",
       "    </text>\r\n",
       "    <rect fill=\"none\" stroke=\"#000000\" stroke-opacity=\"1\" stroke-width=\"1\" x=\"2450.5\" y=\"-540\" width=\"315\" height=\"40\" rx=\"3\" ry=\"3\" />\r\n",
       "    <text x=\"2608\" y=\"-520\" font-family=\"Arial\" font-size=\"16\" fill=\"#000000\">\r\n",
       "      <tspan x=\"2608\" dy=\"0\">HelloBlockchain.Responder.get</tspan>\r\n",
       "    </text>\r\n",
       "    <rect fill=\"none\" stroke=\"#000000\" stroke-opacity=\"1\" stroke-width=\"1\" x=\"2124.5\" y=\"-540\" width=\"315\" height=\"40\" rx=\"3\" ry=\"3\" />\r\n",
       "    <text x=\"2282\" y=\"-520\" font-family=\"Arial\" font-size=\"16\" fill=\"#000000\">\r\n",
       "      <tspan x=\"2282\" dy=\"0\">HelloBlockchain..ctor</tspan>\r\n",
       "    </text>\r\n",
       "    <rect fill=\"none\" stroke=\"#000000\" stroke-opacity=\"1\" stroke-width=\"1\" x=\"1472.5\" y=\"-610\" width=\"315\" height=\"40\" rx=\"3\" ry=\"3\" />\r\n",
       "    <text x=\"1630\" y=\"-590\" font-family=\"Arial\" font-size=\"16\" fill=\"#000000\">\r\n",
       "      <tspan x=\"1630\" dy=\"0\">HelloBlockchain.SendRequest</tspan>\r\n",
       "    </text>\r\n",
       "    <rect fill=\"none\" stroke=\"#000000\" stroke-opacity=\"1\" stroke-width=\"1\" x=\"1146.5\" y=\"-610\" width=\"315\" height=\"40\" rx=\"3\" ry=\"3\" />\r\n",
       "    <text x=\"1304\" y=\"-590\" font-family=\"Arial\" font-size=\"16\" fill=\"#000000\">\r\n",
       "      <tspan x=\"1304\" dy=\"0\">HelloBlockchain.SendResponse</tspan>\r\n",
       "    </text>\r\n",
       "    <rect fill=\"none\" stroke=\"#000000\" stroke-opacity=\"1\" stroke-width=\"1\" x=\"494.5\" y=\"-540\" width=\"315\" height=\"40\" rx=\"3\" ry=\"3\" />\r\n",
       "    <text x=\"652\" y=\"-520\" font-family=\"Arial\" font-size=\"16\" fill=\"#000000\">\r\n",
       "      <tspan x=\"652\" dy=\"0\">HelloBlockchain.ResponseMessage.get</tspan>\r\n",
       "    </text>\r\n",
       "    <rect fill=\"none\" stroke=\"#000000\" stroke-opacity=\"1\" stroke-width=\"1\" x=\"820.5\" y=\"-540\" width=\"315\" height=\"40\" rx=\"3\" ry=\"3\" />\r\n",
       "    <text x=\"978\" y=\"-520\" font-family=\"Arial\" font-size=\"16\" fill=\"#000000\">\r\n",
       "      <tspan x=\"978\" dy=\"0\">HelloBlockchain.Responder.set</tspan>\r\n",
       "    </text>\r\n",
       "    <rect fill=\"none\" stroke=\"#000000\" stroke-opacity=\"1\" stroke-width=\"1\" x=\"168.5\" y=\"-540\" width=\"315\" height=\"40\" rx=\"3\" ry=\"3\" />\r\n",
       "    <text x=\"326\" y=\"-520\" font-family=\"Arial\" font-size=\"16\" fill=\"#000000\">\r\n",
       "      <tspan x=\"326\" dy=\"0\">HelloState..ctor</tspan>\r\n",
       "    </text>\r\n",
       "    <rect fill=\"none\" stroke=\"#000000\" stroke-opacity=\"1\" stroke-width=\"1\" x=\"-157.5\" y=\"-540\" width=\"315\" height=\"40\" rx=\"3\" ry=\"3\" />\r\n",
       "    <text x=\"0\" y=\"-520\" font-family=\"Arial\" font-size=\"16\" fill=\"#000000\">\r\n",
       "      <tspan x=\"0\" dy=\"0\">HelloState.H3</tspan>\r\n",
       "    </text>\r\n",
       "    <rect fill=\"none\" stroke=\"#000000\" stroke-opacity=\"1\" stroke-width=\"1\" x=\"1472.5\" y=\"-540\" width=\"315\" height=\"40\" rx=\"3\" ry=\"3\" />\r\n",
       "    <text x=\"1630\" y=\"-520\" font-family=\"Arial\" font-size=\"16\" fill=\"#000000\">\r\n",
       "      <tspan x=\"1630\" dy=\"0\">HelloBlockchain.RequestMessage.set</tspan>\r\n",
       "    </text>\r\n",
       "    <rect fill=\"none\" stroke=\"#000000\" stroke-opacity=\"1\" stroke-width=\"1\" x=\"1798.5\" y=\"-540\" width=\"315\" height=\"40\" rx=\"3\" ry=\"3\" />\r\n",
       "    <text x=\"1956\" y=\"-520\" font-family=\"Arial\" font-size=\"16\" fill=\"#000000\">\r\n",
       "      <tspan x=\"1956\" dy=\"0\">HelloBlockchain.Requestor.get</tspan>\r\n",
       "    </text>\r\n",
       "    <rect fill=\"none\" stroke=\"#000000\" stroke-opacity=\"1\" stroke-width=\"1\" x=\"1146.5\" y=\"-540\" width=\"315\" height=\"40\" rx=\"3\" ry=\"3\" />\r\n",
       "    <text x=\"1304\" y=\"-520\" font-family=\"Arial\" font-size=\"16\" fill=\"#000000\">\r\n",
       "      <tspan x=\"1304\" dy=\"0\">HelloBlockchain.ResponseMessage.set</tspan>\r\n",
       "    </text>\r\n",
       "    <!--end of nodes-->\r\n",
       "  </g>\r\n",
       "</svg>"
      ]
     },
     "execution_count": 4,
     "metadata": {},
     "output_type": "execute_result"
    }
   ],
   "source": [
    "GraphFormatter.DrawSvg(g)"
   ]
  },
  {
   "cell_type": "code",
   "execution_count": null,
   "id": "08f626bb",
   "metadata": {},
   "outputs": [],
   "source": []
  },
  {
   "cell_type": "code",
   "execution_count": null,
   "id": "173e0631",
   "metadata": {},
   "outputs": [],
   "source": []
  },
  {
   "cell_type": "code",
   "execution_count": null,
   "id": "b5034c4c",
   "metadata": {},
   "outputs": [],
   "source": []
  },
  {
   "cell_type": "code",
   "execution_count": null,
   "id": "8b907383",
   "metadata": {},
   "outputs": [],
   "source": []
  },
  {
   "cell_type": "code",
   "execution_count": 8,
   "id": "3fc60bf1",
   "metadata": {},
   "outputs": [],
   "source": [
    "var svg = GraphFormatter.DrawSvg(g);"
   ]
  },
  {
   "cell_type": "code",
   "execution_count": 5,
   "id": "4f808330",
   "metadata": {},
   "outputs": [
    {
     "data": {
      "text/html": [
       "<img id=\"116e8a8827ad4f2fb1c4e146e7c40312\" src=\"data:image/svg+xml;base64,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\" height=\"1000\" width=\"1000\"></img>"
      ]
     },
     "execution_count": 5,
     "metadata": {},
     "output_type": "execute_result"
    }
   ],
   "source": [
    "g"
   ]
  },
  {
   "cell_type": "code",
   "execution_count": null,
   "id": "3d0efd28",
   "metadata": {},
   "outputs": [],
   "source": []
  },
  {
   "cell_type": "code",
   "execution_count": 11,
   "id": "2848d15d",
   "metadata": {},
   "outputs": [],
   "source": [
    "using System.Xml;"
   ]
  },
  {
   "cell_type": "code",
   "execution_count": 29,
   "id": "f0505d4a",
   "metadata": {},
   "outputs": [
    {
     "data": {
      "text/plain": [
       "<svg xmlns:xlink=\"http://www.w3.org/1999/xlink\" width=\"1837\" height=\"180\" id=\"svg2\" version=\"1.1\" xmlns=\"http://www.w3.org/2000/svg\"><g transform=\"translate(148.5,680)\"><!--Edges--><path fill=\"none\" stroke=\"#000000\" stroke-opacity=\"1\" stroke-width=\"1\" d=\"M 1232 -570 L 1232 -550\" /><polygon stroke=\"#000000\" stroke-opacity=\"1\" stroke-width=\"1\" fill=\"#000000\" fill-opacity=\"1\" points=\"1229.78305336833 -550 1232 -540 1234.21694663167 -550\" /><path fill=\"none\" stroke=\"#000000\" stroke-opacity=\"1\" stroke-width=\"1\" d=\"M 1320 -640 L 1442.24867144209 -612.21621103589\" /><polygon stroke=\"#000000\" stroke-opacity=\"1\" stroke-width=\"1\" fill=\"#000000\" fill-opacity=\"1\" points=\"1441.75734928298 -610.05439353581 1452 -610 1442.73999360119 -614.37802853597\" /><path fill=\"none\" stroke=\"#000000\" stroke-opacity=\"1\" stroke-width=\"1\" d=\"M 1232 -640 L 1232 -620\" /><polygon stroke=\"#000000\" stroke-opacity=\"1\" stroke-width=\"1\" fill=\"#000000\" fill-opacity=\"1\" points=\"1229.78305336833 -620 1232 -610 1234.21694663167 -620\" /><path fill=\"none\" stroke=\"#000000\" stroke-opacity=\"1\" stroke-width=\"1\" d=\"M 142.80602185235 -640 C187.94419263064 -635.07526969457 243.03667262896 -630.41204889164 308.08346184731 -626.01033759121 C374.78141481662 -621.4968921648 431.00079073679 -616.5573155878 476.74158960781 -611.19160786023\" /><polygon stroke=\"#000000\" stroke-opacity=\"1\" stroke-width=\"1\" fill=\"#000000\" fill-opacity=\"1\" points=\"476.47741650461 -608.99045703868 486.67033931296 -610 477.00576271101 -613.39275868178\" /><path fill=\"none\" stroke=\"#000000\" stroke-opacity=\"1\" stroke-width=\"1\" d=\"M 0 -640 L 0 -620\" /><polygon stroke=\"#000000\" stroke-opacity=\"1\" stroke-width=\"1\" fill=\"#000000\" fill-opacity=\"1\" points=\"-2.21694663167 -620 0 -610 2.21694663167 -620\" /><path fill=\"none\" stroke=\"#000000\" stroke-opacity=\"1\" stroke-width=\"1\" d=\"M 1540 -640 L 1540 -620\" /><polygon stroke=\"#000000\" stroke-opacity=\"1\" stroke-width=\"1\" fill=\"#000000\" fill-opacity=\"1\" points=\"1537.78305336833 -620 1540 -610 1542.21694663167 -620\" /><path fill=\"none\" stroke=\"#000000\" stroke-opacity=\"1\" stroke-width=\"1\" d=\"M 836 -640 L 713.75132855792 -612.21621103589\" /><polygon stroke=\"#000000\" stroke-opacity=\"1\" stroke-width=\"1\" fill=\"#000000\" fill-opacity=\"1\" points=\"713.26000639881 -614.37802853597 704 -610 714.24265071702 -610.05439353581\" /><path fill=\"none\" stroke=\"#000000\" stroke-opacity=\"1\" stroke-width=\"1\" d=\"M 924 -640 L 924 -620\" /><polygon stroke=\"#000000\" stroke-opacity=\"1\" stroke-width=\"1\" fill=\"#000000\" fill-opacity=\"1\" points=\"921.78305336833 -620 924 -610 926.21694663167 -620\" /><path fill=\"none\" stroke=\"#000000\" stroke-opacity=\"1\" stroke-width=\"1\" d=\"M 1012 -640 L 1134.24867144209 -612.21621103589\" /><polygon stroke=\"#000000\" stroke-opacity=\"1\" stroke-width=\"1\" fill=\"#000000\" fill-opacity=\"1\" points=\"1133.75734928298 -610.05439353581 1144 -610 1134.73999360119 -614.37802853597\" /><path fill=\"none\" stroke=\"#000000\" stroke-opacity=\"1\" stroke-width=\"1\" d=\"M 396 -640 L 518.24867144209 -612.21621103589\" /><polygon stroke=\"#000000\" stroke-opacity=\"1\" stroke-width=\"1\" fill=\"#000000\" fill-opacity=\"1\" points=\"517.75734928298 -610.05439353581 528 -610 518.73999360119 -614.37802853597\" /><path fill=\"none\" stroke=\"#000000\" stroke-opacity=\"1\" stroke-width=\"1\" d=\"M 220 -640 L 97.75132855791 -612.21621103589\" /><polygon stroke=\"#000000\" stroke-opacity=\"1\" stroke-width=\"1\" fill=\"#000000\" fill-opacity=\"1\" points=\"97.26000639881 -614.37802853597 88 -610 98.24265071702 -610.05439353581\" /><path fill=\"none\" stroke=\"#000000\" stroke-opacity=\"1\" stroke-width=\"1\" d=\"M 423.45257466602 -640 C488.912761708 -633.00959023165 604.426516969 -628.63211161907 769.99384044902 -626.86756416226 C943.02446090469 -625.02347600007 1061.38876700504 -619.87056055085 1125.08675875006 -611.40881781461\" /><polygon stroke=\"#000000\" stroke-opacity=\"1\" stroke-width=\"1\" fill=\"#000000\" fill-opacity=\"1\" points=\"1124.77443135918 -609.21398206481 1134.9870230074 -610 1125.39908614093 -613.6036535644\" /><path fill=\"none\" stroke=\"#000000\" stroke-opacity=\"1\" stroke-width=\"1\" d=\"M 308 -640 L 308 -620\" /><polygon stroke=\"#000000\" stroke-opacity=\"1\" stroke-width=\"1\" fill=\"#000000\" fill-opacity=\"1\" points=\"305.78305336833 -620 308 -610 310.21694663167 -620\" /><path fill=\"none\" stroke=\"#000000\" stroke-opacity=\"1\" stroke-width=\"1\" d=\"M 616 -640 L 616 -620\" /><polygon stroke=\"#000000\" stroke-opacity=\"1\" stroke-width=\"1\" fill=\"#000000\" fill-opacity=\"1\" points=\"613.78305336833 -620 616 -610 618.21694663167 -620\" /><!--nodes--><rect fill=\"none\" stroke=\"#000000\" stroke-opacity=\"1\" stroke-width=\"1\" x=\"159.5\" y=\"-610\" width=\"297\" height=\"40\" rx=\"3\" ry=\"3\" /><rect fill=\"none\" stroke=\"#000000\" stroke-opacity=\"1\" stroke-width=\"1\" x=\"1083.5\" y=\"-610\" width=\"297\" height=\"40\" rx=\"3\" ry=\"3\" /><rect fill=\"none\" stroke=\"#000000\" stroke-opacity=\"1\" stroke-width=\"1\" x=\"775.5\" y=\"-610\" width=\"297\" height=\"40\" rx=\"3\" ry=\"3\" /><rect fill=\"none\" stroke=\"#000000\" stroke-opacity=\"1\" stroke-width=\"1\" x=\"-148.5\" y=\"-610\" width=\"297\" height=\"40\" rx=\"3\" ry=\"3\" /><rect fill=\"none\" stroke=\"#000000\" stroke-opacity=\"1\" stroke-width=\"1\" x=\"1083.5\" y=\"-680\" width=\"297\" height=\"40\" rx=\"3\" ry=\"3\" /><rect fill=\"none\" stroke=\"#000000\" stroke-opacity=\"1\" stroke-width=\"1\" x=\"-148.5\" y=\"-680\" width=\"297\" height=\"40\" rx=\"3\" ry=\"3\" /><rect fill=\"none\" stroke=\"#000000\" stroke-opacity=\"1\" stroke-width=\"1\" x=\"1391.5\" y=\"-680\" width=\"297\" height=\"40\" rx=\"3\" ry=\"3\" /><rect fill=\"none\" stroke=\"#000000\" stroke-opacity=\"1\" stroke-width=\"1\" x=\"775.5\" y=\"-540\" width=\"297\" height=\"40\" rx=\"3\" ry=\"3\" /><rect fill=\"none\" stroke=\"#000000\" stroke-opacity=\"1\" stroke-width=\"1\" x=\"467.5\" y=\"-610\" width=\"297\" height=\"40\" rx=\"3\" ry=\"3\" /><rect fill=\"none\" stroke=\"#000000\" stroke-opacity=\"1\" stroke-width=\"1\" x=\"775.5\" y=\"-680\" width=\"297\" height=\"40\" rx=\"3\" ry=\"3\" /><rect fill=\"none\" stroke=\"#000000\" stroke-opacity=\"1\" stroke-width=\"1\" x=\"159.5\" y=\"-680\" width=\"297\" height=\"40\" rx=\"3\" ry=\"3\" /><rect fill=\"none\" stroke=\"#000000\" stroke-opacity=\"1\" stroke-width=\"1\" x=\"1391.5\" y=\"-610\" width=\"297\" height=\"40\" rx=\"3\" ry=\"3\" /><rect fill=\"none\" stroke=\"#000000\" stroke-opacity=\"1\" stroke-width=\"1\" x=\"467.5\" y=\"-680\" width=\"297\" height=\"40\" rx=\"3\" ry=\"3\" /><rect fill=\"none\" stroke=\"#000000\" stroke-opacity=\"1\" stroke-width=\"1\" x=\"1083.5\" y=\"-540\" width=\"297\" height=\"40\" rx=\"3\" ry=\"3\" /><!--end of nodes--></g></svg>"
      ]
     },
     "execution_count": 29,
     "metadata": {},
     "output_type": "execute_result"
    }
   ],
   "source": [
    "var xmldoc = new XmlDocument();\n",
    "xmldoc.LoadXml(svg);\n",
    "xmldoc.DocumentElement.OuterXml"
   ]
  },
  {
   "cell_type": "code",
   "execution_count": null,
   "id": "bee3dbeb",
   "metadata": {},
   "outputs": [],
   "source": []
  },
  {
   "cell_type": "code",
   "execution_count": null,
   "id": "e5ca9b60",
   "metadata": {},
   "outputs": [],
   "source": []
  },
  {
   "cell_type": "code",
   "execution_count": null,
   "id": "6670c585",
   "metadata": {},
   "outputs": [],
   "source": []
  },
  {
   "cell_type": "code",
   "execution_count": null,
   "id": "fd4cffd0",
   "metadata": {},
   "outputs": [],
   "source": []
  },
  {
   "cell_type": "code",
   "execution_count": null,
   "id": "38ba5b6e",
   "metadata": {},
   "outputs": [],
   "source": []
  },
  {
   "cell_type": "code",
   "execution_count": null,
   "id": "38f9bc3e",
   "metadata": {},
   "outputs": [],
   "source": []
  },
  {
   "cell_type": "code",
   "execution_count": null,
   "id": "bdf64611",
   "metadata": {},
   "outputs": [],
   "source": []
  },
  {
   "cell_type": "code",
   "execution_count": null,
   "id": "7eb6edbe",
   "metadata": {},
   "outputs": [],
   "source": []
  },
  {
   "cell_type": "code",
   "execution_count": null,
   "id": "049d1bba",
   "metadata": {},
   "outputs": [],
   "source": []
  },
  {
   "cell_type": "code",
   "execution_count": null,
   "id": "75fbdcf6",
   "metadata": {},
   "outputs": [],
   "source": []
  },
  {
   "cell_type": "code",
   "execution_count": null,
   "id": "dd97ce82",
   "metadata": {},
   "outputs": [],
   "source": []
  },
  {
   "cell_type": "code",
   "execution_count": null,
   "id": "fcc904a6",
   "metadata": {},
   "outputs": [],
   "source": []
  },
  {
   "cell_type": "code",
   "execution_count": null,
   "id": "d3889f76",
   "metadata": {},
   "outputs": [],
   "source": []
  },
  {
   "cell_type": "code",
   "execution_count": null,
   "id": "4de44fb8",
   "metadata": {},
   "outputs": [],
   "source": []
  },
  {
   "cell_type": "code",
   "execution_count": null,
   "id": "734bbb7d",
   "metadata": {},
   "outputs": [],
   "source": []
  },
  {
   "cell_type": "code",
   "execution_count": null,
   "id": "412ef3e4",
   "metadata": {},
   "outputs": [],
   "source": []
  },
  {
   "cell_type": "code",
   "execution_count": null,
   "id": "eba7590e",
   "metadata": {},
   "outputs": [],
   "source": []
  },
  {
   "cell_type": "code",
   "execution_count": null,
   "id": "650b6816",
   "metadata": {},
   "outputs": [],
   "source": []
  },
  {
   "cell_type": "code",
   "execution_count": null,
   "id": "0b9c1b8d",
   "metadata": {},
   "outputs": [],
   "source": []
  },
  {
   "cell_type": "code",
   "execution_count": null,
   "id": "1f39c786",
   "metadata": {},
   "outputs": [],
   "source": []
  },
  {
   "cell_type": "code",
   "execution_count": null,
   "id": "6544dcd9",
   "metadata": {},
   "outputs": [],
   "source": []
  },
  {
   "cell_type": "code",
   "execution_count": 5,
   "id": "44df02f4",
   "metadata": {},
   "outputs": [
    {
     "data": {
      "text/html": [
       "<div style=\"background-color:white\">\r\n",
       "<script type=\"text/javascript\">\r\n",
       "\r\n",
       "loadMermaid_3d06a4631d504f379625337b249f940f = () => {\r\n",
       " \r\n",
       "        (require.config({ 'paths': { 'context': '9.1.1', 'mermaidUri' : 'https://cdn.jsdelivr.net/npm/mermaid@9.1.1/dist/mermaid.min', 'urlArgs': 'cacheBuster=9e0863f894544dec8f1d5eec21651cfb' }}) || require)(['mermaidUri'], (mermaid) => {\r\n",
       "\r\n",
       "            let renderTarget = document.getElementById('3d06a4631d504f379625337b249f940f');\r\n",
       "            mermaid.mermaidAPI.render( \r\n",
       "                'mermaid_3d06a4631d504f379625337b249f940f', \r\n",
       "                `stateDiagram-v2\n",
       "    [*] --> Active\n",
       "\n",
       "    state Active {\n",
       "        [*] --> NumLockOff\n",
       "        NumLockOff --> NumLockOn : EvNumLockPressed\n",
       "        NumLockOn --> NumLockOff : EvNumLockPressed\n",
       "        --\n",
       "        [*] --> CapsLockOff\n",
       "        CapsLockOff --> CapsLockOn : EvCapsLockPressed\n",
       "        CapsLockOn --> CapsLockOff : EvCapsLockPressed\n",
       "        --\n",
       "        [*] --> ScrollLockOff\n",
       "        ScrollLockOff --> ScrollLockOn : EvScrollLockPressed\n",
       "        ScrollLockOn --> ScrollLockOff : EvScrollLockPressed\n",
       "    }`, \r\n",
       "                g => {\r\n",
       "                    renderTarget.innerHTML = g \r\n",
       "                });\r\n",
       "        },\r\n",
       "        (error) => {\r\n",
       "            console.log(error);\r\n",
       "        });\r\n",
       "}\r\n",
       "// ensure `require` is available globally\r\n",
       "if ((typeof(require) !==  typeof(Function)) || (typeof(require.config) !== typeof(Function))) {\r\n",
       "    let require_script = document.createElement('script');\r\n",
       "    require_script.setAttribute('src', 'https://cdnjs.cloudflare.com/ajax/libs/require.js/2.3.6/require.min.js');\r\n",
       "    require_script.setAttribute('type', 'text/javascript');\r\n",
       "    \r\n",
       "    \r\n",
       "    require_script.onload = function() {\r\n",
       "        loadMermaid_3d06a4631d504f379625337b249f940f();\r\n",
       "    };\r\n",
       "\r\n",
       "    document.getElementsByTagName('head')[0].appendChild(require_script);\r\n",
       "}\r\n",
       "else {\r\n",
       "    loadMermaid_3d06a4631d504f379625337b249f940f();\r\n",
       "}\r\n",
       "\r\n",
       "</script>\r\n",
       "<div id=\"3d06a4631d504f379625337b249f940f\"></div>\r\n",
       "</div>\r\n"
      ]
     },
     "metadata": {},
     "output_type": "display_data"
    }
   ],
   "source": [
    "#!mermaid\n",
    "stateDiagram-v2\n",
    "    [*] --> Active\n",
    "\n",
    "    state Active {\n",
    "        [*] --> NumLockOff\n",
    "        NumLockOff --> NumLockOn : EvNumLockPressed\n",
    "        NumLockOn --> NumLockOff : EvNumLockPressed\n",
    "        --\n",
    "        [*] --> CapsLockOff\n",
    "        CapsLockOff --> CapsLockOn : EvCapsLockPressed\n",
    "        CapsLockOn --> CapsLockOff : EvCapsLockPressed\n",
    "        --\n",
    "        [*] --> ScrollLockOff\n",
    "        ScrollLockOff --> ScrollLockOn : EvScrollLockPressed\n",
    "        ScrollLockOn --> ScrollLockOff : EvScrollLockPressed\n",
    "    }"
   ]
  },
  {
   "cell_type": "code",
   "execution_count": 6,
   "id": "bd268f48",
   "metadata": {},
   "outputs": [
    {
     "name": "stderr",
     "output_type": "stream",
     "text": [
      "\r\n",
      "(1,11): error CS1061: 'Graph' does not contain a definition for 'GetSummary' and no accessible extension method 'GetSummary' accepting a first argument of type 'Graph' could be found (are you missing a using directive or an assembly reference?)\r\n",
      "\r\n"
     ]
    },
    {
     "ename": "Cell not executed",
     "evalue": "compilation error",
     "output_type": "error",
     "traceback": []
    }
   ],
   "source": [
    "var s = g.GetSummary();\n",
    "s"
   ]
  }
 ],
 "metadata": {
  "kernelspec": {
   "display_name": ".NET (C#)",
   "language": "C#",
   "name": ".net-csharp"
  },
  "language_info": {
   "file_extension": ".cs",
   "mimetype": "text/x-csharp",
   "name": "C#",
   "pygments_lexer": "csharp",
   "version": "10.0"
  }
 },
 "nbformat": 4,
 "nbformat_minor": 5
}
