{
 "cells": [
  {
   "cell_type": "code",
   "execution_count": 1,
   "id": "1a995c17",
   "metadata": {
    "scrolled": true,
    "vscode": {
     "languageId": "csharp"
    }
   },
   "outputs": [
    {
     "data": {
      "text/html": [
       "\r\n",
       "<div>\r\n",
       "    <div id='dotnet-interactive-this-cell-15836.Microsoft.DotNet.Interactive.Http.HttpPort' style='display: none'>\r\n",
       "        The below script needs to be able to find the current output cell; this is an easy method to get it.\r\n",
       "    </div>\r\n",
       "    <script type='text/javascript'>\r\n",
       "async function probeAddresses(probingAddresses) {\r\n",
       "    function timeout(ms, promise) {\r\n",
       "        return new Promise(function (resolve, reject) {\r\n",
       "            setTimeout(function () {\r\n",
       "                reject(new Error('timeout'))\r\n",
       "            }, ms)\r\n",
       "            promise.then(resolve, reject)\r\n",
       "        })\r\n",
       "    }\r\n",
       "\r\n",
       "    if (Array.isArray(probingAddresses)) {\r\n",
       "        for (let i = 0; i < probingAddresses.length; i++) {\r\n",
       "\r\n",
       "            let rootUrl = probingAddresses[i];\r\n",
       "\r\n",
       "            if (!rootUrl.endsWith('/')) {\r\n",
       "                rootUrl = `${rootUrl}/`;\r\n",
       "            }\r\n",
       "\r\n",
       "            try {\r\n",
       "                let response = await timeout(1000, fetch(`${rootUrl}discovery`, {\r\n",
       "                    method: 'POST',\r\n",
       "                    cache: 'no-cache',\r\n",
       "                    mode: 'cors',\r\n",
       "                    timeout: 1000,\r\n",
       "                    headers: {\r\n",
       "                        'Content-Type': 'text/plain'\r\n",
       "                    },\r\n",
       "                    body: probingAddresses[i]\r\n",
       "                }));\r\n",
       "\r\n",
       "                if (response.status == 200) {\r\n",
       "                    return rootUrl;\r\n",
       "                }\r\n",
       "            }\r\n",
       "            catch (e) { }\r\n",
       "        }\r\n",
       "    }\r\n",
       "}\r\n",
       "\r\n",
       "function loadDotnetInteractiveApi() {\r\n",
       "    probeAddresses([\"http://192.168.56.1:1000/\", \"http://192.168.169.1:1000/\", \"http://192.168.128.1:1000/\", \"http://192.168.1.190:1000/\", \"http://127.0.0.1:1000/\"])\r\n",
       "        .then((root) => {\r\n",
       "        // use probing to find host url and api resources\r\n",
       "        // load interactive helpers and language services\r\n",
       "        let dotnetInteractiveRequire = require.config({\r\n",
       "        context: '15836.Microsoft.DotNet.Interactive.Http.HttpPort',\r\n",
       "                paths:\r\n",
       "            {\r\n",
       "                'dotnet-interactive': `${root}resources`\r\n",
       "                }\r\n",
       "        }) || require;\r\n",
       "\r\n",
       "            window.dotnetInteractiveRequire = dotnetInteractiveRequire;\r\n",
       "\r\n",
       "            window.configureRequireFromExtension = function(extensionName, extensionCacheBuster) {\r\n",
       "                let paths = {};\r\n",
       "                paths[extensionName] = `${root}extensions/${extensionName}/resources/`;\r\n",
       "                \r\n",
       "                let internalRequire = require.config({\r\n",
       "                    context: extensionCacheBuster,\r\n",
       "                    paths: paths,\r\n",
       "                    urlArgs: `cacheBuster=${extensionCacheBuster}`\r\n",
       "                    }) || require;\r\n",
       "\r\n",
       "                return internalRequire\r\n",
       "            };\r\n",
       "        \r\n",
       "            dotnetInteractiveRequire([\r\n",
       "                    'dotnet-interactive/dotnet-interactive'\r\n",
       "                ],\r\n",
       "                function (dotnet) {\r\n",
       "                    dotnet.init(window);\r\n",
       "                },\r\n",
       "                function (error) {\r\n",
       "                    console.log(error);\r\n",
       "                }\r\n",
       "            );\r\n",
       "        })\r\n",
       "        .catch(error => {console.log(error);});\r\n",
       "    }\r\n",
       "\r\n",
       "// ensure `require` is available globally\r\n",
       "if ((typeof(require) !==  typeof(Function)) || (typeof(require.config) !== typeof(Function))) {\r\n",
       "    let require_script = document.createElement('script');\r\n",
       "    require_script.setAttribute('src', 'https://cdnjs.cloudflare.com/ajax/libs/require.js/2.3.6/require.min.js');\r\n",
       "    require_script.setAttribute('type', 'text/javascript');\r\n",
       "    \r\n",
       "    \r\n",
       "    require_script.onload = function() {\r\n",
       "        loadDotnetInteractiveApi();\r\n",
       "    };\r\n",
       "\r\n",
       "    document.getElementsByTagName('head')[0].appendChild(require_script);\r\n",
       "}\r\n",
       "else {\r\n",
       "    loadDotnetInteractiveApi();\r\n",
       "}\r\n",
       "\r\n",
       "    </script>\r\n",
       "</div>"
      ]
     },
     "metadata": {},
     "output_type": "display_data"
    },
    {
     "data": {
      "text/markdown": [
       "Added formatter for AGL graphs using VisJS to .NET Interactive kernel csharp."
      ]
     },
     "metadata": {},
     "output_type": "display_data"
    },
    {
     "data": {
      "text/markdown": [
       "Added formatter for Mermaid language to .NET Interactive kernel csharp."
      ]
     },
     "metadata": {},
     "output_type": "display_data"
    },
    {
     "data": {
      "text/markdown": [
       "Added formatter for DOT language to .NET Interactive kernel csharp."
      ]
     },
     "metadata": {},
     "output_type": "display_data"
    },
    {
     "data": {
      "text/markdown": [
       "Added formatter for VisJS networks to .NET Interactive kernel csharp."
      ]
     },
     "metadata": {},
     "output_type": "display_data"
    },
    {
     "data": {
      "text/html": [
       "<link rel=\"stylesheet\" href=\"https://cdnjs.cloudflare.com/ajax/libs/jstree/3.2.1/themes/default/style.min.css\" />"
      ]
     },
     "metadata": {},
     "output_type": "display_data"
    },
    {
     "data": {
      "text/markdown": [
       "Added formatter for jsTree diagrams to .NET Interactive kernel csharp."
      ]
     },
     "metadata": {},
     "output_type": "display_data"
    },
    {
     "data": {
      "text/html": [
       "<script>\r\n",
       "    //if (!!document.getElementById('shikilib')) {\r\n",
       "        let require_script_88e29b576dde4cd18709f0baf2a3a4d6 = document.createElement('script');\r\n",
       "        require_script_88e29b576dde4cd18709f0baf2a3a4d6.setAttribute('src', 'https://unpkg.com/@antfu/shiki@0.5.2/dist/index.unpkg.iife.js');\r\n",
       "        require_script_88e29b576dde4cd18709f0baf2a3a4d6.setAttribute('type', 'text/javascript');\r\n",
       "        document.getElementsByTagName('head')[0].appendChild(require_script_88e29b576dde4cd18709f0baf2a3a4d6);\r\n",
       "        let tag_88e29b576dde4cd18709f0baf2a3a4d6 = document.createElement('span');\r\n",
       "        tag_88e29b576dde4cd18709f0baf2a3a4d6.setAttribute('id', 'shikilib');\r\n",
       "        document.getElementsByTagName('body')[0].appendChild(tag_88e29b576dde4cd18709f0baf2a3a4d6);\r\n",
       "    //}\r\n",
       "    </script>\r\n",
       "    "
      ]
     },
     "metadata": {},
     "output_type": "display_data"
    },
    {
     "data": {
      "text/html": [
       "<script>\r\n",
       "    //if (!!document.getElementById('shikirendererlib')) {\r\n",
       "        let require_script_e32d5e10e4e04deca50222bf74ff4d8a = document.createElement('script');\r\n",
       "        require_script_e32d5e10e4e04deca50222bf74ff4d8a.setAttribute('src', 'https://unpkg.com/@antfu/shiki-renderer-svg@0.5.2/dist/index.iife.min.js');\r\n",
       "        require_script_e32d5e10e4e04deca50222bf74ff4d8a.setAttribute('type', 'text/javascript');\r\n",
       "        document.getElementsByTagName('head')[0].appendChild(require_script_e32d5e10e4e04deca50222bf74ff4d8a);\r\n",
       "        let tag_e32d5e10e4e04deca50222bf74ff4d8a = document.createElement('span');\r\n",
       "        tag_e32d5e10e4e04deca50222bf74ff4d8a.setAttribute('id', 'shikirendererlib');\r\n",
       "        document.getElementsByTagName('body')[0].appendChild(tag_e32d5e10e4e04deca50222bf74ff4d8a);\r\n",
       "    //}\r\n",
       "    </script>\r\n",
       "    "
      ]
     },
     "metadata": {},
     "output_type": "display_data"
    },
    {
     "data": {
      "text/html": [
       "<script>\r\n",
       "    //if (!!document.getElementById('shikilanguageslib')) {\r\n",
       "        let require_script_0b5543c49be8471eb19352fe87b76df4 = document.createElement('script');\r\n",
       "        require_script_0b5543c49be8471eb19352fe87b76df4.setAttribute('src', 'https://dokans3fs-test-1.us-east-1.linodeobjects.com/shikiLanguages.js');\r\n",
       "        require_script_0b5543c49be8471eb19352fe87b76df4.setAttribute('type', 'text/javascript');\r\n",
       "        document.getElementsByTagName('head')[0].appendChild(require_script_0b5543c49be8471eb19352fe87b76df4);\r\n",
       "        let tag_0b5543c49be8471eb19352fe87b76df4 = document.createElement('span');\r\n",
       "        tag_0b5543c49be8471eb19352fe87b76df4.setAttribute('id', 'shikilanguageslib');\r\n",
       "        document.getElementsByTagName('body')[0].appendChild(tag_0b5543c49be8471eb19352fe87b76df4);\r\n",
       "    //}\r\n",
       "    </script>\r\n",
       "    "
      ]
     },
     "metadata": {},
     "output_type": "display_data"
    },
    {
     "data": {
      "text/markdown": [
       "Added formatter for TextMate highlighted code using Shiki to .NET Interactive kernel csharp."
      ]
     },
     "metadata": {},
     "output_type": "display_data"
    }
   ],
   "source": [
    "#load \"DotNetInteractive.csx\""
   ]
  },
  {
   "cell_type": "code",
   "execution_count": 2,
   "id": "7725ee91",
   "metadata": {
    "vscode": {
     "languageId": "csharp"
    }
   },
   "outputs": [],
   "source": [
    "using Silver;\n",
    "using Silver.Notebooks;"
   ]
  },
  {
   "cell_type": "code",
   "execution_count": null,
   "id": "d6a28488",
   "metadata": {
    "scrolled": true
   },
   "outputs": [],
   "source": [
    "Verifier.VerifyCode(\"foo() {}\")"
   ]
  },
  {
   "cell_type": "code",
   "execution_count": 3,
   "id": "ada3d546",
   "metadata": {},
   "outputs": [
    {
     "data": {
      "text/html": [
       "<table><thead><tr><th>Data</th><th>Attributes</th><th>Children</th></tr></thead><tbody><tr><td><div class=\"dni-plaintext\">foo</div></td><td><div class=\"dni-plaintext\">[  ]</div></td><td><div class=\"dni-plaintext\">[  ]</div></td></tr></tbody></table>"
      ]
     },
     "execution_count": 3,
     "metadata": {},
     "output_type": "execute_result"
    }
   ],
   "source": [
    "using Silver.Drawing;\n",
    "var t = new TreeNode(\"foo\");\n",
    "t"
   ]
  },
  {
   "cell_type": "code",
   "execution_count": 4,
   "id": "ed088c4b",
   "metadata": {
    "scrolled": true
   },
   "outputs": [
    {
     "data": {
      "text/html": [
       "<div id=\"42fa671e83e8413dac7ad7fe59021cb2\">\r\n",
       "<ul>\r\n",
       "<li>\r\n",
       "foo\r\n",
       "</li>\r\n",
       "\r\n",
       "</ul>\r\n",
       "</div>\r\n",
       "<script>(require.config({ 'paths': { 'jstree' : 'https://cdnjs.cloudflare.com/ajax/libs/jstree/3.2.1/jstree.min' }}) || require)(['jstree'], (jstree) => {$('#42fa671e83e8413dac7ad7fe59021cb2').jstree();});</script>"
      ]
     },
     "execution_count": 4,
     "metadata": {},
     "output_type": "execute_result"
    }
   ],
   "source": [
    "var td = new TreeDiagram(new [] {t});\n",
    "td"
   ]
  },
  {
   "cell_type": "code",
   "execution_count": 5,
   "id": "0ff45114",
   "metadata": {},
   "outputs": [
    {
     "data": {
      "text/html": [
       "<div id=\"0449a66f6fed4b928ff0f30990d1fe53\">\r\n",
       "<ul>\r\n",
       "<li>\r\n",
       "foo\r\n",
       "</li>\r\n",
       "\r\n",
       "</ul>\r\n",
       "</div>\r\n",
       "<script>(require.config({ 'paths': { 'jstree' : 'https://cdnjs.cloudflare.com/ajax/libs/jstree/3.2.1/jstree.min' }}) || require)(['jstree'], (jstree) => {$('#0449a66f6fed4b928ff0f30990d1fe53').jstree();});</script>"
      ]
     },
     "execution_count": 5,
     "metadata": {},
     "output_type": "execute_result"
    }
   ],
   "source": [
    "td"
   ]
  },
  {
   "cell_type": "code",
   "execution_count": 6,
   "id": "d833c49b",
   "metadata": {},
   "outputs": [
    {
     "data": {
      "text/html": [
       "<div id=\"9f8554fbe28b4fad978b30a6915d8ad8\">\r\n",
       "</div>\r\n",
       "<script>if (highlighter === undefined) {console.error('Shiki not loaded yet!. Run the notebook init script.')} else {$('#9f8554fbe28b4fad978b30a6915d8ad8').html(highlighter.codeToHtml(\"function {:bvbuiltin} bv8st(bv8,bv8) returns(bool);\", \"boogie\", \"light-plus\"));}</script>\r\n"
      ]
     },
     "execution_count": 6,
     "metadata": {},
     "output_type": "execute_result"
    }
   ],
   "source": [
    "var gg = new TmHighlightedCode(\"boogie\", \"function {:bvbuiltin} bv8st(bv8,bv8) returns(bool);\");\n",
    "gg"
   ]
  },
  {
   "cell_type": "code",
   "execution_count": null,
   "id": "a95d3498",
   "metadata": {},
   "outputs": [],
   "source": []
  },
  {
   "cell_type": "code",
   "execution_count": null,
   "id": "ec0c8a5a",
   "metadata": {},
   "outputs": [],
   "source": []
  }
 ],
 "metadata": {
  "kernelspec": {
   "display_name": ".NET (C#)",
   "language": "C#",
   "name": ".net-csharp"
  },
  "language_info": {
   "file_extension": ".cs",
   "mimetype": "text/x-csharp",
   "name": "C#",
   "pygments_lexer": "csharp",
   "version": "10.0"
  }
 },
 "nbformat": 4,
 "nbformat_minor": 5
}
