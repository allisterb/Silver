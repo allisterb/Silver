{
 "cells": [
  {
   "cell_type": "code",
   "execution_count": 1,
   "id": "1a995c17",
   "metadata": {
    "scrolled": true,
    "slideshow": {
     "slide_type": "skip"
    },
    "vscode": {
     "languageId": "csharp"
    }
   },
   "outputs": [
    {
     "data": {
      "text/html": [
       "\r\n",
       "<div>\r\n",
       "    <div id='dotnet-interactive-this-cell-22216.Microsoft.DotNet.Interactive.Http.HttpPort' style='display: none'>\r\n",
       "        The below script needs to be able to find the current output cell; this is an easy method to get it.\r\n",
       "    </div>\r\n",
       "    <script type='text/javascript'>\r\n",
       "async function probeAddresses(probingAddresses) {\r\n",
       "    function timeout(ms, promise) {\r\n",
       "        return new Promise(function (resolve, reject) {\r\n",
       "            setTimeout(function () {\r\n",
       "                reject(new Error('timeout'))\r\n",
       "            }, ms)\r\n",
       "            promise.then(resolve, reject)\r\n",
       "        })\r\n",
       "    }\r\n",
       "\r\n",
       "    if (Array.isArray(probingAddresses)) {\r\n",
       "        for (let i = 0; i < probingAddresses.length; i++) {\r\n",
       "\r\n",
       "            let rootUrl = probingAddresses[i];\r\n",
       "\r\n",
       "            if (!rootUrl.endsWith('/')) {\r\n",
       "                rootUrl = `${rootUrl}/`;\r\n",
       "            }\r\n",
       "\r\n",
       "            try {\r\n",
       "                let response = await timeout(1000, fetch(`${rootUrl}discovery`, {\r\n",
       "                    method: 'POST',\r\n",
       "                    cache: 'no-cache',\r\n",
       "                    mode: 'cors',\r\n",
       "                    timeout: 1000,\r\n",
       "                    headers: {\r\n",
       "                        'Content-Type': 'text/plain'\r\n",
       "                    },\r\n",
       "                    body: probingAddresses[i]\r\n",
       "                }));\r\n",
       "\r\n",
       "                if (response.status == 200) {\r\n",
       "                    return rootUrl;\r\n",
       "                }\r\n",
       "            }\r\n",
       "            catch (e) { }\r\n",
       "        }\r\n",
       "    }\r\n",
       "}\r\n",
       "\r\n",
       "function loadDotnetInteractiveApi() {\r\n",
       "    probeAddresses([\"http://192.168.56.1:1000/\", \"http://192.168.169.1:1000/\", \"http://192.168.128.1:1000/\", \"http://192.168.1.190:1000/\", \"http://127.0.0.1:1000/\"])\r\n",
       "        .then((root) => {\r\n",
       "        // use probing to find host url and api resources\r\n",
       "        // load interactive helpers and language services\r\n",
       "        let dotnetInteractiveRequire = require.config({\r\n",
       "        context: '22216.Microsoft.DotNet.Interactive.Http.HttpPort',\r\n",
       "                paths:\r\n",
       "            {\r\n",
       "                'dotnet-interactive': `${root}resources`\r\n",
       "                }\r\n",
       "        }) || require;\r\n",
       "\r\n",
       "            window.dotnetInteractiveRequire = dotnetInteractiveRequire;\r\n",
       "\r\n",
       "            window.configureRequireFromExtension = function(extensionName, extensionCacheBuster) {\r\n",
       "                let paths = {};\r\n",
       "                paths[extensionName] = `${root}extensions/${extensionName}/resources/`;\r\n",
       "                \r\n",
       "                let internalRequire = require.config({\r\n",
       "                    context: extensionCacheBuster,\r\n",
       "                    paths: paths,\r\n",
       "                    urlArgs: `cacheBuster=${extensionCacheBuster}`\r\n",
       "                    }) || require;\r\n",
       "\r\n",
       "                return internalRequire\r\n",
       "            };\r\n",
       "        \r\n",
       "            dotnetInteractiveRequire([\r\n",
       "                    'dotnet-interactive/dotnet-interactive'\r\n",
       "                ],\r\n",
       "                function (dotnet) {\r\n",
       "                    dotnet.init(window);\r\n",
       "                },\r\n",
       "                function (error) {\r\n",
       "                    console.log(error);\r\n",
       "                }\r\n",
       "            );\r\n",
       "        })\r\n",
       "        .catch(error => {console.log(error);});\r\n",
       "    }\r\n",
       "\r\n",
       "// ensure `require` is available globally\r\n",
       "if ((typeof(require) !==  typeof(Function)) || (typeof(require.config) !== typeof(Function))) {\r\n",
       "    let require_script = document.createElement('script');\r\n",
       "    require_script.setAttribute('src', 'https://cdnjs.cloudflare.com/ajax/libs/require.js/2.3.6/require.min.js');\r\n",
       "    require_script.setAttribute('type', 'text/javascript');\r\n",
       "    \r\n",
       "    \r\n",
       "    require_script.onload = function() {\r\n",
       "        loadDotnetInteractiveApi();\r\n",
       "    };\r\n",
       "\r\n",
       "    document.getElementsByTagName('head')[0].appendChild(require_script);\r\n",
       "}\r\n",
       "else {\r\n",
       "    loadDotnetInteractiveApi();\r\n",
       "}\r\n",
       "\r\n",
       "    </script>\r\n",
       "</div>"
      ]
     },
     "metadata": {},
     "output_type": "display_data"
    },
    {
     "data": {
      "text/markdown": [
       "Added formatter for AGL graphs using VisJS to .NET Interactive kernel csharp."
      ]
     },
     "metadata": {},
     "output_type": "display_data"
    },
    {
     "data": {
      "text/markdown": [
       "Added formatter for Mermaid language to .NET Interactive kernel csharp."
      ]
     },
     "metadata": {},
     "output_type": "display_data"
    },
    {
     "data": {
      "text/markdown": [
       "Added formatter for DOT language to .NET Interactive kernel csharp."
      ]
     },
     "metadata": {},
     "output_type": "display_data"
    },
    {
     "data": {
      "text/markdown": [
       "Added formatter for VisJS networks to .NET Interactive kernel csharp."
      ]
     },
     "metadata": {},
     "output_type": "display_data"
    },
    {
     "data": {
      "text/html": [
       "<link rel=\"stylesheet\" href=\"https://cdnjs.cloudflare.com/ajax/libs/jstree/3.2.1/themes/default/style.min.css\" />"
      ]
     },
     "metadata": {},
     "output_type": "display_data"
    },
    {
     "data": {
      "text/markdown": [
       "Added formatter for jsTree diagrams to .NET Interactive kernel csharp."
      ]
     },
     "metadata": {},
     "output_type": "display_data"
    },
    {
     "data": {
      "text/html": [
       "<script>\r\n",
       "    //if (!!document.getElementById('shikilib')) {\r\n",
       "        let require_script_ce8c4ad5722b4c24af837f22c52adc06 = document.createElement('script');\r\n",
       "        require_script_ce8c4ad5722b4c24af837f22c52adc06.setAttribute('src', 'https://unpkg.com/@antfu/shiki@0.5.2/dist/index.unpkg.iife.js');\r\n",
       "        require_script_ce8c4ad5722b4c24af837f22c52adc06.setAttribute('type', 'text/javascript');\r\n",
       "        document.getElementsByTagName('head')[0].appendChild(require_script_ce8c4ad5722b4c24af837f22c52adc06);\r\n",
       "        let tag_ce8c4ad5722b4c24af837f22c52adc06 = document.createElement('span');\r\n",
       "        tag_ce8c4ad5722b4c24af837f22c52adc06.setAttribute('id', 'shikilib');\r\n",
       "        document.getElementsByTagName('body')[0].appendChild(tag_ce8c4ad5722b4c24af837f22c52adc06);\r\n",
       "    //}\r\n",
       "    </script>\r\n",
       "    "
      ]
     },
     "metadata": {},
     "output_type": "display_data"
    },
    {
     "data": {
      "text/html": [
       "<script>\r\n",
       "    //if (!!document.getElementById('shikirendererlib')) {\r\n",
       "        let require_script_e6366d839048402cba86f0f6feebc573 = document.createElement('script');\r\n",
       "        require_script_e6366d839048402cba86f0f6feebc573.setAttribute('src', 'https://unpkg.com/@antfu/shiki-renderer-svg@0.5.2/dist/index.iife.min.js');\r\n",
       "        require_script_e6366d839048402cba86f0f6feebc573.setAttribute('type', 'text/javascript');\r\n",
       "        document.getElementsByTagName('head')[0].appendChild(require_script_e6366d839048402cba86f0f6feebc573);\r\n",
       "        let tag_e6366d839048402cba86f0f6feebc573 = document.createElement('span');\r\n",
       "        tag_e6366d839048402cba86f0f6feebc573.setAttribute('id', 'shikirendererlib');\r\n",
       "        document.getElementsByTagName('body')[0].appendChild(tag_e6366d839048402cba86f0f6feebc573);\r\n",
       "    //}\r\n",
       "    </script>\r\n",
       "    "
      ]
     },
     "metadata": {},
     "output_type": "display_data"
    },
    {
     "data": {
      "text/html": [
       "<script>\r\n",
       "    //if (!!document.getElementById('shikilanguageslib')) {\r\n",
       "        let require_script_7b5a91068a4b45fa82b111d565f75bb5 = document.createElement('script');\r\n",
       "        require_script_7b5a91068a4b45fa82b111d565f75bb5.setAttribute('src', 'https://dokans3fs-test-1.us-east-1.linodeobjects.com/shikiLanguages.js');\r\n",
       "        require_script_7b5a91068a4b45fa82b111d565f75bb5.setAttribute('type', 'text/javascript');\r\n",
       "        document.getElementsByTagName('head')[0].appendChild(require_script_7b5a91068a4b45fa82b111d565f75bb5);\r\n",
       "        let tag_7b5a91068a4b45fa82b111d565f75bb5 = document.createElement('span');\r\n",
       "        tag_7b5a91068a4b45fa82b111d565f75bb5.setAttribute('id', 'shikilanguageslib');\r\n",
       "        document.getElementsByTagName('body')[0].appendChild(tag_7b5a91068a4b45fa82b111d565f75bb5);\r\n",
       "    //}\r\n",
       "    </script>\r\n",
       "    "
      ]
     },
     "metadata": {},
     "output_type": "display_data"
    },
    {
     "data": {
      "text/markdown": [
       "Added formatter for TextMate highlighted code using Shiki to .NET Interactive kernel csharp."
      ]
     },
     "metadata": {},
     "output_type": "display_data"
    }
   ],
   "source": [
    "#load \"DotNetInteractive.csx\""
   ]
  },
  {
   "cell_type": "code",
   "execution_count": null,
   "id": "1b09391c",
   "metadata": {
    "slideshow": {
     "slide_type": "skip"
    }
   },
   "outputs": [],
   "source": [
    "#!html\n",
    "<link rel=\"stylesheet\" href=\"https://cdnjs.cloudflare.com/ajax/libs/font-awesome/6.0.0/css/font-awesome.min.css\">\n",
    "<script async src=\"https://cdn.jsdelivr.net/npm/mathjax@2/MathJax.js?config=TeX-AMS-MML_CHTML\"></script>"
   ]
  },
  {
   "cell_type": "code",
   "execution_count": 2,
   "id": "7725ee91",
   "metadata": {
    "slideshow": {
     "slide_type": "skip"
    },
    "vscode": {
     "languageId": "csharp"
    }
   },
   "outputs": [],
   "source": [
    "using Silver;\n",
    "using Silver.Notebooks;"
   ]
  },
  {
   "cell_type": "code",
   "execution_count": null,
   "id": "d6a28488",
   "metadata": {
    "scrolled": true,
    "slideshow": {
     "slide_type": "skip"
    }
   },
   "outputs": [],
   "source": [
    "Verifier.VerifyCode(\"foo() {}\")"
   ]
  },
  {
   "cell_type": "code",
   "execution_count": 3,
   "id": "ada3d546",
   "metadata": {
    "slideshow": {
     "slide_type": "skip"
    }
   },
   "outputs": [
    {
     "data": {
      "text/html": [
       "<table><thead><tr><th>Data</th><th>Attributes</th><th>Children</th></tr></thead><tbody><tr><td><div class=\"dni-plaintext\">foo</div></td><td><div class=\"dni-plaintext\">[  ]</div></td><td><div class=\"dni-plaintext\">[  ]</div></td></tr></tbody></table>"
      ]
     },
     "execution_count": 3,
     "metadata": {},
     "output_type": "execute_result"
    }
   ],
   "source": [
    "using Silver.Drawing;\n",
    "var t = new TreeNode(\"foo\");\n",
    "t"
   ]
  },
  {
   "cell_type": "code",
   "execution_count": 4,
   "id": "ed088c4b",
   "metadata": {
    "scrolled": true,
    "slideshow": {
     "slide_type": "skip"
    }
   },
   "outputs": [
    {
     "data": {
      "text/html": [
       "<div id=\"e23e81736bf640f2b65397f5e9bc89db\">\r\n",
       "<ul>\r\n",
       "<li>\r\n",
       "foo\r\n",
       "</li>\r\n",
       "\r\n",
       "</ul>\r\n",
       "</div>\r\n",
       "<script>(require.config({ 'paths': { 'jstree' : 'https://cdnjs.cloudflare.com/ajax/libs/jstree/3.2.1/jstree.min' }}) || require)(['jstree'], (jstree) => {$('#e23e81736bf640f2b65397f5e9bc89db').jstree();});</script>"
      ]
     },
     "execution_count": 4,
     "metadata": {},
     "output_type": "execute_result"
    }
   ],
   "source": [
    "var td = new TreeDiagram(new [] {t});\n",
    "td"
   ]
  },
  {
   "cell_type": "code",
   "execution_count": 5,
   "id": "0ff45114",
   "metadata": {
    "slideshow": {
     "slide_type": "skip"
    }
   },
   "outputs": [
    {
     "data": {
      "text/html": [
       "<div id=\"dbf5695a7c2c40a785c23f6eae1b73ba\">\r\n",
       "<ul>\r\n",
       "<li>\r\n",
       "foo\r\n",
       "</li>\r\n",
       "\r\n",
       "</ul>\r\n",
       "</div>\r\n",
       "<script>(require.config({ 'paths': { 'jstree' : 'https://cdnjs.cloudflare.com/ajax/libs/jstree/3.2.1/jstree.min' }}) || require)(['jstree'], (jstree) => {$('#dbf5695a7c2c40a785c23f6eae1b73ba').jstree();});</script>"
      ]
     },
     "execution_count": 5,
     "metadata": {},
     "output_type": "execute_result"
    }
   ],
   "source": [
    "td"
   ]
  },
  {
   "cell_type": "code",
   "execution_count": 6,
   "id": "d833c49b",
   "metadata": {
    "slideshow": {
     "slide_type": "skip"
    }
   },
   "outputs": [
    {
     "data": {
      "text/html": [
       "<div id=\"70c53f5fe47842ccb5edbb8a53df1783\">\r\n",
       "</div>\r\n",
       "<script>if (highlighter === undefined) {console.error('Shiki not loaded yet!. Run the notebook init script.')} else {$('#70c53f5fe47842ccb5edbb8a53df1783').html(highlighter.codeToHtml(\"function {:bvbuiltin} bv8st(bv8,bv8) returns(bool);\", \"boogie\", \"light-plus\"));}</script>\r\n"
      ]
     },
     "execution_count": 6,
     "metadata": {},
     "output_type": "execute_result"
    }
   ],
   "source": [
    "var gg = new TmHighlightedCode(\"boogie\", \"function {:bvbuiltin} bv8st(bv8,bv8) returns(bool);\");\n",
    "gg"
   ]
  },
  {
   "cell_type": "markdown",
   "id": "331e7cc0",
   "metadata": {
    "slideshow": {
     "slide_type": "skip"
    }
   },
   "source": []
  },
  {
   "cell_type": "markdown",
   "id": "e7fd8ead",
   "metadata": {
    "slideshow": {
     "slide_type": "slide"
    }
   },
   "source": [
    "# Formal verification"
   ]
  },
  {
   "cell_type": "markdown",
   "id": "28a3ac36",
   "metadata": {
    "slideshow": {
     "slide_type": "slide"
    }
   },
   "source": [
    "## Formal Verification - Key Questions\n",
    "-----------\n",
    "### <i class=\"fa fa-question-circle\" style=\"font-size:48px;color:black\"></i>  How do we *reason* about programs?\n",
    "e.g. consider the simple C# program below\n",
    "````csharp\n",
    "static bool Main(string [] args)\n",
    "{\n",
    "    for (int i = 0; i < 10; i++)\n",
    "    {\n",
    "        if (i < 5)\n",
    "        {\n",
    "            return true;\n",
    "        }\n",
    "    }\n",
    "    return false;\n",
    "}\n",
    "````\n",
    "Can we say logically that this method will never return false?"
   ]
  },
  {
   "cell_type": "markdown",
   "id": "cc45b942",
   "metadata": {
    "slideshow": {
     "slide_type": "slide"
    }
   },
   "source": [
    "## Formal Verification - Key Questions\n",
    "-----------\n",
    "### <i class=\"fa fa-question-circle\" style=\"font-size:48px;color:black\"></i>  How do we *reason* about programs?\n",
    "In this case the answer is yes. We can give an *informal* argument about why this statement or property of the program holds.\n",
    "````csharp\n",
    "static bool Main(string [] args)\n",
    "{\n",
    "    for (int i = 0; i < 10; i++)\n",
    "    {\n",
    "        //Loop variable is bounded by 10 so this condition will never hold\n",
    "        if (i > 15)\n",
    "        {\n",
    "            return true;\n",
    "        }\n",
    "    }\n",
    "    // Control always drop to this line\n",
    "    return false;\n",
    "}\n",
    "````"
   ]
  },
  {
   "cell_type": "markdown",
   "id": "cc8450d2",
   "metadata": {
    "slideshow": {
     "slide_type": "slide"
    }
   },
   "source": [
    "## Formal Verification - Key Questions\n",
    "-----------\n",
    " \n",
    "### <i class=\"fa fa-question-circle\" style=\"font-size:48px;color:black\"></i> How do we *prove* statements about programs?\n",
    "* A *logic* is a set of symbols, operators, rules, and axioms for composing and manipulating logical *formulae*\n",
    "* e.g a *propositional logic* formula is $X \\lor P \\implies X = P$\n",
    "* *First-order logic* is a common-variant of logic used in formal verification\n",
    "* First-order logic contains variables, functions, quantifiers,..many of the necessary elements for making statements about programs\n",
    "* A *formal proof* uses the rules and axioms of a logic to demonstrate the logical validity of a formula\n",
    "\n"
   ]
  },
  {
   "cell_type": "markdown",
   "id": "2f01cd56",
   "metadata": {
    "slideshow": {
     "slide_type": "slide"
    }
   },
   "source": [
    "## Formal Verification - Key Questions\n",
    "-----------\n",
    " ### <i class=\"fa fa-question-circle\" style=\"font-size:48px;color:black\"></i> How do we *prove* statements about programs?\n",
    "* An *annotation* is a logical formula about program variables which is always true when execution reaches the location e.g.\n",
    "````csharp\n",
    "static bool Main(string [] args)\n",
    "{\n",
    "    for (int i = 0; i < 10; i++)\n",
    "    {\n",
    "        // ∀𝑖:{ 𝑖 > 15 }\n",
    "        if (i > 15)\n",
    "        {\n",
    "            return true;\n",
    "        }\n",
    "    }\n",
    "    return false;\n",
    "}\n",
    "````"
   ]
  },
  {
   "cell_type": "markdown",
   "id": "94f8f0e4",
   "metadata": {
    "slideshow": {
     "slide_type": "slide"
    }
   },
   "source": [
    "## Formal Verification - Key Questions\n",
    "-----------\n",
    " ### <i class=\"fa fa-question-circle\" style=\"font-size:48px;color:black\"></i> How do we *prove* statements about programs?\n",
    "* An *function pre-condition* is an *annotation* about the variables in a function or procedure placed before it begins execution.\n",
    "\n",
    "* An *function post-condition* is an *annotation* about the variables in a function or procedure placed after it begins execution.\n",
    "\n",
    "* The set of annotations for a program can be transform into a set of formulae called *verification conditions*\n",
    "* Proving the verification conditions are valid means proving the program annotations are valid"
   ]
  },
  {
   "cell_type": "markdown",
   "id": "b5ca0ff9",
   "metadata": {
    "slideshow": {
     "slide_type": "slide"
    }
   },
   "source": [
    "## Formal Verification - Key Questions\n",
    "-----------\n",
    "### <i class=\"fa fa-question-circle\" style=\"font-size:36px;color:black\"></i> How can we *automate* proving statements about programs?\n",
    "* Many tools to automate proving \n",
    "* Satisfiability Modulo Theory (SMT) solvers like Z3 can prove a wide range of first-order logic formulae in the context of theories like integer arithmetic or arraya\n",
    "* If we derive verification conditions from program annotations we can use tools like Z3 to prove the formulae are valid"
   ]
  },
  {
   "cell_type": "markdown",
   "id": "a6a23807",
   "metadata": {
    "slideshow": {
     "slide_type": "slide"
    }
   },
   "source": [
    "## Formal Verification - Key Questions\n",
    "-----------\n",
    " \n",
    "### <i class=\"fa fa-question-circle\" style=\"font-size:48px;color:black\"></i> How can we *integrate* proving statements about programs into a languag ?\n",
    "* Several approaches to formal verificaion\n",
    "* \n",
    "* Z3 - Satisfiability Modulo Theory solvers\n",
    "*"
   ]
  },
  {
   "cell_type": "markdown",
   "id": "f470fb57",
   "metadata": {
    "slideshow": {
     "slide_type": "slide"
    }
   },
   "source": [
    "## Formal Verification - Hoare Logic\n",
    "-----------\n",
    " \n",
    "### <i class=\"fa fa-check-circle\" style=\"font-size:48px;color:black\"></i> How can we *integrate* proving statements about programs into a languag ?\n",
    "* Several approaches to formal verificaion\n",
    "* \n",
    "* Z3 - Satisfiability Modulo Theory solvers\n",
    "*"
   ]
  },
  {
   "cell_type": "markdown",
   "id": "8c52f0b9",
   "metadata": {
    "slideshow": {
     "slide_type": "slide"
    }
   },
   "source": [
    "## Formal Verification - Key Questions\n",
    "-----------\n",
    " \n",
    "### <i class=\"fa fa-check-circle\" style=\"font-size:48px;color:black\"></i> How can we *integrate* proofs of properties and statements about programs into a language ?\n",
    "* Use an entirely new language\n",
    "* Use a separate language for specification\n",
    "* Extend existing language"
   ]
  },
  {
   "cell_type": "markdown",
   "id": "47c763ce",
   "metadata": {
    "slideshow": {
     "slide_type": "slide"
    }
   },
   "source": [
    "## Smart Contract Formal Verification - Approaches\n",
    "-----------\n",
    " \n",
    "### <i class=\"fa fa-check-circle\" style=\"font-size:48px;color:black\"></i> Extending the existing langaguage\n",
    "* Add constructs or keywords or functions to express specifications\n",
    "* Use a compiler module or extension\n",
    "* Extend existing language"
   ]
  },
  {
   "cell_type": "markdown",
   "id": "846e610c",
   "metadata": {
    "slideshow": {
     "slide_type": "subslide"
    }
   },
   "source": [
    "## Smart Contract Formal Verification - Language Extensions\n",
    "-----------\n",
    " \n",
    "### <i class=\"fa fa-star\" style=\"font-size:48px;color:black\"></i> SMTChecker\n",
    "* https://docs.soliditylang.org/en/v0.8.17/smtchecker.html\n",
    "* Solidity compiler module\n",
    "* Enable with CLI flag `--model-checker-engine` or JSON option `settings.modelChecker.engine`\n",
    "* Add `require` and `assert` functions\n",
    "* Statically verify method preconditions and asserts in Solidity code"
   ]
  },
  {
   "cell_type": "markdown",
   "id": "37dd7217",
   "metadata": {
    "slideshow": {
     "slide_type": "subslide"
    }
   },
   "source": [
    "## Smart Contract Formal Verification - Language Extensions\n",
    "-----------\n",
    " \n",
    "### <i class=\"fa fa-star\" style=\"font-size:48px;color:black\"></i>SMTChecker\n",
    "```javascript\n",
    "// SPDX-License-Identifier: GPL-3.0\n",
    "pragma solidity >=0.8.0;\n",
    "\n",
    "contract Max {\n",
    "    function max(uint[] memory _a) public pure returns (uint) {\n",
    "        require(_a.length >= 5);\n",
    "        uint m = 0;\n",
    "        for (uint i = 0; i < _a.length; ++i)\n",
    "            if (_a[i] > m)\n",
    "                m = _a[i];\n",
    "\n",
    "        for (uint i = 0; i < _a.length; ++i)\n",
    "            assert(m > _a[i]);\n",
    "\n",
    "        return m;\n",
    "    }\n",
    "}\n",
    "````"
   ]
  },
  {
   "cell_type": "markdown",
   "id": "96788af7",
   "metadata": {
    "slideshow": {
     "slide_type": "slide"
    }
   },
   "source": [
    "## Smart Contract Formal Verification - Language Extensions\n",
    "-----------\n",
    " \n",
    "### <i class=\"fa fa-star\" style=\"font-size:48px;color:black\"></i> solc-verify\n",
    "* https://github.com/SRI-CSL/solidity\n",
    "* Solidity compiler fork\n",
    "* Translates Solidity code to Boogie IVL\n",
    "* Add support for verifying preconditions, postconditions, invariants"
   ]
  },
  {
   "cell_type": "markdown",
   "id": "c4491651",
   "metadata": {
    "slideshow": {
     "slide_type": "subslide"
    }
   },
   "source": [
    "## Smart Contract Formal Verification - Language Extensions\n",
    "-----------\n",
    " \n",
    "### <i class=\"fa fa-star\" style=\"font-size:48px;color:black\"></i> solc-verify\n",
    "```javascript\n",
    "pragma solidity >=0.5.0;\n",
    "\n",
    "/// @notice invariant x == y\n",
    "contract C {\n",
    "    int x;\n",
    "    int y;\n",
    "\n",
    "    /// @notice precondition x == y\n",
    "    /// @notice postcondition x == (y + n)\n",
    "    /// @notice modifies x\n",
    "    function add_to_x(int n) internal {\n",
    "        x = x + n;\n",
    "        require(x >= y); // Ensures that there is no overflow\n",
    "    }\n",
    "\n",
    "    /// @notice modifies x if n > 0\n",
    "    /// @notice modifies y if n > 0\n",
    "    function add(int n) public {\n",
    "        require(n >= 0);\n",
    "        add_to_x(n);\n",
    "        /// @notice invariant y <= x\n",
    "        while (y < x) {\n",
    "            y = y + 1;\n",
    "        }\n",
    "    }\n",
    "}\n",
    "````"
   ]
  },
  {
   "cell_type": "markdown",
   "id": "0335b672",
   "metadata": {
    "slideshow": {
     "slide_type": "slide"
    }
   },
   "source": [
    "## Smart Contract Formal Verification - Specification Languages\n",
    "-----------\n",
    " \n",
    "### <i class=\"fa fa-frown\" style=\"font-size:48px;color:black\"></i> Act\n",
    "* https://github.com/ethereum/act\n",
    "* Ethereum smart contract specification language\n",
    "* Allows you to write and verify a high-level specification of a Solidity contract\n",
    "* Uses the [hevm](https://hackage.haskell.org/package/hevm) symbolic execution engine to prove equivalence between a contract specification and an implementation of that specification in EVM"
   ]
  },
  {
   "cell_type": "markdown",
   "id": "8b62fe23",
   "metadata": {
    "slideshow": {
     "slide_type": "subslide"
    }
   },
   "source": [
    "## Smart Contract Formal Verification - Specification Languages\n",
    "-----------\n",
    " \n",
    "### <i class=\"fa fa-star\" style=\"font-size:48px;color:black\"></i> Act - Example Contract\n",
    "````javascript\n",
    "constructor of Simple\n",
    "interface constructor()\n",
    "\n",
    "contract Simple {\n",
    "    uint val;\n",
    "\n",
    "    function set(uint x) external payable returns (uint) {\n",
    "        require(x > 100);\n",
    "        val = x;\n",
    "        return x;\n",
    "    }\n",
    "}\n",
    "````"
   ]
  },
  {
   "cell_type": "markdown",
   "id": "41cb678a",
   "metadata": {
    "slideshow": {
     "slide_type": "subslide"
    }
   },
   "source": [
    "## Smart Contract Formal Verification - Approaches\n",
    "-----------\n",
    " \n",
    "### <i class=\"fa fa-star\" style=\"font-size:48px;color:black\"></i> Act - Example Specification\n",
    "````haskell\n",
    "constructor of Simple\n",
    "interface constructor()\n",
    "\n",
    "creates\n",
    "\n",
    "  uint val := 0\n",
    "behaviour set of Simple\n",
    "interface set(uint x)\n",
    "\n",
    "iff\n",
    "\n",
    "  x > 100\n",
    "\n",
    "storage\n",
    "\n",
    "  val => x\n",
    "\n",
    "returns x\n",
    "````"
   ]
  },
  {
   "cell_type": "markdown",
   "id": "ca4637d0",
   "metadata": {
    "slideshow": {
     "slide_type": "subslide"
    }
   },
   "source": [
    "## Smart Contract Formal Verification - Approaches\n",
    "-----------\n",
    " \n",
    "### <i class=\"fa fa-exclamation-circle\" style=\"font-size:48px;color:black\"></i> What are some criticisms of current approaches?\n",
    "* The verification statements are in a totally different syntax than the code.\n",
    "\n",
    "* The verification statements are in different files than the code.\n",
    "\n",
    "* The basic syntax and semantics of the verification statements are not checked by the regular compiler. In too many systems, it's a comment to the compiler.\n",
    "\n",
    "* The verification toolchain and compile toolchain are completely separate.\n",
    "\n",
    "* Too much gratuitous abstraction. \"everything is predicate calculus\" or \"everything is a type\" or \"everything is functional\"."
   ]
  },
  {
   "cell_type": "code",
   "execution_count": null,
   "id": "db6d5848",
   "metadata": {},
   "outputs": [],
   "source": []
  }
 ],
 "metadata": {
  "celltoolbar": "Slideshow",
  "kernelspec": {
   "display_name": ".NET (C#)",
   "language": "C#",
   "name": ".net-csharp"
  },
  "language_info": {
   "file_extension": ".cs",
   "mimetype": "text/x-csharp",
   "name": "C#",
   "pygments_lexer": "csharp",
   "version": "10.0"
  }
 },
 "nbformat": 4,
 "nbformat_minor": 5
}
