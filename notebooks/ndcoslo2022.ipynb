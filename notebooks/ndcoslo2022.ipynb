{
 "cells": [
  {
   "cell_type": "code",
   "execution_count": 1,
   "id": "099f7917",
   "metadata": {
    "slideshow": {
     "slide_type": "skip"
    },
    "vscode": {
     "languageId": "csharp"
    }
   },
   "outputs": [
    {
     "data": {
      "text/html": [
       "\r\n",
       "<div>\r\n",
       "    <div id='dotnet-interactive-this-cell-38676.Microsoft.DotNet.Interactive.Http.HttpPort' style='display: none'>\r\n",
       "        The below script needs to be able to find the current output cell; this is an easy method to get it.\r\n",
       "    </div>\r\n",
       "    <script type='text/javascript'>\r\n",
       "async function probeAddresses(probingAddresses) {\r\n",
       "    function timeout(ms, promise) {\r\n",
       "        return new Promise(function (resolve, reject) {\r\n",
       "            setTimeout(function () {\r\n",
       "                reject(new Error('timeout'))\r\n",
       "            }, ms)\r\n",
       "            promise.then(resolve, reject)\r\n",
       "        })\r\n",
       "    }\r\n",
       "\r\n",
       "    if (Array.isArray(probingAddresses)) {\r\n",
       "        for (let i = 0; i < probingAddresses.length; i++) {\r\n",
       "\r\n",
       "            let rootUrl = probingAddresses[i];\r\n",
       "\r\n",
       "            if (!rootUrl.endsWith('/')) {\r\n",
       "                rootUrl = `${rootUrl}/`;\r\n",
       "            }\r\n",
       "\r\n",
       "            try {\r\n",
       "                let response = await timeout(1000, fetch(`${rootUrl}discovery`, {\r\n",
       "                    method: 'POST',\r\n",
       "                    cache: 'no-cache',\r\n",
       "                    mode: 'cors',\r\n",
       "                    timeout: 1000,\r\n",
       "                    headers: {\r\n",
       "                        'Content-Type': 'text/plain'\r\n",
       "                    },\r\n",
       "                    body: probingAddresses[i]\r\n",
       "                }));\r\n",
       "\r\n",
       "                if (response.status == 200) {\r\n",
       "                    return rootUrl;\r\n",
       "                }\r\n",
       "            }\r\n",
       "            catch (e) { }\r\n",
       "        }\r\n",
       "    }\r\n",
       "}\r\n",
       "\r\n",
       "function loadDotnetInteractiveApi() {\r\n",
       "    probeAddresses([\"http://192.168.56.1:1000/\", \"http://192.168.169.1:1000/\", \"http://192.168.128.1:1000/\", \"http://10.30.0.50:1000/\", \"http://127.0.0.1:1000/\"])\r\n",
       "        .then((root) => {\r\n",
       "        // use probing to find host url and api resources\r\n",
       "        // load interactive helpers and language services\r\n",
       "        let dotnetInteractiveRequire = require.config({\r\n",
       "        context: '38676.Microsoft.DotNet.Interactive.Http.HttpPort',\r\n",
       "                paths:\r\n",
       "            {\r\n",
       "                'dotnet-interactive': `${root}resources`\r\n",
       "                }\r\n",
       "        }) || require;\r\n",
       "\r\n",
       "            window.dotnetInteractiveRequire = dotnetInteractiveRequire;\r\n",
       "\r\n",
       "            window.configureRequireFromExtension = function(extensionName, extensionCacheBuster) {\r\n",
       "                let paths = {};\r\n",
       "                paths[extensionName] = `${root}extensions/${extensionName}/resources/`;\r\n",
       "                \r\n",
       "                let internalRequire = require.config({\r\n",
       "                    context: extensionCacheBuster,\r\n",
       "                    paths: paths,\r\n",
       "                    urlArgs: `cacheBuster=${extensionCacheBuster}`\r\n",
       "                    }) || require;\r\n",
       "\r\n",
       "                return internalRequire\r\n",
       "            };\r\n",
       "        \r\n",
       "            dotnetInteractiveRequire([\r\n",
       "                    'dotnet-interactive/dotnet-interactive'\r\n",
       "                ],\r\n",
       "                function (dotnet) {\r\n",
       "                    dotnet.init(window);\r\n",
       "                },\r\n",
       "                function (error) {\r\n",
       "                    console.log(error);\r\n",
       "                }\r\n",
       "            );\r\n",
       "        })\r\n",
       "        .catch(error => {console.log(error);});\r\n",
       "    }\r\n",
       "\r\n",
       "// ensure `require` is available globally\r\n",
       "if ((typeof(require) !==  typeof(Function)) || (typeof(require.config) !== typeof(Function))) {\r\n",
       "    let require_script = document.createElement('script');\r\n",
       "    require_script.setAttribute('src', 'https://cdnjs.cloudflare.com/ajax/libs/require.js/2.3.6/require.min.js');\r\n",
       "    require_script.setAttribute('type', 'text/javascript');\r\n",
       "    \r\n",
       "    \r\n",
       "    require_script.onload = function() {\r\n",
       "        loadDotnetInteractiveApi();\r\n",
       "    };\r\n",
       "\r\n",
       "    document.getElementsByTagName('head')[0].appendChild(require_script);\r\n",
       "}\r\n",
       "else {\r\n",
       "    loadDotnetInteractiveApi();\r\n",
       "}\r\n",
       "\r\n",
       "    </script>\r\n",
       "</div>"
      ]
     },
     "metadata": {},
     "output_type": "display_data"
    },
    {
     "data": {
      "text/html": [
       "<div><div></div><div></div><div><strong>Installed Packages</strong><ul><li><span>Octokit, 3.0.0</span></li></ul></div></div>"
      ]
     },
     "metadata": {},
     "output_type": "display_data"
    },
    {
     "data": {
      "text/markdown": [
       "Added formatter for AGL graphs using VisJS to .NET Interactive kernel csharp."
      ]
     },
     "metadata": {},
     "output_type": "display_data"
    },
    {
     "data": {
      "text/markdown": [
       "Added formatter for Mermaid language to .NET Interactive kernel csharp."
      ]
     },
     "metadata": {},
     "output_type": "display_data"
    },
    {
     "data": {
      "text/markdown": [
       "Added formatter for DOT language to .NET Interactive kernel csharp."
      ]
     },
     "metadata": {},
     "output_type": "display_data"
    },
    {
     "data": {
      "text/markdown": [
       "Added formatter for VisJS networks to .NET Interactive kernel csharp."
      ]
     },
     "metadata": {},
     "output_type": "display_data"
    },
    {
     "data": {
      "text/html": [
       "<link rel=\"stylesheet\" href=\"https://cdnjs.cloudflare.com/ajax/libs/jstree/3.2.1/themes/default/style.min.css\" />"
      ]
     },
     "metadata": {},
     "output_type": "display_data"
    },
    {
     "data": {
      "text/markdown": [
       "Added formatter for jsTree diagrams to .NET Interactive kernel csharp."
      ]
     },
     "metadata": {},
     "output_type": "display_data"
    },
    {
     "data": {
      "text/html": [
       "<script>\r\n",
       "    //if (!!document.getElementById('shikilib')) {\r\n",
       "        let require_script_c8206bd40bc7453682a0638f3709219d = document.createElement('script');\r\n",
       "        require_script_c8206bd40bc7453682a0638f3709219d.setAttribute('src', 'https://unpkg.com/@antfu/shiki@0.5.2/dist/index.unpkg.iife.js');\r\n",
       "        require_script_c8206bd40bc7453682a0638f3709219d.setAttribute('type', 'text/javascript');\r\n",
       "        document.getElementsByTagName('head')[0].appendChild(require_script_c8206bd40bc7453682a0638f3709219d);\r\n",
       "        let tag_c8206bd40bc7453682a0638f3709219d = document.createElement('span');\r\n",
       "        tag_c8206bd40bc7453682a0638f3709219d.setAttribute('id', 'shikilib');\r\n",
       "        document.getElementsByTagName('body')[0].appendChild(tag_c8206bd40bc7453682a0638f3709219d);\r\n",
       "    //}\r\n",
       "    </script>\r\n",
       "    "
      ]
     },
     "metadata": {},
     "output_type": "display_data"
    },
    {
     "data": {
      "text/html": [
       "<script>\r\n",
       "    //if (!!document.getElementById('shikirendererlib')) {\r\n",
       "        let require_script_d89099fd0c274a7cada10c0b67f84d34 = document.createElement('script');\r\n",
       "        require_script_d89099fd0c274a7cada10c0b67f84d34.setAttribute('src', 'https://unpkg.com/@antfu/shiki-renderer-svg@0.5.2/dist/index.iife.min.js');\r\n",
       "        require_script_d89099fd0c274a7cada10c0b67f84d34.setAttribute('type', 'text/javascript');\r\n",
       "        document.getElementsByTagName('head')[0].appendChild(require_script_d89099fd0c274a7cada10c0b67f84d34);\r\n",
       "        let tag_d89099fd0c274a7cada10c0b67f84d34 = document.createElement('span');\r\n",
       "        tag_d89099fd0c274a7cada10c0b67f84d34.setAttribute('id', 'shikirendererlib');\r\n",
       "        document.getElementsByTagName('body')[0].appendChild(tag_d89099fd0c274a7cada10c0b67f84d34);\r\n",
       "    //}\r\n",
       "    </script>\r\n",
       "    "
      ]
     },
     "metadata": {},
     "output_type": "display_data"
    },
    {
     "data": {
      "text/html": [
       "<script>\r\n",
       "    //if (!!document.getElementById('shikilanguageslib')) {\r\n",
       "        let require_script_de1d3b6491c94f50b64da6b607c2bded = document.createElement('script');\r\n",
       "        require_script_de1d3b6491c94f50b64da6b607c2bded.setAttribute('src', 'https://dokans3fs-test-1.us-east-1.linodeobjects.com/shikiLanguages.js');\r\n",
       "        require_script_de1d3b6491c94f50b64da6b607c2bded.setAttribute('type', 'text/javascript');\r\n",
       "        document.getElementsByTagName('head')[0].appendChild(require_script_de1d3b6491c94f50b64da6b607c2bded);\r\n",
       "        let tag_de1d3b6491c94f50b64da6b607c2bded = document.createElement('span');\r\n",
       "        tag_de1d3b6491c94f50b64da6b607c2bded.setAttribute('id', 'shikilanguageslib');\r\n",
       "        document.getElementsByTagName('body')[0].appendChild(tag_de1d3b6491c94f50b64da6b607c2bded);\r\n",
       "    //}\r\n",
       "    </script>\r\n",
       "    "
      ]
     },
     "metadata": {},
     "output_type": "display_data"
    },
    {
     "data": {
      "text/html": [
       "<script>\r\n",
       "    //if (!!document.getElementById('prismjslib')) {\r\n",
       "        let require_script_2a91fec0bb5d461db805fbc6669e67c0 = document.createElement('script');\r\n",
       "        require_script_2a91fec0bb5d461db805fbc6669e67c0.setAttribute('src', 'https://unpkg.com/prismjs@1.29.0/prism.js');\r\n",
       "        require_script_2a91fec0bb5d461db805fbc6669e67c0.setAttribute('type', 'text/javascript');\r\n",
       "        document.getElementsByTagName('head')[0].appendChild(require_script_2a91fec0bb5d461db805fbc6669e67c0);\r\n",
       "        let tag_2a91fec0bb5d461db805fbc6669e67c0 = document.createElement('span');\r\n",
       "        tag_2a91fec0bb5d461db805fbc6669e67c0.setAttribute('id', 'prismjslib');\r\n",
       "        document.getElementsByTagName('body')[0].appendChild(tag_2a91fec0bb5d461db805fbc6669e67c0);\r\n",
       "    //}\r\n",
       "    </script>\r\n",
       "    "
      ]
     },
     "metadata": {},
     "output_type": "display_data"
    },
    {
     "data": {
      "text/html": [
       "<script>\r\n",
       "    //if (!!document.getElementById('prismjsautoloaderlib')) {\r\n",
       "        let require_script_20a816acecd742f3b1a554e3a99b2c58 = document.createElement('script');\r\n",
       "        require_script_20a816acecd742f3b1a554e3a99b2c58.setAttribute('src', 'https://unpkg.com/prismjs@1.29.0/plugins/autoloader/prism-autoloader.min.js');\r\n",
       "        require_script_20a816acecd742f3b1a554e3a99b2c58.setAttribute('type', 'text/javascript');\r\n",
       "        document.getElementsByTagName('head')[0].appendChild(require_script_20a816acecd742f3b1a554e3a99b2c58);\r\n",
       "        let tag_20a816acecd742f3b1a554e3a99b2c58 = document.createElement('span');\r\n",
       "        tag_20a816acecd742f3b1a554e3a99b2c58.setAttribute('id', 'prismjsautoloaderlib');\r\n",
       "        document.getElementsByTagName('body')[0].appendChild(tag_20a816acecd742f3b1a554e3a99b2c58);\r\n",
       "    //}\r\n",
       "    </script>\r\n",
       "    "
      ]
     },
     "metadata": {},
     "output_type": "display_data"
    },
    {
     "data": {
      "text/html": [
       "<link href=\"https://unpkg.com/prismjs@1.29.0/themes/prism.min.css\" rel=\"stylesheet\" />"
      ]
     },
     "metadata": {},
     "output_type": "display_data"
    },
    {
     "data": {
      "text/markdown": [
       "Added formatter for highlighted code using Shiki and PrismJS to .NET Interactive kernel csharp."
      ]
     },
     "metadata": {},
     "output_type": "display_data"
    }
   ],
   "source": [
    "#load \"DotNetInteractive.csx\"\n",
    "#r \"nuget: Octokit\""
   ]
  },
  {
   "cell_type": "code",
   "execution_count": 2,
   "id": "f5378db6",
   "metadata": {
    "slideshow": {
     "slide_type": "skip"
    }
   },
   "outputs": [],
   "source": [
    "using Silver;\n",
    "using Silver.Notebooks;"
   ]
  },
  {
   "cell_type": "markdown",
   "id": "933f5385",
   "metadata": {
    "slideshow": {
     "slide_type": "slide"
    }
   },
   "source": [
    "## Overview\n",
    "----------\n",
    "* Stratis and basic blockchain concepts for C# developers (15min)\n",
    "* Static analysis of C# code using Silver (15mi)\n",
    "* Intro to formal verification for C# developers (15min)\n",
    "* Formal verification of C# smart contracts (15min)"
   ]
  },
  {
   "cell_type": "markdown",
   "id": "bde6d5ab",
   "metadata": {
    "slideshow": {
     "slide_type": "slide"
    }
   },
   "source": [
    "# Stratis\n",
    "-----"
   ]
  },
  {
   "cell_type": "markdown",
   "id": "492e78ef",
   "metadata": {
    "slideshow": {
     "slide_type": "slide"
    }
   },
   "source": [
    "# Stratis 🞄 About\n",
    "----------\n",
    "## <i class=\"fa fa-exclamation-circle\" style=\"font-size:48px;color:black\"></i> Stratis is an open-source, modular blockchain platform that supports smart contracts written in C#.\n"
   ]
  },
  {
   "cell_type": "markdown",
   "id": "c857020c",
   "metadata": {
    "slideshow": {
     "slide_type": "slide"
    }
   },
   "source": [
    "# Stratis 🞄 About\n",
    "----------\n",
    "## <i class=\"fa fa-exclamation-circle\" style=\"font-size:48px;color:black\"></i> Blockchain\n",
    "* A blockchain refers to a kind of digital ledger technology (DLT) where *transactions* are recorded on an ever-growing list of blocks with each succeding block crypotographically linked to previous blocks forming an immutable chain of transactions\n"
   ]
  },
  {
   "cell_type": "markdown",
   "id": "2e7d8e83",
   "metadata": {
    "slideshow": {
     "slide_type": "slide"
    }
   },
   "source": [
    "# Stratis 🞄 About 🞄 Blockchain\n",
    "<div align=\"center\">\n",
    "<img src=\"https://dsm01pap005files.storage.live.com/y4m_KjH-anJKinz5jfknr6YV9z6X4L5y7SsyupSVvCzTISYs0G_LLY629r5dUb9iQ7o83TSi0d9exyrzbZh9zSLEwabvG7munbJZHzrGAu3UtsDP_CQ0LNt1Y0YW_Zj1-sLi7kDMijqyS8lRJSJtR7tpyakfR6EUsxjKGHXBTP8FqPmDClKdxQ7DLdU7nXPVdqr?width=860&height=860&cropmode=none\" />\n",
    "</div>\n"
   ]
  },
  {
   "cell_type": "markdown",
   "id": "9676e486",
   "metadata": {
    "slideshow": {
     "slide_type": "slide"
    }
   },
   "source": [
    "# Stratis 🞄 About 🞄 Blockchain\n",
    "* The unifying principle behind blockchain technology is *decentralized trust*\n",
    "* Blockchain nodes are computers that run the blockchain software and maintain the ledger of transactions\n",
    "* Consensus protocols allow for decentralized trust among blockchain nodes and for the network as a whole without requiring centralization\n",
    "* Transactions may record simple transfers of value e.g the Bitcoin cryptocurrency or more complex records...\n",
    "* There is economic incentive for decentralized nodes to cooperate and work together to accurately record transactions instead of disruption and cheating\n"
   ]
  },
  {
   "cell_type": "markdown",
   "id": "cc36e6a0",
   "metadata": {
    "slideshow": {
     "slide_type": "slide"
    }
   },
   "source": [
    "# Stratis 🞄 About 🞄 Blockchain 🞄 Components\n",
    "(from *Mastering Ethereum* by Andreas M. Antonopoulos and Dr. Gavin Wood)\n",
    "* A peer-to-peer (P2P) network connecting participants and propagating transactions and blocks of verified transactions, based on a standardized “gossip”protocol\n",
    "* Messages, in the form of transactions, representing state transitions\n",
    "* A set of consensus rules, governing what constitutes a transaction and what makes for a valid state transition\n",
    "* A state machine that processes transactions according to the consensus rules\n",
    "* A chain of cryptographically secured blocks that acts as a journal of all the verified and accepted state transitions\n",
    "* A consensus algorithm that decentralizes control over the blockchain, by forcing participants to cooperate in the enforcement of the consensus rules"
   ]
  },
  {
   "cell_type": "markdown",
   "id": "a7d573ab",
   "metadata": {
    "slideshow": {
     "slide_type": "slide"
    }
   },
   "source": [
    "# Stratis 🞄 About\n",
    "## <i class=\"fa fa-exclamation-circle\" style=\"font-size:48px;color:black\"></i> Stratis is a blockchain platfrom with components implemented in pure C#\n",
    "<div align=\"center\">\n",
    "<img src=\"https://academy.stratisplatform.com/_images/Full-Node-Overview.svg\" style=\"height:25%;width:40%\">\n",
    "</div>"
   ]
  },
  {
   "cell_type": "markdown",
   "id": "68ba1941",
   "metadata": {
    "slideshow": {
     "slide_type": "slide"
    }
   },
   "source": [
    "# Stratis 🞄 About \n",
    "\n",
    "## <i class=\"fa fa-exclamation-circle\" style=\"font-size:48px;color:black\"></i> Stratis platform\n",
    "* Stratis is an open-source modular blockchain development platform implemented in C#\n",
    "* Based on [NBitcoin](https://github.com/MetacoSA/NBitcoin) - full implementation of Bitcoin standards and protocols in C#\n",
    "* Transactions by C# blockchain apps are verifiable, transparent, immutable, cost-efficient, cross-border, decentralized and fast\n",
    "* Also provides a *smart contract* platform using .NET CLR as virtual machine\n"
   ]
  },
  {
   "cell_type": "markdown",
   "id": "0c7e2555",
   "metadata": {
    "slideshow": {
     "slide_type": "slide"
    }
   },
   "source": [
    "# Stratis\n",
    "## <i class=\"fa fa-exclamation-circle\" style=\"font-size:48px;color:black\"></i> Smart contracts\n",
    "* Blockchains like Bitcoin were designed to record transactions on cryptocurrency. Later blockchains like Ethereum generalized the nature of transactions to record changes to arbitrary data structures"
   ]
  },
  {
   "cell_type": "markdown",
   "id": "8b457e79",
   "metadata": {
    "slideshow": {
     "slide_type": "slide"
    }
   },
   "source": [
    "# Stratis\n",
    "## <i class=\"fa fa-exclamation-circle\" style=\"font-size:48px;color:black\"></i> Smart contracts\n",
    "* Smart contracts are computer code typically written in a high-level Turing-complete language that manipulate data structures on the blockchain and optionally call other smart contracts\n",
    "* Smart contracts coordinate complex transfers of value not possible in simple input-output blockchain transactions\n",
    "* Smart contracts execute on a virtual machine which runs locally on each blockchain node\n",
    "* Smart contracts are deterministic...smart contract code executing in the same blockchain state on different nodes must produce the exact same results\n",
    "\n"
   ]
  },
  {
   "cell_type": "markdown",
   "id": "f650448f",
   "metadata": {
    "slideshow": {
     "slide_type": "slide"
    }
   },
   "source": [
    "# Stratis\n",
    "## <i class=\"fa fa-exclamation-circle\" style=\"font-size:48px;color:black\"></i> Smart contracts enable sophisticated and powerful blockchain apps and services\n",
    "\n"
   ]
  },
  {
   "cell_type": "markdown",
   "id": "cabc73c3",
   "metadata": {
    "slideshow": {
     "slide_type": "slide"
    }
   },
   "source": [
    "# Stratis\n",
    "## <i class=\"fa fa-exclamation-circle\" style=\"font-size:48px;color:black\"></i> Smart contracts\n",
    "<div align=\"center\">\n",
    "<img src=\"https://dsm01pap005files.storage.live.com/y4mnNRq3mRYu7ajR7Jffj3uQBYaUr6E1bYzw_ug-WRKRmfIr7H-msBHLsaQ4HlTZmGP_h_Chww3IG2z9dNmLYvnN4DM0pOmuyUQmq6pyJ7PGpMtIKtk3cHxn-xxlwxB8c4HYUN_nLEqDXNC_ucF_eZrDfE-aHVnfO3XDJLJseckgVVjJrsGSZtDt3-CcP2puar2?width=850&height=505&cropmode=none\" />\n",
    "</div>\n",
    "<span style=\"font-size:8pt\">Pinna, Andrea & Baralla, Gavina & Lallai, Giorgia & Marchesi, Michele & Tonelli, Roberto. (2020). Design of a Sustainable Blockchain-Oriented Software for Building Workers Management. Frontiers in Blockchain. 3. 38. 10.3389/fbloc.2020.00038.</span>"
   ]
  },
  {
   "cell_type": "markdown",
   "id": "25eecb36",
   "metadata": {
    "slideshow": {
     "slide_type": "slide"
    }
   },
   "source": [
    "# Stratis 🞄 Smart contracts\n",
    "\n",
    "## <i class=\"fa fa-star\" style=\"font-size:48px;color:black\"></i>The Stratis .NET CLR VM\n",
    "* Stratis is an open-source modular blockchain development platform implemented in C#\n",
    "* Based on NBitcoin - full implementation of Bitcoin standards and protocols in C#\n",
    "* All smart contract assemblies analyzed before deployment or execution and non-deterministic code flagged"
   ]
  },
  {
   "cell_type": "markdown",
   "id": "6e656cff",
   "metadata": {
    "slideshow": {
     "slide_type": "slide"
    }
   },
   "source": [
    "# Stratis 🞄 Smart contracts\n",
    "\n",
    "## <i class=\"fa fa-star\" style=\"font-size:48px;color:black\"></i>The Stratis .NET CLR VM\n",
    "* Smart contract code must be deterministic\n",
    "* Smart contra"
   ]
  },
  {
   "cell_type": "markdown",
   "id": "9ea485c9",
   "metadata": {
    "slideshow": {
     "slide_type": "slide"
    }
   },
   "source": [
    "# Stratis 🞄 Smart contracts\n",
    "## <i class=\"fa fa-exclamation-circle\" style=\"font-size:48px;color:black\"></i> Smart contracts are prone to numerous vulnerabilities\n",
    "<div align=\"center\">\n",
    "<img src=\"https://dl.acm.org/cms/attachment/c1bce0eb-a16f-4195-bc21-0e7fa783f205/csur5303-67-f03.jpg\" style=\"height:40%;width:40%\"/>\n",
    "</div>\n",
    "<span style=\"font-size:8pt\">Huashan Chen, Marcus Pendleton, Laurent Njilla, and Shouhuai Xu. 2020. A Survey on Ethereum Systems Security: Vulnerabilities, Attacks, and Defenses. ACM Comput. Surv. 53, 3, Article 67 (June 2020). Figure 3.\n",
    "</span>"
   ]
  },
  {
   "cell_type": "markdown",
   "id": "e34c0073",
   "metadata": {
    "slideshow": {
     "slide_type": "slide"
    }
   },
   "source": [
    "# Stratis 🞄 Smart contracts\n",
    "## <i class=\"fa fa-exclamation-circle\" style=\"font-size:48px;color:black\"></i> Security is a critical aspect of smart contract development   \n",
    "* Smart contracts implement blockchain applications and assets worth billions of dollars\n",
    "* Smart contract security auditing by human experts is a huge industry\n",
    "* Several *static analysis* tools have been developed to help developers find and fix vulnerable smart contract code\n",
    "* Several *formal verification* tools have been developed to help developers verify their code satisfies certain properties"
   ]
  },
  {
   "cell_type": "markdown",
   "id": "2975a369",
   "metadata": {
    "slideshow": {
     "slide_type": "slide"
    }
   },
   "source": [
    "# Stratis 🞄 Smart contracts\n",
    "## <i class=\"fa fa-exclamation-circle\" style=\"font-size:48px;color:black\"></i> Smart contract security tools\n",
    "<div align=\"center\">\n",
    "<img src=\"https://dsm01pap005files.storage.live.com/y4mevCcf0QUNuBMD6J9CutIk4PkF_WDtNooevvFGjr4ASQCqkIBP844NOGvtAZFETvU5RsVqqT9RFT-a9IKPhZL4uOs0wMVX8Aba1P6gG3WKYObksUQcmexley7CIXM5hEogPodYroMTWcEJVMSYvyvsygNNQQroA-phzLi0IGX5UDlQhVuywhcEX25nIw2Ukll?width=722&height=386&cropmode=none\" style=\"height:40%;width:40%\"/>\n",
    "</div>\n",
    "<span style=\"font-size:8pt\">Mouhamad Almakhour, Layth Sliman, Abed Ellatif Samhat, Abdelhamid Mellouk,Verification of smart contracts: A survey, Pervasive and Mobile Computing, Volume 67, 2020,101227,ISSN 1574-1192. Figure 1.\n",
    "</span>"
   ]
  },
  {
   "cell_type": "markdown",
   "id": "66c33bba",
   "metadata": {
    "slideshow": {
     "slide_type": "slide"
    }
   },
   "source": [
    "# Silver\n",
    "-----------"
   ]
  },
  {
   "cell_type": "markdown",
   "id": "99709525",
   "metadata": {
    "slideshow": {
     "slide_type": "slide"
    }
   },
   "source": [
    "## Silver\n",
    "-----------\n",
    " \n",
    "## <i class=\"fa fa-exclamation-circle\" style=\"font-size:48px;color:black\"></i> Silver is a static analysis and formal verification tool for Stratis C# smart contracts"
   ]
  },
  {
   "cell_type": "markdown",
   "id": "d2f72b92",
   "metadata": {
    "slideshow": {
     "slide_type": "slide"
    }
   },
   "source": [
    "## Silver 🞄 About\n",
    "\n",
    "### <i class=\"fa fa-exclamation-circle\" style=\"font-size:48px;color:black\"></i> Static analysis \n",
    "\n",
    "* Static analysis is a type of program analysis which tries to determine the properties of program without executing them\n",
    "* Static analysis looks at the source code or object code of programs and tries to deduce properties and answer questions\n",
    "* Syntactic + semantic analysis, software metrics, control-flow analysis, are all types of static analysis  \n",
    "* Static analysis can be contrasted with *dynamic analysis* like unit-tests and fuzzing which actually executes program code and observes its behavior"
   ]
  },
  {
   "cell_type": "markdown",
   "id": "b9a68544",
   "metadata": {
    "slideshow": {
     "slide_type": "slide"
    }
   },
   "source": [
    "## Silver 🞄 About\n",
    "-----------\n",
    "* https://github.com/allisterb/Silver\n",
    "* Designed to provide functions of Etheruem static analyzers like [Mythril](https://github.com/ConsenSys/mythril), [Slither](https://github.com/crytic/slither), and [Octopus](https://github.com/FuzzingLabs/octopus)\n",
    "* Analyzes C# smart contract code both at the bytecode level and C# language level\n",
    "* Multiple interfaces - CLI, Jupyter notebook, Visual Studio\n",
    "* Perform syntactic + semantic analysis, call-graph, control-flow, data-flow, and other types of static analysis\n",
    "* Perform formal verification of C# code using the Spec# compiler and verifier"
   ]
  },
  {
   "cell_type": "markdown",
   "id": "f44c3a1b",
   "metadata": {
    "slideshow": {
     "slide_type": "slide"
    }
   },
   "source": [
    "## Silver 🞄 About\n",
    "-----------\n",
    "* Designed around interface-independent core libraries supporting different interfaces and output formats\n",
    "* Uses [Analysis.Net](https://github.com/edgardozoppi/analysis-net) library to do .NET CIL static analysis\n",
    "* Uses [Roslyn](https://learn.microsoft.com/en-us/dotnet/csharp/roslyn-sdk/) to do C# source code static analysis\n",
    "* Supports Visual Studio Roslyn analyzer interface, command-line interface, Jupyter notebook interface, (maybe browser interface in future using Blazor...)"
   ]
  },
  {
   "cell_type": "markdown",
   "id": "5a788df8",
   "metadata": {
    "slideshow": {
     "slide_type": "slide"
    }
   },
   "source": [
    "## Silver 🞄 static analysis 🞄 bytecode analysis\n",
    "-----------\n",
    "* Get .NET assembly from local file or GitHub PR\n",
    "* Disassemble .NET assembly to CIL\n",
    "* Call graph, class hierarchy, control-flow, dataflow analysis\n",
    "* Converts CIL to three-address code (TAC) for analysis"
   ]
  },
  {
   "cell_type": "code",
   "execution_count": 2,
   "id": "d1ff6492",
   "metadata": {
    "slideshow": {
     "slide_type": "slide"
    }
   },
   "outputs": [
    {
     "name": "stderr",
     "output_type": "stream",
     "text": [
      "\r\n",
      "(2,10): error CS0103: The name 'IL' does not exist in the current context\r\n",
      "\r\n"
     ]
    },
    {
     "ename": "Cell not executed",
     "evalue": "compilation error",
     "output_type": "error",
     "traceback": []
    }
   ],
   "source": [
    "// Get smart contract assembly from GitHub PR\n",
    "var an = IL.GetAnalyzer(@\"https://github.com/stratisproject/CirrusSmartContracts/pull/31\");\n",
    "an.GetCallGraph()"
   ]
  },
  {
   "cell_type": "markdown",
   "id": "d4a58a52",
   "metadata": {
    "slideshow": {
     "slide_type": "slide"
    }
   },
   "source": [
    "## Silver 🞄 static analysis 🞄 source code analysis \n",
    "* https://www.nuget.org/packages/Silver.CodeAnalysis\n",
    "* Runs as Roslyn analyzer\n",
    "* Implements validation policies of Stratis smart contract assembly validator tool"
   ]
  },
  {
   "cell_type": "code",
   "execution_count": 2,
   "id": "1b09391c",
   "metadata": {
    "scrolled": true,
    "slideshow": {
     "slide_type": "skip"
    }
   },
   "outputs": [
    {
     "data": {
      "text/html": [
       "<link rel=\"stylesheet\" href=\"https://cdnjs.cloudflare.com/ajax/libs/font-awesome/4.7.0/css/font-awesome.min.css\">\n",
       "<script async src=\"https://cdn.jsdelivr.net/npm/mathjax@2/MathJax.js?config=TeX-AMS-MML_CHTML\"></script>"
      ]
     },
     "metadata": {},
     "output_type": "display_data"
    },
    {
     "data": {
      "text/html": [
       "<link rel=\"stylesheet\" href=\"https://cdnjs.cloudflare.com/ajax/libs/font-awesome/4.7.0/css/font-awesome.min.css\">\n",
       "<script async src=\"https://cdn.jsdelivr.net/npm/mathjax@2/MathJax.js?config=TeX-AMS-MML_CHTML\"></script>"
      ]
     },
     "metadata": {},
     "output_type": "display_data"
    }
   ],
   "source": [
    "#!html\n",
    "<link rel=\"stylesheet\" href=\"https://cdnjs.cloudflare.com/ajax/libs/font-awesome/4.7.0/css/font-awesome.min.css\">\n",
    "<script async src=\"https://cdn.jsdelivr.net/npm/mathjax@2/MathJax.js?config=TeX-AMS-MML_CHTML\"></script>"
   ]
  },
  {
   "cell_type": "code",
   "execution_count": 3,
   "id": "7725ee91",
   "metadata": {
    "scrolled": true,
    "slideshow": {
     "slide_type": "skip"
    },
    "vscode": {
     "languageId": "csharp"
    }
   },
   "outputs": [],
   "source": [
    "using Silver;\n",
    "using Silver.Notebooks;"
   ]
  },
  {
   "cell_type": "code",
   "execution_count": null,
   "id": "2bd44af9",
   "metadata": {
    "scrolled": true
   },
   "outputs": [],
   "source": [
    "#!html\n",
    "<pre><code class=\"language-csharp\">using System;\n",
    "\n",
    "namespace SBRL.Demo.Disassembly {\n",
    "    static class Program {\n",
    "        public static void Main(string[] args) {\n",
    "            int a = int.Parse(Console.ReadLine()), b = 10;\n",
    "            Console.WriteLine(\n",
    "                \"{0} + {1} = {2}\",\n",
    "                a, b,\n",
    "                a + b\n",
    "            );\n",
    "        }\n",
    "    }\n",
    "}</code></pre>"
   ]
  },
  {
   "cell_type": "code",
   "execution_count": null,
   "id": "5fd75f2d",
   "metadata": {
    "scrolled": true
   },
   "outputs": [],
   "source": [
    "#!html\n",
    "<pre><code class=\"language-cil\">\n",
    ".assembly extern mscorlib\n",
    "{\n",
    "  .ver 4:0:0:0\n",
    "  .publickeytoken = (B7 7A 5C 56 19 34 E0 89 ) // .z\\V.4..\n",
    "}\n",
    ".assembly 'Program'\n",
    "{\n",
    "  .custom instance void class [mscorlib]System.Runtime.CompilerServices.CompilationRelaxationsAttribute::'.ctor'(int32) =  (01 00 08 00 00 00 00 00 ) // ........\n",
    "\n",
    "  .custom instance void class [mscorlib]System.Runtime.CompilerServices.RuntimeCompatibilityAttribute::'.ctor'() =  (\n",
    "        01 00 01 00 54 02 16 57 72 61 70 4E 6F 6E 45 78   // ....T..WrapNonEx\n",
    "        63 65 70 74 69 6F 6E 54 68 72 6F 77 73 01       ) // ceptionThrows.\n",
    "\n",
    "  .custom instance void class [mscorlib]System.Diagnostics.DebuggableAttribute::'.ctor'(valuetype [mscorlib]System.Diagnostics.DebuggableAttribute/DebuggingModes) =  (01 00 07 01 00 00 00 00 ) // ........\n",
    "\n",
    "  .hash algorithm 0x00008004\n",
    "  .ver  0:0:0:0\n",
    "}\n",
    ".module Program.exe // GUID = {D6162DAD-AD98-45B3-814F-C646C6DD7998}\n",
    "</code></pre>"
   ]
  },
  {
   "cell_type": "code",
   "execution_count": 8,
   "id": "09e13226",
   "metadata": {
    "scrolled": true
   },
   "outputs": [],
   "source": [
    "#!value --name test1\n",
    "\n",
    "using Stratis.SmartContracts;\n",
    "//using System.Collections.Generic;\n",
    "\n",
    "[Deploy]\n",
    "public class MultiplyContract : SmartContract\n",
    "{\n",
    "public MultiplyContract(ISmartContractState state, string message)\n",
    "\t\t: base(state) {}\n",
    "        \n",
    "\n",
    "\tpublic int Multiply(int x, int y)\n",
    "    //@  requires 0 <= y;\n",
    "    //@ requires 0 <= x;\n",
    "    //@ ensures result == y * x;\n",
    "        {\n",
    "            \n",
    "            int q = 0;\n",
    "            int i = 0;\n",
    "            while (i < y)\n",
    "        \n",
    "            //@ invariant i<= y;\n",
    "            //@ invariant q == (i * x);\n",
    "            {\n",
    "\n",
    "                //@ assert  q == (i * x);\n",
    "                //@ assert  q + x == (i * x) + x;\n",
    "                q = q + x;\n",
    "\n",
    "                //@ assert  q == (i * x) + x;\n",
    "                //assumption needed for distribution of operators.\n",
    "                //@ assume (i*x) + x == (i+1) * x;\n",
    "                //@ assert  q == (i+1) * x;\n",
    "                i = i + 1;\n",
    "                //@ assert  q == i * x;\n",
    "\n",
    "            }\n",
    "\n",
    "            //@ assert  q == i * x && i == y;\n",
    "            return q;\n",
    "        }\n",
    "\n",
    "    public void SendMoney(int c, int d, Address recep)\n",
    "    {\n",
    "        if (c >= 0 && d >= 0)\n",
    "        {\n",
    "            int r = Multiply(c, d);\n",
    "        }\n",
    "    }\n",
    "    \n",
    "}\n"
   ]
  },
  {
   "cell_type": "code",
   "execution_count": 9,
   "id": "91390d4b",
   "metadata": {
    "scrolled": false,
    "slideshow": {
     "slide_type": "slide"
    }
   },
   "outputs": [
    {
     "name": "stdout",
     "output_type": "stream",
     "text": [
      "[INFO] Compiling code to temporary assembly tmpA7C1.dll...\n",
      "[INFO] Loading ad hoc project...\n",
      "[INFO] Loading ad hoc project completed in 1ms.\n",
      "[INFO] Parsing and rewriting 1 file(s)...\n",
      "[INFO] Line: using Stratis.SmartContracts;\n",
      "[INFO] Line: //using System.Collections.Generic;\n",
      "[INFO] Line: \n",
      "[INFO] Line: [Deploy]\n",
      "[INFO] Line: public class MultiplyContract : SmartContract\n",
      "[INFO] Line: {\n",
      "[INFO] Line: public MultiplyContract(ISmartContractState state, string message)\n",
      "[INFO] Line: \t\t: base(state) {}\n",
      "[INFO] Line:         \n",
      "[INFO] Line: \n",
      "[INFO] Line: \tpublic int Multiply(int x, int y)\n",
      "[INFO] Line:     //@  requires 0 <= y;\n",
      "[INFO] Rewriter: EmbeddedAsComment_1\n",
      "[INFO] File: tmpA7C1.cs\n",
      "[INFO] Line: 11\n",
      "[INFO] Original: //@  requires 0 <= y;\n",
      "[INFO] New:      requires 0 <= y;\n",
      "\n",
      "[INFO] Line:     //@ requires 0 <= x;\n",
      "[INFO] Rewriter: EmbeddedAsComment_1\n",
      "[INFO] File: tmpA7C1.cs\n",
      "[INFO] Line: 12\n",
      "[INFO] Original: //@ requires 0 <= x;\n",
      "[INFO] New:      requires 0 <= x;\n",
      "\n",
      "[INFO] Line:     //@ ensures result == y * x;\n",
      "[INFO] Rewriter: EmbeddedAsComment_1\n",
      "[INFO] File: tmpA7C1.cs\n",
      "[INFO] Line: 13\n",
      "[INFO] Original: //@ ensures result == y * x;\n",
      "[INFO] New:      ensures result == y * x;\n",
      "\n",
      "[INFO] Line:         {\n",
      "[INFO] Line:             \n",
      "[INFO] Line:             int q = 0;\n",
      "[INFO] Line:             int i = 0;\n",
      "[INFO] Line:             while (i < y)\n",
      "[INFO] Line:         \n",
      "[INFO] Line:             //@ invariant i<= y;\n",
      "[INFO] Rewriter: EmbeddedAsComment_1\n",
      "[INFO] File: tmpA7C1.cs\n",
      "[INFO] Line: 20\n",
      "[INFO] Original: //@ invariant i<= y;\n",
      "[INFO] New:      invariant i<= y;\n",
      "\n",
      "[INFO] Line:             //@ invariant q == (i * x);\n",
      "[INFO] Rewriter: EmbeddedAsComment_1\n",
      "[INFO] File: tmpA7C1.cs\n",
      "[INFO] Line: 21\n",
      "[INFO] Original: //@ invariant q == (i * x);\n",
      "[INFO] New:      invariant q == (i * x);\n",
      "\n",
      "[INFO] Line:             {\n",
      "[INFO] Line: \n",
      "[INFO] Line:                 //@ assert  q == (i * x);\n",
      "[INFO] Rewriter: EmbeddedAsComment_1\n",
      "[INFO] File: tmpA7C1.cs\n",
      "[INFO] Line: 24\n",
      "[INFO] Original: //@ assert  q == (i * x);\n",
      "[INFO] New:      assert  q == (i * x);\n",
      "\n",
      "[INFO] Line:                 //@ assert  q + x == (i * x) + x;\n",
      "[INFO] Rewriter: EmbeddedAsComment_1\n",
      "[INFO] File: tmpA7C1.cs\n",
      "[INFO] Line: 25\n",
      "[INFO] Original: //@ assert  q + x == (i * x) + x;\n",
      "[INFO] New:      assert  q + x == (i * x) + x;\n",
      "\n",
      "[INFO] Line:                 q = q + x;\n",
      "[INFO] Line: \n",
      "[INFO] Line:                 //@ assert  q == (i * x) + x;\n",
      "[INFO] Rewriter: EmbeddedAsComment_1\n",
      "[INFO] File: tmpA7C1.cs\n",
      "[INFO] Line: 28\n",
      "[INFO] Original: //@ assert  q == (i * x) + x;\n",
      "[INFO] New:      assert  q == (i * x) + x;\n",
      "\n",
      "[INFO] Line:                 //assumption needed for distribution of operators.\n",
      "[INFO] Line:                 //@ assume (i*x) + x == (i+1) * x;\n",
      "[INFO] Rewriter: EmbeddedAsComment_1\n",
      "[INFO] File: tmpA7C1.cs\n",
      "[INFO] Line: 30\n",
      "[INFO] Original: //@ assume (i*x) + x == (i+1) * x;\n",
      "[INFO] New:      assume (i*x) + x == (i+1) * x;\n",
      "\n",
      "[INFO] Line:                 //@ assert  q == (i+1) * x;\n",
      "[INFO] Rewriter: EmbeddedAsComment_1\n",
      "[INFO] File: tmpA7C1.cs\n",
      "[INFO] Line: 31\n",
      "[INFO] Original: //@ assert  q == (i+1) * x;\n",
      "[INFO] New:      assert  q == (i+1) * x;\n",
      "\n",
      "[INFO] Line:                 i = i + 1;\n",
      "[INFO] Line:                 //@ assert  q == i * x;\n",
      "[INFO] Rewriter: EmbeddedAsComment_1\n",
      "[INFO] File: tmpA7C1.cs\n",
      "[INFO] Line: 33\n",
      "[INFO] Original: //@ assert  q == i * x;\n",
      "[INFO] New:      assert  q == i * x;\n",
      "\n",
      "[INFO] Line: \n",
      "[INFO] Line:             }\n",
      "[INFO] Line: \n",
      "[INFO] Line:             //@ assert  q == i * x && i == y;\n",
      "[INFO] Rewriter: EmbeddedAsComment_1\n",
      "[INFO] File: tmpA7C1.cs\n",
      "[INFO] Line: 37\n",
      "[INFO] Original: //@ assert  q == i * x && i == y;\n",
      "[INFO] New:      assert  q == i * x && i == y;\n",
      "\n",
      "[INFO] Line:             return q;\n",
      "[INFO] Line:         }\n",
      "[INFO] Line: \n",
      "[INFO] Line:     public void SendMoney(int c, int d, Address recep)\n",
      "[INFO] Line:     {\n",
      "[INFO] Line:         if (c >= 0 && d >= 0)\n",
      "[INFO] Line:         {\n",
      "[INFO] Line:             int r = Multiply(c, d);\n",
      "[INFO] Line:         }\n",
      "[INFO] Line:     }\n",
      "[INFO] Line:     \n",
      "[INFO] Line: }\n",
      "[INFO] Parsing and rewriting 1 file(s) completed in 81ms.\n",
      "[INFO] Target is: C:\\Projects\\Silver\\notebooks\\ssc\\tmpA7C1.dll, C:\\Projects\\Silver\\notebooks\\ssc\n",
      "[INFO] Compiling Spec# project using configuration Debug...\n",
      "[WARN] File: C:\\Projects\\Silver\\notebooks\\ssc\\tmpA7C1.ssc(8,10)\n",
      "               Code: CS2613\n",
      "               Msg:  Conversion to 'Stratis.SmartContracts.ISmartContractState!' fails if the value is null\n",
      "\n",
      "[WARN] File: C:\\Projects\\Silver\\notebooks\\ssc\\tmpA7C1.ssc(46,17)\n",
      "               Code: CS0219\n",
      "               Msg:  The variable 'r' is assigned but its value is never used\n",
      "\n",
      "[INFO] Compiling Spec# project using configuration Debug completed in 1529ms.\n",
      "[INFO] Compilation succeded with 2 warning(s). Assembly is at C:\\Projects\\Silver\\notebooks\\ssc\\tmpA7C1.dll.\n",
      "[INFO] Compiling code to temporary assembly tmpA7C1.dll completed in 1617ms.\n",
      "[INFO] Verifying C:\\Projects\\Silver\\notebooks\\ssc\\tmpA7C1.dll...\n",
      "[INFO] Verifying C:\\Projects\\Silver\\notebooks\\ssc\\tmpA7C1.dll completed in 2206ms.\n",
      "[INFO] 1 out of 3 method(s) failed verification.\n"
     ]
    },
    {
     "data": {
      "text/html": [
       "<div id=\"58e57cbfe34343fa9f0da82a9656b148\">\r\n",
       "<ul>\r\n",
       "<li data-jstree='{\"type\":\"file\"}'>\r\n",
       "Verification results\r\n",
       "<ul>\r\n",
       "<li data-jstree='{\"type\":\"code\"}'>\r\n",
       "Methods\r\n",
       "<ul>\r\n",
       "<li data-jstree='{\"type\":\"error\"}'>\r\n",
       "MultiplyContract..ctor$Stratis.SmartContracts.ISmartContractState$System.String\r\n",
       "<ul>\r\n",
       "<li>\r\n",
       "[red]Errors[/]\r\n",
       "<ul>\r\n",
       "<li>\r\n",
       "The call to Stratis.SmartContracts.SmartContract(Stratis.SmartContracts.ISmartContractState! __contractState) requires __contractState to be peer consistent\r\n",
       "<ul>\r\n",
       "<li>\r\n",
       "File: [blue]C:\\Projects\\Silver\\notebooks\\ssc\\tmpA7C1.cs[/]\r\n",
       "</li>\r\n",
       "\r\n",
       "<li>\r\n",
       "Line: [fuchsia]8[/]\r\n",
       "</li>\r\n",
       "\r\n",
       "<li>\r\n",
       "Column: [fuchsia]10[/]\r\n",
       "</li>\r\n",
       "\r\n",
       "</ul>\r\n",
       "</li>\r\n",
       "\r\n",
       "<li>\r\n",
       "The call to Stratis.SmartContracts.SmartContract(Stratis.SmartContracts.ISmartContractState! __contractState) requires __contractState to be peer consistent (owner must not be valid)\r\n",
       "<ul>\r\n",
       "<li>\r\n",
       "File: [blue]C:\\Projects\\Silver\\notebooks\\ssc\\tmpA7C1.cs[/]\r\n",
       "</li>\r\n",
       "\r\n",
       "<li>\r\n",
       "Line: [fuchsia]8[/]\r\n",
       "</li>\r\n",
       "\r\n",
       "<li>\r\n",
       "Column: [fuchsia]10[/]\r\n",
       "</li>\r\n",
       "\r\n",
       "</ul>\r\n",
       "</li>\r\n",
       "\r\n",
       "</ul>\r\n",
       "</li>\r\n",
       "\r\n",
       "<li>\r\n",
       "Duration: [fuchsia]1.1172005s[/]\r\n",
       "</li>\r\n",
       "\r\n",
       "</ul>\r\n",
       "</li>\r\n",
       "\r\n",
       "<li data-jstree='{\"type\":\"ok\"}'>\r\n",
       "MultiplyContract.Multiply$System.Int32$System.Int32\r\n",
       "<ul>\r\n",
       "<li>\r\n",
       "Duration: [fuchsia]0.0169837s[/]\r\n",
       "</li>\r\n",
       "\r\n",
       "</ul>\r\n",
       "</li>\r\n",
       "\r\n",
       "<li data-jstree='{\"type\":\"ok\"}'>\r\n",
       "MultiplyContract.SendMoney$System.Int32$System.Int32$Stratis.SmartContracts.Address\r\n",
       "<ul>\r\n",
       "<li>\r\n",
       "Duration: [fuchsia]0.0070006s[/]\r\n",
       "</li>\r\n",
       "\r\n",
       "</ul>\r\n",
       "</li>\r\n",
       "\r\n",
       "</ul>\r\n",
       "</li>\r\n",
       "\r\n",
       "</ul>\r\n",
       "</li>\r\n",
       "\r\n",
       "</ul>\r\n",
       "</div>\r\n",
       "<script>(require.config({ 'paths': { 'jstree' : 'https://cdnjs.cloudflare.com/ajax/libs/jstree/3.2.1/jstree.min' }}) || require)(['jstree'], (jstree) => {$('#58e57cbfe34343fa9f0da82a9656b148').jstree({\"types\" : {\"ok\" : {\"icon\" : \"fa fa-check\"}, \"error\" : {\"icon\" : \"fa fa-exclamation-triangle\"}, \"file\" : {\"icon\" : \"fa fa-file\"}, \"code\" : {\"icon\" : \"fa fa-code\"}},\"plugins\" : [\"types\"]});});</script>"
      ]
     },
     "execution_count": 9,
     "metadata": {},
     "output_type": "execute_result"
    }
   ],
   "source": [
    "#!share test1 --from value\n",
    "Verifier.VerifyCode(test1)"
   ]
  },
  {
   "cell_type": "code",
   "execution_count": null,
   "id": "ada3d546",
   "metadata": {
    "scrolled": true,
    "slideshow": {
     "slide_type": "skip"
    }
   },
   "outputs": [],
   "source": [
    "using Silver.Drawing;\n",
    "var t = new TreeNode(\"foo\");\n",
    "t"
   ]
  },
  {
   "cell_type": "code",
   "execution_count": null,
   "id": "ed088c4b",
   "metadata": {
    "scrolled": false,
    "slideshow": {
     "slide_type": "skip"
    }
   },
   "outputs": [],
   "source": [
    "var td = new TreeDiagram(new [] {t});\n",
    "td"
   ]
  },
  {
   "cell_type": "code",
   "execution_count": null,
   "id": "0ff45114",
   "metadata": {
    "scrolled": true,
    "slideshow": {
     "slide_type": "skip"
    }
   },
   "outputs": [],
   "source": [
    "td"
   ]
  },
  {
   "cell_type": "code",
   "execution_count": null,
   "id": "d833c49b",
   "metadata": {
    "scrolled": true,
    "slideshow": {
     "slide_type": "skip"
    }
   },
   "outputs": [],
   "source": [
    "var gg = new TmHighlightedCode(\"boogie\", \"function {:bvbuiltin} bv8st(bv8,bv8) returns(bool);\");\n",
    "gg"
   ]
  },
  {
   "cell_type": "markdown",
   "id": "331e7cc0",
   "metadata": {
    "slideshow": {
     "slide_type": "skip"
    }
   },
   "source": []
  },
  {
   "cell_type": "markdown",
   "id": "e7fd8ead",
   "metadata": {
    "slideshow": {
     "slide_type": "slide"
    }
   },
   "source": [
    "# Formal verification"
   ]
  },
  {
   "cell_type": "markdown",
   "id": "ff6e8186",
   "metadata": {
    "slideshow": {
     "slide_type": "slide"
    }
   },
   "source": [
    "## Formal verification\n",
    "\n",
    "### <i class=\"fa fa-question-circle\" style=\"font-size:48px;color:black\"></i> What is formal verification?\n",
    "\n",
    "### <i class=\"fa fa-exclamation-circle\" style=\"font-size:48px;color:black\"></i> Formal verification is a type of *static analysis* where we attempt to prove statements about program code without executing the program"
   ]
  },
  {
   "cell_type": "markdown",
   "id": "60e37f13",
   "metadata": {
    "slideshow": {
     "slide_type": "slide"
    }
   },
   "source": [
    "## Formal verification\n",
    "\n",
    "### <i class=\"fa fa-question-circle\" style=\"font-size:48px;color:black\"></i> What kind of statements are we interested in proving statically about programs?\n",
    "\n",
    "* A function parameter always falls within a certain range\n",
    "* A function always returns a value in a range\n",
    "* An array variable is always accessed within its bounds \n",
    "* A function always returns an array that is sorted"
   ]
  },
  {
   "cell_type": "markdown",
   "id": "28a3ac36",
   "metadata": {
    "slideshow": {
     "slide_type": "slide"
    }
   },
   "source": [
    "## Formal Verification - Key Questions\n",
    "-----------\n",
    "### <i class=\"fa fa-question-circle\" style=\"font-size:48px;color:black\"></i>  How do we *reason* about programs?\n",
    "e.g. consider the simple C# program below\n",
    "````csharp\n",
    "static bool A(int a)\n",
    "{\n",
    "    for (int i = 0; i < 10; i++)\n",
    "    {\n",
    "        if (i > 15)\n",
    "        {\n",
    "            return true;\n",
    "        }\n",
    "    }\n",
    "    return false;\n",
    "}\n",
    "````\n",
    "Can we say logically that this method will never return false?"
   ]
  },
  {
   "cell_type": "markdown",
   "id": "cc45b942",
   "metadata": {
    "slideshow": {
     "slide_type": "slide"
    }
   },
   "source": [
    "## Formal Verification - Key Questions\n",
    "-----------\n",
    "### <i class=\"fa fa-question-circle\" style=\"font-size:48px;color:black\"></i>  How do we *reason* about programs?\n",
    "In this case the answer is yes. We can give an *informal* argument about why this statement is true.\n",
    "````csharp\n",
    "static bool A(int a)\n",
    "{\n",
    "    for (int i = 0; i < 10; i++)\n",
    "    {\n",
    "        if (i > 15) //Loop variable is bounded by 10 so this condition will never hold\n",
    "        {\n",
    "            return true;\n",
    "        }\n",
    "    }\n",
    "    return false; // Control always drop to this line\n",
    "}\n",
    "````\n",
    "So for all values of `a`, `A(a)` == false"
   ]
  },
  {
   "cell_type": "markdown",
   "id": "a986af59",
   "metadata": {
    "slideshow": {
     "slide_type": "slide"
    }
   },
   "source": [
    "## Formal Verification - Key Questions\n",
    "-----------\n",
    "### <i class=\"fa fa-question-circle\" style=\"font-size:48px;color:black\"></i> How do we *reason* about programs?\n",
    "* Typically when formalizing reasoning we first ask what is the domain of discourse i.e. what what are the things or entities we reason over\n",
    "* For programs, we have *variables* which can take *values* (of a certain type)\n",
    "* A *state* is a map of program variables to values e.g. $S$ = {a:0, i:1}\n",
    "* A program transitions sequentially between states as it executes: $S_1$, $S_2$...\n",
    "* For a given state $S$ we have the preceding state and succeding state\n",
    "* The sets of a program's states and transitions characterize the program's behaviour\n"
   ]
  },
  {
   "cell_type": "markdown",
   "id": "5265b2d7",
   "metadata": {
    "slideshow": {
     "slide_type": "slide"
    }
   },
   "source": [
    "## Formal Verification - Key Questions\n",
    "-----------\n",
    "### <i class=\"fa fa-question-circle\" style=\"font-size:48px;color:black\"></i> How do we *reason* about programs?\n",
    "\n",
    "### <i class=\"fa fa-exclamation-circle\" style=\"font-size:48px;color:black\"></i> We can reason about programs by making logical statements about how program states transition.\n"
   ]
  },
  {
   "cell_type": "markdown",
   "id": "cc8450d2",
   "metadata": {
    "slideshow": {
     "slide_type": "slide"
    }
   },
   "source": [
    "## Formal Verification - Key Questions\n",
    "-----------\n",
    " \n",
    "### <i class=\"fa fa-question-circle\" style=\"font-size:48px;color:black\"></i> How do we *prove* statements about programs?\n",
    "* A *logic* is a set of symbols, operators, rules, and axioms for composing and manipulating logical *formulae*\n",
    "* e.g a *propositional logic* formula is $X \\lor P \\implies X = P$\n",
    "* *First-order logic* (FOL) is a common type of logic used in formal verification and contains many of the necessary elements for making statements about programs\n",
    "* A *formal proof* uses the rules and axioms of a logic to demonstrate the logical validity of a formula\n",
    "\n"
   ]
  },
  {
   "cell_type": "markdown",
   "id": "2f01cd56",
   "metadata": {
    "slideshow": {
     "slide_type": "slide"
    }
   },
   "source": [
    "## Formal Verification - Key Questions\n",
    "-----------\n",
    " ### <i class=\"fa fa-question-circle\" style=\"font-size:48px;color:black\"></i> How do we *prove* statements about programs?\n",
    "* An *annotation* is a logical formula about program variables i.e. state which is always true when execution reaches the annotation location\n",
    "````csharp\n",
    "static bool Main(string [] args)\n",
    "{\n",
    "    for (int i = 0; i < 10; i++)\n",
    "    {\n",
    "        // ∀𝑖:{ 𝑖 > 15 }\n",
    "        if (i > 15)\n",
    "        {\n",
    "            return true;\n",
    "        }\n",
    "    }\n",
    "    return false;\n",
    "}\n",
    "````"
   ]
  },
  {
   "cell_type": "markdown",
   "id": "94f8f0e4",
   "metadata": {
    "slideshow": {
     "slide_type": "slide"
    }
   },
   "source": [
    "## Formal Verification - Key Questions\n",
    "-----------\n",
    " ### <i class=\"fa fa-question-circle\" style=\"font-size:48px;color:black\"></i> How do we *prove* statements about programs?\n",
    "* *Assertions*, *function pre-conditions*, *post-conditions*, *loop invariants*, are all types of annotations\n",
    "* e.g. An assertion is a predicate about program variables (commonly used in unit-tests): `assert x > y` or `assert A is not null` \n",
    "* The set of annotations for a program together with its source code can be *transformed* into a set of formulae called *verification conditions*\n",
    "* Proving the verification conditions are valid means proving the program annnotations match the program behaviour"
   ]
  },
  {
   "cell_type": "markdown",
   "id": "9bdc7e66",
   "metadata": {
    "slideshow": {
     "slide_type": "slide"
    }
   },
   "source": [
    "## Formal Verification - Key Questions\n",
    "-----------\n",
    "### <i class=\"fa fa-question-circle\" style=\"font-size:48px;color:black\"></i> How do we *prove* statements about programs?\n",
    "\n",
    "### <i class=\"fa fa-exclamation-circle\" style=\"font-size:48px;color:black\"></i> We can prove statements about programs by deriving verification conditions from program code and annotations and proving the verification conditions hold.\n"
   ]
  },
  {
   "cell_type": "markdown",
   "id": "b5ca0ff9",
   "metadata": {
    "slideshow": {
     "slide_type": "slide"
    }
   },
   "source": [
    "## Formal Verification - Key Questions\n",
    "-----------\n",
    "### <i class=\"fa fa-question-circle\" style=\"font-size:36px;color:black\"></i> How can we *automate* proving statements about programs?\n",
    "* A theorem is a proposition, statement, or formula that can be proved to be true via formal reasoning\n",
    "* Many tools exist to automate proving theorems\n",
    "* Satisfiability Modulo Theory (SMT) solvers like Z3 can prove a wide range of first-order logic formulae in the context of theories like integer arithmetic or arrays\n",
    "* If we can derive verification conditions from program code and annotations we can use tools like Z3 to prove the formulae are valid"
   ]
  },
  {
   "cell_type": "markdown",
   "id": "a6a23807",
   "metadata": {
    "slideshow": {
     "slide_type": "slide"
    }
   },
   "source": [
    "## Formal Verification - Key Questions\n",
    "-----------\n",
    " \n",
    "### <i class=\"fa fa-question-circle\" style=\"font-size:48px;color:black\"></i> How can we *integrate* proving statements about programs into a languag ?\n",
    "* Several approaches to formal verificaion\n",
    "* \n",
    "* Z3 - Satisfiability Modulo Theory solvers\n",
    "*"
   ]
  },
  {
   "cell_type": "markdown",
   "id": "f470fb57",
   "metadata": {
    "slideshow": {
     "slide_type": "slide"
    }
   },
   "source": [
    "## Formal Verification - Hoare Logic\n",
    "-----------\n",
    " \n",
    "### <i class=\"fa fa-check-circle\" style=\"font-size:48px;color:black\"></i> How can we *integrate* proving statements about programs into a languag ?\n",
    "* Several approaches to formal verificaion\n",
    "* \n",
    "* Z3 - Satisfiability Modulo Theory solvers\n",
    "*"
   ]
  },
  {
   "cell_type": "markdown",
   "id": "8c52f0b9",
   "metadata": {
    "slideshow": {
     "slide_type": "slide"
    }
   },
   "source": [
    "## Formal Verification - Key Questions\n",
    "-----------\n",
    " \n",
    "### <i class=\"fa fa-check-circle\" style=\"font-size:48px;color:black\"></i> How can we *integrate* proofs of properties and statements about programs into a language ?\n",
    "* Use an entirely new language\n",
    "* Use a separate language for specification\n",
    "* Extend existing language"
   ]
  },
  {
   "cell_type": "markdown",
   "id": "47c763ce",
   "metadata": {
    "slideshow": {
     "slide_type": "slide"
    }
   },
   "source": [
    "## Smart Contract Formal Verification - Approaches\n",
    "-----------\n",
    " \n",
    "### <i class=\"fa fa-check-circle\" style=\"font-size:48px;color:black\"></i> Extending the existing langaguage\n",
    "* Add constructs or keywords or functions to express specifications\n",
    "* Use a compiler module or extension\n",
    "* Extend existing language"
   ]
  },
  {
   "cell_type": "markdown",
   "id": "846e610c",
   "metadata": {
    "slideshow": {
     "slide_type": "subslide"
    }
   },
   "source": [
    "## Smart Contract Formal Verification - Language Extensions\n",
    "-----------\n",
    " \n",
    "### <i class=\"fa fa-star\" style=\"font-size:48px;color:black\"></i> SMTChecker\n",
    "* https://docs.soliditylang.org/en/v0.8.17/smtchecker.html\n",
    "* Solidity compiler module\n",
    "* Enable with CLI flag `--model-checker-engine` or JSON option `settings.modelChecker.engine`\n",
    "* Add `require` and `assert` functions\n",
    "* Statically verify method preconditions and asserts in Solidity code"
   ]
  },
  {
   "cell_type": "markdown",
   "id": "37dd7217",
   "metadata": {
    "slideshow": {
     "slide_type": "subslide"
    }
   },
   "source": [
    "## Smart Contract Formal Verification - Language Extensions\n",
    "-----------\n",
    " \n",
    "### <i class=\"fa fa-star\" style=\"font-size:48px;color:black\"></i>SMTChecker\n",
    "```javascript\n",
    "// SPDX-License-Identifier: GPL-3.0\n",
    "pragma solidity >=0.8.0;\n",
    "\n",
    "contract Max {\n",
    "    function max(uint[] memory _a) public pure returns (uint) {\n",
    "        require(_a.length >= 5);\n",
    "        uint m = 0;\n",
    "        for (uint i = 0; i < _a.length; ++i)\n",
    "            if (_a[i] > m)\n",
    "                m = _a[i];\n",
    "\n",
    "        for (uint i = 0; i < _a.length; ++i)\n",
    "            assert(m > _a[i]);\n",
    "\n",
    "        return m;\n",
    "    }\n",
    "}\n",
    "````"
   ]
  },
  {
   "cell_type": "markdown",
   "id": "96788af7",
   "metadata": {
    "slideshow": {
     "slide_type": "slide"
    }
   },
   "source": [
    "## Smart Contract Formal Verification - Language Extensions\n",
    "-----------\n",
    " \n",
    "### <i class=\"fa fa-star\" style=\"font-size:48px;color:black\"></i> solc-verify\n",
    "* https://github.com/SRI-CSL/solidity\n",
    "* Solidity compiler fork\n",
    "* Translates Solidity code to Boogie IVL\n",
    "* Add support for verifying preconditions, postconditions, invariants"
   ]
  },
  {
   "cell_type": "markdown",
   "id": "c4491651",
   "metadata": {
    "slideshow": {
     "slide_type": "subslide"
    }
   },
   "source": [
    "## Smart Contract Formal Verification - Language Extensions\n",
    "-----------\n",
    " \n",
    "### <i class=\"fa fa-star\" style=\"font-size:48px;color:black\"></i> solc-verify\n",
    "```javascript\n",
    "pragma solidity >=0.5.0;\n",
    "\n",
    "/// @notice invariant x == y\n",
    "contract C {\n",
    "    int x;\n",
    "    int y;\n",
    "\n",
    "    /// @notice precondition x == y\n",
    "    /// @notice postcondition x == (y + n)\n",
    "    /// @notice modifies x\n",
    "    function add_to_x(int n) internal {\n",
    "        x = x + n;\n",
    "        require(x >= y); // Ensures that there is no overflow\n",
    "    }\n",
    "\n",
    "    /// @notice modifies x if n > 0\n",
    "    /// @notice modifies y if n > 0\n",
    "    function add(int n) public {\n",
    "        require(n >= 0);\n",
    "        add_to_x(n);\n",
    "        /// @notice invariant y <= x\n",
    "        while (y < x) {\n",
    "            y = y + 1;\n",
    "        }\n",
    "    }\n",
    "}\n",
    "````"
   ]
  },
  {
   "cell_type": "markdown",
   "id": "0335b672",
   "metadata": {
    "slideshow": {
     "slide_type": "slide"
    }
   },
   "source": [
    "## Smart Contract Formal Verification - Specification Languages\n",
    "-----------\n",
    " \n",
    "### <i class=\"fa fa-star\" style=\"font-size:48px;color:black\"></i> Act\n",
    "* https://github.com/ethereum/act\n",
    "* Ethereum smart contract specification language\n",
    "* Allows you to write and verify a high-level specification of a Solidity contract\n",
    "* Uses the [hevm](https://hackage.haskell.org/package/hevm) symbolic execution engine to prove equivalence between a contract specification and an implementation of that specification in EVM"
   ]
  },
  {
   "cell_type": "markdown",
   "id": "8b62fe23",
   "metadata": {
    "slideshow": {
     "slide_type": "subslide"
    }
   },
   "source": [
    "## Smart Contract Formal Verification - Specification Languages\n",
    "-----------\n",
    " \n",
    "### <i class=\"fa fa-star\" style=\"font-size:48px;color:black\"></i> Act - Example Contract\n",
    "````javascript\n",
    "constructor of Simple\n",
    "interface constructor()\n",
    "\n",
    "contract Simple {\n",
    "    uint val;\n",
    "\n",
    "    function set(uint x) external payable returns (uint) {\n",
    "        require(x > 100);\n",
    "        val = x;\n",
    "        return x;\n",
    "    }\n",
    "}\n",
    "````"
   ]
  },
  {
   "cell_type": "markdown",
   "id": "41cb678a",
   "metadata": {
    "slideshow": {
     "slide_type": "subslide"
    }
   },
   "source": [
    "## Smart Contract Formal Verification - Approaches\n",
    "-----------\n",
    " \n",
    "### <i class=\"fa fa-star\" style=\"font-size:48px;color:black\"></i> Act - Example Specification\n",
    "````haskell\n",
    "constructor of Simple\n",
    "interface constructor()\n",
    "\n",
    "creates\n",
    "\n",
    "  uint val := 0\n",
    "behaviour set of Simple\n",
    "interface set(uint x)\n",
    "\n",
    "iff\n",
    "\n",
    "  x > 100\n",
    "\n",
    "storage\n",
    "\n",
    "  val => x\n",
    "\n",
    "returns x\n",
    "````"
   ]
  },
  {
   "cell_type": "markdown",
   "id": "ca4637d0",
   "metadata": {
    "slideshow": {
     "slide_type": "subslide"
    }
   },
   "source": [
    "## Smart Contract Formal Verification - Approaches\n",
    "-----------\n",
    " \n",
    "### <i class=\"fa fa-exclamation-circle\" style=\"font-size:48px;color:black\"></i> What are some criticisms of current approaches?\n",
    "* The verification statements are in a totally different syntax than the code.\n",
    "\n",
    "* The verification statements are in different files than the code.\n",
    "\n",
    "* The basic syntax and semantics of the verification statements are not checked by the regular compiler. In too many systems, it's a comment to the compiler.\n",
    "\n",
    "* The verification toolchain and compile toolchain are completely separate.\n",
    "\n",
    "* Too much gratuitous abstraction. \"everything is predicate calculus\" or \"everything is a type\" or \"everything is functional\"."
   ]
  },
  {
   "cell_type": "markdown",
   "id": "901aa75a",
   "metadata": {
    "slideshow": {
     "slide_type": "slide"
    }
   },
   "source": [
    "## Silver - formal verification\n",
    "### <i class=\"fa fa-star\" style=\"font-size:48px;color:black\"></i> Spec# design goals \n",
    "From [\"The Spec# Programming System:Challenges and Directions\"](https://www.microsoft.com/en-us/research/wp-content/uploads/2016/12/krml156.pdf):\n",
    "* build on a widely used object-oriented programming language; in our case C#;\n",
    "* build on existing infrastructure and allow interoperability with existing code, here\n",
    "the .NET runtime.\n",
    "* fully integrate into an development environment; in our case the Microsoft Visual\n",
    "Studio environment.\n",
    "* build on a teachable and sound methodology; in our case a revised design-by-contract methodology;\n",
    "* support a smooth adoption path whereby programmers can gradually start taking\n",
    "advantage of the benefits of specification;\n",
    "* be moderate; we added only a few constructs to C#, and soundness is guaranteed\n",
    "only as long as the source comes from constructs that are under our control"
   ]
  },
  {
   "cell_type": "markdown",
   "id": "787bc728",
   "metadata": {
    "slideshow": {
     "slide_type": "slide"
    }
   },
   "source": [
    "## Spec# - About #\n",
    "### <i class=\"fa fa-star\" style=\"font-size:48px;color:black\"></i> Spec# design goals\n",
    "* Shipped as a C# compiler, static verifier, Visual Studio extension\n",
    "* Originally targetted C# 2.0 and .NET Framework 2.0 and Visual Studio 2.0\n",
    "* Doesn't work on modern C# or .NET or Visual Studio "
   ]
  },
  {
   "cell_type": "markdown",
   "id": "02e95b06",
   "metadata": {
    "slideshow": {
     "slide_type": "slide"
    }
   },
   "source": [
    "## Spec# - About\n",
    "----------\n",
    "* Add extensions for annotations to C#\n",
    "* Compile C# + annotations to IL\n",
    "* Transllate IL "
   ]
  },
  {
   "cell_type": "markdown",
   "id": "e8c94195",
   "metadata": {
    "slideshow": {
     "slide_type": "slide"
    }
   },
   "source": [
    "## About Spec#\n",
    "### <i class=\"fa fa-exclamation-circle\" style=\"font-size:48px;color:black\"></i> Original Spec#\n",
    "* Shipped as a C# compiler, static verifier, Visual Studio extension\n",
    "* Originally targetted C# 2.0 and .NET Framework 2.0 and Visual Studio 2.0\n",
    "* Doesn't work on modern C# or .NET or Visual Studio "
   ]
  },
  {
   "cell_type": "markdown",
   "id": "89152b3d",
   "metadata": {
    "slideshow": {
     "slide_type": "slide"
    }
   },
   "source": [
    "# <i class=\"fa fa-question-circle\" style=\"font-size:48px;color:black\"></i> How can we repurpose Spec# to work with modern .NET and C#\""
   ]
  },
  {
   "cell_type": "markdown",
   "id": "932fdd50",
   "metadata": {
    "slideshow": {
     "slide_type": "slide"
    }
   },
   "source": [
    "## Spec# - Modern Spec# #\n",
    "### <i class=\"fa fa-exclamation-circle\" style=\"font-size:48px;color:black\"></i> Design Goals#\n",
    "* Support all versions of C#\n",
    "* Maintain language compatibility with existing C# compilers and tools\n",
    "* Can be run from different interfaces\n",
    "* Can integrate with Visual Studio"
   ]
  },
  {
   "cell_type": "markdown",
   "id": "7bd787ca",
   "metadata": {
    "slideshow": {
     "slide_type": "slide"
    }
   },
   "source": [
    "## Spec# 🞄 Modern Spec# 🞄 Supporting modern C# #\n",
    "### <i class=\"fa fa-star\" style=\"font-size:48px;color:black\"></i> Roslyn\n",
    "* https://github.com/dotnet/roslyn\n",
    "* Official .NET C# Compiler API\n",
    "* Exposes all compiler functionality to user programs\n",
    "* Can do parsing, syntactic and semantic code analysis, and rewriting of C# code\n",
    "* Can integrate with Visual Studio via Roslyn Analyzers"
   ]
  },
  {
   "cell_type": "markdown",
   "id": "a895d57c",
   "metadata": {
    "slideshow": {
     "slide_type": "slide"
    }
   },
   "source": [
    "## Spec# 🞄 Modern Spec# 🞄 Supporting modern C# #\n",
    "### <i class=\"fa fa-star\" style=\"font-size:48px;color:black\"></i> Roslyn syntax rewriters\n",
    "* Use [Roslyn syntax rewriters](https://learn.microsoft.com/en-us/dotnet/csharp/roslyn-sdk/get-started/syntax-transformation) to rewrite modern C# code to be compatble with Spec#\n",
    "* e.g. blockify expression body and rewrite string interpolation to use `string.Format`\n",
    "````bash\n",
    "[17:39:43 INF] Rewriter: BlockifyExpressionBody\n",
    "[17:39:43 INF] File: AddressMapper.cs\n",
    "[17:39:43 INF] Line: 1\n",
    "[17:39:43 INF] Original: => Assert(this.Owner == Message.Sender, \"Only contract owner can access.\");\n",
    "[17:39:43 INF] New:      {Assert(this.Owner == Message.Sender, \"Only contract owner can access.\");}\n",
    "````\n",
    "````bash\n",
    "[17:39:44 INF] Rewriter: UninterpolateString\n",
    "[17:39:44 INF] File: AddressMapper.cs\n",
    "[17:39:44 INF] Line: 4\n",
    "[17:39:44 INF] Original: $\"SecondaryAddress:{primary}\"\n",
    "[17:39:44 INF] New:      string.Format(\"SecondaryAddress:{0}\",primary)\n",
    "\n",
    "````"
   ]
  },
  {
   "cell_type": "markdown",
   "id": "b15f66cc",
   "metadata": {
    "slideshow": {
     "slide_type": "slide"
    }
   },
   "source": [
    "## Spec# 🞄 Modern Spec# 🞄 Supporting modern C# #\n",
    "### <i class=\"fa fa-star\" style=\"font-size:48px;color:black\"></i> Roslyn syntax rewriters\n",
    "\n",
    "Original code\n",
    "````csharp\n",
    "public Address GetSecondaryAddress(Address primary) => State.GetAddress($\"SecondaryAddress:{primary}\");\n",
    "````\n",
    "Rewritten code\n",
    "````csharp\n",
    "public Address GetSecondaryAddress(Address primary)  {return State.GetAddress(string.Format(\"SecondaryAddress:{0}\",primary));}\n",
    "````"
   ]
  },
  {
   "cell_type": "markdown",
   "id": "f7c98752",
   "metadata": {
    "slideshow": {
     "slide_type": "slide"
    }
   },
   "source": [
    "## Spec# 🞄 Modern Spec# 🞄 Supporting modern C# #\n",
    "### <i class=\"fa fa-star\" style=\"font-size:48px;color:black\"></i> Annotations\n",
    "* Embed Spec# annotations in C# code as comments\n",
    "* Rewrite the comments as regular code during compilation\n",
    "e.g.\n",
    "````csharp\n",
    "public int Multiply(int x, int y)\n",
    "    //@ requires 0 <= y;\n",
    "    //@ requires 0 <= x;\n",
    "        {\n",
    "            int q = 0;\n",
    "            int i = 0;\n",
    "            while (i < y)\n",
    "            //@ invariant 0<= i;\n",
    "            //@ invariant i<= y;\n",
    "            {\n",
    "````"
   ]
  },
  {
   "cell_type": "markdown",
   "id": "53fad6d2",
   "metadata": {
    "slideshow": {
     "slide_type": "slide"
    }
   },
   "source": [
    "## Spec# 🞄 Modern Spec# 🞄 Supporting modern C# #\n",
    "### <i class=\"fa fa-star\" style=\"font-size:48px;color:black\"></i> Annotations\n",
    "Annotations in C# comments get rewritten as regular code:\n",
    "````bash\n",
    "[18:51:16 INF] Loading MSBuild C# project MultiplyContract.csproj...\n",
    "[18:51:18 INF] Loading MSBuild C# project MultiplyContract.csproj completed in 1383.5 ms\n",
    "[18:51:18 INF] Parsing and rewriting 1 file(s)...\n",
    "[18:51:18 INF] Rewriter: EmbeddedAsComment_1\n",
    "[18:51:18 INF] File: Multiply.cs\n",
    "[18:51:18 INF] Line: 10\n",
    "[18:51:18 INF] Original: //@  requires 0 <= y;\n",
    "[18:51:18 INF] New:      requires 0 <= y;\n",
    "\n",
    "[18:51:18 INF] Rewriter: EmbeddedAsComment_1\n",
    "[18:51:18 INF] File: Multiply.cs\n",
    "[18:51:18 INF] Line: 11\n",
    "[18:51:18 INF] Original: //@ requires 0 <= x;\n",
    "[18:51:18 INF] New:      requires 0 <= x;\n",
    "````"
   ]
  },
  {
   "cell_type": "markdown",
   "id": "434dfad6",
   "metadata": {
    "slideshow": {
     "slide_type": "slide"
    }
   },
   "source": [
    "## Spec# 🞄 Modern Spec# 🞄 Verifier pipeline #\n",
    "------\n",
    "<div align=\"center\">\n",
    "<img src=\"data:image/png;base64,iVBORw0KGgoAAAANSUhEUgAAAyIAAACQCAYAAAD0p9+9AAAAAXNSR0IArs4c6QAABbh0RVh0bXhmaWxlACUzQ214ZmlsZSUyMGhvc3QlM0QlMjJhcHAuZGlhZ3JhbXMubmV0JTIyJTIwbW9kaWZpZWQlM0QlMjIyMDIyLTA5LTIxVDE3JTNBNDYlM0ExMS4yODZaJTIyJTIwYWdlbnQlM0QlMjI1LjAlMjAoV2luZG93cyUyME5UJTIwMTAuMCUzQiUyMFdpbjY0JTNCJTIweDY0KSUyMEFwcGxlV2ViS2l0JTJGNTM3LjM2JTIwKEtIVE1MJTJDJTIwbGlrZSUyMEdlY2tvKSUyMENocm9tZSUyRjEwNS4wLjAuMCUyMFNhZmFyaSUyRjUzNy4zNiUyMiUyMGV0YWclM0QlMjJIMHIwOGFGTk9ubHNfUU1FR0ZxcyUyMiUyMHZlcnNpb24lM0QlMjIyMC4zLjMlMjIlMjB0eXBlJTNEJTIyZ29vZ2xlJTIyJTNFJTNDZGlhZ3JhbSUyMG5hbWUlM0QlMjJQYWdlLTElMjIlMjBpZCUzRCUyMjkwYTEzMzY0LWE0NjUtN2JmNC03MmZjLTI4ZTIyMjE1ZDdhMCUyMiUzRTdWaFJiNXN3RVA0MVBMWUNIQ0I5WEpPdW5iUkpVOU50M2FNSEY3QnFiR1JNSWZ2MXM4RUVpTk91bTVvMTFacEV4UGZadnVPJTJCJTJCMktiT0dpUk41Y0NGOWtubmdCMWZEZHBITFIwZk4lMkJiJTJCYjZqUDI2eTZaQzVOJTJCJTJCQVZKREVEQnFBRmZrSkJuUU5XcEVFeXNsQXlUbVZwSmlDTVdjTVlqbkJzQkM4bmc1YmN6cU5XdUFVTEdBVlk5cWpwOEdBZnlPSnpBenVoV2REeHhXUU5EUEI1MzdZZGZ6QThWMHFlTVZNUk1ZWmREMDU3dDJZTE1zTUo3d2VRZWpDUVF2QnVleGFlYk1BcW9udE9ldm55VTElMkZvdzQ2ejJST2xlR3BadHY5JTJGb0hKM2xNbXE3d0VNRGtPOTVBJTJGaEwxbzdjVVFCSzduQndrJTJCbVhVZTdqR3RUSUJycUFXUktuMTM0ZmpJaWw5bnFuTlY0RmpidFZMUzlJYTI5R2hqelprME9sRmFVamFoZE1FcEY2MHJ0QTcwVzAlMkJTZ3QlMkZCcUNkc1gzdnpNNHpjZzVEUWpDQ1Q3eVh3SEtUWXFDR205OHdVd0tnNjZPMTZyQkNEWlNOeGVNaUEyT2d5M2JvZUNGWU53JTJGRVQlMkJRNHN2ciUyQndtT2U1emslMkJGWW94TExBbG41ZXNuM2clMkJQaXZuUVluN0I4NEpRYU5jcGRmbndVVjJxa3JCVWZhOEtpRnY1cSUyQldxSFNWZWYwRm15RHVtZ2tSV1FXNEVaaVhGN2VMVFZxT3R5em5uS1lIWFQzJTJGb3ZpVDlZZTRua041YzBwUlY0WFc4dktwRDc4U3pTbkJkc1JIbDdsY1FaRTJPUlB3VzFYc0s4aUQ3VVg4SU9CNzJmWXQ5aTJiRlk2R2Jhd3JOTzMxR1VtUUFTMHh6R1ZOY2xpU2VjdCUyQmVZMEFIZHZYb2hzaGIwNlBiM3pWJTJCR2hocjJZeUdMVGU5d1ZSNnQyTmpORXVidzdUVzZ1ZDF0dyUyQkpkVTZ6ZmpVbHIwUU1qNTlKSkJZcHlNZjJVYnZZbzJJR2UyclpZd0xVS2tQdXA3ZTVyNzRtd21kTzJ2MjUzOW5RZEdlYiUyQnpzUzZkSXpzOGJIc1YxSDg2bWpLTnB4MUhGZ09Xcmx0azM3N3hXSSUyRmxjRnZwUnlVRFF0ZUJqTSUyQnFlV1A5WE9EUDNXMVlIVll6ODd2S25ub09vSlp0NXpxV2YzTVBMdjFXTSUyRkNiMnA1NkRxaWJ4blUwOFVIVTQ5eWh6JTJCVGVtR0QlMkY5WG9ZdGYlM0MlMkZkaWFncmFtJTNFJTNDJTJGbXhmaWxlJTNF5xthRAAAIABJREFUeF7tnQvYb8X0x6d4/IlCKVFEuSVSoRIpSnWodCEVXURvKOkiJHSTE9IhpTq55E4uhVy7qIiQlEsXEkmRcs0l1/N/PnN+87bf/e69Z2bv2XvP/Gbt5/H8/5139uw1a31/a+Y7s9aaZZQ8JQ0so5RakqlW6sees1YyBYPzsAUbzqqShqIB0YBoQDQgGhANFDTAGkIe0YBoYEANyMLdVdmiKVdNSTvRgGhANJCHBvqeF/rufyArJTQMISIDYUI+IxoQDfSrgYT8br+KkN7naUCwIaAQDYgGRANxakCISJx2EalEA6IB0YBoQDQgGhANiAZEA1OtASEiU21eGZxoQDQgGhANjK4BOZIZ3QQigGhANBCnBiqJyMzMTK7Z2nFayUOqxYsXZ0MuBacewIisaU44RfWC1cgA6CFOTlgVnHoAI7KmOeBU8BkZ6DzEacJnLRFZtGiRxyekaQwaOPjgg1UOzsjoGqckOI0BeX4y5IZTQ0Tywyr7WWnvi+SGVfGpfr4slta54FTwGQvi/OSw4VOIiJ8+o25tM3bUwrcQTpxSC6VF8MpU4dQx5EawGgHwWogwVVh1GL/g1EFJETbJBaeCzwjB5yCSDZ9CRByUmEqTibE3n8h7cSpyt5UzNqeU/v5vW0v4vZcbTq0nIgIcPwAN2Do3rMbmUwc0ddKfygWngs80YWrDpxCRNO1aKbXN2FM0VD0UcUppWjQ3nApWyzhNh3nlhlXxqeJTY9aA4DNm69TLZvOjQkTStKsQESEiySLX5pSSHViD4DKBpmnV3LDqg9N06GSa2POROhec+uDTR3/Stl8N2PApRKRf/Q/au83YgwozwMfEKQ2g5B4+EQ6njgkaPYzBt0vBqq/G4mgfDqtxjMcmheDUpqE4/54LTgWfceLPJpUNn0JEbBpM6O82Yyc0FCdRxSk5qSm6RrnhFAMIVqODoZNAuWFVcOoEi+ga5YJTF3zKSV108FQ2fLYkImLq+EytrMaOUeYuMrk4pS79y7v9aMDmlPr56ri9ClbH1X/br+eG1ThxWrfekHWIwXUuOI0Tn229Sz7v2fDZkojko8CURmozdkpjcZFVnJKLluJrM204dQkQE6zGh0MXiaYNq7YxC05tGorz77ngVPAZJ/5sUtnwKUTEpsGE/m4zdkJDcRJVnJKTmqJrlBtOMUA8WJVdZJ8fRG5YjQenPlYauG2EP6FccCr4HBjrgT5nw6cQkUCKjqEbm7FjkDGkDOKUQmpzuL5sOHU5YRhO2jBfEqz66TGWtZ4Nq36jir/1fJzGYon4dTemhLngVPzomChr+LbFTdjwKUQkUru2Ectm7DZ9xvyOOKWYrVMvW244jetEJE3MjCV1bljNz6d6EC2PpkPjNRec5ofPoZHUz/ds+BQi0o/eR+nVZuxRhOrxo+KUelRuj13nhlMhIj2Cqeeuc8Oq+NSeAdVT97ngVPDZE4B67taGTyEiPRtgyO5txh5SliG+JU5pCC2H/0YwnCYUwyVYDY+jxh4D7V4Hw+rAw2/7OcFpW82N+14uOBV8jouztl+34XNUIhJormirm6l7z2bsaRuwOKU0LZobTgc7ERGHGvwHkRtWs/KpU/R7yQWnWeEzuDcbr0MbPgclIlP0ux/Pog1fthk7SqE7CCVOqYPyRnw1N5wORkRGtGnan66fmXLDqvjUNJGcC04Fn9OJz0GJSJoqTEfqXJyRsUgsTkkItt9vJDecChHxw0dMrXPDaiw+NSYMpCBLLjgVfKaAxvky2vApRCRNu1ZKbTP2FA1VD0WcUpoWzQ2ngtU0cYrUTVhNKEXJ2QDiU51VZW/Y2w7V/I5z8am547M3SNnR3KmFDZ9CRDqpN66XbcaOS9ru0uTulLprcJwecsOpEJFxcBbiq7lhVXxqCNQM30cuOBV8Do+tEF+04bMbEUmVnoXQbGx9LFHq4EMOVosXL958ItrFsYkYWh5xSqE1Okx/Nqc0jBTDfkWwOqy+Q30tNFZjP0URnIZCzrD9hMbpsNK7f03w6a6rti37WNbb8NmNiLQdqbzXiwZsxu7loyN2Kk5pROV3+HQQnMa+oivpZyys9jGpdDB9cq8GwWpCox4LpwmpKEpRc8Gp4DNK+FmFsuFTiIhVhek0sBk7nZG4SSpOyU1PsbXKDafoX7AaGwrd5MkNq4JTN1zE1ioXnAo+Y0Oemzw2fAoRcdNjEq1sxk5iEB5CilPyUFZETbvjNLHjECEiEaHPT5TuWPX73titxaeObYF2388Fp4LPdvgY+y0bPoWIjG2hgN+3GTvgp6LoSpxSFGbwFiI3nMqJiDdEonkhN6yKT40Gel6C5IJTwacXLKJpbMOnEJFoTNVdEJuxu38hrh7EKcVlD1dpcsOpEBFXZMTXLjesik+ND4MuEuWCU8GnCxria2PDpxCR+GzWWiKbsed0nF50yzy9iFNqDZVRX/TC6ZiSBvyNCFY7GnKkrPtksNpRveZ1wWkgRQ7cTdo4dXe0gk83YI3kLmuFs+FTiIibXZNoZTN2EoMoCmnxT+KUkrOoFnjqcOpgBsGqg5IibJIbVgWnEYLQQaRccCr4dABDhE1s+BQiEqHR2opkM3bbfmN9T5xSrJZplis3nKINwapgtRcNuG8mO30+WZzGtgXspO1wjXLxqcniM5yp4+rJ8Xdnw6cQkbjM2kkam7E7dR7hy+KUIjSKg0i54TRqIuI4kTiYdSqb5IZV8anpwLj4080Fp4LPdPBZlNSGTyEiadq1UmqbsadoqHoo4pTStGhuOJ1mrE47j8kNq+JTxafGrAHBZ8zWqZfN5keFiKRp145EJPB5/kg6FKc0kuI7ftbmlDp2H+XrY2N12glDX0bPDatj47QvO051v0uUOviQg9XixYs3n4zz4mkdr+AzTcva/KgQkTTt2pGITMegxSmlaUebU0pzVM1SC1bTtGpuWBWcCk5j1oDgM2bryImIUrLll101InFK0+mU3EeVzsmeYNXdqjG1FCISkzVEljoN5IJT8aNp/gZs+JzuE5Gg5KSus6Af6YQym7E7dR7hy+KUIjSKg0i54RSVCFYdgBFhk9ywKjiNEIRVIpWWHbngVPCZCD5LYtrwOd1EJE2btZbaZuzWHUf64nhOKR7yGalpGsXKDadCRPpGaX+/x9ywOp5P7Rsj091/LjjNCZ/9ebXhfws2fAoRGd4mvX3RZuzePjxSxzk5pZFU3Mtnc8NpHRH529/+pj796U+rs88+W33729/Wun7KU56i9t57b7VgwQL1f//3f73ov0un//jHP9RrX/ta3cVb3/pW/X/57wc/+MHqda97XZeu9bu3336b+uQnz1IvfOEL1f3ud7/O/aHXLbfcUp1//vlatzzHH3+81vcHPvABteKKKwppLmhAfGpnyI3SQS4+VfA5Crw6f9SGTyEinVUcTwc2Yw8uac8h/OKUBrdokA9Gh9Mgo2rupIzVa665Rr3yla9Ut99+u9pzzz3VBhtsoO6880715S9/WX3iE59Qu+++u3rzm9+s7n3ve1d0PN5eWd9E5JOf/KT62Mc+5kQSXMwmRMRFS3e1EZ/qp6/Qrdv+snPxqYLP0Igbpj8bPoWIDGMHy1faup+53dqMHcVQAwohTimgMgfsKjecotoiVm+99Vb1ile8Qt397ndXixYt0qcJ5lmyZIn66le/qvbff391yCGH6HbLLFPppge0WP2nDDEJdSIiRGRcsxqchpmRxh1LTl/PxafKnJ8mqu/Cp96dnldeWohImnatlDoXZ2QGL04pTfDmhtMyEfngBz+ojjnmGMWi+0lPetI8I/7zn/9URx99tP73I444Qp+KQFB+/OMfq1NOOUWde+65+m/bbrutPlVZZ5119H8bUvCgBz1IbbLJJuq4445Tl156qdp+++3V4YcfrtZcc031rpPepT7y4Y/o9gcccIDaZ5991L3uda/Kd6+66iq11VZbqUMPPVQ94QlPUMuoZdQ/7nQLzbrxxhvV29/+dnXOOedUylqFXEKmjj322Nk/vfGNb9ThXi5jr/slyImIn48Qn+qnr1ha5+JTBZ+xIM5PDhs+hYj46TPq1jZjRy18C+HEKbVQWgSv5IbTIhH561//qg466CBthXe+853qPve5j5NFvvGNb3CqookL+ROQjjPPPFP99Kc/5SIztemmm86Sie9+97s6v2KPPfZQyy23nDr99NP1qcoDHvAA9ZCHPETnTEBQTj75ZPW2t71N7bXXXnPevcc97qH/bbXVVlMf/ehH1eWXX67e//736xwLl9AsFv8vf/nL1frrr69e8IIX6PFBui677LJZWasGfd111+mcmfPOO0+95jWvUWuttZZ69KMfrVzGLkTECUbWRuJTrSoavUHVaVUuPlXwOTr8Wglgw6cQkVZqjfMlm7HjlLq9VOKU2utuzDdzw2mRiJATQjI6i/rXv/71TmFXf/rTn/TCfqWVVtIJ4iZv5M9//rM+rbjb3e6mTjzxRLXsssvqxHGICKcuLOJ5LrzwQrXddtupN73pTbo9IWGGEC2//PJq4cKF+tSBdyEBhtjw7h133KFDxOi7+A3+VpWsTgI+7VdddVU9PpNw/5///EfnvPzmN7/R/VTnviwlLMUcEdex1/UnJyJ+v3TxqX76iqV1Lj5V8BkL4vzksOFTiIifPqNubTN21MK3EC51p5RrHHZuOC0SkZ/97Gf6pGKHHXZwrjL1gx/8QD3vec9TZ5xxhnrmM58555fyuc99ThMMTi44QYBM/Pe//9VhUZyG8JjFOLknT3va0/S/QTze8pa3KPJVioTCEAzCtcwDOXj3u9+tyQ25IE1VszihedGLXqR22223eWFnl1xyifrCF76gPvzhD6tHPvKRlb/4MhFxHfvjHve4yv6+fdm31ZZbSNUsV/eauk91Hee0tcvFpwo+00SuDZ9CRNK0a6XUNmNP0VD1UMQppWnR3HBaxOof/vAH9eIXv1htuOGGziciEImXvexlmmyUF9zFHf/11ltvDkkwZKLqVACZyMm45ZZbrGV4m75BP8XyvaZtHTIJRYOMMP6qp0xEXMduSvOW+5w79o2VUstMSfnefkoSik8VnxqzBgSfMVunXjbbnC9EJE27ChERIrIUAwkeq9icUgw/ydDLPDOBmhyLv//97405Ipw+XHzxxerII4/UZGFsIsIJDgTi8Y9/fOOJSB3pcbVpv0RE7hGx2UEWejYNxfn3FHxqCM0JPkNocfg+bPgUIjK8TXr7os3YvX14pI6n1SklyC28EJAbTsund7aqWSYvgzyOU089Vf3iF79oDM2iOtZHPvIRnYheDJtqcyJCOBcVvUhYNw/kgLwRLgBceeWVG4kIlb1Ipj/wwAPVS17yEi9c0Ng3NMuM/VGPelTltyRHxM8E0+pT/bSQXutcfKrgMz1sIrENn0JE0rSrnIjIiUiyyLU5pWQH1iB4cQLlhINF+gorrDDvHhGSugnB4iSEPI/nP//5ypaw/e9//1tXwCIJvSsRKSe6//GPf9QlgikJTLL5//73v0YiYpLVScp/z3veox74wAdqrTCud7zjHTqRnnyT4t0pRbX5JqubsZN0X/UIEfH7NclCz09fsbTOxafmhs9p2ZS04VOISCyeJIAcNmMH+ERUXTQ5JROLT+w4dxFUPcTIs1Bhp3fFFVeMamypCcMClVAiQo6e85znNIqfG05RRhmr3/nOd9SrXvUqfZu6uVn9L3/5i/rUpz6lPvvZz+r7NDhVgFzwuJSwLZfWbXMi8r73vU898YlPVPvtt58uAcxvA1JBCWCqcLmU7zWycnrCGMgL4cZ4EuspFwy5qruk8Ytf/KJ+h/K9m2++eW/le8866yy188476ztUyg/3rjziEY/Q/5wbVm0LvfJdL3U/dMo9m9LNMfiythdlcqcPuKW4AuWouz5V81LXcMaccGrDJ7rA1tyPVPVgxwULFuhQ1zXWWKOrOb3er/vtcEcTvgiZ73//+3v1qRsHZCt1c4i/UHPfsPlRISJdNRzR+zZjRyRqEFGmk4gE9CpBtOzWiZlgd999d+sCpDVOQyduuA2tspWvKFVYZYFPmBYXFHJSwCT0jGc8Q+277766uhUlc81TdakfeRuQGVOBKgQRgVByJwkhYddff72u7nXYYYfNTtouRASZf/KTn+iTD8bGqQUbAsi62WabzRlXWbno5KijjtKEDCxRWpgSwOXLHMtjrzNl3YlI8eLE8rvnn3++ljenBZ7RgW2h95WvfEVdffXVsyrDzhdddJGuklbczAG/dQUJOvzsWr/aloiYKneLFi2axURrIZRSQkS6aM+tQA22piIg5cOLJ69UE7ziiivUhz70IX2nEpsuQ5IRiEjVBgi/J35X+H58JhtAYz1CRMbS/BR9t/UCb1gdbKuUWno1dMdnOolIR6WM9PogRGS4sZ2olFqglKK00x0hPmtb4IX4Rpc++pqAusgUw7sJ+NSgWPXFKYs+FulNJZljsKMQkdGtEASnLvi0YZKTe04fICpt8tjaarIuAoNNJmRmo6apomDb78bwns2PyolIDFYKJIPN2IE+06WbjymldlBKvZ6Lpbt0xLuhiQi7p+iQG6+5c+ETn/iEvtDN3Pmw+uqrz4rMwo1YfpKEv/e976knP/nJ+v4EEnVNuAfx8lzORru6NsVvsivy3ve+VxHvfsABB+gyrz/84Q91mA67joSMHH744WrdddfVcnR5l/dN2AGx/C7y1enE7Br+6Ec/0nJRWalpYZIATo9SSj1LKbWCUmovpdQVfWK1a98h3hciUq3F3LDqstAraqpp0WcW/yz6KCrwr3/9S5MWdn45STnllFPU17/+dfWrX/1Kn+oRnoLfM+Ep5n38H8USzjnnHO0bd911Vx2+Z9qRf3T22WfrHW7CAk1fXALKzjdPFRGxyVAuRb3lllvOhvHi288880x9tw/+jzDCmZkZHZZqwimrEDXeiYjvGW4IrzKnjyA+1QWfNiJiLpXl1I6wbeP7OD0phnGX/938N/lym2yyiQ4zZV5m7t9///3Vjjvu2Gj7plDwurueyifB2267rc7ZW2eddWaVW3VaXtfum9/8pnrXu96lQ2Wf+tSnqiOOOEJ961vf0hfNNt0ndeONN+qcRX6DPFX9NyHG5keFiAT/vY3Xoc3Y40k2+2Wc0UpKqScrpS5XSh3QRaY+iAhkYrXVVtPOhUmFyYoJbqONNpq9EZpJ6A1veIMOH8EB8Tdi/plYX/3qV2tHQew/bSAXr3jFK/TiHGdDG2LkSfzlNmj+rfjNbbbZRl122WU6+XiXXXbRk9xLX/pSfXs2cfpMcpAVbq7u8i5OlRAYyAW7QtxBceWVV+qxslCok69KJzhCnBnH4c961rP0+5AlcgOqnkRwiui3KKXeNSEjZ/WF1S79hnpXiEjSRCQYVl0Wej5EBMJAbhE+ER9GyNvvf/97nRdFbDx5JFRog5BANiAt+CXC8VhQ8v+Ta0Rcf9HPksPEjjZ9mnb4SfKbbrrpJu1n6f/EE0/UfrZMRFjg2WSgah1hevg1CBL98T82pw499FBdzQ45mC+Mbz/kkEPm5HaVUTWPiCxRSl+6ueXcSzd9f9dR+NRmrsPc3xmnLvi0ERFT2Q+8gEtfIkIYLeFTXEy70koraWx96Utf0v8XQlr31BGR3/72t5qgQ8gJzTLk2SUvkG/5ttt444317461BWsYNggIo6wjImAbUk+OlMn7YqysU/jNEspre2z4FCJi02BCf7cZO4KhGGd0rFLqg0qplSeLvN+2ka0PIsKEwE3VTDRmZ6vs2NgF2XvvvfWifYstttCisxhnh+xrX/uarg7ECQOTEkmbxMWbNuedd57eOaMtTsvshBS/yQR40EEH6bh4cgiYyHkuvPBCHYttjm+7vMsYSAjGkUBCzMM3WQyw21MnH23LOpmy0CyDU/7vM5RSH1JKnaqUeksbnPKOywTatu8Q7wkRiZWIWHeyg2LVF6e2ExF8CacVW2211ayC2VBhZxaSAMngIX6fBf/ll18+e+pgko7xsyyAKHCAn8U3sfFBIQVOn6kUR3U2iIkpgoAfpn8WdpyQlImIqwxVOSL4ZE7L8Z2UzDbPBRdcoE+s+fvaa69dCajxTkRCeIlOfQTBqQs+6zBJ/tsNN9ygT+euuuoqnSvCBbFtiEhxXoZYs5nHAr+uMA6aayr0wAYf6waDJ1ulRAg4+Cb/DpIAIYJIQLp5/vznP+s1TLkdG5hmk7FIYthArCIi6Ix1DO/x+2KDgIdTSPrhJMWQ/SZ02NamQkQ6/bbietlm7AikLTojxOG/95iQkW/6ytcXEeGUgGNb85QTXk844QQ9kTJB4gDKDzsMEAuOgAnzKp4MGAfDvQe0YXcF8lP8pnGMTM4ch3K3A89Pf/pTfXrC0So7i1XHuS7v4jCZ9JnM2bE0/fMNdvuY6DmZwalWfYN2ZZ2kSkRqlnllnLLagDjfqJR6sS9Oae8ygbbpV97pVwMJ+tROWPXFqY2I+OSP0Bfkgv8R/sJ/szgj/LV4T0zxm2uuuab2ZVRbw5+y6WMWY0VkuOaIlGUoExGqAlK8gf+711576YWeeSjLbZKk6yqGCRHRcz5PK5y64LOpahYfJiSJu5I4YYO4+hKR8rzsuoljS1bfYIMN9KKein0/+MEPGu+OAuuEfENEnve85+kQwWc+85lznCHV3mztDJ7BcRUR4XSRNQcboE960pPm9H/JJZfoTVGX/DCbHxUi0u88NmjvNmMPKkz1x8oLPFq9cLLIe6lS6kwfGfsiIsWqOeVFN8eT7HrhjPjhVpX/NI6JGGYcQXGyKjstwqHKx/J1jq08KVZVBHJ5lxMQdhEhUnUPpzZULMIhVoUNTAsRqRl/FU5pulgpxVYneSM3hMKqTz/SdlgNJOpTW2PVZaFXXuDXkY0mksLJBru2P//5z/X/2BRhM+a+973v7MKm7v3yv1PdjU0T4t7Z9GGTBiKw9dZbz1byqiIiLjKUfa4hEswRdc/RRx+tQ3SrHiEis0TEqMfLp7rgE1sXq2YxVzNfcQLCxhvRDMV525eIIHhx7vchInXXBRACzqmKicj4/ve/r0sMQzY4tSk+xbmXf3dphw442SiTet6HIEGiGROE4DWvfa3+HP9t1id1WOf35pJgb/OjQkSGndd6/ZrN2L1+3K3zugXeRhMy8hml1BFuXXVLVmcSwllxImHuEamr5178d7OILzujosx2IvIapdQyc37oRfLjQiaKJyK+77qMwYzHRSfIkuqJiCcRoflhSqlDlVJ7KqW+FgKrrn1Iu+E1kLBPbYVVl4VeVyJSJA5s1pA/R4w6eXVUNDI7rK5EBHkIIYE0EKsPoSFunjw/c/9NmYi4ylBHRJrup2pCqRCReUTEC6cu+KzCDfM9+RDkhLAJV7yjqV8iclc5/qZkdRNFcc011+j1yHXXXedEMFyJCGOErNuICP0VL8Wt2iht44VtflSISButRvqOzdgRiF1HRBCNGwWJxf/bZMf5Tpu8TU7J5FkQ01gMbzJ9Vv3dddFdF5oFqSGOknCCj3/8Y+r2239fG5rFLgdtSfga+kSESZ+jaRLsTRhEna5ddZIREUFVO06I8+FKqVNsOOXvLhOoSz/SZlgNJO5TvbHqi1Pf0Cwq9VHEgzBT/ChhKCavgxNaQkzaEJEiKkwVIe7joYohi88iESF0y1WGMhEx8wbfK4fduiBTiEglEXHGqQs+6zBJXsNJJ52kNwDJHTIXqxoiQogy8yLFE3gIo+aUAkJbrK7F30KfiJSJCFWqmkKuyHOBVFA4p0u7unuhzBg5reQ3BHHrUurY5keFiLh4j0Ta2IwdwTCaiIgRb5FS6ukTMvLjJpmbnBKTEc6GfAoqqHBMbyY8/sauGRWviPflaJPHddFdlayOk4OA0AcTKjkkTcnqp512ms7DaBte1eVEhHcZA+EL6MckgqIDdmKYwHE6xEC76iQzIoKqOC+HOF/MBdy235bLBGrrY2r+ntCdnVPiU52x6otTXyJi/ASbIcXkcpNcS7EMHyLCiQo+nPh6KlsZH3/zzTfr8ufbbbfdPCLC74i/uchQl6zOgrVYiIQ+Oc0hQZgcu3K8vvntChGpJSJOPtUFn02Y/N3vfqfxcOutt+rqkxBhQwJY/HORq7lQ0Nw3wnzYNxFh3mW+pUAM2CJ3oykJndwQKmsScuXTrpysbqrHkRPblKxOvitl/ikKwWPWO2y+ss4qXhxZNU/Z/GhnItIUM2niNYnJo/yeybjva0Jtmt/KCyqOcgEaBqdiQajH7MYQj0iFJBwZVTsYPwveqps8DfPGWADC7LpQl9pHNpuxQ42xQz8uRITu91dKLZyQkbPrvmdzSsbpsOimpCylHfnhcmzPv+20006aPKyyyipeRMSU7y2W5qVKC3eGcPrCTktVm7ryvUOfiEBEjHzIDOmgqg1YZRFAoijOBb24EpG//OUvukwxD44bXU9B+V6D1zoI3nNyMkI1AfJG/tAWqx1+U7Ov1tkqRN9NfeDzTLWj4r0QTT6vb5mq+m/jZ6fIpzph1eZTy3r1JSKciFCSFz+DbjfcaEP1qxt/pStNsTgkdt+HiJCsjq/idIVyrE9/+tP1/IlfoyyqWWyWT0TmyLDhhrp0apUM/DukhXBWdp4hPJAmFrOXXnqpHgO+ztzYXSx9XoXBJiLC+oBSwOXnsY99rN60anpywakLPm3lew3B4H4wKj+BuXPPPVfPgyRlc18XORtsVlI501TDqguZ9skRqbpZHYzxLR5yQsAYj29ZXpLJOb1AHqpycupYLK9L1U1KVlMhi81HyDrEC5LBmOvK9xo5qHDHyQjzOvlYJMNDus3JUhd8BiMilB0rV4r44x//qOPyPvvZz2qBWaiYHYuhJ6IuybWusuJkYY3EArKww0Ds2Fx77bXaud52222VdZcBDLs6VExYa621tFPE0XH8Vk5U6mJs13H02M6ViCAC9R631CJHAAAgAElEQVTZcX6HUurtVTK5OCUWyExKXMTDD4qHutdcnrX77rvPqbDiuuimj/KFhuxkUA6XidBgvOpCQxbpECCTLDfWiUjVGKouAnPVCYtRnDmXj7Gz1JTANpk0TWECKlEVn6r9hPK/2f67K4Spt8xJRyMRKVTcOk4ptfOEjHynLVa7Cj0GESnGXlOylIUYl86ZyZXNJ3builXouo6z7ftt/Oy0YLWgs0asuvjUov59iQjvsi4gRIYSuCzM2RhhEc5ONIt+Fkf4U9ccEeZdQzTw8cy5LDKZU83GXzlHxFUGdn4hKBAdKiTy/zNH8z4nIszrbOBwvwiLQDZdq6p2GZ01EZE6XL/xjW+sKAs71wXmglMXfNqIiNnNZ71F9AKX85lLMYmeIE+D9Rv4IeeIJ8SJyMLjj1dvPpabC+Y+dRvVVRcVgmtuYOcd8/i0o9KVuYiR6mHghopzyy67bOOFhhAzCD9zPKcx/GaRgyp1vGt7bEQ5GBGpS95iMUbyC8lhtnh022BC/t0nlMTlu4CBHwDGIdyFy+iKBsJxAWZi7gB/8WSEMB4qj/DvOGMqFbFjQ/gOu9OuD4tgqi1E/hxtW+AV5F9zsuN8tVJqv/K4XJxS5LrIUrwJTq9USvG/MhGJRSe205CynHsrpd47ISMfzQWr7DqzE83EWKxPz/jZcWMHjQu6XGrN9234Nn42N6yKT+0bhf30nwtOBZ9h8WPK9xJaVQyVDPsVpQnP4sWLzW2PbPLNeXonInyNHWl2QIr1htnF4GiHEwQufyMhiHrF7CqwW8xinB1rdh0gOTwm/IPdaLNo599pS5wcx7Dcg8CgUSoVM7jAhnKrTJQmBIaJkVsxf/SjH+l+qdphZLPJVWcgMyGzK8iEXBWGRvgC8X/snBd3CBkLuyomUerTn/60vmm2Ksm6CSATZ8ROM/+bZ+zQ4Bqwvw8opdaYLPJuMt8VpzSgBQJ+aopxyuUz3DfCSR6Ee/apwyqnGPirci328r+z0cFuFhsW/G3FFVfU/owyoWZTo3wiYvogqZajf3ag8Y/sqrEpsvrqq8/Kx0YJ/hN/SxvIBeEgXKzJN40PLsPAxNAzhqq7E/BtH//4x2c3X4oyEdrIN/HHnBSWd5NdfXH5dLI8lxiZ2/jZ3LAqPjWgoxuwq1xwKvhsByoTZcOJI/7fPCY3pc5/t/va/LdGJyLE5LPAZjeKE5GHPvShOqyFHX8mR+LyiL+kTBgThYmxpJQff+PmasKU1BKlfnb9zzSBMBOPCVviyIgKQJAajpBQNCcJvEdc22Me8xjF7ZeGiEA8qFtO+Vbi5fjmuuuuq+97sMlVd+xK/B2JcYSk1CWqFc1jFg02Q5fvtJhaImK9QFi9npLZEzLydfQgTsmGnjj/PsWTJgpfdUJGbptg9b9NWHUlIvhPFuvEqeOviFNno4UYZhbzJCFWERE2d4g7Z3FOvhn+ET/LZV7mlMLkC7H5gc81N1EzSRG3T3WWOiJSvAEY3wmpaHqQEZlIelxnnXV0TDYy4buf/exnz8Zsu8wR+GIjOyHAFJ9gXMwFhFhA0hh38VbvOtnq/GxuWJ12n5pQnQQv550LTvfdd98XsrEij58GTG4WuR1mzQ05YQ4p5oT69ereelQiwiTBwpwLftgto2QeEyeJwpwKkEgDCTEPGfz77LOPjmEjjh8Cw06dKZVGLNuRRx6pY9QgEUysJrEbIgHxMOVQASu7eiZe3yVHxEUuYlerHk59+GZVneaq9hCjq6++evYma06CIEwAhpAsEo+I4SNRrer27qo+p9wZMeRdJou8A5VSZ0z7pOn+M0+rZQY4xSAnK6W4ipYk9uu6nogcv/B4ddOvb5pzSnrVVVfpEwt8YVUVNePzuFSTaj74Xp5yDDUn05yQFBMbzQKff7NthrDwJyT1F7/4hSZJbO5AAPBnphSmQaiRiQszi6FcF1xwgZ4gSbLEx7r64qoKdpwe0Q8FJJhzCMPllId5xdfP5obVmZmZazkBkyctDeSC01VWWWV/ftfFHIm0LDWetPh0/CIJ8cwd6JCN/T332kutbNlA6ir1YESk7qZREsf2228/HX5Atr25SI4TCeKHqd1sHjNZEBLAxAjxYNeOkxSS4ZlIIB6UWyM0ATJD7gnHTYQx1ZU0pX8bEfGRq8ooJKiTEO1y3X3xfRIoCR3D+XNa1DZRnT4zcUaUlCD85cszMzOHDTZpTutWWlcP0+L9THCKZg5SSh2jlNptZmbm3Cqsup6IkCSLj8FXUOHElJgsqr/qRIRTYE6ei6GgxXZU/IGoUDmlfC8CpzCUvbYREWTAdxNq9fnPf16HlbKBhO9nM4iyquakhG9zYo2vLJ6ysDEDEUFOSBPkymWOqLvT5y69LP3htvWzuWF1m222Wf4zn+Fe2QCP+MwASnTrIhecPuUpT1lCSD3+0FZJzE1z0moIDQxGRIpVs5jUYF48nGawM2YeU+qM8AAmCB1zVXrYLVu4cKG66aabNGNjUqLmN7t/lLQlLIFQKCZOSrERmmUS4V2r/JST1efKVW0aI9c970klxLkPu4yUgnU9ETFvQ7bOPvvs2UVAOaHSByS5OCOl1IOVUt/bYYcdHgy7lyctDWSE02BEBJ9K9RzKgvNwYkwoKP7Q1HCvIyJlIlFsR7UfqsNUJStW3aHggjQq0JCoDinBzz/60Y+eUw66KiemWAKTE3ROvpfOEfW+mFAw/kf4b/GCsao32vrZ3LAalIi4gEXaBNFALjgVIhIELoN3MhgRKVfNKl4cQxwakxGPa81l2pqwK1NWlJ0yTj44YmLypMwfC3/CmUyid1ciYsiTKa/qajGz00diZl2OyG9+8xu92weTpwRgl9jlKrkycUbjnIi4AkHaWTWQCU6DhmahVE5tWeAT58vC2iStm5CqNkSEfDk2eB7+8IfPq5rSlogUAUCoLOFQEAXyW+pOgMy8QJ4eJIRTGpsvdplLuubi5YZVCc2yuq8oG+SCUwnNihJ+VqFGIyJIRrIjYVkkJpoL0kzyOnHFLuV8eY94NvJBODImqREiQjgWfXNERxKnufivLRHxlauseZeqWcRBUwmMhQMhCFT7KuaDEHJ2xhln6CpeOBYeyRGZo2mTI/IqpdRiyRGx/v6jbDDlk6Z3sjrJ21TKW3/99WftxX8TdtQU6kkYJw6ejRo2YijdXbwc08UXNoVm1YVRFUFFuBmhX3W+/Je//KWuhkVVQ/IETbJ6ebwmNIviJNw3xXhc5oi60Cxu/KVyormluK2fzQ2r4lOjdJlWoXLBaV7J6nHENoaQYlQiUrzsithmksnZ8SLBkEmJ+zb4vyahHOICqSBWmOvueZi4eJfM/kc96lF6p4xkdf6NuF/qILOwN8lLLpMvpzdV94j4yFX2DCZBktyWqntEzKKB5E3IFTHTnJBwkRPhBSxCyjf/Wr1PqUG0zsheEctlqFTNerlSak+llFTNctFYpG2ixWl3fZnyvR8u35VTt8BjM4KTAnLhnvvc52oJzN1LlPuGiBA2RWI3PoawJVManHLmnGasssoqrYkIvnBusjpDWEZf8MU3OYFuyhExPpN8P2QpVhWkD+SnH0JXKcBRlUDPuAjjwnfSnnauvrgqWd1cWMa3CO9ig6etn80Nq0JEujuBMXqIAadhpvl52pvjUwWfY6Cr+zdHJSLFSZXTAHMniKnIQqUpSAchSoQBMAmVS4mxWOf0gxtTOf1g0uZhMc/ExW5i8bIsVyJi7iShL8gPO4MQIqqsuMhVZRrGxcTN/7g9m5vVV1hhBXXFFVfo2G4STIthaixCmKT5N4hJ+eZfX/PH4Ix8ZXZsP7X3iPzvf//TeU4QanOq56gTVfVuHf5d+xyi3QSnoS80tN227nJje3H4g1xoyOYDGzT4P8rPUm6cRTvhpmyW4OfYZKE8LeGokJUFCxZoObnltuhX24RmQURINOfSWZLD8ceU1SXElDw8TnqbiAiLfu6IIn+FYhskt/N/6ZOkde6IOvbYY3VhEqp2GRkpXILvBvP4QU5WDjnkkNl2rnOEaUeiPCcpnCZTVQcfjh/GB3fxs7lhNdRCj5wmcExYXlVhBV8/Q6EGcFR+yHHaeeeddbVNiiOM+biECvYlXy44DYVPmx2IkCE3mY0Oc+1E1TsmEoacPYonmU11W//lv1dhB9/GpjbrYjayKUnOWpLHlhPn+/3u7ZvPTUYnIgzQXJrChMrEimMqX0Jl8kA4wi/Womc3i1MQ4qJJTDZ3h5iKLkyCTJ7mcSUi7MIxkePcbrzxRl1mmIR4V7nqDMfiENmo7c8kDICMs+SUpzg2whMuvfRSnZhPAjwTP2SN8DMIjO8zcUa+rw3dvs3N6tdwbUhZ0KGcUp8KqjqZc/1e1bspEJGJU1pazSLOm9U3m1wI6kpGjlNK7Twp1fudKvs1YfXXv/61rohFJSn8A0UxCN1kU4QCGPhG/AqLbU5/sTEPGzjknOFfmADbEhH6osoVvtRceki1K0rw7rLLLtaqWciGHyNfj3AqSBWLQkr5ssnDWJZddlkts5ERogOJItz2EY94hCYRkKziRbCuvrjcjvK/LArwh+ili5/NDauhfCokBDLIIo4Kl10ffh9nnXWWJh3F/E1K4PO7AGtmbdH1W23fH5OI5ILTUPh0sbE5lcXnmtPq8nvk6rHJYk58XfqtalOFHdaR4B0fz4YRKQ4nn0zqoQcRCRFX1XZQhfd6JyIBZJQuAmnAZuxAn+nSjVnYuSzwtprcUP0OpdTbfRd3XYQc8t3QRGRI2dt+a4pwSvk8SknfexIy+Ic6nczM7Ldk0aIT26pslPeYCDml8K0E2CRsCkS5KH8+WF0aWBNqodcHEQE7ZWLDhiLf4h4bs5k4yo9l5I/mgtNQ+HQxl7msdfXVV9eRK8VNEt7n1JrNIqJrilE5Ln27tCnf9+TyTqxtbPjE+8x7hjR2rIpLUS6bsSMYkysR2V8ptXCyw3x2/eJuZonLPSLsOHOsyakau7WEjpDUSzgKTobHVPOhJDTJt2ZnmDsPCAH0a7d0G4KjVXYFOcnjdIwdZsJRCFdgV89UJaIuOg9hJSY52SZz3buERBQTlunXJofP+Jn4L7nkEh1KY6o28T1usV5jjTWcIDYlOH3chIRcopQ62DbwmH2qOfInlMnsXpfzLFwvVbXpQYiITUPef3fxqW5YXUapmX3dfGqTlOUwKsL28KH4Di4tBm9EI/Bsu+22OjSRcEBbn1VExPiu8n05rt/yaQcxJ1SGeYTLho844ggdzkj4OKEyPMwpPMXQGSIu+G1x4ukzZh8k5OJTh/aj5JhRQKiqaIiZg9E9uc48Nlubkw9OvokMMpd3H3fccfoKB56q8uXgmyqx/LZ88VX3TU7bTel3H6y1aWvDpxCRNlrt/Z1252k2Y/cuNh9ozlhzmTS51pfQGJLSf9wks4tTuuWWW3ToHkUCqN5DyAjVhQidIynWHOebaj6rrbaaJgzErv/kJz/Rya4bbbTR7I6Ha7uq2HXeZRImbt0kHzOREYvKbdSEF6y77rp6h8UmM/H2Ve9CaopExEUOEoxdx8VkTLgNuVrIy50+5DghDzpddVWKRjU/UeC0WUQbTneckJDDlVKn2MbL312w6tJPH22IO4Ycb7zxxnpC5bdCyAFhU0yU4LVt7HNZXiEiwS0YFKshcEooNuFw5513ng6Ro1Q95fvJ8yTsEL8L3lggcd8YuZGmBHWddliAVRERYvTZFCEE2hSBoQ/Xb/m2M78RFqHkbRE6Tkh3HRFBZsLNKUZjFqvsdFPW2jZmH6Tk4lND4NNHr9dcc43GKidupoCSeZ+cZU7owPDDHvYwjU+brQ0poDgH1zzstttu6s4779RhpBB2HtYDN9xwgz7hIxyR6n+UV+c3ZNoYotvlm4T2lk95fHTj09aGTyEiPtqMvK3N2BGI3zRpEkhMmMvfJychd9rkdXFKxA+z02CSfotOhB0Gs9NRVc2HtuXjUdd2VCIirIWcn802g1ctvQeCyZnJGOdFLHtVaJarzC45Iq5yuI6LBQEXjbLDt9xyy+lxUV6bikk40OJt2XX2SxynhymlDp0Q5a/ZMGr+7oJV175CtwOX2JDdXvBJVUJIJnkbxfyOEN8VIhJCi3P6aPKp3lgNhdNyaJYJc+FkjUWUqa7GRgYx8FTTbApvqUtWRxNsGrG7y6XKPK7fAucsHG0ymXZssrCBZGQ3JIZNpCoiQu4UcwDvsZg0iz5TkY6TlFAhPbn41FD4dP0V1oVfmTvuiALAtpAJF1uTK8ep2bXXXqtJDBufPFU5IuW1R7mNK77qvnmXDtptfLvqkHY2fAoR8dFm5G1txo5A/LpJc6MJCfmMUuoIVzm7OCUWRJT0NAUQzAKJsCwWX+apSwBuatd0N4OZJE0paiZiqsJxv4zZMasbf1lmGxHxkYN7F8rhDchRHj+7QCwKKJ+9/fbbt6qIkzBOT+dqnwlRvsEVp7TrglWf70jbsBrIDauhcFomIqZMNWEu5Qt/2SyhIE2xGE3ZirZk9Q022EAv6il84PotCAYnuzaZ6tpR6ZBKdpCoKiLChg2huOx6cwpUfAhvZce76Z4gHyTngtNQ+PTRLafDkI0iPimtvscee+hwKTYUOdVzsTUh3lXhe22IiCu+6r7po4OubW34FCLSVcMRvW8zdgSiVhGRF05IyEuVUqaSkpOoPk6JHQyOO7lgjco+OBeO101pUtdqay7t1ltvPe1sCANjgmWiMk/Z4fDfdUTEJrONiPjIceWVV87LLakiIuSgcDxMOWqeTTd9mtpuu+3Vjjvu6BxvmiBO2WrltO5GpdSLncBZauSD1Tb9yzv9aCA3rIbCaZmIlDdRitZyOSWrC82iH0JoCWVlIwV/S+htcZOp7lv8u0s7SrnWFW1ALsJ/q4iI8al1yKSEdagE+1xwGgqfPt7ClOilNDn5TJwgE2EBbiEi5HoYDNtsTR5oKCLiiq+6b/rooGtbGz6FiHhruP9jLG+RJi/YjN2234DvlYnIkZMQF26v/Kbvd1ycUnHhjOOn1CmJkZTCo3RzjETEVeYiEdmFi0FLJxh9EBFshCO++eabddImhM4krbvGPCeG02dMSMhphO/6YtS0d8Fq277lvf40kBtWQ+F0SCJiSvwTz0+4CzkqLgTDlYiwWUSyfVX1OBci0nQPTyjk5oLTtvjssmorEw+IKcSXzbfixdvlIjFVtq0r8dzmRKRu87D83THLShtZbPgcmIh0gUOon+z09mMzdgQjN0SEm6nYYV55Euby2zay2ZyScSBUriL+nSR0c58Bd7Zst912vRARl5Ao7sPhuJf7G4onIj4y205EfOQgebLKkbrsVpIoCva47+KYY47Ryc5NT0I4vVkpddIEo2e1wagQkS5aG//d3LBq86muFvENzaJqUFOZ6KYTkTIRoXJRU8iV+RaFPLq0Ky/w0E1xt/vnP/+5TnTmnoniXWeuOvRplwtOQ+HTR7e0JRSLu5UoyEKkAkUYCFNee+21dVdUg3OxdUgi4oovISK+1pb2nTSQiDNaSSn1ZH7bSqkDugzY5pTMD5AdjGJyNQloJFafcMIJvRARErZtSeKnnXaa2mabbeYlq/vIbCMiPnK4hJxR0ctU+6LEoEm+pMoXyeqrrLKKJxHRJdYu7oKBnt6FMG+plLrvhIQsvc62w2PDaoeuk3m1buFGCUl2nGN8EvGpwbAaCqe+yerkYXBZ2/LLL18JgyYiYi5MJlafjRByN5qS0M23mBd82pWT1Vl87rnnnjqnsClZnRNuLinmFJ7HlMYmL48QnxAlVHPBaSh8+voaSCvheVSuIs8TX1a8W8T83WZrwrVDhWaZZPW23/TVQZf2NnwOfCLSZSjyrk0DNmPb3h/g7x9VSlH69PVKqaVFszs8NqfE6QITAJMTO1KUq+MEgqQzqlbcdttturY7C3aXhbhPO9eyuSziqU7EQ1lcki7Jv3CRufwuJyBdyve6nIhQspIETW6aXbBggZabOwG4JZsKYYNWzWouFd0BWYqbBxnchkqpO7p0ZN61YTXEN2LvQ4hILxYKitVQODU3TrNzDEEIUb636mZ1TmMpHMKDX8d/8viW5bWVFOYEHdJBhSyKihCaSn4Ai0CKdtSV7zVyrLzyyvpkhPBgQlrZqApZGjuBuT8ITkPhs80vEXLNhiZElpLR5aILLramulYoIsJdZF2+2UYHbd+x4VOISFvNRviezdijiDx/sbgta9cQsrg4JRY/xA2Tv0By+qabbqqrXTBhHXDAAXpyIc4zNBFhfFUXCUI2dtppJ32hIQ9kiYU8+SqEFJC8SHKZi8xV77LL53KhYVkO1/GzC0N5YfTJOzwQPEpwkn/jct9ElDgNAciGPlyw2rMI0XVviImciMRjmlA4ZYF+1FFH6bs2qAi4cOFCfYJavtCQC2O5o4Gwzqanrnwv77EhQk5I8ULVqosKq77l045KV5CHiy66SF9oiB+DcBHu23ShIcn0nHzg51nEslnDmCnrbkKFuyIgF58aCp9t9E2hG+4ig0zW3Zlls3XI0Cyzhmj7zTY6aPuODZ9CRNpqNsL3bMaOUOROIo3plDoJnvnLueEUc/eJ1eJExLfKt1XPLrZOPkWd+8XqG63NBPmgBz1IbbLJJoo4+ksvvVTv9lKqec0119R5VsTx80Di99lnH02oq97lXpIyQXU9EWl7O3EfNwXnhtU+cTptbs+U74VIk+/nsgnTlw5ywangsy8E9duvDZ9CRALqf+xUfJuxAw41iq7EKUVhBm8hcsNpn0TEHM1zLw27dTxclsn9NOzaca+CS5iKIQnErVOOklNDLqw8/fTT9QLrAQ94gL4wjtM2CArx/OwOc5pYfJdCBfwbF3URKkOSpwnZcyEisd0UnBtWxafOd2eEf1G2laIiOzx3B6XLEyqlq3OBdTBiuwPK20l6vpALTgWfnsCIpLkNn0JEIjFUCDFsxg7xjZj6EKcUkzXcZSnjtL9UD3eZ+m7ZB1ZNgiThclzmZhJ9udeAEwtCUTjRcLk92ty+CxGhGgwx/Tymuhz3MxB+d/e7311XjaE4Ad8j5IYTF+KeuZW9WML5jjvu0Ame9I185hv0WwxlMaFZZjy2m6jtNwWHs6b41HC6TLUnipsQZkZuB7mGlEWHnEDSOUEk7IpCHWM+ueC0Dz86pt1y+bYNn0JEpggJNmPPG2riK0BxSmmC1xunnsOMEdZ9YJXyjezIsltbtyPresv0WmutpclEucKcyR0iIZjqQDwQD6rO3XrrrY2x8bQlwZOFGuQGwlFM1OTv/LchIl1vJ/aEiVPzu7AabYU3p3G4NuoDp67fjrkdJJmTRk75CDskN4VTQ35/nBaO/fTtU8cen/m+4DMWS/jJYcOnEBE/fUbd2mbsqIVvIZw4pRZKi+CV3HCKyvvAKqcX3IVjKr9Vmdb1Rmtz+SV9cFphEiHrihhUXeRWlXRefL/8jTIRabydeBml7nPvpTdRe98U3CFmNjes9oHTCFzO1IuQC04Fn2lC2YZPISJp2rVSapuxp2ioeijilNK0aG447QurLpdNxkBECBGrIhDVRORZ6vzzz2ssAz3kBV25YVV8qp9P7cBx/T5kaZ0LTgWfQWEzWGc2fAoRGcwU/X/IZuz+JRj2C+KUhtV3qK/1gdMYw7GK+uoDq3WhWdSqf8Mb3qBDRrbYYgu16667qjPOOGNe3XvuMjC3TJOIXlXf3udEZLl7LaeOOfYYRcK6eQjNIm+EctTcpdAUmtX1duIw+Jy7tOwDq2Hk7KeXPnDaj6TSa1EDueBU8Jkm7m34FCKSpl3lRERORJJFrs0pJTuwBsH7mEDrktWL1Xy23nprp9ujSULvSkTKie5cHkr+Cgm93EJMUn0TEel6O3EfuMkNq33gtA+7SJ9zNZALTgWfgZE/0JGeDZ9CRALbdczubMYeU7Y+vi1OqUmrFg8zkAOqknBonMZwWtIXVsulealoddJJJ+nyuSSJcyriU74Xe7XNEXnf+96nnvjEJ6r99ttPlwDmFISL7aguRBUul/K9sd0UPDRW+/CTPn32hVMfGaStvwZywang0x8bMbxhw6cQkRisFEgGm7EDfSaabqbWKYUiCaH6CWzx3HCK+vrEavFCQ0rqEop14IEHqvvf//7aci63R9flXfiEZnHisemmm6pTTz1VXX/99bp88GGHHTZ747ULEUHemG4KHger41HnPnEa2I1Udhepy+t96OPgtPdhzftA6vgcXmN6BlCzl9/M+69hJLLhU4hIaDuM6Altxg491LH7E6c0tgXafT83nPZNRNpZIdxbQyaPh5ParafcsCo+1Q0XsbXKBaeCz9iQ5yaPDZ9+RGTERbbbcPNuZTP2tGlHnFKaFs0Np0JE0sQpUqeJ1ZYnKssoNbPvzJJFixalazAjeWZrlTRx6g8zmfP9dRbDGzZ8+hGRGEYkMtRqwGbsaVOdOKU0LZobToWIpInTdIlIe32LT22vuzHfzMWnhsJnZjx1TGjqb9vwKURkdBOFE8Bm7HBfiqOnUE4pjtGkKEU7d54bToWIpIjtpTLnhlXxqWliNRecCj6nE59CRNK0a6XUuTgjM3hxSmmCNzecuhGRdqQuTQSkI3VuWBWfmg42i5LmglPB53TiU4hImnYVItJzJaIpgkV0Q8ll0iwqXiZQfxjGQM2mDquW9BHBqT9OY3hj6nBao1TBZwxo85fBhk8hIv46jfYNm7GjFbylYOKUWipu5Ndyw6nbiciARolhhT/gcLt8Kjesik/tgpbx3s0Fp4LP8TDW5cs2fAoR6aLdyN61GTsycTuLI06poMKEFpeD4bRl8SBfYLp8RrDqq9U42g+G1TiG2+t9N5EMcSrFyAWn4kfThK8Nn0JE0rRrpdQ2Y0/RUPVQxCmladHccCpYbYPTOJh1zFh1IcC+mhef6quxONrHjNOQGhJ8htTmcH3Z8ClEZDhb9P4lm7F7F2DgDyjnKs0AAAgQSURBVIhT8lN4HEu7/CoRCRHxw2lMrcWnxmQNkaVOA6ngtCt5ljk/zd+ADZ9CRFKyq2UlaTN2SkN1kVWckouW4muTG06FiMSHQVeJcsOq+FRXZMTVLhecCj7jwp2rNDZ8ChFx1WQC7WzGTmAIXiKKU/JSVzSNc8NpUkQklmOzSNCaG1bFp3YA3oi/nVxwKvjsgM8RX7XhU4jIiMYJ/emysbseg4aWL3R/4pRCa3SY/mxOaRgphv2KYHVYfYf6Wm5YFZyGQs6w/eSC06X4PFEpVbl0HVbp8jVnDdjwKUTEWZXxN7QZO+QIYiA5MmmGtOhwfQ2J0+FG1fwlwWoslvCTIzes9oPTEY8K/MydbOvQOI1hfq8yRj/4TNbsyQhuw6cQkWRMaRfUZmx7D2m1EKeUlr2MtLnhlHHnhNVpWnbmhtWccJqm96yWOhecCj5jRK3d49vwKUQkRru2lMlm7OZuPfZAPJq2HIrTa+KUnNQUXaNuOI1uOE4CCVad1BRdo9ywKjiNDoJOAuWCU8GnExyia2TDpxCR6EzWXiCbsdv3HOeb4pTitItNqtxwmtuJiM3+S/9u30Vz66ffVrlhdWZmv0kMfr96ld7DaiAXnI4556fhscLiKlRvNnwKEQml6Qj6sRk7AhGDijCmUwo6kMw6yw2nURIRmVWdfnW5YVV8qhMsomuUC04Fn9FBz0kgGz6FiDipMY1GNmOnMQp3KcUpuesqppa54TRKIhITICKWJTesik+NGIwNouWC0+nDZx47QjZ8ChFJ0+9USm0z9hQNVQ9l+pzStFmoejy54VSwmi6uc8Oq+NQ0sZoLTgWf04lPISJp2lWIyDQQkbrNkCnfJMll0iz+SGUCTdPR5oZVwWksOPWbBHLBqeAzFnz6yWHDpxARP32O37rBP9mMPb7wYSUQpxRWn0P15oTTSWW2SAq0dVaNYNVHhX6LMJ+efds6YdW304jbC04jNo6EZkkURJrwVDY/KkQkUcNWiW0z9hQNVQ9FJs00LZobTgWraeIUqXPDahI+NR6eGg2wc8FpEviMBhXxCGLDpxCReGzVWRKbsTt/oNhBBFvV4pSCWnSwzgbFaV+j8sR/PFiVVZwPJKYCqx4DjgenHkJL02wIs+AzTbDb/KgQkTTtWim1zdhTNFQ5EUnYmLnhVE5E0gVrbliVhV6aWB0cp54bMaG0KvgMpclh+7HhU4jIYPbofyfSZuwhhjqkfxKnNIRFw38jBpyGH1Vzj4JVV4337yddJaFdblgVnPqgI562ueC0Ep9xuYx4QBGRJDZ8ChGJyFhdRbEZu2v/sb0vk2ZsFnGTJzecyomIGy5ibJUbVsWnxohCpWxr7VxwKviME582qWz4FCJi02BCf7cZO6Gh3CVqwxGLOKUkLZrdLrMQkcRwWlj1TaVPbTCH+NSRsWpjHDXi9YbTIUMcHFQv+HRQUoRNbPgUIhKh0dqKZDN2235jfU+cUqyWaZYrN5wKEUkTp0idG1bFp6aJ1VxwKvicTnwKEUnTrpVSD++Mxt0uEaeUJniHx+n4ehKsjm+DNhLkhtU0cNry2KANABJ5JxecpoHPREDTSUy/36ANn0JEOhkjrpdtxo5L2u7SiFPqrsMxesgNp3IiMgbKwnwzN6yKTw2Dm6F70Tg9Y/HmOplEqYvbfn/crUW71IJPu47ia7FEHXzwIWrx4sWbT2Sbh08hIvFZrbVEMmm2Vp28OKAGcsOpEJEBwRX4U7lhVRZ6gQE0UHe54FTwORCgAn/Ghk8hIoEVPmZ3NmOPKVsf3xan1IdW++8zN5wKEekfU319ITesTpNP9Qse6QtBw/SbC06nCZ/DICOOr9jwKUQkDjsFkcJm7CAfiaiTdJxSTlOiHSC54VSIyAQTI/wMun4yJ6yyGNh3ZmbJokWL7D9iaRGVBnLBaTpzvic8ujoqz88N3dyGTyEiQ1ukx+/ZjN3jp0fpemqd0ijaHO6jueFUiMhw2Ar9pdywKj41NIKG6S8XnAo+bXiKk9HY8ClExGbXhP5uM3ZCQ5mI2pw6J04pPYsi8fTh1G4HwapdRzG2yA2rgtMYUWiXKRecCj7tWIixhQ2fQkRitFpLmWzGbtlttK+JU4rWNI2C5YZTORFJE6c5kmbxqWliNRefKvicTnwKEQlu1/GOxu5yRvokoXUJv+Aq6alDcUo9KbbnbnOZNItqFKz2DKqeum/CauylTtuoRHDaRmvjv5OLTxV8jo+1NhLY8FlLRNp8TN4ZXwNNtZrHly6sBDilsD3G1Ns0LnPu0m9OODUnIjGhS2Rx10BOWJ1un+pu8xRb5oBTwWeKyFwqs/c9IoWhbpbusLOXfOpPRASnKWDcSqhywikGE58aMWwtaE0Wq9Zf4XybCE4jxqlFtGRx6qHyHvHZ4tfiIbg0nX/hZuWJiCzwpgIqSTijQD/5Hp3SfCwEkjkekFkG1PN4k8BpQGMNitWAcktXHW6sTlB5gtMEjTYROQefKvicInwKEQlqzJ6XbH6y5uCMjEbEKflhI6bWOeE0ixORqLxgWKSPgtWR9Ck+NSx2huxtFJwOOUA5WR5Y22E/Nw+fNiIS9vPSm2hANCAaEA2IBkQDogHRgGhANCAaUErlS0RG2mYS1IkGRAOiAdGAaEA0IBoQDYgGRAPJEBFhDQJW0YBoQDQgGhANiAZEA6IB0cA0aSDfE5FpsqKMRTQgGhANiAZEA6IB0YBoQDSQmAaEiCRmMBFXNCAaEA2IBkQDogHRgGhANDANGvh/gbrVUVKjyWwAAAAASUVORK5CYII=\" style=\"cursor:pointer;max-width:100%;\" onclick=\"(function(img){if(img.wnd!=null&&!img.wnd.closed){img.wnd.focus();}else{var r=function(evt){if(evt.data=='ready'&&evt.source==img.wnd){img.wnd.postMessage(decodeURIComponent(img.getAttribute('src')),'*');window.removeEventListener('message',r);}};window.addEventListener('message',r);img.wnd=window.open('https://viewer.diagrams.net/?client=1&page=0&edit=_blank');}})(this);\"/>\n",
    "</div>"
   ]
  },
  {
   "cell_type": "code",
   "execution_count": 76,
   "id": "8531a72e",
   "metadata": {
    "scrolled": true
   },
   "outputs": [],
   "source": [
    "#!value --name testcontract\n",
    "using Stratis.SmartContracts;\n",
    "\n",
    "public class DonateContract : SmartContract\n",
    "{\n",
    "    public DonateContract(ISmartContractState/*!*/ state)\n",
    "        : base(state)\n",
    "    {\n",
    "        //@ assume Microsoft.Contracts.Owner.None(Owner);\n",
    "        //@ assume State != null;\n",
    "        //@ assume state != null;\n",
    "        //@ assume state.Message != null;\n",
    "        //@ assume state.Message.Sender != null;\n",
    "        \n",
    "        State.SetAddress(nameof(Owner), state.Message.Sender);\n",
    "    }\n",
    "\n",
    "    public void Donate()\n",
    "    {\n",
    "        //@ assume Microsoft.Contracts.Owner.None(Owner);\n",
    "\t\t//@ ulong oldBalance = GetBalance(Owner);\n",
    "        Transfer(Owner, Message.Value);\n",
    "        //@ assert GetBalance(Owner) == oldBalance + Message.Value;\n",
    "    }\n",
    "\n",
    "    private Address Owner\n",
    "    {\n",
    "        get => State.GetAddress(nameof(Owner));\n",
    "        set => State.SetAddress(nameof(Owner), value);\n",
    "    }\n",
    "}"
   ]
  },
  {
   "cell_type": "code",
   "execution_count": 77,
   "id": "0c6f4e75",
   "metadata": {
    "scrolled": false
   },
   "outputs": [
    {
     "name": "stdout",
     "output_type": "stream",
     "text": [
      "[INFO] Compiling code to temporary assembly tmpD066.dll...\n",
      "[INFO] Loading ad hoc project...\n",
      "[INFO] Loading ad hoc project completed in 0ms.\n",
      "[INFO] Parsing and rewriting 1 file(s)...\n",
      "[INFO] Rewriter: BlockifyExpressionBody\n",
      "[INFO] File: tmpD066.cs\n",
      "[INFO] Line: 1\n",
      "[INFO] Original: => State.GetAddress(nameof(Owner));\n",
      "        set => State.SetAddress(nameof(Owner), value);\n",
      "[INFO] New:      {return State.GetAddress(nameof(Owner));}\n",
      "        set {State.SetAddress(nameof(Owner), value);}\n",
      "\n",
      "[INFO] Rewriter: NoNameof\n",
      "[INFO] File: tmpD066.cs\n",
      "[INFO] Line: 5\n",
      "[INFO] Original: nameof(Owner)\n",
      "[INFO] New:      \"Owner\"\n",
      "\n",
      "[INFO] Rewriter: NoNameof\n",
      "[INFO] File: tmpD066.cs\n",
      "[INFO] Line: 5\n",
      "[INFO] Original: nameof(Owner)\n",
      "[INFO] New:      \"Owner\"\n",
      "\n",
      "[INFO] Rewriter: NoNameof\n",
      "[INFO] File: tmpD066.cs\n",
      "[INFO] Line: 5\n",
      "[INFO] Original: nameof(Owner)\n",
      "[INFO] New:      \"Owner\"\n",
      "\n",
      "[INFO] Rewriter: EmbeddedAsComment_1\n",
      "[INFO] File: tmpD066.cs\n",
      "[INFO] Line: 7\n",
      "[INFO] Original: //@ assume Microsoft.Contracts.Owner.None(Owner);\n",
      "[INFO] New:      assume Microsoft.Contracts.Owner.None(Owner);\n",
      "\n",
      "[INFO] Rewriter: EmbeddedAsComment_1\n",
      "[INFO] File: tmpD066.cs\n",
      "[INFO] Line: 8\n",
      "[INFO] Original: //@ assume State != null;\n",
      "[INFO] New:      assume State != null;\n",
      "\n",
      "[INFO] Rewriter: EmbeddedAsComment_1\n",
      "[INFO] File: tmpD066.cs\n",
      "[INFO] Line: 9\n",
      "[INFO] Original: //@ assume state != null;\n",
      "[INFO] New:      assume state != null;\n",
      "\n",
      "[INFO] Rewriter: EmbeddedAsComment_1\n",
      "[INFO] File: tmpD066.cs\n",
      "[INFO] Line: 10\n",
      "[INFO] Original: //@ assume state.Message != null;\n",
      "[INFO] New:      assume state.Message != null;\n",
      "\n",
      "[INFO] Rewriter: EmbeddedAsComment_1\n",
      "[INFO] File: tmpD066.cs\n",
      "[INFO] Line: 11\n",
      "[INFO] Original: //@ assume state.Message.Sender != null;\n",
      "[INFO] New:      assume state.Message.Sender != null;\n",
      "\n",
      "[INFO] Rewriter: EmbeddedAsComment_1\n",
      "[INFO] File: tmpD066.cs\n",
      "[INFO] Line: 18\n",
      "[INFO] Original: //@ assume Microsoft.Contracts.Owner.None(Owner);\n",
      "[INFO] New:      assume Microsoft.Contracts.Owner.None(Owner);\n",
      "\n",
      "[INFO] Rewriter: EmbeddedAsComment_1\n",
      "[INFO] File: tmpD066.cs\n",
      "[INFO] Line: 19\n",
      "[INFO] Original: //@ ulong oldBalance = GetBalance(Owner);\n",
      "[INFO] New:      ulong oldBalance = GetBalance(Owner);\n",
      "\n",
      "[INFO] Rewriter: EmbeddedAsComment_1\n",
      "[INFO] File: tmpD066.cs\n",
      "[INFO] Line: 21\n",
      "[INFO] Original: //@ assert GetBalance(Owner) == oldBalance + Message.Value;\n",
      "[INFO] New:      assert GetBalance(Owner) == oldBalance + Message.Value;\n",
      "\n",
      "[INFO] Parsing and rewriting 1 file(s) completed in 11ms.\n",
      "[INFO] Target is: C:\\Projects\\Silver\\notebooks\\ssc\\tmpD066.dll, C:\\Projects\\Silver\\notebooks\\ssc\n",
      "[INFO] Compiling Spec# project using configuration Debug...\n",
      "[WARN] File: C:\\Projects\\Silver\\notebooks\\ssc\\tmpD066.ssc(8,48)\n",
      "               Code: CS2674\n",
      "               Msg:  Delayed receiver is not compatible with non-delayed method\n",
      "\n",
      "[WARN] File: C:\\Projects\\Silver\\notebooks\\ssc\\tmpD066.ssc(14,9)\n",
      "               Code: CS2674\n",
      "               Msg:  Delayed receiver is not compatible with non-delayed method\n",
      "\n",
      "[WARN] File: C:\\Projects\\Silver\\notebooks\\ssc\\tmpD066.ssc(8,48)\n",
      "               Code: CS2613\n",
      "               Msg:  Conversion to 'Stratis.SmartContracts.Address!' fails if the value is null\n",
      "\n",
      "[WARN] File: C:\\Projects\\Silver\\notebooks\\ssc\\tmpD066.ssc(19,48)\n",
      "               Code: CS2613\n",
      "               Msg:  Conversion to 'Stratis.SmartContracts.Address!' fails if the value is null\n",
      "\n",
      "[WARN] File: C:\\Projects\\Silver\\notebooks\\ssc\\tmpD066.ssc(21,25)\n",
      "               Code: CS2614\n",
      "               Msg:  Receiver might be null (of type 'Stratis.SmartContracts.Message')\n",
      "\n",
      "[WARN] File: C:\\Projects\\Silver\\notebooks\\ssc\\tmpD066.ssc(27,21)\n",
      "               Code: CS2614\n",
      "               Msg:  Receiver might be null (of type 'Stratis.SmartContracts.SilverSmartContractPersistentState')\n",
      "\n",
      "[WARN] File: C:\\Projects\\Silver\\notebooks\\ssc\\tmpD066.ssc(28,14)\n",
      "               Code: CS2614\n",
      "               Msg:  Receiver might be null (of type 'Stratis.SmartContracts.SilverSmartContractPersistentState')\n",
      "\n",
      "[INFO] Compiling Spec# project using configuration Debug completed in 1199ms.\n",
      "[INFO] Compilation succeded with 7 warning(s). Assembly is at C:\\Projects\\Silver\\notebooks\\ssc\\tmpD066.dll.\n",
      "[INFO] Compiling code to temporary assembly tmpD066.dll completed in 1215ms.\n",
      "[INFO] Verifying C:\\Projects\\Silver\\notebooks\\ssc\\tmpD066.dll...\n",
      "[INFO] Verifying C:\\Projects\\Silver\\notebooks\\ssc\\tmpD066.dll completed in 1784ms.\n",
      "[INFO] 3 out of 4 method(s) failed verification.\n"
     ]
    },
    {
     "data": {
      "text/html": [
       "<div id=\"013de0bd3eeb4d6eb42420c08c8bed87\">\r\n",
       "<ul>\r\n",
       "<li data-jstree='{\"type\":\"file\"}'>\r\n",
       "Verification results\r\n",
       "<ul>\r\n",
       "<li data-jstree='{\"type\":\"code\"}'>\r\n",
       "Methods\r\n",
       "<ul>\r\n",
       "<li data-jstree='{\"type\":\"ok\"}'>\r\n",
       "DonateContract..ctor$Stratis.SmartContracts.ISmartContractState$notnull\r\n",
       "<ul>\r\n",
       "<li>\r\n",
       "Duration: [fuchsia]0.5792179s[/]\r\n",
       "</li>\r\n",
       "\r\n",
       "</ul>\r\n",
       "</li>\r\n",
       "\r\n",
       "<li data-jstree='{\"type\":\"error\"}'>\r\n",
       "DonateContract.Donate\r\n",
       "<ul>\r\n",
       "<li>\r\n",
       "[red]Errors[/]\r\n",
       "<ul>\r\n",
       "<li>\r\n",
       "Possible null dereference\r\n",
       "<ul>\r\n",
       "<li>\r\n",
       "File: [blue]C:\\Projects\\Silver\\notebooks\\ssc\\tmpD066.cs[/]\r\n",
       "</li>\r\n",
       "\r\n",
       "<li>\r\n",
       "Line: [fuchsia]21[/]\r\n",
       "</li>\r\n",
       "\r\n",
       "<li>\r\n",
       "Column: [fuchsia]9[/]\r\n",
       "</li>\r\n",
       "\r\n",
       "</ul>\r\n",
       "</li>\r\n",
       "\r\n",
       "<li>\r\n",
       "Assertion might not hold: GetBalance(Owner) == oldBalance + Message.Value\r\n",
       "<ul>\r\n",
       "<li>\r\n",
       "File: [blue]C:\\Projects\\Silver\\notebooks\\ssc\\tmpD066.cs[/]\r\n",
       "</li>\r\n",
       "\r\n",
       "<li>\r\n",
       "Line: [fuchsia]22[/]\r\n",
       "</li>\r\n",
       "\r\n",
       "<li>\r\n",
       "Column: [fuchsia]10[/]\r\n",
       "</li>\r\n",
       "\r\n",
       "</ul>\r\n",
       "</li>\r\n",
       "\r\n",
       "</ul>\r\n",
       "</li>\r\n",
       "\r\n",
       "<li>\r\n",
       "Duration: [fuchsia]0.1120011s[/]\r\n",
       "</li>\r\n",
       "\r\n",
       "</ul>\r\n",
       "</li>\r\n",
       "\r\n",
       "<li data-jstree='{\"type\":\"error\"}'>\r\n",
       "DonateContract.get_Owner\r\n",
       "<ul>\r\n",
       "<li>\r\n",
       "[red]Errors[/]\r\n",
       "<ul>\r\n",
       "<li>\r\n",
       "Possible null dereference\r\n",
       "<ul>\r\n",
       "<li>\r\n",
       "File: [blue]C:\\Projects\\Silver\\notebooks\\ssc\\tmpD066.cs[/]\r\n",
       "</li>\r\n",
       "\r\n",
       "<li>\r\n",
       "Line: [fuchsia]27[/]\r\n",
       "</li>\r\n",
       "\r\n",
       "<li>\r\n",
       "Column: [fuchsia]14[/]\r\n",
       "</li>\r\n",
       "\r\n",
       "</ul>\r\n",
       "</li>\r\n",
       "\r\n",
       "</ul>\r\n",
       "</li>\r\n",
       "\r\n",
       "<li>\r\n",
       "Duration: [fuchsia]0.0149677s[/]\r\n",
       "</li>\r\n",
       "\r\n",
       "</ul>\r\n",
       "</li>\r\n",
       "\r\n",
       "<li data-jstree='{\"type\":\"error\"}'>\r\n",
       "DonateContract.set_Owner$Stratis.SmartContracts.Address\r\n",
       "<ul>\r\n",
       "<li>\r\n",
       "[red]Errors[/]\r\n",
       "<ul>\r\n",
       "<li>\r\n",
       "Possible null dereference\r\n",
       "<ul>\r\n",
       "<li>\r\n",
       "File: [blue]C:\\Projects\\Silver\\notebooks\\ssc\\tmpD066.cs[/]\r\n",
       "</li>\r\n",
       "\r\n",
       "<li>\r\n",
       "Line: [fuchsia]28[/]\r\n",
       "</li>\r\n",
       "\r\n",
       "<li>\r\n",
       "Column: [fuchsia]14[/]\r\n",
       "</li>\r\n",
       "\r\n",
       "</ul>\r\n",
       "</li>\r\n",
       "\r\n",
       "</ul>\r\n",
       "</li>\r\n",
       "\r\n",
       "<li>\r\n",
       "Duration: [fuchsia]0.0160084s[/]\r\n",
       "</li>\r\n",
       "\r\n",
       "</ul>\r\n",
       "</li>\r\n",
       "\r\n",
       "</ul>\r\n",
       "</li>\r\n",
       "\r\n",
       "</ul>\r\n",
       "</li>\r\n",
       "\r\n",
       "</ul>\r\n",
       "</div>\r\n",
       "<script>(require.config({ 'paths': { 'jstree' : 'https://cdnjs.cloudflare.com/ajax/libs/jstree/3.2.1/jstree.min' }}) || require)(['jstree'], (jstree) => {$('#013de0bd3eeb4d6eb42420c08c8bed87').jstree({\"types\" : {\"ok\" : {\"icon\" : \"fa fa-check\"}, \"error\" : {\"icon\" : \"fa fa-exclamation-triangle\"}, \"file\" : {\"icon\" : \"fa fa-file\"}, \"code\" : {\"icon\" : \"fa fa-code\"}},\"plugins\" : [\"types\"]});});</script>"
      ]
     },
     "execution_count": 77,
     "metadata": {},
     "output_type": "execute_result"
    }
   ],
   "source": [
    "#!share testcontract --from value\n",
    "Verifier.VerifyCode(testcontract)"
   ]
  },
  {
   "cell_type": "code",
   "execution_count": null,
   "id": "2b8c3d2d",
   "metadata": {},
   "outputs": [],
   "source": []
  }
 ],
 "metadata": {
  "celltoolbar": "Slideshow",
  "kernelspec": {
   "display_name": ".NET (C#)",
   "language": "C#",
   "name": ".net-csharp"
  },
  "language_info": {
   "file_extension": ".cs",
   "mimetype": "text/x-csharp",
   "name": "C#",
   "pygments_lexer": "csharp",
   "version": "10.0"
  }
 },
 "nbformat": 4,
 "nbformat_minor": 5
}
