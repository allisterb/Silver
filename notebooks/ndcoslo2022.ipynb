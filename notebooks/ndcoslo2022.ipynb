{
 "cells": [
  {
   "cell_type": "code",
   "execution_count": 1,
   "id": "1a995c17",
   "metadata": {
    "scrolled": true,
    "slideshow": {
     "slide_type": "skip"
    },
    "vscode": {
     "languageId": "csharp"
    }
   },
   "outputs": [
    {
     "data": {
      "text/html": [
       "\r\n",
       "<div>\r\n",
       "    <div id='dotnet-interactive-this-cell-49112.Microsoft.DotNet.Interactive.Http.HttpPort' style='display: none'>\r\n",
       "        The below script needs to be able to find the current output cell; this is an easy method to get it.\r\n",
       "    </div>\r\n",
       "    <script type='text/javascript'>\r\n",
       "async function probeAddresses(probingAddresses) {\r\n",
       "    function timeout(ms, promise) {\r\n",
       "        return new Promise(function (resolve, reject) {\r\n",
       "            setTimeout(function () {\r\n",
       "                reject(new Error('timeout'))\r\n",
       "            }, ms)\r\n",
       "            promise.then(resolve, reject)\r\n",
       "        })\r\n",
       "    }\r\n",
       "\r\n",
       "    if (Array.isArray(probingAddresses)) {\r\n",
       "        for (let i = 0; i < probingAddresses.length; i++) {\r\n",
       "\r\n",
       "            let rootUrl = probingAddresses[i];\r\n",
       "\r\n",
       "            if (!rootUrl.endsWith('/')) {\r\n",
       "                rootUrl = `${rootUrl}/`;\r\n",
       "            }\r\n",
       "\r\n",
       "            try {\r\n",
       "                let response = await timeout(1000, fetch(`${rootUrl}discovery`, {\r\n",
       "                    method: 'POST',\r\n",
       "                    cache: 'no-cache',\r\n",
       "                    mode: 'cors',\r\n",
       "                    timeout: 1000,\r\n",
       "                    headers: {\r\n",
       "                        'Content-Type': 'text/plain'\r\n",
       "                    },\r\n",
       "                    body: probingAddresses[i]\r\n",
       "                }));\r\n",
       "\r\n",
       "                if (response.status == 200) {\r\n",
       "                    return rootUrl;\r\n",
       "                }\r\n",
       "            }\r\n",
       "            catch (e) { }\r\n",
       "        }\r\n",
       "    }\r\n",
       "}\r\n",
       "\r\n",
       "function loadDotnetInteractiveApi() {\r\n",
       "    probeAddresses([\"http://192.168.56.1:1000/\", \"http://192.168.169.1:1000/\", \"http://192.168.128.1:1000/\", \"http://192.168.1.190:1000/\", \"http://127.0.0.1:1000/\"])\r\n",
       "        .then((root) => {\r\n",
       "        // use probing to find host url and api resources\r\n",
       "        // load interactive helpers and language services\r\n",
       "        let dotnetInteractiveRequire = require.config({\r\n",
       "        context: '49112.Microsoft.DotNet.Interactive.Http.HttpPort',\r\n",
       "                paths:\r\n",
       "            {\r\n",
       "                'dotnet-interactive': `${root}resources`\r\n",
       "                }\r\n",
       "        }) || require;\r\n",
       "\r\n",
       "            window.dotnetInteractiveRequire = dotnetInteractiveRequire;\r\n",
       "\r\n",
       "            window.configureRequireFromExtension = function(extensionName, extensionCacheBuster) {\r\n",
       "                let paths = {};\r\n",
       "                paths[extensionName] = `${root}extensions/${extensionName}/resources/`;\r\n",
       "                \r\n",
       "                let internalRequire = require.config({\r\n",
       "                    context: extensionCacheBuster,\r\n",
       "                    paths: paths,\r\n",
       "                    urlArgs: `cacheBuster=${extensionCacheBuster}`\r\n",
       "                    }) || require;\r\n",
       "\r\n",
       "                return internalRequire\r\n",
       "            };\r\n",
       "        \r\n",
       "            dotnetInteractiveRequire([\r\n",
       "                    'dotnet-interactive/dotnet-interactive'\r\n",
       "                ],\r\n",
       "                function (dotnet) {\r\n",
       "                    dotnet.init(window);\r\n",
       "                },\r\n",
       "                function (error) {\r\n",
       "                    console.log(error);\r\n",
       "                }\r\n",
       "            );\r\n",
       "        })\r\n",
       "        .catch(error => {console.log(error);});\r\n",
       "    }\r\n",
       "\r\n",
       "// ensure `require` is available globally\r\n",
       "if ((typeof(require) !==  typeof(Function)) || (typeof(require.config) !== typeof(Function))) {\r\n",
       "    let require_script = document.createElement('script');\r\n",
       "    require_script.setAttribute('src', 'https://cdnjs.cloudflare.com/ajax/libs/require.js/2.3.6/require.min.js');\r\n",
       "    require_script.setAttribute('type', 'text/javascript');\r\n",
       "    \r\n",
       "    \r\n",
       "    require_script.onload = function() {\r\n",
       "        loadDotnetInteractiveApi();\r\n",
       "    };\r\n",
       "\r\n",
       "    document.getElementsByTagName('head')[0].appendChild(require_script);\r\n",
       "}\r\n",
       "else {\r\n",
       "    loadDotnetInteractiveApi();\r\n",
       "}\r\n",
       "\r\n",
       "    </script>\r\n",
       "</div>"
      ]
     },
     "metadata": {},
     "output_type": "display_data"
    },
    {
     "data": {
      "text/markdown": [
       "Added formatter for AGL graphs using VisJS to .NET Interactive kernel csharp."
      ]
     },
     "metadata": {},
     "output_type": "display_data"
    },
    {
     "data": {
      "text/markdown": [
       "Added formatter for Mermaid language to .NET Interactive kernel csharp."
      ]
     },
     "metadata": {},
     "output_type": "display_data"
    },
    {
     "data": {
      "text/markdown": [
       "Added formatter for DOT language to .NET Interactive kernel csharp."
      ]
     },
     "metadata": {},
     "output_type": "display_data"
    },
    {
     "data": {
      "text/markdown": [
       "Added formatter for VisJS networks to .NET Interactive kernel csharp."
      ]
     },
     "metadata": {},
     "output_type": "display_data"
    },
    {
     "data": {
      "text/html": [
       "<link rel=\"stylesheet\" href=\"https://cdnjs.cloudflare.com/ajax/libs/jstree/3.2.1/themes/default/style.min.css\" />"
      ]
     },
     "metadata": {},
     "output_type": "display_data"
    },
    {
     "data": {
      "text/markdown": [
       "Added formatter for jsTree diagrams to .NET Interactive kernel csharp."
      ]
     },
     "metadata": {},
     "output_type": "display_data"
    },
    {
     "data": {
      "text/html": [
       "<script>\r\n",
       "    //if (!!document.getElementById('shikilib')) {\r\n",
       "        let require_script_f3c2794c890947b7b25712d3817d4b7b = document.createElement('script');\r\n",
       "        require_script_f3c2794c890947b7b25712d3817d4b7b.setAttribute('src', 'https://unpkg.com/@antfu/shiki@0.5.2/dist/index.unpkg.iife.js');\r\n",
       "        require_script_f3c2794c890947b7b25712d3817d4b7b.setAttribute('type', 'text/javascript');\r\n",
       "        document.getElementsByTagName('head')[0].appendChild(require_script_f3c2794c890947b7b25712d3817d4b7b);\r\n",
       "        let tag_f3c2794c890947b7b25712d3817d4b7b = document.createElement('span');\r\n",
       "        tag_f3c2794c890947b7b25712d3817d4b7b.setAttribute('id', 'shikilib');\r\n",
       "        document.getElementsByTagName('body')[0].appendChild(tag_f3c2794c890947b7b25712d3817d4b7b);\r\n",
       "    //}\r\n",
       "    </script>\r\n",
       "    "
      ]
     },
     "metadata": {},
     "output_type": "display_data"
    },
    {
     "data": {
      "text/html": [
       "<script>\r\n",
       "    //if (!!document.getElementById('shikirendererlib')) {\r\n",
       "        let require_script_9d142c05a4cf4859b7d4ddb3b8be7fdd = document.createElement('script');\r\n",
       "        require_script_9d142c05a4cf4859b7d4ddb3b8be7fdd.setAttribute('src', 'https://unpkg.com/@antfu/shiki-renderer-svg@0.5.2/dist/index.iife.min.js');\r\n",
       "        require_script_9d142c05a4cf4859b7d4ddb3b8be7fdd.setAttribute('type', 'text/javascript');\r\n",
       "        document.getElementsByTagName('head')[0].appendChild(require_script_9d142c05a4cf4859b7d4ddb3b8be7fdd);\r\n",
       "        let tag_9d142c05a4cf4859b7d4ddb3b8be7fdd = document.createElement('span');\r\n",
       "        tag_9d142c05a4cf4859b7d4ddb3b8be7fdd.setAttribute('id', 'shikirendererlib');\r\n",
       "        document.getElementsByTagName('body')[0].appendChild(tag_9d142c05a4cf4859b7d4ddb3b8be7fdd);\r\n",
       "    //}\r\n",
       "    </script>\r\n",
       "    "
      ]
     },
     "metadata": {},
     "output_type": "display_data"
    },
    {
     "data": {
      "text/html": [
       "<script>\r\n",
       "    //if (!!document.getElementById('shikilanguageslib')) {\r\n",
       "        let require_script_d780ff59b97a420c8fa07d4e3cc6e083 = document.createElement('script');\r\n",
       "        require_script_d780ff59b97a420c8fa07d4e3cc6e083.setAttribute('src', 'https://dokans3fs-test-1.us-east-1.linodeobjects.com/shikiLanguages.js');\r\n",
       "        require_script_d780ff59b97a420c8fa07d4e3cc6e083.setAttribute('type', 'text/javascript');\r\n",
       "        document.getElementsByTagName('head')[0].appendChild(require_script_d780ff59b97a420c8fa07d4e3cc6e083);\r\n",
       "        let tag_d780ff59b97a420c8fa07d4e3cc6e083 = document.createElement('span');\r\n",
       "        tag_d780ff59b97a420c8fa07d4e3cc6e083.setAttribute('id', 'shikilanguageslib');\r\n",
       "        document.getElementsByTagName('body')[0].appendChild(tag_d780ff59b97a420c8fa07d4e3cc6e083);\r\n",
       "    //}\r\n",
       "    </script>\r\n",
       "    "
      ]
     },
     "metadata": {},
     "output_type": "display_data"
    },
    {
     "data": {
      "text/markdown": [
       "Added formatter for TextMate highlighted code using Shiki to .NET Interactive kernel csharp."
      ]
     },
     "metadata": {},
     "output_type": "display_data"
    }
   ],
   "source": [
    "#load \"DotNetInteractive.csx\""
   ]
  },
  {
   "cell_type": "code",
   "execution_count": 4,
   "id": "1b09391c",
   "metadata": {
    "slideshow": {
     "slide_type": "skip"
    }
   },
   "outputs": [
    {
     "data": {
      "text/html": [
       "<link rel=\"stylesheet\" href=\"https://cdnjs.cloudflare.com/ajax/libs/font-awesome/4.7.0/css/font-awesome.min.css\">\n",
       "<script async src=\"https://cdn.jsdelivr.net/npm/mathjax@2/MathJax.js?config=TeX-AMS-MML_CHTML\"></script>"
      ]
     },
     "metadata": {},
     "output_type": "display_data"
    }
   ],
   "source": [
    "#!html\n",
    "<link rel=\"stylesheet\" href=\"https://cdnjs.cloudflare.com/ajax/libs/font-awesome/4.7.0/css/font-awesome.min.css\">\n",
    "<script async src=\"https://cdn.jsdelivr.net/npm/mathjax@2/MathJax.js?config=TeX-AMS-MML_CHTML\"></script>"
   ]
  },
  {
   "cell_type": "code",
   "execution_count": 5,
   "id": "7725ee91",
   "metadata": {
    "slideshow": {
     "slide_type": "skip"
    },
    "vscode": {
     "languageId": "csharp"
    }
   },
   "outputs": [],
   "source": [
    "using Silver;\n",
    "using Silver.Notebooks;"
   ]
  },
  {
   "cell_type": "code",
   "execution_count": 6,
   "id": "09e13226",
   "metadata": {},
   "outputs": [],
   "source": [
    "#!value --name test1\n",
    "using System;\n",
    "\n",
    " \n",
    "public class C {\n",
    "\n",
    "  public static void Main() {\n",
    "\n",
    "    int s = multiply(4,5);\n",
    "\n",
    "    //System.Console.WriteLine(\"The product is {0}\", s);\n",
    "\n",
    "  }\n",
    "    \n",
    " static int multiply(int x, int y)\n",
    "\n",
    "  //@  requires 0 <= y;\n",
    "\n",
    "  //@ requires 0 <= x;\n",
    "\n",
    "  //@ ensures result == y * x;\n",
    "\n",
    "  {\n",
    "\n",
    "        int q = 0;\n",
    "\n",
    "        int i =0;\n",
    "\n",
    "        while(i <=y )\n",
    "\n",
    "    //@ invariant 0<= i;\n",
    "\n",
    "    //@ invariant i<= y;\n",
    "\n",
    "    //@ invariant q == (i * x);\n",
    "\n",
    "        {\n",
    "\n",
    "          //@ assert  q == (i * x);\n",
    "\n",
    "          //@ assert  q + x == (i * x) + x;\n",
    "\n",
    "              q = q + x;\n",
    "\n",
    "             \n",
    "\n",
    "              //@ assert  q == (i * x) + x;\n",
    "\n",
    "              //assumption needed for distribution of operators.\n",
    "\n",
    "              //@ assume (i*x) + x == (i+1) * x;\n",
    "\n",
    "             \n",
    "\n",
    "              //@ assert  q == (i+1) * x;\n",
    "\n",
    "              i= i+1;\n",
    "\n",
    "              //@ assert  q == i * x;\n",
    "\n",
    "        }\n",
    "\n",
    "    //@ assert  q == i * x && i == y;\n",
    "\n",
    "        return q;\n",
    "\n",
    "  }\n",
    "}"
   ]
  },
  {
   "cell_type": "code",
   "execution_count": null,
   "id": "ff8b689a",
   "metadata": {},
   "outputs": [],
   "source": [
    "#!share test1 --from value\n",
    "Verifier.VerifyCode(test1)"
   ]
  },
  {
   "cell_type": "code",
   "execution_count": 7,
   "id": "91390d4b",
   "metadata": {
    "slideshow": {
     "slide_type": "slide"
    }
   },
   "outputs": [
    {
     "name": "stdout",
     "output_type": "stream",
     "text": [
      "[INFO] Compiling code to temporary assembly C:\\Projects\\Silver\\notebooks\\tmp4313.dll...\n",
      "[INFO] Loading ad hoc project...\n",
      "[INFO] Loading ad hoc project completed in 14ms.\n",
      "[INFO] Parsing and rewriting 1 file(s)...\n",
      "[INFO] Parsing and rewriting 1 file(s) completed in 129ms.\n",
      "[INFO] Target is: C:\\Projects\\Silver\\notebooks\\ssc\\tmp4313.dll, C:\\Projects\\Silver\\notebooks\\ssc\n",
      "[INFO] Compiling Spec# project using configuration Debug...\n",
      "[WARN] File: C:\\Projects\\Silver\\notebooks\\ssc\\tmp4313.ssc(8,9)\n",
      "               Code: CS0219\n",
      "               Msg:  The variable 's' is assigned but its value is never used\n",
      "\n",
      "[INFO] Compiling Spec# project using configuration Debug completed in 1146ms.\n",
      "[INFO] Compilation succeded with 1 warning(s). Assembly is at C:\\Projects\\Silver\\notebooks\\ssc\\tmp4313.dll.\n",
      "[INFO] Compiling code to temporary assembly C:\\Projects\\Silver\\notebooks\\tmp4313.dll completed in 1316ms.\n",
      "[INFO] Dissassembling assembly C:\\Projects\\Silver\\notebooks\\ssc\\tmp4313.dll to Boogie...\n",
      "[INFO] Dissassembling assembly C:\\Projects\\Silver\\notebooks\\ssc\\tmp4313.dll to Boogie completed in 712ms.\n"
     ]
    },
    {
     "data": {
      "text/html": [
       "<div id=\"cf86abd8641b4176a6dffd6664a32a3f\">\r\n",
       "</div>\r\n",
       "<script>if (highlighter === undefined) {console.error('Shiki not loaded yet!. Run the notebook init script.')} else {$('#cf86abd8641b4176a6dffd6664a32a3f').html(highlighter.codeToHtml(\"// Spec# program verifier version 2.0.0.0, Copyright (c) 2003-2010, Microsoft.\\r\\n// Command Line Options: C:\\\\Projects\\\\Silver\\\\notebooks\\\\ssc\\\\tmp4313.dll /trMethod:C.multiply /print:637992472837066287tmp4313.dll.boogie /noVerify\\r\\n\\r\\ntype TName;\\r\\n\\r\\ntype real;\\r\\n\\r\\ntype Elements _;\\r\\n\\r\\ntype struct;\\r\\n\\r\\nconst $ZeroStruct: struct;\\r\\n\\r\\ntype ref;\\r\\n\\r\\nconst null: ref;\\r\\n\\r\\ntype Field _;\\r\\n\\r\\ntype HeapType = \\u003cbeta\\u003e[ref,Field beta]beta;\\r\\n\\r\\nvar $Heap: HeapType where IsHeap($Heap);\\r\\n\\r\\ntype ActivityType;\\r\\n\\r\\nvar $ActivityIndicator: ActivityType;\\r\\n\\r\\nfunction IsHeap(h: HeapType) : bool;\\r\\n\\r\\nfunction IsPreHeap(h: HeapType) : bool;\\r\\n\\r\\naxiom (forall h: HeapType :: { IsPreHeap(h) } IsHeap(h) ==\\u003e IsPreHeap(h));\\r\\n\\r\\nconst unique $allocated: Field bool;\\r\\n\\r\\nconst unique $elementsBool: Field (Elements bool);\\r\\n\\r\\nconst unique $elementsInt: Field (Elements int);\\r\\n\\r\\nconst unique $elementsRef: Field (Elements ref);\\r\\n\\r\\nconst unique $elementsReal: Field (Elements real);\\r\\n\\r\\nconst unique $elementsStruct: Field (Elements struct);\\r\\n\\r\\naxiom DeclType($elementsBool) == System.Array;\\r\\n\\r\\naxiom DeclType($elementsInt) == System.Array;\\r\\n\\r\\naxiom DeclType($elementsRef) == System.Array;\\r\\n\\r\\naxiom DeclType($elementsReal) == System.Array;\\r\\n\\r\\naxiom DeclType($elementsStruct) == System.Array;\\r\\n\\r\\nconst unique $inv: Field TName;\\r\\n\\r\\nconst unique $localinv: Field TName;\\r\\n\\r\\ntype exposeVersionType;\\r\\n\\r\\nconst unique $exposeVersion: Field exposeVersionType;\\r\\n\\r\\naxiom DeclType($exposeVersion) == System.Object;\\r\\n\\r\\nconst unique $ownerRef: Field ref;\\r\\n\\r\\nconst unique $ownerFrame: Field TName;\\r\\n\\r\\nconst unique $PeerGroupPlaceholder: TName;\\r\\n\\r\\nfunction ClassRepr(class: TName) : ref;\\r\\n\\r\\nfunction ClassReprInv(ref) : TName;\\r\\n\\r\\naxiom (forall c: TName :: { ClassRepr(c) } ClassReprInv(ClassRepr(c)) == c);\\r\\n\\r\\naxiom (forall T: TName :: !($typeof(ClassRepr(T)) \\u003c: System.Object));\\r\\n\\r\\naxiom (forall T: TName :: ClassRepr(T) != null);\\r\\n\\r\\naxiom (forall T: TName, h: HeapType :: { h[ClassRepr(T), $ownerFrame] } IsHeap(h) ==\\u003e h[ClassRepr(T), $ownerFrame] == $PeerGroupPlaceholder);\\r\\n\\r\\nfunction $Utter(ref) : bool;\\r\\n\\r\\nfunction IncludeInMainFrameCondition\\u003calpha\\u003e(f: Field alpha) : bool;\\r\\n\\r\\naxiom IncludeInMainFrameCondition($allocated);\\r\\n\\r\\naxiom IncludeInMainFrameCondition($elementsBool) \\u0026\\u0026 IncludeInMainFrameCondition($elementsInt) \\u0026\\u0026 IncludeInMainFrameCondition($elementsRef) \\u0026\\u0026 IncludeInMainFrameCondition($elementsReal) \\u0026\\u0026 IncludeInMainFrameCondition($elementsStruct);\\r\\n\\r\\naxiom !IncludeInMainFrameCondition($inv);\\r\\n\\r\\naxiom !IncludeInMainFrameCondition($localinv);\\r\\n\\r\\naxiom IncludeInMainFrameCondition($ownerRef);\\r\\n\\r\\naxiom IncludeInMainFrameCondition($ownerFrame);\\r\\n\\r\\naxiom IncludeInMainFrameCondition($exposeVersion);\\r\\n\\r\\naxiom !IncludeInMainFrameCondition($FirstConsistentOwner);\\r\\n\\r\\nfunction IsStaticField\\u003calpha\\u003e(f: Field alpha) : bool;\\r\\n\\r\\naxiom !IsStaticField($allocated);\\r\\n\\r\\naxiom !IsStaticField($elementsBool) \\u0026\\u0026 !IsStaticField($elementsInt) \\u0026\\u0026 !IsStaticField($elementsRef) \\u0026\\u0026 !IsStaticField($elementsReal) \\u0026\\u0026 !IsStaticField($elementsStruct);\\r\\n\\r\\naxiom !IsStaticField($inv);\\r\\n\\r\\naxiom !IsStaticField($localinv);\\r\\n\\r\\naxiom !IsStaticField($exposeVersion);\\r\\n\\r\\nfunction $IncludedInModifiesStar\\u003calpha\\u003e(f: Field alpha) : bool;\\r\\n\\r\\naxiom !$IncludedInModifiesStar($ownerRef);\\r\\n\\r\\naxiom !$IncludedInModifiesStar($ownerFrame);\\r\\n\\r\\naxiom $IncludedInModifiesStar($exposeVersion);\\r\\n\\r\\naxiom $IncludedInModifiesStar($elementsBool) \\u0026\\u0026 $IncludedInModifiesStar($elementsInt) \\u0026\\u0026 $IncludedInModifiesStar($elementsRef) \\u0026\\u0026 $IncludedInModifiesStar($elementsReal) \\u0026\\u0026 $IncludedInModifiesStar($elementsStruct);\\r\\n\\r\\nfunction ArrayGet\\u003calpha\\u003e(Elements alpha, int) : alpha;\\r\\n\\r\\nfunction ArraySet\\u003calpha\\u003e(Elements alpha, int, alpha) : Elements alpha;\\r\\n\\r\\naxiom (forall\\u003calpha\\u003e A: Elements alpha, i: int, x: alpha :: ArrayGet(ArraySet(A, i, x), i) == x);\\r\\n\\r\\naxiom (forall\\u003calpha\\u003e A: Elements alpha, i: int, j: int, x: alpha :: i != j ==\\u003e ArrayGet(ArraySet(A, i, x), j) == ArrayGet(A, j));\\r\\n\\r\\nfunction ArrayIndex(arr: ref, dim: int, indexAtDim: int, remainingIndexContribution: int) : int;\\r\\n\\r\\nfunction ArrayIndexInvX(arrayIndex: int) : int;\\r\\n\\r\\nfunction ArrayIndexInvY(arrayIndex: int) : int;\\r\\n\\r\\naxiom (forall a: ref, d: int, x: int, y: int :: { ArrayIndex(a, d, x, y) } ArrayIndexInvX(ArrayIndex(a, d, x, y)) == x);\\r\\n\\r\\naxiom (forall a: ref, d: int, x: int, y: int :: { ArrayIndex(a, d, x, y) } ArrayIndexInvY(ArrayIndex(a, d, x, y)) == y);\\r\\n\\r\\naxiom (forall a: ref, i: int, heap: HeapType :: { ArrayGet(heap[a, $elementsInt], i) } IsHeap(heap) ==\\u003e InRange(ArrayGet(heap[a, $elementsInt], i), $ElementType($typeof(a))));\\r\\n\\r\\naxiom (forall a: ref, i: int, heap: HeapType :: { $typeof(ArrayGet(heap[a, $elementsRef], i)) } IsHeap(heap) \\u0026\\u0026 ArrayGet(heap[a, $elementsRef], i) != null ==\\u003e $typeof(ArrayGet(heap[a, $elementsRef], i)) \\u003c: $ElementType($typeof(a)));\\r\\n\\r\\naxiom (forall a: ref, T: TName, i: int, r: int, heap: HeapType :: { $typeof(a) \\u003c: NonNullRefArray(T, r), ArrayGet(heap[a, $elementsRef], i) } IsHeap(heap) \\u0026\\u0026 $typeof(a) \\u003c: NonNullRefArray(T, r) ==\\u003e ArrayGet(heap[a, $elementsRef], i) != null);\\r\\n\\r\\nfunction $Rank(ref) : int;\\r\\n\\r\\naxiom (forall a: ref :: 1 \\u003c= $Rank(a));\\r\\n\\r\\naxiom (forall a: ref, T: TName, r: int :: { $typeof(a) \\u003c: RefArray(T, r) } a != null \\u0026\\u0026 $typeof(a) \\u003c: RefArray(T, r) ==\\u003e $Rank(a) == r);\\r\\n\\r\\naxiom (forall a: ref, T: TName, r: int :: { $typeof(a) \\u003c: NonNullRefArray(T, r) } a != null \\u0026\\u0026 $typeof(a) \\u003c: NonNullRefArray(T, r) ==\\u003e $Rank(a) == r);\\r\\n\\r\\naxiom (forall a: ref, T: TName, r: int :: { $typeof(a) \\u003c: ValueArray(T, r) } a != null \\u0026\\u0026 $typeof(a) \\u003c: ValueArray(T, r) ==\\u003e $Rank(a) == r);\\r\\n\\r\\naxiom (forall a: ref, T: TName, r: int :: { $typeof(a) \\u003c: IntArray(T, r) } a != null \\u0026\\u0026 $typeof(a) \\u003c: IntArray(T, r) ==\\u003e $Rank(a) == r);\\r\\n\\r\\nfunction $Length(ref) : int;\\r\\n\\r\\naxiom (forall a: ref :: { $Length(a) } 0 \\u003c= $Length(a) \\u0026\\u0026 $Length(a) \\u003c= 2147483647);\\r\\n\\r\\nfunction $DimLength(ref, int) : int;\\r\\n\\r\\naxiom (forall a: ref, i: int :: 0 \\u003c= $DimLength(a, i));\\r\\n\\r\\naxiom (forall a: ref :: { $DimLength(a, 0) } $Rank(a) == 1 ==\\u003e $DimLength(a, 0) == $Length(a));\\r\\n\\r\\nfunction $LBound(ref, int) : int;\\r\\n\\r\\nfunction $UBound(ref, int) : int;\\r\\n\\r\\naxiom (forall a: ref, i: int :: { $LBound(a, i) } $LBound(a, i) == 0);\\r\\n\\r\\naxiom (forall a: ref, i: int :: { $UBound(a, i) } $UBound(a, i) == $DimLength(a, i) - 1);\\r\\n\\r\\ntype ArrayCategory;\\r\\n\\r\\nconst unique $ArrayCategoryValue: ArrayCategory;\\r\\n\\r\\nconst unique $ArrayCategoryInt: ArrayCategory;\\r\\n\\r\\nconst unique $ArrayCategoryRef: ArrayCategory;\\r\\n\\r\\nconst unique $ArrayCategoryNonNullRef: ArrayCategory;\\r\\n\\r\\nfunction $ArrayCategory(arrayType: TName) : ArrayCategory;\\r\\n\\r\\naxiom (forall T: TName, ET: TName, r: int :: { T \\u003c: ValueArray(ET, r) } T \\u003c: ValueArray(ET, r) ==\\u003e $ArrayCategory(T) == $ArrayCategoryValue);\\r\\n\\r\\naxiom (forall T: TName, ET: TName, r: int :: { T \\u003c: IntArray(ET, r) } T \\u003c: IntArray(ET, r) ==\\u003e $ArrayCategory(T) == $ArrayCategoryInt);\\r\\n\\r\\naxiom (forall T: TName, ET: TName, r: int :: { T \\u003c: RefArray(ET, r) } T \\u003c: RefArray(ET, r) ==\\u003e $ArrayCategory(T) == $ArrayCategoryRef);\\r\\n\\r\\naxiom (forall T: TName, ET: TName, r: int :: { T \\u003c: NonNullRefArray(ET, r) } T \\u003c: NonNullRefArray(ET, r) ==\\u003e $ArrayCategory(T) == $ArrayCategoryNonNullRef);\\r\\n\\r\\nconst unique System.Array: TName;\\r\\n\\r\\naxiom System.Array \\u003c: System.Object;\\r\\n\\r\\nfunction $ElementType(TName) : TName;\\r\\n\\r\\nfunction ValueArray(elementType: TName, rank: int) : TName;\\r\\n\\r\\naxiom (forall T: TName, r: int :: { ValueArray(T, r) } ValueArray(T, r) \\u003c: ValueArray(T, r) \\u0026\\u0026 ValueArray(T, r) \\u003c: System.Array);\\r\\n\\r\\nfunction IntArray(elementType: TName, rank: int) : TName;\\r\\n\\r\\naxiom (forall T: TName, r: int :: { IntArray(T, r) } IntArray(T, r) \\u003c: IntArray(T, r) \\u0026\\u0026 IntArray(T, r) \\u003c: System.Array);\\r\\n\\r\\nfunction RefArray(elementType: TName, rank: int) : TName;\\r\\n\\r\\naxiom (forall T: TName, r: int :: { RefArray(T, r) } RefArray(T, r) \\u003c: RefArray(T, r) \\u0026\\u0026 RefArray(T, r) \\u003c: System.Array);\\r\\n\\r\\nfunction NonNullRefArray(elementType: TName, rank: int) : TName;\\r\\n\\r\\naxiom (forall T: TName, r: int :: { NonNullRefArray(T, r) } NonNullRefArray(T, r) \\u003c: NonNullRefArray(T, r) \\u0026\\u0026 NonNullRefArray(T, r) \\u003c: System.Array);\\r\\n\\r\\nfunction NonNullRefArrayRaw(array: ref, elementType: TName, rank: int) : bool;\\r\\n\\r\\naxiom (forall array: ref, elementType: TName, rank: int :: { NonNullRefArrayRaw(array, elementType, rank) } NonNullRefArrayRaw(array, elementType, rank) ==\\u003e $typeof(array) \\u003c: System.Array \\u0026\\u0026 $Rank(array) == rank \\u0026\\u0026 elementType \\u003c: $ElementType($typeof(array)));\\r\\n\\r\\naxiom (forall T: TName, U: TName, r: int :: U \\u003c: T ==\\u003e RefArray(U, r) \\u003c: RefArray(T, r));\\r\\n\\r\\naxiom (forall T: TName, U: TName, r: int :: U \\u003c: T ==\\u003e NonNullRefArray(U, r) \\u003c: NonNullRefArray(T, r));\\r\\n\\r\\naxiom (forall A: TName, r: int :: $ElementType(ValueArray(A, r)) == A);\\r\\n\\r\\naxiom (forall A: TName, r: int :: $ElementType(IntArray(A, r)) == A);\\r\\n\\r\\naxiom (forall A: TName, r: int :: $ElementType(RefArray(A, r)) == A);\\r\\n\\r\\naxiom (forall A: TName, r: int :: $ElementType(NonNullRefArray(A, r)) == A);\\r\\n\\r\\naxiom (forall A: TName, r: int, T: TName :: { T \\u003c: RefArray(A, r) } T \\u003c: RefArray(A, r) ==\\u003e T != A \\u0026\\u0026 T == RefArray($ElementType(T), r) \\u0026\\u0026 $ElementType(T) \\u003c: A);\\r\\n\\r\\naxiom (forall A: TName, r: int, T: TName :: { T \\u003c: NonNullRefArray(A, r) } T \\u003c: NonNullRefArray(A, r) ==\\u003e T != A \\u0026\\u0026 T == NonNullRefArray($ElementType(T), r) \\u0026\\u0026 $ElementType(T) \\u003c: A);\\r\\n\\r\\naxiom (forall A: TName, r: int, T: TName :: { T \\u003c: ValueArray(A, r) } T \\u003c: ValueArray(A, r) ==\\u003e T == ValueArray(A, r));\\r\\n\\r\\naxiom (forall A: TName, r: int, T: TName :: { T \\u003c: IntArray(A, r) } T \\u003c: IntArray(A, r) ==\\u003e T == IntArray(A, r));\\r\\n\\r\\naxiom (forall A: TName, r: int, T: TName :: { RefArray(A, r) \\u003c: T } RefArray(A, r) \\u003c: T ==\\u003e System.Array \\u003c: T || (T == RefArray($ElementType(T), r) \\u0026\\u0026 A \\u003c: $ElementType(T)));\\r\\n\\r\\naxiom (forall A: TName, r: int, T: TName :: { NonNullRefArray(A, r) \\u003c: T } NonNullRefArray(A, r) \\u003c: T ==\\u003e System.Array \\u003c: T || (T == NonNullRefArray($ElementType(T), r) \\u0026\\u0026 A \\u003c: $ElementType(T)));\\r\\n\\r\\naxiom (forall A: TName, r: int, T: TName :: { ValueArray(A, r) \\u003c: T } ValueArray(A, r) \\u003c: T ==\\u003e System.Array \\u003c: T || T == ValueArray(A, r));\\r\\n\\r\\naxiom (forall A: TName, r: int, T: TName :: { IntArray(A, r) \\u003c: T } IntArray(A, r) \\u003c: T ==\\u003e System.Array \\u003c: T || T == IntArray(A, r));\\r\\n\\r\\nfunction $ArrayPtr(elementType: TName) : TName;\\r\\n\\r\\nfunction $ElementProxy(ref, int) : ref;\\r\\n\\r\\nfunction $ElementProxyStruct(struct, int) : ref;\\r\\n\\r\\naxiom (forall a: ref, i: int, heap: HeapType :: { heap[ArrayGet(heap[a, $elementsRef], i), $ownerRef] } { heap[ArrayGet(heap[a, $elementsRef], i), $ownerFrame] } IsHeap(heap) \\u0026\\u0026 $typeof(a) \\u003c: System.Array ==\\u003e ArrayGet(heap[a, $elementsRef], i) == null || $IsImmutable($typeof(ArrayGet(heap[a, $elementsRef], i))) || (heap[ArrayGet(heap[a, $elementsRef], i), $ownerRef] == heap[$ElementProxy(a, 0 - 1), $ownerRef] \\u0026\\u0026 heap[ArrayGet(heap[a, $elementsRef], i), $ownerFrame] == heap[$ElementProxy(a, 0 - 1), $ownerFrame]));\\r\\n\\r\\naxiom (forall a: ref, heap: HeapType :: { IsAllocated(heap, a) } IsHeap(heap) \\u0026\\u0026 IsAllocated(heap, a) \\u0026\\u0026 $typeof(a) \\u003c: System.Array ==\\u003e IsAllocated(heap, $ElementProxy(a, 0 - 1)));\\r\\n\\r\\naxiom (forall o: ref, pos: int :: { $typeof($ElementProxy(o, pos)) } $typeof($ElementProxy(o, pos)) == System.Object);\\r\\n\\r\\naxiom (forall o: struct, pos: int :: { $typeof($ElementProxyStruct(o, pos)) } $typeof($ElementProxyStruct(o, pos)) == System.Object);\\r\\n\\r\\nfunction $StructGet\\u003calpha\\u003e(struct, Field alpha) : alpha;\\r\\n\\r\\nfunction $StructSet\\u003calpha\\u003e(struct, Field alpha, alpha) : struct;\\r\\n\\r\\naxiom (forall\\u003calpha\\u003e s: struct, f: Field alpha, x: alpha :: $StructGet($StructSet(s, f, x), f) == x);\\r\\n\\r\\naxiom (forall\\u003calpha,beta\\u003e s: struct, f: Field alpha, f\\u0027: Field beta, x: alpha :: f != f\\u0027 ==\\u003e $StructGet($StructSet(s, f, x), f\\u0027) == $StructGet(s, f\\u0027));\\r\\n\\r\\nfunction ZeroInit(s: struct, typ: TName) : bool;\\r\\n\\r\\nfunction ZeroInitStruct(TName) : struct;\\r\\n\\r\\naxiom (forall t: TName :: { ZeroInitStruct(t) } ZeroInit(ZeroInitStruct(t), t));\\r\\n\\r\\nfunction $typeof(ref) : TName;\\r\\n\\r\\nfunction $BaseClass(sub: TName) : TName;\\r\\n\\r\\naxiom (forall T: TName :: { $BaseClass(T) } T \\u003c: $BaseClass(T) \\u0026\\u0026 (!$IsValueType(T) \\u0026\\u0026 T != System.Object ==\\u003e T != $BaseClass(T)));\\r\\n\\r\\nfunction AsDirectSubClass(sub: TName, base: TName) : TName;\\r\\n\\r\\nfunction OneClassDown(sub: TName, base: TName) : TName;\\r\\n\\r\\naxiom (forall A: TName, B: TName, C: TName :: { C \\u003c: AsDirectSubClass(B, A) } C \\u003c: AsDirectSubClass(B, A) ==\\u003e OneClassDown(C, A) == B);\\r\\n\\r\\nfunction $IsValueType(TName) : bool;\\r\\n\\r\\naxiom (forall T: TName :: $IsValueType(T) ==\\u003e (forall U: TName :: T \\u003c: U ==\\u003e T == U) \\u0026\\u0026 (forall U: TName :: U \\u003c: T ==\\u003e T == U));\\r\\n\\r\\nconst unique System.Boolean: TName;\\r\\n\\r\\naxiom $IsValueType(System.Boolean);\\r\\n\\r\\nconst unique System.Object: TName;\\r\\n\\r\\naxiom (forall T: TName :: T \\u003c: System.Object ==\\u003e !$IsValueType(T));\\r\\n\\r\\nfunction $IsTokenForType(struct, TName) : bool;\\r\\n\\r\\nfunction TypeObject(TName) : ref;\\r\\n\\r\\nconst unique System.Type: TName;\\r\\n\\r\\naxiom System.Type \\u003c: System.Object;\\r\\n\\r\\naxiom (forall T: TName :: { TypeObject(T) } $IsNotNull(TypeObject(T), System.Type));\\r\\n\\r\\nfunction TypeName(ref) : TName;\\r\\n\\r\\naxiom (forall T: TName :: { TypeObject(T) } TypeName(TypeObject(T)) == T);\\r\\n\\r\\nfunction $Is(ref, TName) : bool;\\r\\n\\r\\naxiom (forall o: ref, T: TName :: { $Is(o, T) } $Is(o, T) \\u003c==\\u003e o == null || $typeof(o) \\u003c: T);\\r\\n\\r\\nfunction $IsNotNull(ref, TName) : bool;\\r\\n\\r\\naxiom (forall o: ref, T: TName :: { $IsNotNull(o, T) } $IsNotNull(o, T) \\u003c==\\u003e o != null \\u0026\\u0026 $Is(o, T));\\r\\n\\r\\nfunction $As(ref, TName) : ref;\\r\\n\\r\\naxiom (forall o: ref, T: TName :: $Is(o, T) ==\\u003e $As(o, T) == o);\\r\\n\\r\\naxiom (forall o: ref, T: TName :: !$Is(o, T) ==\\u003e $As(o, T) == null);\\r\\n\\r\\naxiom (forall h: HeapType, o: ref :: { $typeof(o) \\u003c: System.Array, h[o, $inv] } IsHeap(h) \\u0026\\u0026 o != null \\u0026\\u0026 $typeof(o) \\u003c: System.Array ==\\u003e h[o, $inv] == $typeof(o) \\u0026\\u0026 h[o, $localinv] == $typeof(o));\\r\\n\\r\\nfunction IsAllocated\\u003calpha\\u003e(h: HeapType, o: alpha) : bool;\\r\\n\\r\\naxiom (forall\\u003calpha\\u003e h: HeapType, o: ref, f: Field alpha :: { IsAllocated(h, h[o, f]) } IsHeap(h) \\u0026\\u0026 h[o, $allocated] ==\\u003e IsAllocated(h, h[o, f]));\\r\\n\\r\\naxiom (forall h: HeapType, o: ref, f: Field ref :: { h[h[o, f], $allocated] } IsHeap(h) \\u0026\\u0026 h[o, $allocated] ==\\u003e h[h[o, f], $allocated]);\\r\\n\\r\\naxiom (forall\\u003calpha\\u003e h: HeapType, s: struct, f: Field alpha :: { IsAllocated(h, $StructGet(s, f)) } IsAllocated(h, s) ==\\u003e IsAllocated(h, $StructGet(s, f)));\\r\\n\\r\\naxiom (forall\\u003calpha\\u003e h: HeapType, e: Elements alpha, i: int :: { IsAllocated(h, ArrayGet(e, i)) } IsAllocated(h, e) ==\\u003e IsAllocated(h, ArrayGet(e, i)));\\r\\n\\r\\naxiom (forall h: HeapType, o: ref :: { h[o, $allocated] } IsAllocated(h, o) ==\\u003e h[o, $allocated]);\\r\\n\\r\\naxiom (forall h: HeapType, c: TName :: { h[ClassRepr(c), $allocated] } IsHeap(h) ==\\u003e h[ClassRepr(c), $allocated]);\\r\\n\\r\\nconst $BeingConstructed: ref;\\r\\n\\r\\nconst unique $NonNullFieldsAreInitialized: Field bool;\\r\\n\\r\\nconst $PurityAxiomsCanBeAssumed: bool;\\r\\n\\r\\naxiom DeclType($NonNullFieldsAreInitialized) == System.Object;\\r\\n\\r\\nfunction DeclType\\u003calpha\\u003e(field: Field alpha) : TName;\\r\\n\\r\\nfunction AsNonNullRefField(field: Field ref, T: TName) : Field ref;\\r\\n\\r\\nfunction AsRefField(field: Field ref, T: TName) : Field ref;\\r\\n\\r\\nfunction AsRangeField(field: Field int, T: TName) : Field int;\\r\\n\\r\\naxiom (forall f: Field ref, T: TName :: { AsNonNullRefField(f, T) } AsNonNullRefField(f, T) == f ==\\u003e AsRefField(f, T) == f);\\r\\n\\r\\naxiom (forall h: HeapType, o: ref, f: Field ref, T: TName :: { h[o, AsRefField(f, T)] } IsHeap(h) ==\\u003e $Is(h[o, AsRefField(f, T)], T));\\r\\n\\r\\naxiom (forall h: HeapType, o: ref, f: Field ref, T: TName :: { h[o, AsNonNullRefField(f, T)] } IsHeap(h) \\u0026\\u0026 o != null \\u0026\\u0026 (o != $BeingConstructed || h[$BeingConstructed, $NonNullFieldsAreInitialized] == true) ==\\u003e h[o, AsNonNullRefField(f, T)] != null);\\r\\n\\r\\naxiom (forall h: HeapType, o: ref, f: Field int, T: TName :: { h[o, AsRangeField(f, T)] } IsHeap(h) ==\\u003e InRange(h[o, AsRangeField(f, T)], T));\\r\\n\\r\\nfunction $IsMemberlessType(TName) : bool;\\r\\n\\r\\naxiom (forall o: ref :: { $IsMemberlessType($typeof(o)) } !$IsMemberlessType($typeof(o)));\\r\\n\\r\\nfunction $AsInterface(TName) : TName;\\r\\n\\r\\naxiom (forall J: TName :: { System.Object \\u003c: $AsInterface(J) } $AsInterface(J) == J ==\\u003e !(System.Object \\u003c: J));\\r\\n\\r\\naxiom (forall\\u003cT\\u003e $J: TName, s: T, b: ref :: { UnboxedType(Box(s, b)) \\u003c: $AsInterface($J) } $AsInterface($J) == $J \\u0026\\u0026 Box(s, b) == b \\u0026\\u0026 UnboxedType(Box(s, b)) \\u003c: $AsInterface($J) ==\\u003e $typeof(b) \\u003c: $J);\\r\\n\\r\\nfunction $HeapSucc(oldHeap: HeapType, newHeap: HeapType) : bool;\\r\\n\\r\\nfunction $IsImmutable(T: TName) : bool;\\r\\n\\r\\naxiom !$IsImmutable(System.Object);\\r\\n\\r\\nfunction $AsImmutable(T: TName) : TName;\\r\\n\\r\\nfunction $AsMutable(T: TName) : TName;\\r\\n\\r\\naxiom (forall T: TName, U: TName :: { U \\u003c: $AsImmutable(T) } U \\u003c: $AsImmutable(T) ==\\u003e $IsImmutable(U) \\u0026\\u0026 $AsImmutable(U) == U);\\r\\n\\r\\naxiom (forall T: TName, U: TName :: { U \\u003c: $AsMutable(T) } U \\u003c: $AsMutable(T) ==\\u003e !$IsImmutable(U) \\u0026\\u0026 $AsMutable(U) == U);\\r\\n\\r\\nfunction AsOwner(string: ref, owner: ref) : ref;\\r\\n\\r\\naxiom (forall o: ref, T: TName :: { $typeof(o) \\u003c: $AsImmutable(T) } o != null \\u0026\\u0026 o != $BeingConstructed \\u0026\\u0026 $typeof(o) \\u003c: $AsImmutable(T) ==\\u003e (forall h: HeapType :: { IsHeap(h) } IsHeap(h) ==\\u003e h[o, $inv] == $typeof(o) \\u0026\\u0026 h[o, $localinv] == $typeof(o) \\u0026\\u0026 h[o, $ownerFrame] == $PeerGroupPlaceholder \\u0026\\u0026 AsOwner(o, h[o, $ownerRef]) == o \\u0026\\u0026 (forall t: ref :: { AsOwner(o, h[t, $ownerRef]) } AsOwner(o, h[t, $ownerRef]) == o ==\\u003e t == o || h[t, $ownerFrame] != $PeerGroupPlaceholder)));\\r\\n\\r\\nconst unique System.String: TName;\\r\\n\\r\\nfunction $StringLength(ref) : int;\\r\\n\\r\\naxiom (forall s: ref :: { $StringLength(s) } 0 \\u003c= $StringLength(s));\\r\\n\\r\\nfunction AsRepField(f: Field ref, declaringType: TName) : Field ref;\\r\\n\\r\\naxiom (forall h: HeapType, o: ref, f: Field ref, T: TName :: { h[o, AsRepField(f, T)] } IsHeap(h) \\u0026\\u0026 h[o, AsRepField(f, T)] != null ==\\u003e h[h[o, AsRepField(f, T)], $ownerRef] == o \\u0026\\u0026 h[h[o, AsRepField(f, T)], $ownerFrame] == T);\\r\\n\\r\\nfunction AsPeerField(f: Field ref) : Field ref;\\r\\n\\r\\naxiom (forall h: HeapType, o: ref, f: Field ref :: { h[o, AsPeerField(f)] } IsHeap(h) \\u0026\\u0026 h[o, AsPeerField(f)] != null ==\\u003e h[h[o, AsPeerField(f)], $ownerRef] == h[o, $ownerRef] \\u0026\\u0026 h[h[o, AsPeerField(f)], $ownerFrame] == h[o, $ownerFrame]);\\r\\n\\r\\nfunction AsElementsRepField(f: Field ref, declaringType: TName, position: int) : Field ref;\\r\\n\\r\\naxiom (forall h: HeapType, o: ref, f: Field ref, T: TName, i: int :: { h[o, AsElementsRepField(f, T, i)] } IsHeap(h) \\u0026\\u0026 h[o, AsElementsRepField(f, T, i)] != null ==\\u003e h[$ElementProxy(h[o, AsElementsRepField(f, T, i)], i), $ownerRef] == o \\u0026\\u0026 h[$ElementProxy(h[o, AsElementsRepField(f, T, i)], i), $ownerFrame] == T);\\r\\n\\r\\nfunction AsElementsPeerField(f: Field ref, position: int) : Field ref;\\r\\n\\r\\naxiom (forall h: HeapType, o: ref, f: Field ref, i: int :: { h[o, AsElementsPeerField(f, i)] } IsHeap(h) \\u0026\\u0026 h[o, AsElementsPeerField(f, i)] != null ==\\u003e h[$ElementProxy(h[o, AsElementsPeerField(f, i)], i), $ownerRef] == h[o, $ownerRef] \\u0026\\u0026 h[$ElementProxy(h[o, AsElementsPeerField(f, i)], i), $ownerFrame] == h[o, $ownerFrame]);\\r\\n\\r\\naxiom (forall h: HeapType, o: ref :: { h[h[o, $ownerRef], $inv] \\u003c: h[o, $ownerFrame] } IsHeap(h) \\u0026\\u0026 h[o, $ownerFrame] != $PeerGroupPlaceholder \\u0026\\u0026 h[h[o, $ownerRef], $inv] \\u003c: h[o, $ownerFrame] \\u0026\\u0026 h[h[o, $ownerRef], $localinv] != $BaseClass(h[o, $ownerFrame]) ==\\u003e h[o, $inv] == $typeof(o) \\u0026\\u0026 h[o, $localinv] == $typeof(o));\\r\\n\\r\\nprocedure $SetOwner(o: ref, ow: ref, fr: TName);\\r\\n  modifies $Heap;\\r\\n  ensures (forall\\u003calpha\\u003e p: ref, F: Field alpha :: { $Heap[p, F] } (F != $ownerRef \\u0026\\u0026 F != $ownerFrame) || old($Heap[p, $ownerRef] != $Heap[o, $ownerRef]) || old($Heap[p, $ownerFrame] != $Heap[o, $ownerFrame]) ==\\u003e old($Heap[p, F]) == $Heap[p, F]);\\r\\n  ensures (forall p: ref :: { $Heap[p, $ownerRef] } { $Heap[p, $ownerFrame] } old($Heap[p, $ownerRef] == $Heap[o, $ownerRef]) \\u0026\\u0026 old($Heap[p, $ownerFrame] == $Heap[o, $ownerFrame]) ==\\u003e $Heap[p, $ownerRef] == ow \\u0026\\u0026 $Heap[p, $ownerFrame] == fr);\\r\\n  free ensures $HeapSucc(old($Heap), $Heap);\\r\\n\\r\\n\\r\\n\\r\\nprocedure $UpdateOwnersForRep(o: ref, T: TName, e: ref);\\r\\n  modifies $Heap;\\r\\n  ensures (forall\\u003calpha\\u003e p: ref, F: Field alpha :: { $Heap[p, F] } (F != $ownerRef \\u0026\\u0026 F != $ownerFrame) || old($Heap[p, $ownerRef] != $Heap[e, $ownerRef]) || old($Heap[p, $ownerFrame] != $Heap[e, $ownerFrame]) ==\\u003e old($Heap[p, F]) == $Heap[p, F]);\\r\\n  ensures e == null ==\\u003e $Heap == old($Heap);\\r\\n  ensures e != null ==\\u003e (forall p: ref :: { $Heap[p, $ownerRef] } { $Heap[p, $ownerFrame] } old($Heap[p, $ownerRef] == $Heap[e, $ownerRef]) \\u0026\\u0026 old($Heap[p, $ownerFrame] == $Heap[e, $ownerFrame]) ==\\u003e $Heap[p, $ownerRef] == o \\u0026\\u0026 $Heap[p, $ownerFrame] == T);\\r\\n  free ensures $HeapSucc(old($Heap), $Heap);\\r\\n\\r\\n\\r\\n\\r\\nprocedure $UpdateOwnersForPeer(c: ref, d: ref);\\r\\n  modifies $Heap;\\r\\n  ensures (forall\\u003calpha\\u003e p: ref, F: Field alpha :: { $Heap[p, F] } (F != $ownerRef \\u0026\\u0026 F != $ownerFrame) || old($Heap[p, $ownerRef] != $Heap[d, $ownerRef] || $Heap[p, $ownerFrame] != $Heap[d, $ownerFrame]) ==\\u003e old($Heap[p, F]) == $Heap[p, F]);\\r\\n  ensures d == null ==\\u003e $Heap == old($Heap);\\r\\n  ensures d != null ==\\u003e (forall p: ref :: { $Heap[p, $ownerRef] } { $Heap[p, $ownerFrame] } old($Heap[p, $ownerRef] == $Heap[d, $ownerRef] \\u0026\\u0026 $Heap[p, $ownerFrame] == $Heap[d, $ownerFrame]) ==\\u003e $Heap[p, $ownerRef] == old($Heap)[c, $ownerRef] \\u0026\\u0026 $Heap[p, $ownerFrame] == old($Heap)[c, $ownerFrame]);\\r\\n  free ensures $HeapSucc(old($Heap), $Heap);\\r\\n\\r\\n\\r\\n\\r\\nconst unique $FirstConsistentOwner: Field ref;\\r\\n\\r\\nfunction $AsPureObject(ref) : ref;\\r\\n\\r\\nfunction ##FieldDependsOnFCO\\u003calpha\\u003e(o: ref, f: Field alpha, ev: exposeVersionType) : alpha;\\r\\n\\r\\naxiom (forall\\u003calpha\\u003e o: ref, f: Field alpha, h: HeapType :: { h[$AsPureObject(o), f] } IsHeap(h) \\u0026\\u0026 o != null \\u0026\\u0026 h[o, $allocated] == true \\u0026\\u0026 $AsPureObject(o) == o \\u0026\\u0026 h[o, $ownerFrame] != $PeerGroupPlaceholder \\u0026\\u0026 h[h[o, $ownerRef], $inv] \\u003c: h[o, $ownerFrame] \\u0026\\u0026 h[h[o, $ownerRef], $localinv] != $BaseClass(h[o, $ownerFrame]) ==\\u003e h[o, f] == ##FieldDependsOnFCO(o, f, h[h[o, $FirstConsistentOwner], $exposeVersion]));\\r\\n\\r\\naxiom (forall o: ref, h: HeapType :: { h[o, $FirstConsistentOwner] } IsHeap(h) \\u0026\\u0026 o != null \\u0026\\u0026 h[o, $allocated] == true \\u0026\\u0026 h[o, $ownerFrame] != $PeerGroupPlaceholder \\u0026\\u0026 h[h[o, $ownerRef], $inv] \\u003c: h[o, $ownerFrame] \\u0026\\u0026 h[h[o, $ownerRef], $localinv] != $BaseClass(h[o, $ownerFrame]) ==\\u003e h[o, $FirstConsistentOwner] != null \\u0026\\u0026 h[h[o, $FirstConsistentOwner], $allocated] == true \\u0026\\u0026 (h[h[o, $FirstConsistentOwner], $ownerFrame] == $PeerGroupPlaceholder || !(h[h[h[o, $FirstConsistentOwner], $ownerRef], $inv] \\u003c: h[h[o, $FirstConsistentOwner], $ownerFrame]) || h[h[h[o, $FirstConsistentOwner], $ownerRef], $localinv] == $BaseClass(h[h[o, $FirstConsistentOwner], $ownerFrame])));\\r\\n\\r\\nfunction Box\\u003cT\\u003e(T, ref) : ref;\\r\\n\\r\\nfunction Unbox\\u003cT\\u003e(ref) : T;\\r\\n\\r\\ntype NondetType;\\r\\n\\r\\nfunction MeldNondets\\u003ca\\u003e(NondetType, a) : NondetType;\\r\\n\\r\\nfunction BoxFunc\\u003cT\\u003e(value: T, typ: TName) : ref;\\r\\n\\r\\nfunction AllocFunc(typ: TName) : ref;\\r\\n\\r\\nfunction NewInstance(object: ref, occurrence: NondetType, activity: ActivityType) : ref;\\r\\n\\r\\naxiom (forall\\u003cT\\u003e value: T, typ: TName, occurrence: NondetType, activity: ActivityType :: { NewInstance(BoxFunc(value, typ), occurrence, activity) } Box(value, NewInstance(BoxFunc(value, typ), occurrence, activity)) == NewInstance(BoxFunc(value, typ), occurrence, activity) \\u0026\\u0026 UnboxedType(NewInstance(BoxFunc(value, typ), occurrence, activity)) == typ);\\r\\n\\r\\naxiom (forall x: ref, typ: TName, occurrence: NondetType, activity: ActivityType :: !$IsValueType(UnboxedType(x)) ==\\u003e NewInstance(BoxFunc(x, typ), occurrence, activity) == x);\\r\\n\\r\\naxiom (forall\\u003cT\\u003e x: T, p: ref :: { Unbox(Box(x, p)): T } Unbox(Box(x, p)) == x);\\r\\n\\r\\nfunction UnboxedType(ref) : TName;\\r\\n\\r\\naxiom (forall p: ref :: { $IsValueType(UnboxedType(p)) } $IsValueType(UnboxedType(p)) ==\\u003e (forall\\u003cT\\u003e heap: HeapType, x: T :: { heap[Box(x, p), $inv] } IsHeap(heap) ==\\u003e heap[Box(x, p), $inv] == $typeof(Box(x, p)) \\u0026\\u0026 heap[Box(x, p), $localinv] == $typeof(Box(x, p))));\\r\\n\\r\\naxiom (forall\\u003cT\\u003e x: T, p: ref :: { UnboxedType(Box(x, p)) \\u003c: System.Object } UnboxedType(Box(x, p)) \\u003c: System.Object \\u0026\\u0026 Box(x, p) == p ==\\u003e x == p);\\r\\n\\r\\nfunction BoxTester(p: ref, typ: TName) : ref;\\r\\n\\r\\naxiom (forall p: ref, typ: TName :: { BoxTester(p, typ) } UnboxedType(p) == typ \\u003c==\\u003e BoxTester(p, typ) != null);\\r\\n\\r\\naxiom (forall p: ref, typ: TName :: { BoxTester(p, typ) } BoxTester(p, typ) != null ==\\u003e (forall\\u003cT\\u003e  :: Box(Unbox(p): T, p) == p));\\r\\n\\r\\nfunction BoxDisguise\\u003cU\\u003e(U) : ref;\\r\\n\\r\\nfunction UnBoxDisguise\\u003cU\\u003e(ref) : U;\\r\\n\\r\\naxiom (forall\\u003cU\\u003e x: ref, p: ref :: { Unbox(Box(x, p)): U } Box(x, p) == p ==\\u003e Unbox(Box(x, p)): U == UnBoxDisguise(x) \\u0026\\u0026 BoxDisguise(Unbox(Box(x, p)): U) == x);\\r\\n\\r\\naxiom (forall typ: TName, occurrence: NondetType, activity: ActivityType :: { NewInstance(AllocFunc(typ), occurrence, activity) } $typeof(NewInstance(AllocFunc(typ), occurrence, activity)) == typ \\u0026\\u0026 NewInstance(AllocFunc(typ), occurrence, activity) != null);\\r\\n\\r\\naxiom (forall typ: TName, occurrence: NondetType, activity: ActivityType, heap: HeapType :: { heap[NewInstance(AllocFunc(typ), occurrence, activity), $allocated] } IsHeap(heap) ==\\u003e heap[NewInstance(AllocFunc(typ), occurrence, activity), $allocated]);\\r\\n\\r\\nconst unique System.SByte: TName;\\r\\n\\r\\naxiom $IsValueType(System.SByte);\\r\\n\\r\\nconst unique System.Byte: TName;\\r\\n\\r\\naxiom $IsValueType(System.Byte);\\r\\n\\r\\nconst unique System.Int16: TName;\\r\\n\\r\\naxiom $IsValueType(System.Int16);\\r\\n\\r\\nconst unique System.UInt16: TName;\\r\\n\\r\\naxiom $IsValueType(System.UInt16);\\r\\n\\r\\nconst unique System.Int32: TName;\\r\\n\\r\\naxiom $IsValueType(System.Int32);\\r\\n\\r\\nconst unique System.UInt32: TName;\\r\\n\\r\\naxiom $IsValueType(System.UInt32);\\r\\n\\r\\nconst unique System.Int64: TName;\\r\\n\\r\\naxiom $IsValueType(System.Int64);\\r\\n\\r\\nconst unique System.UInt64: TName;\\r\\n\\r\\naxiom $IsValueType(System.UInt64);\\r\\n\\r\\nconst unique System.Char: TName;\\r\\n\\r\\naxiom $IsValueType(System.Char);\\r\\n\\r\\nconst unique System.UIntPtr: TName;\\r\\n\\r\\naxiom $IsValueType(System.UIntPtr);\\r\\n\\r\\nconst unique System.IntPtr: TName;\\r\\n\\r\\naxiom $IsValueType(System.IntPtr);\\r\\n\\r\\nfunction InRange(i: int, T: TName) : bool;\\r\\n\\r\\naxiom (forall i: int :: InRange(i, System.SByte) \\u003c==\\u003e 0 - 128 \\u003c= i \\u0026\\u0026 i \\u003c 128);\\r\\n\\r\\naxiom (forall i: int :: InRange(i, System.Byte) \\u003c==\\u003e 0 \\u003c= i \\u0026\\u0026 i \\u003c 256);\\r\\n\\r\\naxiom (forall i: int :: InRange(i, System.Int16) \\u003c==\\u003e 0 - 32768 \\u003c= i \\u0026\\u0026 i \\u003c 32768);\\r\\n\\r\\naxiom (forall i: int :: InRange(i, System.UInt16) \\u003c==\\u003e 0 \\u003c= i \\u0026\\u0026 i \\u003c 65536);\\r\\n\\r\\naxiom (forall i: int :: InRange(i, System.Int32) \\u003c==\\u003e 0 - 2147483648 \\u003c= i \\u0026\\u0026 i \\u003c= 2147483647);\\r\\n\\r\\naxiom (forall i: int :: InRange(i, System.UInt32) \\u003c==\\u003e 0 \\u003c= i \\u0026\\u0026 i \\u003c= 4294967295);\\r\\n\\r\\naxiom (forall i: int :: InRange(i, System.Int64) \\u003c==\\u003e 0 - 9223372036854775808 \\u003c= i \\u0026\\u0026 i \\u003c= 9223372036854775807);\\r\\n\\r\\naxiom (forall i: int :: InRange(i, System.UInt64) \\u003c==\\u003e 0 \\u003c= i \\u0026\\u0026 i \\u003c= 18446744073709551615);\\r\\n\\r\\naxiom (forall i: int :: InRange(i, System.Char) \\u003c==\\u003e 0 \\u003c= i \\u0026\\u0026 i \\u003c 65536);\\r\\n\\r\\nfunction $IntToInt(val: int, fromType: TName, toType: TName) : int;\\r\\n\\r\\nfunction $IntToReal(val: int, fromType: TName, toType: TName) : real;\\r\\n\\r\\nfunction $RealToInt(val: real, fromType: TName, toType: TName) : int;\\r\\n\\r\\nfunction $RealToReal(val: real, fromType: TName, toType: TName) : real;\\r\\n\\r\\naxiom (forall z: int, B: TName, C: TName :: InRange(z, C) ==\\u003e $IntToInt(z, B, C) == z);\\r\\n\\r\\nfunction $SizeIs(TName, int) : bool;\\r\\n\\r\\nfunction $IfThenElse\\u003ca\\u003e(bool, a, a) : a;\\r\\n\\r\\naxiom (forall\\u003ca\\u003e b: bool, x: a, y: a :: { $IfThenElse(b, x, y) } b ==\\u003e $IfThenElse(b, x, y) == x);\\r\\n\\r\\naxiom (forall\\u003ca\\u003e b: bool, x: a, y: a :: { $IfThenElse(b, x, y) } !b ==\\u003e $IfThenElse(b, x, y) == y);\\r\\n\\r\\nfunction #neg(int) : int;\\r\\n\\r\\nfunction #and(int, int) : int;\\r\\n\\r\\nfunction #or(int, int) : int;\\r\\n\\r\\nfunction #xor(int, int) : int;\\r\\n\\r\\nfunction #shl(int, int) : int;\\r\\n\\r\\nfunction #shr(int, int) : int;\\r\\n\\r\\nfunction #rneg(real) : real;\\r\\n\\r\\nfunction #radd(real, real) : real;\\r\\n\\r\\nfunction #rsub(real, real) : real;\\r\\n\\r\\nfunction #rmul(real, real) : real;\\r\\n\\r\\nfunction #rdiv(real, real) : real;\\r\\n\\r\\nfunction #rmod(real, real) : real;\\r\\n\\r\\nfunction #rLess(real, real) : bool;\\r\\n\\r\\nfunction #rAtmost(real, real) : bool;\\r\\n\\r\\nfunction #rEq(real, real) : bool;\\r\\n\\r\\nfunction #rNeq(real, real) : bool;\\r\\n\\r\\nfunction #rAtleast(real, real) : bool;\\r\\n\\r\\nfunction #rGreater(real, real) : bool;\\r\\n\\r\\naxiom (forall x: int, y: int :: { x % y } { x / y } x % y == x - x / y * y);\\r\\n\\r\\naxiom (forall x: int, y: int :: { x % y } 0 \\u003c= x \\u0026\\u0026 0 \\u003c y ==\\u003e 0 \\u003c= x % y \\u0026\\u0026 x % y \\u003c y);\\r\\n\\r\\naxiom (forall x: int, y: int :: { x % y } 0 \\u003c= x \\u0026\\u0026 y \\u003c 0 ==\\u003e 0 \\u003c= x % y \\u0026\\u0026 x % y \\u003c 0 - y);\\r\\n\\r\\naxiom (forall x: int, y: int :: { x % y } x \\u003c= 0 \\u0026\\u0026 0 \\u003c y ==\\u003e 0 - y \\u003c x % y \\u0026\\u0026 x % y \\u003c= 0);\\r\\n\\r\\naxiom (forall x: int, y: int :: { x % y } x \\u003c= 0 \\u0026\\u0026 y \\u003c 0 ==\\u003e y \\u003c x % y \\u0026\\u0026 x % y \\u003c= 0);\\r\\n\\r\\naxiom (forall x: int, y: int :: { (x + y) % y } 0 \\u003c= x \\u0026\\u0026 0 \\u003c= y ==\\u003e (x + y) % y == x % y);\\r\\n\\r\\naxiom (forall x: int, y: int :: { (y + x) % y } 0 \\u003c= x \\u0026\\u0026 0 \\u003c= y ==\\u003e (y + x) % y == x % y);\\r\\n\\r\\naxiom (forall x: int, y: int :: { (x - y) % y } 0 \\u003c= x - y \\u0026\\u0026 0 \\u003c= y ==\\u003e (x - y) % y == x % y);\\r\\n\\r\\naxiom (forall a: int, b: int, d: int :: { a % d, b % d } 2 \\u003c= d \\u0026\\u0026 a % d == b % d \\u0026\\u0026 a \\u003c b ==\\u003e a + d \\u003c= b);\\r\\n\\r\\naxiom (forall x: int, y: int :: { #and(x, y) } #and(x, y) == #and(y, x));\\r\\n\\r\\naxiom (forall x: int, y: int :: { #or(x, y) } #or(x, y) == #or(y, x));\\r\\n\\r\\naxiom (forall x: int, y: int :: { #and(x, y) } 0 \\u003c= x || 0 \\u003c= y ==\\u003e 0 \\u003c= #and(x, y));\\r\\n\\r\\naxiom (forall x: int, y: int :: { #or(x, y) } 0 \\u003c= x \\u0026\\u0026 0 \\u003c= y ==\\u003e 0 \\u003c= #or(x, y) \\u0026\\u0026 #or(x, y) \\u003c= x + y);\\r\\n\\r\\naxiom (forall x: int :: { #and(x, 0 - 1) } #and(x, 0 - 1) == x);\\r\\n\\r\\naxiom (forall x: int :: { #and(x, 0) } #and(x, 0) == 0);\\r\\n\\r\\naxiom (forall x: int :: { #or(x, 0 - 1) } #or(x, 0 - 1) == 0 - 1);\\r\\n\\r\\naxiom (forall x: int :: { #or(x, 0) } #or(x, 0) == x);\\r\\n\\r\\naxiom (forall i: int :: { #shl(i, 0) } #shl(i, 0) == i);\\r\\n\\r\\naxiom (forall i: int, j: int :: { #shl(i, j) } 1 \\u003c= j ==\\u003e #shl(i, j) == #shl(i, j - 1) * 2);\\r\\n\\r\\naxiom (forall i: int, j: int :: { #shl(i, j) } 0 \\u003c= i \\u0026\\u0026 i \\u003c 32768 \\u0026\\u0026 0 \\u003c= j \\u0026\\u0026 j \\u003c= 16 ==\\u003e 0 \\u003c= #shl(i, j) \\u0026\\u0026 #shl(i, j) \\u003c= 2147483647);\\r\\n\\r\\naxiom (forall i: int :: { #shr(i, 0) } #shr(i, 0) == i);\\r\\n\\r\\naxiom (forall i: int, j: int :: { #shr(i, j) } 1 \\u003c= j ==\\u003e #shr(i, j) == #shr(i, j - 1) / 2);\\r\\n\\r\\nfunction #min(int, int) : int;\\r\\n\\r\\nfunction #max(int, int) : int;\\r\\n\\r\\naxiom (forall x: int, y: int :: { #min(x, y) } (#min(x, y) == x || #min(x, y) == y) \\u0026\\u0026 #min(x, y) \\u003c= x \\u0026\\u0026 #min(x, y) \\u003c= y);\\r\\n\\r\\naxiom (forall x: int, y: int :: { #max(x, y) } (#max(x, y) == x || #max(x, y) == y) \\u0026\\u0026 x \\u003c= #max(x, y) \\u0026\\u0026 y \\u003c= #max(x, y));\\r\\n\\r\\nfunction #System.String.IsInterned$System.String$notnull(HeapType, ref) : ref;\\r\\n\\r\\nfunction #System.String.Equals$System.String(HeapType, ref, ref) : bool;\\r\\n\\r\\nfunction #System.String.Equals$System.String$System.String(HeapType, ref, ref) : bool;\\r\\n\\r\\nfunction ##StringEquals(ref, ref) : bool;\\r\\n\\r\\naxiom (forall h: HeapType, a: ref, b: ref :: { #System.String.Equals$System.String(h, a, b) } #System.String.Equals$System.String(h, a, b) == #System.String.Equals$System.String$System.String(h, a, b));\\r\\n\\r\\naxiom (forall h: HeapType, a: ref, b: ref :: { #System.String.Equals$System.String$System.String(h, a, b) } #System.String.Equals$System.String$System.String(h, a, b) == ##StringEquals(a, b) \\u0026\\u0026 #System.String.Equals$System.String$System.String(h, a, b) == ##StringEquals(b, a) \\u0026\\u0026 (a == b ==\\u003e ##StringEquals(a, b)));\\r\\n\\r\\naxiom (forall a: ref, b: ref, c: ref :: ##StringEquals(a, b) \\u0026\\u0026 ##StringEquals(b, c) ==\\u003e ##StringEquals(a, c));\\r\\n\\r\\naxiom (forall h: HeapType, a: ref, b: ref :: { #System.String.Equals$System.String$System.String(h, a, b) } a != null \\u0026\\u0026 b != null \\u0026\\u0026 #System.String.Equals$System.String$System.String(h, a, b) ==\\u003e #System.String.IsInterned$System.String$notnull(h, a) == #System.String.IsInterned$System.String$notnull(h, b));\\r\\n\\r\\nconst unique C: TName;\\r\\n\\r\\naxiom C \\u003c: C;\\r\\n\\r\\naxiom $BaseClass(C) == System.Object \\u0026\\u0026 AsDirectSubClass(C, $BaseClass(C)) == C;\\r\\n\\r\\naxiom !$IsImmutable(C) \\u0026\\u0026 $AsMutable(C) == C;\\r\\n\\r\\n// C object invariant\\r\\naxiom (forall $oi: ref, $h: HeapType :: { $h[$oi, $inv] \\u003c: C } IsHeap($h) \\u0026\\u0026 $h[$oi, $inv] \\u003c: C \\u0026\\u0026 $h[$oi, $localinv] != $BaseClass(C) ==\\u003e true);\\r\\n\\r\\nprocedure C.multiply$System.Int32$System.Int32(x$in: int where InRange(x$in, System.Int32), y$in: int where InRange(y$in, System.Int32)) returns ($result: int where InRange($result, System.Int32));\\r\\n  free requires $BeingConstructed == null;\\r\\n  free requires $PurityAxiomsCanBeAssumed;\\r\\n  modifies $Heap, $ActivityIndicator;\\r\\n  // newly allocated objects are fully valid\\r\\n  free ensures (forall $o: ref :: { $Heap[$o, $localinv] } { $Heap[$o, $inv] } $o != null \\u0026\\u0026 !old($Heap)[$o, $allocated] \\u0026\\u0026 $Heap[$o, $allocated] ==\\u003e $Heap[$o, $inv] == $typeof($o) \\u0026\\u0026 $Heap[$o, $localinv] == $typeof($o));\\r\\n  // first consistent owner unchanged if its exposeVersion is\\r\\n  free ensures (forall $o: ref :: { $Heap[$o, $FirstConsistentOwner] } old($Heap)[old($Heap)[$o, $FirstConsistentOwner], $exposeVersion] == $Heap[old($Heap)[$o, $FirstConsistentOwner], $exposeVersion] ==\\u003e old($Heap)[$o, $FirstConsistentOwner] == $Heap[$o, $FirstConsistentOwner]);\\r\\n  // frame condition\\r\\n  free ensures (forall\\u003calpha\\u003e $o: ref, $f: Field alpha :: { $Heap[$o, $f] } $o != null \\u0026\\u0026 IncludeInMainFrameCondition($f) \\u0026\\u0026 old($Heap)[$o, $allocated] \\u0026\\u0026 (old($Heap)[$o, $ownerFrame] == $PeerGroupPlaceholder || !(old($Heap)[old($Heap)[$o, $ownerRef], $inv] \\u003c: old($Heap)[$o, $ownerFrame]) || old($Heap)[old($Heap)[$o, $ownerRef], $localinv] == $BaseClass(old($Heap)[$o, $ownerFrame])) \\u0026\\u0026 true \\u0026\\u0026 true ==\\u003e old($Heap)[$o, $f] == $Heap[$o, $f]);\\r\\n  free ensures $HeapSucc(old($Heap), $Heap);\\r\\n  // inv/localinv change only in blocks\\r\\n  free ensures (forall $o: ref :: { $Heap[$o, $localinv] } { $Heap[$o, $inv] } old($Heap)[$o, $allocated] ==\\u003e old($Heap)[$o, $inv] == $Heap[$o, $inv] \\u0026\\u0026 old($Heap)[$o, $localinv] == $Heap[$o, $localinv]);\\r\\n  free ensures (forall $o: ref :: { $Heap[$o, $allocated] } old($Heap)[$o, $allocated] ==\\u003e $Heap[$o, $allocated]) \\u0026\\u0026 (forall $ot: ref :: { $Heap[$ot, $ownerFrame] } { $Heap[$ot, $ownerRef] } old($Heap)[$ot, $allocated] \\u0026\\u0026 old($Heap)[$ot, $ownerFrame] != $PeerGroupPlaceholder ==\\u003e $Heap[$ot, $ownerRef] == old($Heap)[$ot, $ownerRef] \\u0026\\u0026 $Heap[$ot, $ownerFrame] == old($Heap)[$ot, $ownerFrame]) \\u0026\\u0026 old($Heap)[$BeingConstructed, $NonNullFieldsAreInitialized] == $Heap[$BeingConstructed, $NonNullFieldsAreInitialized];\\r\\n\\r\\n\\r\\n\\r\\nimplementation C.multiply$System.Int32$System.Int32(x$in: int, y$in: int) returns ($result: int)\\r\\n{\\r\\n  var x: int where InRange(x, System.Int32);\\r\\n  var y: int where InRange(y, System.Int32);\\r\\n  var q: int where InRange(q, System.Int32);\\r\\n  var i: int where InRange(i, System.Int32);\\r\\n  var stack0b: bool;\\r\\n  var return.value: int where InRange(return.value, System.Int32);\\r\\n  var stack0i: int;\\r\\n  var SS$Display.Return.Local: int where InRange(SS$Display.Return.Local, System.Int32);\\r\\n  var $Heap$block1666$LoopPreheader: HeapType;\\r\\n\\r\\n  entry:\\r\\n    x := x$in;\\r\\n    y := y$in;\\r\\n    goto block1581;\\r\\n\\r\\n  block1581:\\r\\n    goto block1615;\\r\\n\\r\\n  block1615:\\r\\n    // ----- load constant 0  ----- tmp4313.ssc(24,13)\\r\\n    q := 0;\\r\\n    // ----- load constant 0  ----- tmp4313.ssc(26,13)\\r\\n    i := 0;\\r\\n    goto block1666$LoopPreheader;\\r\\n\\r\\n  block1666:\\r\\n    // ----- default loop invariant: allocation and ownership are stable  ----- tmp4313.ssc(28,9)\\r\\n    assume (forall $o: ref :: { $Heap[$o, $allocated] } $Heap$block1666$LoopPreheader[$o, $allocated] ==\\u003e $Heap[$o, $allocated]) \\u0026\\u0026 (forall $ot: ref :: { $Heap[$ot, $ownerFrame] } { $Heap[$ot, $ownerRef] } $Heap$block1666$LoopPreheader[$ot, $allocated] \\u0026\\u0026 $Heap$block1666$LoopPreheader[$ot, $ownerFrame] != $PeerGroupPlaceholder ==\\u003e $Heap[$ot, $ownerRef] == $Heap$block1666$LoopPreheader[$ot, $ownerRef] \\u0026\\u0026 $Heap[$ot, $ownerFrame] == $Heap$block1666$LoopPreheader[$ot, $ownerFrame]) \\u0026\\u0026 $Heap$block1666$LoopPreheader[$BeingConstructed, $NonNullFieldsAreInitialized] == $Heap[$BeingConstructed, $NonNullFieldsAreInitialized];\\r\\n    // ----- default loop invariant: exposure  ----- tmp4313.ssc(28,9)\\r\\n    assume (forall $o: ref :: { $Heap[$o, $localinv] } { $Heap[$o, $inv] } $Heap$block1666$LoopPreheader[$o, $allocated] ==\\u003e $Heap$block1666$LoopPreheader[$o, $inv] == $Heap[$o, $inv] \\u0026\\u0026 $Heap$block1666$LoopPreheader[$o, $localinv] == $Heap[$o, $localinv]);\\r\\n    assume (forall $o: ref :: !$Heap$block1666$LoopPreheader[$o, $allocated] \\u0026\\u0026 $Heap[$o, $allocated] ==\\u003e $Heap[$o, $inv] == $typeof($o) \\u0026\\u0026 $Heap[$o, $localinv] == $typeof($o));\\r\\n    // ----- default loop invariant: modifies  ----- tmp4313.ssc(28,9)\\r\\n    assume (forall\\u003calpha\\u003e $o: ref, $f: Field alpha :: { $Heap[$o, $f] } $o != null \\u0026\\u0026 IncludeInMainFrameCondition($f) \\u0026\\u0026 old($Heap)[$o, $allocated] \\u0026\\u0026 (old($Heap)[$o, $ownerFrame] == $PeerGroupPlaceholder || !(old($Heap)[old($Heap)[$o, $ownerRef], $inv] \\u003c: old($Heap)[$o, $ownerFrame]) || old($Heap)[old($Heap)[$o, $ownerRef], $localinv] == $BaseClass(old($Heap)[$o, $ownerFrame])) \\u0026\\u0026 true \\u0026\\u0026 true ==\\u003e $Heap$block1666$LoopPreheader[$o, $f] == $Heap[$o, $f]);\\r\\n    assume $HeapSucc($Heap$block1666$LoopPreheader, $Heap);\\r\\n    // ----- default loop invariant: owner fields  ----- tmp4313.ssc(28,9)\\r\\n    assert (forall $o: ref :: { $Heap[$o, $ownerFrame] } { $Heap[$o, $ownerRef] } $o != null \\u0026\\u0026 $Heap$block1666$LoopPreheader[$o, $allocated] ==\\u003e $Heap[$o, $ownerRef] == $Heap$block1666$LoopPreheader[$o, $ownerRef] \\u0026\\u0026 $Heap[$o, $ownerFrame] == $Heap$block1666$LoopPreheader[$o, $ownerFrame]);\\r\\n    // ----- advance activity\\r\\n    havoc $ActivityIndicator;\\r\\n    // ----- binary operator  ----- tmp4313.ssc(28,9)\\r\\n    // ----- branch  ----- tmp4313.ssc(28,9)\\r\\n    goto true1666to1598, false1666to1649;\\r\\n\\r\\n  true1666to1598:\\r\\n    assume i \\u003e y;\\r\\n    goto block1598;\\r\\n\\r\\n  false1666to1649:\\r\\n    assume i \\u003c= y;\\r\\n    goto block1649;\\r\\n\\r\\n  block1598:\\r\\n    // ----- copy  ----- tmp4313.ssc(64,9)\\r\\n    return.value := q;\\r\\n    // ----- branch\\r\\n    goto block1632;\\r\\n\\r\\n  block1649:\\r\\n    // ----- binary operator  ----- tmp4313.ssc(42,15)\\r\\n    stack0i := q + x;\\r\\n    // ----- copy  ----- tmp4313.ssc(42,15)\\r\\n    q := stack0i;\\r\\n    // ----- load constant 1  ----- tmp4313.ssc(56,15)\\r\\n    stack0i := 1;\\r\\n    // ----- binary operator  ----- tmp4313.ssc(56,15)\\r\\n    stack0i := i + stack0i;\\r\\n    // ----- copy  ----- tmp4313.ssc(56,15)\\r\\n    i := stack0i;\\r\\n    // ----- branch  ----- tmp4313.ssc(60,10)\\r\\n    goto block1666;\\r\\n\\r\\n  block1632:\\r\\n    // ----- copy\\r\\n    SS$Display.Return.Local := return.value;\\r\\n    // ----- copy  ----- tmp4313.ssc(66,3)\\r\\n    stack0i := return.value;\\r\\n    // ----- return  ----- tmp4313.ssc(66,3)\\r\\n    $result := stack0i;\\r\\n    return;\\r\\n\\r\\n  block1666$LoopPreheader:\\r\\n    $Heap$block1666$LoopPreheader := $Heap;\\r\\n    goto block1666;\\r\\n}\\r\\n\\r\\n\\r\\n\", \"boogie\", \"light-plus\"));}</script>\r\n"
      ]
     },
     "execution_count": 7,
     "metadata": {},
     "output_type": "execute_result"
    }
   ],
   "source": [
    "#!share test1 --from value\n",
    "Verifier.TranslateCode(test1, \"C\", \"multiply\", true)"
   ]
  },
  {
   "cell_type": "code",
   "execution_count": null,
   "id": "ada3d546",
   "metadata": {
    "slideshow": {
     "slide_type": "skip"
    }
   },
   "outputs": [],
   "source": [
    "using Silver.Drawing;\n",
    "var t = new TreeNode(\"foo\");\n",
    "t"
   ]
  },
  {
   "cell_type": "code",
   "execution_count": null,
   "id": "ed088c4b",
   "metadata": {
    "scrolled": true,
    "slideshow": {
     "slide_type": "skip"
    }
   },
   "outputs": [],
   "source": [
    "var td = new TreeDiagram(new [] {t});\n",
    "td"
   ]
  },
  {
   "cell_type": "code",
   "execution_count": null,
   "id": "0ff45114",
   "metadata": {
    "slideshow": {
     "slide_type": "skip"
    }
   },
   "outputs": [],
   "source": [
    "td"
   ]
  },
  {
   "cell_type": "code",
   "execution_count": null,
   "id": "d833c49b",
   "metadata": {
    "slideshow": {
     "slide_type": "skip"
    }
   },
   "outputs": [],
   "source": [
    "var gg = new TmHighlightedCode(\"boogie\", \"function {:bvbuiltin} bv8st(bv8,bv8) returns(bool);\");\n",
    "gg"
   ]
  },
  {
   "cell_type": "markdown",
   "id": "331e7cc0",
   "metadata": {
    "slideshow": {
     "slide_type": "skip"
    }
   },
   "source": []
  },
  {
   "cell_type": "markdown",
   "id": "e7fd8ead",
   "metadata": {
    "slideshow": {
     "slide_type": "slide"
    }
   },
   "source": [
    "# Formal verification"
   ]
  },
  {
   "cell_type": "markdown",
   "id": "28a3ac36",
   "metadata": {
    "slideshow": {
     "slide_type": "slide"
    }
   },
   "source": [
    "## Formal Verification - Key Questions\n",
    "-----------\n",
    "### <i class=\"fa fa-question-circle\" style=\"font-size:48px;color:black\"></i>  How do we *reason* about programs?\n",
    "e.g. consider the simple C# program below\n",
    "````csharp\n",
    "static bool Main(string [] args)\n",
    "{\n",
    "    for (int i = 0; i < 10; i++)\n",
    "    {\n",
    "        if (i < 5)\n",
    "        {\n",
    "            return true;\n",
    "        }\n",
    "    }\n",
    "    return false;\n",
    "}\n",
    "````\n",
    "Can we say logically that this method will never return false?"
   ]
  },
  {
   "cell_type": "markdown",
   "id": "cc45b942",
   "metadata": {
    "slideshow": {
     "slide_type": "slide"
    }
   },
   "source": [
    "## Formal Verification - Key Questions\n",
    "-----------\n",
    "### <i class=\"fa fa-question-circle\" style=\"font-size:48px;color:black\"></i>  How do we *reason* about programs?\n",
    "In this case the answer is yes. We can give an *informal* argument about why this statement or property of the program holds.\n",
    "````csharp\n",
    "static bool Main(string [] args)\n",
    "{\n",
    "    for (int i = 0; i < 10; i++)\n",
    "    {\n",
    "        //Loop variable is bounded by 10 so this condition will never hold\n",
    "        if (i > 15)\n",
    "        {\n",
    "            return true;\n",
    "        }\n",
    "    }\n",
    "    // Control always drop to this line\n",
    "    return false;\n",
    "}\n",
    "````"
   ]
  },
  {
   "cell_type": "markdown",
   "id": "cc8450d2",
   "metadata": {
    "slideshow": {
     "slide_type": "slide"
    }
   },
   "source": [
    "## Formal Verification - Key Questions\n",
    "-----------\n",
    " \n",
    "### <i class=\"fa fa-question-circle\" style=\"font-size:48px;color:black\"></i> How do we *prove* statements about programs?\n",
    "* A *logic* is a set of symbols, operators, rules, and axioms for composing and manipulating logical *formulae*\n",
    "* e.g a *propositional logic* formula is $X \\lor P \\implies X = P$\n",
    "* *First-order logic* is a common-variant of logic used in formal verification\n",
    "* First-order logic contains variables, functions, quantifiers,..many of the necessary elements for making statements about programs\n",
    "* A *formal proof* uses the rules and axioms of a logic to demonstrate the logical validity of a formula\n",
    "\n"
   ]
  },
  {
   "cell_type": "markdown",
   "id": "2f01cd56",
   "metadata": {
    "slideshow": {
     "slide_type": "slide"
    }
   },
   "source": [
    "## Formal Verification - Key Questions\n",
    "-----------\n",
    " ### <i class=\"fa fa-question-circle\" style=\"font-size:48px;color:black\"></i> How do we *prove* statements about programs?\n",
    "* An *annotation* is a logical formula about program variables which is always true when execution reaches the location e.g.\n",
    "````csharp\n",
    "static bool Main(string [] args)\n",
    "{\n",
    "    for (int i = 0; i < 10; i++)\n",
    "    {\n",
    "        // ∀𝑖:{ 𝑖 > 15 }\n",
    "        if (i > 15)\n",
    "        {\n",
    "            return true;\n",
    "        }\n",
    "    }\n",
    "    return false;\n",
    "}\n",
    "````"
   ]
  },
  {
   "cell_type": "markdown",
   "id": "94f8f0e4",
   "metadata": {
    "slideshow": {
     "slide_type": "slide"
    }
   },
   "source": [
    "## Formal Verification - Key Questions\n",
    "-----------\n",
    " ### <i class=\"fa fa-question-circle\" style=\"font-size:48px;color:black\"></i> How do we *prove* statements about programs?\n",
    "* An *function pre-condition* is an *annotation* about the variables in a function or procedure placed before it begins execution.\n",
    "\n",
    "* An *function post-condition* is an *annotation* about the variables in a function or procedure placed after it begins execution.\n",
    "\n",
    "* The set of annotations for a program can be transform into a set of formulae called *verification conditions*\n",
    "* Proving the verification conditions are valid means proving the program annotations are valid"
   ]
  },
  {
   "cell_type": "markdown",
   "id": "b5ca0ff9",
   "metadata": {
    "slideshow": {
     "slide_type": "slide"
    }
   },
   "source": [
    "## Formal Verification - Key Questions\n",
    "-----------\n",
    "### <i class=\"fa fa-question-circle\" style=\"font-size:36px;color:black\"></i> How can we *automate* proving statements about programs?\n",
    "* Many tools to automate proving \n",
    "* Satisfiability Modulo Theory (SMT) solvers like Z3 can prove a wide range of first-order logic formulae in the context of theories like integer arithmetic or arraya\n",
    "* If we derive verification conditions from program annotations we can use tools like Z3 to prove the formulae are valid"
   ]
  },
  {
   "cell_type": "markdown",
   "id": "a6a23807",
   "metadata": {
    "slideshow": {
     "slide_type": "slide"
    }
   },
   "source": [
    "## Formal Verification - Key Questions\n",
    "-----------\n",
    " \n",
    "### <i class=\"fa fa-question-circle\" style=\"font-size:48px;color:black\"></i> How can we *integrate* proving statements about programs into a languag ?\n",
    "* Several approaches to formal verificaion\n",
    "* \n",
    "* Z3 - Satisfiability Modulo Theory solvers\n",
    "*"
   ]
  },
  {
   "cell_type": "markdown",
   "id": "f470fb57",
   "metadata": {
    "slideshow": {
     "slide_type": "slide"
    }
   },
   "source": [
    "## Formal Verification - Hoare Logic\n",
    "-----------\n",
    " \n",
    "### <i class=\"fa fa-check-circle\" style=\"font-size:48px;color:black\"></i> How can we *integrate* proving statements about programs into a languag ?\n",
    "* Several approaches to formal verificaion\n",
    "* \n",
    "* Z3 - Satisfiability Modulo Theory solvers\n",
    "*"
   ]
  },
  {
   "cell_type": "markdown",
   "id": "8c52f0b9",
   "metadata": {
    "slideshow": {
     "slide_type": "slide"
    }
   },
   "source": [
    "## Formal Verification - Key Questions\n",
    "-----------\n",
    " \n",
    "### <i class=\"fa fa-check-circle\" style=\"font-size:48px;color:black\"></i> How can we *integrate* proofs of properties and statements about programs into a language ?\n",
    "* Use an entirely new language\n",
    "* Use a separate language for specification\n",
    "* Extend existing language"
   ]
  },
  {
   "cell_type": "markdown",
   "id": "47c763ce",
   "metadata": {
    "slideshow": {
     "slide_type": "slide"
    }
   },
   "source": [
    "## Smart Contract Formal Verification - Approaches\n",
    "-----------\n",
    " \n",
    "### <i class=\"fa fa-check-circle\" style=\"font-size:48px;color:black\"></i> Extending the existing langaguage\n",
    "* Add constructs or keywords or functions to express specifications\n",
    "* Use a compiler module or extension\n",
    "* Extend existing language"
   ]
  },
  {
   "cell_type": "markdown",
   "id": "846e610c",
   "metadata": {
    "slideshow": {
     "slide_type": "subslide"
    }
   },
   "source": [
    "## Smart Contract Formal Verification - Language Extensions\n",
    "-----------\n",
    " \n",
    "### <i class=\"fa fa-star\" style=\"font-size:48px;color:black\"></i> SMTChecker\n",
    "* https://docs.soliditylang.org/en/v0.8.17/smtchecker.html\n",
    "* Solidity compiler module\n",
    "* Enable with CLI flag `--model-checker-engine` or JSON option `settings.modelChecker.engine`\n",
    "* Add `require` and `assert` functions\n",
    "* Statically verify method preconditions and asserts in Solidity code"
   ]
  },
  {
   "cell_type": "markdown",
   "id": "37dd7217",
   "metadata": {
    "slideshow": {
     "slide_type": "subslide"
    }
   },
   "source": [
    "## Smart Contract Formal Verification - Language Extensions\n",
    "-----------\n",
    " \n",
    "### <i class=\"fa fa-star\" style=\"font-size:48px;color:black\"></i>SMTChecker\n",
    "```javascript\n",
    "// SPDX-License-Identifier: GPL-3.0\n",
    "pragma solidity >=0.8.0;\n",
    "\n",
    "contract Max {\n",
    "    function max(uint[] memory _a) public pure returns (uint) {\n",
    "        require(_a.length >= 5);\n",
    "        uint m = 0;\n",
    "        for (uint i = 0; i < _a.length; ++i)\n",
    "            if (_a[i] > m)\n",
    "                m = _a[i];\n",
    "\n",
    "        for (uint i = 0; i < _a.length; ++i)\n",
    "            assert(m > _a[i]);\n",
    "\n",
    "        return m;\n",
    "    }\n",
    "}\n",
    "````"
   ]
  },
  {
   "cell_type": "markdown",
   "id": "96788af7",
   "metadata": {
    "slideshow": {
     "slide_type": "slide"
    }
   },
   "source": [
    "## Smart Contract Formal Verification - Language Extensions\n",
    "-----------\n",
    " \n",
    "### <i class=\"fa fa-star\" style=\"font-size:48px;color:black\"></i> solc-verify\n",
    "* https://github.com/SRI-CSL/solidity\n",
    "* Solidity compiler fork\n",
    "* Translates Solidity code to Boogie IVL\n",
    "* Add support for verifying preconditions, postconditions, invariants"
   ]
  },
  {
   "cell_type": "markdown",
   "id": "c4491651",
   "metadata": {
    "slideshow": {
     "slide_type": "subslide"
    }
   },
   "source": [
    "## Smart Contract Formal Verification - Language Extensions\n",
    "-----------\n",
    " \n",
    "### <i class=\"fa fa-star\" style=\"font-size:48px;color:black\"></i> solc-verify\n",
    "```javascript\n",
    "pragma solidity >=0.5.0;\n",
    "\n",
    "/// @notice invariant x == y\n",
    "contract C {\n",
    "    int x;\n",
    "    int y;\n",
    "\n",
    "    /// @notice precondition x == y\n",
    "    /// @notice postcondition x == (y + n)\n",
    "    /// @notice modifies x\n",
    "    function add_to_x(int n) internal {\n",
    "        x = x + n;\n",
    "        require(x >= y); // Ensures that there is no overflow\n",
    "    }\n",
    "\n",
    "    /// @notice modifies x if n > 0\n",
    "    /// @notice modifies y if n > 0\n",
    "    function add(int n) public {\n",
    "        require(n >= 0);\n",
    "        add_to_x(n);\n",
    "        /// @notice invariant y <= x\n",
    "        while (y < x) {\n",
    "            y = y + 1;\n",
    "        }\n",
    "    }\n",
    "}\n",
    "````"
   ]
  },
  {
   "cell_type": "markdown",
   "id": "0335b672",
   "metadata": {
    "slideshow": {
     "slide_type": "slide"
    }
   },
   "source": [
    "## Smart Contract Formal Verification - Specification Languages\n",
    "-----------\n",
    " \n",
    "### <i class=\"fa fa-star\" style=\"font-size:48px;color:black\"></i> Act\n",
    "* https://github.com/ethereum/act\n",
    "* Ethereum smart contract specification language\n",
    "* Allows you to write and verify a high-level specification of a Solidity contract\n",
    "* Uses the [hevm](https://hackage.haskell.org/package/hevm) symbolic execution engine to prove equivalence between a contract specification and an implementation of that specification in EVM"
   ]
  },
  {
   "cell_type": "markdown",
   "id": "8b62fe23",
   "metadata": {
    "slideshow": {
     "slide_type": "subslide"
    }
   },
   "source": [
    "## Smart Contract Formal Verification - Specification Languages\n",
    "-----------\n",
    " \n",
    "### <i class=\"fa fa-star\" style=\"font-size:48px;color:black\"></i> Act - Example Contract\n",
    "````javascript\n",
    "constructor of Simple\n",
    "interface constructor()\n",
    "\n",
    "contract Simple {\n",
    "    uint val;\n",
    "\n",
    "    function set(uint x) external payable returns (uint) {\n",
    "        require(x > 100);\n",
    "        val = x;\n",
    "        return x;\n",
    "    }\n",
    "}\n",
    "````"
   ]
  },
  {
   "cell_type": "markdown",
   "id": "41cb678a",
   "metadata": {
    "slideshow": {
     "slide_type": "subslide"
    }
   },
   "source": [
    "## Smart Contract Formal Verification - Approaches\n",
    "-----------\n",
    " \n",
    "### <i class=\"fa fa-star\" style=\"font-size:48px;color:black\"></i> Act - Example Specification\n",
    "````haskell\n",
    "constructor of Simple\n",
    "interface constructor()\n",
    "\n",
    "creates\n",
    "\n",
    "  uint val := 0\n",
    "behaviour set of Simple\n",
    "interface set(uint x)\n",
    "\n",
    "iff\n",
    "\n",
    "  x > 100\n",
    "\n",
    "storage\n",
    "\n",
    "  val => x\n",
    "\n",
    "returns x\n",
    "````"
   ]
  },
  {
   "cell_type": "markdown",
   "id": "ca4637d0",
   "metadata": {
    "slideshow": {
     "slide_type": "subslide"
    }
   },
   "source": [
    "## Smart Contract Formal Verification - Approaches\n",
    "-----------\n",
    " \n",
    "### <i class=\"fa fa-exclamation-circle\" style=\"font-size:48px;color:black\"></i> What are some criticisms of current approaches?\n",
    "* The verification statements are in a totally different syntax than the code.\n",
    "\n",
    "* The verification statements are in different files than the code.\n",
    "\n",
    "* The basic syntax and semantics of the verification statements are not checked by the regular compiler. In too many systems, it's a comment to the compiler.\n",
    "\n",
    "* The verification toolchain and compile toolchain are completely separate.\n",
    "\n",
    "* Too much gratuitous abstraction. \"everything is predicate calculus\" or \"everything is a type\" or \"everything is functional\"."
   ]
  },
  {
   "cell_type": "markdown",
   "id": "38879053",
   "metadata": {
    "slideshow": {
     "slide_type": "slide"
    }
   },
   "source": [
    "# Silver\n",
    "-----------"
   ]
  },
  {
   "cell_type": "markdown",
   "id": "016a21ac",
   "metadata": {
    "slideshow": {
     "slide_type": "slide"
    }
   },
   "source": [
    "## Silver\n",
    "-----------\n",
    " \n",
    "### <i class=\"fa fa-exclamation-circle\" style=\"font-size:48px;color:black\"></i> Silver is a static analysis and formal verification tool for Stratis C# smart contracts\n",
    "* https://github.com/allisterb/Silver\n",
    "* Analyzes C# code both at the bytecode level and language \n",
    "* Multiple interfaces - CLI, Jupyter notebook, Visual Studio\n",
    "* Perform call-graph, control-flow, data-flow, and other types of static analysis\n",
    "* Perform formal verification of C# code using the Spec# compiler and verifier\n",
    "* Silver combi"
   ]
  },
  {
   "cell_type": "markdown",
   "id": "0cf8c30e",
   "metadata": {
    "slideshow": {
     "slide_type": "slide"
    }
   },
   "source": [
    "## Silver - static analysis\n",
    "* Performed at the bytecode level\n",
    "* Translate .NET IL code to a TAC\n"
   ]
  },
  {
   "cell_type": "markdown",
   "id": "6ae96162",
   "metadata": {
    "slideshow": {
     "slide_type": "slide"
    }
   },
   "source": [
    "## Silver - formal verification\n",
    "### <i class=\"fa fa-star\" style=\"font-size:48px;color:black\"></i> Spec# design goals \n",
    "* from [\"The Spec# Programming System:Challenges and Directions\"](https://www.microsoft.com/en-us/research/wp-content/uploads/2016/12/krml156.pdf)\n",
    "* build on a widely used object-oriented programming language; in our case C#;\n",
    "* build on existing infrastructure and allow interoperability with existing code, here\n",
    "the .NET runtime.\n",
    "* fully integrate into an development environment; in our case the Microsoft Visual\n",
    "Studio environment.\n",
    "* build on a teachable and sound methodology; in our case a revised design-by-contract methodology;\n",
    "* support a smooth adoption path whereby programmers can gradually start taking\n",
    "advantage of the benefits of specification;\n",
    "* be moderate; we added only a few constructs to C#, and soundness is guaranteed\n",
    "only as long as the source comes from constructs that are under our control"
   ]
  },
  {
   "cell_type": "markdown",
   "id": "90dc48e6",
   "metadata": {
    "slideshow": {
     "slide_type": "slide"
    }
   },
   "source": [
    "## Spec# - About #\n",
    "### <i class=\"fa fa-star\" style=\"font-size:48px;color:black\"></i> Spec# design goals\n",
    "* Shipped as a C# compiler, static verifier, Visual Studio extension\n",
    "* Originally targetted C# 2.0 and .NET Framework 2.0 and Visual Studio 2.0\n",
    "* Doesn't work on modern C# or .NET or Visual Studio "
   ]
  },
  {
   "cell_type": "markdown",
   "id": "469314a3",
   "metadata": {
    "slideshow": {
     "slide_type": "slide"
    }
   },
   "source": [
    "## Spec# - About\n",
    "----------\n",
    "* Add extensions for annotations to C#\n",
    "* Compile C# + annotations to IL\n",
    "* Transllate IL "
   ]
  },
  {
   "cell_type": "markdown",
   "id": "cd33640e",
   "metadata": {
    "slideshow": {
     "slide_type": "slide"
    }
   },
   "source": [
    "## About Spec#\n",
    "### <i class=\"fa fa-exclamation-circle\" style=\"font-size:48px;color:black\"></i> Original Spec#\n",
    "* Shipped as a C# compiler, static verifier, Visual Studio extension\n",
    "* Originally targetted C# 2.0 and .NET Framework 2.0 and Visual Studio 2.0\n",
    "* Doesn't work on modern C# or .NET or Visual Studio "
   ]
  },
  {
   "cell_type": "markdown",
   "id": "7d068d6f",
   "metadata": {
    "slideshow": {
     "slide_type": "slide"
    }
   },
   "source": [
    "# <i class=\"fa fa-question-circle\" style=\"font-size:48px;color:black\"></i> How can we repurpose Spec# to run on modern .NET and C#\""
   ]
  },
  {
   "cell_type": "markdown",
   "id": "6e3e8ee7",
   "metadata": {
    "slideshow": {
     "slide_type": "slide"
    }
   },
   "source": [
    "## Spec# - Modern Spec# #\n",
    "### <i class=\"fa fa-exclamation-circle\" style=\"font-size:48px;color:black\"></i> Design Goals#\n",
    "* Support all versions of C#\n",
    "* Maintain compatibility with existing C# compilers and tools\n",
    "* Can be run from different interfaces\n",
    "* Can integrate with Visual Studio"
   ]
  },
  {
   "cell_type": "markdown",
   "id": "66094336",
   "metadata": {
    "slideshow": {
     "slide_type": "slide"
    }
   },
   "source": [
    "## Spec# - Modern Spec# #\n",
    "### <i class=\"fa fa-star\" style=\"font-size:48px;color:black\"></i> Roslyn\n",
    "* C# Compiler API\n",
    "* Exposes all compiler functionality to user programs\n",
    "* Can do parsing, syntactic and semantic code analysis, and rewriting of C# code\n",
    "* Can integrate with Visual Studio"
   ]
  },
  {
   "cell_type": "markdown",
   "id": "b9389647",
   "metadata": {
    "slideshow": {
     "slide_type": "slide"
    }
   },
   "source": [
    "## Spec# - Modern Spec# #\n",
    "### <i class=\"fa fa-star\" style=\"font-size:48px;color:black\"></i> Roslyn\n",
    "* Use Roslyn syntax rewriter to rewrite \n",
    "* e.g. string interpolation"
   ]
  }
 ],
 "metadata": {
  "celltoolbar": "Slideshow",
  "kernelspec": {
   "display_name": ".NET (C#)",
   "language": "C#",
   "name": ".net-csharp"
  },
  "language_info": {
   "file_extension": ".cs",
   "mimetype": "text/x-csharp",
   "name": "C#",
   "pygments_lexer": "csharp",
   "version": "10.0"
  }
 },
 "nbformat": 4,
 "nbformat_minor": 5
}
