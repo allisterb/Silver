{
 "cells": [
  {
   "cell_type": "code",
   "execution_count": 23,
   "id": "1a995c17",
   "metadata": {},
   "outputs": [
    {
     "data": {
      "text/markdown": [
       "Added formatter for AGL graphs using VisJS to .NET Interactive kernel csharp."
      ]
     },
     "metadata": {},
     "output_type": "display_data"
    },
    {
     "data": {
      "text/markdown": [
       "Added formatter for Mermaid language to .NET Interactive kernel csharp."
      ]
     },
     "metadata": {},
     "output_type": "display_data"
    },
    {
     "data": {
      "text/markdown": [
       "Added formatter for DOT language to .NET Interactive kernel csharp."
      ]
     },
     "metadata": {},
     "output_type": "display_data"
    },
    {
     "data": {
      "text/markdown": [
       "Added formatter for VisJS networks to .NET Interactive kernel csharp."
      ]
     },
     "metadata": {},
     "output_type": "display_data"
    }
   ],
   "source": [
    "#load \"DotNetInteractive.csx\""
   ]
  },
  {
   "cell_type": "code",
   "execution_count": 24,
   "id": "7725ee91",
   "metadata": {},
   "outputs": [],
   "source": [
    "using Silver;\n",
    "using Silver.Notebooks;\n",
    "using Silver.Drawing.VisJS;"
   ]
  },
  {
   "cell_type": "code",
   "execution_count": 25,
   "id": "f0f24ebe",
   "metadata": {
    "scrolled": true
   },
   "outputs": [
    {
     "name": "stdout",
     "output_type": "stream",
     "text": [
      "[INFO] Target assembly is ..\\examples\\PingPongContract\\bin\\Debug\\netcoreapp3.1\\PingPongContract.dll.\n",
      "[INFO] Creating call graph for methods in assembly PingPongContract.dll...\n",
      "[WARN] The method () was not analyzed.\n",
      "[WARN] The method <Player>() was not analyzed.\n",
      "[WARN] The method <Starter.GameCreated>() was not analyzed.\n",
      "[INFO] Creating call graph for methods in assembly PingPongContract.dll completed in 1ms.\n"
     ]
    },
    {
     "data": {
      "text/html": [
       "<div>\r\n",
       "<script type=\"text/javascript\">\r\n",
       "loadVisjs_90954ee6a47940ce96504f9a827c4c4c = () => {\r\n",
       "(require.config({ 'paths': { 'context': '0.0.0', 'visjs' : 'https://visjs.github.io/vis-network/standalone/umd/vis-network.min', 'urlArgs': 'cacheBuster=1d7d8c99756443a1ab08db16361ac700' }}) || require)(['visjs'], (visjs) => {\r\n",
       "\r\n",
       "        let container = document.getElementById('90954ee6a47940ce96504f9a827c4c4c');\r\n",
       "        let data = {\r\n",
       "                        nodes: new visjs.DataSet([{\"id\":\"Player.PingsSent.set\",\"size\":150,\"label\":\"Player.PingsSent.set\",\"color\":{\"background\":\"#ffffff\"},\"shape\":\"box\",\"font\":{\"face\":\"monospace\",\"align\":\"left\"}},{\"id\":\"Starter..ctor\",\"size\":150,\"label\":\"Starter..ctor\",\"color\":{\"background\":\"#ffff00\"},\"shape\":\"box\",\"font\":{\"face\":\"monospace\",\"align\":\"left\"}},{\"id\":\"Player.State.set\",\"size\":150,\"label\":\"Player.State.set\",\"color\":{\"background\":\"#ffffff\"},\"shape\":\"box\",\"font\":{\"face\":\"monospace\",\"align\":\"left\"}},{\"id\":\"Player.PlayerAddress.set\",\"size\":150,\"label\":\"Player.PlayerAddress.set\",\"color\":{\"background\":\"#ffffff\"},\"shape\":\"box\",\"font\":{\"face\":\"monospace\",\"align\":\"left\"}},{\"id\":\"Player..ctor\",\"size\":150,\"label\":\"Player..ctor\",\"color\":{\"background\":\"#ffff00\"},\"shape\":\"box\",\"font\":{\"face\":\"monospace\",\"align\":\"left\"}},{\"id\":\"Player.Opponent.get\",\"size\":150,\"label\":\"Player.Opponent.get\",\"color\":{\"background\":\"#ffff00\"},\"shape\":\"box\",\"font\":{\"face\":\"monospace\",\"align\":\"left\"}},{\"id\":\"Player.FinishGame\",\"size\":150,\"label\":\"Player.FinishGame\",\"color\":{\"background\":\"#ffff00\"},\"shape\":\"box\",\"font\":{\"face\":\"monospace\",\"align\":\"left\"}},{\"id\":\"Player.PingsReceived.set\",\"size\":150,\"label\":\"Player.PingsReceived.set\",\"color\":{\"background\":\"#ffffff\"},\"shape\":\"box\",\"font\":{\"face\":\"monospace\",\"align\":\"left\"}},{\"id\":\"Player.ReceivePing\",\"size\":150,\"label\":\"Player.ReceivePing\",\"color\":{\"background\":\"#ffff00\"},\"shape\":\"box\",\"font\":{\"face\":\"monospace\",\"align\":\"left\"}},{\"id\":\"Player.GameName.get\",\"size\":150,\"label\":\"Player.GameName.get\",\"color\":{\"background\":\"#ffff00\"},\"shape\":\"box\",\"font\":{\"face\":\"monospace\",\"align\":\"left\"}},{\"id\":\"Player.Opponent.set\",\"size\":150,\"label\":\"Player.Opponent.set\",\"color\":{\"background\":\"#ffffff\"},\"shape\":\"box\",\"font\":{\"face\":\"monospace\",\"align\":\"left\"}},{\"id\":\"Player.State.get\",\"size\":150,\"label\":\"Player.State.get\",\"color\":{\"background\":\"#ffff00\"},\"shape\":\"box\",\"font\":{\"face\":\"monospace\",\"align\":\"left\"}},{\"id\":\"Starter.StartGame\",\"size\":150,\"label\":\"Starter.StartGame\",\"color\":{\"background\":\"#ffff00\"},\"shape\":\"box\",\"font\":{\"face\":\"monospace\",\"align\":\"left\"}},{\"id\":\"Player.PlayerAddress.get\",\"size\":150,\"label\":\"Player.PlayerAddress.get\",\"color\":{\"background\":\"#ffff00\"},\"shape\":\"box\",\"font\":{\"face\":\"monospace\",\"align\":\"left\"}},{\"id\":\"Player.PingsReceived.get\",\"size\":150,\"label\":\"Player.PingsReceived.get\",\"color\":{\"background\":\"#ffff00\"},\"shape\":\"box\",\"font\":{\"face\":\"monospace\",\"align\":\"left\"}},{\"id\":\"Player.PingsSent.get\",\"size\":150,\"label\":\"Player.PingsSent.get\",\"color\":{\"background\":\"#ffff00\"},\"shape\":\"box\",\"font\":{\"face\":\"monospace\",\"align\":\"left\"}},{\"id\":\"Player.SendPing\",\"size\":150,\"label\":\"Player.SendPing\",\"color\":{\"background\":\"#ffff00\"},\"shape\":\"box\",\"font\":{\"face\":\"monospace\",\"align\":\"left\"}},{\"id\":\"Player.GameName.set\",\"size\":150,\"label\":\"Player.GameName.set\",\"color\":{\"background\":\"#ffffff\"},\"shape\":\"box\",\"font\":{\"face\":\"monospace\",\"align\":\"left\"}},{\"id\":\"Player.IsFinished\",\"size\":150,\"label\":\"Player.IsFinished\",\"color\":{\"background\":\"#ffff00\"},\"shape\":\"box\",\"font\":{\"face\":\"monospace\",\"align\":\"left\"}}]), \r\n",
       "                        edges: new visjs.DataSet([{\"from\":\"Player..ctor\",\"to\":\"Player.Opponent.set\"},{\"from\":\"Player..ctor\",\"to\":\"Player.PlayerAddress.set\"},{\"from\":\"Player..ctor\",\"to\":\"Player.GameName.set\"},{\"from\":\"Player..ctor\",\"to\":\"Player.State.set\"},{\"from\":\"Player.FinishGame\",\"to\":\"Player.PlayerAddress.get\"},{\"from\":\"Player.FinishGame\",\"to\":\"Player.State.set\"},{\"from\":\"Player.ReceivePing\",\"to\":\"Player.PingsReceived.get\"},{\"from\":\"Player.ReceivePing\",\"to\":\"Player.PingsReceived.set\"},{\"from\":\"Player.ReceivePing\",\"to\":\"Player.Opponent.get\"},{\"from\":\"Player.ReceivePing\",\"to\":\"Player.State.set\"},{\"from\":\"Player.ReceivePing\",\"to\":\"Player.State.get\"},{\"from\":\"Player.ReceivePing\",\"to\":\"Player.State.get\"},{\"from\":\"Player.SendPing\",\"to\":\"Player.PingsSent.get\"},{\"from\":\"Player.SendPing\",\"to\":\"Player.Opponent.get\"},{\"from\":\"Player.SendPing\",\"to\":\"Player.Opponent.get\"},{\"from\":\"Player.SendPing\",\"to\":\"Player.PingsSent.set\"},{\"from\":\"Player.SendPing\",\"to\":\"Player.PlayerAddress.get\"},{\"from\":\"Player.SendPing\",\"to\":\"Player.State.set\"},{\"from\":\"Player.SendPing\",\"to\":\"Player.State.set\"},{\"from\":\"Player.SendPing\",\"to\":\"Player.State.get\"},{\"from\":\"Player.SendPing\",\"to\":\"Player.State.get\"},{\"from\":\"Player.IsFinished\",\"to\":\"Player.State.get\"}])\r\n",
       "                    };\r\n",
       "        let options = {\"autoResize\":false,\"manipulation\":false,\"width\":\"100%\",\"height\":\"600px\",\"layout\":{\"improvedLayout\":true,\"hierarchical\":{\"enabled\":true,\"sortMethod\":\"directed\",\"direction\":\"UD\",\"nodeSpacing\":300,\"levelSeparation\":300}},\"physics\":{\"hierarchicalRepulsion\":{\"nodeDistance\":300,\"avoidOverlap\":1.0}},\"edges\":{\"arrows\":{\"to\":{\"enabled\":true}},\"smooth\":{\"enabled\":true}},\"interaction\":{\"navigationButtons\":true}};\r\n",
       "        let network = new visjs.Network(container, data, options); \r\n",
       "        },\r\n",
       "        (error) => {\r\n",
       "            console.log(error);\r\n",
       "        });\r\n",
       "        }\r\n",
       "// ensure `require` is available globally\r\n",
       "if ((typeof(require) !==  typeof(Function)) || (typeof(require.config) !== typeof(Function))) {\r\n",
       "    let require_script = document.createElement('script');\r\n",
       "    require_script.setAttribute('src', 'https://cdnjs.cloudflare.com/ajax/libs/require.js/2.3.6/require.min.js');\r\n",
       "    require_script.setAttribute('type', 'text/javascript');\r\n",
       "    \r\n",
       "    \r\n",
       "    require_script.onload = function() {\r\n",
       "        loadVisjs_90954ee6a47940ce96504f9a827c4c4c();\r\n",
       "    };\r\n",
       "\r\n",
       "    document.getElementsByTagName('head')[0].appendChild(require_script);\r\n",
       "}\r\n",
       "else {\r\n",
       "    loadVisjs_90954ee6a47940ce96504f9a827c4c4c();\r\n",
       "}\r\n",
       "\r\n",
       "</script>\r\n",
       "<div id=\"90954ee6a47940ce96504f9a827c4c4c\" style=\"height:600px; width:100%\"></div>\r\n",
       "</div>\r\n"
      ]
     },
     "execution_count": 25,
     "metadata": {},
     "output_type": "execute_result"
    }
   ],
   "source": [
    "var an = IL.GetAnalyzer(@\"..\\examples\\PingPongContract\\bin\\Debug\\netcoreapp3.1\\PingPongContract.dll\");\n",
    "var g = an.GetCallGraph();\n",
    "g"
   ]
  },
  {
   "cell_type": "code",
   "execution_count": 26,
   "id": "bd268f48",
   "metadata": {},
   "outputs": [
    {
     "name": "stdout",
     "output_type": "stream",
     "text": [
      "[INFO] Creating control-flow graph for methods in assembly PingPongContract.dll...\n",
      "[INFO] Methods are already collected, reusing...\n",
      "[INFO] Created CFG nodes for method Player.PingsReceived.get().\n",
      "[INFO] Created CFG nodes for method Player.FinishGame().\n",
      "[INFO] Created CFG nodes for method Player.Opponent.set(Stratis.SmartContracts.Address).\n",
      "[INFO] Created CFG nodes for method Player.PingsReceived.set(System.UInt32).\n",
      "[INFO] Created CFG nodes for method Player.ReceivePing().\n",
      "[INFO] Created CFG nodes for method Player.PlayerAddress.set(Stratis.SmartContracts.Address).\n",
      "[INFO] Created CFG nodes for method Player.PingsSent.get().\n",
      "[INFO] Created CFG nodes for method Player.Opponent.get().\n",
      "[INFO] Created CFG nodes for method Player..ctor(Stratis.SmartContracts.ISmartContractState, Stratis.SmartContracts.Address, Stratis.SmartContracts.Address, System.String).\n",
      "[INFO] Created CFG nodes for method Player.GameName.get().\n",
      "[INFO] Created CFG nodes for method Player.SendPing().\n",
      "[INFO] Created CFG nodes for method Player.PingsSent.set(System.UInt32).\n",
      "[INFO] Created CFG nodes for method Player.PlayerAddress.get().\n",
      "[INFO] Created CFG nodes for method Player.GameName.set(System.String).\n",
      "[INFO] Created CFG nodes for method Player.IsFinished().\n",
      "[INFO] Created CFG nodes for method Player.State.set(System.UInt32).\n",
      "[INFO] Created CFG nodes for method Player.State.get().\n",
      "[INFO] Created CFG nodes for method Starter.StartGame(Stratis.SmartContracts.Address, Stratis.SmartContracts.Address, System.String).\n",
      "[INFO] Created CFG nodes for method Starter..ctor(Stratis.SmartContracts.ISmartContractState).\n",
      "[INFO] Creating control-flow graph for methods in assembly PingPongContract.dll completed in 4ms.\n"
     ]
    },
    {
     "data": {
      "text/html": [
       "<div>\r\n",
       "<script type=\"text/javascript\">\r\n",
       "loadVisjs_ded1c97a46b04a7bb6b56a0a1059b245 = () => {\r\n",
       "(require.config({ 'paths': { 'context': '0.0.0', 'visjs' : 'https://visjs.github.io/vis-network/standalone/umd/vis-network.min', 'urlArgs': 'cacheBuster=1d7d8c99756443a1ab08db16361ac700' }}) || require)(['visjs'], (visjs) => {\r\n",
       "\r\n",
       "        let container = document.getElementById('ded1c97a46b04a7bb6b56a0a1059b245');\r\n",
       "        let data = {\r\n",
       "                        nodes: new visjs.DataSet([{\"id\":\"Player.State.get()::2\",\"size\":150,\"label\":\"Node ID: Player.State.get()::2\\r\\nIL_0000: Ldarg_0\\r\\nIL_0001: Call [get] System.Linq.Enumerable+<TakeRangeFromEndIterator>d__245`1[System.Char].PersistentState\\r\\nIL_0006: Ldstr \\\"State\\\"\\r\\nIL_000b: Callvirt [method] System.UInt32 Stratis.SmartContracts.IPersistentState.GetUInt32(System.String)\\r\\nIL_0010: Ret\\r\\n\",\"color\":{\"background\":\"#ffffff\"},\"shape\":\"box\",\"font\":{\"face\":\"monospace\",\"align\":\"left\"}},{\"id\":\"Player.GameName.get()::0\",\"size\":150,\"label\":\"Player.GameName.get()\\r\\nLocation: PingPong.cs(49:16)-(49:59)\",\"color\":{\"background\":\"#ffff00\"},\"shape\":\"box\",\"font\":{\"face\":\"monospace\",\"align\":\"left\"}},{\"id\":\"Player.ReceivePing()::5\",\"size\":150,\"label\":\"Node ID: Player.ReceivePing()::5\\r\\nIL_0039: Ldstr \\\"Assert failed.\\\"\\r\\nIL_003e: Call [method] System.Void Stratis.SmartContracts.SmartContract.Assert(System.Boolean, System.String)\\r\\nIL_0043: Nop\\r\\nIL_0044: Ldarg_0\\r\\nIL_0045: Ldc_I4_2 2\\r\\nIL_0046: Call [method] System.Void Player.State.set(System.UInt32)\\r\\nIL_004b: Nop\\r\\nIL_004c: Nop\\r\\nIL_004d: Ldarg_0\\r\\nIL_004e: Ldarg_0\\r\\nIL_004f: Call [method] System.UInt32 Player.PingsReceived.get()\\r\\nIL_0054: Ldc_I4_1 1\\r\\nIL_0055: Add\\r\\nIL_0056: Call [method] System.Void Player.PingsReceived.set(System.UInt32)\\r\\nIL_005b: Nop\\r\\nIL_005c: Nop\\r\\nIL_005d: Ret\\r\\n\",\"color\":{\"background\":\"#ffffff\"},\"shape\":\"box\",\"font\":{\"face\":\"monospace\",\"align\":\"left\"}},{\"id\":\"Player.SendPing()::7\",\"size\":150,\"label\":\"Node ID: Player.SendPing()::7\\r\\nIL_007c: Nop\\r\\nIL_007d: Ldarg_0\\r\\nIL_007e: Ldc_I4_3 3\\r\\nIL_007f: Call [method] System.Void Player.State.set(System.UInt32)\\r\\nIL_0084: Nop\\r\\nIL_0085: Br_S IL_00c9\\r\\n\",\"color\":{\"background\":\"#ffffff\"},\"shape\":\"box\",\"font\":{\"face\":\"monospace\",\"align\":\"left\"}},{\"id\":\"Player.PingsReceived.get()::0\",\"size\":150,\"label\":\"Player.PingsReceived.get()\\r\\nLocation: PingPong.cs(62:9)-(62:10)\",\"color\":{\"background\":\"#ffff00\"},\"shape\":\"box\",\"font\":{\"face\":\"monospace\",\"align\":\"left\"}},{\"id\":\"Player.IsFinished()::0\",\"size\":150,\"label\":\"Player.IsFinished()\\r\\nLocation: PingPong.cs(113:5)-(113:6)\",\"color\":{\"background\":\"#ffff00\"},\"shape\":\"box\",\"font\":{\"face\":\"monospace\",\"align\":\"left\"}},{\"id\":\"Player.State.get()::0\",\"size\":150,\"label\":\"Player.State.get()\\r\\nLocation: PingPong.cs(30:16)-(30:56)\",\"color\":{\"background\":\"#ffff00\"},\"shape\":\"box\",\"font\":{\"face\":\"monospace\",\"align\":\"left\"}},{\"id\":\"Player.PingsReceived.set(System.UInt32)::2\",\"size\":150,\"label\":\"Node ID: Player.PingsReceived.set(System.UInt32)::2\\r\\nIL_0000: Ldarg_0\\r\\nIL_0001: Call [get] System.Linq.Enumerable+<TakeRangeFromEndIterator>d__245`1[System.Char].PersistentState\\r\\nIL_0006: Ldstr \\\"PingsReceived\\\"\\r\\nIL_000b: Ldarg_1 value\\r\\nIL_000c: Callvirt [method] System.Void Stratis.SmartContracts.IPersistentState.SetUInt32(System.String, System.UInt32)\\r\\nIL_0011: Nop\\r\\nIL_0012: Ret\\r\\n\",\"color\":{\"background\":\"#ffffff\"},\"shape\":\"box\",\"font\":{\"face\":\"monospace\",\"align\":\"left\"}},{\"id\":\"Player.PingsReceived.set(System.UInt32)::0\",\"size\":150,\"label\":\"Player.PingsReceived.set(System.UInt32)\\r\\nLocation: PingPong.cs(67:24)-(67:79)\",\"color\":{\"background\":\"#ffffff\"},\"shape\":\"box\",\"font\":{\"face\":\"monospace\",\"align\":\"left\"}},{\"id\":\"Starter.StartGame(Stratis.SmartContracts.Address, Stratis.SmartContracts.Address, System.String)::0\",\"size\":150,\"label\":\"Starter.StartGame(Stratis.SmartContracts.Address, Stratis.SmartContracts.Address, System.String)\\r\\nLocation: PingPong.cs(141:5)-(141:6)\",\"color\":{\"background\":\"#ffff00\"},\"shape\":\"box\",\"font\":{\"face\":\"monospace\",\"align\":\"left\"}},{\"id\":\"Player.PlayerAddress.set(Stratis.SmartContracts.Address)::2\",\"size\":150,\"label\":\"Node ID: Player.PlayerAddress.set(Stratis.SmartContracts.Address)::2\\r\\nIL_0000: Ldarg_0\\r\\nIL_0001: Call [get] System.Linq.Enumerable+<TakeRangeFromEndIterator>d__245`1[System.Char].PersistentState\\r\\nIL_0006: Ldstr \\\"PlayerAddress\\\"\\r\\nIL_000b: Ldarg_1 value\\r\\nIL_000c: Callvirt [method] System.Void Stratis.SmartContracts.IPersistentState.SetAddress(System.String, Stratis.SmartContracts.Address)\\r\\nIL_0011: Nop\\r\\nIL_0012: Ret\\r\\n\",\"color\":{\"background\":\"#ffffff\"},\"shape\":\"box\",\"font\":{\"face\":\"monospace\",\"align\":\"left\"}},{\"id\":\"Player.Opponent.set(Stratis.SmartContracts.Address)::0\",\"size\":150,\"label\":\"Player.Opponent.set(Stratis.SmartContracts.Address)\\r\\nLocation: PingPong.cs(37:24)-(37:75)\",\"color\":{\"background\":\"#ffffff\"},\"shape\":\"box\",\"font\":{\"face\":\"monospace\",\"align\":\"left\"}},{\"id\":\"Player.Opponent.get()::0\",\"size\":150,\"label\":\"Player.Opponent.get()\\r\\nLocation: PingPong.cs(36:16)-(36:60)\",\"color\":{\"background\":\"#ffff00\"},\"shape\":\"box\",\"font\":{\"face\":\"monospace\",\"align\":\"left\"}},{\"id\":\"Player.PingsReceived.get()::2\",\"size\":150,\"label\":\"Node ID: Player.PingsReceived.get()::2\\r\\nIL_0000: Nop\\r\\nIL_0001: Ldarg_0\\r\\nIL_0002: Call [get] System.Linq.Enumerable+<TakeRangeFromEndIterator>d__245`1[System.Char].PersistentState\\r\\nIL_0007: Ldstr \\\"PingsReceived\\\"\\r\\nIL_000c: Callvirt [method] System.UInt32 Stratis.SmartContracts.IPersistentState.GetUInt32(System.String)\\r\\nIL_0011: Stloc_0 local_0\\r\\nIL_0012: Br_S IL_0014\\r\\n\",\"color\":{\"background\":\"#ffffff\"},\"shape\":\"box\",\"font\":{\"face\":\"monospace\",\"align\":\"left\"}},{\"id\":\"Player.SendPing()::2\",\"size\":150,\"label\":\"Node ID: Player.SendPing()::2\\r\\nIL_0000: Nop\\r\\nIL_0001: Ldarg_0\\r\\nIL_0002: Ldarg_0\\r\\nIL_0003: Call [get] System.Linq.Enumerable+<TakeRangeFromEndIterator>d__245`1[System.Char].Message\\r\\nIL_0008: Callvirt [get] System.Linq.Enumerable+<TakeRangeFromEndIterator>d__245`1[System.Char].Sender\\r\\nIL_000d: Ldarg_0\\r\\nIL_000e: Call [method] Stratis.SmartContracts.Address Player.PlayerAddress.get()\\r\\nIL_0013: Call [method] System.Boolean Stratis.SmartContracts.Address.op_Equality(Stratis.SmartContracts.Address, Stratis.SmartContracts.Address)\\r\\nIL_0018: Ldstr \\\"Assert failed.\\\"\\r\\nIL_001d: Call [method] System.Void Stratis.SmartContracts.SmartContract.Assert(System.Boolean, System.String)\\r\\nIL_0022: Nop\\r\\nIL_0023: Ldarg_0\\r\\nIL_0024: Ldarg_0\\r\\nIL_0025: Call [method] System.UInt32 Player.State.get()\\r\\nIL_002a: Ldc_I4_2 2\\r\\nIL_002b: Beq_S IL_0038\\r\\n\",\"color\":{\"background\":\"#ffffff\"},\"shape\":\"box\",\"font\":{\"face\":\"monospace\",\"align\":\"left\"}},{\"id\":\"Starter.StartGame(Stratis.SmartContracts.Address, Stratis.SmartContracts.Address, System.String)::2\",\"size\":150,\"label\":\"Node ID: Starter.StartGame(Stratis.SmartContracts.Address, Stratis.SmartContracts.Address, System.String)::2\\r\\nIL_0000: Nop\\r\\nIL_0001: Ldarg_0\\r\\nIL_0002: Ldc_I4_0 0\\r\\nIL_0003: Conv_I8\\r\\nIL_0004: Ldc_I4_3 3\\r\\nIL_0005: Newarr System.Object[]\\r\\nIL_000a: Dup\\r\\nIL_000b: Ldc_I4_0 0\\r\\nIL_000c: Ldarg_1 player1\\r\\nIL_000d: Box Stratis.SmartContracts.Address\\r\\nIL_0012: Stelem_Ref\\r\\nIL_0013: Dup\\r\\nIL_0014: Ldc_I4_1 1\\r\\nIL_0015: Ldarg_2 player2\\r\\nIL_0016: Box Stratis.SmartContracts.Address\\r\\nIL_001b: Stelem_Ref\\r\\nIL_001c: Dup\\r\\nIL_001d: Ldc_I4_2 2\\r\\nIL_001e: Ldarg_3 gameName\\r\\nIL_001f: Stelem_Ref\\r\\nIL_0020: Ldc_I4_0 0\\r\\nIL_0021: Conv_I8\\r\\nIL_0022: Call [method] Stratis.SmartContracts.ICreateResult Stratis.SmartContracts.SmartContract.Create<Player>(System.UInt64, System.Object[], System.UInt64)\\r\\nIL_0027: Stloc_0 local_0\\r\\nIL_0028: Ldarg_0\\r\\nIL_0029: Ldloc_0 local_0\\r\\nIL_002a: Callvirt [get] System.Linq.Enumerable+<TakeRangeFromEndIterator>d__245`1[System.Char].Success\\r\\nIL_002f: Ldstr \\\"Assert failed.\\\"\\r\\nIL_0034: Call [method] System.Void Stratis.SmartContracts.SmartContract.Assert(System.Boolean, System.String)\\r\\nIL_0039: Nop\\r\\nIL_003a: Ldarg_0\\r\\nIL_003b: Ldc_I4_0 0\\r\\nIL_003c: Conv_I8\\r\\nIL_003d: Ldc_I4_3 3\\r\\nIL_003e: Newarr System.Object[]\\r\\nIL_0043: Dup\\r\\nIL_0044: Ldc_I4_0 0\\r\\nIL_0045: Ldarg_2 player2\\r\\nIL_0046: Box Stratis.SmartContracts.Address\\r\\nIL_004b: Stelem_Ref\\r\\nIL_004c: Dup\\r\\nIL_004d: Ldc_I4_1 1\\r\\nIL_004e: Ldarg_1 player1\\r\\nIL_004f: Box Stratis.SmartContracts.Address\\r\\nIL_0054: Stelem_Ref\\r\\nIL_0055: Dup\\r\\nIL_0056: Ldc_I4_2 2\\r\\nIL_0057: Ldarg_3 gameName\\r\\nIL_0058: Stelem_Ref\\r\\nIL_0059: Ldc_I4_0 0\\r\\nIL_005a: Conv_I8\\r\\nIL_005b: Call [method] Stratis.SmartContracts.ICreateResult Stratis.SmartContracts.SmartContract.Create<Player>(System.UInt64, System.Object[], System.UInt64)\\r\\nIL_0060: Stloc_1 local_1\\r\\nIL_0061: Ldarg_0\\r\\nIL_0062: Ldloc_1 local_1\\r\\nIL_0063: Callvirt [get] System.Linq.Enumerable+<TakeRangeFromEndIterator>d__245`1[System.Char].Success\\r\\nIL_0068: Ldstr \\\"Assert failed.\\\"\\r\\nIL_006d: Call [method] System.Void Stratis.SmartContracts.SmartContract.Assert(System.Boolean, System.String)\\r\\nIL_0072: Nop\\r\\nIL_0073: Ldloca_S local_2\\r\\nIL_0075: Initobj Starter.GameCreated\\r\\nIL_007b: Ldloca_S local_2\\r\\nIL_007d: Ldloc_0 local_0\\r\\nIL_007e: Callvirt [get] System.Linq.Enumerable+<TakeRangeFromEndIterator>d__245`1[System.Char].NewContractAddress\\r\\nIL_0083: Stfld [field] Starter.GameCreated.Player1Contract\\r\\nIL_0088: Ldloca_S local_2\\r\\nIL_008a: Ldloc_1 local_1\\r\\nIL_008b: Callvirt [get] System.Linq.Enumerable+<TakeRangeFromEndIterator>d__245`1[System.Char].NewContractAddress\\r\\nIL_0090: Stfld [field] Starter.GameCreated.Player2Contract\\r\\nIL_0095: Ldloca_S local_2\\r\\nIL_0097: Ldarg_3 gameName\\r\\nIL_0098: Stfld [field] Starter.GameCreated.GameName\\r\\nIL_009d: Ldarg_0\\r\\nIL_009e: Ldloc_2 local_2\\r\\nIL_009f: Call [method] System.Void Stratis.SmartContracts.SmartContract.Log<Starter.GameCreated>(Starter.GameCreated)\\r\\nIL_00a4: Nop\\r\\nIL_00a5: Ret\\r\\n\",\"color\":{\"background\":\"#ffffff\"},\"shape\":\"box\",\"font\":{\"face\":\"monospace\",\"align\":\"left\"}},{\"id\":\"Player.FinishGame()::0\",\"size\":150,\"label\":\"Player.FinishGame()\\r\\nLocation: PingPong.cs(118:5)-(118:6)\",\"color\":{\"background\":\"#ffff00\"},\"shape\":\"box\",\"font\":{\"face\":\"monospace\",\"align\":\"left\"}},{\"id\":\"Player..ctor(Stratis.SmartContracts.ISmartContractState, Stratis.SmartContracts.Address, Stratis.SmartContracts.Address, System.String)::2\",\"size\":150,\"label\":\"Node ID: Player..ctor(Stratis.SmartContracts.ISmartContractState, Stratis.SmartContracts.Address, Stratis.SmartContracts.Address, System.String)::2\\r\\nIL_0000: Ldarg_0\\r\\nIL_0001: Ldarg_1 state\\r\\nIL_0002: Call [method] System.Void Stratis.SmartContracts.SmartContract..ctor(Stratis.SmartContracts.ISmartContractState)\\r\\nIL_0007: Nop\\r\\nIL_0008: Nop\\r\\nIL_0009: Ldarg_0\\r\\nIL_000a: Ldarg_2 player\\r\\nIL_000b: Call [method] System.Void Player.PlayerAddress.set(Stratis.SmartContracts.Address)\\r\\nIL_0010: Nop\\r\\nIL_0011: Ldarg_0\\r\\nIL_0012: Ldarg_3 opponent\\r\\nIL_0013: Call [method] System.Void Player.Opponent.set(Stratis.SmartContracts.Address)\\r\\nIL_0018: Nop\\r\\nIL_0019: Ldarg_0\\r\\nIL_001a: Ldarg_S gameName\\r\\nIL_001c: Call [method] System.Void Player.GameName.set(System.String)\\r\\nIL_0021: Nop\\r\\nIL_0022: Ldarg_0\\r\\nIL_0023: Ldc_I4_0 0\\r\\nIL_0024: Call [method] System.Void Player.State.set(System.UInt32)\\r\\nIL_0029: Nop\\r\\nIL_002a: Ret\\r\\n\",\"color\":{\"background\":\"#ffffff\"},\"shape\":\"box\",\"font\":{\"face\":\"monospace\",\"align\":\"left\"}},{\"id\":\"Player.IsFinished()::2\",\"size\":150,\"label\":\"Node ID: Player.IsFinished()::2\\r\\nIL_0000: Nop\\r\\nIL_0001: Ldarg_0\\r\\nIL_0002: Call [method] System.UInt32 Player.State.get()\\r\\nIL_0007: Ldc_I4_3 3\\r\\nIL_0008: Ceq\\r\\nIL_000a: Stloc_0 local_0\\r\\nIL_000b: Br_S IL_000d\\r\\n\",\"color\":{\"background\":\"#ffffff\"},\"shape\":\"box\",\"font\":{\"face\":\"monospace\",\"align\":\"left\"}},{\"id\":\"Starter..ctor(Stratis.SmartContracts.ISmartContractState)::0\",\"size\":150,\"label\":\"Starter..ctor(Stratis.SmartContracts.ISmartContractState)\\r\\nLocation: PingPong.cs(128:11)-(128:22)\",\"color\":{\"background\":\"#ffff00\"},\"shape\":\"box\",\"font\":{\"face\":\"monospace\",\"align\":\"left\"}},{\"id\":\"Player.SendPing()::5\",\"size\":150,\"label\":\"Node ID: Player.SendPing()::5\\r\\nIL_0039: Ldstr \\\"Assert failed.\\\"\\r\\nIL_003e: Call [method] System.Void Stratis.SmartContracts.SmartContract.Assert(System.Boolean, System.String)\\r\\nIL_0043: Nop\\r\\nIL_0044: Ldarg_0\\r\\nIL_0045: Ldarg_0\\r\\nIL_0046: Call [method] Stratis.SmartContracts.Address Player.Opponent.get()\\r\\nIL_004b: Ldc_I4_0 0\\r\\nIL_004c: Conv_I8\\r\\nIL_004d: Ldstr \\\"IsFinished\\\"\\r\\nIL_0052: Ldnull\\r\\nIL_0053: Ldc_I4_0 0\\r\\nIL_0054: Conv_I8\\r\\nIL_0055: Call [method] Stratis.SmartContracts.ITransferResult Stratis.SmartContracts.SmartContract.Call(Stratis.SmartContracts.Address, System.UInt64, System.String, System.Object[], System.UInt64)\\r\\nIL_005a: Stloc_0 local_0\\r\\nIL_005b: Ldarg_0\\r\\nIL_005c: Ldloc_0 local_0\\r\\nIL_005d: Callvirt [get] System.Linq.Enumerable+<TakeRangeFromEndIterator>d__245`1[System.Char].Success\\r\\nIL_0062: Ldstr \\\"Assert failed.\\\"\\r\\nIL_0067: Call [method] System.Void Stratis.SmartContracts.SmartContract.Assert(System.Boolean, System.String)\\r\\nIL_006c: Nop\\r\\nIL_006d: Ldloc_0 local_0\\r\\nIL_006e: Callvirt [get] System.Linq.Enumerable+<TakeRangeFromEndIterator>d__245`1[System.Char].ReturnValue\\r\\nIL_0073: Unbox_Any System.Boolean\\r\\nIL_0078: Stloc_2 local_2\\r\\nIL_0079: Ldloc_2 local_2\\r\\nIL_007a: Brfalse_S IL_0087\\r\\n\",\"color\":{\"background\":\"#ffffff\"},\"shape\":\"box\",\"font\":{\"face\":\"monospace\",\"align\":\"left\"}},{\"id\":\"Player.SendPing()::3\",\"size\":150,\"label\":\"Node ID: Player.SendPing()::3\\r\\nIL_0038: Ldc_I4_1 1\\r\\n\",\"color\":{\"background\":\"#ffffff\"},\"shape\":\"box\",\"font\":{\"face\":\"monospace\",\"align\":\"left\"}},{\"id\":\"Player.ReceivePing()::2\",\"size\":150,\"label\":\"Node ID: Player.ReceivePing()::2\\r\\nIL_0000: Nop\\r\\nIL_0001: Ldarg_0\\r\\nIL_0002: Ldarg_0\\r\\nIL_0003: Call [get] System.Linq.Enumerable+<TakeRangeFromEndIterator>d__245`1[System.Char].Message\\r\\nIL_0008: Callvirt [get] System.Linq.Enumerable+<TakeRangeFromEndIterator>d__245`1[System.Char].Sender\\r\\nIL_000d: Ldarg_0\\r\\nIL_000e: Call [method] Stratis.SmartContracts.Address Player.Opponent.get()\\r\\nIL_0013: Call [method] System.Boolean Stratis.SmartContracts.Address.op_Equality(Stratis.SmartContracts.Address, Stratis.SmartContracts.Address)\\r\\nIL_0018: Ldstr \\\"Assert failed.\\\"\\r\\nIL_001d: Call [method] System.Void Stratis.SmartContracts.SmartContract.Assert(System.Boolean, System.String)\\r\\nIL_0022: Nop\\r\\nIL_0023: Ldarg_0\\r\\nIL_0024: Ldarg_0\\r\\nIL_0025: Call [method] System.UInt32 Player.State.get()\\r\\nIL_002a: Ldc_I4_1 1\\r\\nIL_002b: Beq_S IL_0038\\r\\n\",\"color\":{\"background\":\"#ffffff\"},\"shape\":\"box\",\"font\":{\"face\":\"monospace\",\"align\":\"left\"}},{\"id\":\"Player.State.set(System.UInt32)::0\",\"size\":150,\"label\":\"Player.State.set(System.UInt32)\\r\\nLocation: PingPong.cs(31:24)-(31:71)\",\"color\":{\"background\":\"#ffffff\"},\"shape\":\"box\",\"font\":{\"face\":\"monospace\",\"align\":\"left\"}},{\"id\":\"Player.SendPing()::0\",\"size\":150,\"label\":\"Player.SendPing()\\r\\nLocation: PingPong.cs(86:5)-(86:6)\",\"color\":{\"background\":\"#ffff00\"},\"shape\":\"box\",\"font\":{\"face\":\"monospace\",\"align\":\"left\"}},{\"id\":\"Player.PingsSent.set(System.UInt32)::0\",\"size\":150,\"label\":\"Player.PingsSent.set(System.UInt32)\\r\\nLocation: PingPong.cs(56:24)-(56:75)\",\"color\":{\"background\":\"#ffffff\"},\"shape\":\"box\",\"font\":{\"face\":\"monospace\",\"align\":\"left\"}},{\"id\":\"Player.SendPing()::8\",\"size\":150,\"label\":\"Node ID: Player.SendPing()::8\\r\\nIL_00c9: Ret\\r\\n\",\"color\":{\"background\":\"#ffffff\"},\"shape\":\"box\",\"font\":{\"face\":\"monospace\",\"align\":\"left\"}},{\"id\":\"Player.ReceivePing()::0\",\"size\":150,\"label\":\"Player.ReceivePing()\\r\\nLocation: PingPong.cs(72:5)-(72:6)\",\"color\":{\"background\":\"#ffff00\"},\"shape\":\"box\",\"font\":{\"face\":\"monospace\",\"align\":\"left\"}},{\"id\":\"Player.PingsSent.set(System.UInt32)::2\",\"size\":150,\"label\":\"Node ID: Player.PingsSent.set(System.UInt32)::2\\r\\nIL_0000: Ldarg_0\\r\\nIL_0001: Call [get] System.Linq.Enumerable+<TakeRangeFromEndIterator>d__245`1[System.Char].PersistentState\\r\\nIL_0006: Ldstr \\\"PingsSent\\\"\\r\\nIL_000b: Ldarg_1 value\\r\\nIL_000c: Callvirt [method] System.Void Stratis.SmartContracts.IPersistentState.SetUInt32(System.String, System.UInt32)\\r\\nIL_0011: Nop\\r\\nIL_0012: Ret\\r\\n\",\"color\":{\"background\":\"#ffffff\"},\"shape\":\"box\",\"font\":{\"face\":\"monospace\",\"align\":\"left\"}},{\"id\":\"Player.Opponent.set(Stratis.SmartContracts.Address)::2\",\"size\":150,\"label\":\"Node ID: Player.Opponent.set(Stratis.SmartContracts.Address)::2\\r\\nIL_0000: Ldarg_0\\r\\nIL_0001: Call [get] System.Linq.Enumerable+<TakeRangeFromEndIterator>d__245`1[System.Char].PersistentState\\r\\nIL_0006: Ldstr \\\"Opponent\\\"\\r\\nIL_000b: Ldarg_1 value\\r\\nIL_000c: Callvirt [method] System.Void Stratis.SmartContracts.IPersistentState.SetAddress(System.String, Stratis.SmartContracts.Address)\\r\\nIL_0011: Nop\\r\\nIL_0012: Ret\\r\\n\",\"color\":{\"background\":\"#ffffff\"},\"shape\":\"box\",\"font\":{\"face\":\"monospace\",\"align\":\"left\"}},{\"id\":\"Player.PlayerAddress.get()::0\",\"size\":150,\"label\":\"Player.PlayerAddress.get()\\r\\nLocation: PingPong.cs(43:16)-(43:65)\",\"color\":{\"background\":\"#ffff00\"},\"shape\":\"box\",\"font\":{\"face\":\"monospace\",\"align\":\"left\"}},{\"id\":\"Player.GameName.set(System.String)::0\",\"size\":150,\"label\":\"Player.GameName.set(System.String)\\r\\nLocation: PingPong.cs(50:24)-(50:74)\",\"color\":{\"background\":\"#ffffff\"},\"shape\":\"box\",\"font\":{\"face\":\"monospace\",\"align\":\"left\"}},{\"id\":\"Player.GameName.get()::2\",\"size\":150,\"label\":\"Node ID: Player.GameName.get()::2\\r\\nIL_0000: Ldarg_0\\r\\nIL_0001: Call [get] System.Linq.Enumerable+<TakeRangeFromEndIterator>d__245`1[System.Char].PersistentState\\r\\nIL_0006: Ldstr \\\"GameName\\\"\\r\\nIL_000b: Callvirt [method] System.String Stratis.SmartContracts.IPersistentState.GetString(System.String)\\r\\nIL_0010: Ret\\r\\n\",\"color\":{\"background\":\"#ffffff\"},\"shape\":\"box\",\"font\":{\"face\":\"monospace\",\"align\":\"left\"}},{\"id\":\"Player.IsFinished()::3\",\"size\":150,\"label\":\"Node ID: Player.IsFinished()::3\\r\\nIL_000d: Ldloc_0 local_0\\r\\nIL_000e: Ret\\r\\n\",\"color\":{\"background\":\"#ffffff\"},\"shape\":\"box\",\"font\":{\"face\":\"monospace\",\"align\":\"left\"}},{\"id\":\"Player.ReceivePing()::4\",\"size\":150,\"label\":\"Node ID: Player.ReceivePing()::4\\r\\nIL_002d: Ldarg_0\\r\\nIL_002e: Call [method] System.UInt32 Player.State.get()\\r\\nIL_0033: Ldc_I4_0 0\\r\\nIL_0034: Ceq\\r\\nIL_0036: Br_S IL_0039\\r\\n\",\"color\":{\"background\":\"#ffffff\"},\"shape\":\"box\",\"font\":{\"face\":\"monospace\",\"align\":\"left\"}},{\"id\":\"Starter..ctor(Stratis.SmartContracts.ISmartContractState)::2\",\"size\":150,\"label\":\"Node ID: Starter..ctor(Stratis.SmartContracts.ISmartContractState)::2\\r\\nIL_0000: Ldarg_0\\r\\nIL_0001: Ldarg_1 state\\r\\nIL_0002: Call [method] System.Void Stratis.SmartContracts.SmartContract..ctor(Stratis.SmartContracts.ISmartContractState)\\r\\nIL_0007: Nop\\r\\nIL_0008: Nop\\r\\nIL_0009: Ret\\r\\n\",\"color\":{\"background\":\"#ffffff\"},\"shape\":\"box\",\"font\":{\"face\":\"monospace\",\"align\":\"left\"}},{\"id\":\"Player.PingsSent.get()::2\",\"size\":150,\"label\":\"Node ID: Player.PingsSent.get()::2\\r\\nIL_0000: Ldarg_0\\r\\nIL_0001: Call [get] System.Linq.Enumerable+<TakeRangeFromEndIterator>d__245`1[System.Char].PersistentState\\r\\nIL_0006: Ldstr \\\"PingsSent\\\"\\r\\nIL_000b: Callvirt [method] System.UInt32 Stratis.SmartContracts.IPersistentState.GetUInt32(System.String)\\r\\nIL_0010: Ret\\r\\n\",\"color\":{\"background\":\"#ffffff\"},\"shape\":\"box\",\"font\":{\"face\":\"monospace\",\"align\":\"left\"}},{\"id\":\"Player.ReceivePing()::3\",\"size\":150,\"label\":\"Node ID: Player.ReceivePing()::3\\r\\nIL_0038: Ldc_I4_1 1\\r\\n\",\"color\":{\"background\":\"#ffffff\"},\"shape\":\"box\",\"font\":{\"face\":\"monospace\",\"align\":\"left\"}},{\"id\":\"Player.PingsSent.get()::0\",\"size\":150,\"label\":\"Player.PingsSent.get()\\r\\nLocation: PingPong.cs(55:16)-(55:60)\",\"color\":{\"background\":\"#ffff00\"},\"shape\":\"box\",\"font\":{\"face\":\"monospace\",\"align\":\"left\"}},{\"id\":\"Player.SendPing()::6\",\"size\":150,\"label\":\"Node ID: Player.SendPing()::6\\r\\nIL_0087: Nop\\r\\nIL_0088: Ldarg_0\\r\\nIL_0089: Ldarg_0\\r\\nIL_008a: Call [method] System.UInt32 Player.PingsSent.get()\\r\\nIL_008f: Ldc_I4_1 1\\r\\nIL_0090: Add\\r\\nIL_0091: Call [method] System.Void Player.PingsSent.set(System.UInt32)\\r\\nIL_0096: Nop\\r\\nIL_0097: Nop\\r\\nIL_0098: Ldarg_0\\r\\nIL_0099: Ldarg_0\\r\\nIL_009a: Call [method] Stratis.SmartContracts.Address Player.Opponent.get()\\r\\nIL_009f: Ldc_I4_0 0\\r\\nIL_00a0: Conv_I8\\r\\nIL_00a1: Ldstr \\\"ReceivePing\\\"\\r\\nIL_00a6: Ldnull\\r\\nIL_00a7: Ldc_I4_0 0\\r\\nIL_00a8: Conv_I8\\r\\nIL_00a9: Call [method] Stratis.SmartContracts.ITransferResult Stratis.SmartContracts.SmartContract.Call(Stratis.SmartContracts.Address, System.UInt64, System.String, System.Object[], System.UInt64)\\r\\nIL_00ae: Stloc_1 local_1\\r\\nIL_00af: Ldarg_0\\r\\nIL_00b0: Ldloc_1 local_1\\r\\nIL_00b1: Callvirt [get] System.Linq.Enumerable+<TakeRangeFromEndIterator>d__245`1[System.Char].Success\\r\\nIL_00b6: Ldstr \\\"Assert failed.\\\"\\r\\nIL_00bb: Call [method] System.Void Stratis.SmartContracts.SmartContract.Assert(System.Boolean, System.String)\\r\\nIL_00c0: Nop\\r\\nIL_00c1: Ldarg_0\\r\\nIL_00c2: Ldc_I4_1 1\\r\\nIL_00c3: Call [method] System.Void Player.State.set(System.UInt32)\\r\\nIL_00c8: Nop\\r\\n\",\"color\":{\"background\":\"#ffffff\"},\"shape\":\"box\",\"font\":{\"face\":\"monospace\",\"align\":\"left\"}},{\"id\":\"Player.PingsReceived.get()::3\",\"size\":150,\"label\":\"Node ID: Player.PingsReceived.get()::3\\r\\nIL_0014: Ldloc_0 local_0\\r\\nIL_0015: Ret\\r\\n\",\"color\":{\"background\":\"#ffffff\"},\"shape\":\"box\",\"font\":{\"face\":\"monospace\",\"align\":\"left\"}},{\"id\":\"Player..ctor(Stratis.SmartContracts.ISmartContractState, Stratis.SmartContracts.Address, Stratis.SmartContracts.Address, System.String)::0\",\"size\":150,\"label\":\"Player..ctor(Stratis.SmartContracts.ISmartContractState, Stratis.SmartContracts.Address, Stratis.SmartContracts.Address, System.String)\\r\\nLocation: PingPong.cs(12:11)-(12:22)\",\"color\":{\"background\":\"#ffff00\"},\"shape\":\"box\",\"font\":{\"face\":\"monospace\",\"align\":\"left\"}},{\"id\":\"Player.State.set(System.UInt32)::2\",\"size\":150,\"label\":\"Node ID: Player.State.set(System.UInt32)::2\\r\\nIL_0000: Ldarg_0\\r\\nIL_0001: Call [get] System.Linq.Enumerable+<TakeRangeFromEndIterator>d__245`1[System.Char].PersistentState\\r\\nIL_0006: Ldstr \\\"State\\\"\\r\\nIL_000b: Ldarg_1 value\\r\\nIL_000c: Callvirt [method] System.Void Stratis.SmartContracts.IPersistentState.SetUInt32(System.String, System.UInt32)\\r\\nIL_0011: Nop\\r\\nIL_0012: Ret\\r\\n\",\"color\":{\"background\":\"#ffffff\"},\"shape\":\"box\",\"font\":{\"face\":\"monospace\",\"align\":\"left\"}},{\"id\":\"Player.PlayerAddress.get()::2\",\"size\":150,\"label\":\"Node ID: Player.PlayerAddress.get()::2\\r\\nIL_0000: Ldarg_0\\r\\nIL_0001: Call [get] System.Linq.Enumerable+<TakeRangeFromEndIterator>d__245`1[System.Char].PersistentState\\r\\nIL_0006: Ldstr \\\"PlayerAddress\\\"\\r\\nIL_000b: Callvirt [method] Stratis.SmartContracts.Address Stratis.SmartContracts.IPersistentState.GetAddress(System.String)\\r\\nIL_0010: Ret\\r\\n\",\"color\":{\"background\":\"#ffffff\"},\"shape\":\"box\",\"font\":{\"face\":\"monospace\",\"align\":\"left\"}},{\"id\":\"Player.GameName.set(System.String)::2\",\"size\":150,\"label\":\"Node ID: Player.GameName.set(System.String)::2\\r\\nIL_0000: Ldarg_0\\r\\nIL_0001: Call [get] System.Linq.Enumerable+<TakeRangeFromEndIterator>d__245`1[System.Char].PersistentState\\r\\nIL_0006: Ldstr \\\"GameName\\\"\\r\\nIL_000b: Ldarg_1 value\\r\\nIL_000c: Callvirt [method] System.Void Stratis.SmartContracts.IPersistentState.SetString(System.String, System.String)\\r\\nIL_0011: Nop\\r\\nIL_0012: Ret\\r\\n\",\"color\":{\"background\":\"#ffffff\"},\"shape\":\"box\",\"font\":{\"face\":\"monospace\",\"align\":\"left\"}},{\"id\":\"Player.PlayerAddress.set(Stratis.SmartContracts.Address)::0\",\"size\":150,\"label\":\"Player.PlayerAddress.set(Stratis.SmartContracts.Address)\\r\\nLocation: PingPong.cs(44:25)-(44:81)\",\"color\":{\"background\":\"#ffffff\"},\"shape\":\"box\",\"font\":{\"face\":\"monospace\",\"align\":\"left\"}},{\"id\":\"Player.SendPing()::4\",\"size\":150,\"label\":\"Node ID: Player.SendPing()::4\\r\\nIL_002d: Ldarg_0\\r\\nIL_002e: Call [method] System.UInt32 Player.State.get()\\r\\nIL_0033: Ldc_I4_0 0\\r\\nIL_0034: Ceq\\r\\nIL_0036: Br_S IL_0039\\r\\n\",\"color\":{\"background\":\"#ffffff\"},\"shape\":\"box\",\"font\":{\"face\":\"monospace\",\"align\":\"left\"}},{\"id\":\"Player.FinishGame()::2\",\"size\":150,\"label\":\"Node ID: Player.FinishGame()::2\\r\\nIL_0000: Nop\\r\\nIL_0001: Ldarg_0\\r\\nIL_0002: Ldarg_0\\r\\nIL_0003: Call [get] System.Linq.Enumerable+<TakeRangeFromEndIterator>d__245`1[System.Char].Message\\r\\nIL_0008: Callvirt [get] System.Linq.Enumerable+<TakeRangeFromEndIterator>d__245`1[System.Char].Sender\\r\\nIL_000d: Ldarg_0\\r\\nIL_000e: Call [method] Stratis.SmartContracts.Address Player.PlayerAddress.get()\\r\\nIL_0013: Call [method] System.Boolean Stratis.SmartContracts.Address.op_Equality(Stratis.SmartContracts.Address, Stratis.SmartContracts.Address)\\r\\nIL_0018: Ldstr \\\"Assert failed.\\\"\\r\\nIL_001d: Call [method] System.Void Stratis.SmartContracts.SmartContract.Assert(System.Boolean, System.String)\\r\\nIL_0022: Nop\\r\\nIL_0023: Ldarg_0\\r\\nIL_0024: Ldc_I4_3 3\\r\\nIL_0025: Call [method] System.Void Player.State.set(System.UInt32)\\r\\nIL_002a: Nop\\r\\nIL_002b: Ret\\r\\n\",\"color\":{\"background\":\"#ffffff\"},\"shape\":\"box\",\"font\":{\"face\":\"monospace\",\"align\":\"left\"}},{\"id\":\"Player.Opponent.get()::2\",\"size\":150,\"label\":\"Node ID: Player.Opponent.get()::2\\r\\nIL_0000: Ldarg_0\\r\\nIL_0001: Call [get] System.Linq.Enumerable+<TakeRangeFromEndIterator>d__245`1[System.Char].PersistentState\\r\\nIL_0006: Ldstr \\\"Opponent\\\"\\r\\nIL_000b: Callvirt [method] Stratis.SmartContracts.Address Stratis.SmartContracts.IPersistentState.GetAddress(System.String)\\r\\nIL_0010: Ret\\r\\n\",\"color\":{\"background\":\"#ffffff\"},\"shape\":\"box\",\"font\":{\"face\":\"monospace\",\"align\":\"left\"}}]), \r\n",
       "                        edges: new visjs.DataSet([{\"from\":\"Player.GameName.get()::0\",\"to\":\"Player.GameName.get()::2\"},{\"from\":\"Player.SendPing()::7\",\"to\":\"Player.SendPing()::8\"},{\"from\":\"Player.PingsReceived.get()::0\",\"to\":\"Player.PingsReceived.get()::2\"},{\"from\":\"Player.IsFinished()::0\",\"to\":\"Player.IsFinished()::2\"},{\"from\":\"Player.State.get()::0\",\"to\":\"Player.State.get()::2\"},{\"from\":\"Player.PingsReceived.set(System.UInt32)::0\",\"to\":\"Player.PingsReceived.set(System.UInt32)::2\"},{\"from\":\"Starter.StartGame(Stratis.SmartContracts.Address, Stratis.SmartContracts.Address, System.String)::0\",\"to\":\"Starter.StartGame(Stratis.SmartContracts.Address, Stratis.SmartContracts.Address, System.String)::2\"},{\"from\":\"Player.Opponent.set(Stratis.SmartContracts.Address)::0\",\"to\":\"Player.Opponent.set(Stratis.SmartContracts.Address)::2\"},{\"from\":\"Player.Opponent.get()::0\",\"to\":\"Player.Opponent.get()::2\"},{\"from\":\"Player.PingsReceived.get()::2\",\"to\":\"Player.PingsReceived.get()::3\"},{\"from\":\"Player.SendPing()::2\",\"to\":\"Player.SendPing()::3\"},{\"from\":\"Player.SendPing()::2\",\"to\":\"Player.SendPing()::4\"},{\"from\":\"Player.FinishGame()::0\",\"to\":\"Player.FinishGame()::2\"},{\"from\":\"Player.IsFinished()::2\",\"to\":\"Player.IsFinished()::3\"},{\"from\":\"Starter..ctor(Stratis.SmartContracts.ISmartContractState)::0\",\"to\":\"Starter..ctor(Stratis.SmartContracts.ISmartContractState)::2\"},{\"from\":\"Player.SendPing()::5\",\"to\":\"Player.SendPing()::6\"},{\"from\":\"Player.SendPing()::5\",\"to\":\"Player.SendPing()::7\"},{\"from\":\"Player.SendPing()::3\",\"to\":\"Player.SendPing()::5\"},{\"from\":\"Player.ReceivePing()::2\",\"to\":\"Player.ReceivePing()::3\"},{\"from\":\"Player.ReceivePing()::2\",\"to\":\"Player.ReceivePing()::4\"},{\"from\":\"Player.State.set(System.UInt32)::0\",\"to\":\"Player.State.set(System.UInt32)::2\"},{\"from\":\"Player.SendPing()::0\",\"to\":\"Player.SendPing()::2\"},{\"from\":\"Player.PingsSent.set(System.UInt32)::0\",\"to\":\"Player.PingsSent.set(System.UInt32)::2\"},{\"from\":\"Player.ReceivePing()::0\",\"to\":\"Player.ReceivePing()::2\"},{\"from\":\"Player.PlayerAddress.get()::0\",\"to\":\"Player.PlayerAddress.get()::2\"},{\"from\":\"Player.GameName.set(System.String)::0\",\"to\":\"Player.GameName.set(System.String)::2\"},{\"from\":\"Player.ReceivePing()::4\",\"to\":\"Player.ReceivePing()::5\"},{\"from\":\"Player.ReceivePing()::3\",\"to\":\"Player.ReceivePing()::5\"},{\"from\":\"Player.PingsSent.get()::0\",\"to\":\"Player.PingsSent.get()::2\"},{\"from\":\"Player.SendPing()::6\",\"to\":\"Player.SendPing()::8\"},{\"from\":\"Player..ctor(Stratis.SmartContracts.ISmartContractState, Stratis.SmartContracts.Address, Stratis.SmartContracts.Address, System.String)::0\",\"to\":\"Player..ctor(Stratis.SmartContracts.ISmartContractState, Stratis.SmartContracts.Address, Stratis.SmartContracts.Address, System.String)::2\"},{\"from\":\"Player.PlayerAddress.set(Stratis.SmartContracts.Address)::0\",\"to\":\"Player.PlayerAddress.set(Stratis.SmartContracts.Address)::2\"},{\"from\":\"Player.SendPing()::4\",\"to\":\"Player.SendPing()::5\"}])\r\n",
       "                    };\r\n",
       "        let options = {\"autoResize\":false,\"manipulation\":false,\"width\":\"100%\",\"height\":\"600px\",\"layout\":{\"improvedLayout\":true,\"hierarchical\":{\"enabled\":true,\"sortMethod\":\"directed\",\"direction\":\"UD\",\"nodeSpacing\":300,\"levelSeparation\":300}},\"physics\":{\"hierarchicalRepulsion\":{\"nodeDistance\":300,\"avoidOverlap\":1.0}},\"edges\":{\"arrows\":{\"to\":{\"enabled\":true}},\"smooth\":{\"enabled\":true}},\"interaction\":{\"navigationButtons\":true}};\r\n",
       "        let network = new visjs.Network(container, data, options); \r\n",
       "        },\r\n",
       "        (error) => {\r\n",
       "            console.log(error);\r\n",
       "        });\r\n",
       "        }\r\n",
       "// ensure `require` is available globally\r\n",
       "if ((typeof(require) !==  typeof(Function)) || (typeof(require.config) !== typeof(Function))) {\r\n",
       "    let require_script = document.createElement('script');\r\n",
       "    require_script.setAttribute('src', 'https://cdnjs.cloudflare.com/ajax/libs/require.js/2.3.6/require.min.js');\r\n",
       "    require_script.setAttribute('type', 'text/javascript');\r\n",
       "    \r\n",
       "    \r\n",
       "    require_script.onload = function() {\r\n",
       "        loadVisjs_ded1c97a46b04a7bb6b56a0a1059b245();\r\n",
       "    };\r\n",
       "\r\n",
       "    document.getElementsByTagName('head')[0].appendChild(require_script);\r\n",
       "}\r\n",
       "else {\r\n",
       "    loadVisjs_ded1c97a46b04a7bb6b56a0a1059b245();\r\n",
       "}\r\n",
       "\r\n",
       "</script>\r\n",
       "<div id=\"ded1c97a46b04a7bb6b56a0a1059b245\" style=\"height:600px; width:100%\"></div>\r\n",
       "</div>\r\n"
      ]
     },
     "execution_count": 26,
     "metadata": {},
     "output_type": "execute_result"
    }
   ],
   "source": [
    "g = an.GetControlFlowGraph();\n",
    "g"
   ]
  },
  {
   "cell_type": "code",
   "execution_count": null,
   "id": "c43b409a",
   "metadata": {},
   "outputs": [],
   "source": []
  }
 ],
 "metadata": {
  "kernelspec": {
   "display_name": ".NET (C#)",
   "language": "C#",
   "name": ".net-csharp"
  },
  "language_info": {
   "file_extension": ".cs",
   "mimetype": "text/x-csharp",
   "name": "C#",
   "pygments_lexer": "csharp",
   "version": "10.0"
  }
 },
 "nbformat": 4,
 "nbformat_minor": 5
}
