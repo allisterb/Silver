{
 "cells": [
  {
   "cell_type": "code",
   "execution_count": 1,
   "id": "1a995c17",
   "metadata": {
    "vscode": {
     "languageId": "csharp"
    }
   },
   "outputs": [
    {
     "data": {
      "text/html": [
       "\r\n",
       "<div>\r\n",
       "    <div id='dotnet-interactive-this-cell-28084.Microsoft.DotNet.Interactive.Http.HttpPort' style='display: none'>\r\n",
       "        The below script needs to be able to find the current output cell; this is an easy method to get it.\r\n",
       "    </div>\r\n",
       "    <script type='text/javascript'>\r\n",
       "async function probeAddresses(probingAddresses) {\r\n",
       "    function timeout(ms, promise) {\r\n",
       "        return new Promise(function (resolve, reject) {\r\n",
       "            setTimeout(function () {\r\n",
       "                reject(new Error('timeout'))\r\n",
       "            }, ms)\r\n",
       "            promise.then(resolve, reject)\r\n",
       "        })\r\n",
       "    }\r\n",
       "\r\n",
       "    if (Array.isArray(probingAddresses)) {\r\n",
       "        for (let i = 0; i < probingAddresses.length; i++) {\r\n",
       "\r\n",
       "            let rootUrl = probingAddresses[i];\r\n",
       "\r\n",
       "            if (!rootUrl.endsWith('/')) {\r\n",
       "                rootUrl = `${rootUrl}/`;\r\n",
       "            }\r\n",
       "\r\n",
       "            try {\r\n",
       "                let response = await timeout(1000, fetch(`${rootUrl}discovery`, {\r\n",
       "                    method: 'POST',\r\n",
       "                    cache: 'no-cache',\r\n",
       "                    mode: 'cors',\r\n",
       "                    timeout: 1000,\r\n",
       "                    headers: {\r\n",
       "                        'Content-Type': 'text/plain'\r\n",
       "                    },\r\n",
       "                    body: probingAddresses[i]\r\n",
       "                }));\r\n",
       "\r\n",
       "                if (response.status == 200) {\r\n",
       "                    return rootUrl;\r\n",
       "                }\r\n",
       "            }\r\n",
       "            catch (e) { }\r\n",
       "        }\r\n",
       "    }\r\n",
       "}\r\n",
       "\r\n",
       "function loadDotnetInteractiveApi() {\r\n",
       "    probeAddresses([\"http://192.168.56.1:1000/\", \"http://192.168.169.1:1000/\", \"http://192.168.128.1:1000/\", \"http://192.168.1.189:1000/\", \"http://172.23.224.1:1000/\", \"http://127.0.0.1:1000/\"])\r\n",
       "        .then((root) => {\r\n",
       "        // use probing to find host url and api resources\r\n",
       "        // load interactive helpers and language services\r\n",
       "        let dotnetInteractiveRequire = require.config({\r\n",
       "        context: '28084.Microsoft.DotNet.Interactive.Http.HttpPort',\r\n",
       "                paths:\r\n",
       "            {\r\n",
       "                'dotnet-interactive': `${root}resources`\r\n",
       "                }\r\n",
       "        }) || require;\r\n",
       "\r\n",
       "            window.dotnetInteractiveRequire = dotnetInteractiveRequire;\r\n",
       "\r\n",
       "            window.configureRequireFromExtension = function(extensionName, extensionCacheBuster) {\r\n",
       "                let paths = {};\r\n",
       "                paths[extensionName] = `${root}extensions/${extensionName}/resources/`;\r\n",
       "                \r\n",
       "                let internalRequire = require.config({\r\n",
       "                    context: extensionCacheBuster,\r\n",
       "                    paths: paths,\r\n",
       "                    urlArgs: `cacheBuster=${extensionCacheBuster}`\r\n",
       "                    }) || require;\r\n",
       "\r\n",
       "                return internalRequire\r\n",
       "            };\r\n",
       "        \r\n",
       "            dotnetInteractiveRequire([\r\n",
       "                    'dotnet-interactive/dotnet-interactive'\r\n",
       "                ],\r\n",
       "                function (dotnet) {\r\n",
       "                    dotnet.init(window);\r\n",
       "                },\r\n",
       "                function (error) {\r\n",
       "                    console.log(error);\r\n",
       "                }\r\n",
       "            );\r\n",
       "        })\r\n",
       "        .catch(error => {console.log(error);});\r\n",
       "    }\r\n",
       "\r\n",
       "// ensure `require` is available globally\r\n",
       "if ((typeof(require) !==  typeof(Function)) || (typeof(require.config) !== typeof(Function))) {\r\n",
       "    let require_script = document.createElement('script');\r\n",
       "    require_script.setAttribute('src', 'https://cdnjs.cloudflare.com/ajax/libs/require.js/2.3.6/require.min.js');\r\n",
       "    require_script.setAttribute('type', 'text/javascript');\r\n",
       "    \r\n",
       "    \r\n",
       "    require_script.onload = function() {\r\n",
       "        loadDotnetInteractiveApi();\r\n",
       "    };\r\n",
       "\r\n",
       "    document.getElementsByTagName('head')[0].appendChild(require_script);\r\n",
       "}\r\n",
       "else {\r\n",
       "    loadDotnetInteractiveApi();\r\n",
       "}\r\n",
       "\r\n",
       "    </script>\r\n",
       "</div>"
      ]
     },
     "metadata": {},
     "output_type": "display_data"
    },
    {
     "data": {
      "text/html": [
       "<div><div></div><div></div><div><strong>Installed Packages</strong><ul><li><span>Octokit, 1.0.0</span></li></ul></div></div>"
      ]
     },
     "metadata": {},
     "output_type": "display_data"
    },
    {
     "data": {
      "text/markdown": [
       "Added formatter for AGL graphs using VisJS to .NET Interactive kernel csharp."
      ]
     },
     "metadata": {},
     "output_type": "display_data"
    },
    {
     "data": {
      "text/markdown": [
       "Added formatter for Mermaid language to .NET Interactive kernel csharp."
      ]
     },
     "metadata": {},
     "output_type": "display_data"
    },
    {
     "data": {
      "text/markdown": [
       "Added formatter for DOT language to .NET Interactive kernel csharp."
      ]
     },
     "metadata": {},
     "output_type": "display_data"
    },
    {
     "data": {
      "text/markdown": [
       "Added formatter for VisJS networks to .NET Interactive kernel csharp."
      ]
     },
     "metadata": {},
     "output_type": "display_data"
    }
   ],
   "source": [
    "#load \"DotNetInteractive.csx\"\n",
    "#r \"nuget: Octokit\""
   ]
  },
  {
   "cell_type": "code",
   "execution_count": 3,
   "id": "7725ee91",
   "metadata": {
    "vscode": {
     "languageId": "csharp"
    }
   },
   "outputs": [],
   "source": [
    "using Silver;\n",
    "using Silver.Notebooks;"
   ]
  },
  {
   "cell_type": "code",
   "execution_count": 4,
   "id": "c693148d",
   "metadata": {
    "vscode": {
     "languageId": "csharp"
    }
   },
   "outputs": [
    {
     "name": "stdout",
     "output_type": "stream",
     "text": [
      "[INFO] Get smart contract assembly from Stratis pull request https://github.com/stratisproject/CirrusSmartContracts/pull/31...\n",
      "[WARN] File Stratis.PR547793172.dll exists, overwriting...\n",
      "[INFO] Assembly for Stratis pull request https://api.github.com/repos/stratisproject/CirrusSmartContracts/issues/31 is at Stratis.PR547793172.dll.\n",
      "[INFO] Get smart contract assembly from Stratis pull request https://github.com/stratisproject/CirrusSmartContracts/pull/31 completed in 1072ms.\n",
      "[INFO] Target assembly is Stratis.PR547793172.dll.\n"
     ]
    }
   ],
   "source": [
    "var an = IL.GetAnalyzer(@\"https://github.com/stratisproject/CirrusSmartContracts/pull/31\");"
   ]
  },
  {
   "cell_type": "code",
   "execution_count": 5,
   "id": "4be357d6",
   "metadata": {
    "vscode": {
     "languageId": "csharp"
    }
   },
   "outputs": [
    {
     "name": "stdout",
     "output_type": "stream",
     "text": [
      "[INFO] Analyzing class hierachy...\n",
      "[INFO] Analyzing class hierachy completed in 5ms.\n"
     ]
    },
    {
     "data": {
      "text/html": [
       "<div style=\"background-color:white\">\r\n",
       "<script type=\"text/javascript\">\r\n",
       "loadMermaid_5b15e557086e473d84d394b8a29f89a9 = () => {\r\n",
       " \r\n",
       "    (require.config({ 'paths': { 'context': '9.1.1', 'mermaidUri' : 'https://cdn.jsdelivr.net/npm/mermaid@9.1.1/dist/mermaid.min', 'urlArgs': 'cacheBuster=5d8ad1f08dd1495badb9b915bea492f2' }}) || require)(['mermaidUri'], (mermaid) => {\r\n",
       "\r\n",
       "        let renderTarget = document.getElementById('5b15e557086e473d84d394b8a29f89a9');\r\n",
       "        mermaid.mermaidAPI.render( \r\n",
       "            'mermaid_5b15e557086e473d84d394b8a29f89a9', \r\n",
       "            `classDiagram\r\n",
       "class STOContract\r\n",
       "<<contract>> STOContract\r\n",
       "STOContract : +.ctor(smartContractState,owner,tokenType,totalSupply,name,symbol,kycAddress,mapperAddress,salePeriods)\r\n",
       "STOContract : +get_EndBlock()\r\n",
       "STOContract : +get_IsNonFungibleToken()\r\n",
       "STOContract : +get_KYCAddress()\r\n",
       "STOContract : +get_MapperAddress()\r\n",
       "STOContract : +get_Owner()\r\n",
       "STOContract : +get_SaleOpen()\r\n",
       "STOContract : +get_SalePeriods()\r\n",
       "STOContract : +get_TokenAddress()\r\n",
       "STOContract : +get_TokenBalance()\r\n",
       "STOContract : +Invest()\r\n",
       "STOContract : +Receive()\r\n",
       "STOContract : +WithdrawFunds()\r\n",
       "STOContract : +WithdrawTokens()\r\n",
       "STOContract : -ConvertSalePeriodInputs(periods)\r\n",
       "STOContract : -CreateTokenContract(tokenType,totalSupply,name,symbol)\r\n",
       "STOContract : -EnsureKycVerified()\r\n",
       "STOContract : -GetCurrentPeriod()\r\n",
       "STOContract : -GetSaleInfo()\r\n",
       "STOContract : -set_EndBlock(value)\r\n",
       "STOContract : -set_IsNonFungibleToken(value)\r\n",
       "STOContract : -set_KYCAddress(value)\r\n",
       "STOContract : -set_MapperAddress(value)\r\n",
       "STOContract : -set_Owner(value)\r\n",
       "STOContract : -set_SalePeriods(value)\r\n",
       "STOContract : -set_TokenAddress(value)\r\n",
       "STOContract : -set_TokenBalance(value)\r\n",
       "STOContract : -SetPeriods(periods)\r\n",
       "STOContract : -ValidatePeriods(periods)\r\n",
       "class StandardToken\r\n",
       "StandardToken : +.ctor(smartContractState,totalSupply,name,symbol)\r\n",
       "StandardToken : +Allowance(owner,spender)\r\n",
       "StandardToken : +Approve(spender,currentAmount,amount)\r\n",
       "StandardToken : +get_Name()\r\n",
       "StandardToken : +get_Symbol()\r\n",
       "StandardToken : +get_TotalSupply()\r\n",
       "StandardToken : +GetBalance(address)\r\n",
       "StandardToken : +TransferFrom(from,to,amount)\r\n",
       "StandardToken : +TransferTo(to,amount)\r\n",
       "StandardToken : -set_Name(value)\r\n",
       "StandardToken : -set_Symbol(value)\r\n",
       "StandardToken : -set_TotalSupply(value)\r\n",
       "StandardToken : -SetApproval(owner,spender,value)\r\n",
       "StandardToken : -SetBalance(address,value)\r\n",
       "class DividendToken\r\n",
       "DividendToken : +.ctor(state,totalSupply,name,symbol)\r\n",
       "DividendToken : +Allowance(owner,spender)\r\n",
       "DividendToken : +Approve(spender,currentAmount,amount)\r\n",
       "DividendToken : +get_Dividends()\r\n",
       "DividendToken : +get_Name()\r\n",
       "DividendToken : +get_Symbol()\r\n",
       "DividendToken : +get_TotalSupply()\r\n",
       "DividendToken : +GetBalance(address)\r\n",
       "DividendToken : +GetDividends()\r\n",
       "DividendToken : +GetDividends(address)\r\n",
       "DividendToken : +GetTotalDividends()\r\n",
       "DividendToken : +GetTotalDividends(address)\r\n",
       "DividendToken : +Receive()\r\n",
       "DividendToken : +TransferFrom(from,to,amount)\r\n",
       "DividendToken : +TransferTo(to,amount)\r\n",
       "DividendToken : +Withdraw()\r\n",
       "DividendToken : -GetAccount(address)\r\n",
       "DividendToken : -GetWithdrawableDividends(address,account)\r\n",
       "DividendToken : -set_Dividends(value)\r\n",
       "DividendToken : -set_Name(value)\r\n",
       "DividendToken : -set_Symbol(value)\r\n",
       "DividendToken : -set_TotalSupply(value)\r\n",
       "DividendToken : -SetAccount(address,account)\r\n",
       "DividendToken : -SetApproval(owner,spender,value)\r\n",
       "DividendToken : -SetBalance(address,value)\r\n",
       "DividendToken : -TransferTokensFrom(from,to,amount)\r\n",
       "DividendToken : -TransferTokensTo(to,amount)\r\n",
       "DividendToken : -UpdateAccount(address)\r\n",
       "class NonFungibleToken\r\n",
       "NonFungibleToken : +.ctor(state,name,symbol)\r\n",
       "NonFungibleToken : +Approve(approved,tokenId)\r\n",
       "NonFungibleToken : +BalanceOf(owner)\r\n",
       "NonFungibleToken : +Burn(tokenId)\r\n",
       "NonFungibleToken : +EnsureAddressIsNotEmpty(address)\r\n",
       "NonFungibleToken : +get_Name()\r\n",
       "NonFungibleToken : +get_Owner()\r\n",
       "NonFungibleToken : +get_Symbol()\r\n",
       "NonFungibleToken : +get_TotalSupply()\r\n",
       "NonFungibleToken : +GetApproved(tokenId)\r\n",
       "NonFungibleToken : +IsApprovedForAll(owner,operatorAddress)\r\n",
       "NonFungibleToken : +MintAll(address,amount)\r\n",
       "NonFungibleToken : +OwnerOf(tokenId)\r\n",
       "NonFungibleToken : +SafeTransferFrom(from,to,tokenId,data)\r\n",
       "NonFungibleToken : +SafeTransferFrom(from,to,tokenId)\r\n",
       "NonFungibleToken : +SetApprovalForAll(operatorAddress,approved)\r\n",
       "NonFungibleToken : +SupportsInterface(interfaceID)\r\n",
       "NonFungibleToken : +TokenByIndex(index)\r\n",
       "NonFungibleToken : +TokenOfOwnerByIndex(owner,index)\r\n",
       "NonFungibleToken : +TransferFrom(from,to,tokenId)\r\n",
       "NonFungibleToken : +TransferOwnership(owner)\r\n",
       "NonFungibleToken : -AddNFToken(to,tokenId)\r\n",
       "NonFungibleToken : -CanOperate(tokenId)\r\n",
       "NonFungibleToken : -CanTransfer(tokenId)\r\n",
       "NonFungibleToken : -ClearApproval(tokenId)\r\n",
       "NonFungibleToken : -ClearIndexByToken(token)\r\n",
       "NonFungibleToken : -ClearIndexOfOwnerByToken(owner,tokenId)\r\n",
       "NonFungibleToken : -ClearTokenByIndex(index)\r\n",
       "NonFungibleToken : -ClearTokenOfOwnerByIndex(owner,index)\r\n",
       "NonFungibleToken : -EnsureOwnerOnly()\r\n",
       "NonFungibleToken : -get_NextTokenId()\r\n",
       "NonFungibleToken : -GetIdToApproval(id)\r\n",
       "NonFungibleToken : -GetIdToApprovalKey(id)\r\n",
       "NonFungibleToken : -GetIdToOwner(id)\r\n",
       "NonFungibleToken : -GetIdToOwnerKey(id)\r\n",
       "NonFungibleToken : -GetIndexByToken(token)\r\n",
       "NonFungibleToken : -GetIndexByTokenKey(token)\r\n",
       "NonFungibleToken : -GetIndexOfOwnerByToken(owner,tokenId)\r\n",
       "NonFungibleToken : -GetOwnerToNFTokenCount(address)\r\n",
       "NonFungibleToken : -GetOwnerToOperator(owner,operatorAddress)\r\n",
       "NonFungibleToken : -GetSupportedInterfaces(interfaceId)\r\n",
       "NonFungibleToken : -GetTokenByIndex(index)\r\n",
       "NonFungibleToken : -GetTokenByIndexKey(index)\r\n",
       "NonFungibleToken : -GetTokenOfOwnerByIndex(address,index)\r\n",
       "NonFungibleToken : -GetTokenOfOwnerByIndexKey(address,index)\r\n",
       "NonFungibleToken : -IndexOfOwnerByTokenKey(owner,tokenId)\r\n",
       "NonFungibleToken : -LogApproval(owner,approved,tokenId)\r\n",
       "NonFungibleToken : -LogApprovalForAll(owner,operatorAddress,approved)\r\n",
       "NonFungibleToken : -LogTransfer(from,to,tokenId)\r\n",
       "NonFungibleToken : -RemoveNFToken(from,tokenId)\r\n",
       "NonFungibleToken : -SafeTransferFromInternal(from,to,tokenId,data)\r\n",
       "NonFungibleToken : -set_Name(value)\r\n",
       "NonFungibleToken : -set_NextTokenId(value)\r\n",
       "NonFungibleToken : -set_Owner(value)\r\n",
       "NonFungibleToken : -set_Symbol(value)\r\n",
       "NonFungibleToken : -set_TotalSupply(value)\r\n",
       "NonFungibleToken : -SetIdToApproval(id,value)\r\n",
       "NonFungibleToken : -SetIdToOwner(id,value)\r\n",
       "NonFungibleToken : -SetIndexByToken(token,index)\r\n",
       "NonFungibleToken : -SetIndexOfOwnerByToken(owner,tokenId,index)\r\n",
       "NonFungibleToken : -SetOwnerToNFTokenCount(address,value)\r\n",
       "NonFungibleToken : -SetOwnerToOperator(owner,operatorAddress,value)\r\n",
       "NonFungibleToken : -SetSupportedInterfaces(interfaceId,value)\r\n",
       "NonFungibleToken : -SetTokenByIndex(index,token)\r\n",
       "NonFungibleToken : -SetTokenOfOwnerByIndex(owner,index,tokenId)\r\n",
       "NonFungibleToken : -TransferInternal(to,tokenId)\r\n",
       "NonFungibleToken : -ValidNFToken(tokenId)\r\n",
       "class STOContract_SalePeriodInput\r\n",
       "class STOContract_SalePeriod\r\n",
       "class STOContract_SaleInfo\r\n",
       "class STOContract_STOSetupLog\r\n",
       "class STOContract_InvestLog\r\n",
       "class STOContract_Claim\r\n",
       "class StandardToken_TransferLog\r\n",
       "class StandardToken_ApprovalLog\r\n",
       "class DividendToken_Account\r\n",
       "class DividendToken_TransferLog\r\n",
       "class DividendToken_ApprovalLog\r\n",
       "class NonFungibleToken_TransferLog\r\n",
       "class NonFungibleToken_ApprovalLog\r\n",
       "class NonFungibleToken_ApprovalForAllLog\r\n",
       "class NonFungibleToken_OwnershipTransferedLog\r\n",
       "`, \r\n",
       "            g => {\r\n",
       "                renderTarget.innerHTML = g \r\n",
       "            });\r\n",
       "    },\r\n",
       "    (error) => {\r\n",
       "        console.log(error);\r\n",
       "    });\r\n",
       "}\r\n",
       "// ensure `require` is available globally\r\n",
       "if ((typeof(require) !==  typeof(Function)) || (typeof(require.config) !== typeof(Function))) {\r\n",
       "    let require_script = document.createElement('script');\r\n",
       "    require_script.setAttribute('src', 'https://cdnjs.cloudflare.com/ajax/libs/require.js/2.3.6/require.min.js');\r\n",
       "    require_script.setAttribute('type', 'text/javascript');\r\n",
       "    \r\n",
       "    \r\n",
       "    require_script.onload = function() {\r\n",
       "        loadMermaid_5b15e557086e473d84d394b8a29f89a9();\r\n",
       "    };\r\n",
       "\r\n",
       "    document.getElementsByTagName('head')[0].appendChild(require_script);\r\n",
       "}\r\n",
       "else {\r\n",
       "    loadMermaid_5b15e557086e473d84d394b8a29f89a9();\r\n",
       "}\r\n",
       "\r\n",
       "</script>\r\n",
       "<div id=\"5b15e557086e473d84d394b8a29f89a9\"></div>\r\n",
       "</div>\r\n"
      ]
     },
     "execution_count": 5,
     "metadata": {},
     "output_type": "execute_result"
    }
   ],
   "source": [
    "IL.Draw(an.GetSummary())"
   ]
  },
  {
   "cell_type": "code",
   "execution_count": null,
   "id": "81f1488a",
   "metadata": {},
   "outputs": [],
   "source": [
    "an = IL.GetAnalyzer(@\"..\\examples\\DAOContract\\bin\\Debug\\netcoreapp2.1\\DAOContract.dll\");\n"
   ]
  },
  {
   "cell_type": "code",
   "execution_count": 6,
   "id": "38184724",
   "metadata": {
    "vscode": {
     "languageId": "csharp"
    }
   },
   "outputs": [
    {
     "name": "stdout",
     "output_type": "stream",
     "text": [
      "[INFO] Creating call graph for methods in assembly Stratis.PR547793172.dll...\n",
      "[INFO] Methods are already collected, reusing...\n",
      "[WARN] The method () was not analyzed.\n",
      "[WARN] The method <STOContract.SalePeriodInput>() was not analyzed.\n",
      "[WARN] The method <STOContract.STOSetupLog>() was not analyzed.\n",
      "[WARN] The method <StandardToken>() was not analyzed.\n",
      "[WARN] The method <DividendToken>() was not analyzed.\n",
      "[WARN] The method <NonFungibleToken>() was not analyzed.\n",
      "[WARN] The method <STOContract.InvestLog>() was not analyzed.\n",
      "[WARN] The method <STOContract.SalePeriod>() was not analyzed.\n",
      "[WARN] The method <StandardToken.ApprovalLog>() was not analyzed.\n",
      "[WARN] The method <StandardToken.TransferLog>() was not analyzed.\n",
      "[WARN] The method <StandardToken.TransferLog>() was not analyzed.\n",
      "[WARN] The method <DividendToken.Account>() was not analyzed.\n",
      "[WARN] The method <DividendToken.ApprovalLog>() was not analyzed.\n",
      "[WARN] The method <DividendToken.Account>() was not analyzed.\n",
      "[WARN] The method <DividendToken.TransferLog>() was not analyzed.\n",
      "[WARN] The method <DividendToken.TransferLog>() was not analyzed.\n",
      "[WARN] The method <NonFungibleToken.TransferLog>() was not analyzed.\n",
      "[WARN] The method <NonFungibleToken.TransferLog>() was not analyzed.\n",
      "[WARN] The method <NonFungibleToken.ApprovalForAllLog>() was not analyzed.\n",
      "[WARN] The method <NonFungibleToken.TransferLog>() was not analyzed.\n",
      "[WARN] The method <NonFungibleToken.OwnershipTransferedLog>() was not analyzed.\n",
      "[WARN] The method <NonFungibleToken.ApprovalLog>() was not analyzed.\n",
      "[ERROR] Creating call graph for methods in assembly Stratis.PR547793172.dll abandoned after 60ms.\n"
     ]
    },
    {
     "ename": "Unhandled exception",
     "evalue": "System.InvalidOperationException: Sequence contains more than one matching element\r\n   at System.Linq.ThrowHelper.ThrowMoreThanOneMatchException()\r\n   at System.Linq.Enumerable.TryGetSingle[TSource](IEnumerable`1 source, Func`2 predicate, Boolean& found)\r\n   at System.Linq.Enumerable.Single[TSource](IEnumerable`1 source, Func`2 predicate)\r\n   at Silver.Graph.FindNode(String id) in C:\\Projects\\Silver\\src\\Silver.Graph\\Graph.cs:line 113\r\n   at Silver.CodeAnalysis.IL.Analyzer.GetCallGraph() in C:\\Projects\\Silver\\src\\Silver.CodeAnalysis.IL\\Analyzer\\Analyzer.cs:line 119\r\n   at Submission#8.<<Initialize>>d__0.MoveNext()\r\n--- End of stack trace from previous location ---\r\n   at Microsoft.CodeAnalysis.Scripting.ScriptExecutionState.RunSubmissionsAsync[TResult](ImmutableArray`1 precedingExecutors, Func`2 currentExecutor, StrongBox`1 exceptionHolderOpt, Func`2 catchExceptionOpt, CancellationToken cancellationToken)",
     "output_type": "error",
     "traceback": [
      "System.InvalidOperationException: Sequence contains more than one matching element\r\n   at System.Linq.ThrowHelper.ThrowMoreThanOneMatchException()\r\n   at System.Linq.Enumerable.TryGetSingle[TSource](IEnumerable`1 source, Func`2 predicate, Boolean& found)\r\n   at System.Linq.Enumerable.Single[TSource](IEnumerable`1 source, Func`2 predicate)\r\n   at Silver.Graph.FindNode(String id) in C:\\Projects\\Silver\\src\\Silver.Graph\\Graph.cs:line 113\r\n   at Silver.CodeAnalysis.IL.Analyzer.GetCallGraph() in C:\\Projects\\Silver\\src\\Silver.CodeAnalysis.IL\\Analyzer\\Analyzer.cs:line 119\r\n   at Submission#8.<<Initialize>>d__0.MoveNext()\r\n--- End of stack trace from previous location ---\r\n   at Microsoft.CodeAnalysis.Scripting.ScriptExecutionState.RunSubmissionsAsync[TResult](ImmutableArray`1 precedingExecutors, Func`2 currentExecutor, StrongBox`1 exceptionHolderOpt, Func`2 catchExceptionOpt, CancellationToken cancellationToken)",
      "   at System.Linq.ThrowHelper.ThrowMoreThanOneMatchException()",
      "   at System.Linq.Enumerable.TryGetSingle[TSource](IEnumerable`1 source, Func`2 predicate, Boolean& found)",
      "   at System.Linq.Enumerable.Single[TSource](IEnumerable`1 source, Func`2 predicate)",
      "   at Silver.Graph.FindNode(String id) in C:\\Projects\\Silver\\src\\Silver.Graph\\Graph.cs:line 113",
      "   at Silver.CodeAnalysis.IL.Analyzer.GetCallGraph() in C:\\Projects\\Silver\\src\\Silver.CodeAnalysis.IL\\Analyzer\\Analyzer.cs:line 119",
      "   at Submission#8.<<Initialize>>d__0.MoveNext()",
      "--- End of stack trace from previous location ---",
      "   at Microsoft.CodeAnalysis.Scripting.ScriptExecutionState.RunSubmissionsAsync[TResult](ImmutableArray`1 precedingExecutors, Func`2 currentExecutor, StrongBox`1 exceptionHolderOpt, Func`2 catchExceptionOpt, CancellationToken cancellationToken)"
     ]
    }
   ],
   "source": [
    ");"
   ]
  },
  {
   "cell_type": "code",
   "execution_count": null,
   "id": "c8f70aa9",
   "metadata": {
    "scrolled": false,
    "vscode": {
     "languageId": "csharp"
    }
   },
   "outputs": [],
   "source": [
    "an.GetControlFlowGraph()"
   ]
  },
  {
   "cell_type": "code",
   "execution_count": null,
   "id": "f0f24ebe",
   "metadata": {
    "scrolled": true,
    "vscode": {
     "languageId": "csharp"
    }
   },
   "outputs": [],
   "source": [
    "an = IL.GetAnalyzer(@\"..\\examples\\DAOContract\\bin\\Debug\\netcoreapp2.1\\DAOContract.dll\");\n",
    "an.GetSummary()"
   ]
  },
  {
   "cell_type": "code",
   "execution_count": null,
   "id": "e4d3b978",
   "metadata": {
    "vscode": {
     "languageId": "csharp"
    }
   },
   "outputs": [],
   "source": [
    "an.GetCallGraph()"
   ]
  },
  {
   "cell_type": "code",
   "execution_count": 7,
   "id": "435bd6f2",
   "metadata": {},
   "outputs": [
    {
     "name": "stderr",
     "output_type": "stream",
     "text": [
      "\r\n",
      "(1,20): error CS0234: The type or namespace name 'Graph' does not exist in the namespace 'Silver' (are you missing an assembly reference?)\r\n",
      "\r\n"
     ]
    },
    {
     "ename": "Cell not executed",
     "evalue": "compilation error",
     "output_type": "error",
     "traceback": []
    }
   ],
   "source": [
    "var g = new Silver.Graph();"
   ]
  }
 ],
 "metadata": {
  "kernelspec": {
   "display_name": ".NET (C#)",
   "language": "C#",
   "name": ".net-csharp"
  },
  "language_info": {
   "file_extension": ".cs",
   "mimetype": "text/x-csharp",
   "name": "C#",
   "pygments_lexer": "csharp",
   "version": "10.0"
  }
 },
 "nbformat": 4,
 "nbformat_minor": 5
}
