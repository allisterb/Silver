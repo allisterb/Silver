{
 "cells": [
  {
   "cell_type": "code",
   "execution_count": 2,
   "id": "1a995c17",
   "metadata": {
    "scrolled": true,
    "vscode": {
     "languageId": "csharp"
    }
   },
   "outputs": [
    {
     "data": {
      "text/markdown": [
       "Added formatter for AGL graphs using VisJS to .NET Interactive kernel csharp."
      ]
     },
     "metadata": {},
     "output_type": "display_data"
    },
    {
     "data": {
      "text/markdown": [
       "Added formatter for Mermaid language to .NET Interactive kernel csharp."
      ]
     },
     "metadata": {},
     "output_type": "display_data"
    },
    {
     "data": {
      "text/markdown": [
       "Added formatter for jsTree diagrams to .NET Interactive kernel csharp."
      ]
     },
     "metadata": {},
     "output_type": "display_data"
    },
    {
     "data": {
      "text/html": [
       "<script>\r\n",
       "    //if (!!document.getElementById('shikilib')) {\r\n",
       "        let require_script_f6b14eea489b48f89c7777ec796e680e = document.createElement('script');\r\n",
       "        require_script_f6b14eea489b48f89c7777ec796e680e.setAttribute('src', 'https://unpkg.com/@antfu/shiki@0.5.2/dist/index.unpkg.iife.js');\r\n",
       "        require_script_f6b14eea489b48f89c7777ec796e680e.setAttribute('type', 'text/javascript');\r\n",
       "        document.getElementsByTagName('head')[0].appendChild(require_script_f6b14eea489b48f89c7777ec796e680e);\r\n",
       "        let tag_f6b14eea489b48f89c7777ec796e680e = document.createElement('span');\r\n",
       "        tag_f6b14eea489b48f89c7777ec796e680e.setAttribute('id', 'shikilib');\r\n",
       "        document.getElementsByTagName('body')[0].appendChild(tag_f6b14eea489b48f89c7777ec796e680e);\r\n",
       "    //}\r\n",
       "    </script>\r\n",
       "    "
      ]
     },
     "metadata": {},
     "output_type": "display_data"
    },
    {
     "data": {
      "text/html": [
       "<script>\r\n",
       "    //if (!!document.getElementById('shikirendererlib')) {\r\n",
       "        let require_script_eb772dc637024adea4f4420695909ea6 = document.createElement('script');\r\n",
       "        require_script_eb772dc637024adea4f4420695909ea6.setAttribute('src', 'https://unpkg.com/@antfu/shiki-renderer-svg@0.5.2/dist/index.iife.min.js');\r\n",
       "        require_script_eb772dc637024adea4f4420695909ea6.setAttribute('type', 'text/javascript');\r\n",
       "        document.getElementsByTagName('head')[0].appendChild(require_script_eb772dc637024adea4f4420695909ea6);\r\n",
       "        let tag_eb772dc637024adea4f4420695909ea6 = document.createElement('span');\r\n",
       "        tag_eb772dc637024adea4f4420695909ea6.setAttribute('id', 'shikirendererlib');\r\n",
       "        document.getElementsByTagName('body')[0].appendChild(tag_eb772dc637024adea4f4420695909ea6);\r\n",
       "    //}\r\n",
       "    </script>\r\n",
       "    "
      ]
     },
     "metadata": {},
     "output_type": "display_data"
    },
    {
     "data": {
      "text/html": [
       "<script>\r\n",
       "    //if (!!document.getElementById('shikilanguageslib')) {\r\n",
       "        let require_script_8a2a81be3fd747db82a49e669f7b7010 = document.createElement('script');\r\n",
       "        require_script_8a2a81be3fd747db82a49e669f7b7010.setAttribute('src', 'https://dokans3fs-test-1.us-east-1.linodeobjects.com/shikiLanguages.js');\r\n",
       "        require_script_8a2a81be3fd747db82a49e669f7b7010.setAttribute('type', 'text/javascript');\r\n",
       "        document.getElementsByTagName('head')[0].appendChild(require_script_8a2a81be3fd747db82a49e669f7b7010);\r\n",
       "        let tag_8a2a81be3fd747db82a49e669f7b7010 = document.createElement('span');\r\n",
       "        tag_8a2a81be3fd747db82a49e669f7b7010.setAttribute('id', 'shikilanguageslib');\r\n",
       "        document.getElementsByTagName('body')[0].appendChild(tag_8a2a81be3fd747db82a49e669f7b7010);\r\n",
       "    //}\r\n",
       "    </script>\r\n",
       "    "
      ]
     },
     "metadata": {},
     "output_type": "display_data"
    },
    {
     "data": {
      "text/markdown": [
       "Added formatter for TmHighlightedCode to .NET Interactive kernel csharp."
      ]
     },
     "metadata": {},
     "output_type": "display_data"
    }
   ],
   "source": [
    "#load \"DotNetInteractive.csx\""
   ]
  },
  {
   "cell_type": "code",
   "execution_count": 3,
   "id": "7725ee91",
   "metadata": {
    "vscode": {
     "languageId": "csharp"
    }
   },
   "outputs": [],
   "source": [
    "using Silver;\n",
    "using Silver.Notebooks;"
   ]
  },
  {
   "cell_type": "code",
   "execution_count": null,
   "id": "d6a28488",
   "metadata": {
    "scrolled": true
   },
   "outputs": [],
   "source": [
    "Verifier.VerifyCode(\"foo() {}\")"
   ]
  },
  {
   "cell_type": "code",
   "execution_count": 4,
   "id": "ada3d546",
   "metadata": {},
   "outputs": [
    {
     "data": {
      "text/html": [
       "<table><thead><tr><th>Data</th><th>Attributes</th><th>Children</th></tr></thead><tbody><tr><td><div class=\"dni-plaintext\">foo</div></td><td><div class=\"dni-plaintext\">[  ]</div></td><td><div class=\"dni-plaintext\">[  ]</div></td></tr></tbody></table>"
      ]
     },
     "execution_count": 4,
     "metadata": {},
     "output_type": "execute_result"
    }
   ],
   "source": [
    "using Silver.Drawing;\n",
    "var t = new TreeNode(\"foo\");\n",
    "t"
   ]
  },
  {
   "cell_type": "code",
   "execution_count": 5,
   "id": "ed088c4b",
   "metadata": {
    "scrolled": true
   },
   "outputs": [
    {
     "data": {
      "text/html": [
       "<link rel=\"stylesheet\" href=\"https://cdnjs.cloudflare.com/ajax/libs/jstree/3.2.1/themes/default/style.min.css\" /><div id=\"ea0d8c066d914b538788b257f9beec45\">\r\n",
       "<ul>\r\n",
       "<li>\r\n",
       "foo\r\n",
       "</li>\r\n",
       "\r\n",
       "</ul>\r\n",
       "</div>\r\n",
       "<script>(require.config({ 'paths': { 'jstree' : 'https://cdnjs.cloudflare.com/ajax/libs/jstree/3.2.1/jstree.min' }}) || require)(['jstree'], (jstree) => {$('#ea0d8c066d914b538788b257f9beec45').jstree();});</script>"
      ]
     },
     "execution_count": 5,
     "metadata": {},
     "output_type": "execute_result"
    }
   ],
   "source": [
    "var td = new TreeDiagram(new [] {t});\n",
    "td"
   ]
  },
  {
   "cell_type": "code",
   "execution_count": 6,
   "id": "0ff45114",
   "metadata": {},
   "outputs": [
    {
     "data": {
      "text/html": [
       "<div id=\"392abc2c61b8448891ea3f19acf57295\">\r\n",
       "<ul>\r\n",
       "<li>\r\n",
       "foo\r\n",
       "</li>\r\n",
       "\r\n",
       "</ul>\r\n",
       "</div>\r\n",
       "<script>(require.config({ 'paths': { 'jstree' : 'https://cdnjs.cloudflare.com/ajax/libs/jstree/3.2.1/jstree.min' }}) || require)(['jstree'], (jstree) => {$('#392abc2c61b8448891ea3f19acf57295').jstree();});</script>"
      ]
     },
     "execution_count": 6,
     "metadata": {},
     "output_type": "execute_result"
    }
   ],
   "source": [
    "td"
   ]
  },
  {
   "cell_type": "code",
   "execution_count": 8,
   "id": "d833c49b",
   "metadata": {},
   "outputs": [
    {
     "data": {
      "text/html": [
       "<div id=\"545aa48ff84d469f9a8ad8b6af1b43d3\">\r\n",
       "</div>\r\n",
       "<script>$('#545aa48ff84d469f9a8ad8b6af1b43d3').html(highlighter.codeToHtml(\"function {:bvbuiltin} bv8st(bv8,bv8) returns(bool);\", \"boogie\", \"nord\"));</script>\r\n"
      ]
     },
     "execution_count": 8,
     "metadata": {},
     "output_type": "execute_result"
    }
   ],
   "source": [
    "var gg = new TmHighlightedCode(\"boogie\", \"function {:bvbuiltin} bv8st(bv8,bv8) returns(bool);\");\n",
    "gg"
   ]
  },
  {
   "cell_type": "code",
   "execution_count": null,
   "id": "a95d3498",
   "metadata": {},
   "outputs": [],
   "source": []
  },
  {
   "cell_type": "code",
   "execution_count": null,
   "id": "ec0c8a5a",
   "metadata": {},
   "outputs": [],
   "source": []
  }
 ],
 "metadata": {
  "kernelspec": {
   "display_name": ".NET (C#)",
   "language": "C#",
   "name": ".net-csharp"
  },
  "language_info": {
   "file_extension": ".cs",
   "mimetype": "text/x-csharp",
   "name": "C#",
   "pygments_lexer": "csharp",
   "version": "10.0"
  }
 },
 "nbformat": 4,
 "nbformat_minor": 5
}
