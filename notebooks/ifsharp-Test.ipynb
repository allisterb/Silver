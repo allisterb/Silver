{
 "cells": [
  {
   "cell_type": "code",
   "execution_count": 3,
   "id": "e4e7e90a",
   "metadata": {},
   "outputs": [
    {
     "data": {
      "text/html": [
       "\n",
       "<div class=\"mermaid\">\n",
       "            graph TD \n",
       "            A[Client] --> B[Load Balancer] \n",
       "            B --> C[Server1] \n",
       "            B --> D[Server2]\n",
       "        </div>\n"
      ]
     },
     "metadata": {},
     "output_type": "display_data"
    }
   ],
   "source": [
    "\"\"\"\n",
    "<div class=\"mermaid\">\n",
    "            graph TD \n",
    "            A[Client] --> B[Load Balancer] \n",
    "            B --> C[Server1] \n",
    "            B --> D[Server2]\n",
    "        </div>\n",
    "\"\"\" |> Util.Html |> Display"
   ]
  },
  {
   "cell_type": "code",
   "execution_count": 15,
   "id": "a96912ee",
   "metadata": {},
   "outputs": [
    {
     "data": {
      "text/html": [
       "<script src=\"https://cdnjs.cloudflare.com/ajax/libs/mermaid/6.0.0/mermaid.js\"></script>"
      ]
     },
     "metadata": {},
     "output_type": "display_data"
    }
   ],
   "source": [
    "@\"<script src=\"\"https://cdnjs.cloudflare.com/ajax/libs/mermaid/6.0.0/mermaid.js\"\"></script>\" |> Util.Html |> Display"
   ]
  },
  {
   "cell_type": "code",
   "execution_count": 8,
   "id": "5198bd07",
   "metadata": {},
   "outputs": [
    {
     "data": {
      "text/html": [
       "<script>mermaidAPI.initialize({ startOnLoad: true });</script>"
      ]
     },
     "metadata": {},
     "output_type": "display_data"
    }
   ],
   "source": [
    "@\"<script>mermaidAPI.initialize({ startOnLoad: true });</script>\" |> Util.Html |> Display"
   ]
  },
  {
   "cell_type": "code",
   "execution_count": 16,
   "id": "8d0264c0",
   "metadata": {},
   "outputs": [
    {
     "data": {
      "text/html": [
       "<script>mermaid.initialize({ startOnLoad: true });</script>"
      ]
     },
     "metadata": {},
     "output_type": "display_data"
    }
   ],
   "source": [
    "@\"<script>mermaid.initialize({ startOnLoad: true });</script>\" |> Util.Html |> Display"
   ]
  },
  {
   "cell_type": "code",
   "execution_count": null,
   "id": "ce9462b2",
   "metadata": {},
   "outputs": [],
   "source": []
  }
 ],
 "metadata": {
  "kernelspec": {
   "display_name": "F#",
   "language": "fsharp",
   "name": "ifsharp"
  },
  "language": "fsharp",
  "language_info": {
   "codemirror_mode": "",
   "file_extension": ".fs",
   "mimetype": "text/x-fsharp",
   "name": "fsharp",
   "nbconvert_exporter": "",
   "pygments_lexer": "",
   "version": "4.3.1.0"
  }
 },
 "nbformat": 4,
 "nbformat_minor": 5
}
